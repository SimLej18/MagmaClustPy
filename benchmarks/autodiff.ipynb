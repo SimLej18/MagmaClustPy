{
 "cells": [
  {
   "metadata": {},
   "cell_type": "markdown",
   "source": "# Autodiff benchmarks",
   "id": "d6ffc131eff67d93"
  },
  {
   "metadata": {
    "ExecuteTime": {
     "end_time": "2025-06-23T09:08:24.509161Z",
     "start_time": "2025-06-23T09:08:24.506840Z"
    }
   },
   "cell_type": "code",
   "source": [
    "import jax\n",
    "from jax import numpy as jnp\n",
    "from jax import jit, vmap, grad"
   ],
   "id": "989dfa51ee08ee1c",
   "outputs": [],
   "execution_count": 21
  },
  {
   "metadata": {
    "ExecuteTime": {
     "end_time": "2025-06-23T09:08:24.526339Z",
     "start_time": "2025-06-23T09:08:24.524389Z"
    }
   },
   "cell_type": "code",
   "source": [
    "USE_JIT = True\n",
    "jax.config.update(\"jax_disable_jit\", not USE_JIT)"
   ],
   "id": "8ae47913b82e2fb8",
   "outputs": [],
   "execution_count": 22
  },
  {
   "metadata": {},
   "cell_type": "markdown",
   "source": "## RBF kernel",
   "id": "6693af6fd5d2a8db"
  },
  {
   "cell_type": "code",
   "id": "initial_id",
   "metadata": {
    "collapsed": true,
    "ExecuteTime": {
     "end_time": "2025-06-23T09:08:24.545969Z",
     "start_time": "2025-06-23T09:08:24.543854Z"
    }
   },
   "source": [
    "@jit\n",
    "def rbf_kernel(input1, input2, lengthscale, variance):\n",
    "\t\"\"\"\n",
    "\tCompute the RBF kernel between two inputs.\n",
    "\n",
    "\tArgs:\n",
    "\t\tinput1: First input array.\n",
    "\t\tinput2: Second input array.\n",
    "\t\tlengthscale: Lengthscale parameter of the RBF kernel.\n",
    "\t\tvariance: Variance parameter of the RBF kernel.\n",
    "\n",
    "\tReturns:\n",
    "\t\tKernel value between input1 and input2.\n",
    "\t\"\"\"\n",
    "\tsq_dist = jnp.sum((input1 - input2) ** 2) / (lengthscale ** 2)\n",
    "\treturn variance * jnp.exp(-0.5 * sq_dist)"
   ],
   "outputs": [],
   "execution_count": 23
  },
  {
   "metadata": {
    "ExecuteTime": {
     "end_time": "2025-06-23T09:08:24.562729Z",
     "start_time": "2025-06-23T09:08:24.560776Z"
    }
   },
   "cell_type": "code",
   "source": [
    "# autodiff grad of rbf with respect to lengthscale and variance\n",
    "rbf_kernel_autodiff_grad = jit(grad(rbf_kernel, argnums=(2, 3)))"
   ],
   "id": "bb438cb678749b4c",
   "outputs": [],
   "execution_count": 24
  },
  {
   "metadata": {
    "ExecuteTime": {
     "end_time": "2025-06-23T09:08:24.580246Z",
     "start_time": "2025-06-23T09:08:24.577958Z"
    }
   },
   "cell_type": "code",
   "source": [
    "# explicit computation of the RBF kernel gradient with respect to lengthscale and variance\n",
    "@jit\n",
    "def rbf_kernel_explicit_grad(input1, input2, lengthscale, variance):\n",
    "\t\"\"\"\n",
    "\tCompute the explicit gradient of the RBF kernel with respect to lengthscale and variance.\n",
    "\n",
    "\tArgs:\n",
    "\t\tinput1: First input array.\n",
    "\t\tinput2: Second input array.\n",
    "\t\tlengthscale: Lengthscale parameter of the RBF kernel.\n",
    "\t\tvariance: Variance parameter of the RBF kernel.\n",
    "\n",
    "\tReturns:\n",
    "\t\tTuple of gradients with respect to lengthscale and variance.\n",
    "\t\"\"\"\n",
    "\tsq_dist = jnp.sum((input1 - input2) ** 2) / (lengthscale ** 2)\n",
    "\tdk_dl = variance * jnp.exp(-0.5 * sq_dist) * (sq_dist / lengthscale)\n",
    "\tdk_dv = jnp.exp(-0.5 * sq_dist)\n",
    "\treturn dk_dl, dk_dv"
   ],
   "id": "f079530fcf02eb29",
   "outputs": [],
   "execution_count": 25
  },
  {
   "metadata": {
    "ExecuteTime": {
     "end_time": "2025-06-23T09:08:24.630528Z",
     "start_time": "2025-06-23T09:08:24.595373Z"
    }
   },
   "cell_type": "code",
   "source": "rbf_kernel_autodiff_grad(1, 2, 0.3, 1.)",
   "id": "9fba3a7be3c67df3",
   "outputs": [
    {
     "data": {
      "text/plain": [
       "(Array(0.14318226, dtype=float32, weak_type=True),\n",
       " Array(0.00386592, dtype=float32, weak_type=True))"
      ]
     },
     "execution_count": 26,
     "metadata": {},
     "output_type": "execute_result"
    }
   ],
   "execution_count": 26
  },
  {
   "metadata": {
    "ExecuteTime": {
     "end_time": "2025-06-23T09:08:24.671226Z",
     "start_time": "2025-06-23T09:08:24.643289Z"
    }
   },
   "cell_type": "code",
   "source": "rbf_kernel_explicit_grad(1, 2, 0.3, 1.)",
   "id": "e08b118068a60233",
   "outputs": [
    {
     "data": {
      "text/plain": [
       "(Array(0.14318225, dtype=float32, weak_type=True),\n",
       " Array(0.00386592, dtype=float32, weak_type=True))"
      ]
     },
     "execution_count": 27,
     "metadata": {},
     "output_type": "execute_result"
    }
   ],
   "execution_count": 27
  },
  {
   "metadata": {
    "ExecuteTime": {
     "end_time": "2025-06-23T09:08:35.284958Z",
     "start_time": "2025-06-23T09:08:24.689734Z"
    }
   },
   "cell_type": "code",
   "source": "%timeit rbf_kernel_autodiff_grad(1, 2, 0.3, 1.)[0].block_until_ready()",
   "id": "ddfd13ee143d950f",
   "outputs": [
    {
     "name": "stdout",
     "output_type": "stream",
     "text": [
      "13.1 μs ± 56.4 ns per loop (mean ± std. dev. of 7 runs, 100,000 loops each)\n"
     ]
    }
   ],
   "execution_count": 28
  },
  {
   "metadata": {
    "ExecuteTime": {
     "end_time": "2025-06-23T09:08:45.817860Z",
     "start_time": "2025-06-23T09:08:35.302673Z"
    }
   },
   "cell_type": "code",
   "source": "%timeit rbf_kernel_explicit_grad(1, 2, 0.3, 1.)[0].block_until_ready()",
   "id": "3a3c7b635f5a1161",
   "outputs": [
    {
     "name": "stdout",
     "output_type": "stream",
     "text": [
      "13 μs ± 34.8 ns per loop (mean ± std. dev. of 7 runs, 100,000 loops each)\n"
     ]
    }
   ],
   "execution_count": 29
  },
  {
   "metadata": {},
   "cell_type": "markdown",
   "source": "## Multivariate Normal Log Likelihood\n",
   "id": "15d2faad34d65667"
  },
  {
   "metadata": {
    "ExecuteTime": {
     "end_time": "2025-06-23T09:08:45.852982Z",
     "start_time": "2025-06-23T09:08:45.835053Z"
    }
   },
   "cell_type": "code",
   "source": [
    "x1 = jnp.array([1.0, 2.0, 3.0])\n",
    "x2 = jnp.array([-1.0, 0., 1.0])"
   ],
   "id": "d89c5ce230b84f96",
   "outputs": [],
   "execution_count": 30
  },
  {
   "metadata": {
    "ExecuteTime": {
     "end_time": "2025-06-23T09:08:45.867804Z",
     "start_time": "2025-06-23T09:08:45.865008Z"
    }
   },
   "cell_type": "code",
   "source": [
    "@jit\n",
    "def mvn_log_pdf(x, mu, lengthscale, variance):\n",
    "\t\"\"\"\n",
    "\tCompute the log of a multivariate normal probability density function.\n",
    "\n",
    "\tArgs:\n",
    "\t\tx: Input array.\n",
    "\t\tmu: Mean vector.\n",
    "\t\tsigma: Covariance matrix.\n",
    "\t\tlengthscale: Lengthscale parameter of the covariance matrix.\n",
    "\t\tvariance: Variance parameter of the covariance matrix.\n",
    "\n",
    "\tReturns:\n",
    "\t\tLog probability density value.\n",
    "\t\"\"\"\n",
    "\tcross_cov = vmap(vmap(rbf_kernel, in_axes=(None, 0, None, None)), in_axes=(0, None, None, None))(x, x, lengthscale, variance)\n",
    "\n",
    "\tcov_det = jnp.linalg.det(cross_cov)\n",
    "\tcross_cov_L = jnp.linalg.cholesky(cross_cov)\n",
    "\tz = jnp.linalg.solve(cross_cov_L, x - mu)\n",
    "\n",
    "\tnormalization_term = -0.5 * len(x) * jnp.log(2 * jnp.pi)\n",
    "\tdeterminant_term = -0.5 * jnp.log(cov_det)\n",
    "\tquadratic_term = -0.5 * (z.T @ z)\n",
    "\n",
    "\treturn normalization_term + determinant_term + quadratic_term"
   ],
   "id": "fda5a6c81e59b2d3",
   "outputs": [],
   "execution_count": 31
  },
  {
   "metadata": {
    "ExecuteTime": {
     "end_time": "2025-06-23T09:08:45.883510Z",
     "start_time": "2025-06-23T09:08:45.881165Z"
    }
   },
   "cell_type": "code",
   "source": "mvn_log_pdf_autodiff_grad = jit(grad(mvn_log_pdf, argnums=(2, 3)))",
   "id": "56e1bc74d7f6edf6",
   "outputs": [],
   "execution_count": 32
  },
  {
   "metadata": {
    "ExecuteTime": {
     "end_time": "2025-06-23T09:08:45.902342Z",
     "start_time": "2025-06-23T09:08:45.899349Z"
    }
   },
   "cell_type": "code",
   "source": [
    "@jit\n",
    "def mvn_log_pdf_explicit_grad(x, mu, lengthscale, variance):\n",
    "\t\"\"\"\n",
    "\tCompute the explicit gradient of the multivariate normal log PDF with respect to lengthscale and variance.\n",
    "\n",
    "\tArgs:\n",
    "\t\tx: Input array.\n",
    "\t\tmu: Mean vector.\n",
    "\t\tlengthscale: Lengthscale parameter of the covariance matrix.\n",
    "\t\tvariance: Variance parameter of the covariance matrix.\n",
    "\n",
    "\tReturns:\n",
    "\t\tTuple of gradients with respect to lengthscale and variance.\n",
    "\t\"\"\"\n",
    "\tcross_cov = vmap(vmap(rbf_kernel, in_axes=(None, 0, None, None)), in_axes=(0, None, None, None))(x, x, lengthscale, variance)\n",
    "\tcross_cov_grads = vmap(vmap(rbf_kernel_explicit_grad, in_axes=(None, 0, None, None)), in_axes=(0, None, None, None))(x, x, lengthscale, variance)\n",
    "\tcross_cov_L = jnp.linalg.cholesky(cross_cov)\n",
    "\n",
    "\tz = jnp.linalg.solve(cross_cov_L.T, jnp.linalg.solve(cross_cov_L, x - mu))\n",
    "\tquad_term_l = 0.5 * (z.T @ cross_cov_grads[0] @ z)\n",
    "\tquad_term_v = 0.5 * (z.T @ cross_cov_grads[1] @ z)\n",
    "\n",
    "\t# use solve, but it's exactly the same as `trace(inv(cross_cov) * cross_cov_grads)`\n",
    "\tdet_term_l = -0.5 * jnp.trace(jnp.linalg.solve(cross_cov_L.T, jnp.linalg.solve(cross_cov_L, cross_cov_grads[0])))\n",
    "\tdet_term_v = -0.5 * jnp.trace(jnp.linalg.solve(cross_cov_L.T, jnp.linalg.solve(cross_cov_L, cross_cov_grads[1])))\n",
    "\n",
    "\treturn quad_term_l + det_term_l, quad_term_v + det_term_v"
   ],
   "id": "bdfc18e8014e9381",
   "outputs": [],
   "execution_count": 33
  },
  {
   "metadata": {
    "ExecuteTime": {
     "end_time": "2025-06-23T09:08:46.192607Z",
     "start_time": "2025-06-23T09:08:45.917207Z"
    }
   },
   "cell_type": "code",
   "source": "mvn_log_pdf_autodiff_grad(x1, jnp.array([0.0, 0.0, 0.0]), 0.3, 1.0)",
   "id": "b0b2a693df744dcf",
   "outputs": [
    {
     "data": {
      "text/plain": [
       "(Array(1.1333827, dtype=float32, weak_type=True),\n",
       " Array(5.4692526, dtype=float32, weak_type=True))"
      ]
     },
     "execution_count": 34,
     "metadata": {},
     "output_type": "execute_result"
    }
   ],
   "execution_count": 34
  },
  {
   "metadata": {
    "ExecuteTime": {
     "end_time": "2025-06-23T09:08:46.324032Z",
     "start_time": "2025-06-23T09:08:46.210351Z"
    }
   },
   "cell_type": "code",
   "source": "mvn_log_pdf_explicit_grad(x1, jnp.array([0.0, 0.0, 0.0]), 0.3, 1.0)",
   "id": "8a3446828acd1921",
   "outputs": [
    {
     "data": {
      "text/plain": [
       "(Array(1.1333826, dtype=float32), Array(5.469252, dtype=float32))"
      ]
     },
     "execution_count": 35,
     "metadata": {},
     "output_type": "execute_result"
    }
   ],
   "execution_count": 35
  },
  {
   "metadata": {
    "ExecuteTime": {
     "end_time": "2025-06-23T09:08:51.059858Z",
     "start_time": "2025-06-23T09:08:46.336573Z"
    }
   },
   "cell_type": "code",
   "source": "%timeit mvn_log_pdf_autodiff_grad(x1, jnp.array([0.0, 0.0, 0.0]), 0.3, 1.0)[0].block_until_ready()",
   "id": "967db4a79de1e070",
   "outputs": [
    {
     "name": "stdout",
     "output_type": "stream",
     "text": [
      "58.1 μs ± 399 ns per loop (mean ± std. dev. of 7 runs, 10,000 loops each)\n"
     ]
    }
   ],
   "execution_count": 36
  },
  {
   "metadata": {
    "ExecuteTime": {
     "end_time": "2025-06-23T09:08:55.901539Z",
     "start_time": "2025-06-23T09:08:51.077620Z"
    }
   },
   "cell_type": "code",
   "source": "%timeit mvn_log_pdf_explicit_grad(x1, jnp.array([0.0, 0.0, 0.0]), 0.3, 1.0)[0].block_until_ready()",
   "id": "fe7b9e97da9d78cf",
   "outputs": [
    {
     "name": "stdout",
     "output_type": "stream",
     "text": [
      "59.4 μs ± 367 ns per loop (mean ± std. dev. of 7 runs, 10,000 loops each)\n"
     ]
    }
   ],
   "execution_count": 37
  },
  {
   "metadata": {
    "ExecuteTime": {
     "end_time": "2025-06-23T09:08:56.057384Z",
     "start_time": "2025-06-23T09:08:55.920143Z"
    }
   },
   "cell_type": "code",
   "source": [
    "# On a random, large array\n",
    "x3 = jax.random.uniform(jax.random.PRNGKey(0), (1000,))\n",
    "mu = jnp.zeros_like(x3)"
   ],
   "id": "7e9613d0c27ed26c",
   "outputs": [],
   "execution_count": 38
  },
  {
   "metadata": {
    "ExecuteTime": {
     "end_time": "2025-06-23T09:08:56.454521Z",
     "start_time": "2025-06-23T09:08:56.069904Z"
    }
   },
   "cell_type": "code",
   "source": "%timeit mvn_log_pdf_autodiff_grad(x3, mu, 0.3, 1.0)[0].block_until_ready()",
   "id": "a26b16dc7d19e36a",
   "outputs": [
    {
     "name": "stdout",
     "output_type": "stream",
     "text": [
      "19.4 ms ± 870 μs per loop (mean ± std. dev. of 7 runs, 1 loop each)\n"
     ]
    }
   ],
   "execution_count": 39
  },
  {
   "metadata": {
    "ExecuteTime": {
     "end_time": "2025-06-23T09:09:10.812278Z",
     "start_time": "2025-06-23T09:08:56.466914Z"
    }
   },
   "cell_type": "code",
   "source": "%timeit mvn_log_pdf_explicit_grad(x3, mu, 0.3, 1.0)[0].block_until_ready()",
   "id": "305da02fc0e64559",
   "outputs": [
    {
     "name": "stdout",
     "output_type": "stream",
     "text": [
      "17.6 ms ± 182 μs per loop (mean ± std. dev. of 7 runs, 100 loops each)\n"
     ]
    }
   ],
   "execution_count": 40
  },
  {
   "metadata": {
    "ExecuteTime": {
     "end_time": "2025-06-23T09:09:10.828839Z",
     "start_time": "2025-06-23T09:09:10.827234Z"
    }
   },
   "cell_type": "code",
   "source": "",
   "id": "89e0e3838c056730",
   "outputs": [],
   "execution_count": null
  }
 ],
 "metadata": {
  "kernelspec": {
   "display_name": "Python 3",
   "language": "python",
   "name": "python3"
  },
  "language_info": {
   "codemirror_mode": {
    "name": "ipython",
    "version": 2
   },
   "file_extension": ".py",
   "mimetype": "text/x-python",
   "name": "python",
   "nbconvert_exporter": "python",
   "pygments_lexer": "ipython2",
   "version": "2.7.6"
  }
 },
 "nbformat": 4,
 "nbformat_minor": 5
}
