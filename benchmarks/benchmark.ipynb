{
 "cells": [
  {
   "metadata": {},
   "cell_type": "markdown",
   "source": [
    "# Benchmark notebook\n",
    "\n",
    "This notebook evaluates the speed gain of this Python translation by performing the whole train+predict pipeline on common toy datasets."
   ],
   "id": "962c768d99835097"
  },
  {
   "metadata": {},
   "cell_type": "markdown",
   "source": [
    "---\n",
    "\n",
    "## Setup"
   ],
   "id": "b0ebee4717940c77"
  },
  {
   "metadata": {
    "ExecuteTime": {
     "end_time": "2025-03-14T07:50:39.837184Z",
     "start_time": "2025-03-14T07:50:38.833322Z"
    }
   },
   "cell_type": "code",
   "source": [
    "import os\n",
    "\n",
    "os.environ['JAX_ENABLE_X64'] = \"True\"\n",
    "\n",
    "import time\n",
    "\n",
    "from jax import jit, vmap, lax\n",
    "import jax.numpy as jnp\n",
    "import jax.scipy as jsp\n",
    "from jax.scipy.linalg import cho_solve, cho_factor\n",
    "from jax.scipy.optimize import minimize\n",
    "from jax.scipy.stats.multivariate_normal import logpdf\n",
    "\n",
    "import pandas as pd\n",
    "\n",
    "from MagmaClustPy.kernels import SEMagmaKernel\n",
    "from MagmaClustPy.hyperpost import hyperpost\n",
    "from MagmaClustPy.hp_optimisation import optimise_hyperparameters\n",
    "from MagmaClustPy.utils import preprocess_db"
   ],
   "id": "7068ce6d2aa8e01d",
   "outputs": [],
   "execution_count": 1
  },
  {
   "metadata": {
    "ExecuteTime": {
     "end_time": "2025-03-14T07:50:39.852114Z",
     "start_time": "2025-03-14T07:50:39.849875Z"
    }
   },
   "cell_type": "code",
   "source": [
    "MAX_ITER = 25\n",
    "CONVERG_THRESHOLD = 1e-3\n",
    "nugget = jnp.array(1e-6)"
   ],
   "id": "905141a8267ee767",
   "outputs": [],
   "execution_count": 2
  },
  {
   "metadata": {
    "ExecuteTime": {
     "end_time": "2025-03-14T07:50:40.012722Z",
     "start_time": "2025-03-14T07:50:39.945622Z"
    }
   },
   "cell_type": "code",
   "source": [
    "dataset = \"small\"\n",
    "grids = {\n",
    "\t\"small\": jnp.arange(-10, 10, 0.5),\n",
    "\t\"medium\": jnp.arange(-100, 100, 0.5),\n",
    "\t\"large\": jnp.arange(-500, 500, 0.5),\n",
    "\t\"custom\": jnp.arange(-20, 20, 0.5)\n",
    "}\n",
    "grid = grids[dataset] if dataset in grids else grids[\"custom\"]\n",
    "common_input = True\n",
    "common_hp = True"
   ],
   "id": "fc4b15d05dbc405d",
   "outputs": [],
   "execution_count": 3
  },
  {
   "metadata": {},
   "cell_type": "markdown",
   "source": [
    "---\n",
    "\n",
    "## Start timer"
   ],
   "id": "a9f5f11bafdb69be"
  },
  {
   "metadata": {
    "ExecuteTime": {
     "end_time": "2025-03-14T07:50:40.028716Z",
     "start_time": "2025-03-14T07:50:40.026708Z"
    }
   },
   "cell_type": "code",
   "source": "start = time.time()",
   "id": "a977dc83979040a2",
   "outputs": [],
   "execution_count": 4
  },
  {
   "metadata": {},
   "cell_type": "markdown",
   "source": [
    "---\n",
    "\n",
    "## Data import"
   ],
   "id": "2e52dede973e84f9"
  },
  {
   "metadata": {
    "ExecuteTime": {
     "end_time": "2025-03-14T07:50:40.044145Z",
     "start_time": "2025-03-14T07:50:40.038507Z"
    }
   },
   "cell_type": "code",
   "source": [
    "db = pd.read_csv(f\"./dummy_datasets/{dataset}_{'common_input' if common_input else 'distinct_input'}_{'common_hp' if common_hp else 'distinct_hp'}.csv\")\n",
    "# db has 3 columns: ID, Input, Output"
   ],
   "id": "4029845efb88d613",
   "outputs": [],
   "execution_count": 5
  },
  {
   "metadata": {
    "ExecuteTime": {
     "end_time": "2025-03-14T07:50:40.058392Z",
     "start_time": "2025-03-14T07:50:40.054474Z"
    }
   },
   "cell_type": "code",
   "source": [
    "# First 90% of IDs are for training, last 10% for testing\n",
    "train_ids = db[\"ID\"].unique()[:int(0.9 * db[\"ID\"].nunique())]\n",
    "test_ids = db[\"ID\"].unique()[int(0.9 * db[\"ID\"].nunique()):]\n",
    "\n",
    "db_train = db[db[\"ID\"].isin(train_ids)]\n",
    "db_test = db[db[\"ID\"].isin(test_ids)]\n",
    "\n",
    "# N.b: data is already sort by ID and Input in the toy datasets, but in a real case scenario, we would need to sort it"
   ],
   "id": "f834da57adb83ea3",
   "outputs": [],
   "execution_count": 6
  },
  {
   "metadata": {},
   "cell_type": "markdown",
   "source": [
    "---\n",
    "\n",
    "## Data preprocessing"
   ],
   "id": "25c50cd3b2840c90"
  },
  {
   "metadata": {
    "ExecuteTime": {
     "end_time": "2025-03-14T07:50:40.706029Z",
     "start_time": "2025-03-14T07:50:40.076939Z"
    }
   },
   "cell_type": "code",
   "source": [
    "# We need to convert the dataframe into jax arrays\n",
    "# inputs: (M, N) timestamps\n",
    "# outputs: (M, N) observed outputs\n",
    "# unique_inputs: (P,) unique timestamps (if common_input, P = N)\n",
    "all_inputs_train, padded_inputs_train, padded_outputs_train, masks_train = preprocess_db(db_train)\n",
    "all_inputs_train.shape, padded_inputs_train.shape"
   ],
   "id": "acdfa8d01a68148c",
   "outputs": [
    {
     "data": {
      "text/plain": [
       "((15,), (18, 15))"
      ]
     },
     "execution_count": 7,
     "metadata": {},
     "output_type": "execute_result"
    }
   ],
   "execution_count": 7
  },
  {
   "metadata": {},
   "cell_type": "markdown",
   "source": [
    "---\n",
    "\n",
    "## Training"
   ],
   "id": "dc737367d4fe304a"
  },
  {
   "metadata": {
    "ExecuteTime": {
     "end_time": "2025-03-14T07:50:40.724093Z",
     "start_time": "2025-03-14T07:50:40.720412Z"
    }
   },
   "cell_type": "code",
   "source": [
    "# Priors\n",
    "prior_mean = jnp.array(0.)\n",
    "mean_kernel = SEMagmaKernel(length_scale=0.9, variance=1.5)\n",
    "\n",
    "if common_hp:\n",
    "\ttask_kernel = SEMagmaKernel(length_scale=0.3, variance=1.)\n",
    "else:\n",
    "\ttask_kernel = SEMagmaKernel(length_scale=jnp.array([0.3] * padded_inputs_train.shape[0]), variance=jnp.array([1.] * padded_inputs_train.shape[0]))"
   ],
   "id": "1c9ccf5234311280",
   "outputs": [],
   "execution_count": 8
  },
  {
   "metadata": {
    "ExecuteTime": {
     "end_time": "2025-03-14T07:51:34.703066Z",
     "start_time": "2025-03-14T07:50:40.757094Z"
    }
   },
   "cell_type": "code",
   "source": [
    "prev_mean_llh = jnp.inf\n",
    "prev_task_llh = jnp.inf\n",
    "\n",
    "for i in range(MAX_ITER):\n",
    "\tprint(f\"Iteration {i:4}\\tLlhs: {prev_mean_llh:12.4f}, {prev_task_llh:12.4f}\\tMean: {mean_kernel}\\t Task: {task_kernel}\")\n",
    "\t# e-step: compute hyper-posterior\n",
    "\tpost_mean, post_cov = hyperpost(padded_inputs_train, padded_outputs_train, masks_train, prior_mean, mean_kernel, task_kernel, all_inputs=all_inputs_train, nugget=nugget)\n",
    "\n",
    "\t# m-step: update hyperparameters\n",
    "\tmean_kernel, task_kernel, mean_llh, task_llh = optimise_hyperparameters(mean_kernel, task_kernel, padded_inputs_train, padded_outputs_train, all_inputs_train, prior_mean, post_mean, post_cov, masks_train, nugget=nugget)\n",
    "\n",
    "\t# Check convergence\n",
    "\tif jnp.abs(prev_mean_llh - mean_llh) < CONVERG_THRESHOLD and jnp.abs(prev_task_llh - task_llh) < CONVERG_THRESHOLD:\n",
    "\t\tprint(f\"Convergence reached after {i} iterations.\\tLlhs: {mean_llh:12.4f}, {task_llh:12.4f}\\tMean: {mean_kernel}\\t Task: {task_kernel}\")\n",
    "\t\tbreak\n",
    "\n",
    "\tif i == MAX_ITER - 1:\n",
    "\t\tprint(f\"WARNING: Maximum number of iterations reached. Last modif: {jnp.abs(prev_mean_llh - mean_llh).item()} & {jnp.abs(prev_task_llh - task_llh).item()}\")\n",
    "\n",
    "\tprev_mean_llh = mean_llh\n",
    "\tprev_task_llh = task_llh"
   ],
   "id": "50b9f3d8c807f51b",
   "outputs": [
    {
     "name": "stdout",
     "output_type": "stream",
     "text": [
      "Iteration    0\tLlhs:          inf,          inf\tMean: SEMagmaKernel(length_scale=0.9, variance=1.5)\t Task: SEMagmaKernel(length_scale=0.3, variance=1.0)\n",
      "Iteration    1\tLlhs:      53.1633, 29768226375863459117006848.0000\tMean: SEMagmaKernel(length_scale=1.083940058105724, variance=6.171792930276515)\t Task: SEMagmaKernel(length_scale=1.2999720349727222, variance=1.0074785876014987)\n",
      "Iteration    2\tLlhs:      54.8903,   32057.1045\tMean: SEMagmaKernel(length_scale=0.9883446383339876, variance=6.24711033663178)\t Task: SEMagmaKernel(length_scale=2.7684807525772075, variance=15.36753159080174)\n",
      "Iteration    3\tLlhs:      54.1757,   32036.9198\tMean: SEMagmaKernel(length_scale=0.8816390098356836, variance=5.993002970966149)\t Task: SEMagmaKernel(length_scale=2.780984725134694, variance=15.32805067880792)\n",
      "Iteration    4\tLlhs:      52.9538,   31910.4342\tMean: SEMagmaKernel(length_scale=0.8242526734854575, variance=5.750857118472989)\t Task: SEMagmaKernel(length_scale=2.788835660182731, variance=15.247247878733955)\n",
      "Iteration    5\tLlhs:      51.7229,   31782.2398\tMean: SEMagmaKernel(length_scale=0.7712640768274982, variance=5.516986479004092)\t Task: SEMagmaKernel(length_scale=2.796382777177572, variance=15.166435361188947)\n",
      "Iteration    6\tLlhs:      50.5293,   31656.7737\tMean: SEMagmaKernel(length_scale=0.7182056291251927, variance=5.29107209854852)\t Task: SEMagmaKernel(length_scale=2.803811253742034, variance=15.087401298592651)\n",
      "Iteration    7\tLlhs:      49.3780,   31534.5974\tMean: SEMagmaKernel(length_scale=0.6648194191629474, variance=5.073452819727741)\t Task: SEMagmaKernel(length_scale=2.811123772024255, variance=15.010435797456335)\n",
      "Iteration    8\tLlhs:      48.2719,   31415.8263\tMean: SEMagmaKernel(length_scale=0.6112505604658075, variance=4.864563394202804)\t Task: SEMagmaKernel(length_scale=2.818267691089587, variance=14.935521758252916)\n",
      "Iteration    9\tLlhs:      47.2143,   31300.9628\tMean: SEMagmaKernel(length_scale=0.5585542093592785, variance=4.665330398438471)\t Task: SEMagmaKernel(length_scale=2.8252516412145208, variance=14.863064071756645)\n",
      "Iteration   10\tLlhs:      46.2079,   31190.0087\tMean: SEMagmaKernel(length_scale=0.5045740097830943, variance=4.476371147289164)\t Task: SEMagmaKernel(length_scale=2.8320547982445676, variance=14.793056479783035)\n",
      "Iteration   11\tLlhs:      45.2597,   31083.3854\tMean: SEMagmaKernel(length_scale=0.45236906233653035, variance=4.297041544351356)\t Task: SEMagmaKernel(length_scale=2.838648864467958, variance=14.725760274799189)\n",
      "Iteration   12\tLlhs:      44.3639,   30981.0693\tMean: SEMagmaKernel(length_scale=0.40012541888189446, variance=4.1285319231253945)\t Task: SEMagmaKernel(length_scale=2.8450249667041345, variance=14.661168632027724)\n",
      "Iteration   13\tLlhs:      43.5280,   30883.4085\tMean: SEMagmaKernel(length_scale=0.34947921662051973, variance=3.970864711055366)\t Task: SEMagmaKernel(length_scale=2.8511575701577754, variance=14.599499419907469)\n",
      "Iteration   14\tLlhs:      42.7511,   30790.5433\tMean: SEMagmaKernel(length_scale=0.30021738137830434, variance=3.824337412938703)\t Task: SEMagmaKernel(length_scale=2.8570366332454387, variance=14.540805892183911)\n",
      "Iteration   15\tLlhs:      42.0348,   30702.5075\tMean: SEMagmaKernel(length_scale=0.25277849862017526, variance=3.689167051165157)\t Task: SEMagmaKernel(length_scale=2.862646322741925, variance=14.485174545286505)\n",
      "Iteration   16\tLlhs:      41.3797,   30619.4961\tMean: SEMagmaKernel(length_scale=0.20750637817108794, variance=3.565453964618184)\t Task: SEMagmaKernel(length_scale=2.8679676936846707, variance=14.432728125963799)\n",
      "Iteration   17\tLlhs:      40.7857,   30541.6805\tMean: SEMagmaKernel(length_scale=0.16473531806849712, variance=3.4531731942282247)\t Task: SEMagmaKernel(length_scale=2.8729936563655434, variance=14.38351069226086)\n",
      "Iteration   18\tLlhs:      40.2519,   30468.9741\tMean: SEMagmaKernel(length_scale=0.12476461303362564, variance=3.35216935034537)\t Task: SEMagmaKernel(length_scale=2.877718623890074, variance=14.33751112354202)\n",
      "Iteration   19\tLlhs:      39.7768,   30401.4607\tMean: SEMagmaKernel(length_scale=0.08784384618433161, variance=3.2621573937395425)\t Task: SEMagmaKernel(length_scale=2.8821276309065995, variance=14.294812812785677)\n",
      "Iteration   20\tLlhs:      39.3582,   30339.0405\tMean: SEMagmaKernel(length_scale=0.054156919990642184, variance=3.182721662104171)\t Task: SEMagmaKernel(length_scale=2.8862306491836986, variance=14.255323676921659)\n",
      "Iteration   21\tLlhs:      38.9931,   30281.7591\tMean: SEMagmaKernel(length_scale=0.023813716173658107, variance=3.1133350993137543)\t Task: SEMagmaKernel(length_scale=2.890016034151153, variance=14.219043444517878)\n",
      "Iteration   22\tLlhs:      38.6781,   30229.3413\tMean: SEMagmaKernel(length_scale=-0.003157164443390429, variance=3.0533652670868365)\t Task: SEMagmaKernel(length_scale=2.893493426360415, variance=14.185880491600239)\n",
      "Iteration   23\tLlhs:      38.4094,   30181.8465\tMean: SEMagmaKernel(length_scale=-0.02680684496635877, variance=3.0021018595998474)\t Task: SEMagmaKernel(length_scale=2.8966577555623334, variance=14.155800240895516)\n",
      "Iteration   24\tLlhs:      38.1827,   30138.9412\tMean: SEMagmaKernel(length_scale=-0.04726064909322122, variance=2.9587715217084427)\t Task: SEMagmaKernel(length_scale=2.8995320734725065, variance=14.128610987917424)\n",
      "WARNING: Maximum number of iterations reached. Last modif: 0.18804243737761794 & 38.56726826683007\n"
     ]
    }
   ],
   "execution_count": 9
  },
  {
   "metadata": {},
   "cell_type": "markdown",
   "source": [
    "---\n",
    "\n",
    "## Prediction"
   ],
   "id": "90de8c0b7b3db436"
  },
  {
   "metadata": {
    "ExecuteTime": {
     "end_time": "2025-03-14T07:51:34.791476Z",
     "start_time": "2025-03-14T07:51:34.790082Z"
    }
   },
   "cell_type": "code",
   "source": "",
   "id": "66420b115921cdaf",
   "outputs": [],
   "execution_count": null
  },
  {
   "metadata": {
    "ExecuteTime": {
     "end_time": "2025-03-14T07:51:34.842155Z",
     "start_time": "2025-03-14T07:51:34.840286Z"
    }
   },
   "cell_type": "code",
   "source": "",
   "id": "425f05bceebf211b",
   "outputs": [],
   "execution_count": null
  },
  {
   "metadata": {},
   "cell_type": "markdown",
   "source": [
    "---\n",
    "\n",
    "## End timer"
   ],
   "id": "476280134e1bc03d"
  },
  {
   "metadata": {
    "ExecuteTime": {
     "end_time": "2025-03-14T07:51:34.894982Z",
     "start_time": "2025-03-14T07:51:34.891591Z"
    }
   },
   "cell_type": "code",
   "source": "end = time.time()",
   "id": "692e7da8aadbbf8f",
   "outputs": [],
   "execution_count": 10
  },
  {
   "metadata": {
    "ExecuteTime": {
     "end_time": "2025-03-14T07:51:34.959915Z",
     "start_time": "2025-03-14T07:51:34.956952Z"
    }
   },
   "cell_type": "code",
   "source": "print(f\"Magma finished in {end - start}s\")",
   "id": "51950ffdb059c39d",
   "outputs": [
    {
     "name": "stdout",
     "output_type": "stream",
     "text": [
      "Magma finished in 54.86550998687744s\n"
     ]
    }
   ],
   "execution_count": 11
  }
 ],
 "metadata": {
  "kernelspec": {
   "display_name": "Python 3",
   "language": "python",
   "name": "python3"
  },
  "language_info": {
   "codemirror_mode": {
    "name": "ipython",
    "version": 2
   },
   "file_extension": ".py",
   "mimetype": "text/x-python",
   "name": "python",
   "nbconvert_exporter": "python",
   "pygments_lexer": "ipython2",
   "version": "2.7.6"
  }
 },
 "nbformat": 4,
 "nbformat_minor": 5
}
