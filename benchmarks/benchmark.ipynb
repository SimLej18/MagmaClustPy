{
 "cells": [
  {
   "metadata": {},
   "cell_type": "markdown",
   "source": [
    "# Benchmark notebook\n",
    "\n",
    "This notebook evaluates the speed gain of this Python translation by performing the whole train+predict pipeline on common toy datasets."
   ],
   "id": "962c768d99835097"
  },
  {
   "metadata": {},
   "cell_type": "markdown",
   "source": [
    "---\n",
    "\n",
    "## Setup"
   ],
   "id": "b0ebee4717940c77"
  },
  {
   "metadata": {
    "ExecuteTime": {
     "end_time": "2025-06-16T12:35:19.742024Z",
     "start_time": "2025-06-16T12:35:19.735784Z"
    }
   },
   "cell_type": "code",
   "source": [
    "USE_JIT = False\n",
    "USE_X64 = False\n",
    "DEBUG_NANS = False\n",
    "VERBOSE = False"
   ],
   "id": "6504ddcedf28d9e0",
   "outputs": [],
   "execution_count": 1
  },
  {
   "metadata": {
    "ExecuteTime": {
     "end_time": "2025-06-16T12:35:20.717279Z",
     "start_time": "2025-06-16T12:35:19.863245Z"
    }
   },
   "cell_type": "code",
   "source": [
    "import os\n",
    "\n",
    "os.environ['JAX_ENABLE_X64'] = \"True\"\n",
    "\n",
    "import time\n",
    "\n",
    "import jax\n",
    "jax.config.update(\"jax_disable_jit\", not USE_JIT)\n",
    "jax.config.update(\"jax_debug_nans\", DEBUG_NANS)\n",
    "from jax import jit, vmap, lax\n",
    "import jax.numpy as jnp\n",
    "import jax.scipy as jsp\n",
    "from jax.scipy.linalg import cho_solve, cho_factor\n",
    "from jax.scipy.optimize import minimize\n",
    "from jax.scipy.stats.multivariate_normal import logpdf\n",
    "\n",
    "import pandas as pd\n",
    "\n",
    "from MagmaClustPy.kernels import SEMagmaKernel, NoisySEMagmaKernel\n",
    "from MagmaClustPy.hyperpost import hyperpost\n",
    "from MagmaClustPy.hp_optimisation import optimise_hyperparameters\n",
    "from MagmaClustPy.utils import preprocess_db"
   ],
   "id": "7068ce6d2aa8e01d",
   "outputs": [],
   "execution_count": 2
  },
  {
   "metadata": {
    "ExecuteTime": {
     "end_time": "2025-06-16T12:35:20.727692Z",
     "start_time": "2025-06-16T12:35:20.725631Z"
    }
   },
   "cell_type": "code",
   "source": [
    "MAX_ITER = 25\n",
    "CONVERG_THRESHOLD = 1e-3\n",
    "nugget = jnp.array(1e-6)"
   ],
   "id": "905141a8267ee767",
   "outputs": [],
   "execution_count": 3
  },
  {
   "metadata": {
    "ExecuteTime": {
     "end_time": "2025-06-16T12:35:20.803041Z",
     "start_time": "2025-06-16T12:35:20.746530Z"
    }
   },
   "cell_type": "code",
   "source": [
    "dataset = \"medium\"\n",
    "grids = {\n",
    "\t\"small\": jnp.arange(-10, 10, 0.5),\n",
    "\t\"medium\": jnp.arange(-100, 100, 0.5),\n",
    "\t\"large\": jnp.arange(-500, 500, 0.5),\n",
    "\t\"custom\": jnp.arange(-20, 20, 0.5)\n",
    "}\n",
    "grid = grids[dataset] if dataset in grids else grids[\"custom\"]\n",
    "common_input = False\n",
    "common_hp = True"
   ],
   "id": "fc4b15d05dbc405d",
   "outputs": [],
   "execution_count": 4
  },
  {
   "metadata": {},
   "cell_type": "markdown",
   "source": [
    "---\n",
    "\n",
    "## Start timer"
   ],
   "id": "a9f5f11bafdb69be"
  },
  {
   "metadata": {
    "ExecuteTime": {
     "end_time": "2025-06-16T12:35:20.815672Z",
     "start_time": "2025-06-16T12:35:20.813233Z"
    }
   },
   "cell_type": "code",
   "source": "start = time.time()",
   "id": "a977dc83979040a2",
   "outputs": [],
   "execution_count": 5
  },
  {
   "metadata": {},
   "cell_type": "markdown",
   "source": [
    "---\n",
    "\n",
    "## Data import"
   ],
   "id": "2e52dede973e84f9"
  },
  {
   "metadata": {
    "ExecuteTime": {
     "end_time": "2025-06-16T12:35:20.856489Z",
     "start_time": "2025-06-16T12:35:20.836751Z"
    }
   },
   "cell_type": "code",
   "source": [
    "db = pd.read_csv(f\"../dummy_datasets/{dataset}_{'common_input' if common_input else 'distinct_input'}_{'common_hp' if common_hp else 'distinct_hp'}.csv\")\n",
    "# db has 3 columns: ID, Input, Output"
   ],
   "id": "4029845efb88d613",
   "outputs": [],
   "execution_count": 6
  },
  {
   "metadata": {
    "ExecuteTime": {
     "end_time": "2025-06-16T12:35:20.880563Z",
     "start_time": "2025-06-16T12:35:20.876304Z"
    }
   },
   "cell_type": "code",
   "source": [
    "# First 90% of IDs are for training, last 10% for testing\n",
    "train_ids = db[\"ID\"].unique()[:int(0.9 * db[\"ID\"].nunique())]\n",
    "test_ids = db[\"ID\"].unique()[int(0.9 * db[\"ID\"].nunique()):]\n",
    "\n",
    "db_train = db[db[\"ID\"].isin(train_ids)]\n",
    "db_test = db[db[\"ID\"].isin(test_ids)]\n",
    "\n",
    "# N.b: data is already sort by ID and Input in the toy datasets, but in a real case scenario, we would need to sort it"
   ],
   "id": "f834da57adb83ea3",
   "outputs": [],
   "execution_count": 7
  },
  {
   "metadata": {},
   "cell_type": "markdown",
   "source": [
    "---\n",
    "\n",
    "## Data preprocessing"
   ],
   "id": "25c50cd3b2840c90"
  },
  {
   "metadata": {
    "ExecuteTime": {
     "end_time": "2025-06-16T12:39:36.983452Z",
     "start_time": "2025-06-16T12:35:20.905509Z"
    }
   },
   "cell_type": "code",
   "source": [
    "# We need to convert the dataframe into jax arrays\n",
    "# inputs: (M, N) timestamps\n",
    "# outputs: (M, N) observed outputs\n",
    "# unique_inputs: (P,) unique timestamps (if common_input, P = N)\n",
    "all_inputs_train, padded_inputs_train, padded_outputs_train, masks_train = preprocess_db(db_train)\n",
    "all_inputs_train.shape, padded_inputs_train.shape"
   ],
   "id": "acdfa8d01a68148c",
   "outputs": [
    {
     "data": {
      "text/plain": [
       "((401,), (180, 401))"
      ]
     },
     "execution_count": 8,
     "metadata": {},
     "output_type": "execute_result"
    }
   ],
   "execution_count": 8
  },
  {
   "metadata": {},
   "cell_type": "markdown",
   "source": [
    "---\n",
    "\n",
    "## Training"
   ],
   "id": "dc737367d4fe304a"
  },
  {
   "metadata": {
    "ExecuteTime": {
     "end_time": "2025-06-16T12:39:37.065224Z",
     "start_time": "2025-06-16T12:39:37.026577Z"
    }
   },
   "cell_type": "code",
   "source": [
    "# Priors\n",
    "prior_mean = jnp.zeros_like(all_inputs_train)\n",
    "mean_kernel = SEMagmaKernel(length_scale=0.9, variance=1.5)\n",
    "\n",
    "if common_hp:\n",
    "\ttask_kernel = NoisySEMagmaKernel(length_scale=0.3, variance=1., noise=-2.5)\n",
    "else:\n",
    "\ttask_kernel = NoisySEMagmaKernel(length_scale=jnp.array([0.3] * padded_inputs_train.shape[0]), variance=jnp.array([1.] * padded_inputs_train.shape[0]), noise=jnp.array([-2.5] * padded_inputs_train.shape[0]))"
   ],
   "id": "1c9ccf5234311280",
   "outputs": [],
   "execution_count": 9
  },
  {
   "metadata": {
    "ExecuteTime": {
     "end_time": "2025-06-16T12:52:06.286079Z",
     "start_time": "2025-06-16T12:39:37.142253Z"
    }
   },
   "cell_type": "code",
   "source": [
    "prev_mean_llh = jnp.inf\n",
    "prev_task_llh = jnp.inf\n",
    "conv_ratio = jnp.inf\n",
    "\n",
    "for i in range(MAX_ITER):\n",
    "\tprint(f\"Iteration {i:4}\\tLlhs: {prev_mean_llh:12.4f}, {prev_task_llh:12.4f}\\tConv. Ratio: {conv_ratio:.5f}\\t\\n\\tMean: {mean_kernel}\\t\\n\\tTask: {task_kernel}\")\n",
    "\t# e-step: compute hyper-posterior\n",
    "\tpost_mean, post_cov = hyperpost(padded_inputs_train, padded_outputs_train, masks_train, prior_mean, mean_kernel, task_kernel, all_inputs=all_inputs_train, nugget=nugget)\n",
    "\n",
    "\t# m-step: update hyperparameters\n",
    "\tmean_kernel, task_kernel, mean_llh, task_llh = optimise_hyperparameters(mean_kernel, task_kernel, padded_inputs_train, padded_outputs_train, all_inputs_train, prior_mean, post_mean, post_cov, masks_train, nugget=nugget, verbose=VERBOSE)\n",
    "\n",
    "\t# Check convergence\n",
    "\tif i > 0:\n",
    "\t\tconv_ratio = jnp.abs((prev_mean_llh + prev_task_llh) - (mean_llh + task_llh)) / jnp.abs(prev_mean_llh + prev_task_llh)\n",
    "\t\tif conv_ratio < CONVERG_THRESHOLD:\n",
    "\t\t\tprint(f\"Convergence reached after {i+1} iterations.\\tLlhs: {mean_llh:12.4f}, {task_llh:12.4f}\\n\\tMean: {mean_kernel}\\n\\tTask: {task_kernel}\")\n",
    "\t\t\tbreak\n",
    "\n",
    "\tif i == MAX_ITER - 1:\n",
    "\t\tprint(f\"WARNING: Maximum number of iterations reached.\\nLast modif: {jnp.abs(prev_mean_llh - mean_llh).item()} & {jnp.abs(prev_task_llh - task_llh).item()}\")\n",
    "\n",
    "\tprev_mean_llh = mean_llh\n",
    "\tprev_task_llh = task_llh"
   ],
   "id": "50b9f3d8c807f51b",
   "outputs": [
    {
     "name": "stdout",
     "output_type": "stream",
     "text": [
      "Iteration    0\tLlhs:          inf,          inf\tConv. Ratio: inf\t\n",
      "\tMean: SEMagmaKernel(length_scale=0.9, variance=1.5)\t\n",
      "\tTask: NoisySEMagmaKernel(length_scale=0.3, variance=1.0, noise=-2.5)\n",
      "Iteration    1\tLlhs:    -198.0484,   56115.7662\tConv. Ratio: inf\t\n",
      "\tMean: SEMagmaKernel(length_scale=1.2098930944930604, variance=8.319065609609732)\t\n",
      "\tTask: NoisySEMagmaKernel(length_scale=0.07597190957605063, variance=1.9559938513937851, noise=-21.40569038932008)\n",
      "Iteration    2\tLlhs:     -72.5225,   54086.0986\tConv. Ratio: 0.03405\t\n",
      "\tMean: SEMagmaKernel(length_scale=1.0722462971025173, variance=8.30120850133376)\t\n",
      "\tTask: NoisySEMagmaKernel(length_scale=0.12571311970769564, variance=1.9337627685831362, noise=-21.40569054413874)\n",
      "Iteration    3\tLlhs:      18.9642,   53320.9312\tConv. Ratio: 0.01247\t\n",
      "\tMean: SEMagmaKernel(length_scale=0.9623458796153699, variance=8.163984275794185)\t\n",
      "\tTask: NoisySEMagmaKernel(length_scale=0.15328585297423772, variance=1.9433262349778804, noise=-21.40569067263648)\n",
      "Iteration    4\tLlhs:      77.4711,   53082.4034\tConv. Ratio: 0.00337\t\n",
      "\tMean: SEMagmaKernel(length_scale=0.8932566932226006, variance=8.065583492207645)\t\n",
      "\tTask: NoisySEMagmaKernel(length_scale=0.16398796580340172, variance=1.950640971501767, noise=-21.405690801420768)\n",
      "Convergence reached after 5 iterations.\tLlhs:     114.1700,   53006.1887\n",
      "\tMean: SEMagmaKernel(length_scale=0.8521603670903843, variance=8.01290837588012)\n",
      "\tTask: NoisySEMagmaKernel(length_scale=0.16788034820274, variance=1.9539484676009782, noise=-21.405690940665213)\n"
     ]
    }
   ],
   "execution_count": 10
  },
  {
   "metadata": {},
   "cell_type": "markdown",
   "source": [
    "---\n",
    "\n",
    "## Prediction"
   ],
   "id": "90de8c0b7b3db436"
  },
  {
   "metadata": {
    "ExecuteTime": {
     "end_time": "2025-06-16T12:52:06.402275Z",
     "start_time": "2025-06-16T12:52:06.400203Z"
    }
   },
   "cell_type": "code",
   "source": "",
   "id": "66420b115921cdaf",
   "outputs": [],
   "execution_count": null
  },
  {
   "metadata": {
    "ExecuteTime": {
     "end_time": "2025-06-16T12:52:06.462711Z",
     "start_time": "2025-06-16T12:52:06.460269Z"
    }
   },
   "cell_type": "code",
   "source": "",
   "id": "425f05bceebf211b",
   "outputs": [],
   "execution_count": null
  },
  {
   "metadata": {},
   "cell_type": "markdown",
   "source": [
    "---\n",
    "\n",
    "## End timer"
   ],
   "id": "476280134e1bc03d"
  },
  {
   "metadata": {
    "ExecuteTime": {
     "end_time": "2025-06-16T12:52:06.501715Z",
     "start_time": "2025-06-16T12:52:06.499141Z"
    }
   },
   "cell_type": "code",
   "source": "end = time.time()",
   "id": "692e7da8aadbbf8f",
   "outputs": [],
   "execution_count": 11
  },
  {
   "metadata": {
    "ExecuteTime": {
     "end_time": "2025-06-16T12:52:06.537394Z",
     "start_time": "2025-06-16T12:52:06.534685Z"
    }
   },
   "cell_type": "code",
   "source": "print(f\"Magma finished in {end - start}s\")",
   "id": "51950ffdb059c39d",
   "outputs": [
    {
     "name": "stdout",
     "output_type": "stream",
     "text": [
      "Magma finished in 1005.6860840320587s\n"
     ]
    }
   ],
   "execution_count": 12
  }
 ],
 "metadata": {
  "kernelspec": {
   "display_name": "Python 3",
   "language": "python",
   "name": "python3"
  },
  "language_info": {
   "codemirror_mode": {
    "name": "ipython",
    "version": 2
   },
   "file_extension": ".py",
   "mimetype": "text/x-python",
   "name": "python",
   "nbconvert_exporter": "python",
   "pygments_lexer": "ipython2",
   "version": "2.7.6"
  }
 },
 "nbformat": 4,
 "nbformat_minor": 5
}
