{
 "cells": [
  {
   "metadata": {},
   "cell_type": "markdown",
   "source": [
    "# Benchmark notebook\n",
    "\n",
    "This notebook evaluates the speed gain of this Python translation by performing the whole train+predict pipeline on shared toy datasets."
   ],
   "id": "962c768d99835097"
  },
  {
   "metadata": {},
   "cell_type": "markdown",
   "source": [
    "---\n",
    "\n",
    "## Setup"
   ],
   "id": "b0ebee4717940c77"
  },
  {
   "metadata": {
    "ExecuteTime": {
     "end_time": "2025-06-21T14:13:14.600096Z",
     "start_time": "2025-06-21T14:13:14.597637Z"
    }
   },
   "cell_type": "code",
   "source": [
    "USE_JIT = True\n",
    "USE_X64 = False\n",
    "DEBUG_NANS = False\n",
    "VERBOSE = False"
   ],
   "id": "6504ddcedf28d9e0",
   "outputs": [],
   "execution_count": 1
  },
  {
   "metadata": {
    "ExecuteTime": {
     "end_time": "2025-06-21T14:13:15.754359Z",
     "start_time": "2025-06-21T14:13:14.704492Z"
    }
   },
   "cell_type": "code",
   "source": [
    "import os\n",
    "\n",
    "os.environ['JAX_ENABLE_X64'] = \"True\"\n",
    "\n",
    "import time\n",
    "\n",
    "import jax\n",
    "jax.config.update(\"jax_disable_jit\", not USE_JIT)\n",
    "jax.config.update(\"jax_debug_nans\", DEBUG_NANS)\n",
    "from jax import jit, vmap, lax\n",
    "import jax.numpy as jnp\n",
    "import jax.scipy as jsp\n",
    "from jax.scipy.linalg import cho_solve, cho_factor\n",
    "from jax.scipy.optimize import minimize\n",
    "from jax.scipy.stats.multivariate_normal import logpdf\n",
    "\n",
    "import pandas as pd\n",
    "\n",
    "from MagmaClustPy.kernels import SEMagmaKernel, NoisySEMagmaKernel\n",
    "from MagmaClustPy.hyperpost import hyperpost\n",
    "from MagmaClustPy.hp_optimisation import optimise_hyperparameters\n",
    "from MagmaClustPy.utils import preprocess_db"
   ],
   "id": "7068ce6d2aa8e01d",
   "outputs": [],
   "execution_count": 2
  },
  {
   "metadata": {
    "ExecuteTime": {
     "end_time": "2025-06-21T14:13:16.902980Z",
     "start_time": "2025-06-21T14:13:16.900766Z"
    }
   },
   "cell_type": "code",
   "source": [
    "MAX_ITER = 25\n",
    "CONVERG_THRESHOLD = 1e-3\n",
    "nugget = jnp.array(1e-6)"
   ],
   "id": "905141a8267ee767",
   "outputs": [],
   "execution_count": 3
  },
  {
   "metadata": {
    "ExecuteTime": {
     "end_time": "2025-06-21T14:13:17.281478Z",
     "start_time": "2025-06-21T14:13:17.253881Z"
    }
   },
   "cell_type": "code",
   "source": [
    "dataset = \"medium\"\n",
    "grids = {\n",
    "\t\"small\": jnp.arange(-10, 10, 0.5),\n",
    "\t\"medium\": jnp.arange(-100, 100, 0.5),\n",
    "\t\"large\": jnp.arange(-500, 500, 0.5),\n",
    "\t\"custom\": jnp.arange(-20, 20, 0.5)\n",
    "}\n",
    "grid = grids[dataset] if dataset in grids else grids[\"custom\"]\n",
    "shared_input = False\n",
    "shared_hp = True"
   ],
   "id": "fc4b15d05dbc405d",
   "outputs": [],
   "execution_count": 4
  },
  {
   "metadata": {},
   "cell_type": "markdown",
   "source": [
    "---\n",
    "\n",
    "## Start timer"
   ],
   "id": "a9f5f11bafdb69be"
  },
  {
   "metadata": {
    "ExecuteTime": {
     "end_time": "2025-06-21T09:17:52.519916Z",
     "start_time": "2025-06-21T09:17:52.517936Z"
    }
   },
   "cell_type": "code",
   "source": "start = time.time()",
   "id": "a977dc83979040a2",
   "outputs": [],
   "execution_count": 5
  },
  {
   "metadata": {},
   "cell_type": "markdown",
   "source": [
    "---\n",
    "\n",
    "## Data import"
   ],
   "id": "2e52dede973e84f9"
  },
  {
   "metadata": {
    "ExecuteTime": {
     "end_time": "2025-06-21T14:13:21.638994Z",
     "start_time": "2025-06-21T14:13:21.618249Z"
    }
   },
   "cell_type": "code",
   "source": [
    "db = pd.read_csv(f\"../dummy_datasets/{dataset}_{'shared_input' if shared_input else 'distinct_input'}_{'shared_hp' if shared_hp else 'distinct_hp'}.csv\")\n",
    "# db has 3 columns: ID, Input, Output"
   ],
   "id": "4029845efb88d613",
   "outputs": [],
   "execution_count": 5
  },
  {
   "metadata": {
    "ExecuteTime": {
     "end_time": "2025-06-21T14:13:24.325987Z",
     "start_time": "2025-06-21T14:13:24.317937Z"
    }
   },
   "cell_type": "code",
   "source": [
    "# First 90% of IDs are for training, last 10% for testing\n",
    "train_ids = db[\"ID\"].unique()[:int(0.9 * db[\"ID\"].nunique())]\n",
    "test_ids = db[\"ID\"].unique()[int(0.9 * db[\"ID\"].nunique()):]\n",
    "\n",
    "db_train = db[db[\"ID\"].isin(train_ids)]\n",
    "db_test = db[db[\"ID\"].isin(test_ids)]\n",
    "\n",
    "# N.b: data is already sort by ID and Input in the toy datasets, but in a real case scenario, we would need to sort it"
   ],
   "id": "f834da57adb83ea3",
   "outputs": [],
   "execution_count": 6
  },
  {
   "metadata": {
    "ExecuteTime": {
     "end_time": "2025-06-21T14:13:24.697216Z",
     "start_time": "2025-06-21T14:13:24.693527Z"
    }
   },
   "cell_type": "code",
   "source": "len(train_ids), len(test_ids)",
   "id": "c5fd08fa1dee7958",
   "outputs": [
    {
     "data": {
      "text/plain": [
       "(180, 20)"
      ]
     },
     "execution_count": 7,
     "metadata": {},
     "output_type": "execute_result"
    }
   ],
   "execution_count": 7
  },
  {
   "metadata": {},
   "cell_type": "markdown",
   "source": [
    "---\n",
    "\n",
    "## Data preprocessing"
   ],
   "id": "25c50cd3b2840c90"
  },
  {
   "metadata": {
    "ExecuteTime": {
     "end_time": "2025-06-21T09:17:53.000468Z",
     "start_time": "2025-06-21T09:17:52.669578Z"
    }
   },
   "cell_type": "code",
   "source": [
    "# We need to convert the dataframe into jax arrays\n",
    "# inputs: (M, N) timestamps\n",
    "# outputs: (M, N) observed outputs\n",
    "# unique_inputs: (P,) unique timestamps (if shared_input, P = N)\n",
    "all_inputs_train, padded_inputs_train, padded_outputs_train, mappings_train = preprocess_db(db_train)\n",
    "all_inputs_train.shape, padded_inputs_train.shape"
   ],
   "id": "acdfa8d01a68148c",
   "outputs": [
    {
     "data": {
      "text/plain": [
       "((401,), (180, 200))"
      ]
     },
     "execution_count": 8,
     "metadata": {},
     "output_type": "execute_result"
    }
   ],
   "execution_count": 8
  },
  {
   "metadata": {},
   "cell_type": "markdown",
   "source": [
    "---\n",
    "\n",
    "## Training"
   ],
   "id": "dc737367d4fe304a"
  },
  {
   "metadata": {
    "ExecuteTime": {
     "end_time": "2025-06-21T09:17:53.207844Z",
     "start_time": "2025-06-21T09:17:53.182512Z"
    }
   },
   "cell_type": "code",
   "source": [
    "# Priors\n",
    "prior_mean = jnp.zeros_like(all_inputs_train)\n",
    "mean_kernel = SEMagmaKernel(length_scale=0.9, variance=1.5)\n",
    "\n",
    "if shared_hp:\n",
    "\ttask_kernel = NoisySEMagmaKernel(length_scale=0.3, variance=1., noise=-2.5)\n",
    "else:\n",
    "\ttask_kernel = NoisySEMagmaKernel(length_scale=jnp.array([0.3] * padded_inputs_train.shape[0]), variance=jnp.array([1.] * padded_inputs_train.shape[0]), noise=jnp.array([-2.5] * padded_inputs_train.shape[0]))"
   ],
   "id": "1c9ccf5234311280",
   "outputs": [],
   "execution_count": 9
  },
  {
   "metadata": {
    "ExecuteTime": {
     "end_time": "2025-06-21T09:18:25.041889Z",
     "start_time": "2025-06-21T09:17:53.241029Z"
    }
   },
   "cell_type": "code",
   "source": [
    "prev_mean_llh = jnp.inf\n",
    "prev_task_llh = jnp.inf\n",
    "conv_ratio = jnp.inf\n",
    "\n",
    "for i in range(MAX_ITER):\n",
    "\tprint(f\"Iteration {i:4}\\tLlhs: {prev_mean_llh:12.4f}, {prev_task_llh:12.4f}\\tConv. Ratio: {conv_ratio:.5f}\\t\\n\\tMean: {mean_kernel}\\t\\n\\tTask: {task_kernel}\")\n",
    "\t# e-step: compute hyper-posterior\n",
    "\tpost_mean, post_cov = hyperpost(padded_inputs_train, padded_outputs_train, mappings_train, prior_mean, mean_kernel, task_kernel, all_inputs=all_inputs_train, nugget=nugget)\n",
    "\n",
    "\t# m-step: update hyperparameters\n",
    "\tmean_kernel, task_kernel, mean_llh, task_llh = optimise_hyperparameters(mean_kernel, task_kernel, padded_inputs_train, padded_outputs_train, all_inputs_train, prior_mean, post_mean, post_cov, mappings_train, nugget=nugget, verbose=VERBOSE)\n",
    "\n",
    "\t# Check convergence\n",
    "\tif i > 0:\n",
    "\t\tconv_ratio = jnp.abs((prev_mean_llh + prev_task_llh) - (mean_llh + task_llh)) / jnp.abs(prev_mean_llh + prev_task_llh)\n",
    "\t\tif conv_ratio < CONVERG_THRESHOLD:\n",
    "\t\t\tprint(f\"Convergence reached after {i+1} iterations.\\tLlhs: {mean_llh:12.4f}, {task_llh:12.4f}\\n\\tMean: {mean_kernel}\\n\\tTask: {task_kernel}\")\n",
    "\t\t\tbreak\n",
    "\n",
    "\tif i == MAX_ITER - 1:\n",
    "\t\tprint(f\"WARNING: Maximum number of iterations reached.\\nLast modif: {jnp.abs(prev_mean_llh - mean_llh).item()} & {jnp.abs(prev_task_llh - task_llh).item()}\")\n",
    "\n",
    "\tprev_mean_llh = mean_llh\n",
    "\tprev_task_llh = task_llh"
   ],
   "id": "50b9f3d8c807f51b",
   "outputs": [
    {
     "name": "stdout",
     "output_type": "stream",
     "text": [
      "Iteration    0\tLlhs:          inf,          inf\tConv. Ratio: inf\t\n",
      "\tMean: SEMagmaKernel(length_scale=0.9, variance=1.5)\t\n",
      "\tTask: NoisySEMagmaKernel(length_scale=0.3, variance=1.0, noise=-2.5)\n",
      "Iteration    1\tLlhs:    -198.0491,   56116.0753\tConv. Ratio: inf\t\n",
      "\tMean: SEMagmaKernel(length_scale=1.209892414332191, variance=8.319056111936368)\t\n",
      "\tTask: NoisySEMagmaKernel(length_scale=0.07597577774571919, variance=1.955996724726523, noise=-21.455860338161056)\n",
      "Iteration    2\tLlhs:     -72.5236,   54086.0882\tConv. Ratio: 0.03406\t\n",
      "\tMean: SEMagmaKernel(length_scale=1.072244269932549, variance=8.301175932754619)\t\n",
      "\tTask: NoisySEMagmaKernel(length_scale=0.12571368838942806, variance=1.933763250272137, noise=-21.45586048541071)\n",
      "Iteration    3\tLlhs:      18.9627,   53320.9271\tConv. Ratio: 0.01247\t\n",
      "\tMean: SEMagmaKernel(length_scale=0.9623432597675167, variance=8.163951244069654)\t\n",
      "\tTask: NoisySEMagmaKernel(length_scale=0.15328625390476597, variance=1.943326782011153, noise=-21.455860607625105)\n",
      "Iteration    4\tLlhs:      77.4692,   53082.3998\tConv. Ratio: 0.00337\t\n",
      "\tMean: SEMagmaKernel(length_scale=0.8932537363034762, variance=8.06554966105592)\t\n",
      "\tTask: NoisySEMagmaKernel(length_scale=0.16398842364714672, variance=1.950641673980574, noise=-21.45586073011203)\n",
      "Convergence reached after 5 iterations.\tLlhs:     114.1682,   53006.1864\n",
      "\tMean: SEMagmaKernel(length_scale=0.8521573842281933, variance=8.012873867084181)\n",
      "\tTask: NoisySEMagmaKernel(length_scale=0.1678807968859856, variance=1.953949222740181, noise=-21.45586086254747)\n"
     ]
    }
   ],
   "execution_count": 10
  },
  {
   "metadata": {},
   "cell_type": "markdown",
   "source": [
    "---\n",
    "\n",
    "## Prediction"
   ],
   "id": "90de8c0b7b3db436"
  },
  {
   "metadata": {
    "ExecuteTime": {
     "end_time": "2025-06-21T09:18:25.066954Z",
     "start_time": "2025-06-21T09:18:25.065354Z"
    }
   },
   "cell_type": "code",
   "source": "",
   "id": "66420b115921cdaf",
   "outputs": [],
   "execution_count": null
  },
  {
   "metadata": {
    "ExecuteTime": {
     "end_time": "2025-06-21T09:18:25.139741Z",
     "start_time": "2025-06-21T09:18:25.138089Z"
    }
   },
   "cell_type": "code",
   "source": "",
   "id": "425f05bceebf211b",
   "outputs": [],
   "execution_count": null
  },
  {
   "metadata": {},
   "cell_type": "markdown",
   "source": [
    "---\n",
    "\n",
    "## End timer"
   ],
   "id": "476280134e1bc03d"
  },
  {
   "metadata": {
    "ExecuteTime": {
     "end_time": "2025-06-21T09:18:25.197642Z",
     "start_time": "2025-06-21T09:18:25.194650Z"
    }
   },
   "cell_type": "code",
   "source": "end = time.time()",
   "id": "692e7da8aadbbf8f",
   "outputs": [],
   "execution_count": 11
  },
  {
   "metadata": {
    "ExecuteTime": {
     "end_time": "2025-06-21T09:18:25.236788Z",
     "start_time": "2025-06-21T09:18:25.233575Z"
    }
   },
   "cell_type": "code",
   "source": "print(f\"Magma finished in {end - start}s\")",
   "id": "51950ffdb059c39d",
   "outputs": [
    {
     "name": "stdout",
     "output_type": "stream",
     "text": [
      "Magma finished in 32.67691493034363s\n"
     ]
    }
   ],
   "execution_count": 12
  }
 ],
 "metadata": {
  "kernelspec": {
   "display_name": "Python 3",
   "language": "python",
   "name": "python3"
  },
  "language_info": {
   "codemirror_mode": {
    "name": "ipython",
    "version": 2
   },
   "file_extension": ".py",
   "mimetype": "text/x-python",
   "name": "python",
   "nbconvert_exporter": "python",
   "pygments_lexer": "ipython2",
   "version": "2.7.6"
  }
 },
 "nbformat": 4,
 "nbformat_minor": 5
}
