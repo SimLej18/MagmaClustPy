{
 "cells": [
  {
   "metadata": {},
   "cell_type": "markdown",
   "source": [
    "# Benchmarks - Hyper-parameters optimisation\n",
    "\n",
    "**Main considerations when implementing HPs optimisation**\n",
    "- we made kernels pytrees, so we should be able to compute gradient and optimise for them directly\n"
   ],
   "id": "b3c7fb13dd0f50f4"
  },
  {
   "metadata": {},
   "cell_type": "markdown",
   "source": [
    "---\n",
    "## Setup"
   ],
   "id": "e79b3311ad31df3f"
  },
  {
   "metadata": {
    "ExecuteTime": {
     "end_time": "2025-07-09T14:57:34.951296Z",
     "start_time": "2025-07-09T14:57:34.945226Z"
    }
   },
   "cell_type": "code",
   "source": [
    "# Standard library\n",
    "import os\n",
    "from typing import NamedTuple\n",
    "\n",
    "os.environ['JAX_ENABLE_X64'] = \"True\""
   ],
   "id": "a6a833855c1b48e9",
   "outputs": [],
   "execution_count": 22
  },
  {
   "metadata": {
    "ExecuteTime": {
     "end_time": "2025-07-09T14:57:34.981802Z",
     "start_time": "2025-07-09T14:57:34.979105Z"
    }
   },
   "cell_type": "code",
   "source": [
    "# Third party\n",
    "import jax\n",
    "import jax.numpy as jnp\n",
    "import jax.random as jrd\n",
    "from jax.tree_util import tree_flatten\n",
    "import optax\n",
    "import optax.tree_utils as otu\n",
    "import chex\n",
    "\n",
    "import numpy as np\n",
    "import pandas as pd"
   ],
   "id": "ac216c6509d3a07f",
   "outputs": [],
   "execution_count": 23
  },
  {
   "metadata": {
    "ExecuteTime": {
     "end_time": "2025-07-09T14:57:35.034233Z",
     "start_time": "2025-07-09T14:57:35.030735Z"
    }
   },
   "cell_type": "code",
   "source": [
    "# Local\n",
    "from Kernax import SEMagmaKernel, DiagKernel, ExpKernel\n",
    "from MagmaClustPy.utils import preprocess_db\n",
    "from MagmaClustPy.hyperpost import hyperpost"
   ],
   "id": "489423e8889c492d",
   "outputs": [],
   "execution_count": 24
  },
  {
   "metadata": {
    "ExecuteTime": {
     "end_time": "2025-07-09T14:57:35.068444Z",
     "start_time": "2025-07-09T14:57:35.053782Z"
    }
   },
   "cell_type": "code",
   "source": [
    "# Config\n",
    "key = jrd.PRNGKey(0)\n",
    "test_db_size = \"small\""
   ],
   "id": "3e5dc5f15ab33e1a",
   "outputs": [],
   "execution_count": 25
  },
  {
   "metadata": {},
   "cell_type": "markdown",
   "source": [
    "---\n",
    "## Data"
   ],
   "id": "ac6a128506dca90c"
  },
  {
   "metadata": {
    "ExecuteTime": {
     "end_time": "2025-07-09T14:57:35.082464Z",
     "start_time": "2025-07-09T14:57:35.080468Z"
    }
   },
   "cell_type": "code",
   "source": "",
   "id": "a6109c6bb00ed82f",
   "outputs": [],
   "execution_count": null
  },
  {
   "metadata": {},
   "cell_type": "markdown",
   "source": [
    "---\n",
    "## Current implementation"
   ],
   "id": "ecf3dcbf9770f1a9"
  },
  {
   "metadata": {
    "ExecuteTime": {
     "end_time": "2025-07-09T14:57:35.106013Z",
     "start_time": "2025-07-09T14:57:35.103770Z"
    }
   },
   "cell_type": "code",
   "source": [
    "import MagmaClustPy\n",
    "optimise_hyperparameters_old = MagmaClustPy.hp_optimisation.optimise_hyperparameters"
   ],
   "id": "e270d1fb4227c9e1",
   "outputs": [],
   "execution_count": 26
  },
  {
   "metadata": {},
   "cell_type": "markdown",
   "source": [
    "---\n",
    "## Custom implementation(s)"
   ],
   "id": "eb9741fdeac26cf1"
  },
  {
   "metadata": {
    "ExecuteTime": {
     "end_time": "2025-07-09T14:57:35.134776Z",
     "start_time": "2025-07-09T14:57:35.126380Z"
    }
   },
   "cell_type": "code",
   "source": [
    "from typing import NamedTuple\n",
    "\n",
    "import chex\n",
    "import jax\n",
    "import jax.numpy as jnp\n",
    "import optax\n",
    "import optax.tree_utils as otu\n",
    "\n",
    "from MagmaClustPy.likelihoods import magma_neg_likelihood\n",
    "\n",
    "\n",
    "# Taken from optax doc (https://optax.readthedocs.io/en/latest/_collections/examples/lbfgs.html#l-bfgs-solver)\n",
    "class InfoState(NamedTuple):\n",
    "\titer_num: chex.Numeric\n",
    "\n",
    "\n",
    "def print_info():\n",
    "\tdef init_fn(params):\n",
    "\t\tdel params\n",
    "\t\treturn InfoState(iter_num=0)\n",
    "\n",
    "\tdef update_fn(updates, state, params, *, value, grad, **extra_args):\n",
    "\t\tdel params, extra_args\n",
    "\n",
    "\t\tjax.debug.print(\n",
    "\t\t\t'Iteration: {i}, Value: {v}, Gradient norm: {e}',\n",
    "\t\t\ti=state.iter_num,\n",
    "\t\t\tv=value,\n",
    "\t\t\te=otu.tree_norm(grad),\n",
    "\t\t)\n",
    "\t\treturn updates, InfoState(iter_num=state.iter_num + 1)\n",
    "\n",
    "\treturn optax.GradientTransformationExtraArgs(init_fn, update_fn)\n",
    "\n",
    "\n",
    "# Adapted from optax doc (https://optax.readthedocs.io/en/latest/_collections/examples/lbfgs.html#l-bfgs-solver)\n",
    "def run_opt(init_params, fun, opt, max_iter, tol):\n",
    "\tvalue_and_grad_fun = optax.value_and_grad_from_state(fun)\n",
    "\n",
    "\tdef step(carry):\n",
    "\t\tparams, state, prev_llh = carry\n",
    "\t\tvalue, grad = value_and_grad_fun(params, state=state)\n",
    "\t\tupdates, state = opt.update(grad, state, params, value=value, grad=grad, value_fn=fun)\n",
    "\t\tparams = optax.apply_updates(params, updates)\n",
    "\t\treturn params, state, value\n",
    "\n",
    "\tdef continuing_criterion(carry):\n",
    "\t\t# tol is not computed on the gradients but on the difference between current and previous likelihoods, to\n",
    "\t\t# prevent overfitting on ill-defined likelihood functions where variance can blow up.\n",
    "\t\t_, state, prev_llh = carry\n",
    "\t\titer_num = otu.tree_get(state, 'count')\n",
    "\t\tval = otu.tree_get(state, 'value')\n",
    "\t\tdiff = jnp.abs(val - prev_llh)\n",
    "\t\treturn (iter_num == 0) | ((iter_num < max_iter) & (diff >= tol))\n",
    "\n",
    "\tinit_carry = (init_params, opt.init(init_params),\n",
    "\t              jnp.array(jnp.inf))  # kernel params, initial state, first iter, previous likelihood\n",
    "\tfinal_params, final_state, final_llh = jax.lax.while_loop(\n",
    "\t\tcontinuing_criterion, step, init_carry\n",
    "\t)\n",
    "\treturn final_params, final_state, final_llh\n",
    "\n",
    "\n",
    "def optimise_hyperparameters(mean_kernel, task_kernel, inputs, outputs, all_inputs, prior_mean, post_mean, post_cov,\n",
    "                             mappings, jitter=jnp.array(1e-10), max_iter=100, tol=1e-3, verbose=False):\n",
    "\t# Optimise mean kernel\n",
    "\tif verbose:\n",
    "\t\tmean_opt = optax.chain(print_info(), optax.lbfgs())\n",
    "\telse:\n",
    "\t\tmean_opt = optax.lbfgs()\n",
    "\n",
    "\tdef mean_fun_wrapper(kern):\n",
    "\t\tres = magma_neg_likelihood(kern, all_inputs, post_mean, prior_mean, post_cov, None, jitter=jitter)\n",
    "\t\treturn res\n",
    "\n",
    "\tnew_mean_kernel, _, mean_llh = run_opt(mean_kernel, mean_fun_wrapper, mean_opt, max_iter=max_iter, tol=tol)\n",
    "\n",
    "\t# Optimise task kernel\n",
    "\tif verbose:\n",
    "\t\ttask_opt = optax.chain(print_info(), optax.lbfgs())\n",
    "\telse:\n",
    "\t\ttask_opt = optax.lbfgs()\n",
    "\n",
    "\tdef task_fun_wrapper(kern):\n",
    "\t\tres = magma_neg_likelihood(kern, inputs, outputs, post_mean, post_cov, mappings, jitter=jitter).sum()\n",
    "\t\treturn res\n",
    "\n",
    "\tnew_task_kernel, _, task_llh = run_opt(task_kernel, task_fun_wrapper, task_opt, max_iter=max_iter, tol=tol)\n",
    "\n",
    "\treturn new_mean_kernel, new_task_kernel, mean_llh, task_llh"
   ],
   "id": "547677121acc1215",
   "outputs": [],
   "execution_count": 27
  },
  {
   "metadata": {
    "ExecuteTime": {
     "end_time": "2025-07-09T14:57:35.152185Z",
     "start_time": "2025-07-09T14:57:35.149484Z"
    }
   },
   "cell_type": "code",
   "source": "optimise_hyperparameters_new = optimise_hyperparameters",
   "id": "ee5d6bdf0b50d65",
   "outputs": [],
   "execution_count": 28
  },
  {
   "metadata": {},
   "cell_type": "markdown",
   "source": [
    "---\n",
    "## Comparison"
   ],
   "id": "4ca5a9878a1cb3d3"
  },
  {
   "metadata": {
    "ExecuteTime": {
     "end_time": "2025-07-09T14:57:35.174013Z",
     "start_time": "2025-07-09T14:57:35.171535Z"
    }
   },
   "cell_type": "code",
   "source": "jitter = jnp.array(1e-10)",
   "id": "ffd445017b473b89",
   "outputs": [],
   "execution_count": 29
  },
  {
   "metadata": {},
   "cell_type": "markdown",
   "source": "### shared Input, shared HP",
   "id": "fd78cbfe819ddfa1"
  },
  {
   "metadata": {
    "ExecuteTime": {
     "end_time": "2025-07-09T14:57:35.231537Z",
     "start_time": "2025-07-09T14:57:35.199843Z"
    }
   },
   "cell_type": "code",
   "source": [
    "db = pd.read_csv(f\"../datasets/{test_db_size}_shared_input_shared_hp.csv\")\n",
    "padded_inputs, padded_outputs, masks, all_inputs = preprocess_db(db)\n",
    "prior_mean = jnp.array(0)\n",
    "all_inputs.shape, padded_inputs.shape"
   ],
   "id": "7ea422a4f5fd3d4d",
   "outputs": [
    {
     "data": {
      "text/plain": [
       "((15, 1), (20, 15, 1))"
      ]
     },
     "execution_count": 30,
     "metadata": {},
     "output_type": "execute_result"
    }
   ],
   "execution_count": 30
  },
  {
   "metadata": {
    "ExecuteTime": {
     "end_time": "2025-07-09T14:57:35.250226Z",
     "start_time": "2025-07-09T14:57:35.246768Z"
    }
   },
   "cell_type": "code",
   "source": [
    "mean_kern = SEMagmaKernel(length_scale=jnp.array(.3), variance=jnp.array(1.))\n",
    "task_kern = SEMagmaKernel(length_scale=jnp.array(.3), variance=jnp.array(1.)) + DiagKernel(ExpKernel(jnp.array(2.5)))"
   ],
   "id": "b84be4451fab310f",
   "outputs": [],
   "execution_count": 31
  },
  {
   "metadata": {
    "ExecuteTime": {
     "end_time": "2025-07-09T14:57:35.276659Z",
     "start_time": "2025-07-09T14:57:35.268683Z"
    }
   },
   "cell_type": "code",
   "source": [
    "post_mean, post_cov = hyperpost(padded_inputs, padded_outputs, masks, prior_mean, mean_kern, task_kern, all_inputs=all_inputs, jitter=jitter)\n",
    "post_mean.shape, post_cov.shape"
   ],
   "id": "8acd23d0f6cc9f72",
   "outputs": [
    {
     "data": {
      "text/plain": [
       "((15,), (15, 15))"
      ]
     },
     "execution_count": 32,
     "metadata": {},
     "output_type": "execute_result"
    }
   ],
   "execution_count": 32
  },
  {
   "metadata": {
    "ExecuteTime": {
     "end_time": "2025-07-09T14:57:36.517864Z",
     "start_time": "2025-07-09T14:57:35.293595Z"
    }
   },
   "cell_type": "code",
   "source": "optimized_mean_kern_old, optimized_task_kern_old, _, _ = optimise_hyperparameters_old(mean_kern, task_kern, padded_inputs, padded_outputs, all_inputs, prior_mean, post_mean, post_cov, masks, jitter=jitter, verbose=True)",
   "id": "5fecb512ce7c194f",
   "outputs": [
    {
     "name": "stdout",
     "output_type": "stream",
     "text": [
      "Iteration: 0, Value: 836.6045316967227, Gradient norm: 842.3511548986307\n",
      "Iteration: 1, Value: 314.1133811574371, Gradient norm: 295.11474538671615\n",
      "Iteration: 2, Value: 192.89621304539364, Gradient norm: 166.17834784251815\n",
      "Iteration: 3, Value: 111.14324986746566, Gradient norm: 77.97054924188863\n",
      "Iteration: 4, Value: 76.1837911272774, Gradient norm: 38.653273391248305\n",
      "Iteration: 5, Value: 59.56567545948463, Gradient norm: 18.124596262951094\n",
      "Iteration: 6, Value: 52.74446277509758, Gradient norm: 8.265713962882861\n",
      "Iteration: 7, Value: 50.57056501236482, Gradient norm: 9.332184246722381\n",
      "Iteration: 8, Value: 49.94586723766478, Gradient norm: 6.403268816933967\n",
      "Iteration: 9, Value: 49.62739052343301, Gradient norm: 2.848933628157671\n",
      "Iteration: 10, Value: 49.5836933613408, Gradient norm: 1.539941647377355\n",
      "Iteration: 11, Value: 49.57023956387713, Gradient norm: 0.2128016972688677\n",
      "Iteration: 0, Value: 888.4353418332946, Gradient norm: 44.384857897924874\n",
      "Iteration: 1, Value: 882.7911771996015, Gradient norm: 50.4806476444924\n",
      "Iteration: 2, Value: 868.2082495350386, Gradient norm: 38.48814066464329\n",
      "Iteration: 3, Value: 785.6110707342754, Gradient norm: 25.7188526398837\n",
      "Iteration: 4, Value: 777.224728609138, Gradient norm: 9.907022934354488\n",
      "Iteration: 5, Value: 776.854106431258, Gradient norm: 9.210684840125014\n",
      "Iteration: 6, Value: 776.4550860196796, Gradient norm: 1.0757877199872055\n",
      "Iteration: 7, Value: 776.4409802410521, Gradient norm: 0.12347335719729846\n"
     ]
    }
   ],
   "execution_count": 33
  },
  {
   "metadata": {
    "ExecuteTime": {
     "end_time": "2025-07-09T14:57:36.545620Z",
     "start_time": "2025-07-09T14:57:36.532096Z"
    }
   },
   "cell_type": "code",
   "source": "optimized_mean_kern_old, optimized_task_kern_old",
   "id": "95c85ee5b6f8fb0a",
   "outputs": [
    {
     "data": {
      "text/plain": [
       "(SEMagmaKernel(length_scale=1.1709656865266187, variance=5.843095076461786),\n",
       " SumKernel(left_kernel=SEMagmaKernel(length_scale=1.6343234360292214, variance=3.336620286865063), right_kernel=DiagKernel(inner_kernel=ExpKernel(inner_kernel=ConstantKernel(value=0.7728861273444985)))))"
      ]
     },
     "execution_count": 34,
     "metadata": {},
     "output_type": "execute_result"
    }
   ],
   "execution_count": 34
  },
  {
   "metadata": {
    "ExecuteTime": {
     "end_time": "2025-07-09T14:57:37.786082Z",
     "start_time": "2025-07-09T14:57:36.562897Z"
    }
   },
   "cell_type": "code",
   "source": "optimized_mean_kern_new, optimized_task_kern_new, _, _ = optimise_hyperparameters_new(mean_kern, task_kern, padded_inputs, padded_outputs, all_inputs, prior_mean, post_mean, post_cov, masks, jitter=jitter, verbose=True)",
   "id": "2ed1ae4b497b01b7",
   "outputs": [
    {
     "name": "stdout",
     "output_type": "stream",
     "text": [
      "Iteration: 0, Value: 836.6045316967227, Gradient norm: 842.3511548986307\n",
      "Iteration: 1, Value: 314.1133811574371, Gradient norm: 295.11474538671615\n",
      "Iteration: 2, Value: 192.89621304539364, Gradient norm: 166.17834784251815\n",
      "Iteration: 3, Value: 111.14324986746566, Gradient norm: 77.97054924188863\n",
      "Iteration: 4, Value: 76.1837911272774, Gradient norm: 38.653273391248305\n",
      "Iteration: 5, Value: 59.56567545948463, Gradient norm: 18.124596262951094\n",
      "Iteration: 6, Value: 52.74446277509758, Gradient norm: 8.265713962882861\n",
      "Iteration: 7, Value: 50.57056501236482, Gradient norm: 9.332184246722381\n",
      "Iteration: 8, Value: 49.94586723766478, Gradient norm: 6.403268816933967\n",
      "Iteration: 9, Value: 49.62739052343301, Gradient norm: 2.848933628157671\n",
      "Iteration: 10, Value: 49.5836933613408, Gradient norm: 1.539941647377355\n",
      "Iteration: 11, Value: 49.57023956387713, Gradient norm: 0.2128016972688677\n",
      "Iteration: 0, Value: 888.4353418332946, Gradient norm: 44.384857897924874\n",
      "Iteration: 1, Value: 882.7911771996015, Gradient norm: 50.4806476444924\n",
      "Iteration: 2, Value: 868.2082495350386, Gradient norm: 38.48814066464329\n",
      "Iteration: 3, Value: 785.6110707342754, Gradient norm: 25.7188526398837\n",
      "Iteration: 4, Value: 777.224728609138, Gradient norm: 9.907022934354488\n",
      "Iteration: 5, Value: 776.854106431258, Gradient norm: 9.210684840125014\n",
      "Iteration: 6, Value: 776.4550860196796, Gradient norm: 1.0757877199872055\n",
      "Iteration: 7, Value: 776.4409802410521, Gradient norm: 0.12347335719729846\n"
     ]
    }
   ],
   "execution_count": 35
  },
  {
   "metadata": {
    "ExecuteTime": {
     "end_time": "2025-07-09T14:57:37.808780Z",
     "start_time": "2025-07-09T14:57:37.802930Z"
    }
   },
   "cell_type": "code",
   "source": "optimized_mean_kern_new, optimized_task_kern_new",
   "id": "ccf5ce2102a25d84",
   "outputs": [
    {
     "data": {
      "text/plain": [
       "(SEMagmaKernel(length_scale=1.1709656865266187, variance=5.843095076461786),\n",
       " SumKernel(left_kernel=SEMagmaKernel(length_scale=1.6343234360292214, variance=3.336620286865063), right_kernel=DiagKernel(inner_kernel=ExpKernel(inner_kernel=ConstantKernel(value=0.7728861273444985)))))"
      ]
     },
     "execution_count": 36,
     "metadata": {},
     "output_type": "execute_result"
    }
   ],
   "execution_count": 36
  },
  {
   "metadata": {
    "ExecuteTime": {
     "end_time": "2025-07-09T14:57:44.847439Z",
     "start_time": "2025-07-09T14:57:37.828889Z"
    }
   },
   "cell_type": "code",
   "source": [
    "%%timeit -n 3 -r 2\n",
    "optimise_hyperparameters_old(mean_kern, task_kern, padded_inputs, padded_outputs, all_inputs, prior_mean, post_mean, post_cov, masks, jitter=jitter)[0].length_scale.block_until_ready()"
   ],
   "id": "8b52b470f131915a",
   "outputs": [
    {
     "name": "stdout",
     "output_type": "stream",
     "text": [
      "1.16 s ± 102 ms per loop (mean ± std. dev. of 2 runs, 3 loops each)\n"
     ]
    }
   ],
   "execution_count": 37
  },
  {
   "metadata": {
    "ExecuteTime": {
     "end_time": "2025-07-09T14:57:51.791197Z",
     "start_time": "2025-07-09T14:57:44.886511Z"
    }
   },
   "cell_type": "code",
   "source": [
    "%%timeit -n 3 -r 2\n",
    "optimise_hyperparameters_new(mean_kern, task_kern, padded_inputs, padded_outputs, all_inputs, prior_mean, post_mean, post_cov, masks, jitter=jitter)[0].length_scale.block_until_ready()"
   ],
   "id": "a7dc6a1b623c0c6e",
   "outputs": [
    {
     "name": "stdout",
     "output_type": "stream",
     "text": [
      "1.15 s ± 43.3 ms per loop (mean ± std. dev. of 2 runs, 3 loops each)\n"
     ]
    }
   ],
   "execution_count": 38
  },
  {
   "metadata": {},
   "cell_type": "markdown",
   "source": "### shared Input, Distinct HP",
   "id": "ff736c7218c95092"
  },
  {
   "metadata": {
    "ExecuteTime": {
     "end_time": "2025-07-09T14:57:51.834538Z",
     "start_time": "2025-07-09T14:57:51.815041Z"
    }
   },
   "cell_type": "code",
   "source": [
    "db = pd.read_csv(f\"../datasets/{test_db_size}_shared_input_distinct_hp.csv\")\n",
    "padded_inputs, padded_outputs, masks, all_inputs = preprocess_db(db)\n",
    "prior_mean = jnp.array(0)\n",
    "all_inputs.shape, padded_inputs.shape"
   ],
   "id": "f0b7e39f319c54b4",
   "outputs": [
    {
     "data": {
      "text/plain": [
       "((15, 1), (20, 15, 1))"
      ]
     },
     "execution_count": 39,
     "metadata": {},
     "output_type": "execute_result"
    }
   ],
   "execution_count": 39
  },
  {
   "metadata": {
    "ExecuteTime": {
     "end_time": "2025-07-09T14:57:51.854006Z",
     "start_time": "2025-07-09T14:57:51.846526Z"
    }
   },
   "cell_type": "code",
   "source": [
    "mean_kern = SEMagmaKernel(length_scale=jnp.array(.3), variance=jnp.array(1.))\n",
    "\n",
    "key, subkey = jax.random.split(key)\n",
    "distinct_length_scales = jax.random.uniform(subkey, (padded_outputs.shape[0],), jnp.float64, .1, 1)\n",
    "task_kern = SEMagmaKernel(length_scale=jnp.array(.3), variance=jnp.array(1.)) + DiagKernel(ExpKernel(jnp.array(2.5)))"
   ],
   "id": "df22a4acbb8bf863",
   "outputs": [],
   "execution_count": 40
  },
  {
   "metadata": {
    "ExecuteTime": {
     "end_time": "2025-07-09T14:57:51.876200Z",
     "start_time": "2025-07-09T14:57:51.868318Z"
    }
   },
   "cell_type": "code",
   "source": [
    "post_mean, post_cov = hyperpost(padded_inputs, padded_outputs, masks, prior_mean, mean_kern, task_kern, all_inputs=all_inputs, jitter=jitter)\n",
    "post_mean.shape, post_cov.shape"
   ],
   "id": "b9aed430c16a69f0",
   "outputs": [
    {
     "data": {
      "text/plain": [
       "((15,), (15, 15))"
      ]
     },
     "execution_count": 41,
     "metadata": {},
     "output_type": "execute_result"
    }
   ],
   "execution_count": 41
  },
  {
   "metadata": {
    "ExecuteTime": {
     "end_time": "2025-07-09T14:57:53.214866Z",
     "start_time": "2025-07-09T14:57:51.889541Z"
    }
   },
   "cell_type": "code",
   "source": "optimized_mean_kern_old, optimized_task_kern_old, _, _ = optimise_hyperparameters_old(mean_kern, task_kern, padded_inputs, padded_outputs, all_inputs, prior_mean, post_mean, post_cov, masks, jitter=jitter, verbose=True)",
   "id": "6f661f5dac25a1f7",
   "outputs": [
    {
     "name": "stdout",
     "output_type": "stream",
     "text": [
      "Iteration: 0, Value: 1738.9864707607353, Gradient norm: 1856.2079389251314\n",
      "Iteration: 1, Value: 614.7029917986152, Gradient norm: 613.5748706550256\n",
      "Iteration: 2, Value: 377.91304943406533, Gradient norm: 356.11966791768685\n",
      "Iteration: 3, Value: 193.6458111094163, Gradient norm: 166.53767301371266\n",
      "Iteration: 4, Value: 117.38174596723175, Gradient norm: 83.34248985026642\n",
      "Iteration: 5, Value: 79.02482465557843, Gradient norm: 40.97287325647887\n",
      "Iteration: 6, Value: 61.73413500383541, Gradient norm: 19.590938292952515\n",
      "Iteration: 7, Value: 54.90999862201198, Gradient norm: 14.566858990779826\n",
      "Iteration: 8, Value: 51.624993523019555, Gradient norm: 4.909153488669724\n",
      "Iteration: 9, Value: 51.1236104917011, Gradient norm: 7.1686189599739585\n",
      "Iteration: 10, Value: 50.90517900664831, Gradient norm: 0.7889159550129479\n",
      "Iteration: 11, Value: 50.8976149597436, Gradient norm: 0.21691130476932338\n",
      "Iteration: 0, Value: 1018.6425284142251, Gradient norm: 142.96851439071645\n",
      "Iteration: 1, Value: 952.769393968251, Gradient norm: 30.11255872213707\n",
      "Iteration: 2, Value: 854.6575387783059, Gradient norm: 58.179377963850705\n",
      "Iteration: 3, Value: 827.6256536365679, Gradient norm: 33.33165673860279\n",
      "Iteration: 4, Value: 808.3957840126889, Gradient norm: 17.800758389632563\n",
      "Iteration: 5, Value: 803.6102963309055, Gradient norm: 6.166041779684334\n",
      "Iteration: 6, Value: 802.6358796427221, Gradient norm: 6.069725875135065\n",
      "Iteration: 7, Value: 802.4554979776801, Gradient norm: 5.220779203672106\n",
      "Iteration: 8, Value: 802.2008478783949, Gradient norm: 0.21841839936347376\n",
      "Iteration: 9, Value: 802.1996086627753, Gradient norm: 0.04784073204529149\n"
     ]
    }
   ],
   "execution_count": 42
  },
  {
   "metadata": {
    "ExecuteTime": {
     "end_time": "2025-07-09T14:57:53.230703Z",
     "start_time": "2025-07-09T14:57:53.227610Z"
    }
   },
   "cell_type": "code",
   "source": "optimized_mean_kern_old, optimized_task_kern_old",
   "id": "c4dc707940d8c5de",
   "outputs": [
    {
     "data": {
      "text/plain": [
       "(SEMagmaKernel(length_scale=1.1479675743688122, variance=6.555698067746036),\n",
       " SumKernel(left_kernel=SEMagmaKernel(length_scale=5.751764264682112, variance=3.6571825489185725), right_kernel=DiagKernel(inner_kernel=ExpKernel(inner_kernel=ConstantKernel(value=2.097379134000261)))))"
      ]
     },
     "execution_count": 43,
     "metadata": {},
     "output_type": "execute_result"
    }
   ],
   "execution_count": 43
  },
  {
   "metadata": {
    "ExecuteTime": {
     "end_time": "2025-07-09T14:57:54.511479Z",
     "start_time": "2025-07-09T14:57:53.247636Z"
    }
   },
   "cell_type": "code",
   "source": "optimized_mean_kern_new, optimized_task_kern_new, _, _ = optimise_hyperparameters_new(mean_kern, task_kern, padded_inputs, padded_outputs, all_inputs, prior_mean, post_mean, post_cov, masks, jitter=jitter, verbose=True)",
   "id": "644bfb051b3f97df",
   "outputs": [
    {
     "name": "stdout",
     "output_type": "stream",
     "text": [
      "Iteration: 0, Value: 1738.9864707607353, Gradient norm: 1856.2079389251314\n",
      "Iteration: 1, Value: 614.7029917986152, Gradient norm: 613.5748706550256\n",
      "Iteration: 2, Value: 377.91304943406533, Gradient norm: 356.11966791768685\n",
      "Iteration: 3, Value: 193.6458111094163, Gradient norm: 166.53767301371266\n",
      "Iteration: 4, Value: 117.38174596723175, Gradient norm: 83.34248985026642\n",
      "Iteration: 5, Value: 79.02482465557843, Gradient norm: 40.97287325647887\n",
      "Iteration: 6, Value: 61.73413500383541, Gradient norm: 19.590938292952515\n",
      "Iteration: 7, Value: 54.90999862201198, Gradient norm: 14.566858990779826\n",
      "Iteration: 8, Value: 51.624993523019555, Gradient norm: 4.909153488669724\n",
      "Iteration: 9, Value: 51.1236104917011, Gradient norm: 7.1686189599739585\n",
      "Iteration: 10, Value: 50.90517900664831, Gradient norm: 0.7889159550129479\n",
      "Iteration: 11, Value: 50.8976149597436, Gradient norm: 0.21691130476932338\n",
      "Iteration: 0, Value: 1018.6425284142251, Gradient norm: 142.96851439071645\n",
      "Iteration: 1, Value: 952.769393968251, Gradient norm: 30.11255872213707\n",
      "Iteration: 2, Value: 854.6575387783059, Gradient norm: 58.179377963850705\n",
      "Iteration: 3, Value: 827.6256536365679, Gradient norm: 33.33165673860279\n",
      "Iteration: 4, Value: 808.3957840126889, Gradient norm: 17.800758389632563\n",
      "Iteration: 5, Value: 803.6102963309055, Gradient norm: 6.166041779684334\n",
      "Iteration: 6, Value: 802.6358796427221, Gradient norm: 6.069725875135065\n",
      "Iteration: 7, Value: 802.4554979776801, Gradient norm: 5.220779203672106\n",
      "Iteration: 8, Value: 802.2008478783949, Gradient norm: 0.21841839936347376\n",
      "Iteration: 9, Value: 802.1996086627753, Gradient norm: 0.04784073204529149\n"
     ]
    }
   ],
   "execution_count": 44
  },
  {
   "metadata": {
    "ExecuteTime": {
     "end_time": "2025-07-09T14:57:54.529135Z",
     "start_time": "2025-07-09T14:57:54.524984Z"
    }
   },
   "cell_type": "code",
   "source": "optimized_mean_kern_new, optimized_task_kern_new",
   "id": "daf2d27185970ee4",
   "outputs": [
    {
     "data": {
      "text/plain": [
       "(SEMagmaKernel(length_scale=1.1479675743688122, variance=6.555698067746036),\n",
       " SumKernel(left_kernel=SEMagmaKernel(length_scale=5.751764264682112, variance=3.6571825489185725), right_kernel=DiagKernel(inner_kernel=ExpKernel(inner_kernel=ConstantKernel(value=2.097379134000261)))))"
      ]
     },
     "execution_count": 45,
     "metadata": {},
     "output_type": "execute_result"
    }
   ],
   "execution_count": 45
  },
  {
   "metadata": {
    "ExecuteTime": {
     "end_time": "2025-07-09T14:58:02.438786Z",
     "start_time": "2025-07-09T14:57:54.546481Z"
    }
   },
   "cell_type": "code",
   "source": [
    "%%timeit -n 3 -r 2\n",
    "optimise_hyperparameters_old(mean_kern, task_kern, padded_inputs, padded_outputs, all_inputs, prior_mean, post_mean, post_cov, masks, jitter=jitter)[0].length_scale.block_until_ready()"
   ],
   "id": "cc6bbdd1cc939b9c",
   "outputs": [
    {
     "name": "stdout",
     "output_type": "stream",
     "text": [
      "1.31 s ± 83.6 ms per loop (mean ± std. dev. of 2 runs, 3 loops each)\n"
     ]
    }
   ],
   "execution_count": 46
  },
  {
   "metadata": {
    "ExecuteTime": {
     "end_time": "2025-07-09T14:58:08.789738Z",
     "start_time": "2025-07-09T14:58:02.463189Z"
    }
   },
   "cell_type": "code",
   "source": [
    "%%timeit -n 3 -r 2\n",
    "optimise_hyperparameters_new(mean_kern, task_kern, padded_inputs, padded_outputs, all_inputs, prior_mean, post_mean, post_cov, masks, jitter=jitter)[0].length_scale.block_until_ready()"
   ],
   "id": "f53499d83b9542ad",
   "outputs": [
    {
     "name": "stdout",
     "output_type": "stream",
     "text": [
      "1.05 s ± 11 ms per loop (mean ± std. dev. of 2 runs, 3 loops each)\n"
     ]
    }
   ],
   "execution_count": 47
  },
  {
   "metadata": {},
   "cell_type": "markdown",
   "source": "### Distinct Input, shared HP",
   "id": "20b483a9ffe80c86"
  },
  {
   "metadata": {
    "ExecuteTime": {
     "end_time": "2025-07-09T14:58:09.245023Z",
     "start_time": "2025-07-09T14:58:08.813591Z"
    }
   },
   "cell_type": "code",
   "source": [
    "db = pd.read_csv(f\"../datasets/{test_db_size}_distinct_input_shared_hp.csv\")\n",
    "padded_inputs, padded_outputs, masks, all_inputs = preprocess_db(db)\n",
    "prior_mean = jnp.array(0)\n",
    "all_inputs.shape, padded_inputs.shape"
   ],
   "id": "b28169fa8ce19f32",
   "outputs": [
    {
     "data": {
      "text/plain": [
       "((41, 1), (20, 15, 1))"
      ]
     },
     "execution_count": 48,
     "metadata": {},
     "output_type": "execute_result"
    }
   ],
   "execution_count": 48
  },
  {
   "metadata": {
    "ExecuteTime": {
     "end_time": "2025-07-09T14:58:09.263275Z",
     "start_time": "2025-07-09T14:58:09.258827Z"
    }
   },
   "cell_type": "code",
   "source": [
    "mean_kern = SEMagmaKernel(length_scale=jnp.array(.3), variance=jnp.array(1.))\n",
    "task_kern = SEMagmaKernel(length_scale=jnp.array(.3), variance=jnp.array(1.)) + DiagKernel(ExpKernel(jnp.array(2.5)))"
   ],
   "id": "4912ddbe3e580dd7",
   "outputs": [],
   "execution_count": 49
  },
  {
   "metadata": {
    "ExecuteTime": {
     "end_time": "2025-07-09T14:58:09.694817Z",
     "start_time": "2025-07-09T14:58:09.277232Z"
    }
   },
   "cell_type": "code",
   "source": [
    "post_mean, post_cov = hyperpost(padded_inputs, padded_outputs, masks, prior_mean, mean_kern, task_kern, all_inputs=all_inputs, jitter=jitter)\n",
    "post_mean.shape, post_cov.shape"
   ],
   "id": "b8c905aaaf843652",
   "outputs": [
    {
     "data": {
      "text/plain": [
       "((41,), (41, 41))"
      ]
     },
     "execution_count": 50,
     "metadata": {},
     "output_type": "execute_result"
    }
   ],
   "execution_count": 50
  },
  {
   "metadata": {
    "ExecuteTime": {
     "end_time": "2025-07-09T14:58:11.295917Z",
     "start_time": "2025-07-09T14:58:09.711687Z"
    }
   },
   "cell_type": "code",
   "source": "optimized_mean_kern_old, optimized_task_kern_old, _, _ = optimise_hyperparameters_old(mean_kern, task_kern, padded_inputs, padded_outputs, all_inputs, prior_mean, post_mean, post_cov, masks, jitter=jitter, verbose=True)",
   "id": "c8640faaaa1ef6e2",
   "outputs": [
    {
     "name": "stdout",
     "output_type": "stream",
     "text": [
      "Iteration: 0, Value: 7632568.6129706325, Gradient norm: 11013938.746285157\n",
      "Iteration: 1, Value: 2920131.8379903315, Gradient norm: 2926246.5190971177\n",
      "Iteration: 2, Value: 1952581.1574465851, Gradient norm: 1955369.2266142257\n",
      "Iteration: 3, Value: 869176.5626329303, Gradient norm: 869709.4220277806\n",
      "Iteration: 4, Value: 454893.7191824574, Gradient norm: 454974.1652769489\n",
      "Iteration: 5, Value: 223752.82748765693, Gradient norm: 223686.37303180672\n",
      "Iteration: 6, Value: 112747.98392579293, Gradient norm: 112636.82285557516\n",
      "Iteration: 7, Value: 56320.51984895356, Gradient norm: 56188.51684458967\n",
      "Iteration: 8, Value: 28274.054315999383, Gradient norm: 28126.635247176222\n",
      "Iteration: 9, Value: 14219.686049294933, Gradient norm: 14057.594493652585\n",
      "Iteration: 10, Value: 7204.402377523664, Gradient norm: 7027.678691245698\n",
      "Iteration: 11, Value: 3702.0178927986435, Gradient norm: 3510.780628696635\n",
      "Iteration: 12, Value: 1957.2671294474103, Gradient norm: 1752.2204017473512\n",
      "Iteration: 13, Value: 1090.5381165138992, Gradient norm: 873.0535862812893\n",
      "Iteration: 14, Value: 661.442706827994, Gradient norm: 434.4181527295687\n",
      "Iteration: 15, Value: 447.12915820791676, Gradient norm: 218.08594208011777\n",
      "Iteration: 16, Value: 327.0133896372447, Gradient norm: 121.10238267807777\n",
      "Iteration: 17, Value: 251.53988205798512, Gradient norm: 79.77535481164679\n",
      "Iteration: 18, Value: 220.64852980587287, Gradient norm: 183.9545055901977\n",
      "Iteration: 19, Value: 175.38770914230463, Gradient norm: 44.09197442118599\n",
      "Iteration: 20, Value: 164.11401115651307, Gradient norm: 176.409538091246\n",
      "Iteration: 21, Value: 158.42176761377016, Gradient norm: 19.03277207807534\n",
      "Iteration: 22, Value: 156.67434193793696, Gradient norm: 11.554859108178606\n",
      "Iteration: 23, Value: 156.21224450078833, Gradient norm: 6.422099187543152\n",
      "Iteration: 24, Value: 156.05361506250136, Gradient norm: 4.175676142038924\n",
      "Iteration: 25, Value: 155.12337671004806, Gradient norm: 13.358329998301775\n",
      "Iteration: 26, Value: 154.8278153193645, Gradient norm: 6.76247942314723\n",
      "Iteration: 27, Value: 155.3653441489772, Gradient norm: 3.823140736129143\n",
      "Iteration: 28, Value: 154.78152430305298, Gradient norm: 13.008472866082792\n",
      "Iteration: 29, Value: 154.77012441513602, Gradient norm: 5.021677012124028\n",
      "Iteration: 30, Value: 154.76713820878484, Gradient norm: 10.811699883055283\n",
      "Iteration: 31, Value: 156.34794189371235, Gradient norm: 1.708792062606516\n",
      "Iteration: 32, Value: 155.615579983196, Gradient norm: 3.4286704603424876\n",
      "Iteration: 33, Value: 155.4118192706896, Gradient norm: 3.169505270173067\n",
      "Iteration: 34, Value: 154.94410141838392, Gradient norm: 1.5114563652522006\n",
      "Iteration: 35, Value: 154.80529754247715, Gradient norm: 1.997227051931943\n",
      "Iteration: 0, Value: 15103158.281635068, Gradient norm: 12156923.636127315\n",
      "Iteration: 1, Value: 6559690.42860312, Gradient norm: 5687023.630660654\n",
      "Iteration: 2, Value: 2899095.226642256, Gradient norm: 2691870.3612469793\n",
      "Iteration: 3, Value: 1295199.8294057923, Gradient norm: 1252676.992104782\n",
      "Iteration: 4, Value: 619690.471112649, Gradient norm: 609679.0429157162\n",
      "Iteration: 5, Value: 303589.0542994998, Gradient norm: 300311.53899164195\n",
      "Iteration: 6, Value: 151246.92489939556, Gradient norm: 149312.10790595418\n",
      "Iteration: 7, Value: 76145.03886101613, Gradient norm: 74417.64887545355\n",
      "Iteration: 8, Value: 38902.377829632605, Gradient norm: 37138.388508780736\n",
      "Iteration: 9, Value: 20381.3028511012, Gradient norm: 18528.208637205324\n",
      "Iteration: 10, Value: 11184.175783041592, Gradient norm: 9230.941118181785\n",
      "Iteration: 11, Value: 6639.014671094084, Gradient norm: 4583.873245732737\n",
      "Iteration: 12, Value: 4417.183027000131, Gradient norm: 2260.982445486626\n",
      "Iteration: 13, Value: 3354.8480140174192, Gradient norm: 1100.1650658307583\n",
      "Iteration: 14, Value: 2868.9143019347075, Gradient norm: 520.8695110663156\n",
      "Iteration: 15, Value: 2665.324342770819, Gradient norm: 233.32855073397513\n",
      "Iteration: 16, Value: 2593.5257017987133, Gradient norm: 93.40576542678627\n",
      "Iteration: 17, Value: 2575.343889305938, Gradient norm: 29.74732921612723\n",
      "Iteration: 18, Value: 2572.851111255766, Gradient norm: 6.003487074741227\n",
      "Iteration: 19, Value: 2572.7349633605013, Gradient norm: 0.5141418403118806\n"
     ]
    }
   ],
   "execution_count": 51
  },
  {
   "metadata": {
    "ExecuteTime": {
     "end_time": "2025-07-09T14:58:11.303428Z",
     "start_time": "2025-07-09T14:58:11.300876Z"
    }
   },
   "cell_type": "code",
   "source": "optimized_mean_kern_old, optimized_task_kern_old",
   "id": "c73e5a575a67c8c4",
   "outputs": [
    {
     "data": {
      "text/plain": [
       "(SEMagmaKernel(length_scale=0.8867817010832448, variance=15.783555092593412),\n",
       " SumKernel(left_kernel=SEMagmaKernel(length_scale=0.4404868067753267, variance=-0.48698077333676776), right_kernel=DiagKernel(inner_kernel=ExpKernel(inner_kernel=ConstantKernel(value=14.313616111309392)))))"
      ]
     },
     "execution_count": 52,
     "metadata": {},
     "output_type": "execute_result"
    }
   ],
   "execution_count": 52
  },
  {
   "metadata": {
    "ExecuteTime": {
     "end_time": "2025-07-09T14:58:12.508847Z",
     "start_time": "2025-07-09T14:58:11.333897Z"
    }
   },
   "cell_type": "code",
   "source": "optimized_mean_kern_new, optimized_task_kern_new, _, _ = optimise_hyperparameters_new(mean_kern, task_kern, padded_inputs, padded_outputs, all_inputs, prior_mean, post_mean, post_cov, masks, jitter=jitter, verbose=True)",
   "id": "dd07faf003b6472b",
   "outputs": [
    {
     "name": "stdout",
     "output_type": "stream",
     "text": [
      "Iteration: 0, Value: 7632568.6129706325, Gradient norm: 11013938.746285157\n",
      "Iteration: 1, Value: 2920131.8379903315, Gradient norm: 2926246.5190971177\n",
      "Iteration: 2, Value: 1952581.1574465851, Gradient norm: 1955369.2266142257\n",
      "Iteration: 3, Value: 869176.5626329303, Gradient norm: 869709.4220277806\n",
      "Iteration: 4, Value: 454893.7191824574, Gradient norm: 454974.1652769489\n",
      "Iteration: 5, Value: 223752.82748765693, Gradient norm: 223686.37303180672\n",
      "Iteration: 6, Value: 112747.98392579293, Gradient norm: 112636.82285557516\n",
      "Iteration: 7, Value: 56320.51984895356, Gradient norm: 56188.51684458967\n",
      "Iteration: 8, Value: 28274.054315999383, Gradient norm: 28126.635247176222\n",
      "Iteration: 9, Value: 14219.686049294933, Gradient norm: 14057.594493652585\n",
      "Iteration: 10, Value: 7204.402377523664, Gradient norm: 7027.678691245698\n",
      "Iteration: 11, Value: 3702.0178927986435, Gradient norm: 3510.780628696635\n",
      "Iteration: 12, Value: 1957.2671294474103, Gradient norm: 1752.2204017473512\n",
      "Iteration: 13, Value: 1090.5381165138992, Gradient norm: 873.0535862812893\n",
      "Iteration: 14, Value: 661.442706827994, Gradient norm: 434.4181527295687\n",
      "Iteration: 15, Value: 447.12915820791676, Gradient norm: 218.08594208011777\n",
      "Iteration: 16, Value: 327.0133896372447, Gradient norm: 121.10238267807777\n",
      "Iteration: 17, Value: 251.53988205798512, Gradient norm: 79.77535481164679\n",
      "Iteration: 18, Value: 220.64852980587287, Gradient norm: 183.9545055901977\n",
      "Iteration: 19, Value: 175.38770914230463, Gradient norm: 44.09197442118599\n",
      "Iteration: 20, Value: 164.11401115651307, Gradient norm: 176.409538091246\n",
      "Iteration: 21, Value: 158.42176761377016, Gradient norm: 19.03277207807534\n",
      "Iteration: 22, Value: 156.67434193793696, Gradient norm: 11.554859108178606\n",
      "Iteration: 23, Value: 156.21224450078833, Gradient norm: 6.422099187543152\n",
      "Iteration: 24, Value: 156.05361506250136, Gradient norm: 4.175676142038924\n",
      "Iteration: 25, Value: 155.12337671004806, Gradient norm: 13.358329998301775\n",
      "Iteration: 26, Value: 154.8278153193645, Gradient norm: 6.76247942314723\n",
      "Iteration: 27, Value: 155.3653441489772, Gradient norm: 3.823140736129143\n",
      "Iteration: 28, Value: 154.78152430305298, Gradient norm: 13.008472866082792\n",
      "Iteration: 29, Value: 154.77012441513602, Gradient norm: 5.021677012124028\n",
      "Iteration: 30, Value: 154.76713820878484, Gradient norm: 10.811699883055283\n",
      "Iteration: 31, Value: 156.34794189371235, Gradient norm: 1.708792062606516\n",
      "Iteration: 32, Value: 155.615579983196, Gradient norm: 3.4286704603424876\n",
      "Iteration: 33, Value: 155.4118192706896, Gradient norm: 3.169505270173067\n",
      "Iteration: 34, Value: 154.94410141838392, Gradient norm: 1.5114563652522006\n",
      "Iteration: 35, Value: 154.80529754247715, Gradient norm: 1.997227051931943\n",
      "Iteration: 0, Value: 15103158.281635068, Gradient norm: 12156923.636127315\n",
      "Iteration: 1, Value: 6559690.42860312, Gradient norm: 5687023.630660654\n",
      "Iteration: 2, Value: 2899095.226642256, Gradient norm: 2691870.3612469793\n",
      "Iteration: 3, Value: 1295199.8294057923, Gradient norm: 1252676.992104782\n",
      "Iteration: 4, Value: 619690.471112649, Gradient norm: 609679.0429157162\n",
      "Iteration: 5, Value: 303589.0542994998, Gradient norm: 300311.53899164195\n",
      "Iteration: 6, Value: 151246.92489939556, Gradient norm: 149312.10790595418\n",
      "Iteration: 7, Value: 76145.03886101613, Gradient norm: 74417.64887545355\n",
      "Iteration: 8, Value: 38902.377829632605, Gradient norm: 37138.388508780736\n",
      "Iteration: 9, Value: 20381.3028511012, Gradient norm: 18528.208637205324\n",
      "Iteration: 10, Value: 11184.175783041592, Gradient norm: 9230.941118181785\n",
      "Iteration: 11, Value: 6639.014671094084, Gradient norm: 4583.873245732737\n",
      "Iteration: 12, Value: 4417.183027000131, Gradient norm: 2260.982445486626\n",
      "Iteration: 13, Value: 3354.8480140174192, Gradient norm: 1100.1650658307583\n",
      "Iteration: 14, Value: 2868.9143019347075, Gradient norm: 520.8695110663156\n",
      "Iteration: 15, Value: 2665.324342770819, Gradient norm: 233.32855073397513\n",
      "Iteration: 16, Value: 2593.5257017987133, Gradient norm: 93.40576542678627\n",
      "Iteration: 17, Value: 2575.343889305938, Gradient norm: 29.74732921612723\n",
      "Iteration: 18, Value: 2572.851111255766, Gradient norm: 6.003487074741227\n",
      "Iteration: 19, Value: 2572.7349633605013, Gradient norm: 0.5141418403118806\n"
     ]
    }
   ],
   "execution_count": 53
  },
  {
   "metadata": {
    "ExecuteTime": {
     "end_time": "2025-07-09T14:58:12.524247Z",
     "start_time": "2025-07-09T14:58:12.521078Z"
    }
   },
   "cell_type": "code",
   "source": "optimized_mean_kern_new, optimized_task_kern_new",
   "id": "842fc63dbed8de30",
   "outputs": [
    {
     "data": {
      "text/plain": [
       "(SEMagmaKernel(length_scale=0.8867817010832448, variance=15.783555092593412),\n",
       " SumKernel(left_kernel=SEMagmaKernel(length_scale=0.4404868067753267, variance=-0.48698077333676776), right_kernel=DiagKernel(inner_kernel=ExpKernel(inner_kernel=ConstantKernel(value=14.313616111309392)))))"
      ]
     },
     "execution_count": 54,
     "metadata": {},
     "output_type": "execute_result"
    }
   ],
   "execution_count": 54
  },
  {
   "metadata": {
    "ExecuteTime": {
     "end_time": "2025-07-09T14:58:21.014048Z",
     "start_time": "2025-07-09T14:58:12.538530Z"
    }
   },
   "cell_type": "code",
   "source": [
    "%%timeit -n 3 -r 2\n",
    "optimise_hyperparameters_old(mean_kern, task_kern, padded_inputs, padded_outputs, all_inputs, prior_mean, post_mean, post_cov, masks, jitter=jitter)[0].length_scale.block_until_ready()"
   ],
   "id": "9c9c4ad32b5947d7",
   "outputs": [
    {
     "name": "stdout",
     "output_type": "stream",
     "text": [
      "1.41 s ± 14.9 ms per loop (mean ± std. dev. of 2 runs, 3 loops each)\n"
     ]
    }
   ],
   "execution_count": 55
  },
  {
   "metadata": {
    "ExecuteTime": {
     "end_time": "2025-07-09T14:58:28.792929Z",
     "start_time": "2025-07-09T14:58:21.035099Z"
    }
   },
   "cell_type": "code",
   "source": [
    "%%timeit -n 3 -r 2\n",
    "optimise_hyperparameters_new(mean_kern, task_kern, padded_inputs, padded_outputs, all_inputs, prior_mean, post_mean, post_cov, masks, jitter=jitter)[0].length_scale.block_until_ready()"
   ],
   "id": "6e5653f58b22076d",
   "outputs": [
    {
     "name": "stdout",
     "output_type": "stream",
     "text": [
      "1.29 s ± 43.1 ms per loop (mean ± std. dev. of 2 runs, 3 loops each)\n"
     ]
    }
   ],
   "execution_count": 56
  },
  {
   "metadata": {},
   "cell_type": "markdown",
   "source": "### Distinct Input, Distinct HP",
   "id": "83204767e8354b6f"
  },
  {
   "metadata": {
    "ExecuteTime": {
     "end_time": "2025-07-09T14:58:29.253561Z",
     "start_time": "2025-07-09T14:58:28.819654Z"
    }
   },
   "cell_type": "code",
   "source": [
    "db = pd.read_csv(f\"../datasets/{test_db_size}_distinct_input_distinct_hp.csv\")\n",
    "padded_inputs, padded_outputs, masks, all_inputs = preprocess_db(db)\n",
    "prior_mean = jnp.array(0)\n",
    "all_inputs.shape, padded_inputs.shape"
   ],
   "id": "60ba0c8f3de26ee8",
   "outputs": [
    {
     "data": {
      "text/plain": [
       "((41, 1), (20, 19, 1))"
      ]
     },
     "execution_count": 57,
     "metadata": {},
     "output_type": "execute_result"
    }
   ],
   "execution_count": 57
  },
  {
   "metadata": {
    "ExecuteTime": {
     "end_time": "2025-07-09T14:58:29.274745Z",
     "start_time": "2025-07-09T14:58:29.267743Z"
    }
   },
   "cell_type": "code",
   "source": [
    "mean_kern = SEMagmaKernel(length_scale=jnp.array(.3), variance=jnp.array(1.))\n",
    "\n",
    "key, subkey = jax.random.split(key)\n",
    "distinct_length_scales = jax.random.uniform(subkey, (padded_outputs.shape[0],), jnp.float64, .1, 1)\n",
    "task_kern = SEMagmaKernel(length_scale=jnp.array(.3), variance=jnp.array(1.)) + DiagKernel(ExpKernel(jnp.array(2.5)))"
   ],
   "id": "ae73ef7ef78c2516",
   "outputs": [],
   "execution_count": 58
  },
  {
   "metadata": {
    "ExecuteTime": {
     "end_time": "2025-07-09T14:58:29.573728Z",
     "start_time": "2025-07-09T14:58:29.289816Z"
    }
   },
   "cell_type": "code",
   "source": [
    "post_mean, post_cov = hyperpost(padded_inputs, padded_outputs, masks, prior_mean, mean_kern, task_kern, all_inputs=all_inputs, jitter=jitter)\n",
    "post_mean.shape, post_cov.shape"
   ],
   "id": "abb4ac7f76653561",
   "outputs": [
    {
     "data": {
      "text/plain": [
       "((41,), (41, 41))"
      ]
     },
     "execution_count": 59,
     "metadata": {},
     "output_type": "execute_result"
    }
   ],
   "execution_count": 59
  },
  {
   "metadata": {
    "ExecuteTime": {
     "end_time": "2025-07-09T14:58:32.301933Z",
     "start_time": "2025-07-09T14:58:29.587589Z"
    }
   },
   "cell_type": "code",
   "source": "optimized_mean_kern_old, optimized_task_kern_old, _, _ = optimise_hyperparameters_old(mean_kern, task_kern, padded_inputs, padded_outputs, all_inputs, prior_mean, post_mean, post_cov, masks, jitter=jitter, verbose=True)",
   "id": "2d4033980a9f097",
   "outputs": [
    {
     "name": "stdout",
     "output_type": "stream",
     "text": [
      "Iteration: 0, Value: 190467.96517876248, Gradient norm: 364147.9343514594\n",
      "Iteration: 1, Value: 70687.33262344608, Gradient norm: 71151.35482363835\n",
      "Iteration: 2, Value: 54587.148943791995, Gradient norm: 54758.82799875409\n",
      "Iteration: 3, Value: 23238.841829142337, Gradient norm: 23169.996476653152\n",
      "Iteration: 4, Value: 12518.4407578984, Gradient norm: 12430.065820624288\n",
      "Iteration: 5, Value: 6175.625672469804, Gradient norm: 6074.888620102092\n",
      "Iteration: 6, Value: 3187.1238505582687, Gradient norm: 3072.406505160453\n",
      "Iteration: 7, Value: 1660.8179540650058, Gradient norm: 1530.7027459345343\n",
      "Iteration: 8, Value: 910.6021865349865, Gradient norm: 765.6355834289982\n",
      "Iteration: 9, Value: 540.3338495419432, Gradient norm: 381.93900680731895\n",
      "Iteration: 10, Value: 360.87765266164695, Gradient norm: 191.84876565894726\n",
      "Iteration: 11, Value: 274.64747957731146, Gradient norm: 100.75762915955656\n",
      "Iteration: 12, Value: 219.3269928390746, Gradient norm: 71.24163075267964\n",
      "Iteration: 13, Value: 149.95201158537415, Gradient norm: 120.14136138575667\n",
      "Iteration: 14, Value: 145.0899561716429, Gradient norm: 51.84701347913583\n",
      "Iteration: 15, Value: 128.100767525478, Gradient norm: 34.15203368444634\n",
      "Iteration: 16, Value: 115.2101179224782, Gradient norm: 61.97601051751205\n",
      "Iteration: 17, Value: 107.35432872310724, Gradient norm: 40.273402224367956\n",
      "Iteration: 18, Value: 104.93492265873984, Gradient norm: 6.267994711144922\n",
      "Iteration: 19, Value: 104.88606529735387, Gradient norm: 31.938144404690274\n",
      "Iteration: 20, Value: 104.64565467514736, Gradient norm: 16.034582037887347\n",
      "Iteration: 21, Value: 104.53344720231738, Gradient norm: 14.554791931832256\n",
      "Iteration: 22, Value: 104.52801263114519, Gradient norm: 11.359403626320294\n",
      "Iteration: 23, Value: 104.46795915767605, Gradient norm: 1.565844479788364\n",
      "Iteration: 24, Value: 104.38318379658652, Gradient norm: 8.37598795183622\n",
      "Iteration: 25, Value: 104.52572681531514, Gradient norm: 4.371822128537117\n",
      "Iteration: 26, Value: 104.43020144054904, Gradient norm: 3.0514979074698196\n",
      "Iteration: 27, Value: 104.42477331252849, Gradient norm: 3.4588633819363857\n",
      "Iteration: 28, Value: 104.38440675196536, Gradient norm: 7.792124945936863\n",
      "Iteration: 29, Value: 104.40558258929954, Gradient norm: 5.037867373213981\n",
      "Iteration: 30, Value: 104.3912229816086, Gradient norm: 9.463120656295459\n",
      "Iteration: 31, Value: 104.38311272493296, Gradient norm: 8.097332351396082\n",
      "Iteration: 0, Value: 324167.2774511937, Gradient norm: 248583.27897278403\n",
      "Iteration: 1, Value: 147311.97037104264, Gradient norm: 120224.18029355598\n",
      "Iteration: 2, Value: 64018.87839037214, Gradient norm: 56338.39766420775\n",
      "Iteration: 3, Value: 27784.010072175643, Gradient norm: 25098.57585703111\n",
      "Iteration: 4, Value: 13906.28552309324, Gradient norm: 11980.798664863209\n",
      "Iteration: 5, Value: 7712.526528510707, Gradient norm: 5827.154347080609\n",
      "Iteration: 6, Value: 4832.157375230621, Gradient norm: 2852.012359509141\n",
      "Iteration: 7, Value: 3480.6680878351945, Gradient norm: 1382.24215602966\n",
      "Iteration: 8, Value: 2868.4838637699568, Gradient norm: 653.0961496149112\n",
      "Iteration: 9, Value: 2613.3467640132963, Gradient norm: 292.0078540055491\n",
      "Iteration: 10, Value: 2523.8410493246975, Gradient norm: 116.58179425421987\n",
      "Iteration: 11, Value: 2501.3447239203147, Gradient norm: 36.94358199008092\n",
      "Iteration: 12, Value: 2498.2994259380275, Gradient norm: 7.386562181310253\n",
      "Iteration: 13, Value: 2498.1605465341413, Gradient norm: 0.6243020424461116\n",
      "Iteration: 14, Value: 2498.1595316821, Gradient norm: 0.018802740592568267\n"
     ]
    }
   ],
   "execution_count": 60
  },
  {
   "metadata": {
    "ExecuteTime": {
     "end_time": "2025-07-09T14:58:32.348699Z",
     "start_time": "2025-07-09T14:58:32.342629Z"
    }
   },
   "cell_type": "code",
   "source": "optimized_mean_kern_old, optimized_task_kern_old",
   "id": "aab097f74d119f81",
   "outputs": [
    {
     "data": {
      "text/plain": [
       "(SEMagmaKernel(length_scale=0.7288395212051347, variance=11.906479811901379),\n",
       " SumKernel(left_kernel=SEMagmaKernel(length_scale=0.18794220954840343, variance=0.4148712219921758), right_kernel=DiagKernel(inner_kernel=ExpKernel(inner_kernel=ConstantKernel(value=10.310210776967464)))))"
      ]
     },
     "execution_count": 61,
     "metadata": {},
     "output_type": "execute_result"
    }
   ],
   "execution_count": 61
  },
  {
   "metadata": {
    "ExecuteTime": {
     "end_time": "2025-07-09T14:58:34.110907Z",
     "start_time": "2025-07-09T14:58:32.366159Z"
    }
   },
   "cell_type": "code",
   "source": "optimized_mean_kern_new, optimized_task_kern_new, _, _ = optimise_hyperparameters_new(mean_kern, task_kern, padded_inputs, padded_outputs, all_inputs, prior_mean, post_mean, post_cov, masks, jitter=jitter, verbose=True)",
   "id": "32fcb850cd9a29ac",
   "outputs": [
    {
     "name": "stdout",
     "output_type": "stream",
     "text": [
      "Iteration: 0, Value: 190467.96517876248, Gradient norm: 364147.9343514594\n",
      "Iteration: 1, Value: 70687.33262344608, Gradient norm: 71151.35482363835\n",
      "Iteration: 2, Value: 54587.148943791995, Gradient norm: 54758.82799875409\n",
      "Iteration: 3, Value: 23238.841829142337, Gradient norm: 23169.996476653152\n",
      "Iteration: 4, Value: 12518.4407578984, Gradient norm: 12430.065820624288\n",
      "Iteration: 5, Value: 6175.625672469804, Gradient norm: 6074.888620102092\n",
      "Iteration: 6, Value: 3187.1238505582687, Gradient norm: 3072.406505160453\n",
      "Iteration: 7, Value: 1660.8179540650058, Gradient norm: 1530.7027459345343\n",
      "Iteration: 8, Value: 910.6021865349865, Gradient norm: 765.6355834289982\n",
      "Iteration: 9, Value: 540.3338495419432, Gradient norm: 381.93900680731895\n",
      "Iteration: 10, Value: 360.87765266164695, Gradient norm: 191.84876565894726\n",
      "Iteration: 11, Value: 274.64747957731146, Gradient norm: 100.75762915955656\n",
      "Iteration: 12, Value: 219.3269928390746, Gradient norm: 71.24163075267964\n",
      "Iteration: 13, Value: 149.95201158537415, Gradient norm: 120.14136138575667\n",
      "Iteration: 14, Value: 145.0899561716429, Gradient norm: 51.84701347913583\n",
      "Iteration: 15, Value: 128.100767525478, Gradient norm: 34.15203368444634\n",
      "Iteration: 16, Value: 115.2101179224782, Gradient norm: 61.97601051751205\n",
      "Iteration: 17, Value: 107.35432872310724, Gradient norm: 40.273402224367956\n",
      "Iteration: 18, Value: 104.93492265873984, Gradient norm: 6.267994711144922\n",
      "Iteration: 19, Value: 104.88606529735387, Gradient norm: 31.938144404690274\n",
      "Iteration: 20, Value: 104.64565467514736, Gradient norm: 16.034582037887347\n",
      "Iteration: 21, Value: 104.53344720231738, Gradient norm: 14.554791931832256\n",
      "Iteration: 22, Value: 104.52801263114519, Gradient norm: 11.359403626320294\n",
      "Iteration: 23, Value: 104.46795915767605, Gradient norm: 1.565844479788364\n",
      "Iteration: 24, Value: 104.38318379658652, Gradient norm: 8.37598795183622\n",
      "Iteration: 25, Value: 104.52572681531514, Gradient norm: 4.371822128537117\n",
      "Iteration: 26, Value: 104.43020144054904, Gradient norm: 3.0514979074698196\n",
      "Iteration: 27, Value: 104.42477331252849, Gradient norm: 3.4588633819363857\n",
      "Iteration: 28, Value: 104.38440675196536, Gradient norm: 7.792124945936863\n",
      "Iteration: 29, Value: 104.40558258929954, Gradient norm: 5.037867373213981\n",
      "Iteration: 30, Value: 104.3912229816086, Gradient norm: 9.463120656295459\n",
      "Iteration: 31, Value: 104.38311272493296, Gradient norm: 8.097332351396082\n",
      "Iteration: 0, Value: 324167.2774511937, Gradient norm: 248583.27897278403\n",
      "Iteration: 1, Value: 147311.97037104264, Gradient norm: 120224.18029355598\n",
      "Iteration: 2, Value: 64018.87839037214, Gradient norm: 56338.39766420775\n",
      "Iteration: 3, Value: 27784.010072175643, Gradient norm: 25098.57585703111\n",
      "Iteration: 4, Value: 13906.28552309324, Gradient norm: 11980.798664863209\n",
      "Iteration: 5, Value: 7712.526528510707, Gradient norm: 5827.154347080609\n",
      "Iteration: 6, Value: 4832.157375230621, Gradient norm: 2852.012359509141\n",
      "Iteration: 7, Value: 3480.6680878351945, Gradient norm: 1382.24215602966\n",
      "Iteration: 8, Value: 2868.4838637699568, Gradient norm: 653.0961496149112\n",
      "Iteration: 9, Value: 2613.3467640132963, Gradient norm: 292.0078540055491\n",
      "Iteration: 10, Value: 2523.8410493246975, Gradient norm: 116.58179425421987\n",
      "Iteration: 11, Value: 2501.3447239203147, Gradient norm: 36.94358199008092\n",
      "Iteration: 12, Value: 2498.2994259380275, Gradient norm: 7.386562181310253\n",
      "Iteration: 13, Value: 2498.1605465341413, Gradient norm: 0.6243020424461116\n",
      "Iteration: 14, Value: 2498.1595316821, Gradient norm: 0.018802740592568267\n"
     ]
    }
   ],
   "execution_count": 62
  },
  {
   "metadata": {
    "ExecuteTime": {
     "end_time": "2025-07-09T14:58:34.128155Z",
     "start_time": "2025-07-09T14:58:34.125321Z"
    }
   },
   "cell_type": "code",
   "source": "optimized_mean_kern_new, optimized_task_kern_new",
   "id": "61e2566cbbd6249a",
   "outputs": [
    {
     "data": {
      "text/plain": [
       "(SEMagmaKernel(length_scale=0.7288395212051347, variance=11.906479811901379),\n",
       " SumKernel(left_kernel=SEMagmaKernel(length_scale=0.18794220954840343, variance=0.4148712219921758), right_kernel=DiagKernel(inner_kernel=ExpKernel(inner_kernel=ConstantKernel(value=10.310210776967464)))))"
      ]
     },
     "execution_count": 63,
     "metadata": {},
     "output_type": "execute_result"
    }
   ],
   "execution_count": 63
  },
  {
   "metadata": {
    "ExecuteTime": {
     "end_time": "2025-07-09T14:58:42.363206Z",
     "start_time": "2025-07-09T14:58:34.146049Z"
    }
   },
   "cell_type": "code",
   "source": [
    "%%timeit -n 3 -r 2\n",
    "optimise_hyperparameters_old(mean_kern, task_kern, padded_inputs, padded_outputs, all_inputs, prior_mean, post_mean, post_cov, masks, jitter=jitter)[0].length_scale.block_until_ready()"
   ],
   "id": "349b9d1404b18043",
   "outputs": [
    {
     "name": "stdout",
     "output_type": "stream",
     "text": [
      "1.37 s ± 1.79 ms per loop (mean ± std. dev. of 2 runs, 3 loops each)\n"
     ]
    }
   ],
   "execution_count": 64
  },
  {
   "metadata": {
    "ExecuteTime": {
     "end_time": "2025-07-09T14:58:50.873973Z",
     "start_time": "2025-07-09T14:58:42.401574Z"
    }
   },
   "cell_type": "code",
   "source": [
    "%%timeit -n 3 -r 2\n",
    "optimise_hyperparameters_new(mean_kern, task_kern, padded_inputs, padded_outputs, all_inputs, prior_mean, post_mean, post_cov, masks, jitter=jitter)[0].length_scale.block_until_ready()"
   ],
   "id": "4e1a9da215c8b2c5",
   "outputs": [
    {
     "name": "stdout",
     "output_type": "stream",
     "text": [
      "1.41 s ± 4.89 ms per loop (mean ± std. dev. of 2 runs, 3 loops each)\n"
     ]
    }
   ],
   "execution_count": 65
  },
  {
   "metadata": {},
   "cell_type": "markdown",
   "source": [
    "---\n",
    "## Conclusion"
   ],
   "id": "13b12c3f2e1d55d9"
  },
  {
   "metadata": {
    "ExecuteTime": {
     "end_time": "2025-07-09T14:58:50.986085Z",
     "start_time": "2025-07-09T14:58:50.981634Z"
    }
   },
   "cell_type": "code",
   "source": "",
   "id": "9d1049db31416eda",
   "outputs": [],
   "execution_count": null
  },
  {
   "metadata": {},
   "cell_type": "markdown",
   "source": "---",
   "id": "5e278787af3818b9"
  }
 ],
 "metadata": {
  "kernelspec": {
   "display_name": "Python 3",
   "language": "python",
   "name": "python3"
  },
  "language_info": {
   "codemirror_mode": {
    "name": "ipython",
    "version": 2
   },
   "file_extension": ".py",
   "mimetype": "text/x-python",
   "name": "python",
   "nbconvert_exporter": "python",
   "pygments_lexer": "ipython2",
   "version": "2.7.6"
  }
 },
 "nbformat": 4,
 "nbformat_minor": 5
}
