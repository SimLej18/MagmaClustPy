{
 "cells": [
  {
   "metadata": {},
   "cell_type": "markdown",
   "source": [
    "# Benchmarks - Hyper-parameters optimisation\n",
    "\n",
    "**Main considerations when implementing HPs optimisation**\n",
    "- we made kernels pytrees, so we should be able to compute gradient and optimise for them directly\n"
   ],
   "id": "b3c7fb13dd0f50f4"
  },
  {
   "metadata": {},
   "cell_type": "markdown",
   "source": [
    "---\n",
    "## Setup"
   ],
   "id": "e79b3311ad31df3f"
  },
  {
   "metadata": {
    "ExecuteTime": {
     "end_time": "2025-07-09T14:48:12.410532Z",
     "start_time": "2025-07-09T14:48:12.407126Z"
    }
   },
   "cell_type": "code",
   "source": [
    "# Standard library\n",
    "import os\n",
    "from typing import NamedTuple\n",
    "\n",
    "os.environ['JAX_ENABLE_X64'] = \"True\""
   ],
   "id": "a6a833855c1b48e9",
   "outputs": [],
   "execution_count": 1
  },
  {
   "metadata": {
    "ExecuteTime": {
     "end_time": "2025-07-09T14:48:13.219867Z",
     "start_time": "2025-07-09T14:48:12.516727Z"
    }
   },
   "cell_type": "code",
   "source": [
    "# Third party\n",
    "import jax\n",
    "import jax.numpy as jnp\n",
    "import jax.random as jrd\n",
    "from jax.tree_util import tree_flatten\n",
    "import optax\n",
    "import optax.tree_utils as otu\n",
    "import chex\n",
    "\n",
    "import numpy as np\n",
    "import pandas as pd"
   ],
   "id": "ac216c6509d3a07f",
   "outputs": [],
   "execution_count": 2
  },
  {
   "metadata": {
    "ExecuteTime": {
     "end_time": "2025-07-09T14:48:13.289336Z",
     "start_time": "2025-07-09T14:48:13.225874Z"
    }
   },
   "cell_type": "code",
   "source": [
    "# Local\n",
    "from Kernax import SEMagmaKernel, DiagKernel, ExpKernel\n",
    "from MagmaClustPy.utils import preprocess_db\n",
    "from MagmaClustPy.hyperpost import hyperpost"
   ],
   "id": "489423e8889c492d",
   "outputs": [],
   "execution_count": 3
  },
  {
   "metadata": {
    "ExecuteTime": {
     "end_time": "2025-07-09T14:48:13.298351Z",
     "start_time": "2025-07-09T14:48:13.296203Z"
    }
   },
   "cell_type": "code",
   "source": [
    "# Config\n",
    "key = jrd.PRNGKey(0)\n",
    "test_db_size = \"small\""
   ],
   "id": "3e5dc5f15ab33e1a",
   "outputs": [],
   "execution_count": 4
  },
  {
   "metadata": {},
   "cell_type": "markdown",
   "source": [
    "---\n",
    "## Data"
   ],
   "id": "ac6a128506dca90c"
  },
  {
   "metadata": {
    "ExecuteTime": {
     "end_time": "2025-07-09T14:48:13.309523Z",
     "start_time": "2025-07-09T14:48:13.307904Z"
    }
   },
   "cell_type": "code",
   "source": "",
   "id": "a6109c6bb00ed82f",
   "outputs": [],
   "execution_count": null
  },
  {
   "metadata": {},
   "cell_type": "markdown",
   "source": [
    "---\n",
    "## Current implementation"
   ],
   "id": "ecf3dcbf9770f1a9"
  },
  {
   "metadata": {
    "ExecuteTime": {
     "end_time": "2025-07-09T14:48:13.318584Z",
     "start_time": "2025-07-09T14:48:13.316661Z"
    }
   },
   "cell_type": "code",
   "source": [
    "import MagmaClustPy\n",
    "optimise_hyperparameters_old = MagmaClustPy.hp_optimisation.optimise_hyperparameters"
   ],
   "id": "e270d1fb4227c9e1",
   "outputs": [],
   "execution_count": 5
  },
  {
   "metadata": {},
   "cell_type": "markdown",
   "source": [
    "---\n",
    "## Custom implementation(s)"
   ],
   "id": "eb9741fdeac26cf1"
  },
  {
   "metadata": {
    "ExecuteTime": {
     "end_time": "2025-07-09T14:48:13.330205Z",
     "start_time": "2025-07-09T14:48:13.324468Z"
    }
   },
   "cell_type": "code",
   "source": [
    "from typing import NamedTuple\n",
    "\n",
    "import chex\n",
    "import jax\n",
    "import jax.numpy as jnp\n",
    "import optax\n",
    "import optax.tree_utils as otu\n",
    "\n",
    "from MagmaClustPy.likelihoods import magma_neg_likelihood\n",
    "\n",
    "\n",
    "# Taken from optax doc (https://optax.readthedocs.io/en/latest/_collections/examples/lbfgs.html#l-bfgs-solver)\n",
    "class InfoState(NamedTuple):\n",
    "\titer_num: chex.Numeric\n",
    "\n",
    "\n",
    "def print_info():\n",
    "\tdef init_fn(params):\n",
    "\t\tdel params\n",
    "\t\treturn InfoState(iter_num=0)\n",
    "\n",
    "\tdef update_fn(updates, state, params, *, value, grad, **extra_args):\n",
    "\t\tdel params, extra_args\n",
    "\n",
    "\t\tjax.debug.print(\n",
    "\t\t\t'Iteration: {i}, Value: {v}, Gradient norm: {e}',\n",
    "\t\t\ti=state.iter_num,\n",
    "\t\t\tv=value,\n",
    "\t\t\te=otu.tree_norm(grad),\n",
    "\t\t)\n",
    "\t\treturn updates, InfoState(iter_num=state.iter_num + 1)\n",
    "\n",
    "\treturn optax.GradientTransformationExtraArgs(init_fn, update_fn)\n",
    "\n",
    "\n",
    "# Adapted from optax doc (https://optax.readthedocs.io/en/latest/_collections/examples/lbfgs.html#l-bfgs-solver)\n",
    "def run_opt(init_params, fun, opt, max_iter, tol):\n",
    "\tvalue_and_grad_fun = optax.value_and_grad_from_state(fun)\n",
    "\n",
    "\tdef step(carry):\n",
    "\t\tparams, state, prev_llh = carry\n",
    "\t\tvalue, grad = value_and_grad_fun(params, state=state)\n",
    "\t\tupdates, state = opt.update(grad, state, params, value=value, grad=grad, value_fn=fun)\n",
    "\t\tparams = optax.apply_updates(params, updates)\n",
    "\t\treturn params, state, value\n",
    "\n",
    "\tdef continuing_criterion(carry):\n",
    "\t\t# tol is not computed on the gradients but on the difference between current and previous likelihoods, to\n",
    "\t\t# prevent overfitting on ill-defined likelihood functions where variance can blow up.\n",
    "\t\t_, state, prev_llh = carry\n",
    "\t\titer_num = otu.tree_get(state, 'count')\n",
    "\t\tval = otu.tree_get(state, 'value')\n",
    "\t\tdiff = jnp.abs(val - prev_llh)\n",
    "\t\treturn (iter_num == 0) | ((iter_num < max_iter) & (diff >= tol))\n",
    "\n",
    "\tinit_carry = (init_params, opt.init(init_params),\n",
    "\t              jnp.array(jnp.inf))  # kernel params, initial state, first iter, previous likelihood\n",
    "\tfinal_params, final_state, final_llh = jax.lax.while_loop(\n",
    "\t\tcontinuing_criterion, step, init_carry\n",
    "\t)\n",
    "\treturn final_params, final_state, final_llh\n",
    "\n",
    "\n",
    "def optimise_hyperparameters(mean_kernel, task_kernel, inputs, outputs, all_inputs, prior_mean, post_mean, post_cov,\n",
    "                             mappings, nugget=jnp.array(1e-10), max_iter=100, tol=1e-3, verbose=False):\n",
    "\t# Optimise mean kernel\n",
    "\tif verbose:\n",
    "\t\tmean_opt = optax.chain(print_info(), optax.lbfgs())\n",
    "\telse:\n",
    "\t\tmean_opt = optax.lbfgs()\n",
    "\n",
    "\tdef mean_fun_wrapper(kern):\n",
    "\t\tres = magma_neg_likelihood(kern, all_inputs, post_mean, prior_mean, post_cov, None, nugget=nugget)\n",
    "\t\treturn res\n",
    "\n",
    "\tnew_mean_kernel, _, mean_llh = run_opt(mean_kernel, mean_fun_wrapper, mean_opt, max_iter=max_iter, tol=tol)\n",
    "\n",
    "\t# Optimise task kernel\n",
    "\tif verbose:\n",
    "\t\ttask_opt = optax.chain(print_info(), optax.lbfgs())\n",
    "\telse:\n",
    "\t\ttask_opt = optax.lbfgs()\n",
    "\n",
    "\tdef task_fun_wrapper(kern):\n",
    "\t\tres = magma_neg_likelihood(kern, inputs, outputs, post_mean, post_cov, mappings, nugget=nugget).sum()\n",
    "\t\treturn res\n",
    "\n",
    "\tnew_task_kernel, _, task_llh = run_opt(task_kernel, task_fun_wrapper, task_opt, max_iter=max_iter, tol=tol)\n",
    "\n",
    "\treturn new_mean_kernel, new_task_kernel, mean_llh, task_llh"
   ],
   "id": "547677121acc1215",
   "outputs": [],
   "execution_count": 6
  },
  {
   "metadata": {
    "ExecuteTime": {
     "end_time": "2025-07-09T14:48:13.338831Z",
     "start_time": "2025-07-09T14:48:13.336948Z"
    }
   },
   "cell_type": "code",
   "source": "optimise_hyperparameters_new = optimise_hyperparameters",
   "id": "ee5d6bdf0b50d65",
   "outputs": [],
   "execution_count": 7
  },
  {
   "metadata": {},
   "cell_type": "markdown",
   "source": [
    "---\n",
    "## Comparison"
   ],
   "id": "4ca5a9878a1cb3d3"
  },
  {
   "metadata": {
    "ExecuteTime": {
     "end_time": "2025-07-09T14:48:13.351014Z",
     "start_time": "2025-07-09T14:48:13.348818Z"
    }
   },
   "cell_type": "code",
   "source": "nugget = jnp.array(1e-10)",
   "id": "ffd445017b473b89",
   "outputs": [],
   "execution_count": 8
  },
  {
   "metadata": {},
   "cell_type": "markdown",
   "source": "### shared Input, shared HP",
   "id": "fd78cbfe819ddfa1"
  },
  {
   "metadata": {
    "ExecuteTime": {
     "end_time": "2025-07-09T14:48:13.803175Z",
     "start_time": "2025-07-09T14:48:13.357933Z"
    }
   },
   "cell_type": "code",
   "source": [
    "db = pd.read_csv(f\"../datasets/{test_db_size}_shared_input_shared_hp.csv\")\n",
    "padded_inputs, padded_outputs, masks, all_inputs = preprocess_db(db)\n",
    "prior_mean = jnp.array(0)\n",
    "all_inputs.shape, padded_inputs.shape"
   ],
   "id": "7ea422a4f5fd3d4d",
   "outputs": [
    {
     "data": {
      "text/plain": [
       "((15, 1), (20, 15, 1))"
      ]
     },
     "execution_count": 9,
     "metadata": {},
     "output_type": "execute_result"
    }
   ],
   "execution_count": 9
  },
  {
   "metadata": {
    "ExecuteTime": {
     "end_time": "2025-07-09T14:48:13.838430Z",
     "start_time": "2025-07-09T14:48:13.834963Z"
    }
   },
   "cell_type": "code",
   "source": [
    "mean_kern = SEMagmaKernel(length_scale=.3, variance=1.)\n",
    "task_kern = SEMagmaKernel(length_scale=.3, variance=1.) + DiagKernel(ExpKernel(2.5))"
   ],
   "id": "b84be4451fab310f",
   "outputs": [],
   "execution_count": 10
  },
  {
   "metadata": {
    "ExecuteTime": {
     "end_time": "2025-07-09T14:48:14.982621Z",
     "start_time": "2025-07-09T14:48:13.860983Z"
    }
   },
   "cell_type": "code",
   "source": [
    "post_mean, post_cov = hyperpost(padded_inputs, padded_outputs, masks, prior_mean, mean_kern, task_kern, all_inputs=all_inputs, nugget=nugget)\n",
    "post_mean.shape, post_cov.shape"
   ],
   "id": "8acd23d0f6cc9f72",
   "outputs": [
    {
     "data": {
      "text/plain": [
       "((15,), (15, 15))"
      ]
     },
     "execution_count": 11,
     "metadata": {},
     "output_type": "execute_result"
    }
   ],
   "execution_count": 11
  },
  {
   "metadata": {
    "ExecuteTime": {
     "end_time": "2025-07-09T14:48:15.295828Z",
     "start_time": "2025-07-09T14:48:15.003466Z"
    }
   },
   "cell_type": "code",
   "source": "optimized_mean_kern_old, optimized_task_kern_old, _, _ = optimise_hyperparameters_old(mean_kern, task_kern, padded_inputs, padded_outputs, all_inputs, prior_mean, post_mean, post_cov, masks, nugget=nugget, verbose=True)",
   "id": "5fecb512ce7c194f",
   "outputs": [
    {
     "ename": "AttributeError",
     "evalue": "'float' object has no attribute 'shape'",
     "output_type": "error",
     "traceback": [
      "\u001B[31m---------------------------------------------------------------------------\u001B[39m",
      "\u001B[31mAttributeError\u001B[39m                            Traceback (most recent call last)",
      "\u001B[36mCell\u001B[39m\u001B[36m \u001B[39m\u001B[32mIn[12]\u001B[39m\u001B[32m, line 1\u001B[39m\n\u001B[32m----> \u001B[39m\u001B[32m1\u001B[39m optimized_mean_kern_old, optimized_task_kern_old, _, _ = \u001B[43moptimise_hyperparameters_old\u001B[49m\u001B[43m(\u001B[49m\u001B[43mmean_kern\u001B[49m\u001B[43m,\u001B[49m\u001B[43m \u001B[49m\u001B[43mtask_kern\u001B[49m\u001B[43m,\u001B[49m\u001B[43m \u001B[49m\u001B[43mpadded_inputs\u001B[49m\u001B[43m,\u001B[49m\u001B[43m \u001B[49m\u001B[43mpadded_outputs\u001B[49m\u001B[43m,\u001B[49m\u001B[43m \u001B[49m\u001B[43mall_inputs\u001B[49m\u001B[43m,\u001B[49m\u001B[43m \u001B[49m\u001B[43mprior_mean\u001B[49m\u001B[43m,\u001B[49m\u001B[43m \u001B[49m\u001B[43mpost_mean\u001B[49m\u001B[43m,\u001B[49m\u001B[43m \u001B[49m\u001B[43mpost_cov\u001B[49m\u001B[43m,\u001B[49m\u001B[43m \u001B[49m\u001B[43mmasks\u001B[49m\u001B[43m,\u001B[49m\u001B[43m \u001B[49m\u001B[43mnugget\u001B[49m\u001B[43m=\u001B[49m\u001B[43mnugget\u001B[49m\u001B[43m,\u001B[49m\u001B[43m \u001B[49m\u001B[43mverbose\u001B[49m\u001B[43m=\u001B[49m\u001B[38;5;28;43;01mTrue\u001B[39;49;00m\u001B[43m)\u001B[49m\n",
      "\u001B[36mFile \u001B[39m\u001B[32m~/Documents/Work/MagmaClustPy/MagmaClustPy/hp_optimisation.py:100\u001B[39m, in \u001B[36moptimise_hyperparameters\u001B[39m\u001B[34m(mean_kernel, task_kernel, inputs, outputs, all_inputs, prior_mean, post_mean, post_cov, mappings, nugget, max_iter, tol, verbose)\u001B[39m\n\u001B[32m     97\u001B[39m \tres = magma_neg_likelihood(kern, all_inputs, post_mean, prior_mean, post_cov, \u001B[38;5;28;01mNone\u001B[39;00m, nugget=nugget)\n\u001B[32m     98\u001B[39m \t\u001B[38;5;28;01mreturn\u001B[39;00m res\n\u001B[32m--> \u001B[39m\u001B[32m100\u001B[39m new_mean_kernel, _, mean_llh = \u001B[43mrun_opt\u001B[49m\u001B[43m(\u001B[49m\u001B[43mmean_kernel\u001B[49m\u001B[43m,\u001B[49m\u001B[43m \u001B[49m\u001B[43mmean_fun_wrapper\u001B[49m\u001B[43m,\u001B[49m\u001B[43m \u001B[49m\u001B[43mmean_opt\u001B[49m\u001B[43m,\u001B[49m\u001B[43m \u001B[49m\u001B[43mmax_iter\u001B[49m\u001B[43m=\u001B[49m\u001B[43mmax_iter\u001B[49m\u001B[43m,\u001B[49m\u001B[43m \u001B[49m\u001B[43mtol\u001B[49m\u001B[43m=\u001B[49m\u001B[43mtol\u001B[49m\u001B[43m)\u001B[49m\n\u001B[32m    102\u001B[39m \u001B[38;5;66;03m# Optimise task kernel\u001B[39;00m\n\u001B[32m    103\u001B[39m \u001B[38;5;28;01mif\u001B[39;00m verbose:\n",
      "\u001B[36mFile \u001B[39m\u001B[32m~/Documents/Work/MagmaClustPy/MagmaClustPy/hp_optimisation.py:59\u001B[39m, in \u001B[36mrun_opt\u001B[39m\u001B[34m(init_params, fun, opt, max_iter, tol)\u001B[39m\n\u001B[32m     56\u001B[39m \tdiff = jnp.abs(val - prev_llh)\n\u001B[32m     57\u001B[39m \t\u001B[38;5;28;01mreturn\u001B[39;00m (iter_num == \u001B[32m0\u001B[39m) | ((iter_num < max_iter) & (diff >= tol))\n\u001B[32m---> \u001B[39m\u001B[32m59\u001B[39m init_carry = (init_params, \u001B[43mopt\u001B[49m\u001B[43m.\u001B[49m\u001B[43minit\u001B[49m\u001B[43m(\u001B[49m\u001B[43minit_params\u001B[49m\u001B[43m)\u001B[49m,\n\u001B[32m     60\u001B[39m               jnp.array(jnp.inf))  \u001B[38;5;66;03m# kernel params, initial state, first iter, previous likelihood\u001B[39;00m\n\u001B[32m     61\u001B[39m final_params, final_state, final_llh = jax.lax.while_loop(\n\u001B[32m     62\u001B[39m \tcontinuing_criterion, step, init_carry\n\u001B[32m     63\u001B[39m )\n\u001B[32m     64\u001B[39m \u001B[38;5;28;01mreturn\u001B[39;00m final_params, final_state, final_llh\n",
      "\u001B[36mFile \u001B[39m\u001B[32m/opt/anaconda3/envs/MagmaClustPy/lib/python3.12/site-packages/optax/transforms/_combining.py:78\u001B[39m, in \u001B[36mchain.<locals>.init_fn\u001B[39m\u001B[34m(params)\u001B[39m\n\u001B[32m     77\u001B[39m \u001B[38;5;28;01mdef\u001B[39;00m\u001B[38;5;250m \u001B[39m\u001B[34minit_fn\u001B[39m(params):\n\u001B[32m---> \u001B[39m\u001B[32m78\u001B[39m   \u001B[38;5;28;01mreturn\u001B[39;00m \u001B[38;5;28;43mtuple\u001B[39;49m\u001B[43m(\u001B[49m\u001B[43mfn\u001B[49m\u001B[43m(\u001B[49m\u001B[43mparams\u001B[49m\u001B[43m)\u001B[49m\u001B[43m \u001B[49m\u001B[38;5;28;43;01mfor\u001B[39;49;00m\u001B[43m \u001B[49m\u001B[43mfn\u001B[49m\u001B[43m \u001B[49m\u001B[38;5;129;43;01min\u001B[39;49;00m\u001B[43m \u001B[49m\u001B[43minit_fns\u001B[49m\u001B[43m)\u001B[49m\n",
      "\u001B[36mFile \u001B[39m\u001B[32m/opt/anaconda3/envs/MagmaClustPy/lib/python3.12/site-packages/optax/transforms/_combining.py:78\u001B[39m, in \u001B[36m<genexpr>\u001B[39m\u001B[34m(.0)\u001B[39m\n\u001B[32m     77\u001B[39m \u001B[38;5;28;01mdef\u001B[39;00m\u001B[38;5;250m \u001B[39m\u001B[34minit_fn\u001B[39m(params):\n\u001B[32m---> \u001B[39m\u001B[32m78\u001B[39m   \u001B[38;5;28;01mreturn\u001B[39;00m \u001B[38;5;28mtuple\u001B[39m(\u001B[43mfn\u001B[49m\u001B[43m(\u001B[49m\u001B[43mparams\u001B[49m\u001B[43m)\u001B[49m \u001B[38;5;28;01mfor\u001B[39;00m fn \u001B[38;5;129;01min\u001B[39;00m init_fns)\n",
      "\u001B[36mFile \u001B[39m\u001B[32m/opt/anaconda3/envs/MagmaClustPy/lib/python3.12/site-packages/optax/transforms/_combining.py:78\u001B[39m, in \u001B[36mchain.<locals>.init_fn\u001B[39m\u001B[34m(params)\u001B[39m\n\u001B[32m     77\u001B[39m \u001B[38;5;28;01mdef\u001B[39;00m\u001B[38;5;250m \u001B[39m\u001B[34minit_fn\u001B[39m(params):\n\u001B[32m---> \u001B[39m\u001B[32m78\u001B[39m   \u001B[38;5;28;01mreturn\u001B[39;00m \u001B[38;5;28;43mtuple\u001B[39;49m\u001B[43m(\u001B[49m\u001B[43mfn\u001B[49m\u001B[43m(\u001B[49m\u001B[43mparams\u001B[49m\u001B[43m)\u001B[49m\u001B[43m \u001B[49m\u001B[38;5;28;43;01mfor\u001B[39;49;00m\u001B[43m \u001B[49m\u001B[43mfn\u001B[49m\u001B[43m \u001B[49m\u001B[38;5;129;43;01min\u001B[39;49;00m\u001B[43m \u001B[49m\u001B[43minit_fns\u001B[49m\u001B[43m)\u001B[49m\n",
      "\u001B[36mFile \u001B[39m\u001B[32m/opt/anaconda3/envs/MagmaClustPy/lib/python3.12/site-packages/optax/transforms/_combining.py:78\u001B[39m, in \u001B[36m<genexpr>\u001B[39m\u001B[34m(.0)\u001B[39m\n\u001B[32m     77\u001B[39m \u001B[38;5;28;01mdef\u001B[39;00m\u001B[38;5;250m \u001B[39m\u001B[34minit_fn\u001B[39m(params):\n\u001B[32m---> \u001B[39m\u001B[32m78\u001B[39m   \u001B[38;5;28;01mreturn\u001B[39;00m \u001B[38;5;28mtuple\u001B[39m(\u001B[43mfn\u001B[49m\u001B[43m(\u001B[49m\u001B[43mparams\u001B[49m\u001B[43m)\u001B[49m \u001B[38;5;28;01mfor\u001B[39;00m fn \u001B[38;5;129;01min\u001B[39;00m init_fns)\n",
      "\u001B[36mFile \u001B[39m\u001B[32m/opt/anaconda3/envs/MagmaClustPy/lib/python3.12/site-packages/optax/_src/transform.py:1661\u001B[39m, in \u001B[36mscale_by_lbfgs.<locals>.init_fn\u001B[39m\u001B[34m(params)\u001B[39m\n\u001B[32m   1654\u001B[39m \u001B[38;5;28;01mdef\u001B[39;00m\u001B[38;5;250m \u001B[39m\u001B[34minit_fn\u001B[39m(params: base.Params) -> ScaleByLBFGSState:\n\u001B[32m   1655\u001B[39m   \u001B[38;5;66;03m# diff_params_memory and diff_updates_memory represent tuple/list of trees\u001B[39;00m\n\u001B[32m   1656\u001B[39m   \u001B[38;5;66;03m# Since we cannot access the element of a tuple using a traced index such\u001B[39;00m\n\u001B[32m   (...)\u001B[39m\u001B[32m   1659\u001B[39m   \u001B[38;5;66;03m# represented by e.g. diff_params_memory through the ith stacked\u001B[39;00m\n\u001B[32m   1660\u001B[39m   \u001B[38;5;66;03m# element in the leaves, see update_fn below for practical examples.\u001B[39;00m\n\u001B[32m-> \u001B[39m\u001B[32m1661\u001B[39m   stacked_zero_params = \u001B[43mjax\u001B[49m\u001B[43m.\u001B[49m\u001B[43mtree\u001B[49m\u001B[43m.\u001B[49m\u001B[43mmap\u001B[49m\u001B[43m(\u001B[49m\n\u001B[32m   1662\u001B[39m \u001B[43m      \u001B[49m\u001B[38;5;28;43;01mlambda\u001B[39;49;00m\u001B[43m \u001B[49m\u001B[43mleaf\u001B[49m\u001B[43m:\u001B[49m\u001B[43m \u001B[49m\u001B[43mjnp\u001B[49m\u001B[43m.\u001B[49m\u001B[43mzeros\u001B[49m\u001B[43m(\u001B[49m\u001B[43m(\u001B[49m\u001B[43mmemory_size\u001B[49m\u001B[43m,\u001B[49m\u001B[43m)\u001B[49m\u001B[43m \u001B[49m\u001B[43m+\u001B[49m\u001B[43m \u001B[49m\u001B[43mleaf\u001B[49m\u001B[43m.\u001B[49m\u001B[43mshape\u001B[49m\u001B[43m,\u001B[49m\u001B[43m \u001B[49m\u001B[43mdtype\u001B[49m\u001B[43m=\u001B[49m\u001B[43mleaf\u001B[49m\u001B[43m.\u001B[49m\u001B[43mdtype\u001B[49m\u001B[43m)\u001B[49m\u001B[43m,\u001B[49m\n\u001B[32m   1663\u001B[39m \u001B[43m      \u001B[49m\u001B[43mparams\u001B[49m\u001B[43m,\u001B[49m\n\u001B[32m   1664\u001B[39m \u001B[43m  \u001B[49m\u001B[43m)\u001B[49m\n\u001B[32m   1665\u001B[39m   \u001B[38;5;28;01mreturn\u001B[39;00m ScaleByLBFGSState(\n\u001B[32m   1666\u001B[39m       count=jnp.asarray(\u001B[32m0\u001B[39m, dtype=jnp.int32),\n\u001B[32m   1667\u001B[39m       params=optax.tree.zeros_like(params),\n\u001B[32m   (...)\u001B[39m\u001B[32m   1671\u001B[39m       weights_memory=jnp.zeros(memory_size),\n\u001B[32m   1672\u001B[39m   )\n",
      "\u001B[36mFile \u001B[39m\u001B[32m/opt/anaconda3/envs/MagmaClustPy/lib/python3.12/site-packages/jax/_src/tree.py:155\u001B[39m, in \u001B[36mmap\u001B[39m\u001B[34m(f, tree, is_leaf, *rest)\u001B[39m\n\u001B[32m    115\u001B[39m \u001B[38;5;28;01mdef\u001B[39;00m\u001B[38;5;250m \u001B[39m\u001B[34mmap\u001B[39m(f: Callable[..., Any],\n\u001B[32m    116\u001B[39m         tree: Any,\n\u001B[32m    117\u001B[39m         *rest: Any,\n\u001B[32m    118\u001B[39m         is_leaf: Callable[[Any], \u001B[38;5;28mbool\u001B[39m] | \u001B[38;5;28;01mNone\u001B[39;00m = \u001B[38;5;28;01mNone\u001B[39;00m) -> Any:\n\u001B[32m    119\u001B[39m \u001B[38;5;250m  \u001B[39m\u001B[33;03m\"\"\"Maps a multi-input function over pytree args to produce a new pytree.\u001B[39;00m\n\u001B[32m    120\u001B[39m \n\u001B[32m    121\u001B[39m \u001B[33;03m  Args:\u001B[39;00m\n\u001B[32m   (...)\u001B[39m\u001B[32m    153\u001B[39m \u001B[33;03m    - :func:`jax.tree.reduce`\u001B[39;00m\n\u001B[32m    154\u001B[39m \u001B[33;03m  \"\"\"\u001B[39;00m\n\u001B[32m--> \u001B[39m\u001B[32m155\u001B[39m   \u001B[38;5;28;01mreturn\u001B[39;00m \u001B[43mtree_util\u001B[49m\u001B[43m.\u001B[49m\u001B[43mtree_map\u001B[49m\u001B[43m(\u001B[49m\u001B[43mf\u001B[49m\u001B[43m,\u001B[49m\u001B[43m \u001B[49m\u001B[43mtree\u001B[49m\u001B[43m,\u001B[49m\u001B[43m \u001B[49m\u001B[43m*\u001B[49m\u001B[43mrest\u001B[49m\u001B[43m,\u001B[49m\u001B[43m \u001B[49m\u001B[43mis_leaf\u001B[49m\u001B[43m=\u001B[49m\u001B[43mis_leaf\u001B[49m\u001B[43m)\u001B[49m\n",
      "\u001B[36mFile \u001B[39m\u001B[32m/opt/anaconda3/envs/MagmaClustPy/lib/python3.12/site-packages/jax/_src/tree_util.py:362\u001B[39m, in \u001B[36mtree_map\u001B[39m\u001B[34m(f, tree, is_leaf, *rest)\u001B[39m\n\u001B[32m    360\u001B[39m leaves, treedef = tree_flatten(tree, is_leaf)\n\u001B[32m    361\u001B[39m all_leaves = [leaves] + [treedef.flatten_up_to(r) \u001B[38;5;28;01mfor\u001B[39;00m r \u001B[38;5;129;01min\u001B[39;00m rest]\n\u001B[32m--> \u001B[39m\u001B[32m362\u001B[39m \u001B[38;5;28;01mreturn\u001B[39;00m \u001B[43mtreedef\u001B[49m\u001B[43m.\u001B[49m\u001B[43munflatten\u001B[49m\u001B[43m(\u001B[49m\u001B[43mf\u001B[49m\u001B[43m(\u001B[49m\u001B[43m*\u001B[49m\u001B[43mxs\u001B[49m\u001B[43m)\u001B[49m\u001B[43m \u001B[49m\u001B[38;5;28;43;01mfor\u001B[39;49;00m\u001B[43m \u001B[49m\u001B[43mxs\u001B[49m\u001B[43m \u001B[49m\u001B[38;5;129;43;01min\u001B[39;49;00m\u001B[43m \u001B[49m\u001B[38;5;28;43mzip\u001B[39;49m\u001B[43m(\u001B[49m\u001B[43m*\u001B[49m\u001B[43mall_leaves\u001B[49m\u001B[43m)\u001B[49m\u001B[43m)\u001B[49m\n",
      "\u001B[36mFile \u001B[39m\u001B[32m/opt/anaconda3/envs/MagmaClustPy/lib/python3.12/site-packages/jax/_src/tree_util.py:362\u001B[39m, in \u001B[36m<genexpr>\u001B[39m\u001B[34m(.0)\u001B[39m\n\u001B[32m    360\u001B[39m leaves, treedef = tree_flatten(tree, is_leaf)\n\u001B[32m    361\u001B[39m all_leaves = [leaves] + [treedef.flatten_up_to(r) \u001B[38;5;28;01mfor\u001B[39;00m r \u001B[38;5;129;01min\u001B[39;00m rest]\n\u001B[32m--> \u001B[39m\u001B[32m362\u001B[39m \u001B[38;5;28;01mreturn\u001B[39;00m treedef.unflatten(\u001B[43mf\u001B[49m\u001B[43m(\u001B[49m\u001B[43m*\u001B[49m\u001B[43mxs\u001B[49m\u001B[43m)\u001B[49m \u001B[38;5;28;01mfor\u001B[39;00m xs \u001B[38;5;129;01min\u001B[39;00m \u001B[38;5;28mzip\u001B[39m(*all_leaves))\n",
      "\u001B[36mFile \u001B[39m\u001B[32m/opt/anaconda3/envs/MagmaClustPy/lib/python3.12/site-packages/optax/_src/transform.py:1662\u001B[39m, in \u001B[36mscale_by_lbfgs.<locals>.init_fn.<locals>.<lambda>\u001B[39m\u001B[34m(leaf)\u001B[39m\n\u001B[32m   1654\u001B[39m \u001B[38;5;28;01mdef\u001B[39;00m\u001B[38;5;250m \u001B[39m\u001B[34minit_fn\u001B[39m(params: base.Params) -> ScaleByLBFGSState:\n\u001B[32m   1655\u001B[39m   \u001B[38;5;66;03m# diff_params_memory and diff_updates_memory represent tuple/list of trees\u001B[39;00m\n\u001B[32m   1656\u001B[39m   \u001B[38;5;66;03m# Since we cannot access the element of a tuple using a traced index such\u001B[39;00m\n\u001B[32m   (...)\u001B[39m\u001B[32m   1659\u001B[39m   \u001B[38;5;66;03m# represented by e.g. diff_params_memory through the ith stacked\u001B[39;00m\n\u001B[32m   1660\u001B[39m   \u001B[38;5;66;03m# element in the leaves, see update_fn below for practical examples.\u001B[39;00m\n\u001B[32m   1661\u001B[39m   stacked_zero_params = jax.tree.map(\n\u001B[32m-> \u001B[39m\u001B[32m1662\u001B[39m       \u001B[38;5;28;01mlambda\u001B[39;00m leaf: jnp.zeros((memory_size,) + \u001B[43mleaf\u001B[49m\u001B[43m.\u001B[49m\u001B[43mshape\u001B[49m, dtype=leaf.dtype),\n\u001B[32m   1663\u001B[39m       params,\n\u001B[32m   1664\u001B[39m   )\n\u001B[32m   1665\u001B[39m   \u001B[38;5;28;01mreturn\u001B[39;00m ScaleByLBFGSState(\n\u001B[32m   1666\u001B[39m       count=jnp.asarray(\u001B[32m0\u001B[39m, dtype=jnp.int32),\n\u001B[32m   1667\u001B[39m       params=optax.tree.zeros_like(params),\n\u001B[32m   (...)\u001B[39m\u001B[32m   1671\u001B[39m       weights_memory=jnp.zeros(memory_size),\n\u001B[32m   1672\u001B[39m   )\n",
      "\u001B[31mAttributeError\u001B[39m: 'float' object has no attribute 'shape'"
     ]
    }
   ],
   "execution_count": 12
  },
  {
   "metadata": {
    "ExecuteTime": {
     "end_time": "2025-07-09T14:48:15.301416Z",
     "start_time": "2025-07-08T15:07:57.242015Z"
    }
   },
   "cell_type": "code",
   "source": "optimized_mean_kern_old, optimized_task_kern_old",
   "id": "95c85ee5b6f8fb0a",
   "outputs": [
    {
     "data": {
      "text/plain": [
       "(SEMagmaKernel(length_scale=1.1709656865266187, variance=5.843095076461786),\n",
       " SumKernel(left_kernel=SEMagmaKernel(length_scale=1.6343234360292214, variance=3.336620286865063), right_kernel=DiagKernel(inner_kernel=ExpKernel(inner_kernel=ConstantKernel(value=0.7728861273444985)))))"
      ]
     },
     "execution_count": 13,
     "metadata": {},
     "output_type": "execute_result"
    }
   ],
   "execution_count": 13
  },
  {
   "metadata": {
    "ExecuteTime": {
     "end_time": "2025-07-09T14:48:15.301601Z",
     "start_time": "2025-07-08T15:07:57.281485Z"
    }
   },
   "cell_type": "code",
   "source": "optimized_mean_kern_new, optimized_task_kern_new, _, _ = optimise_hyperparameters_new(mean_kern, task_kern, padded_inputs, padded_outputs, all_inputs, prior_mean, post_mean, post_cov, masks, nugget=nugget, verbose=True)",
   "id": "2ed1ae4b497b01b7",
   "outputs": [
    {
     "name": "stdout",
     "output_type": "stream",
     "text": [
      "Iteration: 0, Value: 836.6045316967227, Gradient norm: 842.3511548986307\n",
      "Iteration: 1, Value: 314.1133811574371, Gradient norm: 295.11474538671615\n",
      "Iteration: 2, Value: 192.89621304539364, Gradient norm: 166.17834784251815\n",
      "Iteration: 3, Value: 111.14324986746566, Gradient norm: 77.97054924188863\n",
      "Iteration: 4, Value: 76.1837911272774, Gradient norm: 38.653273391248305\n",
      "Iteration: 5, Value: 59.56567545948463, Gradient norm: 18.124596262951094\n",
      "Iteration: 6, Value: 52.74446277509758, Gradient norm: 8.265713962882861\n",
      "Iteration: 7, Value: 50.57056501236482, Gradient norm: 9.332184246722381\n",
      "Iteration: 8, Value: 49.94586723766478, Gradient norm: 6.403268816933967\n",
      "Iteration: 9, Value: 49.62739052343301, Gradient norm: 2.848933628157671\n",
      "Iteration: 10, Value: 49.5836933613408, Gradient norm: 1.539941647377355\n",
      "Iteration: 11, Value: 49.57023956387713, Gradient norm: 0.2128016972688677\n",
      "Iteration: 0, Value: 888.4353418332946, Gradient norm: 44.384857897924874\n",
      "Iteration: 1, Value: 882.7911771996015, Gradient norm: 50.4806476444924\n",
      "Iteration: 2, Value: 868.2082495350386, Gradient norm: 38.48814066464329\n",
      "Iteration: 3, Value: 785.6110707342754, Gradient norm: 25.7188526398837\n",
      "Iteration: 4, Value: 777.224728609138, Gradient norm: 9.907022934354488\n",
      "Iteration: 5, Value: 776.854106431258, Gradient norm: 9.210684840125014\n",
      "Iteration: 6, Value: 776.4550860196796, Gradient norm: 1.0757877199872055\n",
      "Iteration: 7, Value: 776.4409802410521, Gradient norm: 0.12347335719729846\n"
     ]
    }
   ],
   "execution_count": 14
  },
  {
   "metadata": {
    "ExecuteTime": {
     "end_time": "2025-07-09T14:48:15.313978Z",
     "start_time": "2025-07-08T15:07:58.229771Z"
    }
   },
   "cell_type": "code",
   "source": "optimized_mean_kern_new, optimized_task_kern_new",
   "id": "ccf5ce2102a25d84",
   "outputs": [
    {
     "data": {
      "text/plain": [
       "(SEMagmaKernel(length_scale=1.1709656865266187, variance=5.843095076461786),\n",
       " SumKernel(left_kernel=SEMagmaKernel(length_scale=1.6343234360292214, variance=3.336620286865063), right_kernel=DiagKernel(inner_kernel=ExpKernel(inner_kernel=ConstantKernel(value=0.7728861273444985)))))"
      ]
     },
     "execution_count": 15,
     "metadata": {},
     "output_type": "execute_result"
    }
   ],
   "execution_count": 15
  },
  {
   "metadata": {
    "ExecuteTime": {
     "end_time": "2025-07-09T14:48:15.318673Z",
     "start_time": "2025-07-08T15:07:58.257913Z"
    }
   },
   "cell_type": "code",
   "source": [
    "%%timeit -n 3 -r 2\n",
    "optimise_hyperparameters_old(mean_kern, task_kern, padded_inputs, padded_outputs, all_inputs, prior_mean, post_mean, post_cov, masks, nugget=nugget)[0].length_scale.block_until_ready()"
   ],
   "id": "8b52b470f131915a",
   "outputs": [
    {
     "name": "stdout",
     "output_type": "stream",
     "text": [
      "907 ms ± 18.1 ms per loop (mean ± std. dev. of 2 runs, 3 loops each)\n"
     ]
    }
   ],
   "execution_count": 16
  },
  {
   "metadata": {
    "ExecuteTime": {
     "end_time": "2025-07-09T14:48:15.329289Z",
     "start_time": "2025-07-08T15:08:03.723309Z"
    }
   },
   "cell_type": "code",
   "source": [
    "%%timeit -n 3 -r 2\n",
    "optimise_hyperparameters_new(mean_kern, task_kern, padded_inputs, padded_outputs, all_inputs, prior_mean, post_mean, post_cov, masks, nugget=nugget)[0].length_scale.block_until_ready()"
   ],
   "id": "a7dc6a1b623c0c6e",
   "outputs": [
    {
     "name": "stdout",
     "output_type": "stream",
     "text": [
      "909 ms ± 4.46 ms per loop (mean ± std. dev. of 2 runs, 3 loops each)\n"
     ]
    }
   ],
   "execution_count": 17
  },
  {
   "metadata": {},
   "cell_type": "markdown",
   "source": "### shared Input, Distinct HP",
   "id": "ff736c7218c95092"
  },
  {
   "metadata": {
    "ExecuteTime": {
     "end_time": "2025-07-09T14:48:15.331552Z",
     "start_time": "2025-07-08T15:08:09.205475Z"
    }
   },
   "cell_type": "code",
   "source": [
    "db = pd.read_csv(f\"../datasets/{test_db_size}_shared_input_distinct_hp.csv\")\n",
    "padded_inputs, padded_outputs, masks, all_inputs = preprocess_db(db)\n",
    "prior_mean = jnp.array(0)\n",
    "all_inputs.shape, padded_inputs.shape"
   ],
   "id": "f0b7e39f319c54b4",
   "outputs": [
    {
     "data": {
      "text/plain": [
       "((15, 1), (20, 15, 1))"
      ]
     },
     "execution_count": 18,
     "metadata": {},
     "output_type": "execute_result"
    }
   ],
   "execution_count": 18
  },
  {
   "metadata": {
    "ExecuteTime": {
     "end_time": "2025-07-09T14:48:15.341720Z",
     "start_time": "2025-07-08T15:08:09.235012Z"
    }
   },
   "cell_type": "code",
   "source": [
    "mean_kern = SEMagmaKernel(length_scale=.3, variance=1.)\n",
    "\n",
    "key, subkey = jax.random.split(key)\n",
    "distinct_length_scales = jax.random.uniform(subkey, (padded_outputs.shape[0],), jnp.float64, .1, 1)\n",
    "task_kern = SEMagmaKernel(length_scale=.3, variance=1.) + DiagKernel(ExpKernel(2.5))"
   ],
   "id": "df22a4acbb8bf863",
   "outputs": [],
   "execution_count": 19
  },
  {
   "metadata": {
    "ExecuteTime": {
     "end_time": "2025-07-09T14:48:15.342089Z",
     "start_time": "2025-07-08T15:08:09.379807Z"
    }
   },
   "cell_type": "code",
   "source": [
    "post_mean, post_cov = hyperpost(padded_inputs, padded_outputs, masks, prior_mean, mean_kern, task_kern, all_inputs=all_inputs, nugget=nugget)\n",
    "post_mean.shape, post_cov.shape"
   ],
   "id": "b9aed430c16a69f0",
   "outputs": [
    {
     "data": {
      "text/plain": [
       "((15,), (15, 15))"
      ]
     },
     "execution_count": 20,
     "metadata": {},
     "output_type": "execute_result"
    }
   ],
   "execution_count": 20
  },
  {
   "metadata": {
    "ExecuteTime": {
     "end_time": "2025-07-09T14:48:15.342353Z",
     "start_time": "2025-07-08T15:08:09.407459Z"
    }
   },
   "cell_type": "code",
   "source": "optimized_mean_kern_old, optimized_task_kern_old, _, _ = optimise_hyperparameters_old(mean_kern, task_kern, padded_inputs, padded_outputs, all_inputs, prior_mean, post_mean, post_cov, masks, nugget=nugget, verbose=True)",
   "id": "6f661f5dac25a1f7",
   "outputs": [
    {
     "name": "stdout",
     "output_type": "stream",
     "text": [
      "Iteration: 0, Value: 1738.9864707607353, Gradient norm: 1856.2079389251314\n",
      "Iteration: 1, Value: 614.7029917986152, Gradient norm: 613.5748706550256\n",
      "Iteration: 2, Value: 377.91304943406533, Gradient norm: 356.11966791768685\n",
      "Iteration: 3, Value: 193.6458111094163, Gradient norm: 166.53767301371266\n",
      "Iteration: 4, Value: 117.38174596723175, Gradient norm: 83.34248985026642\n",
      "Iteration: 5, Value: 79.02482465557843, Gradient norm: 40.97287325647887\n",
      "Iteration: 6, Value: 61.73413500383541, Gradient norm: 19.590938292952515\n",
      "Iteration: 7, Value: 54.90999862201198, Gradient norm: 14.566858990779826\n",
      "Iteration: 8, Value: 51.624993523019555, Gradient norm: 4.909153488669724\n",
      "Iteration: 9, Value: 51.1236104917011, Gradient norm: 7.1686189599739585\n",
      "Iteration: 10, Value: 50.90517900664831, Gradient norm: 0.7889159550129479\n",
      "Iteration: 11, Value: 50.8976149597436, Gradient norm: 0.21691130476932338\n",
      "Iteration: 0, Value: 1018.6425284142251, Gradient norm: 142.96851439071645\n",
      "Iteration: 1, Value: 952.769393968251, Gradient norm: 30.11255872213707\n",
      "Iteration: 2, Value: 854.6575387783059, Gradient norm: 58.179377963850705\n",
      "Iteration: 3, Value: 827.6256536365679, Gradient norm: 33.33165673860279\n",
      "Iteration: 4, Value: 808.3957840126889, Gradient norm: 17.800758389632563\n",
      "Iteration: 5, Value: 803.6102963309055, Gradient norm: 6.166041779684334\n",
      "Iteration: 6, Value: 802.6358796427221, Gradient norm: 6.069725875135065\n",
      "Iteration: 7, Value: 802.4554979776801, Gradient norm: 5.220779203672106\n",
      "Iteration: 8, Value: 802.2008478783949, Gradient norm: 0.21841839936347376\n",
      "Iteration: 9, Value: 802.1996086627753, Gradient norm: 0.04784073204529149\n"
     ]
    }
   ],
   "execution_count": 21
  },
  {
   "metadata": {
    "ExecuteTime": {
     "end_time": "2025-07-09T14:48:15.347612Z",
     "start_time": "2025-07-08T15:08:10.368979Z"
    }
   },
   "cell_type": "code",
   "source": "optimized_mean_kern_old, optimized_task_kern_old",
   "id": "c4dc707940d8c5de",
   "outputs": [
    {
     "data": {
      "text/plain": [
       "(SEMagmaKernel(length_scale=1.1479675743688122, variance=6.555698067746036),\n",
       " SumKernel(left_kernel=SEMagmaKernel(length_scale=5.751764264682112, variance=3.6571825489185725), right_kernel=DiagKernel(inner_kernel=ExpKernel(inner_kernel=ConstantKernel(value=2.097379134000261)))))"
      ]
     },
     "execution_count": 22,
     "metadata": {},
     "output_type": "execute_result"
    }
   ],
   "execution_count": 22
  },
  {
   "metadata": {
    "ExecuteTime": {
     "end_time": "2025-07-09T14:48:15.348009Z",
     "start_time": "2025-07-08T15:08:10.416191Z"
    }
   },
   "cell_type": "code",
   "source": "optimized_mean_kern_new, optimized_task_kern_new, _, _ = optimise_hyperparameters_new(mean_kern, task_kern, padded_inputs, padded_outputs, all_inputs, prior_mean, post_mean, post_cov, masks, nugget=nugget, verbose=True)",
   "id": "644bfb051b3f97df",
   "outputs": [
    {
     "name": "stdout",
     "output_type": "stream",
     "text": [
      "Iteration: 0, Value: 1738.9864707607353, Gradient norm: 1856.2079389251314\n",
      "Iteration: 1, Value: 614.7029917986152, Gradient norm: 613.5748706550256\n",
      "Iteration: 2, Value: 377.91304943406533, Gradient norm: 356.11966791768685\n",
      "Iteration: 3, Value: 193.6458111094163, Gradient norm: 166.53767301371266\n",
      "Iteration: 4, Value: 117.38174596723175, Gradient norm: 83.34248985026642\n",
      "Iteration: 5, Value: 79.02482465557843, Gradient norm: 40.97287325647887\n",
      "Iteration: 6, Value: 61.73413500383541, Gradient norm: 19.590938292952515\n",
      "Iteration: 7, Value: 54.90999862201198, Gradient norm: 14.566858990779826\n",
      "Iteration: 8, Value: 51.624993523019555, Gradient norm: 4.909153488669724\n",
      "Iteration: 9, Value: 51.1236104917011, Gradient norm: 7.1686189599739585\n",
      "Iteration: 10, Value: 50.90517900664831, Gradient norm: 0.7889159550129479\n",
      "Iteration: 11, Value: 50.8976149597436, Gradient norm: 0.21691130476932338\n",
      "Iteration: 0, Value: 1018.6425284142251, Gradient norm: 142.96851439071645\n",
      "Iteration: 1, Value: 952.769393968251, Gradient norm: 30.11255872213707\n",
      "Iteration: 2, Value: 854.6575387783059, Gradient norm: 58.179377963850705\n",
      "Iteration: 3, Value: 827.6256536365679, Gradient norm: 33.33165673860279\n",
      "Iteration: 4, Value: 808.3957840126889, Gradient norm: 17.800758389632563\n",
      "Iteration: 5, Value: 803.6102963309055, Gradient norm: 6.166041779684334\n",
      "Iteration: 6, Value: 802.6358796427221, Gradient norm: 6.069725875135065\n",
      "Iteration: 7, Value: 802.4554979776801, Gradient norm: 5.220779203672106\n",
      "Iteration: 8, Value: 802.2008478783949, Gradient norm: 0.21841839936347376\n",
      "Iteration: 9, Value: 802.1996086627753, Gradient norm: 0.04784073204529149\n"
     ]
    }
   ],
   "execution_count": 23
  },
  {
   "metadata": {
    "ExecuteTime": {
     "end_time": "2025-07-09T14:48:15.348165Z",
     "start_time": "2025-07-08T15:08:11.481841Z"
    }
   },
   "cell_type": "code",
   "source": "optimized_mean_kern_new, optimized_task_kern_new",
   "id": "daf2d27185970ee4",
   "outputs": [
    {
     "data": {
      "text/plain": [
       "(SEMagmaKernel(length_scale=1.1479675743688122, variance=6.555698067746036),\n",
       " SumKernel(left_kernel=SEMagmaKernel(length_scale=5.751764264682112, variance=3.6571825489185725), right_kernel=DiagKernel(inner_kernel=ExpKernel(inner_kernel=ConstantKernel(value=2.097379134000261)))))"
      ]
     },
     "execution_count": 24,
     "metadata": {},
     "output_type": "execute_result"
    }
   ],
   "execution_count": 24
  },
  {
   "metadata": {
    "ExecuteTime": {
     "end_time": "2025-07-09T14:48:15.348272Z",
     "start_time": "2025-07-08T15:08:11.541557Z"
    }
   },
   "cell_type": "code",
   "source": [
    "%%timeit -n 3 -r 2\n",
    "optimise_hyperparameters_old(mean_kern, task_kern, padded_inputs, padded_outputs, all_inputs, prior_mean, post_mean, post_cov, masks, nugget=nugget)[0].length_scale.block_until_ready()"
   ],
   "id": "cc6bbdd1cc939b9c",
   "outputs": [
    {
     "name": "stdout",
     "output_type": "stream",
     "text": [
      "910 ms ± 20 ms per loop (mean ± std. dev. of 2 runs, 3 loops each)\n"
     ]
    }
   ],
   "execution_count": 25
  },
  {
   "metadata": {
    "ExecuteTime": {
     "end_time": "2025-07-09T14:48:15.348383Z",
     "start_time": "2025-07-08T15:08:17.033602Z"
    }
   },
   "cell_type": "code",
   "source": [
    "%%timeit -n 3 -r 2\n",
    "optimise_hyperparameters_new(mean_kern, task_kern, padded_inputs, padded_outputs, all_inputs, prior_mean, post_mean, post_cov, masks, nugget=nugget)[0].length_scale.block_until_ready()"
   ],
   "id": "f53499d83b9542ad",
   "outputs": [
    {
     "name": "stdout",
     "output_type": "stream",
     "text": [
      "913 ms ± 8.95 ms per loop (mean ± std. dev. of 2 runs, 3 loops each)\n"
     ]
    }
   ],
   "execution_count": 26
  },
  {
   "metadata": {},
   "cell_type": "markdown",
   "source": "### Distinct Input, shared HP",
   "id": "20b483a9ffe80c86"
  },
  {
   "metadata": {
    "ExecuteTime": {
     "end_time": "2025-07-09T14:48:15.348456Z",
     "start_time": "2025-07-08T15:08:22.538769Z"
    }
   },
   "cell_type": "code",
   "source": [
    "db = pd.read_csv(f\"../datasets/{test_db_size}_distinct_input_shared_hp.csv\")\n",
    "padded_inputs, padded_outputs, masks, all_inputs = preprocess_db(db)\n",
    "prior_mean = jnp.array(0)\n",
    "all_inputs.shape, padded_inputs.shape"
   ],
   "id": "b28169fa8ce19f32",
   "outputs": [
    {
     "data": {
      "text/plain": [
       "((41, 1), (20, 15, 1))"
      ]
     },
     "execution_count": 27,
     "metadata": {},
     "output_type": "execute_result"
    }
   ],
   "execution_count": 27
  },
  {
   "metadata": {
    "ExecuteTime": {
     "end_time": "2025-07-09T14:48:15.348569Z",
     "start_time": "2025-07-08T15:08:22.919313Z"
    }
   },
   "cell_type": "code",
   "source": [
    "mean_kern = SEMagmaKernel(length_scale=.3, variance=1.)\n",
    "task_kern = SEMagmaKernel(length_scale=.3, variance=1.) + DiagKernel(ExpKernel(2.5))"
   ],
   "id": "4912ddbe3e580dd7",
   "outputs": [],
   "execution_count": 28
  },
  {
   "metadata": {
    "ExecuteTime": {
     "end_time": "2025-07-09T14:48:15.348639Z",
     "start_time": "2025-07-08T15:08:22.954655Z"
    }
   },
   "cell_type": "code",
   "source": [
    "post_mean, post_cov = hyperpost(padded_inputs, padded_outputs, masks, prior_mean, mean_kern, task_kern, all_inputs=all_inputs, nugget=nugget)\n",
    "post_mean.shape, post_cov.shape"
   ],
   "id": "b8c905aaaf843652",
   "outputs": [
    {
     "data": {
      "text/plain": [
       "((41,), (41, 41))"
      ]
     },
     "execution_count": 29,
     "metadata": {},
     "output_type": "execute_result"
    }
   ],
   "execution_count": 29
  },
  {
   "metadata": {
    "ExecuteTime": {
     "end_time": "2025-07-09T14:48:15.348716Z",
     "start_time": "2025-07-08T15:08:23.389109Z"
    }
   },
   "cell_type": "code",
   "source": "optimized_mean_kern_old, optimized_task_kern_old, _, _ = optimise_hyperparameters_old(mean_kern, task_kern, padded_inputs, padded_outputs, all_inputs, prior_mean, post_mean, post_cov, masks, nugget=nugget, verbose=True)",
   "id": "c8640faaaa1ef6e2",
   "outputs": [
    {
     "name": "stdout",
     "output_type": "stream",
     "text": [
      "Iteration: 0, Value: 7632568.6129706325, Gradient norm: 11013938.746285157\n",
      "Iteration: 1, Value: 2920131.8379903315, Gradient norm: 2926246.5190971177\n",
      "Iteration: 2, Value: 1952581.1574465851, Gradient norm: 1955369.2266142257\n",
      "Iteration: 3, Value: 869176.5626329303, Gradient norm: 869709.4220277806\n",
      "Iteration: 4, Value: 454893.7191824574, Gradient norm: 454974.1652769489\n",
      "Iteration: 5, Value: 223752.82748765693, Gradient norm: 223686.37303180672\n",
      "Iteration: 6, Value: 112747.98392579293, Gradient norm: 112636.82285557516\n",
      "Iteration: 7, Value: 56320.51984895356, Gradient norm: 56188.51684458967\n",
      "Iteration: 8, Value: 28274.054315999383, Gradient norm: 28126.635247176222\n",
      "Iteration: 9, Value: 14219.686049294933, Gradient norm: 14057.594493652585\n",
      "Iteration: 10, Value: 7204.402377523664, Gradient norm: 7027.678691245698\n",
      "Iteration: 11, Value: 3702.0178927986435, Gradient norm: 3510.780628696635\n",
      "Iteration: 12, Value: 1957.2671294474103, Gradient norm: 1752.2204017473512\n",
      "Iteration: 13, Value: 1090.5381165138992, Gradient norm: 873.0535862812893\n",
      "Iteration: 14, Value: 661.442706827994, Gradient norm: 434.4181527295687\n",
      "Iteration: 15, Value: 447.12915820791676, Gradient norm: 218.08594208011777\n",
      "Iteration: 16, Value: 327.0133896372447, Gradient norm: 121.10238267807777\n",
      "Iteration: 17, Value: 251.53988205798512, Gradient norm: 79.77535481164679\n",
      "Iteration: 18, Value: 220.64852980587287, Gradient norm: 183.9545055901977\n",
      "Iteration: 19, Value: 175.38770914230463, Gradient norm: 44.09197442118599\n",
      "Iteration: 20, Value: 164.11401115651307, Gradient norm: 176.409538091246\n",
      "Iteration: 21, Value: 158.42176761377016, Gradient norm: 19.03277207807534\n",
      "Iteration: 22, Value: 156.67434193793696, Gradient norm: 11.554859108178606\n",
      "Iteration: 23, Value: 156.21224450078833, Gradient norm: 6.422099187543152\n",
      "Iteration: 24, Value: 156.05361506250136, Gradient norm: 4.175676142038924\n",
      "Iteration: 25, Value: 155.12337671004806, Gradient norm: 13.358329998301775\n",
      "Iteration: 26, Value: 154.8278153193645, Gradient norm: 6.76247942314723\n",
      "Iteration: 27, Value: 155.3653441489772, Gradient norm: 3.823140736129143\n",
      "Iteration: 28, Value: 154.78152430305298, Gradient norm: 13.008472866082792\n",
      "Iteration: 29, Value: 154.77012441513602, Gradient norm: 5.021677012124028\n",
      "Iteration: 30, Value: 154.76713820878484, Gradient norm: 10.811699883055283\n",
      "Iteration: 31, Value: 156.34794189371235, Gradient norm: 1.708792062606516\n",
      "Iteration: 32, Value: 155.615579983196, Gradient norm: 3.4286704603424876\n",
      "Iteration: 33, Value: 155.4118192706896, Gradient norm: 3.169505270173067\n",
      "Iteration: 34, Value: 154.94410141838392, Gradient norm: 1.5114563652522006\n",
      "Iteration: 35, Value: 154.80529754247715, Gradient norm: 1.997227051931943\n",
      "Iteration: 0, Value: 15103158.281635068, Gradient norm: 12156923.636127315\n",
      "Iteration: 1, Value: 6559690.42860312, Gradient norm: 5687023.630660654\n",
      "Iteration: 2, Value: 2899095.226642256, Gradient norm: 2691870.3612469793\n",
      "Iteration: 3, Value: 1295199.8294057923, Gradient norm: 1252676.992104782\n",
      "Iteration: 4, Value: 619690.471112649, Gradient norm: 609679.0429157162\n",
      "Iteration: 5, Value: 303589.0542994998, Gradient norm: 300311.53899164195\n",
      "Iteration: 6, Value: 151246.92489939556, Gradient norm: 149312.10790595418\n",
      "Iteration: 7, Value: 76145.03886101613, Gradient norm: 74417.64887545355\n",
      "Iteration: 8, Value: 38902.377829632605, Gradient norm: 37138.388508780736\n",
      "Iteration: 9, Value: 20381.3028511012, Gradient norm: 18528.208637205324\n",
      "Iteration: 10, Value: 11184.175783041592, Gradient norm: 9230.941118181785\n",
      "Iteration: 11, Value: 6639.014671094084, Gradient norm: 4583.873245732737\n",
      "Iteration: 12, Value: 4417.183027000131, Gradient norm: 2260.982445486626\n",
      "Iteration: 13, Value: 3354.8480140174192, Gradient norm: 1100.1650658307583\n",
      "Iteration: 14, Value: 2868.9143019347075, Gradient norm: 520.8695110663156\n",
      "Iteration: 15, Value: 2665.324342770819, Gradient norm: 233.32855073397513\n",
      "Iteration: 16, Value: 2593.5257017987133, Gradient norm: 93.40576542678627\n",
      "Iteration: 17, Value: 2575.343889305938, Gradient norm: 29.74732921612723\n",
      "Iteration: 18, Value: 2572.851111255766, Gradient norm: 6.003487074741227\n",
      "Iteration: 19, Value: 2572.7349633605013, Gradient norm: 0.5141418403118806\n"
     ]
    }
   ],
   "execution_count": 30
  },
  {
   "metadata": {
    "ExecuteTime": {
     "end_time": "2025-07-09T14:48:15.348803Z",
     "start_time": "2025-07-08T15:08:24.832842Z"
    }
   },
   "cell_type": "code",
   "source": "optimized_mean_kern_old, optimized_task_kern_old",
   "id": "c73e5a575a67c8c4",
   "outputs": [
    {
     "data": {
      "text/plain": [
       "(SEMagmaKernel(length_scale=0.8867817010832448, variance=15.783555092593412),\n",
       " SumKernel(left_kernel=SEMagmaKernel(length_scale=0.4404868067753267, variance=-0.48698077333676776), right_kernel=DiagKernel(inner_kernel=ExpKernel(inner_kernel=ConstantKernel(value=14.313616111309392)))))"
      ]
     },
     "execution_count": 31,
     "metadata": {},
     "output_type": "execute_result"
    }
   ],
   "execution_count": 31
  },
  {
   "metadata": {
    "ExecuteTime": {
     "end_time": "2025-07-09T14:48:15.348945Z",
     "start_time": "2025-07-08T15:08:24.877621Z"
    }
   },
   "cell_type": "code",
   "source": "optimized_mean_kern_new, optimized_task_kern_new, _, _ = optimise_hyperparameters_new(mean_kern, task_kern, padded_inputs, padded_outputs, all_inputs, prior_mean, post_mean, post_cov, masks, nugget=nugget, verbose=True)",
   "id": "dd07faf003b6472b",
   "outputs": [
    {
     "name": "stdout",
     "output_type": "stream",
     "text": [
      "Iteration: 0, Value: 7632568.6129706325, Gradient norm: 11013938.746285157\n",
      "Iteration: 1, Value: 2920131.8379903315, Gradient norm: 2926246.5190971177\n",
      "Iteration: 2, Value: 1952581.1574465851, Gradient norm: 1955369.2266142257\n",
      "Iteration: 3, Value: 869176.5626329303, Gradient norm: 869709.4220277806\n",
      "Iteration: 4, Value: 454893.7191824574, Gradient norm: 454974.1652769489\n",
      "Iteration: 5, Value: 223752.82748765693, Gradient norm: 223686.37303180672\n",
      "Iteration: 6, Value: 112747.98392579293, Gradient norm: 112636.82285557516\n",
      "Iteration: 7, Value: 56320.51984895356, Gradient norm: 56188.51684458967\n",
      "Iteration: 8, Value: 28274.054315999383, Gradient norm: 28126.635247176222\n",
      "Iteration: 9, Value: 14219.686049294933, Gradient norm: 14057.594493652585\n",
      "Iteration: 10, Value: 7204.402377523664, Gradient norm: 7027.678691245698\n",
      "Iteration: 11, Value: 3702.0178927986435, Gradient norm: 3510.780628696635\n",
      "Iteration: 12, Value: 1957.2671294474103, Gradient norm: 1752.2204017473512\n",
      "Iteration: 13, Value: 1090.5381165138992, Gradient norm: 873.0535862812893\n",
      "Iteration: 14, Value: 661.442706827994, Gradient norm: 434.4181527295687\n",
      "Iteration: 15, Value: 447.12915820791676, Gradient norm: 218.08594208011777\n",
      "Iteration: 16, Value: 327.0133896372447, Gradient norm: 121.10238267807777\n",
      "Iteration: 17, Value: 251.53988205798512, Gradient norm: 79.77535481164679\n",
      "Iteration: 18, Value: 220.64852980587287, Gradient norm: 183.9545055901977\n",
      "Iteration: 19, Value: 175.38770914230463, Gradient norm: 44.09197442118599\n",
      "Iteration: 20, Value: 164.11401115651307, Gradient norm: 176.409538091246\n",
      "Iteration: 21, Value: 158.42176761377016, Gradient norm: 19.03277207807534\n",
      "Iteration: 22, Value: 156.67434193793696, Gradient norm: 11.554859108178606\n",
      "Iteration: 23, Value: 156.21224450078833, Gradient norm: 6.422099187543152\n",
      "Iteration: 24, Value: 156.05361506250136, Gradient norm: 4.175676142038924\n",
      "Iteration: 25, Value: 155.12337671004806, Gradient norm: 13.358329998301775\n",
      "Iteration: 26, Value: 154.8278153193645, Gradient norm: 6.76247942314723\n",
      "Iteration: 27, Value: 155.3653441489772, Gradient norm: 3.823140736129143\n",
      "Iteration: 28, Value: 154.78152430305298, Gradient norm: 13.008472866082792\n",
      "Iteration: 29, Value: 154.77012441513602, Gradient norm: 5.021677012124028\n",
      "Iteration: 30, Value: 154.76713820878484, Gradient norm: 10.811699883055283\n",
      "Iteration: 31, Value: 156.34794189371235, Gradient norm: 1.708792062606516\n",
      "Iteration: 32, Value: 155.615579983196, Gradient norm: 3.4286704603424876\n",
      "Iteration: 33, Value: 155.4118192706896, Gradient norm: 3.169505270173067\n",
      "Iteration: 34, Value: 154.94410141838392, Gradient norm: 1.5114563652522006\n",
      "Iteration: 35, Value: 154.80529754247715, Gradient norm: 1.997227051931943\n",
      "Iteration: 0, Value: 15103158.281635068, Gradient norm: 12156923.636127315\n",
      "Iteration: 1, Value: 6559690.42860312, Gradient norm: 5687023.630660654\n",
      "Iteration: 2, Value: 2899095.226642256, Gradient norm: 2691870.3612469793\n",
      "Iteration: 3, Value: 1295199.8294057923, Gradient norm: 1252676.992104782\n",
      "Iteration: 4, Value: 619690.471112649, Gradient norm: 609679.0429157162\n",
      "Iteration: 5, Value: 303589.0542994998, Gradient norm: 300311.53899164195\n",
      "Iteration: 6, Value: 151246.92489939556, Gradient norm: 149312.10790595418\n",
      "Iteration: 7, Value: 76145.03886101613, Gradient norm: 74417.64887545355\n",
      "Iteration: 8, Value: 38902.377829632605, Gradient norm: 37138.388508780736\n",
      "Iteration: 9, Value: 20381.3028511012, Gradient norm: 18528.208637205324\n",
      "Iteration: 10, Value: 11184.175783041592, Gradient norm: 9230.941118181785\n",
      "Iteration: 11, Value: 6639.014671094084, Gradient norm: 4583.873245732737\n",
      "Iteration: 12, Value: 4417.183027000131, Gradient norm: 2260.982445486626\n",
      "Iteration: 13, Value: 3354.8480140174192, Gradient norm: 1100.1650658307583\n",
      "Iteration: 14, Value: 2868.9143019347075, Gradient norm: 520.8695110663156\n",
      "Iteration: 15, Value: 2665.324342770819, Gradient norm: 233.32855073397513\n",
      "Iteration: 16, Value: 2593.5257017987133, Gradient norm: 93.40576542678627\n",
      "Iteration: 17, Value: 2575.343889305938, Gradient norm: 29.74732921612723\n",
      "Iteration: 18, Value: 2572.851111255766, Gradient norm: 6.003487074741227\n",
      "Iteration: 19, Value: 2572.7349633605013, Gradient norm: 0.5141418403118806\n"
     ]
    }
   ],
   "execution_count": 32
  },
  {
   "metadata": {
    "ExecuteTime": {
     "end_time": "2025-07-09T14:48:15.349049Z",
     "start_time": "2025-07-08T15:08:25.956015Z"
    }
   },
   "cell_type": "code",
   "source": "optimized_mean_kern_new, optimized_task_kern_new",
   "id": "842fc63dbed8de30",
   "outputs": [
    {
     "data": {
      "text/plain": [
       "(SEMagmaKernel(length_scale=0.8867817010832448, variance=15.783555092593412),\n",
       " SumKernel(left_kernel=SEMagmaKernel(length_scale=0.4404868067753267, variance=-0.48698077333676776), right_kernel=DiagKernel(inner_kernel=ExpKernel(inner_kernel=ConstantKernel(value=14.313616111309392)))))"
      ]
     },
     "execution_count": 33,
     "metadata": {},
     "output_type": "execute_result"
    }
   ],
   "execution_count": 33
  },
  {
   "metadata": {
    "ExecuteTime": {
     "end_time": "2025-07-09T14:48:15.349143Z",
     "start_time": "2025-07-08T15:08:25.986022Z"
    }
   },
   "cell_type": "code",
   "source": [
    "%%timeit -n 3 -r 2\n",
    "optimise_hyperparameters_old(mean_kern, task_kern, padded_inputs, padded_outputs, all_inputs, prior_mean, post_mean, post_cov, masks, nugget=nugget)[0].length_scale.block_until_ready()"
   ],
   "id": "9c9c4ad32b5947d7",
   "outputs": [
    {
     "name": "stdout",
     "output_type": "stream",
     "text": [
      "1.04 s ± 7.94 ms per loop (mean ± std. dev. of 2 runs, 3 loops each)\n"
     ]
    }
   ],
   "execution_count": 34
  },
  {
   "metadata": {
    "ExecuteTime": {
     "end_time": "2025-07-09T14:48:15.349210Z",
     "start_time": "2025-07-08T15:08:32.280472Z"
    }
   },
   "cell_type": "code",
   "source": [
    "%%timeit -n 3 -r 2\n",
    "optimise_hyperparameters_new(mean_kern, task_kern, padded_inputs, padded_outputs, all_inputs, prior_mean, post_mean, post_cov, masks, nugget=nugget)[0].length_scale.block_until_ready()"
   ],
   "id": "6e5653f58b22076d",
   "outputs": [
    {
     "name": "stdout",
     "output_type": "stream",
     "text": [
      "1.03 s ± 1.24 ms per loop (mean ± std. dev. of 2 runs, 3 loops each)\n"
     ]
    }
   ],
   "execution_count": 35
  },
  {
   "metadata": {},
   "cell_type": "markdown",
   "source": "### Distinct Input, Distinct HP",
   "id": "83204767e8354b6f"
  },
  {
   "metadata": {
    "ExecuteTime": {
     "end_time": "2025-07-09T14:48:15.349280Z",
     "start_time": "2025-07-08T15:08:38.499489Z"
    }
   },
   "cell_type": "code",
   "source": [
    "db = pd.read_csv(f\"../datasets/{test_db_size}_distinct_input_distinct_hp.csv\")\n",
    "padded_inputs, padded_outputs, masks, all_inputs = preprocess_db(db)\n",
    "prior_mean = jnp.array(0)\n",
    "all_inputs.shape, padded_inputs.shape"
   ],
   "id": "60ba0c8f3de26ee8",
   "outputs": [
    {
     "data": {
      "text/plain": [
       "((41, 1), (20, 19, 1))"
      ]
     },
     "execution_count": 36,
     "metadata": {},
     "output_type": "execute_result"
    }
   ],
   "execution_count": 36
  },
  {
   "metadata": {
    "ExecuteTime": {
     "end_time": "2025-07-09T14:48:15.349352Z",
     "start_time": "2025-07-08T15:08:38.808383Z"
    }
   },
   "cell_type": "code",
   "source": [
    "mean_kern = SEMagmaKernel(length_scale=.3, variance=1.)\n",
    "\n",
    "key, subkey = jax.random.split(key)\n",
    "distinct_length_scales = jax.random.uniform(subkey, (padded_outputs.shape[0],), jnp.float64, .1, 1)\n",
    "task_kern = SEMagmaKernel(length_scale=.3, variance=1.) + DiagKernel(ExpKernel(2.5))"
   ],
   "id": "ae73ef7ef78c2516",
   "outputs": [],
   "execution_count": 37
  },
  {
   "metadata": {
    "ExecuteTime": {
     "end_time": "2025-07-09T14:48:15.349424Z",
     "start_time": "2025-07-08T15:08:38.834610Z"
    }
   },
   "cell_type": "code",
   "source": [
    "post_mean, post_cov = hyperpost(padded_inputs, padded_outputs, masks, prior_mean, mean_kern, task_kern, all_inputs=all_inputs, nugget=nugget)\n",
    "post_mean.shape, post_cov.shape"
   ],
   "id": "abb4ac7f76653561",
   "outputs": [
    {
     "data": {
      "text/plain": [
       "((41,), (41, 41))"
      ]
     },
     "execution_count": 38,
     "metadata": {},
     "output_type": "execute_result"
    }
   ],
   "execution_count": 38
  },
  {
   "metadata": {
    "ExecuteTime": {
     "end_time": "2025-07-09T14:48:15.349498Z",
     "start_time": "2025-07-08T15:08:39.074099Z"
    }
   },
   "cell_type": "code",
   "source": "optimized_mean_kern_old, optimized_task_kern_old, _, _ = optimise_hyperparameters_old(mean_kern, task_kern, padded_inputs, padded_outputs, all_inputs, prior_mean, post_mean, post_cov, masks, nugget=nugget, verbose=True)",
   "id": "2d4033980a9f097",
   "outputs": [
    {
     "name": "stdout",
     "output_type": "stream",
     "text": [
      "Iteration: 0, Value: 190467.96517876248, Gradient norm: 364147.9343514594\n",
      "Iteration: 1, Value: 70687.33262344608, Gradient norm: 71151.35482363835\n",
      "Iteration: 2, Value: 54587.148943791995, Gradient norm: 54758.82799875409\n",
      "Iteration: 3, Value: 23238.841829142337, Gradient norm: 23169.996476653152\n",
      "Iteration: 4, Value: 12518.4407578984, Gradient norm: 12430.065820624288\n",
      "Iteration: 5, Value: 6175.625672469804, Gradient norm: 6074.888620102092\n",
      "Iteration: 6, Value: 3187.1238505582687, Gradient norm: 3072.406505160453\n",
      "Iteration: 7, Value: 1660.8179540650058, Gradient norm: 1530.7027459345343\n",
      "Iteration: 8, Value: 910.6021865349865, Gradient norm: 765.6355834289982\n",
      "Iteration: 9, Value: 540.3338495419432, Gradient norm: 381.93900680731895\n",
      "Iteration: 10, Value: 360.87765266164695, Gradient norm: 191.84876565894726\n",
      "Iteration: 11, Value: 274.64747957731146, Gradient norm: 100.75762915955656\n",
      "Iteration: 12, Value: 219.3269928390746, Gradient norm: 71.24163075267964\n",
      "Iteration: 13, Value: 149.95201158537415, Gradient norm: 120.14136138575667\n",
      "Iteration: 14, Value: 145.0899561716429, Gradient norm: 51.84701347913583\n",
      "Iteration: 15, Value: 128.100767525478, Gradient norm: 34.15203368444634\n",
      "Iteration: 16, Value: 115.2101179224782, Gradient norm: 61.97601051751205\n",
      "Iteration: 17, Value: 107.35432872310724, Gradient norm: 40.273402224367956\n",
      "Iteration: 18, Value: 104.93492265873984, Gradient norm: 6.267994711144922\n",
      "Iteration: 19, Value: 104.88606529735387, Gradient norm: 31.938144404690274\n",
      "Iteration: 20, Value: 104.64565467514736, Gradient norm: 16.034582037887347\n",
      "Iteration: 21, Value: 104.53344720231738, Gradient norm: 14.554791931832256\n",
      "Iteration: 22, Value: 104.52801263114519, Gradient norm: 11.359403626320294\n",
      "Iteration: 23, Value: 104.46795915767605, Gradient norm: 1.565844479788364\n",
      "Iteration: 24, Value: 104.38318379658652, Gradient norm: 8.37598795183622\n",
      "Iteration: 25, Value: 104.52572681531514, Gradient norm: 4.371822128537117\n",
      "Iteration: 26, Value: 104.43020144054904, Gradient norm: 3.0514979074698196\n",
      "Iteration: 27, Value: 104.42477331252849, Gradient norm: 3.4588633819363857\n",
      "Iteration: 28, Value: 104.38440675196536, Gradient norm: 7.792124945936863\n",
      "Iteration: 29, Value: 104.40558258929954, Gradient norm: 5.037867373213981\n",
      "Iteration: 30, Value: 104.3912229816086, Gradient norm: 9.463120656295459\n",
      "Iteration: 31, Value: 104.38311272493296, Gradient norm: 8.097332351396082\n",
      "Iteration: 0, Value: 324167.2774511937, Gradient norm: 248583.27897278403\n",
      "Iteration: 1, Value: 147311.97037104264, Gradient norm: 120224.18029355598\n",
      "Iteration: 2, Value: 64018.87839037214, Gradient norm: 56338.39766420775\n",
      "Iteration: 3, Value: 27784.010072175643, Gradient norm: 25098.57585703111\n",
      "Iteration: 4, Value: 13906.28552309324, Gradient norm: 11980.798664863209\n",
      "Iteration: 5, Value: 7712.526528510707, Gradient norm: 5827.154347080609\n",
      "Iteration: 6, Value: 4832.157375230621, Gradient norm: 2852.012359509141\n",
      "Iteration: 7, Value: 3480.6680878351945, Gradient norm: 1382.24215602966\n",
      "Iteration: 8, Value: 2868.4838637699568, Gradient norm: 653.0961496149112\n",
      "Iteration: 9, Value: 2613.3467640132963, Gradient norm: 292.0078540055491\n",
      "Iteration: 10, Value: 2523.8410493246975, Gradient norm: 116.58179425421987\n",
      "Iteration: 11, Value: 2501.3447239203147, Gradient norm: 36.94358199008092\n",
      "Iteration: 12, Value: 2498.2994259380275, Gradient norm: 7.386562181310253\n",
      "Iteration: 13, Value: 2498.1605465341413, Gradient norm: 0.6243020424461116\n",
      "Iteration: 14, Value: 2498.1595316821, Gradient norm: 0.018802740592568267\n"
     ]
    }
   ],
   "execution_count": 39
  },
  {
   "metadata": {
    "ExecuteTime": {
     "end_time": "2025-07-09T14:48:15.349565Z",
     "start_time": "2025-07-08T15:08:40.608894Z"
    }
   },
   "cell_type": "code",
   "source": "optimized_mean_kern_old, optimized_task_kern_old",
   "id": "aab097f74d119f81",
   "outputs": [
    {
     "data": {
      "text/plain": [
       "(SEMagmaKernel(length_scale=0.7288395212051347, variance=11.906479811901379),\n",
       " SumKernel(left_kernel=SEMagmaKernel(length_scale=0.18794220954840343, variance=0.4148712219921758), right_kernel=DiagKernel(inner_kernel=ExpKernel(inner_kernel=ConstantKernel(value=10.310210776967464)))))"
      ]
     },
     "execution_count": 40,
     "metadata": {},
     "output_type": "execute_result"
    }
   ],
   "execution_count": 40
  },
  {
   "metadata": {
    "ExecuteTime": {
     "end_time": "2025-07-09T14:48:15.349652Z",
     "start_time": "2025-07-08T15:08:40.643137Z"
    }
   },
   "cell_type": "code",
   "source": "optimized_mean_kern_new, optimized_task_kern_new, _, _ = optimise_hyperparameters_new(mean_kern, task_kern, padded_inputs, padded_outputs, all_inputs, prior_mean, post_mean, post_cov, masks, nugget=nugget, verbose=True)",
   "id": "32fcb850cd9a29ac",
   "outputs": [
    {
     "name": "stdout",
     "output_type": "stream",
     "text": [
      "Iteration: 0, Value: 190467.96517876248, Gradient norm: 364147.9343514594\n",
      "Iteration: 1, Value: 70687.33262344608, Gradient norm: 71151.35482363835\n",
      "Iteration: 2, Value: 54587.148943791995, Gradient norm: 54758.82799875409\n",
      "Iteration: 3, Value: 23238.841829142337, Gradient norm: 23169.996476653152\n",
      "Iteration: 4, Value: 12518.4407578984, Gradient norm: 12430.065820624288\n",
      "Iteration: 5, Value: 6175.625672469804, Gradient norm: 6074.888620102092\n",
      "Iteration: 6, Value: 3187.1238505582687, Gradient norm: 3072.406505160453\n",
      "Iteration: 7, Value: 1660.8179540650058, Gradient norm: 1530.7027459345343\n",
      "Iteration: 8, Value: 910.6021865349865, Gradient norm: 765.6355834289982\n",
      "Iteration: 9, Value: 540.3338495419432, Gradient norm: 381.93900680731895\n",
      "Iteration: 10, Value: 360.87765266164695, Gradient norm: 191.84876565894726\n",
      "Iteration: 11, Value: 274.64747957731146, Gradient norm: 100.75762915955656\n",
      "Iteration: 12, Value: 219.3269928390746, Gradient norm: 71.24163075267964\n",
      "Iteration: 13, Value: 149.95201158537415, Gradient norm: 120.14136138575667\n",
      "Iteration: 14, Value: 145.0899561716429, Gradient norm: 51.84701347913583\n",
      "Iteration: 15, Value: 128.100767525478, Gradient norm: 34.15203368444634\n",
      "Iteration: 16, Value: 115.2101179224782, Gradient norm: 61.97601051751205\n",
      "Iteration: 17, Value: 107.35432872310724, Gradient norm: 40.273402224367956\n",
      "Iteration: 18, Value: 104.93492265873984, Gradient norm: 6.267994711144922\n",
      "Iteration: 19, Value: 104.88606529735387, Gradient norm: 31.938144404690274\n",
      "Iteration: 20, Value: 104.64565467514736, Gradient norm: 16.034582037887347\n",
      "Iteration: 21, Value: 104.53344720231738, Gradient norm: 14.554791931832256\n",
      "Iteration: 22, Value: 104.52801263114519, Gradient norm: 11.359403626320294\n",
      "Iteration: 23, Value: 104.46795915767605, Gradient norm: 1.565844479788364\n",
      "Iteration: 24, Value: 104.38318379658652, Gradient norm: 8.37598795183622\n",
      "Iteration: 25, Value: 104.52572681531514, Gradient norm: 4.371822128537117\n",
      "Iteration: 26, Value: 104.43020144054904, Gradient norm: 3.0514979074698196\n",
      "Iteration: 27, Value: 104.42477331252849, Gradient norm: 3.4588633819363857\n",
      "Iteration: 28, Value: 104.38440675196536, Gradient norm: 7.792124945936863\n",
      "Iteration: 29, Value: 104.40558258929954, Gradient norm: 5.037867373213981\n",
      "Iteration: 30, Value: 104.3912229816086, Gradient norm: 9.463120656295459\n",
      "Iteration: 31, Value: 104.38311272493296, Gradient norm: 8.097332351396082\n",
      "Iteration: 0, Value: 324167.2774511937, Gradient norm: 248583.27897278403\n",
      "Iteration: 1, Value: 147311.97037104264, Gradient norm: 120224.18029355598\n",
      "Iteration: 2, Value: 64018.87839037214, Gradient norm: 56338.39766420775\n",
      "Iteration: 3, Value: 27784.010072175643, Gradient norm: 25098.57585703111\n",
      "Iteration: 4, Value: 13906.28552309324, Gradient norm: 11980.798664863209\n",
      "Iteration: 5, Value: 7712.526528510707, Gradient norm: 5827.154347080609\n",
      "Iteration: 6, Value: 4832.157375230621, Gradient norm: 2852.012359509141\n",
      "Iteration: 7, Value: 3480.6680878351945, Gradient norm: 1382.24215602966\n",
      "Iteration: 8, Value: 2868.4838637699568, Gradient norm: 653.0961496149112\n",
      "Iteration: 9, Value: 2613.3467640132963, Gradient norm: 292.0078540055491\n",
      "Iteration: 10, Value: 2523.8410493246975, Gradient norm: 116.58179425421987\n",
      "Iteration: 11, Value: 2501.3447239203147, Gradient norm: 36.94358199008092\n",
      "Iteration: 12, Value: 2498.2994259380275, Gradient norm: 7.386562181310253\n",
      "Iteration: 13, Value: 2498.1605465341413, Gradient norm: 0.6243020424461116\n",
      "Iteration: 14, Value: 2498.1595316821, Gradient norm: 0.018802740592568267\n"
     ]
    }
   ],
   "execution_count": 41
  },
  {
   "metadata": {
    "ExecuteTime": {
     "end_time": "2025-07-09T14:48:15.349715Z",
     "start_time": "2025-07-08T15:08:41.784349Z"
    }
   },
   "cell_type": "code",
   "source": "optimized_mean_kern_new, optimized_task_kern_new",
   "id": "61e2566cbbd6249a",
   "outputs": [
    {
     "data": {
      "text/plain": [
       "(SEMagmaKernel(length_scale=0.7288395212051347, variance=11.906479811901379),\n",
       " SumKernel(left_kernel=SEMagmaKernel(length_scale=0.18794220954840343, variance=0.4148712219921758), right_kernel=DiagKernel(inner_kernel=ExpKernel(inner_kernel=ConstantKernel(value=10.310210776967464)))))"
      ]
     },
     "execution_count": 42,
     "metadata": {},
     "output_type": "execute_result"
    }
   ],
   "execution_count": 42
  },
  {
   "metadata": {
    "ExecuteTime": {
     "end_time": "2025-07-09T14:48:15.349804Z",
     "start_time": "2025-07-08T15:08:41.812202Z"
    }
   },
   "cell_type": "code",
   "source": [
    "%%timeit -n 3 -r 2\n",
    "optimise_hyperparameters_old(mean_kern, task_kern, padded_inputs, padded_outputs, all_inputs, prior_mean, post_mean, post_cov, masks, nugget=nugget)[0].length_scale.block_until_ready()"
   ],
   "id": "349b9d1404b18043",
   "outputs": [
    {
     "name": "stdout",
     "output_type": "stream",
     "text": [
      "1.04 s ± 1.83 ms per loop (mean ± std. dev. of 2 runs, 3 loops each)\n"
     ]
    }
   ],
   "execution_count": 43
  },
  {
   "metadata": {
    "ExecuteTime": {
     "end_time": "2025-07-09T14:48:15.349870Z",
     "start_time": "2025-07-08T15:08:48.105399Z"
    }
   },
   "cell_type": "code",
   "source": [
    "%%timeit -n 3 -r 2\n",
    "optimise_hyperparameters_new(mean_kern, task_kern, padded_inputs, padded_outputs, all_inputs, prior_mean, post_mean, post_cov, masks, nugget=nugget)[0].length_scale.block_until_ready()"
   ],
   "id": "4e1a9da215c8b2c5",
   "outputs": [
    {
     "name": "stdout",
     "output_type": "stream",
     "text": [
      "1.04 s ± 12.1 ms per loop (mean ± std. dev. of 2 runs, 3 loops each)\n"
     ]
    }
   ],
   "execution_count": 44
  },
  {
   "metadata": {},
   "cell_type": "markdown",
   "source": [
    "---\n",
    "## Conclusion"
   ],
   "id": "13b12c3f2e1d55d9"
  },
  {
   "metadata": {
    "ExecuteTime": {
     "end_time": "2025-07-09T14:48:15.349948Z",
     "start_time": "2025-07-08T15:08:54.391394Z"
    }
   },
   "cell_type": "code",
   "source": "",
   "id": "9d1049db31416eda",
   "outputs": [],
   "execution_count": null
  },
  {
   "metadata": {},
   "cell_type": "markdown",
   "source": "---",
   "id": "5e278787af3818b9"
  }
 ],
 "metadata": {
  "kernelspec": {
   "display_name": "Python 3",
   "language": "python",
   "name": "python3"
  },
  "language_info": {
   "codemirror_mode": {
    "name": "ipython",
    "version": 2
   },
   "file_extension": ".py",
   "mimetype": "text/x-python",
   "name": "python",
   "nbconvert_exporter": "python",
   "pygments_lexer": "ipython2",
   "version": "2.7.6"
  }
 },
 "nbformat": 4,
 "nbformat_minor": 5
}
