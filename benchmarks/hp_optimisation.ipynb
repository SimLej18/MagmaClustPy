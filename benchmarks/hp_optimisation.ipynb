{
 "cells": [
  {
   "metadata": {},
   "cell_type": "markdown",
   "source": [
    "# Benchmarks - Hyper-parameters optimisation\n",
    "\n",
    "**Main considerations when implementing HPs optimisation**\n",
    "- we made kernels pytrees, so we should be able to compute gradient and optimise for them directly\n"
   ],
   "id": "b3c7fb13dd0f50f4"
  },
  {
   "metadata": {},
   "cell_type": "markdown",
   "source": [
    "---\n",
    "## Setup"
   ],
   "id": "e79b3311ad31df3f"
  },
  {
   "metadata": {
    "ExecuteTime": {
     "end_time": "2025-07-07T12:27:27.013886Z",
     "start_time": "2025-07-07T12:27:27.009707Z"
    }
   },
   "cell_type": "code",
   "source": [
    "# Standard library\n",
    "import os\n",
    "from typing import NamedTuple\n",
    "\n",
    "os.environ['JAX_ENABLE_X64'] = \"True\""
   ],
   "id": "a6a833855c1b48e9",
   "outputs": [],
   "execution_count": 1
  },
  {
   "metadata": {
    "ExecuteTime": {
     "end_time": "2025-07-07T12:27:27.727965Z",
     "start_time": "2025-07-07T12:27:27.105644Z"
    }
   },
   "cell_type": "code",
   "source": [
    "# Third party\n",
    "import jax\n",
    "import jax.numpy as jnp\n",
    "import jax.random as jrd\n",
    "from jax.tree_util import tree_flatten\n",
    "import optax\n",
    "import optax.tree_utils as otu\n",
    "import chex\n",
    "\n",
    "import numpy as np\n",
    "import pandas as pd"
   ],
   "id": "ac216c6509d3a07f",
   "outputs": [],
   "execution_count": 2
  },
  {
   "metadata": {
    "ExecuteTime": {
     "end_time": "2025-07-07T12:27:27.788885Z",
     "start_time": "2025-07-07T12:27:27.734064Z"
    }
   },
   "cell_type": "code",
   "source": [
    "# Local\n",
    "from Kernax import SEMagmaKernel, NoisySEMagmaKernel\n",
    "from MagmaClustPy.utils import preprocess_db\n",
    "from MagmaClustPy.hyperpost import hyperpost"
   ],
   "id": "489423e8889c492d",
   "outputs": [],
   "execution_count": 3
  },
  {
   "metadata": {
    "ExecuteTime": {
     "end_time": "2025-07-07T12:27:27.798049Z",
     "start_time": "2025-07-07T12:27:27.795554Z"
    }
   },
   "cell_type": "code",
   "source": [
    "# Config\n",
    "key = jrd.PRNGKey(0)\n",
    "test_db_size = \"small\""
   ],
   "id": "3e5dc5f15ab33e1a",
   "outputs": [],
   "execution_count": 4
  },
  {
   "metadata": {},
   "cell_type": "markdown",
   "source": [
    "---\n",
    "## Data"
   ],
   "id": "ac6a128506dca90c"
  },
  {
   "metadata": {
    "ExecuteTime": {
     "end_time": "2025-07-07T12:27:27.808551Z",
     "start_time": "2025-07-07T12:27:27.807165Z"
    }
   },
   "cell_type": "code",
   "source": "",
   "id": "a6109c6bb00ed82f",
   "outputs": [],
   "execution_count": null
  },
  {
   "metadata": {},
   "cell_type": "markdown",
   "source": [
    "---\n",
    "## Current implementation"
   ],
   "id": "ecf3dcbf9770f1a9"
  },
  {
   "metadata": {
    "ExecuteTime": {
     "end_time": "2025-07-07T12:27:27.816265Z",
     "start_time": "2025-07-07T12:27:27.814468Z"
    }
   },
   "cell_type": "code",
   "source": [
    "import MagmaClustPy\n",
    "optimise_hyperparameters_old = MagmaClustPy.hp_optimisation.optimise_hyperparameters"
   ],
   "id": "e270d1fb4227c9e1",
   "outputs": [],
   "execution_count": 5
  },
  {
   "metadata": {},
   "cell_type": "markdown",
   "source": [
    "---\n",
    "## Custom implementation(s)"
   ],
   "id": "eb9741fdeac26cf1"
  },
  {
   "metadata": {
    "ExecuteTime": {
     "end_time": "2025-07-07T12:27:27.828877Z",
     "start_time": "2025-07-07T12:27:27.823042Z"
    }
   },
   "cell_type": "code",
   "source": [
    "from typing import NamedTuple\n",
    "\n",
    "import chex\n",
    "import jax\n",
    "import jax.numpy as jnp\n",
    "import optax\n",
    "import optax.tree_utils as otu\n",
    "\n",
    "from MagmaClustPy.likelihoods import magma_neg_likelihood\n",
    "\n",
    "\n",
    "# Taken from optax doc (https://optax.readthedocs.io/en/latest/_collections/examples/lbfgs.html#l-bfgs-solver)\n",
    "class InfoState(NamedTuple):\n",
    "\titer_num: chex.Numeric\n",
    "\n",
    "\n",
    "def print_info():\n",
    "\tdef init_fn(params):\n",
    "\t\tdel params\n",
    "\t\treturn InfoState(iter_num=0)\n",
    "\n",
    "\tdef update_fn(updates, state, params, *, value, grad, **extra_args):\n",
    "\t\tdel params, extra_args\n",
    "\n",
    "\t\tjax.debug.print(\n",
    "\t\t\t'Iteration: {i}, Value: {v}, Gradient norm: {e}',\n",
    "\t\t\ti=state.iter_num,\n",
    "\t\t\tv=value,\n",
    "\t\t\te=otu.tree_norm(grad),\n",
    "\t\t)\n",
    "\t\treturn updates, InfoState(iter_num=state.iter_num + 1)\n",
    "\n",
    "\treturn optax.GradientTransformationExtraArgs(init_fn, update_fn)\n",
    "\n",
    "\n",
    "# Adapted from optax doc (https://optax.readthedocs.io/en/latest/_collections/examples/lbfgs.html#l-bfgs-solver)\n",
    "def run_opt(init_params, fun, opt, max_iter, tol):\n",
    "\tvalue_and_grad_fun = optax.value_and_grad_from_state(fun)\n",
    "\n",
    "\tdef step(carry):\n",
    "\t\tparams, state, prev_llh = carry\n",
    "\t\tvalue, grad = value_and_grad_fun(params, state=state)\n",
    "\t\tupdates, state = opt.update(grad, state, params, value=value, grad=grad, value_fn=fun)\n",
    "\t\tparams = optax.apply_updates(params, updates)\n",
    "\t\treturn params, state, value\n",
    "\n",
    "\tdef continuing_criterion(carry):\n",
    "\t\t# tol is not computed on the gradients but on the difference between current and previous likelihoods, to\n",
    "\t\t# prevent overfitting on ill-defined likelihood functions where variance can blow up.\n",
    "\t\t_, state, prev_llh = carry\n",
    "\t\titer_num = otu.tree_get(state, 'count')\n",
    "\t\tval = otu.tree_get(state, 'value')\n",
    "\t\tdiff = jnp.abs(val - prev_llh)\n",
    "\t\treturn (iter_num == 0) | ((iter_num < max_iter) & (diff >= tol))\n",
    "\n",
    "\tinit_carry = (init_params, opt.init(init_params),\n",
    "\t              jnp.array(jnp.inf))  # kernel params, initial state, first iter, previous likelihood\n",
    "\tfinal_params, final_state, final_llh = jax.lax.while_loop(\n",
    "\t\tcontinuing_criterion, step, init_carry\n",
    "\t)\n",
    "\treturn final_params, final_state, final_llh\n",
    "\n",
    "\n",
    "def optimise_hyperparameters(mean_kernel, task_kernel, inputs, outputs, all_inputs, prior_mean, post_mean, post_cov,\n",
    "                             mappings, nugget=jnp.array(1e-10), max_iter=100, tol=1e-3, verbose=False):\n",
    "\t# Optimise mean kernel\n",
    "\tif verbose:\n",
    "\t\tmean_opt = optax.chain(print_info(), optax.lbfgs())\n",
    "\telse:\n",
    "\t\tmean_opt = optax.lbfgs()\n",
    "\n",
    "\tdef mean_fun_wrapper(kern):\n",
    "\t\tres = magma_neg_likelihood(kern, all_inputs, post_mean, prior_mean, post_cov, None, nugget=nugget)\n",
    "\t\treturn res\n",
    "\n",
    "\tnew_mean_kernel, _, mean_llh = run_opt(mean_kernel, mean_fun_wrapper, mean_opt, max_iter=max_iter, tol=tol)\n",
    "\n",
    "\t# Optimise task kernel\n",
    "\tif verbose:\n",
    "\t\ttask_opt = optax.chain(print_info(), optax.lbfgs())\n",
    "\telse:\n",
    "\t\ttask_opt = optax.lbfgs()\n",
    "\n",
    "\tdef task_fun_wrapper(kern):\n",
    "\t\tres = magma_neg_likelihood(kern, inputs, outputs, post_mean, post_cov, mappings, nugget=nugget).sum()\n",
    "\t\treturn res\n",
    "\n",
    "\tnew_task_kernel, _, task_llh = run_opt(task_kernel, task_fun_wrapper, task_opt, max_iter=max_iter, tol=tol)\n",
    "\n",
    "\treturn new_mean_kernel, new_task_kernel, mean_llh, task_llh"
   ],
   "id": "547677121acc1215",
   "outputs": [],
   "execution_count": 6
  },
  {
   "metadata": {
    "ExecuteTime": {
     "end_time": "2025-07-07T12:27:27.839430Z",
     "start_time": "2025-07-07T12:27:27.837318Z"
    }
   },
   "cell_type": "code",
   "source": "optimise_hyperparameters_new = optimise_hyperparameters",
   "id": "ee5d6bdf0b50d65",
   "outputs": [],
   "execution_count": 7
  },
  {
   "metadata": {},
   "cell_type": "markdown",
   "source": [
    "---\n",
    "## Comparison"
   ],
   "id": "4ca5a9878a1cb3d3"
  },
  {
   "metadata": {
    "ExecuteTime": {
     "end_time": "2025-07-07T12:27:27.848301Z",
     "start_time": "2025-07-07T12:27:27.846179Z"
    }
   },
   "cell_type": "code",
   "source": "nugget = jnp.array(1e-10)",
   "id": "ffd445017b473b89",
   "outputs": [],
   "execution_count": 8
  },
  {
   "metadata": {},
   "cell_type": "markdown",
   "source": "### shared Input, shared HP",
   "id": "fd78cbfe819ddfa1"
  },
  {
   "metadata": {
    "ExecuteTime": {
     "end_time": "2025-07-07T12:27:28.319459Z",
     "start_time": "2025-07-07T12:27:27.855413Z"
    }
   },
   "cell_type": "code",
   "source": [
    "db = pd.read_csv(f\"../datasets/{test_db_size}_shared_input_shared_hp.csv\")\n",
    "padded_inputs, padded_outputs, masks, all_inputs = preprocess_db(db)\n",
    "prior_mean = jnp.array(0)\n",
    "all_inputs.shape, padded_inputs.shape"
   ],
   "id": "7ea422a4f5fd3d4d",
   "outputs": [
    {
     "data": {
      "text/plain": [
       "((15, 1), (20, 15, 1))"
      ]
     },
     "execution_count": 9,
     "metadata": {},
     "output_type": "execute_result"
    }
   ],
   "execution_count": 9
  },
  {
   "metadata": {
    "ExecuteTime": {
     "end_time": "2025-07-07T12:27:28.403180Z",
     "start_time": "2025-07-07T12:27:28.398541Z"
    }
   },
   "cell_type": "code",
   "source": [
    "mean_kern = SEMagmaKernel(length_scale=.3, variance=1.)\n",
    "task_kern = NoisySEMagmaKernel(length_scale=.6, variance=1., noise=-2.5)"
   ],
   "id": "b84be4451fab310f",
   "outputs": [],
   "execution_count": 10
  },
  {
   "metadata": {
    "ExecuteTime": {
     "end_time": "2025-07-07T12:27:29.014392Z",
     "start_time": "2025-07-07T12:27:28.424582Z"
    }
   },
   "cell_type": "code",
   "source": [
    "post_mean, post_cov = hyperpost(padded_inputs, padded_outputs, masks, prior_mean, mean_kern, task_kern, all_inputs=all_inputs, nugget=nugget)\n",
    "post_mean.shape, post_cov.shape"
   ],
   "id": "8acd23d0f6cc9f72",
   "outputs": [
    {
     "data": {
      "text/plain": [
       "((15,), (15, 15))"
      ]
     },
     "execution_count": 11,
     "metadata": {},
     "output_type": "execute_result"
    }
   ],
   "execution_count": 11
  },
  {
   "metadata": {
    "ExecuteTime": {
     "end_time": "2025-07-07T12:27:30.518416Z",
     "start_time": "2025-07-07T12:27:29.021555Z"
    }
   },
   "cell_type": "code",
   "source": "optimized_mean_kern_old, optimized_task_kern_old, _, _ = optimise_hyperparameters_old(mean_kern, task_kern, padded_inputs, padded_outputs, all_inputs, prior_mean, post_mean, post_cov, masks, nugget=nugget, verbose=True)",
   "id": "5fecb512ce7c194f",
   "outputs": [
    {
     "name": "stdout",
     "output_type": "stream",
     "text": [
      "Iteration: 0, Value: 1084.5687500717868, Gradient norm: 1080.7032171959315\n",
      "Iteration: 1, Value: 409.95587984144805, Gradient norm: 385.5030801587251\n",
      "Iteration: 2, Value: 246.86250594196835, Gradient norm: 216.6894138247774\n",
      "Iteration: 3, Value: 137.6512580287872, Gradient norm: 101.8502177865421\n",
      "Iteration: 4, Value: 91.00434593361065, Gradient norm: 50.67620059246727\n",
      "Iteration: 5, Value: 68.46835251070897, Gradient norm: 24.038302169580163\n",
      "Iteration: 6, Value: 58.88841157718085, Gradient norm: 11.058114972926345\n",
      "Iteration: 7, Value: 55.240766286669405, Gradient norm: 4.785243082447486\n",
      "Iteration: 8, Value: 54.852822463406476, Gradient norm: 14.295815102158798\n",
      "Iteration: 9, Value: 53.98775673645667, Gradient norm: 0.7948074113548755\n",
      "Iteration: 10, Value: 53.961940867368675, Gradient norm: 0.4244808202510211\n",
      "Iteration: 11, Value: 53.957169239573815, Gradient norm: 0.08596669492212126\n",
      "Iteration: 0, Value: 661.1004876873047, Gradient norm: 193.50584064365333\n",
      "Iteration: 1, Value: 587.4519607034439, Gradient norm: 40.54007213761799\n",
      "Iteration: 2, Value: 582.0302449904693, Gradient norm: 25.209041107423943\n",
      "Iteration: 3, Value: 579.3375969272096, Gradient norm: 23.02996690310895\n",
      "Iteration: 4, Value: 578.2334177278273, Gradient norm: 7.207563594085123\n",
      "Iteration: 5, Value: 577.8471112374943, Gradient norm: 6.1305237263208765\n",
      "Iteration: 6, Value: 576.9079848966946, Gradient norm: 7.146436981577783\n",
      "Iteration: 7, Value: 576.4603878283901, Gradient norm: 3.723581531771975\n",
      "Iteration: 8, Value: 576.389349334497, Gradient norm: 0.411403933579301\n"
     ]
    }
   ],
   "execution_count": 12
  },
  {
   "metadata": {
    "ExecuteTime": {
     "end_time": "2025-07-07T12:27:30.542358Z",
     "start_time": "2025-07-07T12:27:30.538671Z"
    }
   },
   "cell_type": "code",
   "source": "optimized_mean_kern_old, optimized_task_kern_old",
   "id": "95c85ee5b6f8fb0a",
   "outputs": [
    {
     "data": {
      "text/plain": [
       "(SEMagmaKernel(length_scale=1.001548464785164, variance=6.1442103965391865),\n",
       " NoisySEMagmaKernel(length_scale=0.8098982795863472, variance=2.0507074807095433, noise=-1.746510595053677))"
      ]
     },
     "execution_count": 13,
     "metadata": {},
     "output_type": "execute_result"
    }
   ],
   "execution_count": 13
  },
  {
   "metadata": {
    "ExecuteTime": {
     "end_time": "2025-07-07T12:27:31.514130Z",
     "start_time": "2025-07-07T12:27:30.573963Z"
    }
   },
   "cell_type": "code",
   "source": "optimized_mean_kern_new, optimized_task_kern_new, _, _ = optimise_hyperparameters_new(mean_kern, task_kern, padded_inputs, padded_outputs, all_inputs, prior_mean, post_mean, post_cov, masks, nugget=nugget, verbose=True)",
   "id": "2ed1ae4b497b01b7",
   "outputs": [
    {
     "name": "stdout",
     "output_type": "stream",
     "text": [
      "Iteration: 0, Value: 1084.5687500717868, Gradient norm: 1080.7032171959315\n",
      "Iteration: 1, Value: 409.95587984144805, Gradient norm: 385.5030801587251\n",
      "Iteration: 2, Value: 246.86250594196835, Gradient norm: 216.6894138247774\n",
      "Iteration: 3, Value: 137.6512580287872, Gradient norm: 101.8502177865421\n",
      "Iteration: 4, Value: 91.00434593361065, Gradient norm: 50.67620059246727\n",
      "Iteration: 5, Value: 68.46835251070897, Gradient norm: 24.038302169580163\n",
      "Iteration: 6, Value: 58.88841157718085, Gradient norm: 11.058114972926345\n",
      "Iteration: 7, Value: 55.240766286669405, Gradient norm: 4.785243082447486\n",
      "Iteration: 8, Value: 54.852822463406476, Gradient norm: 14.295815102158798\n",
      "Iteration: 9, Value: 53.98775673645667, Gradient norm: 0.7948074113548755\n",
      "Iteration: 10, Value: 53.961940867368675, Gradient norm: 0.4244808202510211\n",
      "Iteration: 11, Value: 53.957169239573815, Gradient norm: 0.08596669492212126\n",
      "Iteration: 0, Value: 661.1004876873047, Gradient norm: 193.50584064365333\n",
      "Iteration: 1, Value: 587.4519607034439, Gradient norm: 40.54007213761799\n",
      "Iteration: 2, Value: 582.0302449904693, Gradient norm: 25.209041107423943\n",
      "Iteration: 3, Value: 579.3375969272096, Gradient norm: 23.02996690310895\n",
      "Iteration: 4, Value: 578.2334177278273, Gradient norm: 7.207563594085123\n",
      "Iteration: 5, Value: 577.8471112374943, Gradient norm: 6.1305237263208765\n",
      "Iteration: 6, Value: 576.9079848966946, Gradient norm: 7.146436981577783\n",
      "Iteration: 7, Value: 576.4603878283901, Gradient norm: 3.723581531771975\n",
      "Iteration: 8, Value: 576.389349334497, Gradient norm: 0.411403933579301\n"
     ]
    }
   ],
   "execution_count": 14
  },
  {
   "metadata": {
    "ExecuteTime": {
     "end_time": "2025-07-07T12:27:31.530494Z",
     "start_time": "2025-07-07T12:27:31.526791Z"
    }
   },
   "cell_type": "code",
   "source": "optimized_mean_kern_new, optimized_task_kern_new",
   "id": "ccf5ce2102a25d84",
   "outputs": [
    {
     "data": {
      "text/plain": [
       "(SEMagmaKernel(length_scale=1.001548464785164, variance=6.1442103965391865),\n",
       " NoisySEMagmaKernel(length_scale=0.8098982795863472, variance=2.0507074807095433, noise=-1.746510595053677))"
      ]
     },
     "execution_count": 15,
     "metadata": {},
     "output_type": "execute_result"
    }
   ],
   "execution_count": 15
  },
  {
   "metadata": {
    "ExecuteTime": {
     "end_time": "2025-07-07T12:27:36.924836Z",
     "start_time": "2025-07-07T12:27:31.548599Z"
    }
   },
   "cell_type": "code",
   "source": [
    "%%timeit -n 3 -r 2\n",
    "optimise_hyperparameters_old(mean_kern, task_kern, padded_inputs, padded_outputs, all_inputs, prior_mean, post_mean, post_cov, masks, nugget=nugget)[0].length_scale.block_until_ready()"
   ],
   "id": "8b52b470f131915a",
   "outputs": [
    {
     "name": "stdout",
     "output_type": "stream",
     "text": [
      "894 ms ± 26.1 ms per loop (mean ± std. dev. of 2 runs, 3 loops each)\n"
     ]
    }
   ],
   "execution_count": 16
  },
  {
   "metadata": {
    "ExecuteTime": {
     "end_time": "2025-07-07T12:27:42.166992Z",
     "start_time": "2025-07-07T12:27:36.946637Z"
    }
   },
   "cell_type": "code",
   "source": [
    "%%timeit -n 3 -r 2\n",
    "optimise_hyperparameters_new(mean_kern, task_kern, padded_inputs, padded_outputs, all_inputs, prior_mean, post_mean, post_cov, masks, nugget=nugget)[0].length_scale.block_until_ready()"
   ],
   "id": "a7dc6a1b623c0c6e",
   "outputs": [
    {
     "name": "stdout",
     "output_type": "stream",
     "text": [
      "868 ms ± 1.89 ms per loop (mean ± std. dev. of 2 runs, 3 loops each)\n"
     ]
    }
   ],
   "execution_count": 17
  },
  {
   "metadata": {},
   "cell_type": "markdown",
   "source": "### shared Input, Distinct HP",
   "id": "ff736c7218c95092"
  },
  {
   "metadata": {
    "ExecuteTime": {
     "end_time": "2025-07-07T12:27:42.200164Z",
     "start_time": "2025-07-07T12:27:42.182506Z"
    }
   },
   "cell_type": "code",
   "source": [
    "db = pd.read_csv(f\"../datasets/{test_db_size}_shared_input_distinct_hp.csv\")\n",
    "padded_inputs, padded_outputs, masks, all_inputs = preprocess_db(db)\n",
    "prior_mean = jnp.array(0)\n",
    "all_inputs.shape, padded_inputs.shape"
   ],
   "id": "f0b7e39f319c54b4",
   "outputs": [
    {
     "data": {
      "text/plain": [
       "((15, 1), (20, 15, 1))"
      ]
     },
     "execution_count": 18,
     "metadata": {},
     "output_type": "execute_result"
    }
   ],
   "execution_count": 18
  },
  {
   "metadata": {
    "ExecuteTime": {
     "end_time": "2025-07-07T12:27:42.327050Z",
     "start_time": "2025-07-07T12:27:42.214689Z"
    }
   },
   "cell_type": "code",
   "source": [
    "mean_kern = SEMagmaKernel(length_scale=.3, variance=1.)\n",
    "\n",
    "key, subkey = jax.random.split(key)\n",
    "distinct_length_scales = jax.random.uniform(subkey, (padded_outputs.shape[0],), jnp.float64, .1, 1)\n",
    "task_kern = NoisySEMagmaKernel(length_scale=distinct_length_scales, variance=1., noise=-2.5)"
   ],
   "id": "df22a4acbb8bf863",
   "outputs": [],
   "execution_count": 19
  },
  {
   "metadata": {
    "ExecuteTime": {
     "end_time": "2025-07-07T12:27:42.469983Z",
     "start_time": "2025-07-07T12:27:42.339585Z"
    }
   },
   "cell_type": "code",
   "source": [
    "post_mean, post_cov = hyperpost(padded_inputs, padded_outputs, masks, prior_mean, mean_kern, task_kern, all_inputs=all_inputs, nugget=nugget)\n",
    "post_mean.shape, post_cov.shape"
   ],
   "id": "b9aed430c16a69f0",
   "outputs": [
    {
     "data": {
      "text/plain": [
       "((15,), (15, 15))"
      ]
     },
     "execution_count": 20,
     "metadata": {},
     "output_type": "execute_result"
    }
   ],
   "execution_count": 20
  },
  {
   "metadata": {
    "ExecuteTime": {
     "end_time": "2025-07-07T12:27:43.631255Z",
     "start_time": "2025-07-07T12:27:42.483673Z"
    }
   },
   "cell_type": "code",
   "source": "optimized_mean_kern_old, optimized_task_kern_old, _, _ = optimise_hyperparameters_old(mean_kern, task_kern, padded_inputs, padded_outputs, all_inputs, prior_mean, post_mean, post_cov, masks, nugget=nugget, verbose=True)",
   "id": "6f661f5dac25a1f7",
   "outputs": [
    {
     "name": "stdout",
     "output_type": "stream",
     "text": [
      "Iteration: 0, Value: 2171.3401026970214, Gradient norm: 2292.932573561129\n",
      "Iteration: 1, Value: 772.2235778726487, Gradient norm: 774.9208807017385\n",
      "Iteration: 2, Value: 465.45374367751475, Gradient norm: 446.4539415651758\n",
      "Iteration: 3, Value: 237.81603938688698, Gradient norm: 209.83364989406658\n",
      "Iteration: 4, Value: 139.84666615858947, Gradient norm: 106.29635352398901\n",
      "Iteration: 5, Value: 90.24385621796176, Gradient norm: 51.66078153563649\n",
      "Iteration: 6, Value: 67.56695471283092, Gradient norm: 24.964188274601558\n",
      "Iteration: 7, Value: 57.513897692075, Gradient norm: 11.443416048585918\n",
      "Iteration: 8, Value: 53.90527695746368, Gradient norm: 9.527867511759366\n",
      "Iteration: 9, Value: 53.018747284850456, Gradient norm: 4.0072953382639485\n",
      "Iteration: 10, Value: 52.33267227490659, Gradient norm: 3.23567685069672\n",
      "Iteration: 11, Value: 52.22491924518004, Gradient norm: 1.6050725498024332\n",
      "Iteration: 12, Value: 52.21527601311167, Gradient norm: 0.15462279751671215\n",
      "Iteration: 0, Value: 650.5853278758524, Gradient norm: 186.94353822675464\n",
      "Iteration: 1, Value: 566.5609030042214, Gradient norm: 16.98410879892959\n",
      "Iteration: 2, Value: 564.9733598009935, Gradient norm: 15.563617377773774\n",
      "Iteration: 3, Value: 553.7861032418008, Gradient norm: 21.250145793523853\n",
      "Iteration: 4, Value: 547.0790047461529, Gradient norm: 20.701148676647982\n",
      "Iteration: 5, Value: 543.0245274275079, Gradient norm: 14.79639713890222\n",
      "Iteration: 6, Value: 540.6542877301432, Gradient norm: 5.188288504774136\n",
      "Iteration: 7, Value: 540.3373592666999, Gradient norm: 1.7971340942570633\n",
      "Iteration: 8, Value: 540.2661977772059, Gradient norm: 1.1581722472582192\n",
      "Iteration: 9, Value: 540.2361177711181, Gradient norm: 0.5707497902223617\n",
      "Iteration: 10, Value: 540.2276540877521, Gradient norm: 0.18982923741634267\n",
      "Iteration: 11, Value: 540.2260109205727, Gradient norm: 0.12194484407421488\n"
     ]
    }
   ],
   "execution_count": 21
  },
  {
   "metadata": {
    "ExecuteTime": {
     "end_time": "2025-07-07T12:27:43.646779Z",
     "start_time": "2025-07-07T12:27:43.643293Z"
    }
   },
   "cell_type": "code",
   "source": "optimized_mean_kern_old, optimized_task_kern_old",
   "id": "c4dc707940d8c5de",
   "outputs": [
    {
     "data": {
      "text/plain": [
       "(SEMagmaKernel(length_scale=1.17433086080464, variance=6.796909630639868),\n",
       " NoisySEMagmaKernel(length_scale=[ 1.214734    1.17188189  1.23820641  0.97111138  0.46351171  1.40309787\n",
       "   0.70215186  1.49056998  0.97386099 -0.05430196  1.08243636  1.0596998\n",
       "   1.56520916  0.82855608  0.65751824  1.46100638  1.34999146  0.72772361\n",
       "   1.23905972  1.04273212], variance=2.15882736931959, noise=-2.1751331459541348))"
      ]
     },
     "execution_count": 22,
     "metadata": {},
     "output_type": "execute_result"
    }
   ],
   "execution_count": 22
  },
  {
   "metadata": {
    "ExecuteTime": {
     "end_time": "2025-07-07T12:27:44.593899Z",
     "start_time": "2025-07-07T12:27:43.662389Z"
    }
   },
   "cell_type": "code",
   "source": "optimized_mean_kern_new, optimized_task_kern_new, _, _ = optimise_hyperparameters_new(mean_kern, task_kern, padded_inputs, padded_outputs, all_inputs, prior_mean, post_mean, post_cov, masks, nugget=nugget, verbose=True)",
   "id": "644bfb051b3f97df",
   "outputs": [
    {
     "name": "stdout",
     "output_type": "stream",
     "text": [
      "Iteration: 0, Value: 2171.3401026970214, Gradient norm: 2292.932573561129\n",
      "Iteration: 1, Value: 772.2235778726487, Gradient norm: 774.9208807017385\n",
      "Iteration: 2, Value: 465.45374367751475, Gradient norm: 446.4539415651758\n",
      "Iteration: 3, Value: 237.81603938688698, Gradient norm: 209.83364989406658\n",
      "Iteration: 4, Value: 139.84666615858947, Gradient norm: 106.29635352398901\n",
      "Iteration: 5, Value: 90.24385621796176, Gradient norm: 51.66078153563649\n",
      "Iteration: 6, Value: 67.56695471283092, Gradient norm: 24.964188274601558\n",
      "Iteration: 7, Value: 57.513897692075, Gradient norm: 11.443416048585918\n",
      "Iteration: 8, Value: 53.90527695746368, Gradient norm: 9.527867511759366\n",
      "Iteration: 9, Value: 53.018747284850456, Gradient norm: 4.0072953382639485\n",
      "Iteration: 10, Value: 52.33267227490659, Gradient norm: 3.23567685069672\n",
      "Iteration: 11, Value: 52.22491924518004, Gradient norm: 1.6050725498024332\n",
      "Iteration: 12, Value: 52.21527601311167, Gradient norm: 0.15462279751671215\n",
      "Iteration: 0, Value: 650.5853278758524, Gradient norm: 186.94353822675464\n",
      "Iteration: 1, Value: 566.5609030042214, Gradient norm: 16.98410879892959\n",
      "Iteration: 2, Value: 564.9733598009935, Gradient norm: 15.563617377773774\n",
      "Iteration: 3, Value: 553.7861032418008, Gradient norm: 21.250145793523853\n",
      "Iteration: 4, Value: 547.0790047461529, Gradient norm: 20.701148676647982\n",
      "Iteration: 5, Value: 543.0245274275079, Gradient norm: 14.79639713890222\n",
      "Iteration: 6, Value: 540.6542877301432, Gradient norm: 5.188288504774136\n",
      "Iteration: 7, Value: 540.3373592666999, Gradient norm: 1.7971340942570633\n",
      "Iteration: 8, Value: 540.2661977772059, Gradient norm: 1.1581722472582192\n",
      "Iteration: 9, Value: 540.2361177711181, Gradient norm: 0.5707497902223617\n",
      "Iteration: 10, Value: 540.2276540877521, Gradient norm: 0.18982923741634267\n",
      "Iteration: 11, Value: 540.2260109205727, Gradient norm: 0.12194484407421488\n"
     ]
    }
   ],
   "execution_count": 23
  },
  {
   "metadata": {
    "ExecuteTime": {
     "end_time": "2025-07-07T12:27:44.619235Z",
     "start_time": "2025-07-07T12:27:44.614935Z"
    }
   },
   "cell_type": "code",
   "source": "optimized_mean_kern_new, optimized_task_kern_new",
   "id": "daf2d27185970ee4",
   "outputs": [
    {
     "data": {
      "text/plain": [
       "(SEMagmaKernel(length_scale=1.17433086080464, variance=6.796909630639868),\n",
       " NoisySEMagmaKernel(length_scale=[ 1.214734    1.17188189  1.23820641  0.97111138  0.46351171  1.40309787\n",
       "   0.70215186  1.49056998  0.97386099 -0.05430196  1.08243636  1.0596998\n",
       "   1.56520916  0.82855608  0.65751824  1.46100638  1.34999146  0.72772361\n",
       "   1.23905972  1.04273212], variance=2.15882736931959, noise=-2.1751331459541348))"
      ]
     },
     "execution_count": 24,
     "metadata": {},
     "output_type": "execute_result"
    }
   ],
   "execution_count": 24
  },
  {
   "metadata": {
    "ExecuteTime": {
     "end_time": "2025-07-07T12:27:49.999025Z",
     "start_time": "2025-07-07T12:27:44.644855Z"
    }
   },
   "cell_type": "code",
   "source": [
    "%%timeit -n 3 -r 2\n",
    "optimise_hyperparameters_old(mean_kern, task_kern, padded_inputs, padded_outputs, all_inputs, prior_mean, post_mean, post_cov, masks, nugget=nugget)[0].length_scale.block_until_ready()"
   ],
   "id": "cc6bbdd1cc939b9c",
   "outputs": [
    {
     "name": "stdout",
     "output_type": "stream",
     "text": [
      "891 ms ± 5.32 ms per loop (mean ± std. dev. of 2 runs, 3 loops each)\n"
     ]
    }
   ],
   "execution_count": 25
  },
  {
   "metadata": {
    "ExecuteTime": {
     "end_time": "2025-07-07T12:27:55.688832Z",
     "start_time": "2025-07-07T12:27:50.018735Z"
    }
   },
   "cell_type": "code",
   "source": [
    "%%timeit -n 3 -r 2\n",
    "optimise_hyperparameters_new(mean_kern, task_kern, padded_inputs, padded_outputs, all_inputs, prior_mean, post_mean, post_cov, masks, nugget=nugget)[0].length_scale.block_until_ready()"
   ],
   "id": "f53499d83b9542ad",
   "outputs": [
    {
     "name": "stdout",
     "output_type": "stream",
     "text": [
      "943 ms ± 29.1 ms per loop (mean ± std. dev. of 2 runs, 3 loops each)\n"
     ]
    }
   ],
   "execution_count": 26
  },
  {
   "metadata": {},
   "cell_type": "markdown",
   "source": "### Distinct Input, shared HP",
   "id": "20b483a9ffe80c86"
  },
  {
   "metadata": {
    "ExecuteTime": {
     "end_time": "2025-07-07T12:27:56.067794Z",
     "start_time": "2025-07-07T12:27:55.714225Z"
    }
   },
   "cell_type": "code",
   "source": [
    "db = pd.read_csv(f\"../datasets/{test_db_size}_distinct_input_shared_hp.csv\")\n",
    "padded_inputs, padded_outputs, masks, all_inputs = preprocess_db(db)\n",
    "prior_mean = jnp.array(0)\n",
    "all_inputs.shape, padded_inputs.shape"
   ],
   "id": "b28169fa8ce19f32",
   "outputs": [
    {
     "data": {
      "text/plain": [
       "((41, 1), (20, 15, 1))"
      ]
     },
     "execution_count": 27,
     "metadata": {},
     "output_type": "execute_result"
    }
   ],
   "execution_count": 27
  },
  {
   "metadata": {
    "ExecuteTime": {
     "end_time": "2025-07-07T12:27:56.091647Z",
     "start_time": "2025-07-07T12:27:56.088314Z"
    }
   },
   "cell_type": "code",
   "source": [
    "mean_kern = SEMagmaKernel(length_scale=.3, variance=1.)\n",
    "task_kern = NoisySEMagmaKernel(length_scale=.6, variance=1., noise=2.5)"
   ],
   "id": "4912ddbe3e580dd7",
   "outputs": [],
   "execution_count": 28
  },
  {
   "metadata": {
    "ExecuteTime": {
     "end_time": "2025-07-07T12:27:56.517366Z",
     "start_time": "2025-07-07T12:27:56.110323Z"
    }
   },
   "cell_type": "code",
   "source": [
    "post_mean, post_cov = hyperpost(padded_inputs, padded_outputs, masks, prior_mean, mean_kern, task_kern, all_inputs=all_inputs, nugget=nugget)\n",
    "post_mean.shape, post_cov.shape"
   ],
   "id": "b8c905aaaf843652",
   "outputs": [
    {
     "data": {
      "text/plain": [
       "((41,), (41, 41))"
      ]
     },
     "execution_count": 29,
     "metadata": {},
     "output_type": "execute_result"
    }
   ],
   "execution_count": 29
  },
  {
   "metadata": {
    "ExecuteTime": {
     "end_time": "2025-07-07T12:27:57.852505Z",
     "start_time": "2025-07-07T12:27:56.530484Z"
    }
   },
   "cell_type": "code",
   "source": "optimized_mean_kern_old, optimized_task_kern_old, _, _ = optimise_hyperparameters_old(mean_kern, task_kern, padded_inputs, padded_outputs, all_inputs, prior_mean, post_mean, post_cov, masks, nugget=nugget, verbose=True)",
   "id": "c8640faaaa1ef6e2",
   "outputs": [
    {
     "name": "stdout",
     "output_type": "stream",
     "text": [
      "Iteration: 0, Value: 6093142.851951117, Gradient norm: 8763936.849021327\n",
      "Iteration: 1, Value: 2340994.5359735494, Gradient norm: 2344526.408400721\n",
      "Iteration: 2, Value: 1559915.7975703704, Gradient norm: 1561428.527367833\n",
      "Iteration: 3, Value: 695187.8203177949, Gradient norm: 695411.7132746985\n",
      "Iteration: 4, Value: 363608.7626415531, Gradient norm: 363592.6437455191\n",
      "Iteration: 5, Value: 178880.26675022885, Gradient norm: 178789.94383728367\n",
      "Iteration: 6, Value: 90135.26700047683, Gradient norm: 90020.03255345317\n",
      "Iteration: 7, Value: 45037.24029636477, Gradient norm: 44906.257731033584\n",
      "Iteration: 8, Value: 22623.340091339625, Gradient norm: 22477.855201064976\n",
      "Iteration: 9, Value: 11393.875287353994, Gradient norm: 11233.68894949135\n",
      "Iteration: 10, Value: 5790.255162347844, Gradient norm: 5615.32187262639\n",
      "Iteration: 11, Value: 2994.134381965308, Gradient norm: 2804.6869890194375\n",
      "Iteration: 12, Value: 1602.377297467958, Gradient norm: 1399.3743934217848\n",
      "Iteration: 13, Value: 911.7212089540516, Gradient norm: 697.0270308208541\n",
      "Iteration: 14, Value: 569.5670199835744, Gradient norm: 347.290334744182\n",
      "Iteration: 15, Value: 395.6002780229318, Gradient norm: 177.22564614142752\n",
      "Iteration: 16, Value: 284.39582839586734, Gradient norm: 105.49779544877246\n",
      "Iteration: 17, Value: 244.58057026797633, Gradient norm: 79.91616300695402\n",
      "Iteration: 18, Value: 221.205165823816, Gradient norm: 131.95353365607608\n",
      "Iteration: 19, Value: 172.13883280304512, Gradient norm: 27.906246506099183\n",
      "Iteration: 20, Value: 162.3550254478566, Gradient norm: 236.26045009867713\n",
      "Iteration: 21, Value: 153.96755797962035, Gradient norm: 64.85716345688907\n",
      "Iteration: 22, Value: 153.0600412612375, Gradient norm: 41.25762530295427\n",
      "Iteration: 23, Value: 151.20646315250562, Gradient norm: 24.316444588237264\n",
      "Iteration: 24, Value: 151.11106936351666, Gradient norm: 54.01137683790071\n",
      "Iteration: 0, Value: 12257081.560807941, Gradient norm: 9935158.516948923\n",
      "Iteration: 1, Value: 5301459.158587757, Gradient norm: 4609363.102954435\n",
      "Iteration: 2, Value: 2379252.655537881, Gradient norm: 2206863.7902006474\n",
      "Iteration: 3, Value: 1064932.7834790372, Gradient norm: 1028625.3390026313\n",
      "Iteration: 4, Value: 509435.25732198125, Gradient norm: 500658.1773004685\n",
      "Iteration: 5, Value: 249505.83563142444, Gradient norm: 246484.42896276468\n",
      "Iteration: 6, Value: 124401.38216694092, Gradient norm: 122522.00089458437\n",
      "Iteration: 7, Value: 62765.95736753817, Gradient norm: 61051.829986266355\n",
      "Iteration: 8, Value: 32220.673827516854, Gradient norm: 30461.0429908504\n",
      "Iteration: 9, Value: 17041.421128891678, Gradient norm: 15190.85662693204\n",
      "Iteration: 10, Value: 9513.509506380738, Gradient norm: 7562.5502872599\n",
      "Iteration: 11, Value: 5802.449071235914, Gradient norm: 3749.798403998843\n",
      "Iteration: 12, Value: 3997.2127972086387, Gradient norm: 1844.079513934101\n",
      "Iteration: 13, Value: 3142.4264326961047, Gradient norm: 891.9585445887466\n",
      "Iteration: 14, Value: 2758.9113435001777, Gradient norm: 417.23719449037156\n",
      "Iteration: 15, Value: 2604.236236020341, Gradient norm: 182.3953497533154\n",
      "Iteration: 16, Value: 2553.5780127589405, Gradient norm: 69.47283537547229\n",
      "Iteration: 17, Value: 2542.420686576913, Gradient norm: 20.008756756578574\n",
      "Iteration: 18, Value: 2541.2303986670327, Gradient norm: 3.3229612124252377\n",
      "Iteration: 19, Value: 2541.194261106283, Gradient norm: 0.2009176527483825\n"
     ]
    }
   ],
   "execution_count": 30
  },
  {
   "metadata": {
    "ExecuteTime": {
     "end_time": "2025-07-07T12:27:57.868469Z",
     "start_time": "2025-07-07T12:27:57.864900Z"
    }
   },
   "cell_type": "code",
   "source": "optimized_mean_kern_old, optimized_task_kern_old",
   "id": "c73e5a575a67c8c4",
   "outputs": [
    {
     "data": {
      "text/plain": [
       "(SEMagmaKernel(length_scale=0.8870253568076676, variance=15.502081965764084),\n",
       " NoisySEMagmaKernel(length_scale=0.7865613276229895, variance=-0.413673332360428, noise=14.103401509480907))"
      ]
     },
     "execution_count": 31,
     "metadata": {},
     "output_type": "execute_result"
    }
   ],
   "execution_count": 31
  },
  {
   "metadata": {
    "ExecuteTime": {
     "end_time": "2025-07-07T12:27:58.946709Z",
     "start_time": "2025-07-07T12:27:57.889013Z"
    }
   },
   "cell_type": "code",
   "source": "optimized_mean_kern_new, optimized_task_kern_new, _, _ = optimise_hyperparameters_new(mean_kern, task_kern, padded_inputs, padded_outputs, all_inputs, prior_mean, post_mean, post_cov, masks, nugget=nugget, verbose=True)",
   "id": "dd07faf003b6472b",
   "outputs": [
    {
     "name": "stdout",
     "output_type": "stream",
     "text": [
      "Iteration: 0, Value: 6093142.851951117, Gradient norm: 8763936.849021327\n",
      "Iteration: 1, Value: 2340994.5359735494, Gradient norm: 2344526.408400721\n",
      "Iteration: 2, Value: 1559915.7975703704, Gradient norm: 1561428.527367833\n",
      "Iteration: 3, Value: 695187.8203177949, Gradient norm: 695411.7132746985\n",
      "Iteration: 4, Value: 363608.7626415531, Gradient norm: 363592.6437455191\n",
      "Iteration: 5, Value: 178880.26675022885, Gradient norm: 178789.94383728367\n",
      "Iteration: 6, Value: 90135.26700047683, Gradient norm: 90020.03255345317\n",
      "Iteration: 7, Value: 45037.24029636477, Gradient norm: 44906.257731033584\n",
      "Iteration: 8, Value: 22623.340091339625, Gradient norm: 22477.855201064976\n",
      "Iteration: 9, Value: 11393.875287353994, Gradient norm: 11233.68894949135\n",
      "Iteration: 10, Value: 5790.255162347844, Gradient norm: 5615.32187262639\n",
      "Iteration: 11, Value: 2994.134381965308, Gradient norm: 2804.6869890194375\n",
      "Iteration: 12, Value: 1602.377297467958, Gradient norm: 1399.3743934217848\n",
      "Iteration: 13, Value: 911.7212089540516, Gradient norm: 697.0270308208541\n",
      "Iteration: 14, Value: 569.5670199835744, Gradient norm: 347.290334744182\n",
      "Iteration: 15, Value: 395.6002780229318, Gradient norm: 177.22564614142752\n",
      "Iteration: 16, Value: 284.39582839586734, Gradient norm: 105.49779544877246\n",
      "Iteration: 17, Value: 244.58057026797633, Gradient norm: 79.91616300695402\n",
      "Iteration: 18, Value: 221.205165823816, Gradient norm: 131.95353365607608\n",
      "Iteration: 19, Value: 172.13883280304512, Gradient norm: 27.906246506099183\n",
      "Iteration: 20, Value: 162.3550254478566, Gradient norm: 236.26045009867713\n",
      "Iteration: 21, Value: 153.96755797962035, Gradient norm: 64.85716345688907\n",
      "Iteration: 22, Value: 153.0600412612375, Gradient norm: 41.25762530295427\n",
      "Iteration: 23, Value: 151.20646315250562, Gradient norm: 24.316444588237264\n",
      "Iteration: 24, Value: 151.11106936351666, Gradient norm: 54.01137683790071\n",
      "Iteration: 0, Value: 12257081.560807941, Gradient norm: 9935158.516948923\n",
      "Iteration: 1, Value: 5301459.158587757, Gradient norm: 4609363.102954435\n",
      "Iteration: 2, Value: 2379252.655537881, Gradient norm: 2206863.7902006474\n",
      "Iteration: 3, Value: 1064932.7834790372, Gradient norm: 1028625.3390026313\n",
      "Iteration: 4, Value: 509435.25732198125, Gradient norm: 500658.1773004685\n",
      "Iteration: 5, Value: 249505.83563142444, Gradient norm: 246484.42896276468\n",
      "Iteration: 6, Value: 124401.38216694092, Gradient norm: 122522.00089458437\n",
      "Iteration: 7, Value: 62765.95736753817, Gradient norm: 61051.829986266355\n",
      "Iteration: 8, Value: 32220.673827516854, Gradient norm: 30461.0429908504\n",
      "Iteration: 9, Value: 17041.421128891678, Gradient norm: 15190.85662693204\n",
      "Iteration: 10, Value: 9513.509506380738, Gradient norm: 7562.5502872599\n",
      "Iteration: 11, Value: 5802.449071235914, Gradient norm: 3749.798403998843\n",
      "Iteration: 12, Value: 3997.2127972086387, Gradient norm: 1844.079513934101\n",
      "Iteration: 13, Value: 3142.4264326961047, Gradient norm: 891.9585445887466\n",
      "Iteration: 14, Value: 2758.9113435001777, Gradient norm: 417.23719449037156\n",
      "Iteration: 15, Value: 2604.236236020341, Gradient norm: 182.3953497533154\n",
      "Iteration: 16, Value: 2553.5780127589405, Gradient norm: 69.47283537547229\n",
      "Iteration: 17, Value: 2542.420686576913, Gradient norm: 20.008756756578574\n",
      "Iteration: 18, Value: 2541.2303986670327, Gradient norm: 3.3229612124252377\n",
      "Iteration: 19, Value: 2541.194261106283, Gradient norm: 0.2009176527483825\n"
     ]
    }
   ],
   "execution_count": 32
  },
  {
   "metadata": {
    "ExecuteTime": {
     "end_time": "2025-07-07T12:27:58.963419Z",
     "start_time": "2025-07-07T12:27:58.959593Z"
    }
   },
   "cell_type": "code",
   "source": "optimized_mean_kern_new, optimized_task_kern_new",
   "id": "842fc63dbed8de30",
   "outputs": [
    {
     "data": {
      "text/plain": [
       "(SEMagmaKernel(length_scale=0.8870253568076676, variance=15.502081965764084),\n",
       " NoisySEMagmaKernel(length_scale=0.7865613276229895, variance=-0.413673332360428, noise=14.103401509480907))"
      ]
     },
     "execution_count": 33,
     "metadata": {},
     "output_type": "execute_result"
    }
   ],
   "execution_count": 33
  },
  {
   "metadata": {
    "ExecuteTime": {
     "end_time": "2025-07-07T12:28:04.880388Z",
     "start_time": "2025-07-07T12:27:58.986852Z"
    }
   },
   "cell_type": "code",
   "source": [
    "%%timeit -n 3 -r 2\n",
    "optimise_hyperparameters_old(mean_kern, task_kern, padded_inputs, padded_outputs, all_inputs, prior_mean, post_mean, post_cov, masks, nugget=nugget)[0].length_scale.block_until_ready()"
   ],
   "id": "9c9c4ad32b5947d7",
   "outputs": [
    {
     "name": "stdout",
     "output_type": "stream",
     "text": [
      "980 ms ± 3.04 ms per loop (mean ± std. dev. of 2 runs, 3 loops each)\n"
     ]
    }
   ],
   "execution_count": 34
  },
  {
   "metadata": {
    "ExecuteTime": {
     "end_time": "2025-07-07T12:28:10.691078Z",
     "start_time": "2025-07-07T12:28:04.893272Z"
    }
   },
   "cell_type": "code",
   "source": [
    "%%timeit -n 3 -r 2\n",
    "optimise_hyperparameters_new(mean_kern, task_kern, padded_inputs, padded_outputs, all_inputs, prior_mean, post_mean, post_cov, masks, nugget=nugget)[0].length_scale.block_until_ready()"
   ],
   "id": "6e5653f58b22076d",
   "outputs": [
    {
     "name": "stdout",
     "output_type": "stream",
     "text": [
      "964 ms ± 1.83 ms per loop (mean ± std. dev. of 2 runs, 3 loops each)\n"
     ]
    }
   ],
   "execution_count": 35
  },
  {
   "metadata": {},
   "cell_type": "markdown",
   "source": "### Distinct Input, Distinct HP",
   "id": "83204767e8354b6f"
  },
  {
   "metadata": {
    "ExecuteTime": {
     "end_time": "2025-07-07T12:28:10.986972Z",
     "start_time": "2025-07-07T12:28:10.704780Z"
    }
   },
   "cell_type": "code",
   "source": [
    "db = pd.read_csv(f\"../datasets/{test_db_size}_distinct_input_distinct_hp.csv\")\n",
    "padded_inputs, padded_outputs, masks, all_inputs = preprocess_db(db)\n",
    "prior_mean = jnp.array(0)\n",
    "all_inputs.shape, padded_inputs.shape"
   ],
   "id": "60ba0c8f3de26ee8",
   "outputs": [
    {
     "data": {
      "text/plain": [
       "((41, 1), (20, 19, 1))"
      ]
     },
     "execution_count": 36,
     "metadata": {},
     "output_type": "execute_result"
    }
   ],
   "execution_count": 36
  },
  {
   "metadata": {
    "ExecuteTime": {
     "end_time": "2025-07-07T12:28:11.140368Z",
     "start_time": "2025-07-07T12:28:11.136128Z"
    }
   },
   "cell_type": "code",
   "source": [
    "mean_kern = SEMagmaKernel(length_scale=.3, variance=1.)\n",
    "\n",
    "key, subkey = jax.random.split(key)\n",
    "distinct_length_scales = jax.random.uniform(subkey, (padded_outputs.shape[0],), jnp.float64, .1, 1)\n",
    "task_kern = NoisySEMagmaKernel(length_scale=distinct_length_scales, variance=1., noise=2.5)"
   ],
   "id": "ae73ef7ef78c2516",
   "outputs": [],
   "execution_count": 37
  },
  {
   "metadata": {
    "ExecuteTime": {
     "end_time": "2025-07-07T12:28:11.544001Z",
     "start_time": "2025-07-07T12:28:11.159047Z"
    }
   },
   "cell_type": "code",
   "source": [
    "post_mean, post_cov = hyperpost(padded_inputs, padded_outputs, masks, prior_mean, mean_kern, task_kern, all_inputs=all_inputs, nugget=nugget)\n",
    "post_mean.shape, post_cov.shape"
   ],
   "id": "abb4ac7f76653561",
   "outputs": [
    {
     "data": {
      "text/plain": [
       "((41,), (41, 41))"
      ]
     },
     "execution_count": 38,
     "metadata": {},
     "output_type": "execute_result"
    }
   ],
   "execution_count": 38
  },
  {
   "metadata": {
    "ExecuteTime": {
     "end_time": "2025-07-07T12:28:12.793553Z",
     "start_time": "2025-07-07T12:28:11.557561Z"
    }
   },
   "cell_type": "code",
   "source": "optimized_mean_kern_old, optimized_task_kern_old, _, _ = optimise_hyperparameters_old(mean_kern, task_kern, padded_inputs, padded_outputs, all_inputs, prior_mean, post_mean, post_cov, masks, nugget=nugget, verbose=True)",
   "id": "2d4033980a9f097",
   "outputs": [
    {
     "name": "stdout",
     "output_type": "stream",
     "text": [
      "Iteration: 0, Value: 121256.90521232686, Gradient norm: 239445.49750500478\n",
      "Iteration: 1, Value: 44906.01166080011, Gradient norm: 45107.31180058163\n",
      "Iteration: 2, Value: 35170.11259415954, Gradient norm: 35221.13430678241\n",
      "Iteration: 3, Value: 14885.785003174364, Gradient norm: 14812.375319465467\n",
      "Iteration: 4, Value: 8052.220794125237, Gradient norm: 7966.635421411894\n",
      "Iteration: 5, Value: 3988.9650448283796, Gradient norm: 3890.4109467181443\n",
      "Iteration: 6, Value: 2081.5627079409305, Gradient norm: 1968.3249217039634\n",
      "Iteration: 7, Value: 1109.1017308074431, Gradient norm: 980.4500332356429\n",
      "Iteration: 8, Value: 633.5674137907808, Gradient norm: 490.6468542759428\n",
      "Iteration: 9, Value: 400.7458609801983, Gradient norm: 245.74035566461282\n",
      "Iteration: 10, Value: 289.0195878811828, Gradient norm: 126.2899979534387\n",
      "Iteration: 11, Value: 234.5989267250031, Gradient norm: 73.60916045824995\n",
      "Iteration: 12, Value: 128.93569313767566, Gradient norm: 101.90337244275251\n",
      "Iteration: 13, Value: 126.12129946416758, Gradient norm: 66.4452215492922\n",
      "Iteration: 14, Value: 108.05849092605597, Gradient norm: 32.855649396016496\n",
      "Iteration: 15, Value: 103.49109983131916, Gradient norm: 17.770423282495248\n",
      "Iteration: 16, Value: 99.02555789333015, Gradient norm: 82.89886187719092\n",
      "Iteration: 17, Value: 97.20851898181326, Gradient norm: 22.693104491401893\n",
      "Iteration: 0, Value: 200535.37749007283, Gradient norm: 152201.50688990467\n",
      "Iteration: 1, Value: 92035.01672875302, Gradient norm: 73981.28398553854\n",
      "Iteration: 2, Value: 40311.79397878705, Gradient norm: 34733.431108649274\n",
      "Iteration: 3, Value: 17698.528097618222, Gradient norm: 15386.48655494973\n",
      "Iteration: 4, Value: 9155.664025354856, Gradient norm: 7300.155513288004\n",
      "Iteration: 5, Value: 5404.987138226446, Gradient norm: 3530.8243951463896\n",
      "Iteration: 6, Value: 3690.6241018287983, Gradient norm: 1711.704013049382\n",
      "Iteration: 7, Value: 2910.338443457877, Gradient norm: 814.8200815519504\n",
      "Iteration: 8, Value: 2576.6392769003073, Gradient norm: 371.4433439418794\n",
      "Iteration: 9, Value: 2452.3128523963387, Gradient norm: 154.46917833757848\n",
      "Iteration: 10, Value: 2417.1652721785167, Gradient norm: 53.22028762738711\n",
      "Iteration: 11, Value: 2411.2591805785923, Gradient norm: 12.550247362271405\n",
      "Iteration: 12, Value: 2410.867602582906, Gradient norm: 1.434035476192949\n",
      "Iteration: 13, Value: 2410.8622618613117, Gradient norm: 0.056123195607946534\n"
     ]
    }
   ],
   "execution_count": 39
  },
  {
   "metadata": {
    "ExecuteTime": {
     "end_time": "2025-07-07T12:28:12.809744Z",
     "start_time": "2025-07-07T12:28:12.807220Z"
    }
   },
   "cell_type": "code",
   "source": "optimized_mean_kern_old, optimized_task_kern_old",
   "id": "aab097f74d119f81",
   "outputs": [
    {
     "data": {
      "text/plain": [
       "(SEMagmaKernel(length_scale=0.6922244696763898, variance=11.242240419368127),\n",
       " NoisySEMagmaKernel(length_scale=[0.70265355 0.77952927 0.15812568 0.91845118 0.55242708 0.78221392\n",
       "  0.56850079 0.32273545 0.27346032 0.61414702 0.13470765 0.74981194\n",
       "  0.84749205 0.49536833 0.65845461 0.83339771 0.69183551 0.91259354\n",
       "  0.63182436 0.40323832], variance=0.5340373895271299, noise=9.850625972686874))"
      ]
     },
     "execution_count": 40,
     "metadata": {},
     "output_type": "execute_result"
    }
   ],
   "execution_count": 40
  },
  {
   "metadata": {
    "ExecuteTime": {
     "end_time": "2025-07-07T12:28:13.885278Z",
     "start_time": "2025-07-07T12:28:12.831354Z"
    }
   },
   "cell_type": "code",
   "source": "optimized_mean_kern_new, optimized_task_kern_new, _, _ = optimise_hyperparameters_new(mean_kern, task_kern, padded_inputs, padded_outputs, all_inputs, prior_mean, post_mean, post_cov, masks, nugget=nugget, verbose=True)",
   "id": "32fcb850cd9a29ac",
   "outputs": [
    {
     "name": "stdout",
     "output_type": "stream",
     "text": [
      "Iteration: 0, Value: 121256.90521232686, Gradient norm: 239445.49750500478\n",
      "Iteration: 1, Value: 44906.01166080011, Gradient norm: 45107.31180058163\n",
      "Iteration: 2, Value: 35170.11259415954, Gradient norm: 35221.13430678241\n",
      "Iteration: 3, Value: 14885.785003174364, Gradient norm: 14812.375319465467\n",
      "Iteration: 4, Value: 8052.220794125237, Gradient norm: 7966.635421411894\n",
      "Iteration: 5, Value: 3988.9650448283796, Gradient norm: 3890.4109467181443\n",
      "Iteration: 6, Value: 2081.5627079409305, Gradient norm: 1968.3249217039634\n",
      "Iteration: 7, Value: 1109.1017308074431, Gradient norm: 980.4500332356429\n",
      "Iteration: 8, Value: 633.5674137907808, Gradient norm: 490.6468542759428\n",
      "Iteration: 9, Value: 400.7458609801983, Gradient norm: 245.74035566461282\n",
      "Iteration: 10, Value: 289.0195878811828, Gradient norm: 126.2899979534387\n",
      "Iteration: 11, Value: 234.5989267250031, Gradient norm: 73.60916045824995\n",
      "Iteration: 12, Value: 128.93569313767566, Gradient norm: 101.90337244275251\n",
      "Iteration: 13, Value: 126.12129946416758, Gradient norm: 66.4452215492922\n",
      "Iteration: 14, Value: 108.05849092605597, Gradient norm: 32.855649396016496\n",
      "Iteration: 15, Value: 103.49109983131916, Gradient norm: 17.770423282495248\n",
      "Iteration: 16, Value: 99.02555789333015, Gradient norm: 82.89886187719092\n",
      "Iteration: 17, Value: 97.20851898181326, Gradient norm: 22.693104491401893\n",
      "Iteration: 0, Value: 200535.37749007283, Gradient norm: 152201.50688990467\n",
      "Iteration: 1, Value: 92035.01672875302, Gradient norm: 73981.28398553854\n",
      "Iteration: 2, Value: 40311.79397878705, Gradient norm: 34733.431108649274\n",
      "Iteration: 3, Value: 17698.528097618222, Gradient norm: 15386.48655494973\n",
      "Iteration: 4, Value: 9155.664025354856, Gradient norm: 7300.155513288004\n",
      "Iteration: 5, Value: 5404.987138226446, Gradient norm: 3530.8243951463896\n",
      "Iteration: 6, Value: 3690.6241018287983, Gradient norm: 1711.704013049382\n",
      "Iteration: 7, Value: 2910.338443457877, Gradient norm: 814.8200815519504\n",
      "Iteration: 8, Value: 2576.6392769003073, Gradient norm: 371.4433439418794\n",
      "Iteration: 9, Value: 2452.3128523963387, Gradient norm: 154.46917833757848\n",
      "Iteration: 10, Value: 2417.1652721785167, Gradient norm: 53.22028762738711\n",
      "Iteration: 11, Value: 2411.2591805785923, Gradient norm: 12.550247362271405\n",
      "Iteration: 12, Value: 2410.867602582906, Gradient norm: 1.434035476192949\n",
      "Iteration: 13, Value: 2410.8622618613117, Gradient norm: 0.056123195607946534\n"
     ]
    }
   ],
   "execution_count": 41
  },
  {
   "metadata": {
    "ExecuteTime": {
     "end_time": "2025-07-07T12:28:13.901663Z",
     "start_time": "2025-07-07T12:28:13.898303Z"
    }
   },
   "cell_type": "code",
   "source": "optimized_mean_kern_new, optimized_task_kern_new",
   "id": "61e2566cbbd6249a",
   "outputs": [
    {
     "data": {
      "text/plain": [
       "(SEMagmaKernel(length_scale=0.6922244696763898, variance=11.242240419368127),\n",
       " NoisySEMagmaKernel(length_scale=[0.70265355 0.77952927 0.15812568 0.91845118 0.55242708 0.78221392\n",
       "  0.56850079 0.32273545 0.27346032 0.61414702 0.13470765 0.74981194\n",
       "  0.84749205 0.49536833 0.65845461 0.83339771 0.69183551 0.91259354\n",
       "  0.63182436 0.40323832], variance=0.5340373895271299, noise=9.850625972686874))"
      ]
     },
     "execution_count": 42,
     "metadata": {},
     "output_type": "execute_result"
    }
   ],
   "execution_count": 42
  },
  {
   "metadata": {
    "ExecuteTime": {
     "end_time": "2025-07-07T12:28:20.245881Z",
     "start_time": "2025-07-07T12:28:13.925219Z"
    }
   },
   "cell_type": "code",
   "source": [
    "%%timeit -n 3 -r 2\n",
    "optimise_hyperparameters_old(mean_kern, task_kern, padded_inputs, padded_outputs, all_inputs, prior_mean, post_mean, post_cov, masks, nugget=nugget)[0].length_scale.block_until_ready()"
   ],
   "id": "349b9d1404b18043",
   "outputs": [
    {
     "name": "stdout",
     "output_type": "stream",
     "text": [
      "1.05 s ± 21.2 ms per loop (mean ± std. dev. of 2 runs, 3 loops each)\n"
     ]
    }
   ],
   "execution_count": 43
  },
  {
   "metadata": {
    "ExecuteTime": {
     "end_time": "2025-07-07T12:28:26.541244Z",
     "start_time": "2025-07-07T12:28:20.274639Z"
    }
   },
   "cell_type": "code",
   "source": [
    "%%timeit -n 3 -r 2\n",
    "optimise_hyperparameters_new(mean_kern, task_kern, padded_inputs, padded_outputs, all_inputs, prior_mean, post_mean, post_cov, masks, nugget=nugget)[0].length_scale.block_until_ready()"
   ],
   "id": "4e1a9da215c8b2c5",
   "outputs": [
    {
     "name": "stdout",
     "output_type": "stream",
     "text": [
      "1.04 s ± 11.6 ms per loop (mean ± std. dev. of 2 runs, 3 loops each)\n"
     ]
    }
   ],
   "execution_count": 44
  },
  {
   "metadata": {},
   "cell_type": "markdown",
   "source": [
    "---\n",
    "## Conclusion"
   ],
   "id": "13b12c3f2e1d55d9"
  },
  {
   "metadata": {
    "ExecuteTime": {
     "end_time": "2025-07-07T12:28:26.551759Z",
     "start_time": "2025-07-07T12:28:26.550082Z"
    }
   },
   "cell_type": "code",
   "source": "",
   "id": "9d1049db31416eda",
   "outputs": [],
   "execution_count": null
  },
  {
   "metadata": {},
   "cell_type": "markdown",
   "source": "---",
   "id": "5e278787af3818b9"
  }
 ],
 "metadata": {
  "kernelspec": {
   "display_name": "Python 3",
   "language": "python",
   "name": "python3"
  },
  "language_info": {
   "codemirror_mode": {
    "name": "ipython",
    "version": 2
   },
   "file_extension": ".py",
   "mimetype": "text/x-python",
   "name": "python",
   "nbconvert_exporter": "python",
   "pygments_lexer": "ipython2",
   "version": "2.7.6"
  }
 },
 "nbformat": 4,
 "nbformat_minor": 5
}
