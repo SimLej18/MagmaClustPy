{
 "cells": [
  {
   "metadata": {},
   "cell_type": "markdown",
   "source": [
    "# Benchmarks - Hyper-parameters optimisation\n",
    "\n",
    "**Main considerations when implementing HPs optimisation**\n",
    "- we made kernels pytrees, so we should be able to compute gradient and optimise for them directly\n"
   ],
   "id": "b3c7fb13dd0f50f4"
  },
  {
   "metadata": {},
   "cell_type": "markdown",
   "source": [
    "---\n",
    "## Setup"
   ],
   "id": "e79b3311ad31df3f"
  },
  {
   "metadata": {
    "ExecuteTime": {
     "end_time": "2025-03-12T08:47:57.420508Z",
     "start_time": "2025-03-12T08:47:57.411582Z"
    }
   },
   "cell_type": "code",
   "source": [
    "# Standard library\n",
    "import os\n",
    "\n",
    "os.environ['JAX_ENABLE_X64'] = \"True\""
   ],
   "id": "a6a833855c1b48e9",
   "outputs": [],
   "execution_count": 1
  },
  {
   "metadata": {
    "ExecuteTime": {
     "end_time": "2025-03-12T08:47:58.338094Z",
     "start_time": "2025-03-12T08:47:57.425594Z"
    }
   },
   "cell_type": "code",
   "source": [
    "# Third party\n",
    "import jax\n",
    "from jax import jit, vmap\n",
    "from jax.tree_util import register_pytree_node_class\n",
    "import jax.numpy as jnp\n",
    "import jax.random as jrd\n",
    "from jax.scipy.linalg import cho_factor, cho_solve\n",
    "from jax.scipy.stats.multivariate_normal import logpdf\n",
    "from jax import lax, tree\n",
    "import optax\n",
    "import optax.tree_utils as otu\n",
    "\n",
    "import numpy as np\n",
    "import pandas as pd"
   ],
   "id": "ac216c6509d3a07f",
   "outputs": [],
   "execution_count": 2
  },
  {
   "metadata": {
    "ExecuteTime": {
     "end_time": "2025-03-12T08:47:58.571146Z",
     "start_time": "2025-03-12T08:47:58.442845Z"
    }
   },
   "cell_type": "code",
   "source": [
    "# Local\n",
    "from MagmaClustPy.kernels import RBFKernel, SEMagmaKernel\n",
    "from MagmaClustPy.utils import preprocess_db\n",
    "from MagmaClustPy.hyperpost import hyperpost"
   ],
   "id": "489423e8889c492d",
   "outputs": [],
   "execution_count": 3
  },
  {
   "metadata": {
    "ExecuteTime": {
     "end_time": "2025-03-12T08:47:58.639176Z",
     "start_time": "2025-03-12T08:47:58.574857Z"
    }
   },
   "cell_type": "code",
   "source": [
    "# Config\n",
    "key = jrd.PRNGKey(0)\n",
    "test_db_size = \"medium\""
   ],
   "id": "3e5dc5f15ab33e1a",
   "outputs": [],
   "execution_count": 4
  },
  {
   "metadata": {},
   "cell_type": "markdown",
   "source": [
    "---\n",
    "## Data"
   ],
   "id": "ac6a128506dca90c"
  },
  {
   "metadata": {
    "ExecuteTime": {
     "end_time": "2025-03-12T08:47:58.649468Z",
     "start_time": "2025-03-12T08:47:58.647874Z"
    }
   },
   "cell_type": "code",
   "source": "",
   "id": "a6109c6bb00ed82f",
   "outputs": [],
   "execution_count": null
  },
  {
   "metadata": {},
   "cell_type": "markdown",
   "source": [
    "---\n",
    "## Current implementation"
   ],
   "id": "ecf3dcbf9770f1a9"
  },
  {
   "metadata": {
    "ExecuteTime": {
     "end_time": "2025-03-12T08:47:58.659280Z",
     "start_time": "2025-03-12T08:47:58.654196Z"
    }
   },
   "cell_type": "code",
   "source": [
    "@jit\n",
    "def solve_right_cholesky(A, B, nugget):\n",
    "\t\"\"\" Solves for X in X @ A = B \"\"\"\n",
    "\t# For X @ A = B, we can transpose both sides: A.T @ X.T = B.T\n",
    "\t# As A and B are symmetric, this simplifies to A @ X.T = B\n",
    "\t# Then solve for X.T and transpose the result\n",
    "\treturn cho_solve(cho_factor(A + nugget), B).T\n",
    "\n",
    "@jit\n",
    "def magma_neg_likelihood_on_cov(covar, inputs, outputs, mean, mean_process_cov, mask=None, nugget=jnp.array(1e-10)):\n",
    "\tnugget_matrix = jnp.eye(inputs.shape[0]) * nugget\n",
    "\n",
    "\tif mask is not None:\n",
    "\t\t# Mask the covariance matrix and outputs\n",
    "\t\tmask_2D = mask[:, None] & mask[None, :]\n",
    "\t\tcovar = jnp.where(mask_2D, covar, jnp.eye(inputs.shape[0]))\n",
    "\t\toutputs = jnp.where(mask, outputs, 0)\n",
    "\n",
    "\t# Compute log-likelihood\n",
    "\tmultiv_log_lik = logpdf(outputs, mean, covar + nugget_matrix)\n",
    "\n",
    "\t# Compute correction term\n",
    "\tcorrection = 0.5 * jnp.trace(solve_right_cholesky(covar, mean_process_cov, nugget))\n",
    "\n",
    "\tif mask is not None:\n",
    "\t\t# Correct log-likelihood for padding\n",
    "\t\t# The logpdf is computed as:\n",
    "\t\t# -0.5 * (N * log(2 * pi) + log(det(cov)) + (outputs - mean).T @ inv(cov) @ (outputs - mean))\n",
    "\t\t# det(cov) and the Mahalanobis distance are not affected by our padding\n",
    "\t\t# We only have to correct for the -0.5 * N * log(2 * pi) term, as N is bigger with padding\n",
    "\t\tmultiv_log_lik += 0.5 * jnp.log(2 * jnp.pi) * jnp.sum(~mask, axis=0)\n",
    "\n",
    "\t\t# We also need to correct the correction term, as padding adds 1s to the diagonal and hence 1 to the trace\n",
    "\t\tcorrection -= 0.5 * jnp.sum(~mask, axis=0)\n",
    "\treturn - (multiv_log_lik - correction)\n",
    "\n",
    "\n",
    "@jit\n",
    "def magma_neg_likelihood(kernel, inputs, outputs: jnp.array, mean: jnp.array, mean_process_cov: jnp.array, mask=None, nugget=jnp.array(1e-10)):\n",
    "\t\"\"\"\n",
    "\tComputes the MAGMA log-likelihood.\n",
    "\n",
    "\t:param kernel: the kernel containing HPs to optimise. This kernel is used to compute the covariance (matrix `S`)\n",
    "\t:param inputs: inputs on which to compute the covariance matrix (shape (N, ))\n",
    "\t:param mask: boolean masks indicating which inputs and outputs to consider (shape (N, ))\n",
    "\t:param outputs: the observed values (shape (N, ))\n",
    "\t:param mean: the mean over the inputs (scalar or vector of shape (N, ))\n",
    "\t:param mean_process_cov: the hypper-posterior mean process covariance (matrix K^t)\n",
    "\t:param nugget: the nugget, for numerical stability\n",
    "\n",
    "\t:return: the negative log-likelihood (scalar)\n",
    "\t\"\"\"\n",
    "\tcovar = kernel(inputs)\n",
    "\n",
    "\t# check if we need to vmap\n",
    "\tif inputs.ndim == 1:\n",
    "\t\treturn magma_neg_likelihood_on_cov(covar, inputs, outputs, mean, mean_process_cov, mask, nugget)\n",
    "\telif inputs.ndim == 2:\n",
    "\t\treturn vmap(magma_neg_likelihood_on_cov, in_axes=(0, 0, 0, None, None, 0, None))(covar, inputs, outputs, mean, mean_process_cov, mask, nugget)"
   ],
   "id": "1d2ae84e153b2f31",
   "outputs": [],
   "execution_count": 5
  },
  {
   "metadata": {},
   "cell_type": "markdown",
   "source": [
    "---\n",
    "## Custom implementation(s)"
   ],
   "id": "eb9741fdeac26cf1"
  },
  {
   "metadata": {
    "ExecuteTime": {
     "end_time": "2025-03-12T08:48:00.069595Z",
     "start_time": "2025-03-12T08:47:58.675470Z"
    }
   },
   "cell_type": "code",
   "source": [
    "db = pd.read_csv(f\"./dummy_datasets/{test_db_size}_distinct_input_common_hp.csv\")\n",
    "all_inputs, padded_inputs, padded_outputs, masks = preprocess_db(db)\n",
    "all_inputs.shape, padded_inputs.shape"
   ],
   "id": "d1cb61b29cf96375",
   "outputs": [
    {
     "data": {
      "text/plain": [
       "((401,), (200, 401))"
      ]
     },
     "execution_count": 6,
     "metadata": {},
     "output_type": "execute_result"
    }
   ],
   "execution_count": 6
  },
  {
   "metadata": {
    "ExecuteTime": {
     "end_time": "2025-03-12T08:48:00.108865Z",
     "start_time": "2025-03-12T08:48:00.075128Z"
    }
   },
   "cell_type": "code",
   "source": [
    "nugget = jnp.array(1e-6)\n",
    "prior_mean = jnp.zeros_like(all_inputs)"
   ],
   "id": "12c77f584814a0ae",
   "outputs": [],
   "execution_count": 7
  },
  {
   "metadata": {},
   "cell_type": "markdown",
   "source": "### Baseline Adam",
   "id": "aa9b06ed187432d1"
  },
  {
   "metadata": {
    "ExecuteTime": {
     "end_time": "2025-03-12T08:48:00.119812Z",
     "start_time": "2025-03-12T08:48:00.117361Z"
    }
   },
   "cell_type": "code",
   "source": [
    "mean_kern = SEMagmaKernel(length_scale=jnp.array(.3), variance=jnp.array(1.))\n",
    "task_kern = RBFKernel(length_scale=jnp.array(.6), variance=jnp.array(1.))"
   ],
   "id": "f8905eb6876c6b",
   "outputs": [],
   "execution_count": 8
  },
  {
   "metadata": {
    "ExecuteTime": {
     "end_time": "2025-03-12T08:48:00.764183Z",
     "start_time": "2025-03-12T08:48:00.127013Z"
    }
   },
   "cell_type": "code",
   "source": "post_mean, post_cov = hyperpost(padded_inputs, padded_outputs, masks, prior_mean, mean_kern, task_kern, all_inputs=all_inputs)",
   "id": "5691432c676bb96",
   "outputs": [],
   "execution_count": 9
  },
  {
   "metadata": {
    "ExecuteTime": {
     "end_time": "2025-03-12T08:48:01.774032Z",
     "start_time": "2025-03-12T08:48:01.752920Z"
    }
   },
   "cell_type": "code",
   "source": [
    "start_learning_rate = 1e-1\n",
    "optimizer = optax.adam(start_learning_rate)\n",
    "opt_state = optimizer.init(mean_kern)"
   ],
   "id": "522a38d0898c22dd",
   "outputs": [],
   "execution_count": 10
  },
  {
   "metadata": {
    "ExecuteTime": {
     "end_time": "2025-03-12T08:48:12.693814Z",
     "start_time": "2025-03-12T08:48:01.783208Z"
    }
   },
   "cell_type": "code",
   "source": [
    "previous_likelihood = jnp.inf\n",
    "conv_threshold = 1e-5\n",
    "\n",
    "# A simple update loop.\n",
    "for i in range(10000):\n",
    "\tlikelihood, grads = jax.value_and_grad(magma_neg_likelihood)(mean_kern, all_inputs, prior_mean, post_mean, post_cov, nugget=nugget)\n",
    "\tupdates, opt_state = optimizer.update(grads, opt_state)\n",
    "\tmean_kern = optax.apply_updates(mean_kern, updates)\n",
    "\n",
    "\tif i % 100 == 0:\n",
    "\t\tprint(f\"Iter:{i:5}\\t Neg Log-Likelihood: {likelihood:12.4f}\\t HPs: {mean_kern}\")\n",
    "\n",
    "\tif jnp.abs(previous_likelihood - likelihood) < conv_threshold:\n",
    "\t\tprint(f\"Converged at iteration {i}\\t Neg Log-Likelihood: {likelihood:12.4f}\\t HPs: {mean_kern}\")\n",
    "\t\tbreak\n",
    "\n",
    "\tprevious_likelihood = likelihood"
   ],
   "id": "e49ca59165eb6cc3",
   "outputs": [
    {
     "name": "stdout",
     "output_type": "stream",
     "text": [
      "Iter:    0\t Neg Log-Likelihood:   17848.5853\t HPs: SEMagmaKernel(length_scale=0.3999999999998523, variance=1.0999999999999455)\n",
      "Iter:  100\t Neg Log-Likelihood:     341.8618\t HPs: SEMagmaKernel(length_scale=0.4441807841214679, variance=4.602767161536733)\n",
      "Iter:  200\t Neg Log-Likelihood:     187.6302\t HPs: SEMagmaKernel(length_scale=0.46715963691364437, variance=5.268742081389386)\n",
      "Iter:  300\t Neg Log-Likelihood:     159.2269\t HPs: SEMagmaKernel(length_scale=0.4790159152494407, variance=5.599543044545862)\n",
      "Iter:  400\t Neg Log-Likelihood:     152.8114\t HPs: SEMagmaKernel(length_scale=0.4852799265802575, variance=5.773519589027679)\n",
      "Iter:  500\t Neg Log-Likelihood:     151.3450\t HPs: SEMagmaKernel(length_scale=0.4879188533021306, variance=5.862980168672663)\n",
      "Iter:  600\t Neg Log-Likelihood:     151.1004\t HPs: SEMagmaKernel(length_scale=0.48972171819176563, variance=5.9062426337739025)\n",
      "Converged at iteration 679\t Neg Log-Likelihood:     150.9648\t HPs: SEMagmaKernel(length_scale=0.4907364932686867, variance=5.922668996070074)\n"
     ]
    }
   ],
   "execution_count": 11
  },
  {
   "metadata": {},
   "cell_type": "markdown",
   "source": "### L-BFGS",
   "id": "23a29f84cb83dc8d"
  },
  {
   "metadata": {
    "ExecuteTime": {
     "end_time": "2025-03-12T08:48:12.704742Z",
     "start_time": "2025-03-12T08:48:12.702541Z"
    }
   },
   "cell_type": "code",
   "source": [
    "mean_kern = SEMagmaKernel(length_scale=jnp.array(.3), variance=jnp.array(1.))\n",
    "task_kern = RBFKernel(length_scale=jnp.array(.6), variance=jnp.array(1.))"
   ],
   "id": "8e126530f79f8bef",
   "outputs": [],
   "execution_count": 12
  },
  {
   "metadata": {
    "ExecuteTime": {
     "end_time": "2025-03-12T08:48:12.717762Z",
     "start_time": "2025-03-12T08:48:12.713849Z"
    }
   },
   "cell_type": "code",
   "source": "post_mean, post_cov = hyperpost(padded_inputs, padded_outputs, masks, prior_mean, mean_kern, task_kern, all_inputs=all_inputs)",
   "id": "ace523b4a061e9ca",
   "outputs": [],
   "execution_count": 13
  },
  {
   "metadata": {
    "ExecuteTime": {
     "end_time": "2025-03-12T08:48:13.661238Z",
     "start_time": "2025-03-12T08:48:13.633230Z"
    }
   },
   "cell_type": "code",
   "source": [
    "optimizer = optax.lbfgs()\n",
    "opt_state = optimizer.init(mean_kern)"
   ],
   "id": "57ad0c80530c8e6b",
   "outputs": [],
   "execution_count": 14
  },
  {
   "metadata": {
    "ExecuteTime": {
     "end_time": "2025-03-12T08:48:34.667307Z",
     "start_time": "2025-03-12T08:48:13.671268Z"
    }
   },
   "cell_type": "code",
   "source": [
    "previous_likelihood = jnp.inf\n",
    "conv_threshold = 1e-5\n",
    "\n",
    "# A simple update loop.\n",
    "for i in range(100):\n",
    "\tlikelihood, grads = jax.value_and_grad(magma_neg_likelihood)(mean_kern, all_inputs, prior_mean, post_mean, post_cov, nugget=nugget)\n",
    "\tfun_wrapper = lambda kern: magma_neg_likelihood(kern, all_inputs, prior_mean, post_mean, post_cov, nugget=nugget)\n",
    "\tupdates, opt_state = optimizer.update(grads, opt_state, mean_kern, value=likelihood, grad=grads, value_fn=fun_wrapper)\n",
    "\tmean_kern = optax.apply_updates(mean_kern, updates)\n",
    "\n",
    "\tprint(f\"Iter:{i:5}\\t Neg Log-Likelihood: {likelihood:12.4f}\\t HPs: {mean_kern}\")\n",
    "\n",
    "\tif jnp.abs(previous_likelihood - likelihood) < conv_threshold:\n",
    "\t\tprint(f\"Converged at iteration {i}\\t Neg Log-Likelihood: {likelihood:12.4f}\\t HPs: {mean_kern}\")\n",
    "\t\tbreak\n",
    "\n",
    "\tprevious_likelihood = likelihood"
   ],
   "id": "b3bdc2108c53b764",
   "outputs": [
    {
     "name": "stdout",
     "output_type": "stream",
     "text": [
      "Iter:    0\t Neg Log-Likelihood:   17848.5853\t HPs: SEMagmaKernel(length_scale=0.47330374343774223, variance=1.469005130580109)\n",
      "Iter:    1\t Neg Log-Likelihood:   12393.8630\t HPs: SEMagmaKernel(length_scale=0.39845433448555545, variance=1.6737251378483244)\n",
      "Iter:    2\t Neg Log-Likelihood:    8725.7159\t HPs: SEMagmaKernel(length_scale=0.39778276962505754, variance=2.21774073616172)\n",
      "Iter:    3\t Neg Log-Likelihood:    4893.0008\t HPs: SEMagmaKernel(length_scale=0.39968225809419816, variance=2.9485555681072912)\n",
      "Iter:    4\t Neg Log-Likelihood:    2200.6780\t HPs: SEMagmaKernel(length_scale=0.4042968755076525, variance=3.587388084849157)\n",
      "Iter:    5\t Neg Log-Likelihood:    1070.0281\t HPs: SEMagmaKernel(length_scale=0.41352815552162486, variance=4.223307060217768)\n",
      "Iter:    6\t Neg Log-Likelihood:     519.3376\t HPs: SEMagmaKernel(length_scale=0.42947694242168744, variance=4.795398487784609)\n",
      "Iter:    7\t Neg Log-Likelihood:     283.6355\t HPs: SEMagmaKernel(length_scale=0.45532617881530535, variance=5.289289482399957)\n",
      "Iter:    8\t Neg Log-Likelihood:     186.9232\t HPs: SEMagmaKernel(length_scale=0.4789057403095368, variance=5.661332996705732)\n",
      "Iter:    9\t Neg Log-Likelihood:     156.3746\t HPs: SEMagmaKernel(length_scale=0.4905028908726443, variance=5.8525445607761775)\n",
      "Iter:   10\t Neg Log-Likelihood:     151.5788\t HPs: SEMagmaKernel(length_scale=0.493059478882664, variance=5.9076509730740066)\n",
      "Iter:   11\t Neg Log-Likelihood:     151.2386\t HPs: SEMagmaKernel(length_scale=0.4914837264445391, variance=5.934213494792339)\n",
      "Iter:   12\t Neg Log-Likelihood:     150.8721\t HPs: SEMagmaKernel(length_scale=0.49148370606387937, variance=5.934213810324981)\n",
      "Iter:   13\t Neg Log-Likelihood:     150.8618\t HPs: SEMagmaKernel(length_scale=0.49148373003875323, variance=5.934214980638709)\n",
      "Iter:   14\t Neg Log-Likelihood:     150.8471\t HPs: SEMagmaKernel(length_scale=0.49148400354974026, variance=5.934229426460901)\n",
      "Iter:   15\t Neg Log-Likelihood:     150.8344\t HPs: SEMagmaKernel(length_scale=0.4914840034160381, variance=5.934229419353176)\n",
      "Iter:   16\t Neg Log-Likelihood:     151.0691\t HPs: SEMagmaKernel(length_scale=0.49148132389767646, variance=5.9340594441757295)\n",
      "Iter:   17\t Neg Log-Likelihood:     150.8944\t HPs: SEMagmaKernel(length_scale=0.49159201617609943, variance=5.941081162423045)\n",
      "Iter:   18\t Neg Log-Likelihood:     150.8875\t HPs: SEMagmaKernel(length_scale=0.49159201031049826, variance=5.9410807903404015)\n",
      "Iter:   19\t Neg Log-Likelihood:     150.8783\t HPs: SEMagmaKernel(length_scale=0.491592010297534, variance=5.941080789518135)\n",
      "Iter:   20\t Neg Log-Likelihood:     150.9070\t HPs: SEMagmaKernel(length_scale=0.49159201112998213, variance=5.941080844092109)\n",
      "Iter:   21\t Neg Log-Likelihood:     150.8578\t HPs: SEMagmaKernel(length_scale=0.4915920111292085, variance=5.941080844041207)\n",
      "Iter:   22\t Neg Log-Likelihood:     150.9357\t HPs: SEMagmaKernel(length_scale=0.4915920113951004, variance=5.941080859807056)\n",
      "Iter:   23\t Neg Log-Likelihood:     150.8573\t HPs: SEMagmaKernel(length_scale=0.49159201139516856, variance=5.941080859811098)\n",
      "Iter:   24\t Neg Log-Likelihood:     150.8214\t HPs: SEMagmaKernel(length_scale=0.4915920113951685, variance=5.9410808598110965)\n",
      "Iter:   25\t Neg Log-Likelihood:     150.8289\t HPs: SEMagmaKernel(length_scale=0.4915920113951685, variance=5.941080859811096)\n",
      "Iter:   26\t Neg Log-Likelihood:     150.9776\t HPs: SEMagmaKernel(length_scale=0.4915920113834251, variance=5.941080859089773)\n",
      "Iter:   27\t Neg Log-Likelihood:     150.8490\t HPs: SEMagmaKernel(length_scale=0.49159201138342457, variance=5.94108085908974)\n",
      "Iter:   28\t Neg Log-Likelihood:     150.9136\t HPs: SEMagmaKernel(length_scale=0.4915920113827476, variance=5.941080859044471)\n",
      "Iter:   29\t Neg Log-Likelihood:     150.9007\t HPs: SEMagmaKernel(length_scale=0.4915920114023361, variance=5.941080860354353)\n",
      "Iter:   30\t Neg Log-Likelihood:     150.8767\t HPs: SEMagmaKernel(length_scale=0.49159201139750114, variance=5.941080860031039)\n",
      "Iter:   31\t Neg Log-Likelihood:     150.8599\t HPs: SEMagmaKernel(length_scale=0.4915920113970972, variance=5.941080860004027)\n",
      "Iter:   32\t Neg Log-Likelihood:     150.8589\t HPs: SEMagmaKernel(length_scale=0.4915920113970982, variance=5.941080860004094)\n",
      "Iter:   33\t Neg Log-Likelihood:     150.8459\t HPs: SEMagmaKernel(length_scale=0.4915920113970982, variance=5.941080860004096)\n",
      "Iter:   34\t Neg Log-Likelihood:     150.8684\t HPs: SEMagmaKernel(length_scale=0.49159201139709835, variance=5.941080860004106)\n",
      "Iter:   35\t Neg Log-Likelihood:     150.8478\t HPs: SEMagmaKernel(length_scale=0.49159201139709835, variance=5.9410808600041065)\n",
      "Iter:   36\t Neg Log-Likelihood:     151.1308\t HPs: SEMagmaKernel(length_scale=0.4915920114038393, variance=5.941080860442457)\n",
      "Iter:   37\t Neg Log-Likelihood:     151.0752\t HPs: SEMagmaKernel(length_scale=0.4915920114554922, variance=5.941080863801347)\n",
      "Iter:   38\t Neg Log-Likelihood:     150.8696\t HPs: SEMagmaKernel(length_scale=0.4915920114554843, variance=5.941080863800834)\n",
      "Iter:   39\t Neg Log-Likelihood:     150.8485\t HPs: SEMagmaKernel(length_scale=0.4915920114554843, variance=5.941080863800834)\n",
      "Iter:   40\t Neg Log-Likelihood:     150.8485\t HPs: SEMagmaKernel(length_scale=0.49159201145254483, variance=5.941080863574334)\n",
      "Converged at iteration 40\t Neg Log-Likelihood:     150.8485\t HPs: SEMagmaKernel(length_scale=0.49159201145254483, variance=5.941080863574334)\n"
     ]
    }
   ],
   "execution_count": 15
  },
  {
   "metadata": {},
   "cell_type": "markdown",
   "source": "### L-BFGS with lax while_loop",
   "id": "a2969a8b96449afa"
  },
  {
   "metadata": {
    "ExecuteTime": {
     "end_time": "2025-03-12T08:48:34.679357Z",
     "start_time": "2025-03-12T08:48:34.676933Z"
    }
   },
   "cell_type": "code",
   "source": [
    "mean_kern = SEMagmaKernel(length_scale=jnp.array(.3), variance=jnp.array(1.))\n",
    "task_kern = RBFKernel(length_scale=jnp.array(.6), variance=jnp.array(1.))"
   ],
   "id": "a6617ee574d026af",
   "outputs": [],
   "execution_count": 16
  },
  {
   "metadata": {
    "ExecuteTime": {
     "end_time": "2025-03-12T08:48:34.691424Z",
     "start_time": "2025-03-12T08:48:34.687917Z"
    }
   },
   "cell_type": "code",
   "source": "post_mean, post_cov = hyperpost(padded_inputs, padded_outputs, masks, prior_mean, mean_kern, task_kern, all_inputs=all_inputs)",
   "id": "d7aab0a0457a6982",
   "outputs": [],
   "execution_count": 17
  },
  {
   "metadata": {
    "ExecuteTime": {
     "end_time": "2025-03-12T08:48:35.758304Z",
     "start_time": "2025-03-12T08:48:35.753358Z"
    }
   },
   "cell_type": "code",
   "source": [
    "optimizer = optax.lbfgs()\n",
    "opt_state = optimizer.init(mean_kern)"
   ],
   "id": "d918903e5e293d6d",
   "outputs": [],
   "execution_count": 18
  },
  {
   "metadata": {
    "ExecuteTime": {
     "end_time": "2025-03-12T08:48:35.771825Z",
     "start_time": "2025-03-12T08:48:35.768990Z"
    }
   },
   "cell_type": "code",
   "source": [
    "# Taken from optax doc (https://optax.readthedocs.io/en/latest/_collections/examples/lbfgs.html#l-bfgs-solver)\n",
    "def run_opt(init_params, fun, opt, max_iter, tol):\n",
    "  value_and_grad_fun = optax.value_and_grad_from_state(fun)\n",
    "\n",
    "  def step(carry):\n",
    "    params, state = carry\n",
    "    value, grad = value_and_grad_fun(params, state=state)\n",
    "    updates, state = opt.update(grad, state, params, value=value, grad=grad, value_fn=fun)\n",
    "    params = optax.apply_updates(params, updates)\n",
    "    return params, state\n",
    "\n",
    "  def continuing_criterion(carry):\n",
    "    _, state = carry\n",
    "    iter_num = otu.tree_get(state, 'count')\n",
    "    grad = otu.tree_get(state, 'grad')\n",
    "    err = otu.tree_l2_norm(grad)\n",
    "    return (iter_num == 0) | ((iter_num < max_iter) & (err >= tol))\n",
    "\n",
    "  init_carry = (init_params, opt.init(init_params))\n",
    "  final_params, final_state = jax.lax.while_loop(\n",
    "      continuing_criterion, step, init_carry\n",
    "  )\n",
    "  return final_params, final_state"
   ],
   "id": "bbd1a5bf5d9a6624",
   "outputs": [],
   "execution_count": 19
  },
  {
   "metadata": {
    "ExecuteTime": {
     "end_time": "2025-03-12T08:48:35.783442Z",
     "start_time": "2025-03-12T08:48:35.780541Z"
    }
   },
   "cell_type": "code",
   "source": [
    "def optimise_hyperparameters(mean_kernel, task_kernel, inputs, outputs, all_inputs, prior_mean, post_mean, post_cov, masks, nugget=jnp.array(1e-10)):\n",
    "\tbig_nugget = jnp.eye(all_inputs.shape[0]) * nugget\n",
    "\n",
    "\t# Optimise mean kernel\n",
    "\tmean_opt = optax.lbfgs()\n",
    "\tmean_fun_wrapper = lambda kern: magma_neg_likelihood(kern, all_inputs, prior_mean, post_mean, post_cov, mask=None, nugget=nugget)\n",
    "\n",
    "\tnew_mean_kernel, _ = run_opt(mean_kernel, mean_fun_wrapper, mean_opt, max_iter=100, tol=1e-3)\n",
    "\n",
    "\t# Optimise task kernel\n",
    "\ttask_opt = optax.lbfgs()\n",
    "\ttask_fun_wrapper = lambda kern: magma_neg_likelihood(kern, inputs, outputs, prior_mean, post_cov, mask=masks, nugget=nugget).mean()\n",
    "\n",
    "\tnew_task_kernel, _ = run_opt(task_kernel, task_fun_wrapper, task_opt, max_iter=100, tol=1e-3)\n",
    "\n",
    "\treturn new_mean_kernel, new_task_kernel"
   ],
   "id": "4dbeffeb6811b823",
   "outputs": [],
   "execution_count": 20
  },
  {
   "metadata": {
    "ExecuteTime": {
     "end_time": "2025-03-12T08:48:35.794943Z",
     "start_time": "2025-03-12T08:48:35.792900Z"
    }
   },
   "cell_type": "code",
   "source": "fun_wrapper = lambda kern: magma_neg_likelihood(kern, padded_inputs, padded_outputs, prior_mean, post_cov, masks, nugget=nugget).mean()",
   "id": "6222bdcfcec056f5",
   "outputs": [],
   "execution_count": 21
  },
  {
   "metadata": {
    "ExecuteTime": {
     "end_time": "2025-03-12T08:48:38.031239Z",
     "start_time": "2025-03-12T08:48:35.804278Z"
    }
   },
   "cell_type": "code",
   "source": "new_mean_kern, new_task_kern = optimise_hyperparameters(mean_kern, task_kern, padded_inputs, padded_outputs, all_inputs, prior_mean, post_mean, post_cov, masks, nugget=nugget)",
   "id": "cec2bca56cdab21a",
   "outputs": [],
   "execution_count": 22
  },
  {
   "metadata": {
    "ExecuteTime": {
     "end_time": "2025-03-12T08:54:08.667177Z",
     "start_time": "2025-03-12T08:54:08.658848Z"
    }
   },
   "cell_type": "code",
   "source": "new_mean_kern",
   "id": "b6f641f248e7ed9d",
   "outputs": [
    {
     "data": {
      "text/plain": [
       "SEMagmaKernel(length_scale=0.4909671890368215, variance=5.937835806359825)"
      ]
     },
     "execution_count": 24,
     "metadata": {},
     "output_type": "execute_result"
    }
   ],
   "execution_count": 24
  },
  {
   "metadata": {
    "ExecuteTime": {
     "end_time": "2025-03-12T08:54:09.090984Z",
     "start_time": "2025-03-12T08:54:09.087657Z"
    }
   },
   "cell_type": "code",
   "source": "new_task_kern",
   "id": "f2bfb4d89264ffa6",
   "outputs": [
    {
     "data": {
      "text/plain": [
       "RBFKernel(length_scale=1.0132287879863946, variance=693.2209726643256)"
      ]
     },
     "execution_count": 25,
     "metadata": {},
     "output_type": "execute_result"
    }
   ],
   "execution_count": 25
  },
  {
   "metadata": {},
   "cell_type": "markdown",
   "source": [
    "---\n",
    "## Comparison"
   ],
   "id": "4ca5a9878a1cb3d3"
  },
  {
   "metadata": {},
   "cell_type": "markdown",
   "source": "### Common Input, Common HP",
   "id": "7c29907d4d486235"
  },
  {
   "metadata": {},
   "cell_type": "markdown",
   "source": [
    "---\n",
    "## Conclusion"
   ],
   "id": "13b12c3f2e1d55d9"
  },
  {
   "metadata": {
    "ExecuteTime": {
     "end_time": "2025-03-12T08:54:05.012474Z",
     "start_time": "2025-03-11T14:26:37.229654Z"
    }
   },
   "cell_type": "code",
   "source": "",
   "id": "9d1049db31416eda",
   "outputs": [],
   "execution_count": null
  },
  {
   "metadata": {},
   "cell_type": "markdown",
   "source": "---",
   "id": "5e278787af3818b9"
  }
 ],
 "metadata": {
  "kernelspec": {
   "display_name": "Python 3",
   "language": "python",
   "name": "python3"
  },
  "language_info": {
   "codemirror_mode": {
    "name": "ipython",
    "version": 2
   },
   "file_extension": ".py",
   "mimetype": "text/x-python",
   "name": "python",
   "nbconvert_exporter": "python",
   "pygments_lexer": "ipython2",
   "version": "2.7.6"
  }
 },
 "nbformat": 4,
 "nbformat_minor": 5
}
