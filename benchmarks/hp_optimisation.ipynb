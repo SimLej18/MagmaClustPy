{
 "cells": [
  {
   "metadata": {},
   "cell_type": "markdown",
   "source": [
    "# Benchmarks - Hyper-parameters optimisation\n",
    "\n",
    "**Main considerations when implementing HPs optimisation**\n",
    "- we made kernels pytrees, so we should be able to compute gradient and optimise for them directly\n"
   ],
   "id": "b3c7fb13dd0f50f4"
  },
  {
   "metadata": {},
   "cell_type": "markdown",
   "source": [
    "---\n",
    "## Setup"
   ],
   "id": "e79b3311ad31df3f"
  },
  {
   "metadata": {
    "ExecuteTime": {
     "end_time": "2025-05-27T14:05:04.503896Z",
     "start_time": "2025-05-27T14:05:04.500889Z"
    }
   },
   "cell_type": "code",
   "source": [
    "# Standard library\n",
    "import os\n",
    "from typing import NamedTuple\n",
    "\n",
    "os.environ['JAX_ENABLE_X64'] = \"True\""
   ],
   "id": "a6a833855c1b48e9",
   "outputs": [],
   "execution_count": 1
  },
  {
   "metadata": {
    "ExecuteTime": {
     "end_time": "2025-05-27T14:05:05.603307Z",
     "start_time": "2025-05-27T14:05:04.509647Z"
    }
   },
   "cell_type": "code",
   "source": [
    "# Third party\n",
    "import jax\n",
    "import jax.numpy as jnp\n",
    "import jax.random as jrd\n",
    "from jax.tree_util import tree_flatten\n",
    "import optax\n",
    "import optax.tree_utils as otu\n",
    "import chex\n",
    "\n",
    "import numpy as np\n",
    "import pandas as pd"
   ],
   "id": "ac216c6509d3a07f",
   "outputs": [],
   "execution_count": 2
  },
  {
   "metadata": {
    "ExecuteTime": {
     "end_time": "2025-05-27T14:05:05.989221Z",
     "start_time": "2025-05-27T14:05:05.859562Z"
    }
   },
   "cell_type": "code",
   "source": [
    "# Local\n",
    "from Kernax import SEMagmaKernel, NoisySEMagmaKernel\n",
    "from MagmaClustPy.utils import preprocess_db\n",
    "from MagmaClustPy.hyperpost import hyperpost\n",
    "from MagmaClustPy.hp_optimisation import optimise_hyperparameters\n",
    "from MagmaClustPy.likelihoods import magma_neg_likelihood"
   ],
   "id": "489423e8889c492d",
   "outputs": [],
   "execution_count": 3
  },
  {
   "metadata": {
    "ExecuteTime": {
     "end_time": "2025-05-27T14:05:06.046595Z",
     "start_time": "2025-05-27T14:05:06.004137Z"
    }
   },
   "cell_type": "code",
   "source": [
    "# Config\n",
    "key = jrd.PRNGKey(0)\n",
    "test_db_size = \"small\""
   ],
   "id": "3e5dc5f15ab33e1a",
   "outputs": [],
   "execution_count": 4
  },
  {
   "metadata": {},
   "cell_type": "markdown",
   "source": [
    "---\n",
    "## Data"
   ],
   "id": "ac6a128506dca90c"
  },
  {
   "metadata": {
    "ExecuteTime": {
     "end_time": "2025-05-27T14:05:06.066901Z",
     "start_time": "2025-05-27T14:05:06.058559Z"
    }
   },
   "cell_type": "code",
   "source": "",
   "id": "a6109c6bb00ed82f",
   "outputs": [],
   "execution_count": null
  },
  {
   "metadata": {},
   "cell_type": "markdown",
   "source": [
    "---\n",
    "## Current implementation"
   ],
   "id": "ecf3dcbf9770f1a9"
  },
  {
   "metadata": {
    "ExecuteTime": {
     "end_time": "2025-05-27T14:05:06.088228Z",
     "start_time": "2025-05-27T14:05:06.085644Z"
    }
   },
   "cell_type": "code",
   "source": "",
   "id": "e270d1fb4227c9e1",
   "outputs": [],
   "execution_count": null
  },
  {
   "metadata": {},
   "cell_type": "markdown",
   "source": [
    "---\n",
    "## Custom implementation(s)"
   ],
   "id": "eb9741fdeac26cf1"
  },
  {
   "metadata": {
    "ExecuteTime": {
     "end_time": "2025-05-27T14:05:06.100038Z",
     "start_time": "2025-05-27T14:05:06.098543Z"
    }
   },
   "cell_type": "code",
   "source": "",
   "id": "547677121acc1215",
   "outputs": [],
   "execution_count": null
  },
  {
   "metadata": {},
   "cell_type": "markdown",
   "source": [
    "---\n",
    "## Comparison"
   ],
   "id": "4ca5a9878a1cb3d3"
  },
  {
   "metadata": {
    "ExecuteTime": {
     "end_time": "2025-05-27T14:05:06.116011Z",
     "start_time": "2025-05-27T14:05:06.112398Z"
    }
   },
   "cell_type": "code",
   "source": "nugget = jnp.array(1e-10)",
   "id": "ffd445017b473b89",
   "outputs": [],
   "execution_count": 5
  },
  {
   "metadata": {},
   "cell_type": "markdown",
   "source": "### shared Input, shared HP",
   "id": "fd78cbfe819ddfa1"
  },
  {
   "metadata": {
    "ExecuteTime": {
     "end_time": "2025-05-27T14:05:06.753710Z",
     "start_time": "2025-05-27T14:05:06.138384Z"
    }
   },
   "cell_type": "code",
   "source": [
    "db = pd.read_csv(f\"./dummy_datasets/{test_db_size}_shared_input_shared_hp.csv\")\n",
    "all_inputs, padded_inputs, padded_outputs, masks = preprocess_db(db)\n",
    "prior_mean = jnp.zeros_like(all_inputs)\n",
    "all_inputs.shape, padded_inputs.shape"
   ],
   "id": "7ea422a4f5fd3d4d",
   "outputs": [
    {
     "data": {
      "text/plain": [
       "((15,), (20, 15))"
      ]
     },
     "execution_count": 6,
     "metadata": {},
     "output_type": "execute_result"
    }
   ],
   "execution_count": 6
  },
  {
   "metadata": {
    "ExecuteTime": {
     "end_time": "2025-05-27T14:05:06.770907Z",
     "start_time": "2025-05-27T14:05:06.768181Z"
    }
   },
   "cell_type": "code",
   "source": [
    "mean_kern = SEMagmaKernel(length_scale=jnp.array(.3), variance=jnp.array(1.))\n",
    "task_kern = NoisySEMagmaKernel(length_scale=jnp.array(.6), variance=jnp.array(1.), noise=jnp.array(-2.5))"
   ],
   "id": "b84be4451fab310f",
   "outputs": [],
   "execution_count": 7
  },
  {
   "metadata": {
    "ExecuteTime": {
     "end_time": "2025-05-27T14:05:07.476337Z",
     "start_time": "2025-05-27T14:05:06.791785Z"
    }
   },
   "cell_type": "code",
   "source": "post_mean, post_cov = hyperpost(padded_inputs, padded_outputs, masks, prior_mean, mean_kern, task_kern, all_inputs=all_inputs)",
   "id": "8acd23d0f6cc9f72",
   "outputs": [],
   "execution_count": 8
  },
  {
   "metadata": {
    "ExecuteTime": {
     "end_time": "2025-05-27T14:05:07.521481Z",
     "start_time": "2025-05-27T14:05:07.516091Z"
    }
   },
   "cell_type": "code",
   "source": "post_mean",
   "id": "9df268f320958640",
   "outputs": [
    {
     "data": {
      "text/plain": [
       "Array([ 35.48962234,  32.96258847,  14.53163018,   7.39134076,\n",
       "         6.9727986 ,   2.33313928,  -0.79272859,   2.13320892,\n",
       "        -2.40420656,  -6.34208034, -37.30466657, -36.48716408,\n",
       "       -39.22947049, -44.80626263, -44.6835497 ], dtype=float64)"
      ]
     },
     "execution_count": 9,
     "metadata": {},
     "output_type": "execute_result"
    }
   ],
   "execution_count": 9
  },
  {
   "metadata": {
    "ExecuteTime": {
     "end_time": "2025-05-27T14:05:07.608004Z",
     "start_time": "2025-05-27T14:05:07.600730Z"
    }
   },
   "cell_type": "code",
   "source": "np.asarray(post_cov)",
   "id": "e75f1fa5bd72fe81",
   "outputs": [
    {
     "data": {
      "text/plain": [
       "array([[ 1.33106999e-01,  1.20663638e-01,  2.28073151e-02,\n",
       "         4.33130755e-04,  8.57652668e-05,  1.89168920e-06,\n",
       "        -4.27880897e-06,  6.85963538e-07, -3.88982663e-06,\n",
       "         1.99620969e-06,  3.04845942e-07, -1.27455522e-08,\n",
       "        -1.24341070e-08,  2.65360842e-09, -2.72407120e-09],\n",
       "       [ 1.20663638e-01,  1.33092938e-01,  4.25316404e-02,\n",
       "         1.48362128e-03,  4.26979313e-04,  5.77622317e-06,\n",
       "        -3.15875361e-06,  5.24790251e-07, -2.93921597e-06,\n",
       "         1.50860499e-06,  2.30332115e-07, -9.63157142e-09,\n",
       "        -9.39626608e-09,  2.00529397e-09, -2.05854155e-09],\n",
       "       [ 2.28073151e-02,  4.25316404e-02,  1.33002674e-01,\n",
       "         4.25175890e-02,  2.27987636e-02,  1.48400879e-03,\n",
       "         1.20509378e-04, -7.93658534e-07,  4.11481840e-06,\n",
       "        -2.11379794e-06, -3.21586773e-07,  1.34797439e-08,\n",
       "         1.31515068e-08, -2.80676765e-09,  2.88129400e-09],\n",
       "       [ 4.33130755e-04,  1.48362128e-03,  4.25175890e-02,\n",
       "         1.32977462e-01,  1.20598371e-01,  4.25616111e-02,\n",
       "         1.06193698e-02,  1.09129595e-04,  6.14068335e-05,\n",
       "        -1.37177621e-05, -2.80818216e-06,  1.17553060e-07,\n",
       "         1.14685453e-07, -2.44756826e-08,  2.51255850e-08],\n",
       "       [ 8.57652668e-05,  4.26979313e-04,  2.27987636e-02,\n",
       "         1.20598371e-01,  1.33053752e-01,  6.91589252e-02,\n",
       "         2.27633678e-02,  4.47478070e-04,  1.09454794e-04,\n",
       "         2.88125393e-05,  5.21621525e-07, -2.12802759e-08,\n",
       "        -2.07424084e-08,  4.42583655e-09, -4.54341083e-09],\n",
       "       [ 1.89168920e-06,  5.77622317e-06,  1.48400879e-03,\n",
       "         4.25616111e-02,  6.91589252e-02,  1.33027549e-01,\n",
       "         9.78857191e-02,  1.05738164e-02,  4.30336461e-03,\n",
       "         1.46888179e-03, -2.97655936e-06,  1.24745797e-07,\n",
       "         1.21704131e-07, -2.59736643e-08,  2.66633334e-08],\n",
       "       [-4.27880897e-06, -3.15875361e-06,  1.20509378e-04,\n",
       "         1.06193698e-02,  2.27633678e-02,  9.78857191e-02,\n",
       "         1.33017071e-01,  4.25071041e-02,  2.28172083e-02,\n",
       "         1.05632013e-02, -1.03245115e-06,  9.61661189e-08,\n",
       "         9.47326259e-08, -2.02619897e-08,  2.07973006e-08],\n",
       "       [ 6.85963538e-07,  5.24790251e-07, -7.93658534e-07,\n",
       "         1.09129595e-04,  4.47478070e-04,  1.05738164e-02,\n",
       "         4.25071041e-02,  1.32810803e-01,  1.20755343e-01,\n",
       "         9.76482355e-02,  4.20000289e-04,  1.13124782e-06,\n",
       "         1.02241809e-06, -2.16759867e-07,  2.22426630e-07],\n",
       "       [-3.88982663e-06, -2.93921597e-06,  4.11481840e-06,\n",
       "         6.14068335e-05,  1.09454794e-04,  4.30336461e-03,\n",
       "         2.28172083e-02,  1.20755343e-01,  1.33048609e-01,\n",
       "         1.20825090e-01,  1.55920287e-03, -2.60156211e-06,\n",
       "        -3.21707215e-06,  7.07353394e-07, -7.25950813e-07],\n",
       "       [ 1.99620969e-06,  1.50860499e-06, -2.11379794e-06,\n",
       "        -1.37177621e-05,  2.88125393e-05,  1.46888179e-03,\n",
       "         1.05632013e-02,  9.76482355e-02,  1.20825090e-01,\n",
       "         1.32796691e-01,  4.29131683e-03,  3.82550970e-07,\n",
       "        -3.98818150e-06,  1.03407863e-06, -1.05299805e-06],\n",
       "       [ 3.04845942e-07,  2.30332115e-07, -3.21586773e-07,\n",
       "        -2.80818216e-06,  5.21621525e-07, -2.97655936e-06,\n",
       "        -1.03245115e-06,  4.20000289e-04,  1.55920287e-03,\n",
       "         4.29131683e-03,  1.33082536e-01,  2.27278680e-02,\n",
       "         1.06396393e-02,  1.47050893e-03,  1.30948600e-04],\n",
       "       [-1.27455522e-08, -9.63157142e-09,  1.34797439e-08,\n",
       "         1.17553060e-07, -2.12802759e-08,  1.24745797e-07,\n",
       "         9.61661189e-08,  1.13124782e-06, -2.60156211e-06,\n",
       "         3.82550970e-07,  2.27278680e-02,  1.32891532e-01,\n",
       "         1.20660514e-01,  6.91301220e-02,  2.28497439e-02],\n",
       "       [-1.24341070e-08, -9.39626608e-09,  1.31515068e-08,\n",
       "         1.14685453e-07, -2.07424084e-08,  1.21704131e-07,\n",
       "         9.47326259e-08,  1.02241809e-06, -3.21707215e-06,\n",
       "        -3.98818150e-06,  1.06396393e-02,  1.20660514e-01,\n",
       "         1.33083034e-01,  9.78960282e-02,  4.25102195e-02],\n",
       "       [ 2.65360842e-09,  2.00529397e-09, -2.80676765e-09,\n",
       "        -2.44756826e-08,  4.42583655e-09, -2.59736643e-08,\n",
       "        -2.02619897e-08, -2.16759867e-07,  7.07353394e-07,\n",
       "         1.03407863e-06,  1.47050893e-03,  6.91301220e-02,\n",
       "         9.78960282e-02,  1.33029998e-01,  9.79236491e-02],\n",
       "       [-2.72407120e-09, -2.05854155e-09,  2.88129400e-09,\n",
       "         2.51255850e-08, -4.54341083e-09,  2.66633334e-08,\n",
       "         2.07973006e-08,  2.22426630e-07, -7.25950813e-07,\n",
       "        -1.05299805e-06,  1.30948600e-04,  2.28497439e-02,\n",
       "         4.25102195e-02,  9.79236491e-02,  1.33068146e-01]])"
      ]
     },
     "execution_count": 10,
     "metadata": {},
     "output_type": "execute_result"
    }
   ],
   "execution_count": 10
  },
  {
   "metadata": {
    "ExecuteTime": {
     "end_time": "2025-05-27T14:05:07.695866Z",
     "start_time": "2025-05-27T14:05:07.689507Z"
    }
   },
   "cell_type": "code",
   "source": "tree_flatten(task_kern)",
   "id": "6cd46ba5d062e779",
   "outputs": [
    {
     "data": {
      "text/plain": [
       "([Array(0.6, dtype=float64, weak_type=True),\n",
       "  Array(1., dtype=float64, weak_type=True),\n",
       "  Array(-2.5, dtype=float64, weak_type=True)],\n",
       " PyTreeDef(CustomNode(NoisySEMagmaKernel[None], [*, *, *])))"
      ]
     },
     "execution_count": 11,
     "metadata": {},
     "output_type": "execute_result"
    }
   ],
   "execution_count": 11
  },
  {
   "metadata": {
    "ExecuteTime": {
     "end_time": "2025-05-27T14:05:07.908015Z",
     "start_time": "2025-05-27T14:05:07.900346Z"
    }
   },
   "cell_type": "code",
   "source": "task_kern.__dict__",
   "id": "df1d0b9831bb4cd6",
   "outputs": [
    {
     "data": {
      "text/plain": [
       "{'length_scale': Array(0.6, dtype=float64, weak_type=True),\n",
       " 'variance': Array(1., dtype=float64, weak_type=True),\n",
       " 'noise': Array(-2.5, dtype=float64, weak_type=True)}"
      ]
     },
     "execution_count": 12,
     "metadata": {},
     "output_type": "execute_result"
    }
   ],
   "execution_count": 12
  },
  {
   "metadata": {
    "ExecuteTime": {
     "end_time": "2025-05-27T14:05:11.660117Z",
     "start_time": "2025-05-27T14:05:07.969353Z"
    }
   },
   "cell_type": "code",
   "source": "new_mean_kern, new_task_kern = optimise_hyperparameters(mean_kern, task_kern, padded_inputs, padded_outputs, all_inputs, prior_mean, post_mean, post_cov, masks, nugget=nugget, verbose=True)",
   "id": "2ed1ae4b497b01b7",
   "outputs": [
    {
     "name": "stdout",
     "output_type": "stream",
     "text": [
      "Iteration: 0, Value: 1084.5687542988799, Gradient norm: 1080.70322094892\n",
      "Iteration: 1, Value: 409.9558815385026, Gradient norm: 385.50308175436663\n",
      "Iteration: 2, Value: 246.8625068327388, Gradient norm: 216.68941466303235\n",
      "Iteration: 3, Value: 137.6512584822056, Gradient norm: 101.85021819665475\n",
      "Iteration: 4, Value: 91.00434617848073, Gradient norm: 50.67620079745729\n",
      "Iteration: 5, Value: 68.4683526489665, Gradient norm: 24.038302273306\n",
      "Iteration: 6, Value: 58.88841165956168, Gradient norm: 11.05811502791275\n",
      "Iteration: 7, Value: 55.24076634040253, Gradient norm: 4.785243101089721\n",
      "Iteration: 8, Value: 54.85282246326992, Gradient norm: 14.295814514839375\n",
      "Iteration: 9, Value: 53.98775677225567, Gradient norm: 0.794807427567745\n",
      "Iteration: 10, Value: 53.96194090517091, Gradient norm: 0.42448082778252616\n",
      "Iteration: 11, Value: 53.957169277751184, Gradient norm: 0.08596668675362666\n",
      "Iteration: 0, Value: 661.1005156615454, Gradient norm: 193.50585235358955\n",
      "Iteration: 1, Value: 587.4519748282615, Gradient norm: 40.54005774460581\n",
      "Iteration: 2, Value: 582.030262112146, Gradient norm: 25.20903675326372\n",
      "Iteration: 3, Value: 579.3376129231323, Gradient norm: 23.029965500663753\n",
      "Iteration: 4, Value: 578.2334334244342, Gradient norm: 7.207569381284783\n",
      "Iteration: 5, Value: 577.8471259853231, Gradient norm: 6.130528776585037\n",
      "Iteration: 6, Value: 576.9079983094832, Gradient norm: 7.146448656504826\n",
      "Iteration: 7, Value: 576.460400716505, Gradient norm: 3.72358740283902\n",
      "Iteration: 8, Value: 576.3893621014371, Gradient norm: 0.41140482967668274\n"
     ]
    }
   ],
   "execution_count": 13
  },
  {
   "metadata": {
    "ExecuteTime": {
     "end_time": "2025-05-27T14:05:11.751777Z",
     "start_time": "2025-05-27T14:05:11.746497Z"
    }
   },
   "cell_type": "code",
   "source": "new_mean_kern, new_task_kern",
   "id": "ccf5ce2102a25d84",
   "outputs": [
    {
     "data": {
      "text/plain": [
       "(SEMagmaKernel(length_scale=1.00154846620888, variance=6.144210403793922),\n",
       " NoisySEMagmaKernel(length_scale=0.8098983971429901, variance=2.0507074907476484, noise=-1.7465099667483082))"
      ]
     },
     "execution_count": 14,
     "metadata": {},
     "output_type": "execute_result"
    }
   ],
   "execution_count": 14
  },
  {
   "metadata": {
    "ExecuteTime": {
     "end_time": "2025-05-27T14:05:34.852603Z",
     "start_time": "2025-05-27T14:05:11.899794Z"
    }
   },
   "cell_type": "code",
   "source": [
    "%%timeit -n 3 -r 2\n",
    "optimise_hyperparameters(mean_kern, task_kern, padded_inputs, padded_outputs, all_inputs, prior_mean, post_mean, post_cov, masks, nugget=nugget)[0].length_scale.block_until_ready()"
   ],
   "id": "8b52b470f131915a",
   "outputs": [
    {
     "name": "stdout",
     "output_type": "stream",
     "text": [
      "3.8 s ± 528 ms per loop (mean ± std. dev. of 2 runs, 3 loops each)\n"
     ]
    }
   ],
   "execution_count": 15
  },
  {
   "metadata": {},
   "cell_type": "markdown",
   "source": "### shared Input, Distinct HP",
   "id": "ff736c7218c95092"
  },
  {
   "metadata": {
    "ExecuteTime": {
     "end_time": "2025-05-27T14:05:38.484984Z",
     "start_time": "2025-05-27T14:05:37.818708Z"
    }
   },
   "cell_type": "code",
   "source": [
    "db = pd.read_csv(f\"./dummy_datasets/{test_db_size}_shared_input_distinct_hp.csv\")\n",
    "all_inputs, padded_inputs, padded_outputs, masks = preprocess_db(db)\n",
    "prior_mean = jnp.zeros_like(all_inputs)\n",
    "all_inputs.shape, padded_inputs.shape"
   ],
   "id": "f0b7e39f319c54b4",
   "outputs": [
    {
     "data": {
      "text/plain": [
       "((15,), (20, 15))"
      ]
     },
     "execution_count": 16,
     "metadata": {},
     "output_type": "execute_result"
    }
   ],
   "execution_count": 16
  },
  {
   "metadata": {
    "ExecuteTime": {
     "end_time": "2025-05-27T14:07:14.085378Z",
     "start_time": "2025-05-27T14:07:14.037175Z"
    }
   },
   "cell_type": "code",
   "source": [
    "mean_kern = SEMagmaKernel(length_scale=jnp.array(.3), variance=jnp.array(1.))\n",
    "\n",
    "key, subkey = jax.random.split(key)\n",
    "distinct_length_scales = jax.random.uniform(subkey, (padded_outputs.shape[0],), jnp.float64, .1, 1)\n",
    "task_kern = NoisySEMagmaKernel(length_scale=distinct_length_scales, variance=jnp.array(1.), noise=jnp.array(-2.5))"
   ],
   "id": "df22a4acbb8bf863",
   "outputs": [],
   "execution_count": 35
  },
  {
   "metadata": {
    "ExecuteTime": {
     "end_time": "2025-05-27T14:07:14.546022Z",
     "start_time": "2025-05-27T14:07:14.536545Z"
    }
   },
   "cell_type": "code",
   "source": "distinct_length_scales.shape",
   "id": "6c973df2c8c5b196",
   "outputs": [
    {
     "data": {
      "text/plain": [
       "(20,)"
      ]
     },
     "execution_count": 36,
     "metadata": {},
     "output_type": "execute_result"
    }
   ],
   "execution_count": 36
  },
  {
   "metadata": {
    "ExecuteTime": {
     "end_time": "2025-05-27T14:07:15.373070Z",
     "start_time": "2025-05-27T14:07:15.190285Z"
    }
   },
   "cell_type": "code",
   "source": "post_mean, post_cov = hyperpost(padded_inputs, padded_outputs, masks, prior_mean, mean_kern, task_kern, all_inputs=all_inputs)",
   "id": "5a9011528d2e18cc",
   "outputs": [],
   "execution_count": 37
  },
  {
   "metadata": {
    "ExecuteTime": {
     "end_time": "2025-05-27T14:07:19.291225Z",
     "start_time": "2025-05-27T14:07:15.963730Z"
    }
   },
   "cell_type": "code",
   "source": "new_mean_kern, new_task_kern = optimise_hyperparameters(mean_kern, task_kern, padded_inputs, padded_outputs, all_inputs, prior_mean, post_mean, post_cov, masks, nugget=nugget, verbose=True)",
   "id": "4b0ab5c27a21968a",
   "outputs": [
    {
     "name": "stdout",
     "output_type": "stream",
     "text": [
      "Iteration: 0, Value: 626.7167066691293, Gradient norm: 706.0380411925394\n",
      "Iteration: 1, Value: 451.806311523143, Gradient norm: 543.7230623461476\n",
      "Iteration: 2, Value: 147.07110873131407, Gradient norm: 232.69181618348313\n",
      "Iteration: 3, Value: 64.83777429432344, Gradient norm: 113.89407899490469\n",
      "Iteration: 4, Value: 27.28139245658874, Gradient norm: 225.25012557657044\n",
      "Iteration: 5, Value: 7.7382040165459545, Gradient norm: 30.940870358614667\n",
      "Iteration: 6, Value: 1.8335457629512169, Gradient norm: 20.842558323537606\n",
      "Iteration: 7, Value: 0.13444766232710137, Gradient norm: 2.698937705762504\n",
      "Iteration: 8, Value: -0.06728720345797257, Gradient norm: 3.296152944075638\n",
      "Iteration: 9, Value: -0.08372363766263291, Gradient norm: 0.6710941541660963\n",
      "Iteration: 10, Value: -0.08473203042976607, Gradient norm: 0.6142705295891342\n",
      "Iteration: 0, Value: 789.7604152108095, Gradient norm: 224.5022628356022\n",
      "Iteration: 1, Value: 687.9245227152583, Gradient norm: 20.95826515519451\n"
     ]
    }
   ],
   "execution_count": 38
  },
  {
   "metadata": {
    "ExecuteTime": {
     "end_time": "2025-05-27T14:07:19.392052Z",
     "start_time": "2025-05-27T14:07:19.388928Z"
    }
   },
   "cell_type": "code",
   "source": "new_mean_kern, new_task_kern",
   "id": "4bb318c3edb413f5",
   "outputs": [
    {
     "data": {
      "text/plain": [
       "(SEMagmaKernel(length_scale=0.5054967309781664, variance=4.907526076005412),\n",
       " NoisySEMagmaKernel(length_scale=[ 0.11174793 -0.2183297   0.61641025  0.34626178  0.6645803   0.81149112\n",
       "   0.5203386   0.25153783  0.73876548  0.0906732   1.35127933  0.37090433\n",
       "   0.36570312  0.42206205  1.45831781  0.32074166  1.2330959   0.49874442\n",
       "   0.56897336  0.84063259], variance=1.932440115089407, noise=-2.349786151816508))"
      ]
     },
     "execution_count": 39,
     "metadata": {},
     "output_type": "execute_result"
    }
   ],
   "execution_count": 39
  },
  {
   "metadata": {
    "ExecuteTime": {
     "end_time": "2025-05-27T14:06:08.546395Z",
     "start_time": "2025-05-27T14:05:46.048328Z"
    }
   },
   "cell_type": "code",
   "source": [
    "%%timeit -n 3 -r 2\n",
    "optimise_hyperparameters(mean_kern, task_kern, padded_inputs, padded_outputs, all_inputs, prior_mean, post_mean, post_cov, masks, nugget=nugget)[0].length_scale.block_until_ready()"
   ],
   "id": "f1ca294535c0b68f",
   "outputs": [
    {
     "name": "stdout",
     "output_type": "stream",
     "text": [
      "3.72 s ± 785 ms per loop (mean ± std. dev. of 2 runs, 3 loops each)\n"
     ]
    }
   ],
   "execution_count": 22
  },
  {
   "metadata": {},
   "cell_type": "markdown",
   "source": "### Distinct Input, shared HP",
   "id": "20b483a9ffe80c86"
  },
  {
   "metadata": {
    "ExecuteTime": {
     "end_time": "2025-05-27T14:06:09.739190Z",
     "start_time": "2025-05-27T14:06:08.686965Z"
    }
   },
   "cell_type": "code",
   "source": [
    "db = pd.read_csv(f\"./dummy_datasets/{test_db_size}_distinct_input_shared_hp.csv\")\n",
    "all_inputs, padded_inputs, padded_outputs, masks = preprocess_db(db)\n",
    "prior_mean = jnp.zeros_like(all_inputs)\n",
    "all_inputs.shape, padded_inputs.shape"
   ],
   "id": "b28169fa8ce19f32",
   "outputs": [
    {
     "data": {
      "text/plain": [
       "((41,), (20, 41))"
      ]
     },
     "execution_count": 23,
     "metadata": {},
     "output_type": "execute_result"
    }
   ],
   "execution_count": 23
  },
  {
   "metadata": {
    "ExecuteTime": {
     "end_time": "2025-05-27T14:06:09.840466Z",
     "start_time": "2025-05-27T14:06:09.833738Z"
    }
   },
   "cell_type": "code",
   "source": [
    "mean_kern = SEMagmaKernel(length_scale=jnp.array(.3), variance=jnp.array(1.))\n",
    "task_kern = SEMagmaKernel(length_scale=jnp.array(.6), variance=jnp.array(1.))"
   ],
   "id": "4912ddbe3e580dd7",
   "outputs": [],
   "execution_count": 24
  },
  {
   "metadata": {
    "ExecuteTime": {
     "end_time": "2025-05-27T14:06:10.372557Z",
     "start_time": "2025-05-27T14:06:09.892948Z"
    }
   },
   "cell_type": "code",
   "source": "post_mean, post_cov = hyperpost(padded_inputs, padded_outputs, masks, prior_mean, mean_kern, task_kern, all_inputs=all_inputs)",
   "id": "18be768ce82808b0",
   "outputs": [],
   "execution_count": 25
  },
  {
   "metadata": {
    "ExecuteTime": {
     "end_time": "2025-05-27T14:06:13.375421Z",
     "start_time": "2025-05-27T14:06:10.687129Z"
    }
   },
   "cell_type": "code",
   "source": "new_mean_kern, new_task_kern = optimise_hyperparameters(mean_kern, task_kern, padded_inputs, padded_outputs, all_inputs, prior_mean, post_mean, post_cov, masks, nugget=nugget, verbose=True)",
   "id": "fb0206d384039b83",
   "outputs": [
    {
     "name": "stdout",
     "output_type": "stream",
     "text": [
      "Iteration: 0, Value: 93883.35546043565, Gradient norm: 1194745.0537562363\n",
      "Iteration: 1, Value: 2974.744120614934, Gradient norm: 3148.214376785104\n",
      "Iteration: 2, Value: 2491.7251499679633, Gradient norm: 2609.0515343296424\n",
      "Iteration: 3, Value: 1116.2495461511437, Gradient norm: 1082.403136794949\n",
      "Iteration: 4, Value: 764.0029201857294, Gradient norm: 1105.0290129108764\n",
      "Iteration: 5, Value: 570.921255489159, Gradient norm: 1403.87102684516\n",
      "Iteration: 6, Value: 356.6130936636686, Gradient norm: 992.0110973415899\n",
      "Iteration: 7, Value: 205.05306836019986, Gradient norm: 461.03370646928903\n",
      "Iteration: 8, Value: 142.8731738210606, Gradient norm: 214.79124111175432\n",
      "Iteration: 9, Value: 115.70298059020287, Gradient norm: 85.1437965271968\n",
      "Iteration: 10, Value: 106.25762591722116, Gradient norm: 22.86426903099017\n",
      "Iteration: 11, Value: 103.7650586126552, Gradient norm: 8.736323760266655\n",
      "Iteration: 12, Value: 102.95825498057987, Gradient norm: 1.301709460177779\n",
      "Iteration: 13, Value: 102.8991340876219, Gradient norm: 4.194727531337578\n",
      "Iteration: 14, Value: 102.89001510171087, Gradient norm: 1.0267144915546795\n",
      "Iteration: 0, Value: 159687.9500207894, Gradient norm: 1297104.2283809022\n",
      "Iteration: 1, Value: 1900.8133159304148, Gradient norm: 2320.0817360270466\n"
     ]
    }
   ],
   "execution_count": 26
  },
  {
   "metadata": {
    "ExecuteTime": {
     "end_time": "2025-05-27T14:06:13.536946Z",
     "start_time": "2025-05-27T14:06:13.523236Z"
    }
   },
   "cell_type": "code",
   "source": "new_mean_kern, new_task_kern",
   "id": "11abc2420e7b68a1",
   "outputs": [
    {
     "data": {
      "text/plain": [
       "(SEMagmaKernel(length_scale=-0.0071476759712833186, variance=6.639570750925357),\n",
       " SEMagmaKernel(length_scale=-0.5745746785013888, variance=2.9418057340078563))"
      ]
     },
     "execution_count": 27,
     "metadata": {},
     "output_type": "execute_result"
    }
   ],
   "execution_count": 27
  },
  {
   "metadata": {
    "ExecuteTime": {
     "end_time": "2025-05-27T14:06:22.899555Z",
     "start_time": "2025-05-27T14:06:13.556069Z"
    }
   },
   "cell_type": "code",
   "source": [
    "%%timeit -n 3 -r 2\n",
    "optimise_hyperparameters(mean_kern, task_kern, padded_inputs, padded_outputs, all_inputs, prior_mean, post_mean, post_cov, masks, nugget=nugget)[0].length_scale.block_until_ready()"
   ],
   "id": "5809957ba253a53",
   "outputs": [
    {
     "name": "stdout",
     "output_type": "stream",
     "text": [
      "1.55 s ± 27.7 ms per loop (mean ± std. dev. of 2 runs, 3 loops each)\n"
     ]
    }
   ],
   "execution_count": 28
  },
  {
   "metadata": {},
   "cell_type": "markdown",
   "source": "### Distinct Input, Distinct HP",
   "id": "83204767e8354b6f"
  },
  {
   "metadata": {
    "ExecuteTime": {
     "end_time": "2025-05-27T14:06:23.392302Z",
     "start_time": "2025-05-27T14:06:23.003083Z"
    }
   },
   "cell_type": "code",
   "source": [
    "db = pd.read_csv(f\"./dummy_datasets/{test_db_size}_distinct_input_distinct_hp.csv\")\n",
    "all_inputs, padded_inputs, padded_outputs, masks = preprocess_db(db)\n",
    "prior_mean = jnp.zeros_like(all_inputs)\n",
    "all_inputs.shape, padded_inputs.shape"
   ],
   "id": "60ba0c8f3de26ee8",
   "outputs": [
    {
     "data": {
      "text/plain": [
       "((41,), (20, 41))"
      ]
     },
     "execution_count": 29,
     "metadata": {},
     "output_type": "execute_result"
    }
   ],
   "execution_count": 29
  },
  {
   "metadata": {
    "ExecuteTime": {
     "end_time": "2025-05-27T14:06:23.803691Z",
     "start_time": "2025-05-27T14:06:23.793013Z"
    }
   },
   "cell_type": "code",
   "source": [
    "mean_kern = SEMagmaKernel(length_scale=jnp.array(.3), variance=jnp.array(1.))\n",
    "\n",
    "key, subkey = jax.random.split(key)\n",
    "distinct_length_scales = jax.random.uniform(subkey, (padded_outputs.shape[0],), jnp.float64, .1, 1)\n",
    "task_kern = SEMagmaKernel(length_scale=distinct_length_scales, variance=jnp.array(1.))"
   ],
   "id": "ae73ef7ef78c2516",
   "outputs": [],
   "execution_count": 30
  },
  {
   "metadata": {
    "ExecuteTime": {
     "end_time": "2025-05-27T14:06:23.935108Z",
     "start_time": "2025-05-27T14:06:23.847983Z"
    }
   },
   "cell_type": "code",
   "source": "post_mean, post_cov = hyperpost(padded_inputs, padded_outputs, masks, prior_mean, mean_kern, task_kern, all_inputs=all_inputs)",
   "id": "f152d0c8ccd59097",
   "outputs": [],
   "execution_count": 31
  },
  {
   "metadata": {
    "ExecuteTime": {
     "end_time": "2025-05-27T14:06:26.415124Z",
     "start_time": "2025-05-27T14:06:23.954867Z"
    }
   },
   "cell_type": "code",
   "source": "new_mean_kern, new_task_kern = optimise_hyperparameters(mean_kern, task_kern, padded_inputs, padded_outputs, all_inputs, prior_mean, post_mean, post_cov, masks, nugget=nugget, verbose=True)",
   "id": "2f42c4bdcacc0250",
   "outputs": [
    {
     "name": "stdout",
     "output_type": "stream",
     "text": [
      "Iteration: 0, Value: 63693.24263182963, Gradient norm: 935204.7971765217\n",
      "Iteration: 1, Value: 936.9165952740885, Gradient norm: 930.1424022688172\n",
      "Iteration: 2, Value: 826.1892973711264, Gradient norm: 813.0332957764756\n",
      "Iteration: 3, Value: 361.23238370298935, Gradient norm: 317.8693494976895\n",
      "Iteration: 4, Value: 233.44345265802076, Gradient norm: 208.48996186308386\n",
      "Iteration: 5, Value: 168.2633939143924, Gradient norm: 282.21037786145416\n",
      "Iteration: 6, Value: 141.5093737836419, Gradient norm: 340.7081490306301\n",
      "Iteration: 7, Value: 110.34916051831858, Gradient norm: 240.78517808066476\n",
      "Iteration: 8, Value: 90.96996170282848, Gradient norm: 113.10981083458589\n",
      "Iteration: 9, Value: 85.10452211994607, Gradient norm: 47.36631658124324\n",
      "Iteration: 10, Value: 83.81965938398909, Gradient norm: 16.27514127248603\n",
      "Iteration: 11, Value: 83.69133665039448, Gradient norm: 5.6383183429130925\n",
      "Iteration: 12, Value: 83.67553022693143, Gradient norm: 1.120123616884129\n",
      "Iteration: 0, Value: 470621.1104742168, Gradient norm: 3420491.85639107\n",
      "Iteration: 1, Value: 49158.976114396966, Gradient norm: 158287.15011015965\n"
     ]
    }
   ],
   "execution_count": 32
  },
  {
   "metadata": {
    "ExecuteTime": {
     "end_time": "2025-05-27T14:06:26.560888Z",
     "start_time": "2025-05-27T14:06:26.556466Z"
    }
   },
   "cell_type": "code",
   "source": "new_mean_kern, new_task_kern",
   "id": "76ac0d6f4ce956f7",
   "outputs": [
    {
     "data": {
      "text/plain": [
       "(SEMagmaKernel(length_scale=-0.0567281240906174, variance=5.454397379716924),\n",
       " SEMagmaKernel(length_scale=[-0.39953694 -0.16537672 -0.37609432 -0.18648492 -0.02030922 -0.07931304\n",
       "   0.11920396 -0.17766618 -0.20457625 -0.03514375  0.28585494 -0.38560367\n",
       "  -0.36277171 -0.72086503 -0.40399476  0.00614847 -0.58879221  0.14658601\n",
       "  -0.23616103 -0.15323145], variance=3.009735760523688))"
      ]
     },
     "execution_count": 33,
     "metadata": {},
     "output_type": "execute_result"
    }
   ],
   "execution_count": 33
  },
  {
   "metadata": {
    "ExecuteTime": {
     "end_time": "2025-05-27T14:06:36.908792Z",
     "start_time": "2025-05-27T14:06:26.585924Z"
    }
   },
   "cell_type": "code",
   "source": [
    "%%timeit -n 3 -r 2\n",
    "optimise_hyperparameters(mean_kern, task_kern, padded_inputs, padded_outputs, all_inputs, prior_mean, post_mean, post_cov, masks, nugget=nugget)[0].length_scale.block_until_ready()"
   ],
   "id": "5ee054cd9816fe62",
   "outputs": [
    {
     "name": "stdout",
     "output_type": "stream",
     "text": [
      "1.71 s ± 861 μs per loop (mean ± std. dev. of 2 runs, 3 loops each)\n"
     ]
    }
   ],
   "execution_count": 34
  },
  {
   "metadata": {},
   "cell_type": "markdown",
   "source": [
    "---\n",
    "## Conclusion"
   ],
   "id": "13b12c3f2e1d55d9"
  },
  {
   "metadata": {
    "ExecuteTime": {
     "end_time": "2025-05-27T14:06:36.967123Z",
     "start_time": "2025-05-27T14:06:36.965594Z"
    }
   },
   "cell_type": "code",
   "source": "",
   "id": "9d1049db31416eda",
   "outputs": [],
   "execution_count": null
  },
  {
   "metadata": {},
   "cell_type": "markdown",
   "source": "---",
   "id": "5e278787af3818b9"
  }
 ],
 "metadata": {
  "kernelspec": {
   "display_name": "Python 3",
   "language": "python",
   "name": "python3"
  },
  "language_info": {
   "codemirror_mode": {
    "name": "ipython",
    "version": 2
   },
   "file_extension": ".py",
   "mimetype": "text/x-python",
   "name": "python",
   "nbconvert_exporter": "python",
   "pygments_lexer": "ipython2",
   "version": "2.7.6"
  }
 },
 "nbformat": 4,
 "nbformat_minor": 5
}
