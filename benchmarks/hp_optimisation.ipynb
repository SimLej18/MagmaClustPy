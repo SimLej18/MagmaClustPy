{
 "cells": [
  {
   "metadata": {},
   "cell_type": "markdown",
   "source": [
    "# Benchmarks - Hyper-parameters optimisation\n",
    "\n",
    "**Main considerations when implementing HPs optimisation**\n",
    "- we made kernels pytrees, so we should be able to compute gradient and optimise for them directly\n"
   ],
   "id": "b3c7fb13dd0f50f4"
  },
  {
   "metadata": {},
   "cell_type": "markdown",
   "source": [
    "---\n",
    "## Setup"
   ],
   "id": "e79b3311ad31df3f"
  },
  {
   "metadata": {
    "ExecuteTime": {
     "end_time": "2025-03-12T13:09:38.893260Z",
     "start_time": "2025-03-12T13:09:38.889004Z"
    }
   },
   "cell_type": "code",
   "source": [
    "# Standard library\n",
    "import os\n",
    "\n",
    "os.environ['JAX_ENABLE_X64'] = \"True\""
   ],
   "id": "a6a833855c1b48e9",
   "outputs": [],
   "execution_count": 1
  },
  {
   "metadata": {
    "ExecuteTime": {
     "end_time": "2025-03-12T13:09:39.679110Z",
     "start_time": "2025-03-12T13:09:39.008093Z"
    }
   },
   "cell_type": "code",
   "source": [
    "# Third party\n",
    "import jax\n",
    "import jax.numpy as jnp\n",
    "import jax.random as jrd\n",
    "\n",
    "import numpy as np\n",
    "import pandas as pd"
   ],
   "id": "ac216c6509d3a07f",
   "outputs": [],
   "execution_count": 2
  },
  {
   "metadata": {
    "ExecuteTime": {
     "end_time": "2025-03-12T13:09:39.979412Z",
     "start_time": "2025-03-12T13:09:39.686022Z"
    }
   },
   "cell_type": "code",
   "source": [
    "# Local\n",
    "from MagmaClustPy.kernels import RBFKernel, SEMagmaKernel\n",
    "from MagmaClustPy.utils import preprocess_db\n",
    "from MagmaClustPy.hyperpost import hyperpost\n",
    "from MagmaClustPy.hp_optimisation import optimise_hyperparameters"
   ],
   "id": "489423e8889c492d",
   "outputs": [],
   "execution_count": 3
  },
  {
   "metadata": {
    "ExecuteTime": {
     "end_time": "2025-03-12T13:09:40.027580Z",
     "start_time": "2025-03-12T13:09:39.985888Z"
    }
   },
   "cell_type": "code",
   "source": [
    "# Config\n",
    "key = jrd.PRNGKey(0)\n",
    "test_db_size = \"medium\""
   ],
   "id": "3e5dc5f15ab33e1a",
   "outputs": [],
   "execution_count": 4
  },
  {
   "metadata": {},
   "cell_type": "markdown",
   "source": [
    "---\n",
    "## Data"
   ],
   "id": "ac6a128506dca90c"
  },
  {
   "metadata": {
    "ExecuteTime": {
     "end_time": "2025-03-12T13:09:40.039462Z",
     "start_time": "2025-03-12T13:09:40.037612Z"
    }
   },
   "cell_type": "code",
   "source": "",
   "id": "a6109c6bb00ed82f",
   "outputs": [],
   "execution_count": null
  },
  {
   "metadata": {},
   "cell_type": "markdown",
   "source": [
    "---\n",
    "## Current implementation"
   ],
   "id": "ecf3dcbf9770f1a9"
  },
  {
   "metadata": {},
   "cell_type": "markdown",
   "source": [
    "---\n",
    "## Custom implementation(s)"
   ],
   "id": "eb9741fdeac26cf1"
  },
  {
   "metadata": {},
   "cell_type": "markdown",
   "source": [
    "---\n",
    "## Comparison"
   ],
   "id": "4ca5a9878a1cb3d3"
  },
  {
   "metadata": {
    "ExecuteTime": {
     "end_time": "2025-03-12T13:09:40.069111Z",
     "start_time": "2025-03-12T13:09:40.051445Z"
    }
   },
   "cell_type": "code",
   "source": [
    "prior_mean = jnp.array(0)\n",
    "nugget = jnp.array(1e-10)"
   ],
   "id": "ffd445017b473b89",
   "outputs": [],
   "execution_count": 5
  },
  {
   "metadata": {},
   "cell_type": "markdown",
   "source": "### Common Input, Common HP",
   "id": "fd78cbfe819ddfa1"
  },
  {
   "metadata": {
    "ExecuteTime": {
     "end_time": "2025-03-12T13:09:40.931897Z",
     "start_time": "2025-03-12T13:09:40.077325Z"
    }
   },
   "cell_type": "code",
   "source": [
    "db = pd.read_csv(f\"./dummy_datasets/{test_db_size}_common_input_common_hp.csv\")\n",
    "all_inputs, padded_inputs, padded_outputs, masks = preprocess_db(db)\n",
    "all_inputs.shape, padded_inputs.shape"
   ],
   "id": "7ea422a4f5fd3d4d",
   "outputs": [
    {
     "data": {
      "text/plain": [
       "((150,), (200, 150))"
      ]
     },
     "execution_count": 6,
     "metadata": {},
     "output_type": "execute_result"
    }
   ],
   "execution_count": 6
  },
  {
   "metadata": {
    "ExecuteTime": {
     "end_time": "2025-03-12T13:09:40.944227Z",
     "start_time": "2025-03-12T13:09:40.941311Z"
    }
   },
   "cell_type": "code",
   "source": [
    "mean_kern = SEMagmaKernel(length_scale=jnp.array(.3), variance=jnp.array(1.))\n",
    "task_kern = SEMagmaKernel(length_scale=jnp.array(.6), variance=jnp.array(1.))"
   ],
   "id": "b84be4451fab310f",
   "outputs": [],
   "execution_count": 7
  },
  {
   "metadata": {
    "ExecuteTime": {
     "end_time": "2025-03-12T13:09:41.560389Z",
     "start_time": "2025-03-12T13:09:40.962794Z"
    }
   },
   "cell_type": "code",
   "source": "post_mean, post_cov = hyperpost(padded_inputs, padded_outputs, masks, jnp.array(0.), mean_kern, task_kern, all_inputs=all_inputs)",
   "id": "8acd23d0f6cc9f72",
   "outputs": [],
   "execution_count": 8
  },
  {
   "metadata": {
    "ExecuteTime": {
     "end_time": "2025-03-12T13:09:46.523686Z",
     "start_time": "2025-03-12T13:09:41.573750Z"
    }
   },
   "cell_type": "code",
   "source": "new_mean_kern, new_task_kern = optimise_hyperparameters(mean_kern, task_kern, padded_inputs, padded_outputs, all_inputs, prior_mean, post_mean, post_cov, masks, nugget=nugget)",
   "id": "2ed1ae4b497b01b7",
   "outputs": [
    {
     "name": "stderr",
     "output_type": "stream",
     "text": [
      "2025-03-12 14:09:43.880663: E external/xla/xla/service/slow_operation_alarm.cc:73] Constant folding an instruction is taking > 1s:\n",
      "\n",
      "  %reduce-window.8 = f64[200,5,5]{2,1,0} reduce-window(f64[200,150,150]{2,1,0} %broadcast.1530, f64[] %constant.255), window={size=1x32x32 stride=1x32x32 pad=0_0x5_5x5_5}, to_apply=%region_6.576\n",
      "\n",
      "This isn't necessarily a bug; constant-folding is inherently a trade-off between compilation time and speed at runtime. XLA has some guards that attempt to keep constant folding from taking too long, but fundamentally you'll always be able to come up with an input program that takes a long time.\n",
      "\n",
      "If you'd like to file a bug, run with envvar XLA_FLAGS=--xla_dump_to=/tmp/foo and attach the results.\n",
      "2025-03-12 14:09:43.881199: E external/xla/xla/service/slow_operation_alarm.cc:140] The operation took 1.00559s\n",
      "Constant folding an instruction is taking > 1s:\n",
      "\n",
      "  %reduce-window.8 = f64[200,5,5]{2,1,0} reduce-window(f64[200,150,150]{2,1,0} %broadcast.1530, f64[] %constant.255), window={size=1x32x32 stride=1x32x32 pad=0_0x5_5x5_5}, to_apply=%region_6.576\n",
      "\n",
      "This isn't necessarily a bug; constant-folding is inherently a trade-off between compilation time and speed at runtime. XLA has some guards that attempt to keep constant folding from taking too long, but fundamentally you'll always be able to come up with an input program that takes a long time.\n",
      "\n",
      "If you'd like to file a bug, run with envvar XLA_FLAGS=--xla_dump_to=/tmp/foo and attach the results.\n"
     ]
    }
   ],
   "execution_count": 9
  },
  {
   "metadata": {
    "ExecuteTime": {
     "end_time": "2025-03-12T13:10:25.342152Z",
     "start_time": "2025-03-12T13:10:25.338456Z"
    }
   },
   "cell_type": "code",
   "source": "# jnp.allclose(mean_1, mean_2), jnp.allclose(cov_1, cov_2)",
   "id": "e7b415001aadf6b7",
   "outputs": [],
   "execution_count": 10
  },
  {
   "metadata": {
    "ExecuteTime": {
     "end_time": "2025-03-12T13:10:25.365235Z",
     "start_time": "2025-03-12T13:10:25.363183Z"
    }
   },
   "cell_type": "code",
   "source": "# jnp.mean(jnp.abs(mean_1 - mean_2)), jnp.mean(jnp.abs(cov_1 - cov_2))",
   "id": "c2419a2633bcfcf2",
   "outputs": [],
   "execution_count": 11
  },
  {
   "metadata": {
    "ExecuteTime": {
     "end_time": "2025-03-12T13:13:59.503370Z",
     "start_time": "2025-03-12T13:10:25.389424Z"
    }
   },
   "cell_type": "code",
   "source": [
    "%%timeit -n 3 -r 2\n",
    "optimise_hyperparameters(mean_kern, task_kern, padded_inputs, padded_outputs, all_inputs, prior_mean, post_mean, post_cov, masks, nugget=nugget)[0].length_scale.block_until_ready()"
   ],
   "id": "8b52b470f131915a",
   "outputs": [
    {
     "name": "stdout",
     "output_type": "stream",
     "text": [
      "35.7 s ± 4.77 s per loop (mean ± std. dev. of 2 runs, 3 loops each)\n"
     ]
    }
   ],
   "execution_count": 12
  },
  {
   "metadata": {
    "ExecuteTime": {
     "end_time": "2025-03-12T13:13:59.636036Z",
     "start_time": "2025-03-12T13:13:59.633561Z"
    }
   },
   "cell_type": "code",
   "source": [
    "# %%timeit -n 5 -r 5\n",
    "# _hyperpost(padded_inputs, padded_outputs, masks, jnp.array(0.), mean_kern, task_kern, all_inputs=all_inputs)[0].block_until_ready()"
   ],
   "id": "65750e6cda77bd48",
   "outputs": [],
   "execution_count": 13
  },
  {
   "metadata": {},
   "cell_type": "markdown",
   "source": "### Common Input, Distinct HP",
   "id": "ff736c7218c95092"
  },
  {
   "metadata": {
    "ExecuteTime": {
     "end_time": "2025-03-12T13:14:36.708469Z",
     "start_time": "2025-03-12T13:13:59.710370Z"
    }
   },
   "cell_type": "code",
   "source": [
    "db = pd.read_csv(f\"./dummy_datasets/{test_db_size}_common_input_distinct_hp.csv\")\n",
    "all_inputs, padded_inputs, padded_outputs, masks = preprocess_db(db)\n",
    "all_inputs.shape, padded_inputs.shape"
   ],
   "id": "f0b7e39f319c54b4",
   "outputs": [
    {
     "data": {
      "text/plain": [
       "((150,), (200, 150))"
      ]
     },
     "execution_count": 14,
     "metadata": {},
     "output_type": "execute_result"
    }
   ],
   "execution_count": 14
  },
  {
   "metadata": {
    "ExecuteTime": {
     "end_time": "2025-03-12T13:14:36.921534Z",
     "start_time": "2025-03-12T13:14:36.781032Z"
    }
   },
   "cell_type": "code",
   "source": [
    "mean_kern = SEMagmaKernel(length_scale=jnp.array(.3), variance=jnp.array(1.))\n",
    "\n",
    "key, subkey = jax.random.split(key)\n",
    "distinct_length_scales = jax.random.uniform(subkey, (padded_outputs.shape[0],), jnp.float64, .1, 1)\n",
    "task_kern = SEMagmaKernel(length_scale=distinct_length_scales, variance=jnp.array(1.))"
   ],
   "id": "df22a4acbb8bf863",
   "outputs": [],
   "execution_count": 15
  },
  {
   "metadata": {
    "ExecuteTime": {
     "end_time": "2025-03-12T13:16:02.466673Z",
     "start_time": "2025-03-12T13:16:02.458327Z"
    }
   },
   "cell_type": "code",
   "source": "distinct_length_scales.shape",
   "id": "6c973df2c8c5b196",
   "outputs": [
    {
     "data": {
      "text/plain": [
       "(200,)"
      ]
     },
     "execution_count": 19,
     "metadata": {},
     "output_type": "execute_result"
    }
   ],
   "execution_count": 19
  },
  {
   "metadata": {
    "ExecuteTime": {
     "end_time": "2025-03-12T13:14:37.127053Z",
     "start_time": "2025-03-12T13:14:36.932186Z"
    }
   },
   "cell_type": "code",
   "source": "post_mean, post_cov = hyperpost(padded_inputs, padded_outputs, masks, jnp.array(0.), mean_kern, task_kern, all_inputs=all_inputs)",
   "id": "5a9011528d2e18cc",
   "outputs": [],
   "execution_count": 16
  },
  {
   "metadata": {
    "ExecuteTime": {
     "end_time": "2025-03-12T13:14:38.495187Z",
     "start_time": "2025-03-12T13:14:37.447775Z"
    }
   },
   "cell_type": "code",
   "source": "new_mean_kern, new_task_kern = optimise_hyperparameters(mean_kern, task_kern, padded_inputs, padded_outputs, all_inputs, prior_mean, post_mean, post_cov, masks, nugget=nugget)",
   "id": "18cec3e4318546d5",
   "outputs": [
    {
     "ename": "ValueError",
     "evalue": "Parameter length_scale must be a scalar or a 1D array, got shape (10, 200).",
     "output_type": "error",
     "traceback": [
      "\u001B[0;31m---------------------------------------------------------------------------\u001B[0m",
      "\u001B[0;31mValueError\u001B[0m                                Traceback (most recent call last)",
      "Cell \u001B[0;32mIn[17], line 1\u001B[0m\n\u001B[0;32m----> 1\u001B[0m new_mean_kern, new_task_kern \u001B[38;5;241m=\u001B[39m optimise_hyperparameters(mean_kern, task_kern, padded_inputs, padded_outputs, all_inputs, prior_mean, post_mean, post_cov, masks, nugget\u001B[38;5;241m=\u001B[39mnugget)\n",
      "File \u001B[0;32m~/Documents/Work/MagmaClustPy/MagmaClustPy/hp_optimisation.py:50\u001B[0m, in \u001B[0;36moptimise_hyperparameters\u001B[0;34m(mean_kernel, task_kernel, inputs, outputs, all_inputs, prior_mean, post_mean, post_cov, masks, nugget)\u001B[0m\n\u001B[1;32m     46\u001B[0m task_opt \u001B[38;5;241m=\u001B[39m optax\u001B[38;5;241m.\u001B[39mlbfgs()\n\u001B[1;32m     47\u001B[0m task_fun_wrapper \u001B[38;5;241m=\u001B[39m \u001B[38;5;28;01mlambda\u001B[39;00m kern: magma_neg_likelihood(kern, inputs, outputs, prior_mean, post_cov, mask\u001B[38;5;241m=\u001B[39mmasks,\n\u001B[1;32m     48\u001B[0m                                                      nugget\u001B[38;5;241m=\u001B[39mnugget)\u001B[38;5;241m.\u001B[39msum()\n\u001B[0;32m---> 50\u001B[0m new_task_kernel, _ \u001B[38;5;241m=\u001B[39m run_opt(task_kernel, task_fun_wrapper, task_opt, max_iter\u001B[38;5;241m=\u001B[39m\u001B[38;5;241m100\u001B[39m, tol\u001B[38;5;241m=\u001B[39m\u001B[38;5;241m1e-2\u001B[39m)\n\u001B[1;32m     52\u001B[0m \u001B[38;5;28;01mreturn\u001B[39;00m new_mean_kernel, new_task_kernel\n",
      "File \u001B[0;32m~/Documents/Work/MagmaClustPy/MagmaClustPy/hp_optimisation.py:27\u001B[0m, in \u001B[0;36mrun_opt\u001B[0;34m(init_params, fun, opt, max_iter, tol)\u001B[0m\n\u001B[1;32m     24\u001B[0m \terr \u001B[38;5;241m=\u001B[39m otu\u001B[38;5;241m.\u001B[39mtree_l2_norm(grad)\n\u001B[1;32m     25\u001B[0m \t\u001B[38;5;28;01mreturn\u001B[39;00m (iter_num \u001B[38;5;241m==\u001B[39m \u001B[38;5;241m0\u001B[39m) \u001B[38;5;241m|\u001B[39m ((iter_num \u001B[38;5;241m<\u001B[39m max_iter) \u001B[38;5;241m&\u001B[39m (err \u001B[38;5;241m>\u001B[39m\u001B[38;5;241m=\u001B[39m tol))\n\u001B[0;32m---> 27\u001B[0m init_carry \u001B[38;5;241m=\u001B[39m (init_params, opt\u001B[38;5;241m.\u001B[39minit(init_params))\n\u001B[1;32m     28\u001B[0m final_params, final_state \u001B[38;5;241m=\u001B[39m jax\u001B[38;5;241m.\u001B[39mlax\u001B[38;5;241m.\u001B[39mwhile_loop(\n\u001B[1;32m     29\u001B[0m \tcontinuing_criterion, step, init_carry\n\u001B[1;32m     30\u001B[0m )\n\u001B[1;32m     31\u001B[0m \u001B[38;5;28;01mreturn\u001B[39;00m final_params, final_state\n",
      "File \u001B[0;32m/opt/anaconda3/envs/MagmaClustPy/lib/python3.12/site-packages/optax/transforms/_combining.py:64\u001B[0m, in \u001B[0;36mchain.<locals>.init_fn\u001B[0;34m(params)\u001B[0m\n\u001B[1;32m     63\u001B[0m \u001B[38;5;28;01mdef\u001B[39;00m \u001B[38;5;21minit_fn\u001B[39m(params):\n\u001B[0;32m---> 64\u001B[0m   \u001B[38;5;28;01mreturn\u001B[39;00m \u001B[38;5;28mtuple\u001B[39m(fn(params) \u001B[38;5;28;01mfor\u001B[39;00m fn \u001B[38;5;129;01min\u001B[39;00m init_fns)\n",
      "File \u001B[0;32m/opt/anaconda3/envs/MagmaClustPy/lib/python3.12/site-packages/optax/transforms/_combining.py:64\u001B[0m, in \u001B[0;36m<genexpr>\u001B[0;34m(.0)\u001B[0m\n\u001B[1;32m     63\u001B[0m \u001B[38;5;28;01mdef\u001B[39;00m \u001B[38;5;21minit_fn\u001B[39m(params):\n\u001B[0;32m---> 64\u001B[0m   \u001B[38;5;28;01mreturn\u001B[39;00m \u001B[38;5;28mtuple\u001B[39m(fn(params) \u001B[38;5;28;01mfor\u001B[39;00m fn \u001B[38;5;129;01min\u001B[39;00m init_fns)\n",
      "File \u001B[0;32m/opt/anaconda3/envs/MagmaClustPy/lib/python3.12/site-packages/optax/_src/transform.py:1640\u001B[0m, in \u001B[0;36mscale_by_lbfgs.<locals>.init_fn\u001B[0;34m(params)\u001B[0m\n\u001B[1;32m   1633\u001B[0m \u001B[38;5;28;01mdef\u001B[39;00m \u001B[38;5;21minit_fn\u001B[39m(params: base\u001B[38;5;241m.\u001B[39mParams) \u001B[38;5;241m-\u001B[39m\u001B[38;5;241m>\u001B[39m ScaleByLBFGSState:\n\u001B[1;32m   1634\u001B[0m   \u001B[38;5;66;03m# diff_params_memory and diff_updates_memory represent tuple/list of trees\u001B[39;00m\n\u001B[1;32m   1635\u001B[0m   \u001B[38;5;66;03m# Since we cannot access the element of a tuple using a traced index such\u001B[39;00m\n\u001B[0;32m   (...)\u001B[0m\n\u001B[1;32m   1638\u001B[0m   \u001B[38;5;66;03m# represented by e.g. diff_params_memory through the ith stacked\u001B[39;00m\n\u001B[1;32m   1639\u001B[0m   \u001B[38;5;66;03m# element in the leaves, see update_fn below for practical examples.\u001B[39;00m\n\u001B[0;32m-> 1640\u001B[0m   stacked_zero_params \u001B[38;5;241m=\u001B[39m jax\u001B[38;5;241m.\u001B[39mtree\u001B[38;5;241m.\u001B[39mmap(\n\u001B[1;32m   1641\u001B[0m       \u001B[38;5;28;01mlambda\u001B[39;00m leaf: jnp\u001B[38;5;241m.\u001B[39mzeros((memory_size,) \u001B[38;5;241m+\u001B[39m leaf\u001B[38;5;241m.\u001B[39mshape, dtype\u001B[38;5;241m=\u001B[39mleaf\u001B[38;5;241m.\u001B[39mdtype),\n\u001B[1;32m   1642\u001B[0m       params,\n\u001B[1;32m   1643\u001B[0m   )\n\u001B[1;32m   1644\u001B[0m   \u001B[38;5;28;01mreturn\u001B[39;00m ScaleByLBFGSState(\n\u001B[1;32m   1645\u001B[0m       count\u001B[38;5;241m=\u001B[39mjnp\u001B[38;5;241m.\u001B[39masarray(\u001B[38;5;241m0\u001B[39m, dtype\u001B[38;5;241m=\u001B[39mjnp\u001B[38;5;241m.\u001B[39mint32),\n\u001B[1;32m   1646\u001B[0m       params\u001B[38;5;241m=\u001B[39motu\u001B[38;5;241m.\u001B[39mtree_zeros_like(params),\n\u001B[0;32m   (...)\u001B[0m\n\u001B[1;32m   1650\u001B[0m       weights_memory\u001B[38;5;241m=\u001B[39mjnp\u001B[38;5;241m.\u001B[39mzeros(memory_size),\n\u001B[1;32m   1651\u001B[0m   )\n",
      "File \u001B[0;32m/opt/anaconda3/envs/MagmaClustPy/lib/python3.12/site-packages/jax/_src/tree.py:155\u001B[0m, in \u001B[0;36mmap\u001B[0;34m(f, tree, is_leaf, *rest)\u001B[0m\n\u001B[1;32m    115\u001B[0m \u001B[38;5;28;01mdef\u001B[39;00m \u001B[38;5;21mmap\u001B[39m(f: Callable[\u001B[38;5;241m.\u001B[39m\u001B[38;5;241m.\u001B[39m\u001B[38;5;241m.\u001B[39m, Any],\n\u001B[1;32m    116\u001B[0m         tree: Any,\n\u001B[1;32m    117\u001B[0m         \u001B[38;5;241m*\u001B[39mrest: Any,\n\u001B[1;32m    118\u001B[0m         is_leaf: Callable[[Any], \u001B[38;5;28mbool\u001B[39m] \u001B[38;5;241m|\u001B[39m \u001B[38;5;28;01mNone\u001B[39;00m \u001B[38;5;241m=\u001B[39m \u001B[38;5;28;01mNone\u001B[39;00m) \u001B[38;5;241m-\u001B[39m\u001B[38;5;241m>\u001B[39m Any:\n\u001B[1;32m    119\u001B[0m \u001B[38;5;250m  \u001B[39m\u001B[38;5;124;03m\"\"\"Maps a multi-input function over pytree args to produce a new pytree.\u001B[39;00m\n\u001B[1;32m    120\u001B[0m \n\u001B[1;32m    121\u001B[0m \u001B[38;5;124;03m  Args:\u001B[39;00m\n\u001B[0;32m   (...)\u001B[0m\n\u001B[1;32m    153\u001B[0m \u001B[38;5;124;03m    - :func:`jax.tree.reduce`\u001B[39;00m\n\u001B[1;32m    154\u001B[0m \u001B[38;5;124;03m  \"\"\"\u001B[39;00m\n\u001B[0;32m--> 155\u001B[0m   \u001B[38;5;28;01mreturn\u001B[39;00m tree_util\u001B[38;5;241m.\u001B[39mtree_map(f, tree, \u001B[38;5;241m*\u001B[39mrest, is_leaf\u001B[38;5;241m=\u001B[39mis_leaf)\n",
      "File \u001B[0;32m/opt/anaconda3/envs/MagmaClustPy/lib/python3.12/site-packages/jax/_src/tree_util.py:358\u001B[0m, in \u001B[0;36mtree_map\u001B[0;34m(f, tree, is_leaf, *rest)\u001B[0m\n\u001B[1;32m    356\u001B[0m leaves, treedef \u001B[38;5;241m=\u001B[39m tree_flatten(tree, is_leaf)\n\u001B[1;32m    357\u001B[0m all_leaves \u001B[38;5;241m=\u001B[39m [leaves] \u001B[38;5;241m+\u001B[39m [treedef\u001B[38;5;241m.\u001B[39mflatten_up_to(r) \u001B[38;5;28;01mfor\u001B[39;00m r \u001B[38;5;129;01min\u001B[39;00m rest]\n\u001B[0;32m--> 358\u001B[0m \u001B[38;5;28;01mreturn\u001B[39;00m treedef\u001B[38;5;241m.\u001B[39munflatten(f(\u001B[38;5;241m*\u001B[39mxs) \u001B[38;5;28;01mfor\u001B[39;00m xs \u001B[38;5;129;01min\u001B[39;00m \u001B[38;5;28mzip\u001B[39m(\u001B[38;5;241m*\u001B[39mall_leaves))\n",
      "File \u001B[0;32m~/Documents/Work/MagmaClustPy/MagmaClustPy/kernels/AbstractKernel.py:66\u001B[0m, in \u001B[0;36mAbstractKernel.tree_unflatten\u001B[0;34m(cls, _, children)\u001B[0m\n\u001B[1;32m     60\u001B[0m \u001B[38;5;129m@classmethod\u001B[39m\n\u001B[1;32m     61\u001B[0m \u001B[38;5;28;01mdef\u001B[39;00m \u001B[38;5;21mtree_unflatten\u001B[39m(\u001B[38;5;28mcls\u001B[39m, _, children):\n\u001B[1;32m     62\u001B[0m \t\u001B[38;5;66;03m# This class being abstract, this function fails when called on an \"abstract instance\",\u001B[39;00m\n\u001B[1;32m     63\u001B[0m \t\u001B[38;5;66;03m# as we don't know the number of parameters the constructor expects, yet we send it children.\u001B[39;00m\n\u001B[1;32m     64\u001B[0m \t\u001B[38;5;66;03m# On a subclass, this will work as expected as long as the constructor has a clear number of\u001B[39;00m\n\u001B[1;32m     65\u001B[0m \t\u001B[38;5;66;03m# kwargs as parameters.\u001B[39;00m\n\u001B[0;32m---> 66\u001B[0m \t\u001B[38;5;28;01mreturn\u001B[39;00m \u001B[38;5;28mcls\u001B[39m(\u001B[38;5;241m*\u001B[39mchildren)\n",
      "File \u001B[0;32m~/Documents/Work/MagmaClustPy/MagmaClustPy/kernels/SEMagmaKernel.py:15\u001B[0m, in \u001B[0;36mSEMagmaKernel.__init__\u001B[0;34m(self, length_scale, variance)\u001B[0m\n\u001B[1;32m     13\u001B[0m \u001B[38;5;28;01mif\u001B[39;00m variance \u001B[38;5;129;01mis\u001B[39;00m \u001B[38;5;28;01mNone\u001B[39;00m:\n\u001B[1;32m     14\u001B[0m \tvariance \u001B[38;5;241m=\u001B[39m jnp\u001B[38;5;241m.\u001B[39marray([\u001B[38;5;241m1.\u001B[39m])\n\u001B[0;32m---> 15\u001B[0m \u001B[38;5;28msuper\u001B[39m()\u001B[38;5;241m.\u001B[39m\u001B[38;5;21m__init__\u001B[39m(length_scale\u001B[38;5;241m=\u001B[39mlength_scale, variance\u001B[38;5;241m=\u001B[39mvariance)\n",
      "File \u001B[0;32m~/Documents/Work/MagmaClustPy/MagmaClustPy/kernels/AbstractKernel.py:15\u001B[0m, in \u001B[0;36mAbstractKernel.__init__\u001B[0;34m(self, **kwargs)\u001B[0m\n\u001B[1;32m     13\u001B[0m \t\u001B[38;5;28;01melse\u001B[39;00m:  \u001B[38;5;66;03m# Check dimensionality\u001B[39;00m\n\u001B[1;32m     14\u001B[0m \t\t\u001B[38;5;28;01mif\u001B[39;00m \u001B[38;5;28mlen\u001B[39m(value\u001B[38;5;241m.\u001B[39mshape) \u001B[38;5;241m>\u001B[39m \u001B[38;5;241m1\u001B[39m:\n\u001B[0;32m---> 15\u001B[0m \t\t\t\u001B[38;5;28;01mraise\u001B[39;00m \u001B[38;5;167;01mValueError\u001B[39;00m(\u001B[38;5;124mf\u001B[39m\u001B[38;5;124m\"\u001B[39m\u001B[38;5;124mParameter \u001B[39m\u001B[38;5;132;01m{\u001B[39;00mkey\u001B[38;5;132;01m}\u001B[39;00m\u001B[38;5;124m must be a scalar or a 1D array, got shape \u001B[39m\u001B[38;5;132;01m{\u001B[39;00mvalue\u001B[38;5;241m.\u001B[39mshape\u001B[38;5;132;01m}\u001B[39;00m\u001B[38;5;124m.\u001B[39m\u001B[38;5;124m\"\u001B[39m)\n\u001B[1;32m     17\u001B[0m \u001B[38;5;66;03m# Register hyperparameters in *kwargs* as instance attributes\u001B[39;00m\n\u001B[1;32m     18\u001B[0m \u001B[38;5;28mself\u001B[39m\u001B[38;5;241m.\u001B[39m\u001B[38;5;18m__dict__\u001B[39m\u001B[38;5;241m.\u001B[39mupdate(kwargs)\n",
      "\u001B[0;31mValueError\u001B[0m: Parameter length_scale must be a scalar or a 1D array, got shape (10, 200)."
     ]
    }
   ],
   "execution_count": 17
  },
  {
   "metadata": {
    "ExecuteTime": {
     "end_time": "2025-03-12T13:14:38.520511Z",
     "start_time": "2025-03-10T15:23:16.775868Z"
    }
   },
   "cell_type": "code",
   "outputs": [
    {
     "data": {
      "text/plain": [
       "(Array(True, dtype=bool), Array(True, dtype=bool))"
      ]
     },
     "execution_count": 10,
     "metadata": {},
     "output_type": "execute_result"
    }
   ],
   "execution_count": 10,
   "source": "# jnp.allclose(mean_1, mean_2), jnp.allclose(cov_1, cov_2)",
   "id": "f025d2119e3d34bf"
  },
  {
   "metadata": {
    "ExecuteTime": {
     "end_time": "2025-03-12T13:14:38.536261Z",
     "start_time": "2025-03-10T15:23:16.842466Z"
    }
   },
   "cell_type": "code",
   "outputs": [
    {
     "data": {
      "text/plain": [
       "(Array(0., dtype=float64), Array(0., dtype=float64))"
      ]
     },
     "execution_count": 11,
     "metadata": {},
     "output_type": "execute_result"
    }
   ],
   "execution_count": 11,
   "source": "# jnp.mean(jnp.abs(mean_1 - mean_2)), jnp.mean(jnp.abs(cov_1 - cov_2))",
   "id": "5dfc81aae2aae564"
  },
  {
   "metadata": {
    "ExecuteTime": {
     "end_time": "2025-03-12T13:14:38.549372Z",
     "start_time": "2025-03-10T15:23:16.977017Z"
    }
   },
   "cell_type": "code",
   "outputs": [
    {
     "name": "stdout",
     "output_type": "stream",
     "text": [
      "292 ms ± 10.3 ms per loop (mean ± std. dev. of 5 runs, 5 loops each)\n"
     ]
    }
   ],
   "execution_count": 12,
   "source": [
    "%%timeit -n 3 -r 2\n",
    "optimise_hyperparameters(mean_kern, task_kern, padded_inputs, padded_outputs, all_inputs, prior_mean, post_mean, post_cov, masks, nugget=nugget)[0].length_scale.block_until_ready()"
   ],
   "id": "15af3aa6cea4af3c"
  },
  {
   "metadata": {},
   "cell_type": "code",
   "outputs": [],
   "execution_count": null,
   "source": [
    "# %%timeit -n 5 -r 5\n",
    "# _hyperpost(padded_inputs, padded_outputs, masks, jnp.array(0.), mean_kern, task_kern, all_inputs=all_inputs)[0].block_until_ready()"
   ],
   "id": "68fed53ab2afea2d"
  },
  {
   "metadata": {},
   "cell_type": "markdown",
   "source": "### Distinct Input, Common HP",
   "id": "20b483a9ffe80c86"
  },
  {
   "metadata": {
    "ExecuteTime": {
     "end_time": "2025-03-12T13:14:38.555473Z",
     "start_time": "2025-03-10T15:23:49.079553Z"
    }
   },
   "cell_type": "code",
   "outputs": [
    {
     "data": {
      "text/plain": [
       "((401,), (200, 401))"
      ]
     },
     "execution_count": 22,
     "metadata": {},
     "output_type": "execute_result"
    }
   ],
   "execution_count": 22,
   "source": [
    "db = pd.read_csv(f\"./dummy_datasets/{test_db_size}_distinct_input_common_hp.csv\")\n",
    "all_inputs, padded_inputs, padded_outputs, masks = preprocess_db(db)\n",
    "all_inputs.shape, padded_inputs.shape"
   ],
   "id": "b28169fa8ce19f32"
  },
  {
   "metadata": {
    "ExecuteTime": {
     "end_time": "2025-03-12T13:14:38.561640Z",
     "start_time": "2025-03-10T15:23:50.252732Z"
    }
   },
   "cell_type": "code",
   "outputs": [],
   "execution_count": 23,
   "source": [
    "mean_kern = SEMagmaKernel(length_scale=jnp.array(.3), variance=jnp.array(1.))\n",
    "task_kern = SEMagmaKernel(length_scale=jnp.array(.6), variance=jnp.array(1.))"
   ],
   "id": "4912ddbe3e580dd7"
  },
  {
   "metadata": {
    "ExecuteTime": {
     "end_time": "2025-03-12T13:14:38.562294Z",
     "start_time": "2025-03-10T15:23:50.266639Z"
    }
   },
   "cell_type": "code",
   "outputs": [],
   "execution_count": 24,
   "source": "post_mean, post_cov = hyperpost(padded_inputs, padded_outputs, masks, jnp.array(0.), mean_kern, task_kern, all_inputs=all_inputs)",
   "id": "18be768ce82808b0"
  },
  {
   "metadata": {
    "ExecuteTime": {
     "end_time": "2025-03-12T13:14:38.562882Z",
     "start_time": "2025-03-10T15:23:16.199842Z"
    }
   },
   "cell_type": "code",
   "outputs": [],
   "execution_count": 9,
   "source": "new_mean_kern, new_task_kern = optimise_hyperparameters(mean_kern, task_kern, padded_inputs, padded_outputs, all_inputs, prior_mean, post_mean, post_cov, masks, nugget=nugget)",
   "id": "aab6843f26067484"
  },
  {
   "metadata": {
    "ExecuteTime": {
     "end_time": "2025-03-12T13:14:38.563032Z",
     "start_time": "2025-03-10T15:23:16.775868Z"
    }
   },
   "cell_type": "code",
   "outputs": [
    {
     "data": {
      "text/plain": [
       "(Array(True, dtype=bool), Array(True, dtype=bool))"
      ]
     },
     "execution_count": 10,
     "metadata": {},
     "output_type": "execute_result"
    }
   ],
   "execution_count": 10,
   "source": "# jnp.allclose(mean_1, mean_2), jnp.allclose(cov_1, cov_2)",
   "id": "c582947de2bf11e5"
  },
  {
   "metadata": {
    "ExecuteTime": {
     "end_time": "2025-03-12T13:14:38.563548Z",
     "start_time": "2025-03-10T15:23:16.842466Z"
    }
   },
   "cell_type": "code",
   "outputs": [
    {
     "data": {
      "text/plain": [
       "(Array(0., dtype=float64), Array(0., dtype=float64))"
      ]
     },
     "execution_count": 11,
     "metadata": {},
     "output_type": "execute_result"
    }
   ],
   "execution_count": 11,
   "source": "# jnp.mean(jnp.abs(mean_1 - mean_2)), jnp.mean(jnp.abs(cov_1 - cov_2))",
   "id": "1b84c1efb517c7ed"
  },
  {
   "metadata": {
    "ExecuteTime": {
     "end_time": "2025-03-12T13:14:38.563738Z",
     "start_time": "2025-03-10T15:23:16.977017Z"
    }
   },
   "cell_type": "code",
   "outputs": [
    {
     "name": "stdout",
     "output_type": "stream",
     "text": [
      "292 ms ± 10.3 ms per loop (mean ± std. dev. of 5 runs, 5 loops each)\n"
     ]
    }
   ],
   "execution_count": 12,
   "source": [
    "%%timeit -n 3 -r 2\n",
    "optimise_hyperparameters(mean_kern, task_kern, padded_inputs, padded_outputs, all_inputs, prior_mean, post_mean, post_cov, masks, nugget=nugget)[0].length_scale.block_until_ready()"
   ],
   "id": "2ab712ddc303572e"
  },
  {
   "metadata": {},
   "cell_type": "code",
   "outputs": [],
   "execution_count": null,
   "source": [
    "# %%timeit -n 5 -r 5\n",
    "# _hyperpost(padded_inputs, padded_outputs, masks, jnp.array(0.), mean_kern, task_kern, all_inputs=all_inputs)[0].block_until_ready()"
   ],
   "id": "1e19e64ecef643eb"
  },
  {
   "metadata": {},
   "cell_type": "markdown",
   "source": "### Distinct Input, Distinct HP",
   "id": "83204767e8354b6f"
  },
  {
   "metadata": {
    "ExecuteTime": {
     "end_time": "2025-03-12T13:14:38.564092Z",
     "start_time": "2025-03-10T15:24:36.573771Z"
    }
   },
   "cell_type": "code",
   "outputs": [
    {
     "data": {
      "text/plain": [
       "((401,), (200, 401))"
      ]
     },
     "execution_count": 30,
     "metadata": {},
     "output_type": "execute_result"
    }
   ],
   "execution_count": 30,
   "source": [
    "db = pd.read_csv(f\"./dummy_datasets/{test_db_size}_distinct_input_distinct_hp.csv\")\n",
    "all_inputs, padded_inputs, padded_outputs, masks = preprocess_db(db)\n",
    "all_inputs.shape, padded_inputs.shape"
   ],
   "id": "60ba0c8f3de26ee8"
  },
  {
   "metadata": {
    "ExecuteTime": {
     "end_time": "2025-03-12T13:14:38.564406Z",
     "start_time": "2025-03-10T15:24:37.497611Z"
    }
   },
   "cell_type": "code",
   "outputs": [],
   "execution_count": 31,
   "source": [
    "mean_kern = SEMagmaKernel(length_scale=jnp.array(.3), variance=jnp.array(1.))\n",
    "\n",
    "key, subkey = jax.random.split(key)\n",
    "distinct_length_scales = jax.random.uniform(subkey, (padded_outputs.shape[0],), jnp.float64, .1, 1)\n",
    "task_kern = SEMagmaKernel(length_scale=distinct_length_scales, variance=jnp.array(1.))"
   ],
   "id": "ae73ef7ef78c2516"
  },
  {
   "metadata": {
    "ExecuteTime": {
     "end_time": "2025-03-12T13:14:38.564644Z",
     "start_time": "2025-03-10T15:24:37.510817Z"
    }
   },
   "cell_type": "code",
   "outputs": [],
   "execution_count": 32,
   "source": "post_mean, post_cov = hyperpost(padded_inputs, padded_outputs, masks, jnp.array(0.), mean_kern, task_kern, all_inputs=all_inputs)",
   "id": "f152d0c8ccd59097"
  },
  {
   "metadata": {
    "ExecuteTime": {
     "end_time": "2025-03-12T13:14:38.564792Z",
     "start_time": "2025-03-10T15:23:16.199842Z"
    }
   },
   "cell_type": "code",
   "outputs": [],
   "execution_count": 9,
   "source": "new_mean_kern, new_task_kern = optimise_hyperparameters(mean_kern, task_kern, padded_inputs, padded_outputs, all_inputs, prior_mean, post_mean, post_cov, masks, nugget=nugget)",
   "id": "bf2292b0419fdeaf"
  },
  {
   "metadata": {
    "ExecuteTime": {
     "end_time": "2025-03-12T13:14:38.564879Z",
     "start_time": "2025-03-10T15:23:16.775868Z"
    }
   },
   "cell_type": "code",
   "outputs": [
    {
     "data": {
      "text/plain": [
       "(Array(True, dtype=bool), Array(True, dtype=bool))"
      ]
     },
     "execution_count": 10,
     "metadata": {},
     "output_type": "execute_result"
    }
   ],
   "execution_count": 10,
   "source": "# jnp.allclose(mean_1, mean_2), jnp.allclose(cov_1, cov_2)",
   "id": "5c2da4da260a1e53"
  },
  {
   "metadata": {
    "ExecuteTime": {
     "end_time": "2025-03-12T13:14:38.565128Z",
     "start_time": "2025-03-10T15:23:16.842466Z"
    }
   },
   "cell_type": "code",
   "outputs": [
    {
     "data": {
      "text/plain": [
       "(Array(0., dtype=float64), Array(0., dtype=float64))"
      ]
     },
     "execution_count": 11,
     "metadata": {},
     "output_type": "execute_result"
    }
   ],
   "execution_count": 11,
   "source": "# jnp.mean(jnp.abs(mean_1 - mean_2)), jnp.mean(jnp.abs(cov_1 - cov_2))",
   "id": "2810b31665ec5b2e"
  },
  {
   "metadata": {
    "ExecuteTime": {
     "end_time": "2025-03-12T13:14:38.565372Z",
     "start_time": "2025-03-10T15:23:16.977017Z"
    }
   },
   "cell_type": "code",
   "outputs": [
    {
     "name": "stdout",
     "output_type": "stream",
     "text": [
      "292 ms ± 10.3 ms per loop (mean ± std. dev. of 5 runs, 5 loops each)\n"
     ]
    }
   ],
   "execution_count": 12,
   "source": [
    "%%timeit -n 3 -r 2\n",
    "optimise_hyperparameters(mean_kern, task_kern, padded_inputs, padded_outputs, all_inputs, prior_mean, post_mean, post_cov, masks, nugget=nugget)[0].length_scale.block_until_ready()"
   ],
   "id": "f12f028c85ae8365"
  },
  {
   "metadata": {},
   "cell_type": "code",
   "outputs": [],
   "execution_count": null,
   "source": [
    "# %%timeit -n 5 -r 5\n",
    "# _hyperpost(padded_inputs, padded_outputs, masks, jnp.array(0.), mean_kern, task_kern, all_inputs=all_inputs)[0].block_until_ready()"
   ],
   "id": "3d455c074b47e7e"
  },
  {
   "metadata": {},
   "cell_type": "markdown",
   "source": [
    "---\n",
    "## Conclusion"
   ],
   "id": "13b12c3f2e1d55d9"
  },
  {
   "metadata": {
    "ExecuteTime": {
     "end_time": "2025-03-12T13:14:38.565867Z",
     "start_time": "2025-03-11T14:26:37.229654Z"
    }
   },
   "cell_type": "code",
   "outputs": [],
   "execution_count": null,
   "source": "",
   "id": "9d1049db31416eda"
  },
  {
   "metadata": {},
   "cell_type": "markdown",
   "source": "---",
   "id": "5e278787af3818b9"
  }
 ],
 "metadata": {
  "kernelspec": {
   "display_name": "Python 3",
   "language": "python",
   "name": "python3"
  },
  "language_info": {
   "codemirror_mode": {
    "name": "ipython",
    "version": 2
   },
   "file_extension": ".py",
   "mimetype": "text/x-python",
   "name": "python",
   "nbconvert_exporter": "python",
   "pygments_lexer": "ipython2",
   "version": "2.7.6"
  }
 },
 "nbformat": 4,
 "nbformat_minor": 5
}
