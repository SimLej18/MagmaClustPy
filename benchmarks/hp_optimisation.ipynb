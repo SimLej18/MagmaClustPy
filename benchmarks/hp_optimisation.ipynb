{
 "cells": [
  {
   "metadata": {},
   "cell_type": "markdown",
   "source": [
    "# Benchmarks - Hyper-parameters optimisation\n",
    "\n",
    "**Main considerations when implementing HPs optimisation**\n",
    "- we made kernels pytrees, so we should be able to compute gradient and optimise for them directly\n"
   ],
   "id": "b3c7fb13dd0f50f4"
  },
  {
   "metadata": {},
   "cell_type": "markdown",
   "source": [
    "---\n",
    "## Setup"
   ],
   "id": "e79b3311ad31df3f"
  },
  {
   "metadata": {
    "ExecuteTime": {
     "end_time": "2025-03-13T11:58:55.870063Z",
     "start_time": "2025-03-13T11:58:55.867145Z"
    }
   },
   "cell_type": "code",
   "source": [
    "# Standard library\n",
    "import os\n",
    "from typing import NamedTuple\n",
    "\n",
    "os.environ['JAX_ENABLE_X64'] = \"True\""
   ],
   "id": "a6a833855c1b48e9",
   "outputs": [],
   "execution_count": 1
  },
  {
   "metadata": {
    "ExecuteTime": {
     "end_time": "2025-03-13T11:58:56.642134Z",
     "start_time": "2025-03-13T11:58:55.953096Z"
    }
   },
   "cell_type": "code",
   "source": [
    "# Third party\n",
    "import jax\n",
    "import jax.numpy as jnp\n",
    "import jax.random as jrd\n",
    "import optax\n",
    "import optax.tree_utils as otu\n",
    "import chex\n",
    "\n",
    "import numpy as np\n",
    "import pandas as pd"
   ],
   "id": "ac216c6509d3a07f",
   "outputs": [],
   "execution_count": 2
  },
  {
   "metadata": {
    "ExecuteTime": {
     "end_time": "2025-03-13T11:58:56.712685Z",
     "start_time": "2025-03-13T11:58:56.647067Z"
    }
   },
   "cell_type": "code",
   "source": [
    "# Local\n",
    "from MagmaClustPy.kernels import RBFKernel, SEMagmaKernel\n",
    "from MagmaClustPy.utils import preprocess_db\n",
    "from MagmaClustPy.hyperpost import hyperpost\n",
    "#from MagmaClustPy.hp_optimisation import optimise_hyperparameters\n",
    "from MagmaClustPy.likelihoods import magma_neg_likelihood"
   ],
   "id": "489423e8889c492d",
   "outputs": [],
   "execution_count": 3
  },
  {
   "metadata": {
    "ExecuteTime": {
     "end_time": "2025-03-13T11:58:56.757113Z",
     "start_time": "2025-03-13T11:58:56.720511Z"
    }
   },
   "cell_type": "code",
   "source": [
    "# Config\n",
    "key = jrd.PRNGKey(0)\n",
    "test_db_size = \"small\""
   ],
   "id": "3e5dc5f15ab33e1a",
   "outputs": [],
   "execution_count": 4
  },
  {
   "metadata": {},
   "cell_type": "markdown",
   "source": [
    "---\n",
    "## Data"
   ],
   "id": "ac6a128506dca90c"
  },
  {
   "metadata": {
    "ExecuteTime": {
     "end_time": "2025-03-13T11:58:56.763342Z",
     "start_time": "2025-03-13T11:58:56.761810Z"
    }
   },
   "cell_type": "code",
   "source": "",
   "id": "a6109c6bb00ed82f",
   "outputs": [],
   "execution_count": null
  },
  {
   "metadata": {},
   "cell_type": "markdown",
   "source": [
    "---\n",
    "## Current implementation"
   ],
   "id": "ecf3dcbf9770f1a9"
  },
  {
   "metadata": {
    "ExecuteTime": {
     "end_time": "2025-03-13T11:58:56.773810Z",
     "start_time": "2025-03-13T11:58:56.768291Z"
    }
   },
   "cell_type": "code",
   "source": [
    "# Taken from optax doc (https://optax.readthedocs.io/en/latest/_collections/examples/lbfgs.html#l-bfgs-solver)\n",
    "class InfoState(NamedTuple):\n",
    "\titer_num: chex.Numeric\n",
    "\n",
    "\n",
    "def print_info():\n",
    "\tdef init_fn(params):\n",
    "\t\tdel params\n",
    "\t\treturn InfoState(iter_num=0)\n",
    "\n",
    "\tdef update_fn(updates, state, params, *, value, grad, **extra_args):\n",
    "\t\tdel params, extra_args\n",
    "\n",
    "\t\tjax.debug.print(\n",
    "\t\t\t'Iteration: {i}, Value: {v}, Gradient norm: {e}',\n",
    "\t\t\ti=state.iter_num,\n",
    "\t\t\tv=value,\n",
    "\t\t\te=otu.tree_l2_norm(grad),\n",
    "\t\t)\n",
    "\t\treturn updates, InfoState(iter_num=state.iter_num + 1)\n",
    "\n",
    "\treturn optax.GradientTransformationExtraArgs(init_fn, update_fn)\n",
    "\n",
    "\n",
    "# Adapted from optax doc (https://optax.readthedocs.io/en/latest/_collections/examples/lbfgs.html#l-bfgs-solver)\n",
    "def run_opt(init_params, fun, opt, max_iter, tol):\n",
    "\tvalue_and_grad_fun = optax.value_and_grad_from_state(fun)\n",
    "\n",
    "\tdef step(carry):\n",
    "\t\tparams, state, prev_llh = carry\n",
    "\t\tvalue, grad = value_and_grad_fun(params, state=state)\n",
    "\t\tupdates, state = opt.update(grad, state, params, value=value, grad=grad, value_fn=fun)\n",
    "\t\tparams = optax.apply_updates(params, updates)\n",
    "\t\treturn params, state, value\n",
    "\n",
    "\tdef continuing_criterion(carry):\n",
    "\t\t# tol is not computed on the gradients but on the difference between current and previous likelihoods, to\n",
    "\t\t# prevent overfitting on ill-defined likelihood functions where variance can blow up.\n",
    "\t\t_, state, prev_llh = carry\n",
    "\t\titer_num = otu.tree_get(state, 'count')\n",
    "\t\tval = otu.tree_get(state, 'value')\n",
    "\t\tdiff = jnp.abs(val - prev_llh)\n",
    "\t\treturn (iter_num == 0) | ((iter_num < max_iter) & (diff >= tol))\n",
    "\n",
    "\tinit_carry = (init_params, opt.init(init_params),\n",
    "\t              jnp.array(jnp.inf))  # kernel params, initial state, first iter, previous likelihood\n",
    "\tfinal_params, final_state, final_llh = jax.lax.while_loop(\n",
    "\t\tcontinuing_criterion, step, init_carry\n",
    "\t)\n",
    "\treturn final_params, final_state, final_llh\n",
    "\n",
    "\n",
    "def optimise_hyperparameters(mean_kernel, task_kernel, inputs, outputs, all_inputs, prior_mean, post_mean, post_cov,\n",
    "                             masks, nugget=jnp.array(1e-10), max_iter=100, tol=1e-3, verbose=False):\n",
    "\t# Optimise mean kernel\n",
    "\tif verbose:\n",
    "\t\tmean_opt = optax.chain(print_info(), optax.lbfgs())\n",
    "\telse:\n",
    "\t\tmean_opt = optax.lbfgs()\n",
    "\tmean_fun_wrapper = lambda kern: magma_neg_likelihood(kern, all_inputs, prior_mean, post_mean, post_cov, mask=None,\n",
    "\t                                                     nugget=nugget)\n",
    "\n",
    "\tnew_mean_kernel, _, _ = run_opt(mean_kernel, mean_fun_wrapper, mean_opt, max_iter=max_iter, tol=tol)\n",
    "\n",
    "\t# Optimise task kernel\n",
    "\tif verbose:\n",
    "\t\ttask_opt = optax.chain(print_info(), optax.lbfgs())\n",
    "\telse:\n",
    "\t\ttask_opt = optax.lbfgs()\n",
    "\ttask_fun_wrapper = lambda kern: magma_neg_likelihood(kern, inputs, outputs, prior_mean, post_cov, mask=masks,\n",
    "\t                                                     nugget=nugget).sum()\n",
    "\n",
    "\tnew_task_kernel, _, _ = run_opt(task_kernel, task_fun_wrapper, task_opt, max_iter=max_iter, tol=tol)\n",
    "\n",
    "\treturn new_mean_kernel, new_task_kernel\n"
   ],
   "id": "e270d1fb4227c9e1",
   "outputs": [],
   "execution_count": 5
  },
  {
   "metadata": {},
   "cell_type": "markdown",
   "source": [
    "---\n",
    "## Custom implementation(s)"
   ],
   "id": "eb9741fdeac26cf1"
  },
  {
   "metadata": {
    "ExecuteTime": {
     "end_time": "2025-03-13T11:58:56.785737Z",
     "start_time": "2025-03-13T11:58:56.784436Z"
    }
   },
   "cell_type": "code",
   "source": "",
   "id": "547677121acc1215",
   "outputs": [],
   "execution_count": null
  },
  {
   "metadata": {},
   "cell_type": "markdown",
   "source": [
    "---\n",
    "## Comparison"
   ],
   "id": "4ca5a9878a1cb3d3"
  },
  {
   "metadata": {
    "ExecuteTime": {
     "end_time": "2025-03-13T11:58:56.810155Z",
     "start_time": "2025-03-13T11:58:56.793533Z"
    }
   },
   "cell_type": "code",
   "source": [
    "prior_mean = jnp.array(0)\n",
    "nugget = jnp.array(1e-10)"
   ],
   "id": "ffd445017b473b89",
   "outputs": [],
   "execution_count": 6
  },
  {
   "metadata": {},
   "cell_type": "markdown",
   "source": "### Common Input, Common HP",
   "id": "fd78cbfe819ddfa1"
  },
  {
   "metadata": {
    "ExecuteTime": {
     "end_time": "2025-03-13T11:58:57.312359Z",
     "start_time": "2025-03-13T11:58:56.818377Z"
    }
   },
   "cell_type": "code",
   "source": [
    "db = pd.read_csv(f\"./dummy_datasets/{test_db_size}_common_input_common_hp.csv\")\n",
    "all_inputs, padded_inputs, padded_outputs, masks = preprocess_db(db)\n",
    "all_inputs.shape, padded_inputs.shape"
   ],
   "id": "7ea422a4f5fd3d4d",
   "outputs": [
    {
     "data": {
      "text/plain": [
       "((15,), (20, 15))"
      ]
     },
     "execution_count": 7,
     "metadata": {},
     "output_type": "execute_result"
    }
   ],
   "execution_count": 7
  },
  {
   "metadata": {
    "ExecuteTime": {
     "end_time": "2025-03-13T11:58:57.331463Z",
     "start_time": "2025-03-13T11:58:57.328848Z"
    }
   },
   "cell_type": "code",
   "source": [
    "mean_kern = SEMagmaKernel(length_scale=jnp.array(.3), variance=jnp.array(1.))\n",
    "task_kern = SEMagmaKernel(length_scale=jnp.array(.6), variance=jnp.array(1.))"
   ],
   "id": "b84be4451fab310f",
   "outputs": [],
   "execution_count": 8
  },
  {
   "metadata": {
    "ExecuteTime": {
     "end_time": "2025-03-13T11:58:57.851840Z",
     "start_time": "2025-03-13T11:58:57.341544Z"
    }
   },
   "cell_type": "code",
   "source": "post_mean, post_cov = hyperpost(padded_inputs, padded_outputs, masks, jnp.array(0.), mean_kern, task_kern, all_inputs=all_inputs)",
   "id": "8acd23d0f6cc9f72",
   "outputs": [],
   "execution_count": 9
  },
  {
   "metadata": {
    "ExecuteTime": {
     "end_time": "2025-03-13T11:59:00.158976Z",
     "start_time": "2025-03-13T11:58:57.862971Z"
    }
   },
   "cell_type": "code",
   "source": "new_mean_kern, new_task_kern = optimise_hyperparameters(mean_kern, task_kern, padded_inputs, padded_outputs, all_inputs, prior_mean, post_mean, post_cov, masks, nugget=nugget, verbose=True)",
   "id": "2ed1ae4b497b01b7",
   "outputs": [
    {
     "name": "stdout",
     "output_type": "stream",
     "text": [
      "Iteration: 0, Value: 1088.8059707099683, Gradient norm: 1083.5718317034205\n",
      "Iteration: 1, Value: 412.13104179487385, Gradient norm: 387.0471430737794\n",
      "Iteration: 2, Value: 247.97383677138006, Gradient norm: 217.46216412345564\n",
      "Iteration: 3, Value: 138.26870194194757, Gradient norm: 102.20707751192019\n",
      "Iteration: 4, Value: 91.42961012748887, Gradient norm: 50.843206830962345\n",
      "Iteration: 5, Value: 68.80705807098248, Gradient norm: 24.111700148530847\n",
      "Iteration: 6, Value: 59.19113709675716, Gradient norm: 11.093214281074845\n",
      "Iteration: 7, Value: 55.52616623403778, Gradient norm: 4.754958469521489\n",
      "Iteration: 8, Value: 54.89939469111188, Gradient norm: 10.87976967787057\n",
      "Iteration: 9, Value: 54.25388373605932, Gradient norm: 1.0986602413817192\n",
      "Iteration: 10, Value: 54.23977621944245, Gradient norm: 0.48360126120269276\n",
      "Iteration: 11, Value: 54.237009371681104, Gradient norm: 0.01882526795878109\n"
     ]
    }
   ],
   "execution_count": 10
  },
  {
   "metadata": {
    "ExecuteTime": {
     "end_time": "2025-03-13T11:59:00.181727Z",
     "start_time": "2025-03-13T11:59:00.178980Z"
    }
   },
   "cell_type": "code",
   "source": "new_mean_kern, new_task_kern",
   "id": "ccf5ce2102a25d84",
   "outputs": [
    {
     "data": {
      "text/plain": [
       "(SEMagmaKernel(length_scale=0.9826130454639493, variance=6.151066513607268),\n",
       " SEMagmaKernel(length_scale=1.5999490215189538, variance=1.0100972453316084))"
      ]
     },
     "execution_count": 11,
     "metadata": {},
     "output_type": "execute_result"
    }
   ],
   "execution_count": 11
  },
  {
   "metadata": {
    "ExecuteTime": {
     "end_time": "2025-03-13T11:59:10.538333Z",
     "start_time": "2025-03-13T11:59:00.200131Z"
    }
   },
   "cell_type": "code",
   "source": [
    "%%timeit -n 3 -r 2\n",
    "optimise_hyperparameters(mean_kern, task_kern, padded_inputs, padded_outputs, all_inputs, prior_mean, post_mean, post_cov, masks, nugget=nugget)[0].length_scale.block_until_ready()"
   ],
   "id": "8b52b470f131915a",
   "outputs": [
    {
     "name": "stdout",
     "output_type": "stream",
     "text": [
      "1.72 s ± 25.3 ms per loop (mean ± std. dev. of 2 runs, 3 loops each)\n"
     ]
    }
   ],
   "execution_count": 12
  },
  {
   "metadata": {},
   "cell_type": "markdown",
   "source": "### Common Input, Distinct HP",
   "id": "ff736c7218c95092"
  },
  {
   "metadata": {
    "ExecuteTime": {
     "end_time": "2025-03-13T11:59:10.593786Z",
     "start_time": "2025-03-13T11:59:10.555201Z"
    }
   },
   "cell_type": "code",
   "source": [
    "db = pd.read_csv(f\"./dummy_datasets/{test_db_size}_common_input_distinct_hp.csv\")\n",
    "all_inputs, padded_inputs, padded_outputs, masks = preprocess_db(db)\n",
    "all_inputs.shape, padded_inputs.shape"
   ],
   "id": "f0b7e39f319c54b4",
   "outputs": [
    {
     "data": {
      "text/plain": [
       "((15,), (20, 15))"
      ]
     },
     "execution_count": 13,
     "metadata": {},
     "output_type": "execute_result"
    }
   ],
   "execution_count": 13
  },
  {
   "metadata": {
    "ExecuteTime": {
     "end_time": "2025-03-13T11:59:10.731551Z",
     "start_time": "2025-03-13T11:59:10.603819Z"
    }
   },
   "cell_type": "code",
   "source": [
    "mean_kern = SEMagmaKernel(length_scale=jnp.array(.3), variance=jnp.array(1.))\n",
    "\n",
    "key, subkey = jax.random.split(key)\n",
    "distinct_length_scales = jax.random.uniform(subkey, (padded_outputs.shape[0],), jnp.float64, .1, 1)\n",
    "task_kern = SEMagmaKernel(length_scale=distinct_length_scales, variance=jnp.array(1.))"
   ],
   "id": "df22a4acbb8bf863",
   "outputs": [],
   "execution_count": 14
  },
  {
   "metadata": {
    "ExecuteTime": {
     "end_time": "2025-03-13T11:59:10.744574Z",
     "start_time": "2025-03-13T11:59:10.742106Z"
    }
   },
   "cell_type": "code",
   "source": "distinct_length_scales.shape",
   "id": "6c973df2c8c5b196",
   "outputs": [
    {
     "data": {
      "text/plain": [
       "(20,)"
      ]
     },
     "execution_count": 15,
     "metadata": {},
     "output_type": "execute_result"
    }
   ],
   "execution_count": 15
  },
  {
   "metadata": {
    "ExecuteTime": {
     "end_time": "2025-03-13T11:59:11.050083Z",
     "start_time": "2025-03-13T11:59:10.757595Z"
    }
   },
   "cell_type": "code",
   "source": "post_mean, post_cov = hyperpost(padded_inputs, padded_outputs, masks, jnp.array(0.), mean_kern, task_kern, all_inputs=all_inputs)",
   "id": "5a9011528d2e18cc",
   "outputs": [],
   "execution_count": 16
  },
  {
   "metadata": {
    "ExecuteTime": {
     "end_time": "2025-03-13T11:59:13.347650Z",
     "start_time": "2025-03-13T11:59:11.059108Z"
    }
   },
   "cell_type": "code",
   "source": "new_mean_kern, new_task_kern = optimise_hyperparameters(mean_kern, task_kern, padded_inputs, padded_outputs, all_inputs, prior_mean, post_mean, post_cov, masks, nugget=nugget, verbose=True)",
   "id": "4b0ab5c27a21968a",
   "outputs": [
    {
     "name": "stdout",
     "output_type": "stream",
     "text": [
      "Iteration: 0, Value: 2180.25408700812, Gradient norm: 2298.8298728512023\n",
      "Iteration: 1, Value: 776.9481659133234, Gradient norm: 778.3285480218974\n",
      "Iteration: 2, Value: 467.7553198900272, Gradient norm: 448.609466510178\n",
      "Iteration: 3, Value: 238.95826450931128, Gradient norm: 210.80130576390275\n",
      "Iteration: 4, Value: 140.4660045516055, Gradient norm: 106.80064567606223\n",
      "Iteration: 5, Value: 90.56710491302316, Gradient norm: 51.951200661182305\n",
      "Iteration: 6, Value: 67.70868190765934, Gradient norm: 25.11142488647024\n",
      "Iteration: 7, Value: 57.53952924566286, Gradient norm: 11.552518431963833\n",
      "Iteration: 8, Value: 53.68055712757789, Gradient norm: 7.226308603566132\n",
      "Iteration: 9, Value: 53.12588641306984, Gradient norm: 9.58137547069042\n",
      "Iteration: 10, Value: 52.29040622809569, Gradient norm: 1.3656537336425274\n",
      "Iteration: 11, Value: 52.14878717110657, Gradient norm: 0.26733119477027734\n",
      "Iteration: 12, Value: 52.14265071871399, Gradient norm: 0.03848019574499035\n",
      "Iteration: 0, Value: 9.471764371406239e+52, Gradient norm: 7.902466479699507e+54\n"
     ]
    }
   ],
   "execution_count": 17
  },
  {
   "metadata": {
    "ExecuteTime": {
     "end_time": "2025-03-13T11:59:13.427883Z",
     "start_time": "2025-03-13T11:59:13.424935Z"
    }
   },
   "cell_type": "code",
   "source": "new_mean_kern, new_task_kern",
   "id": "4bb318c3edb413f5",
   "outputs": [
    {
     "data": {
      "text/plain": [
       "(SEMagmaKernel(length_scale=1.1856918246895949, variance=6.816049817155252),\n",
       " SEMagmaKernel(length_scale=[1.43308798 1.44393616 1.43577344 1.43015607 1.43034229 1.4352805\n",
       "  1.43638783 1.44390116 1.44705345 1.43860163 1.4090773  1.43410564\n",
       "  1.4182356  1.4333545  1.42750424 1.42261946 1.44203239 1.43022241\n",
       "  1.44429227 1.44275739], variance=1.3756287739182211))"
      ]
     },
     "execution_count": 18,
     "metadata": {},
     "output_type": "execute_result"
    }
   ],
   "execution_count": 18
  },
  {
   "metadata": {
    "ExecuteTime": {
     "end_time": "2025-03-13T11:59:24.160198Z",
     "start_time": "2025-03-13T11:59:13.438052Z"
    }
   },
   "cell_type": "code",
   "source": [
    "%%timeit -n 3 -r 2\n",
    "optimise_hyperparameters(mean_kern, task_kern, padded_inputs, padded_outputs, all_inputs, prior_mean, post_mean, post_cov, masks, nugget=nugget)[0].length_scale.block_until_ready()"
   ],
   "id": "f1ca294535c0b68f",
   "outputs": [
    {
     "name": "stdout",
     "output_type": "stream",
     "text": [
      "1.78 s ± 31.1 ms per loop (mean ± std. dev. of 2 runs, 3 loops each)\n"
     ]
    }
   ],
   "execution_count": 19
  },
  {
   "metadata": {},
   "cell_type": "markdown",
   "source": "### Distinct Input, Common HP",
   "id": "20b483a9ffe80c86"
  },
  {
   "metadata": {
    "ExecuteTime": {
     "end_time": "2025-03-13T11:59:24.677364Z",
     "start_time": "2025-03-13T11:59:24.169836Z"
    }
   },
   "cell_type": "code",
   "source": [
    "db = pd.read_csv(f\"./dummy_datasets/{test_db_size}_distinct_input_common_hp.csv\")\n",
    "all_inputs, padded_inputs, padded_outputs, masks = preprocess_db(db)\n",
    "all_inputs.shape, padded_inputs.shape"
   ],
   "id": "b28169fa8ce19f32",
   "outputs": [
    {
     "data": {
      "text/plain": [
       "((41,), (20, 41))"
      ]
     },
     "execution_count": 20,
     "metadata": {},
     "output_type": "execute_result"
    }
   ],
   "execution_count": 20
  },
  {
   "metadata": {
    "ExecuteTime": {
     "end_time": "2025-03-13T11:59:24.705278Z",
     "start_time": "2025-03-13T11:59:24.701773Z"
    }
   },
   "cell_type": "code",
   "source": [
    "mean_kern = SEMagmaKernel(length_scale=jnp.array(.3), variance=jnp.array(1.))\n",
    "task_kern = SEMagmaKernel(length_scale=jnp.array(.6), variance=jnp.array(1.))"
   ],
   "id": "4912ddbe3e580dd7",
   "outputs": [],
   "execution_count": 21
  },
  {
   "metadata": {
    "ExecuteTime": {
     "end_time": "2025-03-13T11:59:25.154288Z",
     "start_time": "2025-03-13T11:59:24.715462Z"
    }
   },
   "cell_type": "code",
   "source": "post_mean, post_cov = hyperpost(padded_inputs, padded_outputs, masks, jnp.array(0.), mean_kern, task_kern, all_inputs=all_inputs)",
   "id": "18be768ce82808b0",
   "outputs": [],
   "execution_count": 22
  },
  {
   "metadata": {
    "ExecuteTime": {
     "end_time": "2025-03-13T11:59:26.795355Z",
     "start_time": "2025-03-13T11:59:25.168470Z"
    }
   },
   "cell_type": "code",
   "source": "new_mean_kern, new_task_kern = optimise_hyperparameters(mean_kern, task_kern, padded_inputs, padded_outputs, all_inputs, prior_mean, post_mean, post_cov, masks, nugget=nugget, verbose=True)",
   "id": "fb0206d384039b83",
   "outputs": [
    {
     "name": "stdout",
     "output_type": "stream",
     "text": [
      "Iteration: 0, Value: 93883.35546043565, Gradient norm: 1194745.0537562363\n",
      "Iteration: 1, Value: 2974.744120614934, Gradient norm: 3148.214376785104\n",
      "Iteration: 2, Value: 2491.7251499679633, Gradient norm: 2609.0515343296424\n",
      "Iteration: 3, Value: 1116.2495461511437, Gradient norm: 1082.403136794949\n",
      "Iteration: 4, Value: 764.0029201857294, Gradient norm: 1105.0290129108764\n",
      "Iteration: 5, Value: 570.921255489159, Gradient norm: 1403.87102684516\n",
      "Iteration: 6, Value: 356.6130936636686, Gradient norm: 992.0110973415899\n",
      "Iteration: 7, Value: 205.05306836019986, Gradient norm: 461.03370646928903\n",
      "Iteration: 8, Value: 142.8731738210606, Gradient norm: 214.79124111175432\n",
      "Iteration: 9, Value: 115.70298059020287, Gradient norm: 85.1437965271968\n",
      "Iteration: 10, Value: 106.25762591722116, Gradient norm: 22.86426903099017\n",
      "Iteration: 11, Value: 103.7650586126552, Gradient norm: 8.736323760266655\n",
      "Iteration: 12, Value: 102.95825498057987, Gradient norm: 1.301709460177779\n",
      "Iteration: 13, Value: 102.8991340876219, Gradient norm: 4.194727531337578\n",
      "Iteration: 14, Value: 102.89001510171087, Gradient norm: 1.0267144915546795\n"
     ]
    }
   ],
   "execution_count": 23
  },
  {
   "metadata": {
    "ExecuteTime": {
     "end_time": "2025-03-13T11:59:26.887969Z",
     "start_time": "2025-03-13T11:59:26.885334Z"
    }
   },
   "cell_type": "code",
   "source": "new_mean_kern, new_task_kern",
   "id": "11abc2420e7b68a1",
   "outputs": [
    {
     "data": {
      "text/plain": [
       "(SEMagmaKernel(length_scale=-0.0071476759712833186, variance=6.639570750925357),\n",
       " SEMagmaKernel(length_scale=0.6, variance=1.0))"
      ]
     },
     "execution_count": 24,
     "metadata": {},
     "output_type": "execute_result"
    }
   ],
   "execution_count": 24
  },
  {
   "metadata": {
    "ExecuteTime": {
     "end_time": "2025-03-13T11:59:34.467282Z",
     "start_time": "2025-03-13T11:59:26.900148Z"
    }
   },
   "cell_type": "code",
   "source": [
    "%%timeit -n 3 -r 2\n",
    "optimise_hyperparameters(mean_kern, task_kern, padded_inputs, padded_outputs, all_inputs, prior_mean, post_mean, post_cov, masks, nugget=nugget)[0].length_scale.block_until_ready()"
   ],
   "id": "5809957ba253a53",
   "outputs": [
    {
     "name": "stdout",
     "output_type": "stream",
     "text": [
      "1.26 s ± 87.6 ms per loop (mean ± std. dev. of 2 runs, 3 loops each)\n"
     ]
    }
   ],
   "execution_count": 25
  },
  {
   "metadata": {},
   "cell_type": "markdown",
   "source": "### Distinct Input, Distinct HP",
   "id": "83204767e8354b6f"
  },
  {
   "metadata": {
    "ExecuteTime": {
     "end_time": "2025-03-13T11:59:35.124665Z",
     "start_time": "2025-03-13T11:59:34.698937Z"
    }
   },
   "cell_type": "code",
   "source": [
    "db = pd.read_csv(f\"./dummy_datasets/{test_db_size}_distinct_input_distinct_hp.csv\")\n",
    "all_inputs, padded_inputs, padded_outputs, masks = preprocess_db(db)\n",
    "all_inputs.shape, padded_inputs.shape"
   ],
   "id": "60ba0c8f3de26ee8",
   "outputs": [
    {
     "data": {
      "text/plain": [
       "((41,), (20, 41))"
      ]
     },
     "execution_count": 26,
     "metadata": {},
     "output_type": "execute_result"
    }
   ],
   "execution_count": 26
  },
  {
   "metadata": {
    "ExecuteTime": {
     "end_time": "2025-03-13T11:59:35.142013Z",
     "start_time": "2025-03-13T11:59:35.138473Z"
    }
   },
   "cell_type": "code",
   "source": [
    "mean_kern = SEMagmaKernel(length_scale=jnp.array(.3), variance=jnp.array(1.))\n",
    "\n",
    "key, subkey = jax.random.split(key)\n",
    "distinct_length_scales = jax.random.uniform(subkey, (padded_outputs.shape[0],), jnp.float64, .1, 1)\n",
    "task_kern = SEMagmaKernel(length_scale=distinct_length_scales, variance=jnp.array(1.))"
   ],
   "id": "ae73ef7ef78c2516",
   "outputs": [],
   "execution_count": 27
  },
  {
   "metadata": {
    "ExecuteTime": {
     "end_time": "2025-03-13T11:59:35.215394Z",
     "start_time": "2025-03-13T11:59:35.157874Z"
    }
   },
   "cell_type": "code",
   "source": "post_mean, post_cov = hyperpost(padded_inputs, padded_outputs, masks, jnp.array(0.), mean_kern, task_kern, all_inputs=all_inputs)",
   "id": "f152d0c8ccd59097",
   "outputs": [],
   "execution_count": 28
  },
  {
   "metadata": {
    "ExecuteTime": {
     "end_time": "2025-03-13T11:59:36.593171Z",
     "start_time": "2025-03-13T11:59:35.228046Z"
    }
   },
   "cell_type": "code",
   "source": "new_mean_kern, new_task_kern = optimise_hyperparameters(mean_kern, task_kern, padded_inputs, padded_outputs, all_inputs, prior_mean, post_mean, post_cov, masks, nugget=nugget, verbose=True)",
   "id": "2f42c4bdcacc0250",
   "outputs": [
    {
     "name": "stdout",
     "output_type": "stream",
     "text": [
      "Iteration: 0, Value: 63693.24263182963, Gradient norm: 935204.7971765217\n",
      "Iteration: 1, Value: 936.9165952740885, Gradient norm: 930.1424022688172\n",
      "Iteration: 2, Value: 826.1892973711264, Gradient norm: 813.0332957764756\n",
      "Iteration: 3, Value: 361.23238370298935, Gradient norm: 317.8693494976895\n",
      "Iteration: 4, Value: 233.44345265802076, Gradient norm: 208.48996186308386\n",
      "Iteration: 5, Value: 168.2633939143924, Gradient norm: 282.21037786145416\n",
      "Iteration: 6, Value: 141.5093737836419, Gradient norm: 340.7081490306301\n",
      "Iteration: 7, Value: 110.34916051831858, Gradient norm: 240.78517808066476\n",
      "Iteration: 8, Value: 90.96996170282848, Gradient norm: 113.10981083458589\n",
      "Iteration: 9, Value: 85.10452211994607, Gradient norm: 47.36631658124324\n",
      "Iteration: 10, Value: 83.81965938398909, Gradient norm: 16.27514127248603\n",
      "Iteration: 11, Value: 83.69133665039448, Gradient norm: 5.6383183429130925\n",
      "Iteration: 12, Value: 83.67553022693143, Gradient norm: 1.120123616884129\n"
     ]
    }
   ],
   "execution_count": 29
  },
  {
   "metadata": {
    "ExecuteTime": {
     "end_time": "2025-03-13T11:59:36.686566Z",
     "start_time": "2025-03-13T11:59:36.683956Z"
    }
   },
   "cell_type": "code",
   "source": "new_mean_kern, new_task_kern",
   "id": "76ac0d6f4ce956f7",
   "outputs": [
    {
     "data": {
      "text/plain": [
       "(SEMagmaKernel(length_scale=-0.0567281240906174, variance=5.454397379716924),\n",
       " SEMagmaKernel(length_scale=[0.70407369 0.78190355 0.15792831 0.92380933 0.55947948 0.78384972\n",
       "  0.57594738 0.32603756 0.279596   0.62387592 0.14051311 0.74971683\n",
       "  0.84952631 0.49412175 0.66092181 0.83649758 0.69980315 0.91777237\n",
       "  0.63878216 0.40331981], variance=1.0))"
      ]
     },
     "execution_count": 30,
     "metadata": {},
     "output_type": "execute_result"
    }
   ],
   "execution_count": 30
  },
  {
   "metadata": {
    "ExecuteTime": {
     "end_time": "2025-03-13T11:59:44.047429Z",
     "start_time": "2025-03-13T11:59:36.698796Z"
    }
   },
   "cell_type": "code",
   "source": [
    "%%timeit -n 3 -r 2\n",
    "optimise_hyperparameters(mean_kern, task_kern, padded_inputs, padded_outputs, all_inputs, prior_mean, post_mean, post_cov, masks, nugget=nugget)[0].length_scale.block_until_ready()"
   ],
   "id": "5ee054cd9816fe62",
   "outputs": [
    {
     "name": "stdout",
     "output_type": "stream",
     "text": [
      "1.22 s ± 42.1 ms per loop (mean ± std. dev. of 2 runs, 3 loops each)\n"
     ]
    }
   ],
   "execution_count": 31
  },
  {
   "metadata": {},
   "cell_type": "markdown",
   "source": [
    "---\n",
    "## Conclusion"
   ],
   "id": "13b12c3f2e1d55d9"
  },
  {
   "metadata": {
    "ExecuteTime": {
     "end_time": "2025-03-13T11:59:44.060855Z",
     "start_time": "2025-03-13T11:59:44.059305Z"
    }
   },
   "cell_type": "code",
   "source": "",
   "id": "9d1049db31416eda",
   "outputs": [],
   "execution_count": null
  },
  {
   "metadata": {},
   "cell_type": "markdown",
   "source": "---",
   "id": "5e278787af3818b9"
  }
 ],
 "metadata": {
  "kernelspec": {
   "display_name": "Python 3",
   "language": "python",
   "name": "python3"
  },
  "language_info": {
   "codemirror_mode": {
    "name": "ipython",
    "version": 2
   },
   "file_extension": ".py",
   "mimetype": "text/x-python",
   "name": "python",
   "nbconvert_exporter": "python",
   "pygments_lexer": "ipython2",
   "version": "2.7.6"
  }
 },
 "nbformat": 4,
 "nbformat_minor": 5
}
