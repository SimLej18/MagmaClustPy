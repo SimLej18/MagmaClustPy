{
 "cells": [
  {
   "metadata": {},
   "cell_type": "markdown",
   "source": [
    "# Benchmarks - Hyper-parameters optimisation\n",
    "\n",
    "**Main considerations when implementing HPs optimisation**\n",
    "- we made kernels pytrees, so we should be able to compute gradient and optimise for them directly\n"
   ],
   "id": "b3c7fb13dd0f50f4"
  },
  {
   "metadata": {},
   "cell_type": "markdown",
   "source": [
    "---\n",
    "## Setup"
   ],
   "id": "e79b3311ad31df3f"
  },
  {
   "metadata": {},
   "cell_type": "code",
   "outputs": [],
   "execution_count": null,
   "source": [
    "# Standard library\n",
    "import os\n",
    "from typing import NamedTuple\n",
    "\n",
    "os.environ['JAX_ENABLE_X64'] = \"True\""
   ],
   "id": "af825848a7fd5797"
  },
  {
   "metadata": {},
   "cell_type": "code",
   "outputs": [],
   "execution_count": null,
   "source": [
    "# Third party\n",
    "import jax\n",
    "import jax.numpy as jnp\n",
    "import jax.random as jrd\n",
    "from jax.tree_util import tree_flatten\n",
    "import optax\n",
    "import optax.tree_utils as otu\n",
    "import chex\n",
    "\n",
    "import numpy as np\n",
    "import pandas as pd"
   ],
   "id": "36e715d92b2c37b7"
  },
  {
   "metadata": {},
   "cell_type": "code",
   "outputs": [],
   "execution_count": null,
   "source": [
    "# Local\n",
    "from Kernax import SEMagmaKernel, DiagKernel, ExpKernel\n",
    "from MagmaClustPy.utils import preprocess_db\n",
    "from MagmaClustPy.hyperpost import hyperpost"
   ],
   "id": "be0183b41e2c92c5"
  },
  {
   "metadata": {},
   "cell_type": "code",
   "outputs": [],
   "execution_count": null,
   "source": [
    "# Config\n",
    "key = jrd.PRNGKey(0)\n",
    "test_db_size = \"small\""
   ],
   "id": "73cfc68b17929b21"
  },
  {
   "metadata": {},
   "cell_type": "markdown",
   "source": [
    "---\n",
    "## Data"
   ],
   "id": "d81340f7d59b3339"
  },
  {
   "metadata": {},
   "cell_type": "code",
   "outputs": [],
   "execution_count": null,
   "source": "",
   "id": "ebe1d881f50c4513"
  },
  {
   "metadata": {},
   "cell_type": "markdown",
   "source": [
    "---\n",
    "## Current implementation"
   ],
   "id": "e23af3de569fa2c2"
  },
  {
   "metadata": {},
   "cell_type": "code",
   "outputs": [],
   "execution_count": null,
   "source": [
    "import MagmaClustPy\n",
    "optimise_hyperparameters_old = MagmaClustPy.hp_optimisation.optimise_hyperparameters"
   ],
   "id": "9077f6ad347bec74"
  },
  {
   "metadata": {},
   "cell_type": "markdown",
   "source": [
    "---\n",
    "## Custom implementation(s)\n",
    "\n",
    "*Start by copy-pasting the original function from the MagmaClustPy module, then bring modifications*"
   ],
   "id": "14fb25739eb25ed6"
  },
  {
   "metadata": {},
   "cell_type": "code",
   "outputs": [],
   "execution_count": null,
   "source": "",
   "id": "f4e180a90d1b3831"
  },
  {
   "metadata": {},
   "cell_type": "code",
   "outputs": [],
   "execution_count": null,
   "source": "optimise_hyperparameters_new = optimise_hyperparameters",
   "id": "212572742db0cde8"
  },
  {
   "metadata": {},
   "cell_type": "markdown",
   "source": [
    "---\n",
    "## Comparison"
   ],
   "id": "37c574e6bcf04cf0"
  },
  {
   "metadata": {},
   "cell_type": "code",
   "outputs": [],
   "execution_count": null,
   "source": "jitter = jnp.array(1e-10)",
   "id": "94df51cc6bab6829"
  },
  {
   "metadata": {},
   "cell_type": "markdown",
   "source": "### shared Input, shared HP",
   "id": "b7f9efc86e576cd6"
  },
  {
   "metadata": {},
   "cell_type": "code",
   "outputs": [],
   "execution_count": null,
   "source": [
    "db = pd.read_csv(f\"../datasets/{test_db_size}_shared_input_shared_hp.csv\")\n",
    "padded_inputs, padded_outputs, mappings, all_inputs = preprocess_db(db)\n",
    "prior_mean = jnp.array(0)\n",
    "all_inputs.shape, padded_inputs.shape"
   ],
   "id": "bcdbcc62b6387bfd"
  },
  {
   "metadata": {},
   "cell_type": "code",
   "outputs": [],
   "execution_count": null,
   "source": [
    "mean_kern = SEMagmaKernel(length_scale=jnp.array(.3), variance=jnp.array(1.))\n",
    "task_kern = SEMagmaKernel(length_scale=jnp.array(.3), variance=jnp.array(1.)) + DiagKernel(ExpKernel(jnp.array(2.5)))"
   ],
   "id": "503fc1491a790262"
  },
  {
   "metadata": {},
   "cell_type": "code",
   "outputs": [],
   "execution_count": null,
   "source": [
    "post_mean, post_cov = hyperpost(padded_inputs, padded_outputs, mappings, all_inputs, prior_mean, mean_kern, task_kern)\n",
    "post_mean.shape, post_cov.shape"
   ],
   "id": "eb2cd7b1b60eaf09"
  },
  {
   "metadata": {},
   "cell_type": "code",
   "outputs": [],
   "execution_count": null,
   "source": "optimized_mean_kern_old, optimized_task_kern_old, _, _ = optimise_hyperparameters_old(mean_kern, task_kern, padded_inputs, padded_outputs, mappings, all_inputs, prior_mean, post_mean, post_cov, verbose=True)",
   "id": "426f1b71d29fa61b"
  },
  {
   "metadata": {},
   "cell_type": "code",
   "outputs": [],
   "execution_count": null,
   "source": "optimized_mean_kern_old, optimized_task_kern_old",
   "id": "22a1b8e419c8adaf"
  },
  {
   "metadata": {},
   "cell_type": "code",
   "outputs": [],
   "execution_count": null,
   "source": "optimized_mean_kern_new, optimized_task_kern_new, _, _ = optimise_hyperparameters_new(mean_kern, task_kern, padded_inputs, padded_outputs, mappings, all_inputs, prior_mean, post_mean, post_cov, verbose=True)",
   "id": "7a36b6b95ab34521"
  },
  {
   "metadata": {},
   "cell_type": "code",
   "outputs": [],
   "execution_count": null,
   "source": "optimized_mean_kern_new, optimized_task_kern_new",
   "id": "74e22fa77306cfe6"
  },
  {
   "metadata": {},
   "cell_type": "code",
   "outputs": [],
   "execution_count": null,
   "source": [
    "%%timeit -n 3 -r 2\n",
    "optimise_hyperparameters_old(mean_kern, task_kern, padded_inputs, padded_outputs, mappings, all_inputs, prior_mean, post_mean, post_cov)[0].length_scale.block_until_ready()"
   ],
   "id": "2506ce7459cbc270"
  },
  {
   "metadata": {},
   "cell_type": "code",
   "outputs": [],
   "execution_count": null,
   "source": [
    "%%timeit -n 3 -r 2\n",
    "optimise_hyperparameters_new(mean_kern, task_kern, padded_inputs, padded_outputs, mappings, all_inputs, prior_mean, post_mean, post_cov)[0].length_scale.block_until_ready()"
   ],
   "id": "2cd874687b7cc5d9"
  },
  {
   "metadata": {},
   "cell_type": "markdown",
   "source": "### shared Input, Distinct HP",
   "id": "6e9d84bfb6de380a"
  },
  {
   "metadata": {},
   "cell_type": "code",
   "outputs": [],
   "execution_count": null,
   "source": [
    "db = pd.read_csv(f\"../datasets/{test_db_size}_shared_input_distinct_hp.csv\")\n",
    "padded_inputs, padded_outputs, mappings, all_inputs = preprocess_db(db)\n",
    "prior_mean = jnp.array(0)\n",
    "all_inputs.shape, padded_inputs.shape"
   ],
   "id": "361bd07bbbaba128"
  },
  {
   "metadata": {},
   "cell_type": "code",
   "outputs": [],
   "execution_count": null,
   "source": [
    "mean_kern = SEMagmaKernel(length_scale=jnp.array(.3), variance=jnp.array(1.))\n",
    "\n",
    "key, subkey = jax.random.split(key)\n",
    "distinct_length_scales = jax.random.uniform(subkey, (padded_outputs.shape[0],), jnp.float64, .1, 1)\n",
    "task_kern = SEMagmaKernel(length_scale=jnp.array(.3), variance=jnp.array(1.)) + DiagKernel(ExpKernel(jnp.array(2.5)))"
   ],
   "id": "874c82033f43f173"
  },
  {
   "metadata": {},
   "cell_type": "code",
   "outputs": [],
   "execution_count": null,
   "source": [
    "post_mean, post_cov = hyperpost(padded_inputs, padded_outputs, mappings, all_inputs, prior_mean, mean_kern, task_kern)\n",
    "post_mean.shape, post_cov.shape"
   ],
   "id": "76953fda55fa81ea"
  },
  {
   "metadata": {},
   "cell_type": "code",
   "outputs": [],
   "execution_count": null,
   "source": "optimized_mean_kern_old, optimized_task_kern_old, _, _ = optimise_hyperparameters_old(mean_kern, task_kern, padded_inputs, padded_outputs, mappings, all_inputs, prior_mean, post_mean, post_cov, verbose=True)",
   "id": "b02a6b920d26e8dc"
  },
  {
   "metadata": {},
   "cell_type": "code",
   "outputs": [],
   "execution_count": null,
   "source": "optimized_mean_kern_old, optimized_task_kern_old",
   "id": "339b71660c9ab8ab"
  },
  {
   "metadata": {},
   "cell_type": "code",
   "outputs": [],
   "execution_count": null,
   "source": "optimized_mean_kern_new, optimized_task_kern_new, _, _ = optimise_hyperparameters_new(mean_kern, task_kern, padded_inputs, padded_outputs, mappings, all_inputs, prior_mean, post_mean, post_cov, verbose=True)",
   "id": "82975e9c857931fb"
  },
  {
   "metadata": {},
   "cell_type": "code",
   "outputs": [],
   "execution_count": null,
   "source": "optimized_mean_kern_new, optimized_task_kern_new",
   "id": "83b2abaeca82990f"
  },
  {
   "metadata": {},
   "cell_type": "code",
   "outputs": [],
   "execution_count": null,
   "source": [
    "%%timeit -n 3 -r 2\n",
    "optimise_hyperparameters_old(mean_kern, task_kern, padded_inputs, padded_outputs, mappings, all_inputs, prior_mean, post_mean, post_cov)[0].length_scale.block_until_ready()"
   ],
   "id": "ace18d8132dbf6a7"
  },
  {
   "metadata": {},
   "cell_type": "code",
   "outputs": [],
   "execution_count": null,
   "source": [
    "%%timeit -n 3 -r 2\n",
    "optimise_hyperparameters_new(mean_kern, task_kern, padded_inputs, padded_outputs, mappings, all_inputs, prior_mean, post_mean, post_cov)[0].length_scale.block_until_ready()"
   ],
   "id": "25bdf1d060996667"
  },
  {
   "metadata": {},
   "cell_type": "markdown",
   "source": "### Distinct Input, shared HP",
   "id": "86bd9c50249083f6"
  },
  {
   "metadata": {},
   "cell_type": "code",
   "outputs": [],
   "execution_count": null,
   "source": [
    "db = pd.read_csv(f\"../datasets/{test_db_size}_distinct_input_shared_hp.csv\")\n",
    "padded_inputs, padded_outputs, mappings, all_inputs = preprocess_db(db)\n",
    "prior_mean = jnp.array(0)\n",
    "all_inputs.shape, padded_inputs.shape"
   ],
   "id": "83702b3d3bee8f6"
  },
  {
   "metadata": {},
   "cell_type": "code",
   "outputs": [],
   "execution_count": null,
   "source": [
    "mean_kern = SEMagmaKernel(length_scale=jnp.array(.3), variance=jnp.array(1.))\n",
    "task_kern = SEMagmaKernel(length_scale=jnp.array(.3), variance=jnp.array(1.)) + DiagKernel(ExpKernel(jnp.array(2.5)))"
   ],
   "id": "fa7ce1e5c9861c6d"
  },
  {
   "metadata": {},
   "cell_type": "code",
   "outputs": [],
   "execution_count": null,
   "source": [
    "post_mean, post_cov = hyperpost(padded_inputs, padded_outputs, mappings, all_inputs, prior_mean, mean_kern, task_kern)\n",
    "post_mean.shape, post_cov.shape"
   ],
   "id": "55451fb708077b11"
  },
  {
   "metadata": {},
   "cell_type": "code",
   "outputs": [],
   "execution_count": null,
   "source": "optimized_mean_kern_old, optimized_task_kern_old, _, _ = optimise_hyperparameters_old(mean_kern, task_kern, padded_inputs, padded_outputs, mappings, all_inputs, prior_mean, post_mean, post_cov, verbose=True)",
   "id": "1a1dfefb39681b8f"
  },
  {
   "metadata": {},
   "cell_type": "code",
   "outputs": [],
   "execution_count": null,
   "source": "optimized_mean_kern_old, optimized_task_kern_old",
   "id": "efb544ef2a96b7fc"
  },
  {
   "metadata": {},
   "cell_type": "code",
   "outputs": [],
   "execution_count": null,
   "source": "optimized_mean_kern_new, optimized_task_kern_new, _, _ = optimise_hyperparameters_new(mean_kern, task_kern, padded_inputs, padded_outputs, mappings, all_inputs, prior_mean, post_mean, post_cov, verbose=True)",
   "id": "11316abdf163a9a7"
  },
  {
   "metadata": {},
   "cell_type": "code",
   "outputs": [],
   "execution_count": null,
   "source": "optimized_mean_kern_new, optimized_task_kern_new",
   "id": "75e81b352a75a31d"
  },
  {
   "metadata": {},
   "cell_type": "code",
   "outputs": [],
   "execution_count": null,
   "source": [
    "%%timeit -n 3 -r 2\n",
    "optimise_hyperparameters_old(mean_kern, task_kern, padded_inputs, padded_outputs, mappings, all_inputs, prior_mean, post_mean, post_cov)[0].length_scale.block_until_ready()"
   ],
   "id": "7392c52392aee7b"
  },
  {
   "metadata": {},
   "cell_type": "code",
   "outputs": [],
   "execution_count": null,
   "source": [
    "%%timeit -n 3 -r 2\n",
    "optimise_hyperparameters_new(mean_kern, task_kern, padded_inputs, padded_outputs, mappings, all_inputs, prior_mean, post_mean, post_cov)[0].length_scale.block_until_ready()"
   ],
   "id": "12af0e3921f92232"
  },
  {
   "metadata": {},
   "cell_type": "markdown",
   "source": "### Distinct Input, Distinct HP",
   "id": "9764e93f27758717"
  },
  {
   "metadata": {},
   "cell_type": "code",
   "outputs": [],
   "execution_count": null,
   "source": [
    "db = pd.read_csv(f\"../datasets/{test_db_size}_distinct_input_distinct_hp.csv\")\n",
    "padded_inputs, padded_outputs, mappings, all_inputs = preprocess_db(db)\n",
    "prior_mean = jnp.array(0)\n",
    "all_inputs.shape, padded_inputs.shape"
   ],
   "id": "c3ce8651b483c671"
  },
  {
   "metadata": {},
   "cell_type": "code",
   "outputs": [],
   "execution_count": null,
   "source": [
    "mean_kern = SEMagmaKernel(length_scale=jnp.array(.3), variance=jnp.array(1.))\n",
    "\n",
    "key, subkey = jax.random.split(key)\n",
    "distinct_length_scales = jax.random.uniform(subkey, (padded_outputs.shape[0],), jnp.float64, .1, 1)\n",
    "task_kern = SEMagmaKernel(length_scale=jnp.array(.3), variance=jnp.array(1.)) + DiagKernel(ExpKernel(jnp.array(2.5)))"
   ],
   "id": "6038b50e95928bf1"
  },
  {
   "metadata": {},
   "cell_type": "code",
   "outputs": [],
   "execution_count": null,
   "source": [
    "post_mean, post_cov = hyperpost(padded_inputs, padded_outputs, mappings, all_inputs, prior_mean, mean_kern, task_kern)\n",
    "post_mean.shape, post_cov.shape"
   ],
   "id": "555addf85ffcc86c"
  },
  {
   "metadata": {},
   "cell_type": "code",
   "outputs": [],
   "execution_count": null,
   "source": "optimized_mean_kern_old, optimized_task_kern_old, _, _ = optimise_hyperparameters_old(mean_kern, task_kern, padded_inputs, padded_outputs, mappings, all_inputs, prior_mean, post_mean, post_cov, verbose=True)",
   "id": "133f20034988ac91"
  },
  {
   "metadata": {},
   "cell_type": "code",
   "outputs": [],
   "execution_count": null,
   "source": "optimized_mean_kern_old, optimized_task_kern_old",
   "id": "6886b0d17f2fa9f9"
  },
  {
   "metadata": {},
   "cell_type": "code",
   "outputs": [],
   "execution_count": null,
   "source": "optimized_mean_kern_new, optimized_task_kern_new, _, _ = optimise_hyperparameters_new(mean_kern, task_kern, padded_inputs, padded_outputs, mappings, all_inputs, prior_mean, post_mean, post_cov, verbose=True)",
   "id": "943776e12674bdf1"
  },
  {
   "metadata": {},
   "cell_type": "code",
   "outputs": [],
   "execution_count": null,
   "source": "optimized_mean_kern_new, optimized_task_kern_new",
   "id": "63becf91b6760292"
  },
  {
   "metadata": {},
   "cell_type": "code",
   "outputs": [],
   "execution_count": null,
   "source": [
    "%%timeit -n 3 -r 2\n",
    "optimise_hyperparameters_old(mean_kern, task_kern, padded_inputs, padded_outputs, mappings, all_inputs, prior_mean, post_mean, post_cov)[0].length_scale.block_until_ready()"
   ],
   "id": "3d9c7a5e83cdc3e1"
  },
  {
   "metadata": {},
   "cell_type": "code",
   "outputs": [],
   "execution_count": null,
   "source": [
    "%%timeit -n 3 -r 2\n",
    "optimise_hyperparameters_new(mean_kern, task_kern, padded_inputs, padded_outputs, mappings, all_inputs, prior_mean, post_mean, post_cov)[0].length_scale.block_until_ready()"
   ],
   "id": "f5c848206fb45ba4"
  },
  {
   "metadata": {},
   "cell_type": "markdown",
   "source": [
    "---\n",
    "## Conclusion"
   ],
   "id": "df212fc4b719e1ca"
  },
  {
   "metadata": {},
   "cell_type": "code",
   "outputs": [],
   "execution_count": null,
   "source": "",
   "id": "b90173fb831021ec"
  },
  {
   "metadata": {},
   "cell_type": "markdown",
   "source": "---",
   "id": "5e278787af3818b9"
  }
 ],
 "metadata": {
  "kernelspec": {
   "display_name": "Python 3",
   "language": "python",
   "name": "python3"
  },
  "language_info": {
   "codemirror_mode": {
    "name": "ipython",
    "version": 2
   },
   "file_extension": ".py",
   "mimetype": "text/x-python",
   "name": "python",
   "nbconvert_exporter": "python",
   "pygments_lexer": "ipython2",
   "version": "2.7.6"
  }
 },
 "nbformat": 4,
 "nbformat_minor": 5
}
