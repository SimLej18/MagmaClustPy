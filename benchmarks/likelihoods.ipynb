{
 "cells": [
  {
   "metadata": {},
   "cell_type": "markdown",
   "source": [
    "# Benchmarks - Likelihoods\n",
    "\n",
    "**Main considerations when implementing Likelihoods**\n",
    "- must be efficient, as they are used in the main bottleneck of the code: HP optimisation\n",
    "- must work for both common and distinct HPs"
   ],
   "id": "f69390d194b35b0a"
  },
  {
   "metadata": {},
   "cell_type": "markdown",
   "source": [
    "---\n",
    "## Setup"
   ],
   "id": "4763c6a1086dfd7a"
  },
  {
   "metadata": {
    "ExecuteTime": {
     "end_time": "2025-05-26T08:37:09.972113Z",
     "start_time": "2025-05-26T08:37:09.780675Z"
    }
   },
   "cell_type": "code",
   "source": [
    "# Standard library\n",
    "import os\n",
    "\n",
    "from numpy.f2py.auxfuncs import throw_error\n",
    "\n",
    "os.environ['JAX_ENABLE_X64'] = \"True\""
   ],
   "id": "eb0046b46dc27950",
   "outputs": [],
   "execution_count": 1
  },
  {
   "metadata": {
    "ExecuteTime": {
     "end_time": "2025-05-26T08:37:10.547818Z",
     "start_time": "2025-05-26T08:37:10.099135Z"
    }
   },
   "cell_type": "code",
   "source": [
    "# Third party\n",
    "import jax.numpy as jnp\n",
    "from jax import jit, vmap\n",
    "from jax.scipy.linalg import cho_factor, cho_solve\n",
    "from jax.scipy.stats.multivariate_normal import logpdf\n",
    "\n",
    "import pandas as pd\n",
    "import numpy as np"
   ],
   "id": "a1fe8b76912d6f2c",
   "outputs": [],
   "execution_count": 2
  },
  {
   "metadata": {
    "ExecuteTime": {
     "end_time": "2025-05-26T08:37:10.649916Z",
     "start_time": "2025-05-26T08:37:10.558663Z"
    }
   },
   "cell_type": "code",
   "source": [
    "# Local\n",
    "from MagmaClustPy.hyperpost import hyperpost\n",
    "from MagmaClustPy.kernels import SEMagmaKernel\n",
    "from MagmaClustPy.utils import preprocess_db"
   ],
   "id": "4b255f340edfbe6f",
   "outputs": [],
   "execution_count": 3
  },
  {
   "metadata": {
    "ExecuteTime": {
     "end_time": "2025-05-26T08:37:10.658842Z",
     "start_time": "2025-05-26T08:37:10.656775Z"
    }
   },
   "cell_type": "code",
   "source": [
    "# Config\n",
    "nugget=jnp.array(1e-10)"
   ],
   "id": "3180afa8778f9553",
   "outputs": [],
   "execution_count": 4
  },
  {
   "metadata": {},
   "cell_type": "markdown",
   "source": [
    "---\n",
    "## Data"
   ],
   "id": "190fcef7dd61821b"
  },
  {
   "metadata": {
    "ExecuteTime": {
     "end_time": "2025-05-26T08:37:10.671651Z",
     "start_time": "2025-05-26T08:37:10.669276Z"
    }
   },
   "cell_type": "code",
   "source": "",
   "id": "b36bdb0b6080e935",
   "outputs": [],
   "execution_count": null
  },
  {
   "metadata": {},
   "cell_type": "markdown",
   "source": [
    "---\n",
    "## Current implementation"
   ],
   "id": "bffd41fea2028bdb"
  },
  {
   "metadata": {
    "ExecuteTime": {
     "end_time": "2025-05-26T08:37:10.697599Z",
     "start_time": "2025-05-26T08:37:10.691893Z"
    }
   },
   "cell_type": "code",
   "source": [
    "@jit\n",
    "def solve_right_cholesky(A, B, nugget=jnp.array(1e-10)):\n",
    "\t\"\"\" Solves for X in X @ A = B \"\"\"\n",
    "\t# For X @ A = B, we can transpose both sides: A.T @ X.T = B.T\n",
    "\t# As A and B are symmetric, this simplifies to A @ X.T = B\n",
    "\t# Then solve for X.T and transpose the result\n",
    "\treturn cho_solve(cho_factor(A + nugget), B).T\n",
    "\n",
    "\n",
    "@jit\n",
    "def magma_neg_likelihood_on_cov(covar, outputs, mean, mean_process_cov, mask=None, nugget=jnp.array(1e-10)):\n",
    "\tnugget_matrix = jnp.eye(outputs.shape[0]) * nugget\n",
    "\n",
    "\tif mask is not None:\n",
    "\t\t# Mask the covariance matrix and outputs\n",
    "\t\tmask_2D = mask[:, None] & mask[None, :]\n",
    "\t\tcovar = jnp.where(mask_2D, covar, jnp.eye(outputs.shape[0]))\n",
    "\t\toutputs = jnp.where(mask, outputs, 0)\n",
    "\t\tmean = jnp.where(mask, mean, 0)\n",
    "\t\tmean_process_cov = jnp.where(mask_2D, mean_process_cov, jnp.eye(outputs.shape[0]))\n",
    "\n",
    "\n",
    "\t# Compute log-likelihood\n",
    "\tmultiv_neg_log_lik = -logpdf(outputs, mean, covar + nugget_matrix)\n",
    "\n",
    "\t# Compute correction term\n",
    "\tcorrection = 0.5 * jnp.trace(solve_right_cholesky(covar, mean_process_cov, nugget=nugget))\n",
    "\n",
    "\tif mask is not None:\n",
    "\t\t# Correct log-likelihood for padding\n",
    "\t\t# The logpdf is computed as:\n",
    "\t\t# -0.5 * (N * log(2 * pi) + log(det(cov)) + (outputs - mean).T @ inv(cov) @ (outputs - mean))\n",
    "\t\t# det(cov) and the Mahalanobis distance are not affected by our padding\n",
    "\t\t# We only have to correct for the -0.5 * N * log(2 * pi) term, as N is bigger with padding\n",
    "\t\tnll_pad_correction = 0.5 * jnp.log(2 * jnp.pi) * jnp.sum(~mask, axis=0)\n",
    "\n",
    "\t\t# We also need to correct the correction term, as padding adds 1s to the diagonal and hence 1 to the trace\n",
    "\t\tcorr_pad_correction = 0.5 * jnp.sum(~mask, axis=0)\n",
    "\telse:\n",
    "\t\tnll_pad_correction = 0\n",
    "\t\tcorr_pad_correction = 0\n",
    "\n",
    "\treturn (multiv_neg_log_lik - nll_pad_correction) + (correction - corr_pad_correction)\n",
    "\n",
    "\n",
    "@jit\n",
    "def magma_neg_likelihood(kernel, inputs, outputs: jnp.array, mean: jnp.array, mean_process_cov: jnp.array, mask=None,\n",
    "                         nugget=jnp.array(1e-10)):\n",
    "\t\"\"\"\n",
    "\tComputes the MAGMA log-likelihood.\n",
    "\n",
    "\t:param kernel: the kernel containing HPs to optimise. This kernel is used to compute the covariance (matrix `S`)\n",
    "\t:param inputs: inputs on which to compute the covariance matrix (shape (N, ))\n",
    "\t:param mask: boolean masks indicating which inputs and outputs to consider (shape (N, ))\n",
    "\t:param outputs: the observed values (shape (N, ))\n",
    "\t:param mean: the mean over the inputs (scalar or vector of shape (N, ))\n",
    "\t:param mean_process_cov: the hypper-posterior mean process covariance (matrix K^t)\n",
    "\t:param nugget: the nugget, for numerical stability\n",
    "\n",
    "\t:return: the negative log-likelihood (scalar)\n",
    "\t\"\"\"\n",
    "\tcovar = kernel(inputs)\n",
    "\n",
    "\t# check if we need to vmap\n",
    "\tif inputs.ndim == 1:\n",
    "\t\treturn magma_neg_likelihood_on_cov(covar, outputs, mean, mean_process_cov, mask, nugget)\n",
    "\telif inputs.ndim == 2:\n",
    "\t\treturn vmap(magma_neg_likelihood_on_cov, in_axes=(0, 0, None, None, 0, None))(covar, outputs, mean,\n",
    "\t\t                                                                              mean_process_cov, mask, nugget).sum()\n",
    "\telse:\n",
    "\t\traise ValueError(\"inputs must be either 1D or 2D\")\n"
   ],
   "id": "6b7e730087bbca42",
   "outputs": [],
   "execution_count": 5
  },
  {
   "metadata": {},
   "cell_type": "markdown",
   "source": [
    "---\n",
    "## Custom implementation(s)"
   ],
   "id": "c7496288f6ddf25f"
  },
  {
   "metadata": {
    "ExecuteTime": {
     "end_time": "2025-05-26T08:37:10.712070Z",
     "start_time": "2025-05-26T08:37:10.710341Z"
    }
   },
   "cell_type": "code",
   "source": "",
   "id": "5de6fcef36a19d83",
   "outputs": [],
   "execution_count": null
  },
  {
   "metadata": {},
   "cell_type": "markdown",
   "source": [
    "---\n",
    "## Comparison"
   ],
   "id": "88fdaed3f55aae3a"
  },
  {
   "metadata": {},
   "cell_type": "markdown",
   "source": "### Sample test",
   "id": "d184c4d106475a66"
  },
  {
   "metadata": {
    "ExecuteTime": {
     "end_time": "2025-05-26T08:37:11.108353Z",
     "start_time": "2025-05-26T08:37:10.745316Z"
    }
   },
   "cell_type": "code",
   "source": [
    "db = pd.DataFrame({\n",
    "\t'ID': [1, 1, 1, 1, 2, 2, 2, 2],\n",
    "\t'Input': [0.40, 4.45, 7.60, 8.30, 3.50, 5.10, 8.85, 9.35],\n",
    "\t'Output': [59.81620, 67.13694, 78.32495, 81.83590, 62.04943, 67.31932, 85.94063, 86.76426]\n",
    "})\n",
    "all_inputs, padded_inputs, padded_outputs, masks = preprocess_db(db)\n",
    "prior_mean = jnp.zeros_like(all_inputs)\n",
    "all_inputs.shape, padded_inputs.shape"
   ],
   "id": "9e4541ca06271c07",
   "outputs": [
    {
     "data": {
      "text/plain": [
       "((8,), (2, 8))"
      ]
     },
     "execution_count": 6,
     "metadata": {},
     "output_type": "execute_result"
    }
   ],
   "execution_count": 6
  },
  {
   "metadata": {
    "ExecuteTime": {
     "end_time": "2025-05-26T08:37:11.122524Z",
     "start_time": "2025-05-26T08:37:11.120067Z"
    }
   },
   "cell_type": "code",
   "source": [
    "mean_kern = SEMagmaKernel(length_scale=jnp.array(.3), variance=jnp.array(1.))\n",
    "task_kern = SEMagmaKernel(length_scale=jnp.array(.3), variance=jnp.array(1.))"
   ],
   "id": "c308ab3f3dc6d866",
   "outputs": [],
   "execution_count": 7
  },
  {
   "metadata": {
    "ExecuteTime": {
     "end_time": "2025-05-26T08:37:11.635881Z",
     "start_time": "2025-05-26T08:37:11.157702Z"
    }
   },
   "cell_type": "code",
   "source": "post_mean, post_cov = hyperpost(padded_inputs, padded_outputs, masks, prior_mean, mean_kern, task_kern, all_inputs=all_inputs)",
   "id": "c70d9b7cbd5f368c",
   "outputs": [],
   "execution_count": 8
  },
  {
   "metadata": {
    "ExecuteTime": {
     "end_time": "2025-05-26T08:37:11.648295Z",
     "start_time": "2025-05-26T08:37:11.645265Z"
    }
   },
   "cell_type": "code",
   "source": "np.asarray(post_mean)",
   "id": "fa7320ffdff8d7e",
   "outputs": [
    {
     "data": {
      "text/plain": [
       "array([30.15131174, 38.3724416 , 47.07685095, 43.32491082, 44.93087555,\n",
       "       52.22658963, 53.66208663, 50.03343896])"
      ]
     },
     "execution_count": 9,
     "metadata": {},
     "output_type": "execute_result"
    }
   ],
   "execution_count": 9
  },
  {
   "metadata": {
    "ExecuteTime": {
     "end_time": "2025-05-26T08:37:11.723354Z",
     "start_time": "2025-05-26T08:37:11.720205Z"
    }
   },
   "cell_type": "code",
   "source": "np.asarray(post_cov)",
   "id": "713a50477cd051c1",
   "outputs": [
    {
     "data": {
      "text/plain": [
       "array([[ 1.35880061e+00,  2.13949374e-02, -2.59934644e-03,\n",
       "         2.59717184e-03,  2.78766148e-04,  1.99815157e-05,\n",
       "         1.00589065e-04,  1.34217805e-04],\n",
       "       [ 2.13949374e-02,  1.13375955e+00,  6.28684547e-01,\n",
       "         2.58187871e-01,  1.14224881e-02,  2.10924104e-03,\n",
       "        -1.23947114e-03, -1.44853546e-03],\n",
       "       [-2.59934644e-03,  6.28684547e-01,  9.60931463e-01,\n",
       "         7.53038338e-01,  6.20443346e-03,  1.67904577e-03,\n",
       "        -3.24402810e-03, -5.33656101e-03],\n",
       "       [ 2.59717184e-03,  2.58187871e-01,  7.53038338e-01,\n",
       "         1.03195229e+00,  8.03054697e-02,  1.59016757e-02,\n",
       "         1.68051941e-02,  1.67388740e-02],\n",
       "       [ 2.78766148e-04,  1.14224881e-02,  6.20443346e-03,\n",
       "         8.03054697e-02,  1.12600160e+00,  8.34191485e-01,\n",
       "         5.19943111e-01,  3.24579521e-01],\n",
       "       [ 1.99815157e-05,  2.10924104e-03,  1.67904577e-03,\n",
       "         1.59016757e-02,  8.34191485e-01,  9.39931650e-01,\n",
       "         8.10230861e-01,  6.10321928e-01],\n",
       "       [ 1.00589065e-04, -1.23947114e-03, -3.24402810e-03,\n",
       "         1.68051941e-02,  5.19943111e-01,  8.10230861e-01,\n",
       "         9.49594895e-01,  9.10039821e-01],\n",
       "       [ 1.34217805e-04, -1.44853546e-03, -5.33656101e-03,\n",
       "         1.67388740e-02,  3.24579521e-01,  6.10321928e-01,\n",
       "         9.10039821e-01,  1.08573632e+00]])"
      ]
     },
     "execution_count": 10,
     "metadata": {},
     "output_type": "execute_result"
    }
   ],
   "execution_count": 10
  },
  {
   "metadata": {
    "ExecuteTime": {
     "end_time": "2025-05-26T08:37:12.884979Z",
     "start_time": "2025-05-26T08:37:11.815080Z"
    }
   },
   "cell_type": "code",
   "source": [
    "mean_llh = magma_neg_likelihood(mean_kern, all_inputs, post_mean, jnp.array([0]), post_cov, nugget=nugget)\n",
    "mean_llh.item()"
   ],
   "id": "5976da68979cb8b8",
   "outputs": [
    {
     "ename": "ValueError",
     "evalue": "multivariate_normal.logpdf got incompatible shapes",
     "output_type": "error",
     "traceback": [
      "\u001B[0;31m---------------------------------------------------------------------------\u001B[0m",
      "\u001B[0;31mValueError\u001B[0m                                Traceback (most recent call last)",
      "Cell \u001B[0;32mIn[11], line 1\u001B[0m\n\u001B[0;32m----> 1\u001B[0m mean_llh \u001B[38;5;241m=\u001B[39m magma_neg_likelihood(mean_kern, all_inputs, post_mean, jnp\u001B[38;5;241m.\u001B[39marray([\u001B[38;5;241m0\u001B[39m]), post_cov, nugget\u001B[38;5;241m=\u001B[39mnugget)\n\u001B[1;32m      2\u001B[0m mean_llh\u001B[38;5;241m.\u001B[39mitem()\n",
      "    \u001B[0;31m[... skipping hidden 13 frame]\u001B[0m\n",
      "Cell \u001B[0;32mIn[5], line 66\u001B[0m, in \u001B[0;36mmagma_neg_likelihood\u001B[0;34m(kernel, inputs, outputs, mean, mean_process_cov, mask, nugget)\u001B[0m\n\u001B[1;32m     64\u001B[0m \u001B[38;5;66;03m# check if we need to vmap\u001B[39;00m\n\u001B[1;32m     65\u001B[0m \u001B[38;5;28;01mif\u001B[39;00m inputs\u001B[38;5;241m.\u001B[39mndim \u001B[38;5;241m==\u001B[39m \u001B[38;5;241m1\u001B[39m:\n\u001B[0;32m---> 66\u001B[0m \t\u001B[38;5;28;01mreturn\u001B[39;00m magma_neg_likelihood_on_cov(covar, outputs, mean, mean_process_cov, mask, nugget)\n\u001B[1;32m     67\u001B[0m \u001B[38;5;28;01melif\u001B[39;00m inputs\u001B[38;5;241m.\u001B[39mndim \u001B[38;5;241m==\u001B[39m \u001B[38;5;241m2\u001B[39m:\n\u001B[1;32m     68\u001B[0m \t\u001B[38;5;28;01mreturn\u001B[39;00m vmap(magma_neg_likelihood_on_cov, in_axes\u001B[38;5;241m=\u001B[39m(\u001B[38;5;241m0\u001B[39m, \u001B[38;5;241m0\u001B[39m, \u001B[38;5;28;01mNone\u001B[39;00m, \u001B[38;5;28;01mNone\u001B[39;00m, \u001B[38;5;241m0\u001B[39m, \u001B[38;5;28;01mNone\u001B[39;00m))(covar, outputs, mean,\n\u001B[1;32m     69\u001B[0m \t                                                                              mean_process_cov, mask, nugget)\u001B[38;5;241m.\u001B[39msum()\n",
      "    \u001B[0;31m[... skipping hidden 13 frame]\u001B[0m\n",
      "Cell \u001B[0;32mIn[5], line 24\u001B[0m, in \u001B[0;36mmagma_neg_likelihood_on_cov\u001B[0;34m(covar, outputs, mean, mean_process_cov, mask, nugget)\u001B[0m\n\u001B[1;32m     20\u001B[0m \tmean_process_cov \u001B[38;5;241m=\u001B[39m jnp\u001B[38;5;241m.\u001B[39mwhere(mask_2D, mean_process_cov, jnp\u001B[38;5;241m.\u001B[39meye(outputs\u001B[38;5;241m.\u001B[39mshape[\u001B[38;5;241m0\u001B[39m]))\n\u001B[1;32m     23\u001B[0m \u001B[38;5;66;03m# Compute log-likelihood\u001B[39;00m\n\u001B[0;32m---> 24\u001B[0m multiv_neg_log_lik \u001B[38;5;241m=\u001B[39m \u001B[38;5;241m-\u001B[39mlogpdf(outputs, mean, covar \u001B[38;5;241m+\u001B[39m nugget_matrix)\n\u001B[1;32m     26\u001B[0m \u001B[38;5;66;03m# Compute correction term\u001B[39;00m\n\u001B[1;32m     27\u001B[0m correction \u001B[38;5;241m=\u001B[39m \u001B[38;5;241m0.5\u001B[39m \u001B[38;5;241m*\u001B[39m jnp\u001B[38;5;241m.\u001B[39mtrace(solve_right_cholesky(covar, mean_process_cov, nugget\u001B[38;5;241m=\u001B[39mnugget))\n",
      "File \u001B[0;32m/opt/anaconda3/envs/MagmaClustPy/lib/python3.12/site-packages/jax/_src/scipy/stats/multivariate_normal.py:65\u001B[0m, in \u001B[0;36mlogpdf\u001B[0;34m(x, mean, cov, allow_singular)\u001B[0m\n\u001B[1;32m     63\u001B[0m \u001B[38;5;28;01melse\u001B[39;00m:\n\u001B[1;32m     64\u001B[0m   \u001B[38;5;28;01mif\u001B[39;00m cov\u001B[38;5;241m.\u001B[39mndim \u001B[38;5;241m<\u001B[39m \u001B[38;5;241m2\u001B[39m \u001B[38;5;129;01mor\u001B[39;00m cov\u001B[38;5;241m.\u001B[39mshape[\u001B[38;5;241m-\u001B[39m\u001B[38;5;241m2\u001B[39m:] \u001B[38;5;241m!=\u001B[39m (n, n):\n\u001B[0;32m---> 65\u001B[0m     \u001B[38;5;28;01mraise\u001B[39;00m \u001B[38;5;167;01mValueError\u001B[39;00m(\u001B[38;5;124m\"\u001B[39m\u001B[38;5;124mmultivariate_normal.logpdf got incompatible shapes\u001B[39m\u001B[38;5;124m\"\u001B[39m)\n\u001B[1;32m     66\u001B[0m   L \u001B[38;5;241m=\u001B[39m lax\u001B[38;5;241m.\u001B[39mlinalg\u001B[38;5;241m.\u001B[39mcholesky(cov)\n\u001B[1;32m     67\u001B[0m   y \u001B[38;5;241m=\u001B[39m jnp\u001B[38;5;241m.\u001B[39mvectorize(\n\u001B[1;32m     68\u001B[0m     partial(lax\u001B[38;5;241m.\u001B[39mlinalg\u001B[38;5;241m.\u001B[39mtriangular_solve, lower\u001B[38;5;241m=\u001B[39m\u001B[38;5;28;01mTrue\u001B[39;00m, transpose_a\u001B[38;5;241m=\u001B[39m\u001B[38;5;28;01mTrue\u001B[39;00m),\n\u001B[1;32m     69\u001B[0m     signature\u001B[38;5;241m=\u001B[39m\u001B[38;5;124m\"\u001B[39m\u001B[38;5;124m(n,n),(n)->(n)\u001B[39m\u001B[38;5;124m\"\u001B[39m\n\u001B[1;32m     70\u001B[0m   )(L, x \u001B[38;5;241m-\u001B[39m mean)\n",
      "\u001B[0;31mValueError\u001B[0m: multivariate_normal.logpdf got incompatible shapes"
     ]
    }
   ],
   "execution_count": 11
  },
  {
   "metadata": {
    "ExecuteTime": {
     "end_time": "2025-05-26T08:37:12.888329Z",
     "start_time": "2025-05-23T12:46:31.734239Z"
    }
   },
   "cell_type": "code",
   "source": [
    "task_llhs = magma_neg_likelihood(task_kern, padded_inputs, padded_outputs, post_mean, post_cov, mask=masks, nugget=nugget)\n",
    "np.asarray(task_llhs)"
   ],
   "id": "7aaf7bbc5aa4235a",
   "outputs": [
    {
     "data": {
      "text/plain": [
       "array(848.85191789)"
      ]
     },
     "execution_count": 12,
     "metadata": {},
     "output_type": "execute_result"
    }
   ],
   "execution_count": 12
  },
  {
   "metadata": {
    "ExecuteTime": {
     "end_time": "2025-05-26T08:37:12.888719Z",
     "start_time": "2025-05-23T12:46:31.877674Z"
    }
   },
   "cell_type": "code",
   "source": "task_llhs.sum().item()",
   "id": "e1103ebd9ec6c20c",
   "outputs": [
    {
     "data": {
      "text/plain": [
       "848.8519178862825"
      ]
     },
     "execution_count": 13,
     "metadata": {},
     "output_type": "execute_result"
    }
   ],
   "execution_count": 13
  },
  {
   "metadata": {},
   "cell_type": "markdown",
   "source": "### Unpadded",
   "id": "822a7de272c12120"
  },
  {
   "metadata": {
    "ExecuteTime": {
     "end_time": "2025-05-26T08:37:12.897156Z",
     "start_time": "2025-05-23T12:46:31.907167Z"
    }
   },
   "cell_type": "code",
   "source": [
    "task_1_inputs = padded_inputs[0][masks[0]]\n",
    "task_1_outputs = padded_outputs[0][masks[0]]\n",
    "task_1_inputs, task_1_outputs"
   ],
   "id": "ec1fdf0bc0b1cc34",
   "outputs": [
    {
     "data": {
      "text/plain": [
       "(Array([0.4 , 4.45, 7.6 , 8.3 ], dtype=float64, weak_type=True),\n",
       " Array([59.8162 , 67.13694, 78.32495, 81.8359 ], dtype=float64, weak_type=True))"
      ]
     },
     "execution_count": 14,
     "metadata": {},
     "output_type": "execute_result"
    }
   ],
   "execution_count": 14
  },
  {
   "metadata": {
    "ExecuteTime": {
     "end_time": "2025-05-26T08:37:12.897730Z",
     "start_time": "2025-05-23T12:46:32.166911Z"
    }
   },
   "cell_type": "code",
   "source": [
    "task_1_post_mean = post_mean[masks[0]]\n",
    "task_1_post_mean"
   ],
   "id": "8c23a8eb5ed33019",
   "outputs": [
    {
     "data": {
      "text/plain": [
       "Array([30.15131174, 47.07685095, 44.93087555, 52.22658963], dtype=float64)"
      ]
     },
     "execution_count": 15,
     "metadata": {},
     "output_type": "execute_result"
    }
   ],
   "execution_count": 15
  },
  {
   "metadata": {
    "ExecuteTime": {
     "end_time": "2025-05-26T08:37:12.901041Z",
     "start_time": "2025-05-23T12:46:32.216012Z"
    }
   },
   "cell_type": "code",
   "source": [
    "task_1_post_cov = post_cov[masks[0]][:, masks[0]]\n",
    "np.asarray(task_1_post_cov)"
   ],
   "id": "ac4ef5f227bf1a30",
   "outputs": [
    {
     "data": {
      "text/plain": [
       "array([[ 1.35880061e+00, -2.59934644e-03,  2.78766148e-04,\n",
       "         1.99815157e-05],\n",
       "       [-2.59934644e-03,  9.60931463e-01,  6.20443346e-03,\n",
       "         1.67904577e-03],\n",
       "       [ 2.78766148e-04,  6.20443346e-03,  1.12600160e+00,\n",
       "         8.34191485e-01],\n",
       "       [ 1.99815157e-05,  1.67904577e-03,  8.34191485e-01,\n",
       "         9.39931650e-01]])"
      ]
     },
     "execution_count": 16,
     "metadata": {},
     "output_type": "execute_result"
    }
   ],
   "execution_count": 16
  },
  {
   "metadata": {
    "ExecuteTime": {
     "end_time": "2025-05-26T08:37:12.941508Z",
     "start_time": "2025-05-23T12:46:32.299990Z"
    }
   },
   "cell_type": "code",
   "source": [
    "task_1_llh = magma_neg_likelihood(task_kern, task_1_inputs, task_1_outputs, task_1_post_mean, task_1_post_cov, nugget=nugget)\n",
    "task_1_llh"
   ],
   "id": "aef6dc14f7c74391",
   "outputs": [
    {
     "data": {
      "text/plain": [
       "Array(443.00084209, dtype=float64)"
      ]
     },
     "execution_count": 17,
     "metadata": {},
     "output_type": "execute_result"
    }
   ],
   "execution_count": 17
  },
  {
   "metadata": {},
   "cell_type": "markdown",
   "source": "### Padded",
   "id": "da525be6ddb7ce2c"
  },
  {
   "metadata": {
    "ExecuteTime": {
     "end_time": "2025-05-26T08:37:12.972894Z",
     "start_time": "2025-05-23T12:46:32.385950Z"
    }
   },
   "cell_type": "code",
   "source": "i = 1",
   "id": "5ba2c495e750112c",
   "outputs": [],
   "execution_count": 18
  },
  {
   "metadata": {
    "ExecuteTime": {
     "end_time": "2025-05-26T08:37:12.998637Z",
     "start_time": "2025-05-23T12:46:32.397292Z"
    }
   },
   "cell_type": "code",
   "source": [
    "task_0_llh = magma_neg_likelihood(task_kern, padded_inputs[i], padded_outputs[i], post_mean, post_cov, mask=masks[i], nugget=nugget)\n",
    "task_0_llh"
   ],
   "id": "9b0a3fbdf3bd45fe",
   "outputs": [
    {
     "data": {
      "text/plain": [
       "Array(405.8510758, dtype=float64)"
      ]
     },
     "execution_count": 19,
     "metadata": {},
     "output_type": "execute_result"
    }
   ],
   "execution_count": 19
  },
  {
   "metadata": {
    "ExecuteTime": {
     "end_time": "2025-05-26T08:37:13.025689Z",
     "start_time": "2025-05-23T12:46:32.471750Z"
    }
   },
   "cell_type": "code",
   "source": [
    "outputs = jnp.where(masks, padded_outputs, 0)\n",
    "outputs[i]"
   ],
   "id": "1e1e540db296c714",
   "outputs": [
    {
     "data": {
      "text/plain": [
       "Array([ 0.     , 62.04943,  0.     , 67.31932,  0.     ,  0.     ,\n",
       "       85.94063, 86.76426], dtype=float64, weak_type=True)"
      ]
     },
     "execution_count": 20,
     "metadata": {},
     "output_type": "execute_result"
    }
   ],
   "execution_count": 20
  },
  {
   "metadata": {
    "ExecuteTime": {
     "end_time": "2025-05-26T08:37:13.028417Z",
     "start_time": "2025-05-23T12:46:32.512671Z"
    }
   },
   "cell_type": "code",
   "source": [
    "covar = task_kern(padded_inputs[i])\n",
    "mask_2D = masks[i][:, None] & masks[i][None, :]\n",
    "covar = jnp.where(mask_2D, covar, jnp.eye(padded_outputs[i].shape[0]))\n",
    "np.asarray(covar)"
   ],
   "id": "bce9d14a923362d7",
   "outputs": [
    {
     "data": {
      "text/plain": [
       "array([[1.00000000e+00, 0.00000000e+00, 0.00000000e+00, 0.00000000e+00,\n",
       "        0.00000000e+00, 0.00000000e+00, 0.00000000e+00, 0.00000000e+00],\n",
       "       [0.00000000e+00, 2.71828183e+00, 0.00000000e+00, 1.05311525e+00,\n",
       "        0.00000000e+00, 0.00000000e+00, 6.75910648e-05, 8.49251154e-06],\n",
       "       [0.00000000e+00, 0.00000000e+00, 1.00000000e+00, 0.00000000e+00,\n",
       "        0.00000000e+00, 0.00000000e+00, 0.00000000e+00, 0.00000000e+00],\n",
       "       [0.00000000e+00, 1.05311525e+00, 0.00000000e+00, 2.71828183e+00,\n",
       "        0.00000000e+00, 0.00000000e+00, 1.48630336e-02, 3.37785443e-03],\n",
       "       [0.00000000e+00, 0.00000000e+00, 0.00000000e+00, 0.00000000e+00,\n",
       "        1.00000000e+00, 0.00000000e+00, 0.00000000e+00, 0.00000000e+00],\n",
       "       [0.00000000e+00, 0.00000000e+00, 0.00000000e+00, 0.00000000e+00,\n",
       "        0.00000000e+00, 1.00000000e+00, 0.00000000e+00, 0.00000000e+00],\n",
       "       [0.00000000e+00, 6.75910648e-05, 0.00000000e+00, 1.48630336e-02,\n",
       "        0.00000000e+00, 0.00000000e+00, 2.71828183e+00, 2.47786604e+00],\n",
       "       [0.00000000e+00, 8.49251154e-06, 0.00000000e+00, 3.37785443e-03,\n",
       "        0.00000000e+00, 0.00000000e+00, 2.47786604e+00, 2.71828183e+00]])"
      ]
     },
     "execution_count": 21,
     "metadata": {},
     "output_type": "execute_result"
    }
   ],
   "execution_count": 21
  },
  {
   "metadata": {
    "ExecuteTime": {
     "end_time": "2025-05-26T08:37:13.029129Z",
     "start_time": "2025-05-23T12:46:32.665232Z"
    }
   },
   "cell_type": "code",
   "source": "np.asarray(jnp.linalg.inv(covar[masks[i]][:, masks[i]]+nugget))",
   "id": "68e3d0b75e2e6cbb",
   "outputs": [
    {
     "data": {
      "text/plain": [
       "array([[ 0.43285552, -0.1677153 ,  0.00424407, -0.00366165],\n",
       "       [-0.1677153 ,  0.4329043 , -0.01107839,  0.00956115],\n",
       "       [ 0.00424407, -0.01107839,  2.17623895, -1.98374986],\n",
       "       [-0.00366165,  0.00956115, -1.98374986,  2.17616661]])"
      ]
     },
     "execution_count": 22,
     "metadata": {},
     "output_type": "execute_result"
    }
   ],
   "execution_count": 22
  },
  {
   "metadata": {
    "ExecuteTime": {
     "end_time": "2025-05-26T08:37:13.029427Z",
     "start_time": "2025-05-23T12:46:32.839050Z"
    }
   },
   "cell_type": "code",
   "source": "nugget_matrix = jnp.eye(outputs[i].shape[0]) * nugget",
   "id": "c7bcb9f4401da71d",
   "outputs": [],
   "execution_count": 23
  },
  {
   "metadata": {
    "ExecuteTime": {
     "end_time": "2025-05-26T08:37:13.029657Z",
     "start_time": "2025-05-23T12:46:32.880806Z"
    }
   },
   "cell_type": "code",
   "source": [
    "post_mean_i = jnp.where(masks[i], post_mean, 0)\n",
    "post_mean_i"
   ],
   "id": "a06d4d72b9e6840d",
   "outputs": [
    {
     "data": {
      "text/plain": [
       "Array([ 0.        , 38.3724416 ,  0.        , 43.32491082,  0.        ,\n",
       "        0.        , 53.66208663, 50.03343896], dtype=float64)"
      ]
     },
     "execution_count": 24,
     "metadata": {},
     "output_type": "execute_result"
    }
   ],
   "execution_count": 24
  },
  {
   "metadata": {
    "ExecuteTime": {
     "end_time": "2025-05-26T08:37:13.029858Z",
     "start_time": "2025-05-23T12:46:32.937496Z"
    }
   },
   "cell_type": "code",
   "source": [
    "multiv_neg_log_lik = -logpdf(outputs[i], post_mean_i, covar + nugget_matrix)\n",
    "cor = 0.5 * jnp.log(2 * jnp.pi) * jnp.sum(~masks[i], axis=0)\n",
    "multiv_neg_log_lik - cor, multiv_neg_log_lik"
   ],
   "id": "269b21fcd2037b20",
   "outputs": [
    {
     "data": {
      "text/plain": [
       "(Array(405.01630572, dtype=float64), Array(408.69205985, dtype=float64))"
      ]
     },
     "execution_count": 25,
     "metadata": {},
     "output_type": "execute_result"
    }
   ],
   "execution_count": 25
  },
  {
   "metadata": {
    "ExecuteTime": {
     "end_time": "2025-05-26T08:37:13.030017Z",
     "start_time": "2025-05-23T12:46:33.513589Z"
    }
   },
   "cell_type": "code",
   "source": "outputs[i]",
   "id": "afae8673a5634ced",
   "outputs": [
    {
     "data": {
      "text/plain": [
       "Array([ 0.     , 62.04943,  0.     , 67.31932,  0.     ,  0.     ,\n",
       "       85.94063, 86.76426], dtype=float64, weak_type=True)"
      ]
     },
     "execution_count": 26,
     "metadata": {},
     "output_type": "execute_result"
    }
   ],
   "execution_count": 26
  },
  {
   "metadata": {
    "ExecuteTime": {
     "end_time": "2025-05-26T08:37:13.030261Z",
     "start_time": "2025-05-23T12:46:33.537700Z"
    }
   },
   "cell_type": "code",
   "source": "post_mean",
   "id": "fd298d92e2df3d9b",
   "outputs": [
    {
     "data": {
      "text/plain": [
       "Array([30.15131174, 38.3724416 , 47.07685095, 43.32491082, 44.93087555,\n",
       "       52.22658963, 53.66208663, 50.03343896], dtype=float64)"
      ]
     },
     "execution_count": 27,
     "metadata": {},
     "output_type": "execute_result"
    }
   ],
   "execution_count": 27
  },
  {
   "metadata": {
    "ExecuteTime": {
     "end_time": "2025-05-26T08:37:13.031816Z",
     "start_time": "2025-05-23T12:46:33.558889Z"
    }
   },
   "cell_type": "code",
   "source": [
    "post_cov_i = jnp.where(mask_2D, post_cov, jnp.eye(padded_outputs[i].shape[0]))\n",
    "np.asarray(post_cov_i)"
   ],
   "id": "a4d843ea0853845c",
   "outputs": [
    {
     "data": {
      "text/plain": [
       "array([[ 1.        ,  0.        ,  0.        ,  0.        ,  0.        ,\n",
       "         0.        ,  0.        ,  0.        ],\n",
       "       [ 0.        ,  1.13375955,  0.        ,  0.25818787,  0.        ,\n",
       "         0.        , -0.00123947, -0.00144854],\n",
       "       [ 0.        ,  0.        ,  1.        ,  0.        ,  0.        ,\n",
       "         0.        ,  0.        ,  0.        ],\n",
       "       [ 0.        ,  0.25818787,  0.        ,  1.03195229,  0.        ,\n",
       "         0.        ,  0.01680519,  0.01673887],\n",
       "       [ 0.        ,  0.        ,  0.        ,  0.        ,  1.        ,\n",
       "         0.        ,  0.        ,  0.        ],\n",
       "       [ 0.        ,  0.        ,  0.        ,  0.        ,  0.        ,\n",
       "         1.        ,  0.        ,  0.        ],\n",
       "       [ 0.        , -0.00123947,  0.        ,  0.01680519,  0.        ,\n",
       "         0.        ,  0.94959489,  0.91003982],\n",
       "       [ 0.        , -0.00144854,  0.        ,  0.01673887,  0.        ,\n",
       "         0.        ,  0.91003982,  1.08573632]])"
      ]
     },
     "execution_count": 28,
     "metadata": {},
     "output_type": "execute_result"
    }
   ],
   "execution_count": 28
  },
  {
   "metadata": {
    "ExecuteTime": {
     "end_time": "2025-05-26T08:37:13.032307Z",
     "start_time": "2025-05-23T12:46:33.607834Z"
    }
   },
   "cell_type": "code",
   "source": [
    "correction = 0.5 * jnp.trace(solve_right_cholesky(covar, post_cov_i, nugget=nugget))\n",
    "corr_pad_correction = 0.5 * jnp.sum(~masks[i], axis=0)\n",
    "correction - corr_pad_correction, correction, corr_pad_correction"
   ],
   "id": "e8a028d6965b665f",
   "outputs": [
    {
     "data": {
      "text/plain": [
       "(Array(0.83477008, dtype=float64),\n",
       " Array(2.83477008, dtype=float64),\n",
       " Array(2., dtype=float64, weak_type=True))"
      ]
     },
     "execution_count": 29,
     "metadata": {},
     "output_type": "execute_result"
    }
   ],
   "execution_count": 29
  },
  {
   "metadata": {
    "ExecuteTime": {
     "end_time": "2025-05-26T08:37:13.032588Z",
     "start_time": "2025-05-23T12:46:33.690413Z"
    }
   },
   "cell_type": "code",
   "source": "0.5 * jnp.trace(jnp.linalg.inv(covar) @ post_cov)",
   "id": "bcc13411ad9ee901",
   "outputs": [
    {
     "data": {
      "text/plain": [
       "Array(3.02760274, dtype=float64)"
      ]
     },
     "execution_count": 30,
     "metadata": {},
     "output_type": "execute_result"
    }
   ],
   "execution_count": 30
  },
  {
   "metadata": {
    "ExecuteTime": {
     "end_time": "2025-05-26T08:37:13.032791Z",
     "start_time": "2025-05-23T12:46:33.772759Z"
    }
   },
   "cell_type": "code",
   "source": "0.5 * jnp.trace(jnp.linalg.inv(covar[masks[i]][:, masks[i]]) @ post_cov[masks[i]][:, masks[i]])",
   "id": "7aa6fd69827d66d1",
   "outputs": [
    {
     "data": {
      "text/plain": [
       "Array(0.83477008, dtype=float64)"
      ]
     },
     "execution_count": 31,
     "metadata": {},
     "output_type": "execute_result"
    }
   ],
   "execution_count": 31
  },
  {
   "metadata": {
    "ExecuteTime": {
     "end_time": "2025-05-26T08:37:13.032979Z",
     "start_time": "2025-05-23T12:46:33.827292Z"
    }
   },
   "cell_type": "code",
   "source": "0.5 * jnp.trace(solve_right_cholesky(covar[masks[i]][:, masks[i]], post_cov[masks[i]][:, masks[i]], nugget=nugget))",
   "id": "cb6d0c9f5f58034e",
   "outputs": [
    {
     "data": {
      "text/plain": [
       "Array(0.83477008, dtype=float64)"
      ]
     },
     "execution_count": 32,
     "metadata": {},
     "output_type": "execute_result"
    }
   ],
   "execution_count": 32
  },
  {
   "metadata": {},
   "cell_type": "markdown",
   "source": "### Batched unpadded",
   "id": "97c0ca77ceb5b064"
  },
  {
   "metadata": {
    "ExecuteTime": {
     "end_time": "2025-05-26T08:37:13.033168Z",
     "start_time": "2025-05-23T12:46:33.875531Z"
    }
   },
   "cell_type": "code",
   "source": [
    "tasks_inputs = padded_inputs[masks].reshape(padded_inputs.shape[0], -1)\n",
    "tasks_outputs = padded_outputs[masks].reshape(padded_outputs.shape[0], -1)\n",
    "tasks_inputs, tasks_outputs"
   ],
   "id": "7a965be23f8dac82",
   "outputs": [
    {
     "data": {
      "text/plain": [
       "(Array([[0.4 , 4.45, 7.6 , 8.3 ],\n",
       "        [3.5 , 5.1 , 8.85, 9.35]], dtype=float64, weak_type=True),\n",
       " Array([[59.8162 , 67.13694, 78.32495, 81.8359 ],\n",
       "        [62.04943, 67.31932, 85.94063, 86.76426]],      dtype=float64, weak_type=True))"
      ]
     },
     "execution_count": 33,
     "metadata": {},
     "output_type": "execute_result"
    }
   ],
   "execution_count": 33
  },
  {
   "metadata": {
    "ExecuteTime": {
     "end_time": "2025-05-26T08:37:13.033390Z",
     "start_time": "2025-05-23T12:46:34.079989Z"
    }
   },
   "cell_type": "code",
   "source": [
    "idx = jnp.searchsorted(all_inputs, tasks_inputs)\n",
    "tasks_post_means = post_mean[idx]\n",
    "tasks_post_means"
   ],
   "id": "bce77d5428f0f68d",
   "outputs": [
    {
     "data": {
      "text/plain": [
       "Array([[30.15131174, 47.07685095, 44.93087555, 52.22658963],\n",
       "       [38.3724416 , 43.32491082, 53.66208663, 50.03343896]],      dtype=float64)"
      ]
     },
     "execution_count": 34,
     "metadata": {},
     "output_type": "execute_result"
    }
   ],
   "execution_count": 34
  },
  {
   "metadata": {
    "ExecuteTime": {
     "end_time": "2025-05-26T08:37:13.033659Z",
     "start_time": "2025-05-23T12:46:34.266058Z"
    }
   },
   "cell_type": "code",
   "source": [
    "tasks_post_covs = jnp.stack([post_cov[m][:, m] for m in masks])\n",
    "np.asarray(tasks_post_covs)"
   ],
   "id": "aea008514f728a0b",
   "outputs": [
    {
     "data": {
      "text/plain": [
       "array([[[ 1.35880061e+00, -2.59934644e-03,  2.78766148e-04,\n",
       "          1.99815157e-05],\n",
       "        [-2.59934644e-03,  9.60931463e-01,  6.20443346e-03,\n",
       "          1.67904577e-03],\n",
       "        [ 2.78766148e-04,  6.20443346e-03,  1.12600160e+00,\n",
       "          8.34191485e-01],\n",
       "        [ 1.99815157e-05,  1.67904577e-03,  8.34191485e-01,\n",
       "          9.39931650e-01]],\n",
       "\n",
       "       [[ 1.13375955e+00,  2.58187871e-01, -1.23947114e-03,\n",
       "         -1.44853546e-03],\n",
       "        [ 2.58187871e-01,  1.03195229e+00,  1.68051941e-02,\n",
       "          1.67388740e-02],\n",
       "        [-1.23947114e-03,  1.68051941e-02,  9.49594895e-01,\n",
       "          9.10039821e-01],\n",
       "        [-1.44853546e-03,  1.67388740e-02,  9.10039821e-01,\n",
       "          1.08573632e+00]]])"
      ]
     },
     "execution_count": 35,
     "metadata": {},
     "output_type": "execute_result"
    }
   ],
   "execution_count": 35
  },
  {
   "metadata": {
    "ExecuteTime": {
     "end_time": "2025-05-26T08:37:13.033905Z",
     "start_time": "2025-05-23T12:46:34.337768Z"
    }
   },
   "cell_type": "code",
   "source": [
    "covar = task_kern(tasks_inputs)\n",
    "np.asarray(covar)"
   ],
   "id": "ba7b48ebc925aa86",
   "outputs": [
    {
     "data": {
      "text/plain": [
       "array([[[2.71828183e+00, 6.24711556e-03, 1.24442362e-08, 2.48089245e-10],\n",
       "        [6.24711556e-03, 2.71828183e+00, 6.88803459e-02, 1.12162794e-02],\n",
       "        [1.24442362e-08, 6.88803459e-02, 2.71828183e+00, 2.26709559e+00],\n",
       "        [2.48089245e-10, 1.12162794e-02, 2.26709559e+00, 2.71828183e+00]],\n",
       "\n",
       "       [[2.71828183e+00, 1.05311525e+00, 6.75910648e-05, 8.49251154e-06],\n",
       "        [1.05311525e+00, 2.71828183e+00, 1.48630336e-02, 3.37785443e-03],\n",
       "        [6.75910648e-05, 1.48630336e-02, 2.71828183e+00, 2.47786604e+00],\n",
       "        [8.49251154e-06, 3.37785443e-03, 2.47786604e+00, 2.71828183e+00]]])"
      ]
     },
     "execution_count": 36,
     "metadata": {},
     "output_type": "execute_result"
    }
   ],
   "execution_count": 36
  },
  {
   "metadata": {
    "ExecuteTime": {
     "end_time": "2025-05-26T08:37:13.034115Z",
     "start_time": "2025-05-23T12:46:34.435263Z"
    }
   },
   "cell_type": "code",
   "source": [
    "tasks_llhs = magma_neg_likelihood(task_kern, tasks_inputs, tasks_outputs, tasks_post_means, tasks_post_covs, nugget=nugget)\n",
    "tasks_llhs"
   ],
   "id": "ebc4fcb255bacb38",
   "outputs": [
    {
     "ename": "ValueError",
     "evalue": "The arguments to solve must have shapes a=[..., m, m] and b=[..., m, k] or b=[..., m]; got a=(4, 4) and b=(2, 4, 4)",
     "output_type": "error",
     "traceback": [
      "\u001B[0;31m---------------------------------------------------------------------------\u001B[0m",
      "\u001B[0;31mValueError\u001B[0m                                Traceback (most recent call last)",
      "Cell \u001B[0;32mIn[37], line 1\u001B[0m\n\u001B[0;32m----> 1\u001B[0m tasks_llhs \u001B[38;5;241m=\u001B[39m magma_neg_likelihood(task_kern, tasks_inputs, tasks_outputs, tasks_post_means, tasks_post_covs, nugget\u001B[38;5;241m=\u001B[39mnugget)\n\u001B[1;32m      2\u001B[0m tasks_llhs\n",
      "    \u001B[0;31m[... skipping hidden 13 frame]\u001B[0m\n",
      "Cell \u001B[0;32mIn[5], line 68\u001B[0m, in \u001B[0;36mmagma_neg_likelihood\u001B[0;34m(kernel, inputs, outputs, mean, mean_process_cov, mask, nugget)\u001B[0m\n\u001B[1;32m     66\u001B[0m \t\u001B[38;5;28;01mreturn\u001B[39;00m magma_neg_likelihood_on_cov(covar, outputs, mean, mean_process_cov, mask, nugget)\n\u001B[1;32m     67\u001B[0m \u001B[38;5;28;01melif\u001B[39;00m inputs\u001B[38;5;241m.\u001B[39mndim \u001B[38;5;241m==\u001B[39m \u001B[38;5;241m2\u001B[39m:\n\u001B[0;32m---> 68\u001B[0m \t\u001B[38;5;28;01mreturn\u001B[39;00m vmap(magma_neg_likelihood_on_cov, in_axes\u001B[38;5;241m=\u001B[39m(\u001B[38;5;241m0\u001B[39m, \u001B[38;5;241m0\u001B[39m, \u001B[38;5;28;01mNone\u001B[39;00m, \u001B[38;5;28;01mNone\u001B[39;00m, \u001B[38;5;241m0\u001B[39m, \u001B[38;5;28;01mNone\u001B[39;00m))(covar, outputs, mean,\n\u001B[1;32m     69\u001B[0m \t                                                                              mean_process_cov, mask, nugget)\u001B[38;5;241m.\u001B[39msum()\n\u001B[1;32m     70\u001B[0m \u001B[38;5;28;01melse\u001B[39;00m:\n\u001B[1;32m     71\u001B[0m \t\u001B[38;5;28;01mraise\u001B[39;00m \u001B[38;5;167;01mValueError\u001B[39;00m(\u001B[38;5;124m\"\u001B[39m\u001B[38;5;124minputs must be either 1D or 2D\u001B[39m\u001B[38;5;124m\"\u001B[39m)\n",
      "    \u001B[0;31m[... skipping hidden 19 frame]\u001B[0m\n",
      "Cell \u001B[0;32mIn[5], line 27\u001B[0m, in \u001B[0;36mmagma_neg_likelihood_on_cov\u001B[0;34m(covar, outputs, mean, mean_process_cov, mask, nugget)\u001B[0m\n\u001B[1;32m     24\u001B[0m multiv_neg_log_lik \u001B[38;5;241m=\u001B[39m \u001B[38;5;241m-\u001B[39mlogpdf(outputs, mean, covar \u001B[38;5;241m+\u001B[39m nugget_matrix)\n\u001B[1;32m     26\u001B[0m \u001B[38;5;66;03m# Compute correction term\u001B[39;00m\n\u001B[0;32m---> 27\u001B[0m correction \u001B[38;5;241m=\u001B[39m \u001B[38;5;241m0.5\u001B[39m \u001B[38;5;241m*\u001B[39m jnp\u001B[38;5;241m.\u001B[39mtrace(solve_right_cholesky(covar, mean_process_cov, nugget\u001B[38;5;241m=\u001B[39mnugget))\n\u001B[1;32m     29\u001B[0m \u001B[38;5;28;01mif\u001B[39;00m mask \u001B[38;5;129;01mis\u001B[39;00m \u001B[38;5;129;01mnot\u001B[39;00m \u001B[38;5;28;01mNone\u001B[39;00m:\n\u001B[1;32m     30\u001B[0m \t\u001B[38;5;66;03m# Correct log-likelihood for padding\u001B[39;00m\n\u001B[1;32m     31\u001B[0m \t\u001B[38;5;66;03m# The logpdf is computed as:\u001B[39;00m\n\u001B[1;32m     32\u001B[0m \t\u001B[38;5;66;03m# -0.5 * (N * log(2 * pi) + log(det(cov)) + (outputs - mean).T @ inv(cov) @ (outputs - mean))\u001B[39;00m\n\u001B[1;32m     33\u001B[0m \t\u001B[38;5;66;03m# det(cov) and the Mahalanobis distance are not affected by our padding\u001B[39;00m\n\u001B[1;32m     34\u001B[0m \t\u001B[38;5;66;03m# We only have to correct for the -0.5 * N * log(2 * pi) term, as N is bigger with padding\u001B[39;00m\n\u001B[1;32m     35\u001B[0m \tnll_pad_correction \u001B[38;5;241m=\u001B[39m \u001B[38;5;241m0.5\u001B[39m \u001B[38;5;241m*\u001B[39m jnp\u001B[38;5;241m.\u001B[39mlog(\u001B[38;5;241m2\u001B[39m \u001B[38;5;241m*\u001B[39m jnp\u001B[38;5;241m.\u001B[39mpi) \u001B[38;5;241m*\u001B[39m jnp\u001B[38;5;241m.\u001B[39msum(\u001B[38;5;241m~\u001B[39mmask, axis\u001B[38;5;241m=\u001B[39m\u001B[38;5;241m0\u001B[39m)\n",
      "    \u001B[0;31m[... skipping hidden 13 frame]\u001B[0m\n",
      "Cell \u001B[0;32mIn[5], line 7\u001B[0m, in \u001B[0;36msolve_right_cholesky\u001B[0;34m(A, B, nugget)\u001B[0m\n\u001B[1;32m      3\u001B[0m \u001B[38;5;250m\u001B[39m\u001B[38;5;124;03m\"\"\" Solves for X in X @ A = B \"\"\"\u001B[39;00m\n\u001B[1;32m      4\u001B[0m \u001B[38;5;66;03m# For X @ A = B, we can transpose both sides: A.T @ X.T = B.T\u001B[39;00m\n\u001B[1;32m      5\u001B[0m \u001B[38;5;66;03m# As A and B are symmetric, this simplifies to A @ X.T = B\u001B[39;00m\n\u001B[1;32m      6\u001B[0m \u001B[38;5;66;03m# Then solve for X.T and transpose the result\u001B[39;00m\n\u001B[0;32m----> 7\u001B[0m \u001B[38;5;28;01mreturn\u001B[39;00m cho_solve(cho_factor(A \u001B[38;5;241m+\u001B[39m nugget), B)\u001B[38;5;241m.\u001B[39mT\n",
      "File \u001B[0;32m/opt/anaconda3/envs/MagmaClustPy/lib/python3.12/site-packages/jax/_src/scipy/linalg.py:211\u001B[0m, in \u001B[0;36mcho_solve\u001B[0;34m(***failed resolving arguments***)\u001B[0m\n\u001B[1;32m    209\u001B[0m \u001B[38;5;28;01mdel\u001B[39;00m overwrite_b, check_finite  \u001B[38;5;66;03m# Unused\u001B[39;00m\n\u001B[1;32m    210\u001B[0m c, lower \u001B[38;5;241m=\u001B[39m c_and_lower\n\u001B[0;32m--> 211\u001B[0m \u001B[38;5;28;01mreturn\u001B[39;00m _cho_solve(c, b, lower)\n",
      "    \u001B[0;31m[... skipping hidden 15 frame]\u001B[0m\n",
      "File \u001B[0;32m/opt/anaconda3/envs/MagmaClustPy/lib/python3.12/site-packages/jax/_src/scipy/linalg.py:159\u001B[0m, in \u001B[0;36m_cho_solve\u001B[0;34m(c, b, lower)\u001B[0m\n\u001B[1;32m    156\u001B[0m \u001B[38;5;129m@partial\u001B[39m(jit, static_argnames\u001B[38;5;241m=\u001B[39m(\u001B[38;5;124m'\u001B[39m\u001B[38;5;124mlower\u001B[39m\u001B[38;5;124m'\u001B[39m,))\n\u001B[1;32m    157\u001B[0m \u001B[38;5;28;01mdef\u001B[39;00m \u001B[38;5;21m_cho_solve\u001B[39m(c: ArrayLike, b: ArrayLike, lower: \u001B[38;5;28mbool\u001B[39m) \u001B[38;5;241m-\u001B[39m\u001B[38;5;241m>\u001B[39m Array:\n\u001B[1;32m    158\u001B[0m   c, b \u001B[38;5;241m=\u001B[39m promote_dtypes_inexact(jnp\u001B[38;5;241m.\u001B[39masarray(c), jnp\u001B[38;5;241m.\u001B[39masarray(b))\n\u001B[0;32m--> 159\u001B[0m   lax_linalg\u001B[38;5;241m.\u001B[39m_check_solve_shapes(c, b)\n\u001B[1;32m    160\u001B[0m   b \u001B[38;5;241m=\u001B[39m lax_linalg\u001B[38;5;241m.\u001B[39mtriangular_solve(c, b, left_side\u001B[38;5;241m=\u001B[39m\u001B[38;5;28;01mTrue\u001B[39;00m, lower\u001B[38;5;241m=\u001B[39mlower,\n\u001B[1;32m    161\u001B[0m                                   transpose_a\u001B[38;5;241m=\u001B[39m\u001B[38;5;129;01mnot\u001B[39;00m lower, conjugate_a\u001B[38;5;241m=\u001B[39m\u001B[38;5;129;01mnot\u001B[39;00m lower)\n\u001B[1;32m    162\u001B[0m   b \u001B[38;5;241m=\u001B[39m lax_linalg\u001B[38;5;241m.\u001B[39mtriangular_solve(c, b, left_side\u001B[38;5;241m=\u001B[39m\u001B[38;5;28;01mTrue\u001B[39;00m, lower\u001B[38;5;241m=\u001B[39mlower,\n\u001B[1;32m    163\u001B[0m                                   transpose_a\u001B[38;5;241m=\u001B[39mlower, conjugate_a\u001B[38;5;241m=\u001B[39mlower)\n",
      "File \u001B[0;32m/opt/anaconda3/envs/MagmaClustPy/lib/python3.12/site-packages/jax/_src/lax/linalg.py:506\u001B[0m, in \u001B[0;36m_check_solve_shapes\u001B[0;34m(a, b)\u001B[0m\n\u001B[1;32m    503\u001B[0m \u001B[38;5;28;01mdef\u001B[39;00m \u001B[38;5;21m_check_solve_shapes\u001B[39m(a: Array, b: Array):\n\u001B[1;32m    504\u001B[0m   \u001B[38;5;28;01mif\u001B[39;00m \u001B[38;5;129;01mnot\u001B[39;00m (a\u001B[38;5;241m.\u001B[39mndim \u001B[38;5;241m>\u001B[39m\u001B[38;5;241m=\u001B[39m \u001B[38;5;241m2\u001B[39m \u001B[38;5;129;01mand\u001B[39;00m b\u001B[38;5;241m.\u001B[39mndim \u001B[38;5;129;01min\u001B[39;00m [a\u001B[38;5;241m.\u001B[39mndim, a\u001B[38;5;241m.\u001B[39mndim \u001B[38;5;241m-\u001B[39m \u001B[38;5;241m1\u001B[39m] \u001B[38;5;129;01mand\u001B[39;00m\n\u001B[1;32m    505\u001B[0m           a\u001B[38;5;241m.\u001B[39mshape[\u001B[38;5;241m-\u001B[39m\u001B[38;5;241m1\u001B[39m] \u001B[38;5;241m==\u001B[39m a\u001B[38;5;241m.\u001B[39mshape[\u001B[38;5;241m-\u001B[39m\u001B[38;5;241m2\u001B[39m] \u001B[38;5;241m==\u001B[39m b\u001B[38;5;241m.\u001B[39mshape[a\u001B[38;5;241m.\u001B[39mndim \u001B[38;5;241m-\u001B[39m \u001B[38;5;241m2\u001B[39m]):\n\u001B[0;32m--> 506\u001B[0m     \u001B[38;5;28;01mraise\u001B[39;00m \u001B[38;5;167;01mValueError\u001B[39;00m(\n\u001B[1;32m    507\u001B[0m         \u001B[38;5;124m\"\u001B[39m\u001B[38;5;124mThe arguments to solve must have shapes a=[..., m, m] and \u001B[39m\u001B[38;5;124m\"\u001B[39m\n\u001B[1;32m    508\u001B[0m         \u001B[38;5;124mf\u001B[39m\u001B[38;5;124m\"\u001B[39m\u001B[38;5;124mb=[..., m, k] or b=[..., m]; got a=\u001B[39m\u001B[38;5;132;01m{\u001B[39;00ma\u001B[38;5;241m.\u001B[39mshape\u001B[38;5;132;01m}\u001B[39;00m\u001B[38;5;124m and b=\u001B[39m\u001B[38;5;132;01m{\u001B[39;00mb\u001B[38;5;241m.\u001B[39mshape\u001B[38;5;132;01m}\u001B[39;00m\u001B[38;5;124m\"\u001B[39m)\n",
      "\u001B[0;31mValueError\u001B[0m: The arguments to solve must have shapes a=[..., m, m] and b=[..., m, k] or b=[..., m]; got a=(4, 4) and b=(2, 4, 4)"
     ]
    }
   ],
   "execution_count": 37
  },
  {
   "metadata": {},
   "cell_type": "code",
   "outputs": [],
   "execution_count": null,
   "source": "",
   "id": "c51076ffe4b86a22"
  },
  {
   "metadata": {},
   "cell_type": "markdown",
   "source": [
    "### Unpadded---\n",
    "## Conclusion"
   ],
   "id": "40eac9ed87ce043e"
  },
  {
   "metadata": {
    "ExecuteTime": {
     "end_time": "2025-05-26T08:37:13.034569Z",
     "start_time": "2025-05-23T09:03:35.099771Z"
    }
   },
   "cell_type": "code",
   "source": "",
   "id": "e00d28413733ef9a",
   "outputs": [],
   "execution_count": null
  },
  {
   "metadata": {},
   "cell_type": "markdown",
   "source": "---",
   "id": "f18216d93ddcf3af"
  }
 ],
 "metadata": {
  "kernelspec": {
   "display_name": "Python 3",
   "language": "python",
   "name": "python3"
  },
  "language_info": {
   "codemirror_mode": {
    "name": "ipython",
    "version": 2
   },
   "file_extension": ".py",
   "mimetype": "text/x-python",
   "name": "python",
   "nbconvert_exporter": "python",
   "pygments_lexer": "ipython2",
   "version": "2.7.6"
  }
 },
 "nbformat": 4,
 "nbformat_minor": 5
}
