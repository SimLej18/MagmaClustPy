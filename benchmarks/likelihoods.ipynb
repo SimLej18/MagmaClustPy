{
 "cells": [
  {
   "metadata": {},
   "cell_type": "markdown",
   "source": [
    "# Benchmarks - Likelihoods\n",
    "\n",
    "**Main considerations when implementing Likelihoods**\n",
    "- must be efficient, as they are used in the main bottleneck of the code: HP optimisation\n",
    "- must work for both shared and distinct HPs"
   ],
   "id": "f69390d194b35b0a"
  },
  {
   "metadata": {},
   "cell_type": "markdown",
   "source": [
    "---\n",
    "## Setup"
   ],
   "id": "4763c6a1086dfd7a"
  },
  {
   "metadata": {
    "ExecuteTime": {
     "end_time": "2025-07-10T11:13:11.444290Z",
     "start_time": "2025-07-10T11:13:10.663302Z"
    }
   },
   "cell_type": "code",
   "source": [
    "# Standard library\n",
    "import os\n",
    "\n",
    "from MagmaClustPy.likelihoods import magma_neg_likelihood_on_cov\n",
    "\n",
    "os.environ['JAX_ENABLE_X64'] = \"True\""
   ],
   "id": "eb0046b46dc27950",
   "outputs": [],
   "execution_count": 1
  },
  {
   "metadata": {
    "ExecuteTime": {
     "end_time": "2025-07-10T11:13:11.536060Z",
     "start_time": "2025-07-10T11:13:11.534158Z"
    }
   },
   "cell_type": "code",
   "source": [
    "# Third party\n",
    "import jax\n",
    "import jax.numpy as jnp\n",
    "from jax import jit, vmap\n",
    "\n",
    "import pandas as pd\n",
    "import numpy as np"
   ],
   "id": "a1fe8b76912d6f2c",
   "outputs": [],
   "execution_count": 2
  },
  {
   "metadata": {
    "ExecuteTime": {
     "end_time": "2025-07-10T11:13:11.585359Z",
     "start_time": "2025-07-10T11:13:11.572894Z"
    }
   },
   "cell_type": "code",
   "source": [
    "# Local\n",
    "from MagmaClustPy.hyperpost import hyperpost\n",
    "from Kernax import SEMagmaKernel, DiagKernel, ExpKernel\n",
    "from MagmaClustPy.utils import preprocess_db"
   ],
   "id": "4b255f340edfbe6f",
   "outputs": [],
   "execution_count": 3
  },
  {
   "metadata": {
    "ExecuteTime": {
     "end_time": "2025-07-10T11:13:11.604673Z",
     "start_time": "2025-07-10T11:13:11.600514Z"
    }
   },
   "cell_type": "code",
   "source": [
    "# Config\n",
    "jitter=jnp.array(1e-10)"
   ],
   "id": "3180afa8778f9553",
   "outputs": [],
   "execution_count": 4
  },
  {
   "metadata": {},
   "cell_type": "markdown",
   "source": [
    "---\n",
    "## Data"
   ],
   "id": "190fcef7dd61821b"
  },
  {
   "metadata": {
    "ExecuteTime": {
     "end_time": "2025-07-10T11:13:11.636958Z",
     "start_time": "2025-07-10T11:13:11.633063Z"
    }
   },
   "cell_type": "code",
   "source": [
    "test_db_size = \"medium\"\n",
    "key = jax.random.PRNGKey(42)"
   ],
   "id": "b36bdb0b6080e935",
   "outputs": [],
   "execution_count": 5
  },
  {
   "metadata": {},
   "cell_type": "markdown",
   "source": [
    "---\n",
    "## Current implementation"
   ],
   "id": "bffd41fea2028bdb"
  },
  {
   "metadata": {
    "ExecuteTime": {
     "end_time": "2025-07-10T11:13:11.668274Z",
     "start_time": "2025-07-10T11:13:11.663448Z"
    }
   },
   "cell_type": "code",
   "source": [
    "import MagmaClustPy\n",
    "\n",
    "magma_neg_likelihood_old = MagmaClustPy.likelihoods.magma_neg_likelihood\n",
    "magma_neg_likelihood_on_cov_old = MagmaClustPy.likelihoods.magma_neg_likelihood_on_cov"
   ],
   "id": "6b7e730087bbca42",
   "outputs": [],
   "execution_count": 6
  },
  {
   "metadata": {},
   "cell_type": "markdown",
   "source": [
    "---\n",
    "## Custom implementation(s)"
   ],
   "id": "c7496288f6ddf25f"
  },
  {
   "metadata": {
    "ExecuteTime": {
     "end_time": "2025-07-10T11:13:11.697524Z",
     "start_time": "2025-07-10T11:13:11.690795Z"
    }
   },
   "cell_type": "code",
   "source": [
    "import jax.numpy as jnp\n",
    "from jax import jit, vmap\n",
    "\n",
    "from MagmaClustPy.linalg import extract_from_full_array, extract_from_full_matrix, solve_right_cholesky, logpdf\n",
    "\n",
    "\n",
    "@jit\n",
    "def magma_neg_likelihood_on_cov(covar, outputs, mean, mean_process_cov, mapping):\n",
    "\toutputs = outputs.ravel()  # For multi-output, we want to flatten the outputs.\n",
    "\tmean = mean.ravel()  # As the goal of likelihood is to see if the mean is close to the outputs, we want to flatten\n",
    "\t# it too.\n",
    "\n",
    "\teyed_covar = jnp.where(jnp.isnan(covar), jnp.eye(covar.shape[0]), covar)\n",
    "\tzeroed_outputs = jnp.nan_to_num(outputs)\n",
    "\tif mapping is not None:\n",
    "\t\tzeroed_mean = jnp.nan_to_num(extract_from_full_array(mean, outputs, mapping))\n",
    "\t\teyed_mean_cov = jnp.where(jnp.isnan(covar), jnp.eye(covar.shape[0]),\n",
    "\t\t                          extract_from_full_matrix(mean_process_cov, outputs, mapping))\n",
    "\telse:\n",
    "\t\tzeroed_mean = jnp.nan_to_num(mean)\n",
    "\t\teyed_mean_cov = jnp.where(jnp.isnan(covar), jnp.eye(covar.shape[0]), mean_process_cov)\n",
    "\n",
    "\t# Compute log-likelihood\n",
    "\tmultiv_neg_log_lik = -logpdf(zeroed_outputs, zeroed_mean, eyed_covar)\n",
    "\n",
    "\t# Compute correction term\n",
    "\tcorrection = 0.5 * jnp.trace(solve_right_cholesky(eyed_covar, eyed_mean_cov))\n",
    "\n",
    "\t# Compute padding corrections\n",
    "\t# The logpdf is computed as:\n",
    "\t# -0.5 * (N * log(2 * pi) + log(det(cov)) + (outputs - mean).T @ inv(cov) @ (outputs - mean))\n",
    "\t# det(cov) and the Mahalanobis distance are not affected by our padding\n",
    "\t# We only have to correct for the -0.5 * N * log(2 * pi) term, as N is bigger with padding\n",
    "\tnll_pad_correction = 0.5 * jnp.log(2 * jnp.pi) * jnp.sum(jnp.isnan(outputs))\n",
    "\n",
    "\t# We also need to correct the correction term, as padding adds 1s to the diagonal and hence 1 to the trace\n",
    "\tcorr_pad_correction = 0.5 * jnp.sum(jnp.isnan(outputs))\n",
    "\n",
    "\treturn (multiv_neg_log_lik - nll_pad_correction) + (correction - corr_pad_correction)\n",
    "\n",
    "\n",
    "@jit\n",
    "def magma_neg_likelihood(kernel, inputs, outputs: jnp.array, mean: jnp.array, mean_process_cov: jnp.array,\n",
    "                         mappings: jnp.array):\n",
    "\t\"\"\"\n",
    "\tComputes the MAGMA log-likelihood.\n",
    "\n",
    "\t:param kernel: The kernel to optimise. This kernel is used to compute the covariance (matrix `S`).\n",
    "\t:param inputs: Inputs on which to compute the covariance matrix (shape (N, I)) or (T, Max_N_i, I).\n",
    "\t:param outputs: The observed values for each input (shape (N, O) or (T, Max_N_i, O)).\n",
    "\t:param mean: The mean over the inputs (scalar or vector of shape (N,)).\n",
    "\t:param mean_process_cov: The hyperpost mean process covariance (matrix K^t)\n",
    "\t:param mappings: The indices of the inputs in the all_inputs array, if we compute the likelihood on a batch of\n",
    "\tinputs. Shape (T, Max_N_i)\n",
    "\n",
    "\t:return: The negative log-likelihood (scalar)\n",
    "\t\"\"\"\n",
    "\t# In multi-output, we want to flatten the outputs.\n",
    "\t# The user should provide a specific Kernel to compute a cross-covariance with the right shape too\n",
    "\toutputs = outputs.reshape(outputs.shape[0], -1)\n",
    "\n",
    "\tif mean.ndim == 0:\n",
    "\t\tmean = jnp.broadcast_to(mean[None], outputs.shape)\n",
    "\n",
    "\tcovar = kernel(inputs)\n",
    "\n",
    "\t# check if we need to vmap\n",
    "\tif inputs.ndim == 2:\n",
    "\t\treturn magma_neg_likelihood_on_cov(covar, outputs, mean, mean_process_cov, mappings)\n",
    "\telif inputs.ndim == 3:\n",
    "\t\treturn vmap(magma_neg_likelihood_on_cov, in_axes=(0, 0, None, None, 0))(covar, outputs, mean,\n",
    "\t\t                                                                              mean_process_cov, mappings)\n",
    "\telse:\n",
    "\t\traise ValueError(\"inputs must be either 1D or 2D\")\n"
   ],
   "id": "5de6fcef36a19d83",
   "outputs": [],
   "execution_count": 7
  },
  {
   "metadata": {
    "ExecuteTime": {
     "end_time": "2025-07-10T11:13:11.723117Z",
     "start_time": "2025-07-10T11:13:11.719282Z"
    }
   },
   "cell_type": "code",
   "source": [
    "magma_neg_likelihood_new = magma_neg_likelihood\n",
    "magma_neg_likelihood_on_cov_new = magma_neg_likelihood_on_cov"
   ],
   "id": "bb218990ed996d8c",
   "outputs": [],
   "execution_count": 8
  },
  {
   "metadata": {},
   "cell_type": "markdown",
   "source": [
    "---\n",
    "## Comparison"
   ],
   "id": "88fdaed3f55aae3a"
  },
  {
   "metadata": {},
   "cell_type": "markdown",
   "source": "### Sample test",
   "id": "d184c4d106475a66"
  },
  {
   "metadata": {
    "ExecuteTime": {
     "end_time": "2025-07-10T11:13:12.173986Z",
     "start_time": "2025-07-10T11:13:11.761349Z"
    }
   },
   "cell_type": "code",
   "source": [
    "db = pd.DataFrame({\n",
    "\t'Task_ID': [1, 1, 1, 1, 2, 2, 2, 2],\n",
    "\t'Input': [0.40, 4.45, 7.60, 8.30, 3.50, 5.10, 8.85, 9.35],\n",
    "\t'Input_ID': ['x', 'x', 'x', 'x', 'x', 'x', 'x', 'x'],\n",
    "\t'Output': [59.81620, 67.13694, 78.32495, 81.83590, 62.04943, 67.31932, 85.94063, 86.76426],\n",
    "\t'Output_ID': ['a', 'a', 'a', 'a', 'a', 'a', 'a', 'a'],\n",
    "})\n",
    "\n",
    "padded_inputs, padded_outputs, mappings, all_inputs = preprocess_db(db)\n",
    "\n",
    "prior_mean = jnp.array(0)\n",
    "all_inputs.shape, padded_inputs.shape"
   ],
   "id": "9e4541ca06271c07",
   "outputs": [
    {
     "data": {
      "text/plain": [
       "((8, 1), (2, 4, 1))"
      ]
     },
     "execution_count": 9,
     "metadata": {},
     "output_type": "execute_result"
    }
   ],
   "execution_count": 9
  },
  {
   "metadata": {
    "ExecuteTime": {
     "end_time": "2025-07-10T11:13:12.193427Z",
     "start_time": "2025-07-10T11:13:12.190482Z"
    }
   },
   "cell_type": "code",
   "source": [
    "mean_kern = SEMagmaKernel(length_scale=jnp.array(.3), variance=jnp.array(1.))\n",
    "task_kern = SEMagmaKernel(length_scale=jnp.array(.3), variance=jnp.array(1.)) + DiagKernel(ExpKernel(jnp.array(2.5)))"
   ],
   "id": "c308ab3f3dc6d866",
   "outputs": [],
   "execution_count": 10
  },
  {
   "metadata": {
    "ExecuteTime": {
     "end_time": "2025-07-10T11:13:12.936831Z",
     "start_time": "2025-07-10T11:13:12.241570Z"
    }
   },
   "cell_type": "code",
   "source": [
    "post_mean, post_cov = hyperpost(padded_inputs, padded_outputs, mappings, prior_mean, mean_kern, task_kern, all_inputs=all_inputs)\n",
    "post_mean.shape, post_cov.shape"
   ],
   "id": "c70d9b7cbd5f368c",
   "outputs": [
    {
     "data": {
      "text/plain": [
       "((8,), (8, 8))"
      ]
     },
     "execution_count": 11,
     "metadata": {},
     "output_type": "execute_result"
    }
   ],
   "execution_count": 11
  },
  {
   "metadata": {
    "ExecuteTime": {
     "end_time": "2025-07-10T11:13:13.204598Z",
     "start_time": "2025-07-10T11:13:13.052942Z"
    }
   },
   "cell_type": "code",
   "source": [
    "mean_llh_old = magma_neg_likelihood_old(mean_kern, all_inputs, post_mean, jnp.full(all_inputs.squeeze().shape, prior_mean), post_cov, None, jitter=jitter)\n",
    "mean_llh_old.item()"
   ],
   "id": "5976da68979cb8b8",
   "outputs": [
    {
     "data": {
      "text/plain": [
       "1784.1385498046875"
      ]
     },
     "execution_count": 12,
     "metadata": {},
     "output_type": "execute_result"
    }
   ],
   "execution_count": 12
  },
  {
   "metadata": {
    "ExecuteTime": {
     "end_time": "2025-07-10T11:13:13.363252Z",
     "start_time": "2025-07-10T11:13:13.216086Z"
    }
   },
   "cell_type": "code",
   "source": [
    "mean_llh_new = magma_neg_likelihood_new(mean_kern, all_inputs, post_mean, prior_mean, post_cov, None)\n",
    "mean_llh_new.item()"
   ],
   "id": "4116b325298a8425",
   "outputs": [
    {
     "data": {
      "text/plain": [
       "1784.1385498046875"
      ]
     },
     "execution_count": 13,
     "metadata": {},
     "output_type": "execute_result"
    }
   ],
   "execution_count": 13
  },
  {
   "metadata": {
    "ExecuteTime": {
     "end_time": "2025-07-10T11:13:13.401761Z",
     "start_time": "2025-07-10T11:13:13.376081Z"
    }
   },
   "cell_type": "code",
   "source": "jnp.allclose(mean_llh_old, mean_llh_new)",
   "id": "5c063ee3eec52010",
   "outputs": [
    {
     "data": {
      "text/plain": [
       "Array(True, dtype=bool)"
      ]
     },
     "execution_count": 14,
     "metadata": {},
     "output_type": "execute_result"
    }
   ],
   "execution_count": 14
  },
  {
   "metadata": {
    "ExecuteTime": {
     "end_time": "2025-07-10T11:13:24.160211Z",
     "start_time": "2025-07-10T11:13:13.425561Z"
    }
   },
   "cell_type": "code",
   "source": "%timeit magma_neg_likelihood_old(mean_kern, all_inputs, post_mean, prior_mean, post_cov, None, jitter=jitter).block_until_ready()",
   "id": "e1103ebd9ec6c20c",
   "outputs": [
    {
     "name": "stdout",
     "output_type": "stream",
     "text": [
      "13.1 μs ± 721 ns per loop (mean ± std. dev. of 7 runs, 100,000 loops each)\n"
     ]
    }
   ],
   "execution_count": 15
  },
  {
   "metadata": {
    "ExecuteTime": {
     "end_time": "2025-07-10T11:13:38.871816Z",
     "start_time": "2025-07-10T11:13:24.204569Z"
    }
   },
   "cell_type": "code",
   "source": "%timeit magma_neg_likelihood_new(mean_kern, all_inputs, post_mean, prior_mean, post_cov, None).block_until_ready()",
   "id": "ee8a2b95bb285b69",
   "outputs": [
    {
     "name": "stdout",
     "output_type": "stream",
     "text": [
      "17.4 μs ± 2.68 μs per loop (mean ± std. dev. of 7 runs, 100,000 loops each)\n"
     ]
    }
   ],
   "execution_count": 16
  },
  {
   "metadata": {
    "ExecuteTime": {
     "end_time": "2025-07-10T11:13:39.264314Z",
     "start_time": "2025-07-10T11:13:38.905217Z"
    }
   },
   "cell_type": "code",
   "source": [
    "task_llhs_old = magma_neg_likelihood_old(task_kern, padded_inputs, padded_outputs.squeeze(), post_mean, post_cov, mappings, jitter=jitter)\n",
    "np.asarray(task_llhs_old)"
   ],
   "id": "7aaf7bbc5aa4235a",
   "outputs": [
    {
     "data": {
      "text/plain": [
       "array([ 979.3787, 1425.9596], dtype=float32)"
      ]
     },
     "execution_count": 17,
     "metadata": {},
     "output_type": "execute_result"
    }
   ],
   "execution_count": 17
  },
  {
   "metadata": {
    "ExecuteTime": {
     "end_time": "2025-07-10T11:13:39.422666Z",
     "start_time": "2025-07-10T11:13:39.277124Z"
    }
   },
   "cell_type": "code",
   "source": [
    "task_llhs_new = magma_neg_likelihood_new(task_kern, padded_inputs, padded_outputs, post_mean, post_cov, mappings)\n",
    "np.asarray(task_llhs_new)"
   ],
   "id": "eb119c784d811156",
   "outputs": [
    {
     "data": {
      "text/plain": [
       "array([ 979.3787, 1425.9596], dtype=float32)"
      ]
     },
     "execution_count": 18,
     "metadata": {},
     "output_type": "execute_result"
    }
   ],
   "execution_count": 18
  },
  {
   "metadata": {
    "ExecuteTime": {
     "end_time": "2025-07-10T11:13:39.456685Z",
     "start_time": "2025-07-10T11:13:39.436168Z"
    }
   },
   "cell_type": "code",
   "source": "jnp.allclose(task_llhs_old, task_llhs_new)",
   "id": "fc725337018fb237",
   "outputs": [
    {
     "data": {
      "text/plain": [
       "Array(True, dtype=bool)"
      ]
     },
     "execution_count": 19,
     "metadata": {},
     "output_type": "execute_result"
    }
   ],
   "execution_count": 19
  },
  {
   "metadata": {
    "ExecuteTime": {
     "end_time": "2025-07-10T11:13:45.837326Z",
     "start_time": "2025-07-10T11:13:39.505804Z"
    }
   },
   "cell_type": "code",
   "source": "%timeit magma_neg_likelihood_old(task_kern, padded_inputs, padded_outputs.squeeze(), post_mean, post_cov, mappings, jitter=jitter)[0].block_until_ready()",
   "id": "20647ca8edd28ff8",
   "outputs": [
    {
     "name": "stdout",
     "output_type": "stream",
     "text": [
      "77.6 μs ± 6.05 μs per loop (mean ± std. dev. of 7 runs, 10,000 loops each)\n"
     ]
    }
   ],
   "execution_count": 20
  },
  {
   "metadata": {
    "ExecuteTime": {
     "end_time": "2025-07-10T11:13:51.698853Z",
     "start_time": "2025-07-10T11:13:45.896364Z"
    }
   },
   "cell_type": "code",
   "source": "%timeit magma_neg_likelihood_new(task_kern, padded_inputs, padded_outputs, post_mean, post_cov, mappings)[0].block_until_ready()",
   "id": "a88a2f8d45c6d9af",
   "outputs": [
    {
     "name": "stdout",
     "output_type": "stream",
     "text": [
      "69.8 μs ± 1.37 μs per loop (mean ± std. dev. of 7 runs, 10,000 loops each)\n"
     ]
    }
   ],
   "execution_count": 21
  },
  {
   "metadata": {},
   "cell_type": "markdown",
   "source": "### shared Input, shared HP",
   "id": "51f2147e48816074"
  },
  {
   "metadata": {
    "ExecuteTime": {
     "end_time": "2025-07-10T11:13:52.281789Z",
     "start_time": "2025-07-10T11:13:51.712037Z"
    }
   },
   "cell_type": "code",
   "source": [
    "db = pd.read_csv(f\"../datasets/{test_db_size}_shared_input_shared_hp.csv\")\n",
    "\n",
    "padded_inputs, padded_outputs, mappings, all_inputs = preprocess_db(db)\n",
    "\n",
    "prior_mean = jnp.array(0)\n",
    "all_inputs.shape, padded_inputs.shape"
   ],
   "id": "e63d62a1a32b1b72",
   "outputs": [
    {
     "data": {
      "text/plain": [
       "((150, 1), (200, 150, 1))"
      ]
     },
     "execution_count": 22,
     "metadata": {},
     "output_type": "execute_result"
    }
   ],
   "execution_count": 22
  },
  {
   "metadata": {
    "ExecuteTime": {
     "end_time": "2025-07-10T11:13:52.500800Z",
     "start_time": "2025-07-10T11:13:52.497559Z"
    }
   },
   "cell_type": "code",
   "source": [
    "mean_kern = SEMagmaKernel(length_scale=jnp.array(.3), variance=jnp.array(1.))\n",
    "task_kern = SEMagmaKernel(length_scale=jnp.array(.3), variance=jnp.array(1.)) + DiagKernel(ExpKernel(jnp.array(2.5)))"
   ],
   "id": "3ec2de19178b23f2",
   "outputs": [],
   "execution_count": 23
  },
  {
   "metadata": {
    "ExecuteTime": {
     "end_time": "2025-07-10T11:13:52.985816Z",
     "start_time": "2025-07-10T11:13:52.540332Z"
    }
   },
   "cell_type": "code",
   "source": [
    "post_mean, post_cov = hyperpost(padded_inputs, padded_outputs, mappings, prior_mean, mean_kern, task_kern, all_inputs=all_inputs)\n",
    "post_mean.shape, post_cov.shape"
   ],
   "id": "b82fb2e356acb498",
   "outputs": [
    {
     "data": {
      "text/plain": [
       "((150,), (150, 150))"
      ]
     },
     "execution_count": 24,
     "metadata": {},
     "output_type": "execute_result"
    }
   ],
   "execution_count": 24
  },
  {
   "metadata": {
    "ExecuteTime": {
     "end_time": "2025-07-10T11:13:53.245196Z",
     "start_time": "2025-07-10T11:13:53.001705Z"
    }
   },
   "cell_type": "code",
   "source": [
    "mean_llh_old = magma_neg_likelihood_old(mean_kern, all_inputs, post_mean, jnp.full(all_inputs.squeeze().shape, prior_mean), post_cov, None, jitter=jitter)\n",
    "mean_llh_old.item()"
   ],
   "id": "6dd3ed817d762d8c",
   "outputs": [
    {
     "data": {
      "text/plain": [
       "872183.5"
      ]
     },
     "execution_count": 25,
     "metadata": {},
     "output_type": "execute_result"
    }
   ],
   "execution_count": 25
  },
  {
   "metadata": {
    "ExecuteTime": {
     "end_time": "2025-07-10T11:13:53.495481Z",
     "start_time": "2025-07-10T11:13:53.257768Z"
    }
   },
   "cell_type": "code",
   "source": [
    "mean_llh_new = magma_neg_likelihood_new(mean_kern, all_inputs, post_mean, prior_mean, post_cov, None)\n",
    "mean_llh_new.item()"
   ],
   "id": "1c581755c71baf06",
   "outputs": [
    {
     "data": {
      "text/plain": [
       "872183.5"
      ]
     },
     "execution_count": 26,
     "metadata": {},
     "output_type": "execute_result"
    }
   ],
   "execution_count": 26
  },
  {
   "metadata": {
    "ExecuteTime": {
     "end_time": "2025-07-10T11:13:53.515399Z",
     "start_time": "2025-07-10T11:13:53.511480Z"
    }
   },
   "cell_type": "code",
   "source": "jnp.allclose(mean_llh_old, mean_llh_new)",
   "id": "ea4de7e93bb9ab57",
   "outputs": [
    {
     "data": {
      "text/plain": [
       "Array(True, dtype=bool)"
      ]
     },
     "execution_count": 27,
     "metadata": {},
     "output_type": "execute_result"
    }
   ],
   "execution_count": 27
  },
  {
   "metadata": {
    "ExecuteTime": {
     "end_time": "2025-07-10T11:13:56.353179Z",
     "start_time": "2025-07-10T11:13:53.586619Z"
    }
   },
   "cell_type": "code",
   "source": "%timeit magma_neg_likelihood_old(mean_kern, all_inputs, post_mean, prior_mean, post_cov, None, jitter=jitter).block_until_ready()",
   "id": "7ba339d2b39e5652",
   "outputs": [
    {
     "name": "stdout",
     "output_type": "stream",
     "text": [
      "306 μs ± 5.07 μs per loop (mean ± std. dev. of 7 runs, 1,000 loops each)\n"
     ]
    }
   ],
   "execution_count": 28
  },
  {
   "metadata": {
    "ExecuteTime": {
     "end_time": "2025-07-10T11:13:59.026230Z",
     "start_time": "2025-07-10T11:13:56.369020Z"
    }
   },
   "cell_type": "code",
   "source": "%timeit magma_neg_likelihood_new(mean_kern, all_inputs, post_mean, prior_mean, post_cov, None).block_until_ready()",
   "id": "866fa177bc5d57b4",
   "outputs": [
    {
     "name": "stdout",
     "output_type": "stream",
     "text": [
      "324 μs ± 11.9 μs per loop (mean ± std. dev. of 7 runs, 1,000 loops each)\n"
     ]
    }
   ],
   "execution_count": 29
  },
  {
   "metadata": {
    "ExecuteTime": {
     "end_time": "2025-07-10T11:13:59.398628Z",
     "start_time": "2025-07-10T11:13:59.040198Z"
    }
   },
   "cell_type": "code",
   "source": [
    "task_llhs_old = magma_neg_likelihood_old(task_kern, padded_inputs, padded_outputs.squeeze(), post_mean, post_cov, mappings, jitter=jitter)\n",
    "np.asarray(task_llhs_old)"
   ],
   "id": "bca2f5c85414b2fe",
   "outputs": [
    {
     "data": {
      "text/plain": [
       "array([443.6553 , 454.38562, 457.5374 , 455.47693, 462.87177, 463.13123,\n",
       "       455.5172 , 455.21786, 445.64392, 448.64728, 454.41046, 455.07117,\n",
       "       452.42175, 458.5739 , 466.3769 , 443.49414, 446.15723, 461.97308,\n",
       "       450.1917 , 459.15515, 457.86658, 447.43152, 454.0028 , 447.9323 ,\n",
       "       447.3684 , 458.4273 , 452.39642, 453.87402, 458.4544 , 441.76248,\n",
       "       444.64832, 446.22702, 448.77118, 445.6949 , 439.18494, 453.7881 ,\n",
       "       465.7704 , 458.00897, 461.81604, 464.71808, 453.14685, 460.88922,\n",
       "       454.30603, 446.512  , 458.84503, 455.2395 , 447.42224, 463.80176,\n",
       "       454.82025, 450.68652, 448.46313, 465.56555, 463.21326, 445.2347 ,\n",
       "       460.45862, 454.88947, 448.9272 , 455.2377 , 445.3708 , 469.69214,\n",
       "       459.364  , 463.89844, 456.41785, 460.37604, 458.02527, 432.56708,\n",
       "       447.81824, 458.10626, 446.43527, 436.3448 , 470.3333 , 449.6783 ,\n",
       "       455.79224, 454.3545 , 460.23633, 442.2329 , 455.8617 , 456.8969 ,\n",
       "       458.90454, 460.1977 , 456.53622, 452.1601 , 452.07184, 461.2495 ,\n",
       "       450.62445, 437.22403, 454.8316 , 459.78754, 436.99487, 439.37354,\n",
       "       459.42285, 453.3452 , 455.9111 , 447.48956, 450.28125, 442.8819 ,\n",
       "       454.47412, 445.04108, 454.49426, 461.40405, 444.5666 , 444.6264 ,\n",
       "       458.78143, 449.65747, 451.90985, 460.09222, 458.73914, 467.6007 ,\n",
       "       455.7522 , 459.472  , 448.91382, 458.3156 , 452.09155, 459.89618,\n",
       "       455.08057, 455.41925, 449.92307, 446.19196, 451.34955, 451.12238,\n",
       "       442.70667, 454.25293, 456.76416, 458.91968, 466.4275 , 457.02844,\n",
       "       456.76898, 453.38547, 462.02722, 451.86493, 454.40134, 455.19934,\n",
       "       454.102  , 440.78174, 440.52783, 448.64832, 465.66602, 459.8239 ,\n",
       "       438.39008, 442.69525, 464.50543, 458.38586, 455.9494 , 455.71094,\n",
       "       451.92612, 449.98114, 458.80048, 438.85675, 456.48114, 448.95197,\n",
       "       444.0381 , 453.28644, 445.21387, 456.4397 , 452.4345 , 454.23865,\n",
       "       442.40356, 462.3086 , 450.23285, 447.42572, 441.80884, 462.49115,\n",
       "       465.11523, 455.96405, 469.84943, 453.0592 , 458.26605, 457.43915,\n",
       "       446.72964, 436.98407, 470.28857, 452.911  , 449.61487, 458.1192 ,\n",
       "       448.35938, 446.22345, 445.4339 , 451.93085, 453.3723 , 454.45172,\n",
       "       448.80487, 442.3853 , 453.5852 , 448.2041 , 452.59186, 445.64404,\n",
       "       453.40033, 454.90857, 447.58734, 462.9098 , 457.1809 , 459.16718,\n",
       "       451.2444 , 459.9273 , 464.6557 , 450.2607 , 455.78345, 467.8166 ,\n",
       "       462.5667 , 453.96173], dtype=float32)"
      ]
     },
     "execution_count": 30,
     "metadata": {},
     "output_type": "execute_result"
    }
   ],
   "execution_count": 30
  },
  {
   "metadata": {
    "ExecuteTime": {
     "end_time": "2025-07-10T11:13:59.910782Z",
     "start_time": "2025-07-10T11:13:59.413593Z"
    }
   },
   "cell_type": "code",
   "source": [
    "task_llhs_new = magma_neg_likelihood_new(task_kern, padded_inputs, padded_outputs, post_mean, post_cov, mappings)\n",
    "np.asarray(task_llhs_new)"
   ],
   "id": "2fcc7fa034a4acd8",
   "outputs": [
    {
     "data": {
      "text/plain": [
       "array([443.6553 , 454.38562, 457.5374 , 455.47693, 462.87177, 463.13123,\n",
       "       455.5172 , 455.21786, 445.64392, 448.64728, 454.41046, 455.07117,\n",
       "       452.42175, 458.5739 , 466.3769 , 443.49414, 446.15723, 461.97308,\n",
       "       450.1917 , 459.15515, 457.86658, 447.43152, 454.0028 , 447.9323 ,\n",
       "       447.3684 , 458.4273 , 452.39642, 453.87402, 458.4544 , 441.76248,\n",
       "       444.64832, 446.22702, 448.77118, 445.6949 , 439.18494, 453.7881 ,\n",
       "       465.7704 , 458.00897, 461.81604, 464.71808, 453.14685, 460.88922,\n",
       "       454.30603, 446.512  , 458.84503, 455.2395 , 447.42224, 463.80176,\n",
       "       454.82025, 450.68652, 448.46313, 465.56555, 463.21326, 445.2347 ,\n",
       "       460.45862, 454.88947, 448.9272 , 455.2377 , 445.3708 , 469.69214,\n",
       "       459.364  , 463.89844, 456.41785, 460.37604, 458.02527, 432.56708,\n",
       "       447.81824, 458.10626, 446.43527, 436.3448 , 470.3333 , 449.6783 ,\n",
       "       455.79224, 454.3545 , 460.23633, 442.2329 , 455.8617 , 456.8969 ,\n",
       "       458.90454, 460.1977 , 456.53622, 452.1601 , 452.07184, 461.2495 ,\n",
       "       450.62445, 437.22403, 454.8316 , 459.78754, 436.99487, 439.37354,\n",
       "       459.42285, 453.3452 , 455.9111 , 447.48956, 450.28125, 442.8819 ,\n",
       "       454.47412, 445.04108, 454.49426, 461.40405, 444.5666 , 444.6264 ,\n",
       "       458.78143, 449.65747, 451.90985, 460.09222, 458.73914, 467.6007 ,\n",
       "       455.7522 , 459.472  , 448.91382, 458.3156 , 452.09155, 459.89618,\n",
       "       455.08057, 455.41925, 449.92307, 446.19196, 451.34955, 451.12238,\n",
       "       442.70667, 454.25293, 456.76416, 458.91968, 466.4275 , 457.02844,\n",
       "       456.76898, 453.38547, 462.02722, 451.86493, 454.40134, 455.19934,\n",
       "       454.102  , 440.78174, 440.52783, 448.64832, 465.66602, 459.8239 ,\n",
       "       438.39008, 442.69525, 464.50543, 458.38586, 455.9494 , 455.71094,\n",
       "       451.92612, 449.98114, 458.80048, 438.85675, 456.48114, 448.95197,\n",
       "       444.0381 , 453.28644, 445.21387, 456.4397 , 452.4345 , 454.23865,\n",
       "       442.40356, 462.3086 , 450.23285, 447.42572, 441.80884, 462.49115,\n",
       "       465.11523, 455.96405, 469.84943, 453.0592 , 458.26605, 457.43915,\n",
       "       446.72964, 436.98407, 470.28857, 452.911  , 449.61487, 458.1192 ,\n",
       "       448.35938, 446.22345, 445.4339 , 451.93085, 453.3723 , 454.45172,\n",
       "       448.80487, 442.3853 , 453.5852 , 448.2041 , 452.59186, 445.64404,\n",
       "       453.40033, 454.90857, 447.58734, 462.9098 , 457.1809 , 459.16718,\n",
       "       451.2444 , 459.9273 , 464.6557 , 450.2607 , 455.78345, 467.8166 ,\n",
       "       462.5667 , 453.96173], dtype=float32)"
      ]
     },
     "execution_count": 31,
     "metadata": {},
     "output_type": "execute_result"
    }
   ],
   "execution_count": 31
  },
  {
   "metadata": {
    "ExecuteTime": {
     "end_time": "2025-07-10T11:13:59.968398Z",
     "start_time": "2025-07-10T11:13:59.922918Z"
    }
   },
   "cell_type": "code",
   "source": "jnp.allclose(task_llhs_old, task_llhs_new)",
   "id": "c70d1a1719ea7a11",
   "outputs": [
    {
     "data": {
      "text/plain": [
       "Array(True, dtype=bool)"
      ]
     },
     "execution_count": 32,
     "metadata": {},
     "output_type": "execute_result"
    }
   ],
   "execution_count": 32
  },
  {
   "metadata": {
    "ExecuteTime": {
     "end_time": "2025-07-10T11:14:02.774724Z",
     "start_time": "2025-07-10T11:14:00.007541Z"
    }
   },
   "cell_type": "code",
   "source": "%timeit magma_neg_likelihood_old(task_kern, padded_inputs, padded_outputs.squeeze(), post_mean, post_cov, mappings, jitter=jitter)[0].block_until_ready()",
   "id": "acf68e6845c85118",
   "outputs": [
    {
     "name": "stdout",
     "output_type": "stream",
     "text": [
      "33.5 ms ± 3.56 ms per loop (mean ± std. dev. of 7 runs, 10 loops each)\n"
     ]
    }
   ],
   "execution_count": 33
  },
  {
   "metadata": {
    "ExecuteTime": {
     "end_time": "2025-07-10T11:14:05.548730Z",
     "start_time": "2025-07-10T11:14:02.819558Z"
    }
   },
   "cell_type": "code",
   "source": "%timeit magma_neg_likelihood_new(task_kern, padded_inputs, padded_outputs, post_mean, post_cov, mappings)[0].block_until_ready()",
   "id": "614e9d6b686c22f3",
   "outputs": [
    {
     "name": "stdout",
     "output_type": "stream",
     "text": [
      "31.5 ms ± 1.43 ms per loop (mean ± std. dev. of 7 runs, 10 loops each)\n"
     ]
    }
   ],
   "execution_count": 34
  },
  {
   "metadata": {},
   "cell_type": "markdown",
   "source": "### shared Input, Distinct HP",
   "id": "59ec57712a06341"
  },
  {
   "metadata": {
    "ExecuteTime": {
     "end_time": "2025-07-10T11:14:05.646070Z",
     "start_time": "2025-07-10T11:14:05.562129Z"
    }
   },
   "cell_type": "code",
   "source": [
    "db = pd.read_csv(f\"../datasets/{test_db_size}_shared_input_distinct_hp.csv\")\n",
    "\n",
    "padded_inputs, padded_outputs, mappings, all_inputs = preprocess_db(db)\n",
    "\n",
    "prior_mean = jnp.array(0)\n",
    "all_inputs.shape, padded_inputs.shape"
   ],
   "id": "d54ddc6292d2fc08",
   "outputs": [
    {
     "data": {
      "text/plain": [
       "((150, 1), (200, 150, 1))"
      ]
     },
     "execution_count": 35,
     "metadata": {},
     "output_type": "execute_result"
    }
   ],
   "execution_count": 35
  },
  {
   "metadata": {
    "ExecuteTime": {
     "end_time": "2025-07-10T11:14:05.952072Z",
     "start_time": "2025-07-10T11:14:05.837223Z"
    }
   },
   "cell_type": "code",
   "source": [
    "mean_kern = SEMagmaKernel(length_scale=jnp.array(.3), variance=jnp.array(1.))\n",
    "\n",
    "key, subkey = jax.random.split(key)\n",
    "distinct_length_scales = jax.random.uniform(subkey, (padded_outputs.shape[0],), jnp.float64, .1, 1)\n",
    "task_kern = SEMagmaKernel(length_scale=jnp.array(.3), variance=jnp.array(1.)) + DiagKernel(ExpKernel(jnp.array(2.5)))"
   ],
   "id": "e74fbd6501a06fce",
   "outputs": [
    {
     "name": "stderr",
     "output_type": "stream",
     "text": [
      "/var/folders/93/wvvdyy810s1cvn67rnn9x0jh0000gn/T/ipykernel_36497/310584652.py:4: UserWarning: Explicitly requested dtype <class 'jax.numpy.float64'>  is not available, and will be truncated to dtype float32. To enable more dtypes, set the jax_enable_x64 configuration option or the JAX_ENABLE_X64 shell environment variable. See https://github.com/jax-ml/jax#current-gotchas for more.\n",
      "  distinct_length_scales = jax.random.uniform(subkey, (padded_outputs.shape[0],), jnp.float64, .1, 1)\n"
     ]
    }
   ],
   "execution_count": 36
  },
  {
   "metadata": {
    "ExecuteTime": {
     "end_time": "2025-07-10T11:14:05.974789Z",
     "start_time": "2025-07-10T11:14:05.965991Z"
    }
   },
   "cell_type": "code",
   "source": [
    "post_mean, post_cov = hyperpost(padded_inputs, padded_outputs, mappings, prior_mean, mean_kern, task_kern, all_inputs=all_inputs)\n",
    "post_mean.shape, post_cov.shape"
   ],
   "id": "736219be2cca256b",
   "outputs": [
    {
     "data": {
      "text/plain": [
       "((150,), (150, 150))"
      ]
     },
     "execution_count": 37,
     "metadata": {},
     "output_type": "execute_result"
    }
   ],
   "execution_count": 37
  },
  {
   "metadata": {
    "ExecuteTime": {
     "end_time": "2025-07-10T11:14:06.036248Z",
     "start_time": "2025-07-10T11:14:06.030231Z"
    }
   },
   "cell_type": "code",
   "source": [
    "mean_llh_old = magma_neg_likelihood_old(mean_kern, all_inputs, post_mean, jnp.full(all_inputs.squeeze().shape, prior_mean), post_cov, None, jitter=jitter)\n",
    "mean_llh_old.item()"
   ],
   "id": "d1328f54ef391589",
   "outputs": [
    {
     "data": {
      "text/plain": [
       "10192.369140625"
      ]
     },
     "execution_count": 38,
     "metadata": {},
     "output_type": "execute_result"
    }
   ],
   "execution_count": 38
  },
  {
   "metadata": {
    "ExecuteTime": {
     "end_time": "2025-07-10T11:14:06.079500Z",
     "start_time": "2025-07-10T11:14:06.074688Z"
    }
   },
   "cell_type": "code",
   "source": [
    "mean_llh_new = magma_neg_likelihood_new(mean_kern, all_inputs, post_mean, prior_mean, post_cov, None)\n",
    "mean_llh_new.item()"
   ],
   "id": "a6389ee3d91b9ab9",
   "outputs": [
    {
     "data": {
      "text/plain": [
       "10192.369140625"
      ]
     },
     "execution_count": 39,
     "metadata": {},
     "output_type": "execute_result"
    }
   ],
   "execution_count": 39
  },
  {
   "metadata": {
    "ExecuteTime": {
     "end_time": "2025-07-10T11:14:06.134449Z",
     "start_time": "2025-07-10T11:14:06.127632Z"
    }
   },
   "cell_type": "code",
   "source": "jnp.allclose(mean_llh_old, mean_llh_new)",
   "id": "97229429cd161461",
   "outputs": [
    {
     "data": {
      "text/plain": [
       "Array(True, dtype=bool)"
      ]
     },
     "execution_count": 40,
     "metadata": {},
     "output_type": "execute_result"
    }
   ],
   "execution_count": 40
  },
  {
   "metadata": {
    "ExecuteTime": {
     "end_time": "2025-07-10T11:14:08.664778Z",
     "start_time": "2025-07-10T11:14:06.177110Z"
    }
   },
   "cell_type": "code",
   "source": "%timeit magma_neg_likelihood_old(mean_kern, all_inputs, post_mean, prior_mean, post_cov, None, jitter=jitter).block_until_ready()",
   "id": "96d9311014b08f6b",
   "outputs": [
    {
     "name": "stdout",
     "output_type": "stream",
     "text": [
      "304 μs ± 8.56 μs per loop (mean ± std. dev. of 7 runs, 1,000 loops each)\n"
     ]
    }
   ],
   "execution_count": 41
  },
  {
   "metadata": {
    "ExecuteTime": {
     "end_time": "2025-07-10T11:14:11.401619Z",
     "start_time": "2025-07-10T11:14:08.677562Z"
    }
   },
   "cell_type": "code",
   "source": "%timeit magma_neg_likelihood_new(mean_kern, all_inputs, post_mean, prior_mean, post_cov, None).block_until_ready()",
   "id": "4a0b40bf6fb2b5e8",
   "outputs": [
    {
     "name": "stdout",
     "output_type": "stream",
     "text": [
      "335 μs ± 19.5 μs per loop (mean ± std. dev. of 7 runs, 1,000 loops each)\n"
     ]
    }
   ],
   "execution_count": 42
  },
  {
   "metadata": {
    "ExecuteTime": {
     "end_time": "2025-07-10T11:14:11.490231Z",
     "start_time": "2025-07-10T11:14:11.417828Z"
    }
   },
   "cell_type": "code",
   "source": [
    "task_llhs_old = magma_neg_likelihood_old(task_kern, padded_inputs, padded_outputs.squeeze(), post_mean, post_cov, mappings, jitter=jitter)\n",
    "np.asarray(task_llhs_old)"
   ],
   "id": "16166848d719c4cd",
   "outputs": [
    {
     "data": {
      "text/plain": [
       "array([368.96872, 350.56775, 384.8568 , 353.88297, 380.07193, 358.41577,\n",
       "       357.34866, 353.21313, 353.47253, 372.61047, 361.04248, 354.94385,\n",
       "       377.4471 , 354.91913, 357.47842, 357.51373, 366.86664, 358.49194,\n",
       "       368.3207 , 366.55603, 350.9216 , 355.50748, 356.96408, 363.69537,\n",
       "       359.62677, 356.46295, 368.06085, 363.49857, 353.8957 , 351.7763 ,\n",
       "       371.24283, 355.0993 , 360.23676, 363.94568, 357.47717, 358.37836,\n",
       "       363.0932 , 366.7271 , 352.73233, 361.1225 , 354.43344, 353.2872 ,\n",
       "       351.8119 , 354.34683, 360.62082, 357.78052, 358.61105, 352.29794,\n",
       "       363.7009 , 360.263  , 359.9521 , 358.13187, 358.04987, 361.21466,\n",
       "       359.20905, 366.4635 , 351.26895, 362.3736 , 363.09778, 356.1594 ,\n",
       "       355.89258, 373.53943, 358.28003, 358.01212, 357.05145, 368.40247,\n",
       "       359.0025 , 354.35956, 373.04333, 351.71677, 362.16464, 374.7091 ,\n",
       "       355.91803, 351.41528, 366.36914, 358.41656, 362.5278 , 359.21255,\n",
       "       370.31894, 375.80215, 357.18744, 362.4392 , 370.06445, 358.73914,\n",
       "       357.17026, 364.09085, 352.33844, 358.02124, 366.48413, 354.22766,\n",
       "       355.51715, 354.66833, 360.52356, 352.18268, 353.03528, 362.36957,\n",
       "       361.0569 , 380.52112, 362.4877 , 360.12405, 355.5775 , 354.75537,\n",
       "       363.7065 , 351.40375, 359.9698 , 356.2287 , 357.30463, 367.8047 ,\n",
       "       350.7562 , 361.04202, 368.33304, 354.86124, 360.37402, 368.4483 ,\n",
       "       356.3404 , 367.92828, 362.16333, 369.05896, 368.34116, 369.56598,\n",
       "       366.64862, 349.2298 , 357.6607 , 351.9881 , 355.22888, 365.39078,\n",
       "       360.91428, 370.2096 , 371.3568 , 364.55344, 356.56708, 361.05212,\n",
       "       352.61618, 367.01398, 357.3675 , 354.92957, 358.0502 , 356.65686,\n",
       "       354.08234, 352.48724, 355.74118, 357.8149 , 357.3855 , 354.0855 ,\n",
       "       365.9098 , 350.5649 , 355.30743, 357.7915 , 354.8438 , 353.21365,\n",
       "       367.20233, 372.10352, 361.64478, 366.82056, 356.8463 , 370.18286,\n",
       "       366.1339 , 357.01178, 352.40366, 364.95923, 366.18362, 364.28235,\n",
       "       370.83728, 359.99103, 356.57886, 350.5625 , 351.10645, 362.05743,\n",
       "       355.44684, 366.2432 , 354.0393 , 355.69012, 355.84747, 360.3748 ,\n",
       "       352.1718 , 357.6127 , 360.2453 , 360.83316, 357.24557, 362.0207 ,\n",
       "       367.0328 , 348.61896, 371.89355, 364.45007, 359.99078, 354.11932,\n",
       "       356.99695, 376.01453, 374.27097, 361.08923, 360.8976 , 357.19995,\n",
       "       355.72882, 363.4726 , 366.97186, 366.01416, 351.57794, 354.30212,\n",
       "       352.96494, 365.4328 ], dtype=float32)"
      ]
     },
     "execution_count": 43,
     "metadata": {},
     "output_type": "execute_result"
    }
   ],
   "execution_count": 43
  },
  {
   "metadata": {
    "ExecuteTime": {
     "end_time": "2025-07-10T11:14:11.587887Z",
     "start_time": "2025-07-10T11:14:11.529133Z"
    }
   },
   "cell_type": "code",
   "source": [
    "task_llhs_new = magma_neg_likelihood_new(task_kern, padded_inputs, padded_outputs, post_mean, post_cov, mappings)\n",
    "np.asarray(task_llhs_new)"
   ],
   "id": "4a6803dcd9043ac0",
   "outputs": [
    {
     "data": {
      "text/plain": [
       "array([368.96872, 350.56775, 384.8568 , 353.88297, 380.07193, 358.41577,\n",
       "       357.34866, 353.21313, 353.47253, 372.61047, 361.04248, 354.94385,\n",
       "       377.4471 , 354.91913, 357.47842, 357.51373, 366.86664, 358.49194,\n",
       "       368.3207 , 366.55603, 350.9216 , 355.50748, 356.96408, 363.69537,\n",
       "       359.62677, 356.46295, 368.06085, 363.49857, 353.8957 , 351.7763 ,\n",
       "       371.24283, 355.0993 , 360.23676, 363.94568, 357.47717, 358.37836,\n",
       "       363.0932 , 366.7271 , 352.73233, 361.1225 , 354.43344, 353.2872 ,\n",
       "       351.8119 , 354.34683, 360.62082, 357.78052, 358.61105, 352.29794,\n",
       "       363.7009 , 360.263  , 359.9521 , 358.13187, 358.04987, 361.21466,\n",
       "       359.20905, 366.4635 , 351.26895, 362.3736 , 363.09778, 356.1594 ,\n",
       "       355.89258, 373.53943, 358.28003, 358.01212, 357.05145, 368.40247,\n",
       "       359.0025 , 354.35956, 373.04333, 351.71677, 362.16464, 374.7091 ,\n",
       "       355.91803, 351.41528, 366.36914, 358.41656, 362.5278 , 359.21255,\n",
       "       370.31894, 375.80215, 357.18744, 362.4392 , 370.06445, 358.73914,\n",
       "       357.17026, 364.09085, 352.33844, 358.02124, 366.48413, 354.22766,\n",
       "       355.51715, 354.66833, 360.52356, 352.18268, 353.03528, 362.36957,\n",
       "       361.0569 , 380.52112, 362.4877 , 360.12405, 355.5775 , 354.75537,\n",
       "       363.7065 , 351.40375, 359.9698 , 356.2287 , 357.30463, 367.8047 ,\n",
       "       350.7562 , 361.04202, 368.33304, 354.86124, 360.37402, 368.4483 ,\n",
       "       356.3404 , 367.92828, 362.16333, 369.05896, 368.34116, 369.56598,\n",
       "       366.64862, 349.2298 , 357.6607 , 351.9881 , 355.22888, 365.39078,\n",
       "       360.91428, 370.2096 , 371.3568 , 364.55344, 356.56708, 361.05212,\n",
       "       352.61618, 367.01398, 357.3675 , 354.92957, 358.0502 , 356.65686,\n",
       "       354.08234, 352.48724, 355.74118, 357.8149 , 357.3855 , 354.0855 ,\n",
       "       365.9098 , 350.5649 , 355.30743, 357.7915 , 354.8438 , 353.21365,\n",
       "       367.20233, 372.10352, 361.64478, 366.82056, 356.8463 , 370.18286,\n",
       "       366.1339 , 357.01178, 352.40366, 364.95923, 366.18362, 364.28235,\n",
       "       370.83728, 359.99103, 356.57886, 350.5625 , 351.10645, 362.05743,\n",
       "       355.44684, 366.2432 , 354.0393 , 355.69012, 355.84747, 360.3748 ,\n",
       "       352.1718 , 357.6127 , 360.2453 , 360.83316, 357.24557, 362.0207 ,\n",
       "       367.0328 , 348.61896, 371.89355, 364.45007, 359.99078, 354.11932,\n",
       "       356.99695, 376.01453, 374.27097, 361.08923, 360.8976 , 357.19995,\n",
       "       355.72882, 363.4726 , 366.97186, 366.01416, 351.57794, 354.30212,\n",
       "       352.96494, 365.4328 ], dtype=float32)"
      ]
     },
     "execution_count": 44,
     "metadata": {},
     "output_type": "execute_result"
    }
   ],
   "execution_count": 44
  },
  {
   "metadata": {
    "ExecuteTime": {
     "end_time": "2025-07-10T11:14:11.620699Z",
     "start_time": "2025-07-10T11:14:11.616939Z"
    }
   },
   "cell_type": "code",
   "source": "jnp.allclose(task_llhs_old, task_llhs_new)",
   "id": "d73de261b44d3a4b",
   "outputs": [
    {
     "data": {
      "text/plain": [
       "Array(True, dtype=bool)"
      ]
     },
     "execution_count": 45,
     "metadata": {},
     "output_type": "execute_result"
    }
   ],
   "execution_count": 45
  },
  {
   "metadata": {
    "ExecuteTime": {
     "end_time": "2025-07-10T11:14:14.486986Z",
     "start_time": "2025-07-10T11:14:11.697299Z"
    }
   },
   "cell_type": "code",
   "source": "%timeit magma_neg_likelihood_old(task_kern, padded_inputs, padded_outputs.squeeze(), post_mean, post_cov, mappings, jitter=jitter)[0].block_until_ready()",
   "id": "6ed5dc7f0e12d0bd",
   "outputs": [
    {
     "name": "stdout",
     "output_type": "stream",
     "text": [
      "34.1 ms ± 2.91 ms per loop (mean ± std. dev. of 7 runs, 10 loops each)\n"
     ]
    }
   ],
   "execution_count": 46
  },
  {
   "metadata": {
    "ExecuteTime": {
     "end_time": "2025-07-10T11:14:17.125163Z",
     "start_time": "2025-07-10T11:14:14.503278Z"
    }
   },
   "cell_type": "code",
   "source": "%timeit magma_neg_likelihood_new(task_kern, padded_inputs, padded_outputs, post_mean, post_cov, mappings)[0].block_until_ready()",
   "id": "6e140515447e2331",
   "outputs": [
    {
     "name": "stdout",
     "output_type": "stream",
     "text": [
      "31.1 ms ± 2.25 ms per loop (mean ± std. dev. of 7 runs, 10 loops each)\n"
     ]
    }
   ],
   "execution_count": 47
  },
  {
   "metadata": {},
   "cell_type": "markdown",
   "source": "### Distinct Input, shared HP",
   "id": "2c8d6551fd15b40"
  },
  {
   "metadata": {
    "ExecuteTime": {
     "end_time": "2025-07-10T11:14:17.680496Z",
     "start_time": "2025-07-10T11:14:17.141118Z"
    }
   },
   "cell_type": "code",
   "source": [
    "db = pd.read_csv(f\"../datasets/{test_db_size}_distinct_input_shared_hp.csv\")\n",
    "\n",
    "padded_inputs, padded_outputs, mappings, all_inputs = preprocess_db(db)\n",
    "\n",
    "prior_mean = jnp.array(0)\n",
    "all_inputs.shape, padded_inputs.shape"
   ],
   "id": "86f86b36fc853bf0",
   "outputs": [
    {
     "data": {
      "text/plain": [
       "((401, 1), (200, 190, 1))"
      ]
     },
     "execution_count": 48,
     "metadata": {},
     "output_type": "execute_result"
    }
   ],
   "execution_count": 48
  },
  {
   "metadata": {
    "ExecuteTime": {
     "end_time": "2025-07-10T11:14:17.980671Z",
     "start_time": "2025-07-10T11:14:17.977084Z"
    }
   },
   "cell_type": "code",
   "source": [
    "mean_kern = SEMagmaKernel(length_scale=jnp.array(.3), variance=jnp.array(1.))\n",
    "task_kern = SEMagmaKernel(length_scale=jnp.array(.3), variance=jnp.array(1.)) + DiagKernel(ExpKernel(jnp.array(2.5)))"
   ],
   "id": "40bfc43614f84bdb",
   "outputs": [],
   "execution_count": 49
  },
  {
   "metadata": {
    "ExecuteTime": {
     "end_time": "2025-07-10T11:14:18.665935Z",
     "start_time": "2025-07-10T11:14:18.022609Z"
    }
   },
   "cell_type": "code",
   "source": [
    "post_mean, post_cov = hyperpost(padded_inputs, padded_outputs, mappings, prior_mean, mean_kern, task_kern, all_inputs=all_inputs)\n",
    "post_mean.shape, post_cov.shape"
   ],
   "id": "2b4adb5d1917ddb",
   "outputs": [
    {
     "data": {
      "text/plain": [
       "((401,), (401, 401))"
      ]
     },
     "execution_count": 50,
     "metadata": {},
     "output_type": "execute_result"
    }
   ],
   "execution_count": 50
  },
  {
   "metadata": {
    "ExecuteTime": {
     "end_time": "2025-07-10T11:14:19.134096Z",
     "start_time": "2025-07-10T11:14:18.939159Z"
    }
   },
   "cell_type": "code",
   "source": [
    "mean_llh_old = magma_neg_likelihood_old(mean_kern, all_inputs, post_mean, jnp.full(all_inputs.squeeze().shape, prior_mean), post_cov, None, jitter=jitter)\n",
    "mean_llh_old.item()"
   ],
   "id": "9c59470ffd2dd87c",
   "outputs": [
    {
     "data": {
      "text/plain": [
       "nan"
      ]
     },
     "execution_count": 51,
     "metadata": {},
     "output_type": "execute_result"
    }
   ],
   "execution_count": 51
  },
  {
   "metadata": {
    "ExecuteTime": {
     "end_time": "2025-07-10T11:14:19.364505Z",
     "start_time": "2025-07-10T11:14:19.158557Z"
    }
   },
   "cell_type": "code",
   "source": [
    "mean_llh_new = magma_neg_likelihood_new(mean_kern, all_inputs, post_mean, prior_mean, post_cov, None)\n",
    "mean_llh_new.item()"
   ],
   "id": "298b2d70af12c7d1",
   "outputs": [
    {
     "data": {
      "text/plain": [
       "inf"
      ]
     },
     "execution_count": 52,
     "metadata": {},
     "output_type": "execute_result"
    }
   ],
   "execution_count": 52
  },
  {
   "metadata": {
    "ExecuteTime": {
     "end_time": "2025-07-10T11:14:19.381498Z",
     "start_time": "2025-07-10T11:14:19.378537Z"
    }
   },
   "cell_type": "code",
   "source": "jnp.allclose(mean_llh_old, mean_llh_new)",
   "id": "dcc1177483cc4700",
   "outputs": [
    {
     "data": {
      "text/plain": [
       "Array(False, dtype=bool)"
      ]
     },
     "execution_count": 53,
     "metadata": {},
     "output_type": "execute_result"
    }
   ],
   "execution_count": 53
  },
  {
   "metadata": {
    "ExecuteTime": {
     "end_time": "2025-07-10T11:14:19.656142Z",
     "start_time": "2025-07-10T11:14:19.425550Z"
    }
   },
   "cell_type": "code",
   "source": "%timeit magma_neg_likelihood_old(mean_kern, all_inputs, post_mean, prior_mean, post_cov, None, jitter=jitter).block_until_ready()",
   "id": "4782dab8da71c08e",
   "outputs": [
    {
     "name": "stdout",
     "output_type": "stream",
     "text": [
      "2.67 ms ± 230 μs per loop (mean ± std. dev. of 7 runs, 1 loop each)\n"
     ]
    }
   ],
   "execution_count": 54
  },
  {
   "metadata": {
    "ExecuteTime": {
     "end_time": "2025-07-10T11:14:22.464478Z",
     "start_time": "2025-07-10T11:14:19.670418Z"
    }
   },
   "cell_type": "code",
   "source": "%timeit magma_neg_likelihood_new(mean_kern, all_inputs, post_mean, prior_mean, post_cov, None).block_until_ready()",
   "id": "bb09ce827beae5cb",
   "outputs": [
    {
     "name": "stdout",
     "output_type": "stream",
     "text": [
      "3.44 ms ± 216 μs per loop (mean ± std. dev. of 7 runs, 100 loops each)\n"
     ]
    }
   ],
   "execution_count": 55
  },
  {
   "metadata": {
    "ExecuteTime": {
     "end_time": "2025-07-10T11:14:22.820932Z",
     "start_time": "2025-07-10T11:14:22.480422Z"
    }
   },
   "cell_type": "code",
   "source": [
    "task_llhs_old = magma_neg_likelihood_old(task_kern, padded_inputs, padded_outputs.squeeze(), post_mean, post_cov, mappings, jitter=jitter)\n",
    "np.asarray(task_llhs_old)"
   ],
   "id": "2ef2072460355d1a",
   "outputs": [
    {
     "data": {
      "text/plain": [
       "array([inf, inf, inf, inf, inf, inf, inf, inf, inf, inf, inf, inf, inf,\n",
       "       inf, inf, inf, inf, inf, inf, inf, inf, inf, inf, inf, inf, inf,\n",
       "       inf, inf, inf, inf, inf, inf, inf, inf, inf, inf, inf, inf, inf,\n",
       "       inf, inf, inf, inf, inf, inf, inf, inf, inf, inf, inf, inf, inf,\n",
       "       inf, inf, inf, inf, inf, inf, inf, inf, inf, inf, inf, inf, inf,\n",
       "       inf, inf, inf, inf, inf, inf, inf, inf, inf, inf, inf, inf, inf,\n",
       "       inf, inf, inf, inf, inf, inf, inf, inf, inf, inf, inf, inf, inf,\n",
       "       inf, inf, inf, inf, inf, inf, inf, inf, inf, inf, inf, inf, inf,\n",
       "       inf, inf, inf, inf, inf, inf, inf, inf, inf, inf, inf, inf, inf,\n",
       "       inf, inf, inf, inf, inf, inf, inf, inf, inf, inf, inf, inf, inf,\n",
       "       inf, inf, inf, inf, inf, inf, inf, inf, inf, inf, inf, inf, inf,\n",
       "       inf, inf, inf, inf, inf, inf, inf, inf, inf, inf, inf, inf, inf,\n",
       "       inf, inf, inf, inf, inf, inf, inf, inf, inf, inf, inf, inf, inf,\n",
       "       inf, inf, inf, inf, inf, inf, inf, inf, inf, inf, inf, inf, inf,\n",
       "       inf, inf, inf, inf, inf, inf, inf, inf, inf, inf, inf, inf, inf,\n",
       "       inf, inf, inf, inf, inf], dtype=float32)"
      ]
     },
     "execution_count": 56,
     "metadata": {},
     "output_type": "execute_result"
    }
   ],
   "execution_count": 56
  },
  {
   "metadata": {
    "ExecuteTime": {
     "end_time": "2025-07-10T11:14:23.189312Z",
     "start_time": "2025-07-10T11:14:22.836315Z"
    }
   },
   "cell_type": "code",
   "source": [
    "task_llhs_new = magma_neg_likelihood_new(task_kern, padded_inputs, padded_outputs, post_mean, post_cov, mappings)\n",
    "np.asarray(task_llhs_new)"
   ],
   "id": "527a03e95b6f8c0a",
   "outputs": [
    {
     "data": {
      "text/plain": [
       "array([inf, inf, inf, inf, inf, inf, inf, inf, inf, inf, inf, inf, inf,\n",
       "       inf, inf, inf, inf, inf, inf, inf, inf, inf, inf, inf, inf, inf,\n",
       "       inf, inf, inf, inf, inf, inf, inf, inf, inf, inf, inf, inf, inf,\n",
       "       inf, inf, inf, inf, inf, inf, inf, inf, inf, inf, inf, inf, inf,\n",
       "       inf, inf, inf, inf, inf, inf, inf, inf, inf, inf, inf, inf, inf,\n",
       "       inf, inf, inf, inf, inf, inf, inf, inf, inf, inf, inf, inf, inf,\n",
       "       inf, inf, inf, inf, inf, inf, inf, inf, inf, inf, inf, inf, inf,\n",
       "       inf, inf, inf, inf, inf, inf, inf, inf, inf, inf, inf, inf, inf,\n",
       "       inf, inf, inf, inf, inf, inf, inf, inf, inf, inf, inf, inf, inf,\n",
       "       inf, inf, inf, inf, inf, inf, inf, inf, inf, inf, inf, inf, inf,\n",
       "       inf, inf, inf, inf, inf, inf, inf, inf, inf, inf, inf, inf, inf,\n",
       "       inf, inf, inf, inf, inf, inf, inf, inf, inf, inf, inf, inf, inf,\n",
       "       inf, inf, inf, inf, inf, inf, inf, inf, inf, inf, inf, inf, inf,\n",
       "       inf, inf, inf, inf, inf, inf, inf, inf, inf, inf, inf, inf, inf,\n",
       "       inf, inf, inf, inf, inf, inf, inf, inf, inf, inf, inf, inf, inf,\n",
       "       inf, inf, inf, inf, inf], dtype=float32)"
      ]
     },
     "execution_count": 57,
     "metadata": {},
     "output_type": "execute_result"
    }
   ],
   "execution_count": 57
  },
  {
   "metadata": {
    "ExecuteTime": {
     "end_time": "2025-07-10T11:14:23.209328Z",
     "start_time": "2025-07-10T11:14:23.206143Z"
    }
   },
   "cell_type": "code",
   "source": "jnp.allclose(task_llhs_old, task_llhs_new)",
   "id": "e55e7a4ddc2d106c",
   "outputs": [
    {
     "data": {
      "text/plain": [
       "Array(True, dtype=bool)"
      ]
     },
     "execution_count": 58,
     "metadata": {},
     "output_type": "execute_result"
    }
   ],
   "execution_count": 58
  },
  {
   "metadata": {
    "ExecuteTime": {
     "end_time": "2025-07-10T11:14:27.930726Z",
     "start_time": "2025-07-10T11:14:23.306138Z"
    }
   },
   "cell_type": "code",
   "source": "%timeit magma_neg_likelihood_old(task_kern, padded_inputs, padded_outputs.squeeze(), post_mean, post_cov, mappings, jitter=jitter)[0].block_until_ready()",
   "id": "86502973d22247ff",
   "outputs": [
    {
     "name": "stdout",
     "output_type": "stream",
     "text": [
      "56.4 ms ± 1.63 ms per loop (mean ± std. dev. of 7 runs, 10 loops each)\n"
     ]
    }
   ],
   "execution_count": 59
  },
  {
   "metadata": {
    "ExecuteTime": {
     "end_time": "2025-07-10T11:14:32.835332Z",
     "start_time": "2025-07-10T11:14:27.944163Z"
    }
   },
   "cell_type": "code",
   "source": "%timeit magma_neg_likelihood_new(task_kern, padded_inputs, padded_outputs, post_mean, post_cov, mappings)[0].block_until_ready()",
   "id": "2204b960eb92c770",
   "outputs": [
    {
     "name": "stdout",
     "output_type": "stream",
     "text": [
      "59.5 ms ± 4 ms per loop (mean ± std. dev. of 7 runs, 10 loops each)\n"
     ]
    }
   ],
   "execution_count": 60
  },
  {
   "metadata": {},
   "cell_type": "markdown",
   "source": "### Distinct Input, Distinct HP",
   "id": "c55c56f723318753"
  },
  {
   "metadata": {
    "ExecuteTime": {
     "end_time": "2025-07-10T11:14:33.275946Z",
     "start_time": "2025-07-10T11:14:32.863649Z"
    }
   },
   "cell_type": "code",
   "source": [
    "db = pd.read_csv(f\"../datasets/{test_db_size}_distinct_input_distinct_hp.csv\")\n",
    "\n",
    "padded_inputs, padded_outputs, mappings, all_inputs = preprocess_db(db)\n",
    "\n",
    "prior_mean = jnp.array(0)\n",
    "all_inputs.shape, padded_inputs.shape"
   ],
   "id": "dc7c16034b3d9c84",
   "outputs": [
    {
     "data": {
      "text/plain": [
       "((401, 1), (200, 188, 1))"
      ]
     },
     "execution_count": 61,
     "metadata": {},
     "output_type": "execute_result"
    }
   ],
   "execution_count": 61
  },
  {
   "metadata": {
    "ExecuteTime": {
     "end_time": "2025-07-10T11:14:33.584463Z",
     "start_time": "2025-07-10T11:14:33.578989Z"
    }
   },
   "cell_type": "code",
   "source": [
    "mean_kern = SEMagmaKernel(length_scale=jnp.array(.3), variance=jnp.array(1.))\n",
    "\n",
    "key, subkey = jax.random.split(key)\n",
    "distinct_length_scales = jax.random.uniform(subkey, (padded_outputs.shape[0],), jnp.float32, .1, 1)\n",
    "task_kern = SEMagmaKernel(length_scale=jnp.array(.3), variance=jnp.array(1.)) + DiagKernel(ExpKernel(jnp.array(2.5)))"
   ],
   "id": "eaa87dfb69133e9e",
   "outputs": [],
   "execution_count": 62
  },
  {
   "metadata": {
    "ExecuteTime": {
     "end_time": "2025-07-10T11:14:34.015764Z",
     "start_time": "2025-07-10T11:14:33.645457Z"
    }
   },
   "cell_type": "code",
   "source": [
    "post_mean, post_cov = hyperpost(padded_inputs, padded_outputs, mappings, prior_mean, mean_kern, task_kern, all_inputs=all_inputs)\n",
    "post_mean.shape, post_cov.shape"
   ],
   "id": "6a3c6118b613c760",
   "outputs": [
    {
     "data": {
      "text/plain": [
       "((401,), (401, 401))"
      ]
     },
     "execution_count": 63,
     "metadata": {},
     "output_type": "execute_result"
    }
   ],
   "execution_count": 63
  },
  {
   "metadata": {
    "ExecuteTime": {
     "end_time": "2025-07-10T11:14:34.223666Z",
     "start_time": "2025-07-10T11:14:34.215579Z"
    }
   },
   "cell_type": "code",
   "source": [
    "mean_llh_old = magma_neg_likelihood_old(mean_kern, all_inputs, post_mean, jnp.full(all_inputs.squeeze().shape, prior_mean), post_cov, None, jitter=jitter)\n",
    "mean_llh_old.item()"
   ],
   "id": "540eff82a63072a1",
   "outputs": [
    {
     "data": {
      "text/plain": [
       "nan"
      ]
     },
     "execution_count": 64,
     "metadata": {},
     "output_type": "execute_result"
    }
   ],
   "execution_count": 64
  },
  {
   "metadata": {
    "ExecuteTime": {
     "end_time": "2025-07-10T11:14:34.266848Z",
     "start_time": "2025-07-10T11:14:34.257379Z"
    }
   },
   "cell_type": "code",
   "source": [
    "mean_llh_new = magma_neg_likelihood_new(mean_kern, all_inputs, post_mean, prior_mean, post_cov, None)\n",
    "mean_llh_new.item()"
   ],
   "id": "7dca36ec16c62b8d",
   "outputs": [
    {
     "data": {
      "text/plain": [
       "inf"
      ]
     },
     "execution_count": 65,
     "metadata": {},
     "output_type": "execute_result"
    }
   ],
   "execution_count": 65
  },
  {
   "metadata": {
    "ExecuteTime": {
     "end_time": "2025-07-10T11:14:34.314212Z",
     "start_time": "2025-07-10T11:14:34.297987Z"
    }
   },
   "cell_type": "code",
   "source": "jnp.allclose(mean_llh_old, mean_llh_new)",
   "id": "37dd1f93ff2dee25",
   "outputs": [
    {
     "data": {
      "text/plain": [
       "Array(False, dtype=bool)"
      ]
     },
     "execution_count": 66,
     "metadata": {},
     "output_type": "execute_result"
    }
   ],
   "execution_count": 66
  },
  {
   "metadata": {
    "ExecuteTime": {
     "end_time": "2025-07-10T11:14:36.386147Z",
     "start_time": "2025-07-10T11:14:34.428172Z"
    }
   },
   "cell_type": "code",
   "source": "%timeit magma_neg_likelihood_old(mean_kern, all_inputs, post_mean, prior_mean, post_cov, None, jitter=jitter).block_until_ready()",
   "id": "38057214aa293972",
   "outputs": [
    {
     "name": "stdout",
     "output_type": "stream",
     "text": [
      "2.4 ms ± 110 μs per loop (mean ± std. dev. of 7 runs, 100 loops each)\n"
     ]
    }
   ],
   "execution_count": 67
  },
  {
   "metadata": {
    "ExecuteTime": {
     "end_time": "2025-07-10T11:14:39.021766Z",
     "start_time": "2025-07-10T11:14:36.400250Z"
    }
   },
   "cell_type": "code",
   "source": "%timeit magma_neg_likelihood_new(mean_kern, all_inputs, post_mean, prior_mean, post_cov, None).block_until_ready()",
   "id": "76ebb22c7f262518",
   "outputs": [
    {
     "name": "stdout",
     "output_type": "stream",
     "text": [
      "3.21 ms ± 125 μs per loop (mean ± std. dev. of 7 runs, 100 loops each)\n"
     ]
    }
   ],
   "execution_count": 68
  },
  {
   "metadata": {
    "ExecuteTime": {
     "end_time": "2025-07-10T11:14:39.396628Z",
     "start_time": "2025-07-10T11:14:39.035689Z"
    }
   },
   "cell_type": "code",
   "source": [
    "task_llhs_old = magma_neg_likelihood_old(task_kern, padded_inputs, padded_outputs.squeeze(), post_mean, post_cov, mappings, jitter=jitter)\n",
    "np.asarray(task_llhs_old)"
   ],
   "id": "c6108c40e10c2538",
   "outputs": [
    {
     "data": {
      "text/plain": [
       "array([inf, inf, inf, inf, inf, inf, inf, inf, inf, inf, inf, inf, inf,\n",
       "       inf, inf, inf, inf, inf, inf, inf, inf, inf, inf, inf, inf, inf,\n",
       "       inf, inf, inf, inf, inf, inf, inf, inf, inf, inf, inf, inf, inf,\n",
       "       inf, inf, inf, inf, inf, inf, inf, inf, inf, inf, inf, inf, inf,\n",
       "       inf, inf, inf, inf, inf, inf, inf, inf, inf, inf, inf, inf, inf,\n",
       "       inf, inf, inf, inf, inf, inf, inf, inf, inf, inf, inf, inf, inf,\n",
       "       inf, inf, inf, inf, inf, inf, inf, inf, inf, inf, inf, inf, inf,\n",
       "       inf, inf, inf, inf, inf, inf, inf, inf, inf, inf, inf, inf, inf,\n",
       "       inf, inf, inf, inf, inf, inf, inf, inf, inf, inf, inf, inf, inf,\n",
       "       inf, inf, inf, inf, inf, inf, inf, inf, inf, inf, inf, inf, inf,\n",
       "       inf, inf, inf, inf, inf, inf, inf, inf, inf, inf, inf, inf, inf,\n",
       "       inf, inf, inf, inf, inf, inf, inf, inf, inf, inf, inf, inf, inf,\n",
       "       inf, inf, inf, inf, inf, inf, inf, inf, inf, inf, inf, inf, inf,\n",
       "       inf, inf, inf, inf, inf, inf, inf, inf, inf, inf, inf, inf, inf,\n",
       "       inf, inf, inf, inf, inf, inf, inf, inf, inf, inf, inf, inf, inf,\n",
       "       inf, inf, inf, inf, inf], dtype=float32)"
      ]
     },
     "execution_count": 69,
     "metadata": {},
     "output_type": "execute_result"
    }
   ],
   "execution_count": 69
  },
  {
   "metadata": {
    "ExecuteTime": {
     "end_time": "2025-07-10T11:14:39.862410Z",
     "start_time": "2025-07-10T11:14:39.412437Z"
    }
   },
   "cell_type": "code",
   "source": [
    "task_llhs_new = magma_neg_likelihood_new(task_kern, padded_inputs, padded_outputs, post_mean, post_cov, mappings)\n",
    "np.asarray(task_llhs_new)"
   ],
   "id": "6c1a73c0bad56762",
   "outputs": [
    {
     "data": {
      "text/plain": [
       "array([inf, inf, inf, inf, inf, inf, inf, inf, inf, inf, inf, inf, inf,\n",
       "       inf, inf, inf, inf, inf, inf, inf, inf, inf, inf, inf, inf, inf,\n",
       "       inf, inf, inf, inf, inf, inf, inf, inf, inf, inf, inf, inf, inf,\n",
       "       inf, inf, inf, inf, inf, inf, inf, inf, inf, inf, inf, inf, inf,\n",
       "       inf, inf, inf, inf, inf, inf, inf, inf, inf, inf, inf, inf, inf,\n",
       "       inf, inf, inf, inf, inf, inf, inf, inf, inf, inf, inf, inf, inf,\n",
       "       inf, inf, inf, inf, inf, inf, inf, inf, inf, inf, inf, inf, inf,\n",
       "       inf, inf, inf, inf, inf, inf, inf, inf, inf, inf, inf, inf, inf,\n",
       "       inf, inf, inf, inf, inf, inf, inf, inf, inf, inf, inf, inf, inf,\n",
       "       inf, inf, inf, inf, inf, inf, inf, inf, inf, inf, inf, inf, inf,\n",
       "       inf, inf, inf, inf, inf, inf, inf, inf, inf, inf, inf, inf, inf,\n",
       "       inf, inf, inf, inf, inf, inf, inf, inf, inf, inf, inf, inf, inf,\n",
       "       inf, inf, inf, inf, inf, inf, inf, inf, inf, inf, inf, inf, inf,\n",
       "       inf, inf, inf, inf, inf, inf, inf, inf, inf, inf, inf, inf, inf,\n",
       "       inf, inf, inf, inf, inf, inf, inf, inf, inf, inf, inf, inf, inf,\n",
       "       inf, inf, inf, inf, inf], dtype=float32)"
      ]
     },
     "execution_count": 70,
     "metadata": {},
     "output_type": "execute_result"
    }
   ],
   "execution_count": 70
  },
  {
   "metadata": {
    "ExecuteTime": {
     "end_time": "2025-07-10T11:14:39.878627Z",
     "start_time": "2025-07-10T11:14:39.876053Z"
    }
   },
   "cell_type": "code",
   "source": "jnp.allclose(task_llhs_old, task_llhs_new)",
   "id": "13c230e0fbe7bad9",
   "outputs": [
    {
     "data": {
      "text/plain": [
       "Array(True, dtype=bool)"
      ]
     },
     "execution_count": 71,
     "metadata": {},
     "output_type": "execute_result"
    }
   ],
   "execution_count": 71
  },
  {
   "metadata": {
    "ExecuteTime": {
     "end_time": "2025-07-10T11:14:44.627305Z",
     "start_time": "2025-07-10T11:14:39.917140Z"
    }
   },
   "cell_type": "code",
   "source": "%timeit magma_neg_likelihood_old(task_kern, padded_inputs, padded_outputs.squeeze(), post_mean, post_cov, mappings, jitter=jitter)[0].block_until_ready()",
   "id": "bc005ebe85304a57",
   "outputs": [
    {
     "name": "stdout",
     "output_type": "stream",
     "text": [
      "58.3 ms ± 4.11 ms per loop (mean ± std. dev. of 7 runs, 10 loops each)\n"
     ]
    }
   ],
   "execution_count": 72
  },
  {
   "metadata": {
    "ExecuteTime": {
     "end_time": "2025-07-10T11:14:49.745425Z",
     "start_time": "2025-07-10T11:14:44.647785Z"
    }
   },
   "cell_type": "code",
   "source": "%timeit magma_neg_likelihood_new(task_kern, padded_inputs, padded_outputs, post_mean, post_cov, mappings)[0].block_until_ready()",
   "id": "11ba9f3164f2342d",
   "outputs": [
    {
     "name": "stdout",
     "output_type": "stream",
     "text": [
      "61.7 ms ± 4.6 ms per loop (mean ± std. dev. of 7 runs, 10 loops each)\n"
     ]
    }
   ],
   "execution_count": 73
  },
  {
   "metadata": {},
   "cell_type": "markdown",
   "source": "---",
   "id": "f18216d93ddcf3af"
  },
  {
   "metadata": {
    "ExecuteTime": {
     "end_time": "2025-07-10T11:14:49.764840Z",
     "start_time": "2025-07-10T11:14:49.763Z"
    }
   },
   "cell_type": "code",
   "source": "",
   "id": "3c2e9d66247af81b",
   "outputs": [],
   "execution_count": null
  }
 ],
 "metadata": {
  "kernelspec": {
   "display_name": "Python 3",
   "language": "python",
   "name": "python3"
  },
  "language_info": {
   "codemirror_mode": {
    "name": "ipython",
    "version": 2
   },
   "file_extension": ".py",
   "mimetype": "text/x-python",
   "name": "python",
   "nbconvert_exporter": "python",
   "pygments_lexer": "ipython2",
   "version": "2.7.6"
  }
 },
 "nbformat": 4,
 "nbformat_minor": 5
}
