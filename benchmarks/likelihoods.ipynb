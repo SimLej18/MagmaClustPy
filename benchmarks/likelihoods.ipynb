{
 "cells": [
  {
   "metadata": {},
   "cell_type": "markdown",
   "source": [
    "# Benchmarks - Likelihoods\n",
    "\n",
    "**Main considerations when implementing Likelihoods**\n",
    "- must be efficient, as they are used in the main bottleneck of the code: HP optimisation\n",
    "- must work for both common and distinct HPs"
   ],
   "id": "f69390d194b35b0a"
  },
  {
   "metadata": {},
   "cell_type": "markdown",
   "source": [
    "---\n",
    "## Setup"
   ],
   "id": "4763c6a1086dfd7a"
  },
  {
   "metadata": {
    "ExecuteTime": {
     "end_time": "2025-06-21T09:06:22.799242Z",
     "start_time": "2025-06-21T09:06:22.795416Z"
    }
   },
   "cell_type": "code",
   "source": [
    "# Standard library\n",
    "import os\n",
    "\n",
    "os.environ['JAX_ENABLE_X64'] = \"True\""
   ],
   "id": "eb0046b46dc27950",
   "outputs": [],
   "execution_count": 1
  },
  {
   "metadata": {
    "ExecuteTime": {
     "end_time": "2025-06-21T09:06:23.552014Z",
     "start_time": "2025-06-21T09:06:22.895107Z"
    }
   },
   "cell_type": "code",
   "source": [
    "# Third party\n",
    "import jax\n",
    "import jax.numpy as jnp\n",
    "from jax import jit, vmap\n",
    "from jax.scipy.linalg import cho_factor, cho_solve\n",
    "from jax.scipy.stats.multivariate_normal import logpdf\n",
    "\n",
    "import pandas as pd\n",
    "import numpy as np"
   ],
   "id": "a1fe8b76912d6f2c",
   "outputs": [],
   "execution_count": 2
  },
  {
   "metadata": {
    "ExecuteTime": {
     "end_time": "2025-06-21T09:06:23.599496Z",
     "start_time": "2025-06-21T09:06:23.558721Z"
    }
   },
   "cell_type": "code",
   "source": [
    "# Local\n",
    "from MagmaClustPy.hyperpost import hyperpost\n",
    "from MagmaClustPy.kernels import SEMagmaKernel\n",
    "from MagmaClustPy.utils import preprocess_db, extract_from_full_array, extract_from_full_matrix\n",
    "\n",
    "from MagmaClustPy.legacy import _legacy_preprocess_db"
   ],
   "id": "4b255f340edfbe6f",
   "outputs": [],
   "execution_count": 3
  },
  {
   "metadata": {
    "ExecuteTime": {
     "end_time": "2025-06-21T09:06:23.611402Z",
     "start_time": "2025-06-21T09:06:23.609124Z"
    }
   },
   "cell_type": "code",
   "source": [
    "# Config\n",
    "nugget=jnp.array(1e-10)"
   ],
   "id": "3180afa8778f9553",
   "outputs": [],
   "execution_count": 4
  },
  {
   "metadata": {},
   "cell_type": "markdown",
   "source": [
    "---\n",
    "## Data"
   ],
   "id": "190fcef7dd61821b"
  },
  {
   "metadata": {
    "ExecuteTime": {
     "end_time": "2025-06-21T09:08:28.487399Z",
     "start_time": "2025-06-21T09:08:28.467319Z"
    }
   },
   "cell_type": "code",
   "source": [
    "test_db_size = \"medium\"\n",
    "key = jax.random.PRNGKey(42)"
   ],
   "id": "b36bdb0b6080e935",
   "outputs": [],
   "execution_count": 37
  },
  {
   "metadata": {},
   "cell_type": "markdown",
   "source": [
    "---\n",
    "## Current implementation"
   ],
   "id": "bffd41fea2028bdb"
  },
  {
   "metadata": {
    "ExecuteTime": {
     "end_time": "2025-06-21T09:06:23.638680Z",
     "start_time": "2025-06-21T09:06:23.634852Z"
    }
   },
   "cell_type": "code",
   "source": "from MagmaClustPy.likelihoods import magma_neg_likelihood",
   "id": "6b7e730087bbca42",
   "outputs": [],
   "execution_count": 6
  },
  {
   "metadata": {},
   "cell_type": "markdown",
   "source": [
    "---\n",
    "## Custom implementation(s)"
   ],
   "id": "c7496288f6ddf25f"
  },
  {
   "metadata": {
    "ExecuteTime": {
     "end_time": "2025-06-21T09:06:23.654104Z",
     "start_time": "2025-06-21T09:06:23.646726Z"
    }
   },
   "cell_type": "code",
   "source": [
    "import jax.numpy as jnp\n",
    "from jax import jit, vmap\n",
    "from jax.scipy.linalg import cho_factor, cho_solve\n",
    "from jax.scipy.stats.multivariate_normal import logpdf\n",
    "\n",
    "\n",
    "@jit\n",
    "def solve_right_cholesky(A, B, nugget=jnp.array(1e-10)):\n",
    "\t\"\"\" Solves for X in X @ A = B \"\"\"\n",
    "\t# For X @ A = B, we can transpose both sides: A.T @ X.T = B.T\n",
    "\t# As A and B are symmetric, this simplifies to A @ X.T = B\n",
    "\t# Then solve for X.T and transpose the result\n",
    "\tnugget_matrix = jnp.eye(A.shape[0]) * nugget\n",
    "\treturn cho_solve(cho_factor(A + nugget_matrix), B).T\n",
    "\n",
    "\n",
    "@jit\n",
    "def magma_neg_likelihood_on_cov(covar, outputs, mean, mean_process_cov, mapping, nugget=jnp.array(1e-10)):\n",
    "\tnugget_matrix = jnp.eye(outputs.shape[0]) * nugget\n",
    "\n",
    "\teyed_covar = jnp.where(jnp.isnan(covar), jnp.eye(covar.shape[0]), covar)\n",
    "\tzeroed_outputs = jnp.nan_to_num(outputs)\n",
    "\tif mapping is not None:\n",
    "\t\tzeroed_mean = jnp.nan_to_num(extract_from_full_array(mean, outputs, mapping))\n",
    "\t\teyed_mean_cov = jnp.where(jnp.isnan(covar), jnp.eye(covar.shape[0]), extract_from_full_matrix(mean_process_cov, outputs, mapping))\n",
    "\telse:\n",
    "\t\tzeroed_mean = jnp.nan_to_num(mean)\n",
    "\t\teyed_mean_cov = jnp.where(jnp.isnan(covar), jnp.eye(covar.shape[0]), mean_process_cov)\n",
    "\n",
    "\n",
    "\t# Compute log-likelihood\n",
    "\tmultiv_neg_log_lik = -logpdf(zeroed_outputs, zeroed_mean, eyed_covar + nugget_matrix)\n",
    "\n",
    "\t# Compute correction term\n",
    "\tcorrection = 0.5 * jnp.trace(solve_right_cholesky(eyed_covar, eyed_mean_cov, nugget=nugget))\n",
    "\n",
    "\t# Compute padding corrections\n",
    "\t# The logpdf is computed as:\n",
    "\t# -0.5 * (N * log(2 * pi) + log(det(cov)) + (outputs - mean).T @ inv(cov) @ (outputs - mean))\n",
    "\t# det(cov) and the Mahalanobis distance are not affected by our padding\n",
    "\t# We only have to correct for the -0.5 * N * log(2 * pi) term, as N is bigger with padding\n",
    "\tnll_pad_correction = 0.5 * jnp.log(2 * jnp.pi) * jnp.sum(jnp.isnan(outputs))\n",
    "\n",
    "\t# We also need to correct the correction term, as padding adds 1s to the diagonal and hence 1 to the trace\n",
    "\tcorr_pad_correction = 0.5 * jnp.sum(jnp.isnan(outputs))\n",
    "\n",
    "\treturn (multiv_neg_log_lik - nll_pad_correction) + (correction - corr_pad_correction)\n",
    "\n",
    "\n",
    "@jit\n",
    "def magma_neg_likelihood_new(kernel, inputs, outputs: jnp.array, mean: jnp.array, mean_process_cov: jnp.array, mappings: jnp.array, nugget=jnp.array(1e-10)):\n",
    "\t\"\"\"\n",
    "\tComputes the MAGMA log-likelihood.\n",
    "\n",
    "\t:param kernel: the kernel containing HPs to optimise. This kernel is used to compute the covariance (matrix `S`)\n",
    "\t:param inputs: inputs on which to compute the covariance matrix (shape (N, ))\n",
    "\t:param mask: boolean masks indicating which inputs and outputs to consider (shape (N, ))\n",
    "\t:param outputs: the observed values (shape (N, ))\n",
    "\t:param mean: the mean over the inputs (scalar or vector of shape (N, ))\n",
    "\t:param mean_process_cov: the hypper-posterior mean process covariance (matrix K^t)\n",
    "\t:param nugget: the nugget, for numerical stability\n",
    "\n",
    "\t:return: the negative log-likelihood (scalar)\n",
    "\t\"\"\"\n",
    "\tcovar = kernel(inputs)\n",
    "\n",
    "\t# check if we need to vmap\n",
    "\tif inputs.ndim == 1:\n",
    "\t\treturn magma_neg_likelihood_on_cov(covar, outputs, mean, mean_process_cov, mappings, nugget)\n",
    "\telif inputs.ndim == 2:\n",
    "\t\treturn vmap(magma_neg_likelihood_on_cov, in_axes=(0, 0, None, None, 0, None))(covar, outputs, mean, mean_process_cov, mappings, nugget)\n",
    "\telse:\n",
    "\t\traise ValueError(\"inputs must be either 1D or 2D\")"
   ],
   "id": "5de6fcef36a19d83",
   "outputs": [],
   "execution_count": 7
  },
  {
   "metadata": {},
   "cell_type": "markdown",
   "source": [
    "---\n",
    "## Comparison"
   ],
   "id": "88fdaed3f55aae3a"
  },
  {
   "metadata": {},
   "cell_type": "markdown",
   "source": "### Sample test",
   "id": "d184c4d106475a66"
  },
  {
   "metadata": {
    "ExecuteTime": {
     "end_time": "2025-06-21T09:06:23.922313Z",
     "start_time": "2025-06-21T09:06:23.661533Z"
    }
   },
   "cell_type": "code",
   "source": [
    "db = pd.DataFrame({\n",
    "\t'ID': [1, 1, 1, 1, 2, 2, 2, 2],\n",
    "\t'Input': [0.40, 4.45, 7.60, 8.30, 3.50, 5.10, 8.85, 9.35],\n",
    "\t'Output': [59.81620, 67.13694, 78.32495, 81.83590, 62.04943, 67.31932, 85.94063, 86.76426]\n",
    "})\n",
    "\n",
    "_legacy_all_inputs, _legacy_padded_inputs, _legacy_padded_outputs, masks = _legacy_preprocess_db(db)\n",
    "all_inputs, padded_inputs, padded_outputs, mappings = preprocess_db(db)\n",
    "\n",
    "prior_mean = jnp.zeros_like(all_inputs)\n",
    "all_inputs.shape, padded_inputs.shape"
   ],
   "id": "9e4541ca06271c07",
   "outputs": [
    {
     "data": {
      "text/plain": [
       "((8,), (2, 4))"
      ]
     },
     "execution_count": 8,
     "metadata": {},
     "output_type": "execute_result"
    }
   ],
   "execution_count": 8
  },
  {
   "metadata": {
    "ExecuteTime": {
     "end_time": "2025-06-21T09:06:23.937141Z",
     "start_time": "2025-06-21T09:06:23.934328Z"
    }
   },
   "cell_type": "code",
   "source": [
    "mean_kern = SEMagmaKernel(length_scale=jnp.array(.3), variance=jnp.array(1.))\n",
    "task_kern = SEMagmaKernel(length_scale=jnp.array(.3), variance=jnp.array(1.))"
   ],
   "id": "c308ab3f3dc6d866",
   "outputs": [],
   "execution_count": 9
  },
  {
   "metadata": {
    "ExecuteTime": {
     "end_time": "2025-06-21T09:06:24.457290Z",
     "start_time": "2025-06-21T09:06:23.954186Z"
    }
   },
   "cell_type": "code",
   "source": [
    "post_mean, post_cov = hyperpost(padded_inputs, padded_outputs, mappings, prior_mean, mean_kern, task_kern, all_inputs=all_inputs)\n",
    "post_mean.shape, post_cov.shape"
   ],
   "id": "c70d9b7cbd5f368c",
   "outputs": [
    {
     "data": {
      "text/plain": [
       "((8,), (8, 8))"
      ]
     },
     "execution_count": 10,
     "metadata": {},
     "output_type": "execute_result"
    }
   ],
   "execution_count": 10
  },
  {
   "metadata": {
    "ExecuteTime": {
     "end_time": "2025-06-21T09:06:24.538790Z",
     "start_time": "2025-06-21T09:06:24.470506Z"
    }
   },
   "cell_type": "code",
   "source": [
    "_legacy_mean_llh = magma_neg_likelihood(mean_kern, _legacy_all_inputs, post_mean, prior_mean, post_cov, nugget=nugget)\n",
    "_legacy_mean_llh.item()"
   ],
   "id": "5976da68979cb8b8",
   "outputs": [
    {
     "data": {
      "text/plain": [
       "1215.4708686599558"
      ]
     },
     "execution_count": 11,
     "metadata": {},
     "output_type": "execute_result"
    }
   ],
   "execution_count": 11
  },
  {
   "metadata": {
    "ExecuteTime": {
     "end_time": "2025-06-21T09:06:24.622495Z",
     "start_time": "2025-06-21T09:06:24.549895Z"
    }
   },
   "cell_type": "code",
   "source": [
    "mean_llh = magma_neg_likelihood_new(mean_kern, all_inputs, post_mean, prior_mean, post_cov, None, nugget=nugget)\n",
    "mean_llh.item()"
   ],
   "id": "4116b325298a8425",
   "outputs": [
    {
     "data": {
      "text/plain": [
       "1215.4708686599558"
      ]
     },
     "execution_count": 12,
     "metadata": {},
     "output_type": "execute_result"
    }
   ],
   "execution_count": 12
  },
  {
   "metadata": {
    "ExecuteTime": {
     "end_time": "2025-06-21T09:06:24.655323Z",
     "start_time": "2025-06-21T09:06:24.634182Z"
    }
   },
   "cell_type": "code",
   "source": "jnp.allclose(_legacy_mean_llh, mean_llh)",
   "id": "5c063ee3eec52010",
   "outputs": [
    {
     "data": {
      "text/plain": [
       "Array(True, dtype=bool)"
      ]
     },
     "execution_count": 13,
     "metadata": {},
     "output_type": "execute_result"
    }
   ],
   "execution_count": 13
  },
  {
   "metadata": {
    "ExecuteTime": {
     "end_time": "2025-06-21T09:06:34.210175Z",
     "start_time": "2025-06-21T09:06:24.666927Z"
    }
   },
   "cell_type": "code",
   "source": "%timeit magma_neg_likelihood(mean_kern, _legacy_all_inputs, post_mean, prior_mean, post_cov, nugget=nugget).block_until_ready()",
   "id": "e1103ebd9ec6c20c",
   "outputs": [
    {
     "name": "stdout",
     "output_type": "stream",
     "text": [
      "11.6 μs ± 271 ns per loop (mean ± std. dev. of 7 runs, 100,000 loops each)\n"
     ]
    }
   ],
   "execution_count": 14
  },
  {
   "metadata": {
    "ExecuteTime": {
     "end_time": "2025-06-21T09:06:45.800761Z",
     "start_time": "2025-06-21T09:06:34.223302Z"
    }
   },
   "cell_type": "code",
   "source": "%timeit magma_neg_likelihood_new(mean_kern, all_inputs, post_mean, prior_mean, post_cov, None, nugget=nugget).block_until_ready()",
   "id": "ee8a2b95bb285b69",
   "outputs": [
    {
     "name": "stdout",
     "output_type": "stream",
     "text": [
      "14.2 μs ± 217 ns per loop (mean ± std. dev. of 7 runs, 100,000 loops each)\n"
     ]
    }
   ],
   "execution_count": 15
  },
  {
   "metadata": {
    "ExecuteTime": {
     "end_time": "2025-06-21T09:06:45.922540Z",
     "start_time": "2025-06-21T09:06:45.812906Z"
    }
   },
   "cell_type": "code",
   "source": [
    "_legacy_task_llhs = magma_neg_likelihood(task_kern, _legacy_padded_inputs, _legacy_padded_outputs, post_mean, post_cov, mask=masks, nugget=nugget)\n",
    "np.asarray(_legacy_task_llhs)"
   ],
   "id": "7aaf7bbc5aa4235a",
   "outputs": [
    {
     "data": {
      "text/plain": [
       "array([443.00084239, 405.85107611])"
      ]
     },
     "execution_count": 16,
     "metadata": {},
     "output_type": "execute_result"
    }
   ],
   "execution_count": 16
  },
  {
   "metadata": {
    "ExecuteTime": {
     "end_time": "2025-06-21T09:06:46.053651Z",
     "start_time": "2025-06-21T09:06:45.934953Z"
    }
   },
   "cell_type": "code",
   "source": [
    "task_llhs = magma_neg_likelihood_new(task_kern, padded_inputs, padded_outputs, post_mean, post_cov, mappings, nugget=nugget)\n",
    "np.asarray(task_llhs)"
   ],
   "id": "eb119c784d811156",
   "outputs": [
    {
     "data": {
      "text/plain": [
       "array([443.00084239, 405.85107611])"
      ]
     },
     "execution_count": 17,
     "metadata": {},
     "output_type": "execute_result"
    }
   ],
   "execution_count": 17
  },
  {
   "metadata": {
    "ExecuteTime": {
     "end_time": "2025-06-21T09:06:46.090751Z",
     "start_time": "2025-06-21T09:06:46.067726Z"
    }
   },
   "cell_type": "code",
   "source": "jnp.allclose(_legacy_task_llhs, task_llhs)",
   "id": "fc725337018fb237",
   "outputs": [
    {
     "data": {
      "text/plain": [
       "Array(True, dtype=bool)"
      ]
     },
     "execution_count": 18,
     "metadata": {},
     "output_type": "execute_result"
    }
   ],
   "execution_count": 18
  },
  {
   "metadata": {
    "ExecuteTime": {
     "end_time": "2025-06-21T09:06:51.308897Z",
     "start_time": "2025-06-21T09:06:46.106365Z"
    }
   },
   "cell_type": "code",
   "source": "%timeit magma_neg_likelihood(task_kern, _legacy_padded_inputs, _legacy_padded_outputs, post_mean, post_cov, mask=masks, nugget=nugget)[0].block_until_ready()",
   "id": "20647ca8edd28ff8",
   "outputs": [
    {
     "name": "stdout",
     "output_type": "stream",
     "text": [
      "63.9 μs ± 486 ns per loop (mean ± std. dev. of 7 runs, 10,000 loops each)\n"
     ]
    }
   ],
   "execution_count": 19
  },
  {
   "metadata": {
    "ExecuteTime": {
     "end_time": "2025-06-21T09:06:56.380606Z",
     "start_time": "2025-06-21T09:06:51.321086Z"
    }
   },
   "cell_type": "code",
   "source": "%timeit magma_neg_likelihood_new(task_kern, padded_inputs, padded_outputs, post_mean, post_cov, mappings, nugget=nugget)[0].block_until_ready()",
   "id": "a88a2f8d45c6d9af",
   "outputs": [
    {
     "name": "stdout",
     "output_type": "stream",
     "text": [
      "61.8 μs ± 418 ns per loop (mean ± std. dev. of 7 runs, 10,000 loops each)\n"
     ]
    }
   ],
   "execution_count": 20
  },
  {
   "metadata": {},
   "cell_type": "markdown",
   "source": "### Common Input, Common HP",
   "id": "51f2147e48816074"
  },
  {
   "metadata": {
    "ExecuteTime": {
     "end_time": "2025-06-21T09:06:56.694166Z",
     "start_time": "2025-06-21T09:06:56.393458Z"
    }
   },
   "cell_type": "code",
   "source": [
    "db = pd.read_csv(f\"../dummy_datasets/{test_db_size}_common_input_common_hp.csv\")\n",
    "\n",
    "_legacy_all_inputs, _legacy_padded_inputs, _legacy_padded_outputs, masks = _legacy_preprocess_db(db)\n",
    "all_inputs, padded_inputs, padded_outputs, mappings = preprocess_db(db)\n",
    "\n",
    "prior_mean = jnp.zeros_like(all_inputs)\n",
    "all_inputs.shape, padded_inputs.shape"
   ],
   "id": "e63d62a1a32b1b72",
   "outputs": [
    {
     "data": {
      "text/plain": [
       "((150,), (200, 150))"
      ]
     },
     "execution_count": 21,
     "metadata": {},
     "output_type": "execute_result"
    }
   ],
   "execution_count": 21
  },
  {
   "metadata": {
    "ExecuteTime": {
     "end_time": "2025-06-21T09:06:56.803891Z",
     "start_time": "2025-06-21T09:06:56.800337Z"
    }
   },
   "cell_type": "code",
   "source": [
    "mean_kern = SEMagmaKernel(length_scale=jnp.array(.3), variance=jnp.array(1.))\n",
    "task_kern = SEMagmaKernel(length_scale=jnp.array(.3), variance=jnp.array(1.))"
   ],
   "id": "3ec2de19178b23f2",
   "outputs": [],
   "execution_count": 22
  },
  {
   "metadata": {
    "ExecuteTime": {
     "end_time": "2025-06-21T09:06:57.210948Z",
     "start_time": "2025-06-21T09:06:56.827068Z"
    }
   },
   "cell_type": "code",
   "source": [
    "post_mean, post_cov = hyperpost(padded_inputs, padded_outputs, mappings, prior_mean, mean_kern, task_kern, all_inputs=all_inputs)\n",
    "post_mean.shape, post_cov.shape"
   ],
   "id": "3d09f538be4583c8",
   "outputs": [
    {
     "data": {
      "text/plain": [
       "((150,), (150, 150))"
      ]
     },
     "execution_count": 23,
     "metadata": {},
     "output_type": "execute_result"
    }
   ],
   "execution_count": 23
  },
  {
   "metadata": {
    "ExecuteTime": {
     "end_time": "2025-06-21T09:06:57.283215Z",
     "start_time": "2025-06-21T09:06:57.224922Z"
    }
   },
   "cell_type": "code",
   "source": "mean_2, cov_2 = hyperpost(padded_inputs, padded_outputs, mappings, jnp.array(0.), mean_kern, task_kern, all_inputs=all_inputs)",
   "id": "f012c3e943265995",
   "outputs": [],
   "execution_count": 24
  },
  {
   "metadata": {
    "ExecuteTime": {
     "end_time": "2025-06-21T09:06:57.386046Z",
     "start_time": "2025-06-21T09:06:57.300442Z"
    }
   },
   "cell_type": "code",
   "source": [
    "_legacy_mean_llh = magma_neg_likelihood(mean_kern, _legacy_all_inputs, post_mean, prior_mean, post_cov, nugget=nugget)\n",
    "_legacy_mean_llh.item()"
   ],
   "id": "cc96b212c3cf2ad9",
   "outputs": [
    {
     "data": {
      "text/plain": [
       "912067.9333631559"
      ]
     },
     "execution_count": 25,
     "metadata": {},
     "output_type": "execute_result"
    }
   ],
   "execution_count": 25
  },
  {
   "metadata": {
    "ExecuteTime": {
     "end_time": "2025-06-21T09:06:57.526625Z",
     "start_time": "2025-06-21T09:06:57.403789Z"
    }
   },
   "cell_type": "code",
   "source": [
    "mean_llh = magma_neg_likelihood_new(mean_kern, all_inputs, post_mean, prior_mean, post_cov, None, nugget=nugget)\n",
    "mean_llh.item()"
   ],
   "id": "fbdc456c7bee80f9",
   "outputs": [
    {
     "data": {
      "text/plain": [
       "912067.9333631559"
      ]
     },
     "execution_count": 26,
     "metadata": {},
     "output_type": "execute_result"
    }
   ],
   "execution_count": 26
  },
  {
   "metadata": {
    "ExecuteTime": {
     "end_time": "2025-06-21T09:06:57.549458Z",
     "start_time": "2025-06-21T09:06:57.546061Z"
    }
   },
   "cell_type": "code",
   "source": "jnp.allclose(_legacy_mean_llh, mean_llh)",
   "id": "5d4ef186f948e2ee",
   "outputs": [
    {
     "data": {
      "text/plain": [
       "Array(True, dtype=bool)"
      ]
     },
     "execution_count": 27,
     "metadata": {},
     "output_type": "execute_result"
    }
   ],
   "execution_count": 27
  },
  {
   "metadata": {
    "ExecuteTime": {
     "end_time": "2025-06-21T09:07:00.821218Z",
     "start_time": "2025-06-21T09:06:57.588024Z"
    }
   },
   "cell_type": "code",
   "source": "%timeit magma_neg_likelihood(mean_kern, _legacy_all_inputs, post_mean, prior_mean, post_cov, nugget=nugget).block_until_ready()",
   "id": "ad88c9a402445f10",
   "outputs": [
    {
     "name": "stdout",
     "output_type": "stream",
     "text": [
      "394 μs ± 13.2 μs per loop (mean ± std. dev. of 7 runs, 1,000 loops each)\n"
     ]
    }
   ],
   "execution_count": 28
  },
  {
   "metadata": {
    "ExecuteTime": {
     "end_time": "2025-06-21T09:07:04.271051Z",
     "start_time": "2025-06-21T09:07:00.837043Z"
    }
   },
   "cell_type": "code",
   "source": "%timeit magma_neg_likelihood_new(mean_kern, all_inputs, post_mean, prior_mean, post_cov, None, nugget=nugget).block_until_ready()",
   "id": "edee06c0e48981c6",
   "outputs": [
    {
     "name": "stdout",
     "output_type": "stream",
     "text": [
      "423 μs ± 8.15 μs per loop (mean ± std. dev. of 7 runs, 1,000 loops each)\n"
     ]
    }
   ],
   "execution_count": 29
  },
  {
   "metadata": {
    "ExecuteTime": {
     "end_time": "2025-06-21T09:07:04.607734Z",
     "start_time": "2025-06-21T09:07:04.287482Z"
    }
   },
   "cell_type": "code",
   "source": [
    "_legacy_task_llhs = magma_neg_likelihood(task_kern, _legacy_padded_inputs, _legacy_padded_outputs, post_mean, post_cov, mask=masks, nugget=nugget)\n",
    "np.asarray(_legacy_task_llhs)"
   ],
   "id": "111f3a3cb47a8d71",
   "outputs": [
    {
     "data": {
      "text/plain": [
       "array([ 605.23211278,  343.51185004,  918.80977743,  513.24387158,\n",
       "        697.57622048,  951.96126093,  981.29273262, 1269.94340467,\n",
       "        463.54045028, 1050.45871158,  961.64437667, 2003.26792708,\n",
       "       1749.46618771, 1312.85185097,  445.83816778,  835.35699651,\n",
       "       1463.91059083,  427.26689016,  700.89894481,  671.70252754,\n",
       "        534.18847225,  926.73962846,  661.4772385 ,  308.82867287,\n",
       "       1376.61098244, 2059.56683147, 2367.20428303,  581.85247446,\n",
       "        400.1809817 , 1553.99525814,  563.99556873,  847.75774284,\n",
       "        771.59365077, 1191.41168731,  761.09971567,  956.93556212,\n",
       "        454.71559202,  424.41881608,  457.05561287, 1187.59726143,\n",
       "       1127.71906547, 6487.12506158, 1503.98788529, 1000.09652318,\n",
       "        396.8322629 , 2294.87962713, 3830.93031689,  416.98068956,\n",
       "        593.50319673, 1251.04797794,  397.32060574,  455.53276014,\n",
       "        469.18918144, 1671.10147422, 1350.63926341, 1008.98592561,\n",
       "        662.63825595, 1155.21163564, 1781.42530833,  506.91403108,\n",
       "        527.47665846,  279.83970761, 1561.82794067,  721.70085517,\n",
       "        799.3080861 ,  397.92679948, 2824.63651052, 3011.94073706,\n",
       "       1151.81969052, 1383.99202248, 2382.76862866,  543.06144344,\n",
       "        843.47156008,  487.67504598, 2963.51201717,  317.83974139,\n",
       "        471.54407877,  807.79154982,  790.14972882,  466.27081807,\n",
       "        589.19158094, 2075.4568074 , 1334.3038033 ,  351.57019852,\n",
       "        423.80998104,  683.02703545,  504.79561374, 2038.060457  ,\n",
       "       1544.58512561, 1995.04311747,  744.74313439,  558.51969001,\n",
       "       1352.46095983,  539.89396268, 1276.11540944, 1450.04902194,\n",
       "        474.09431646,  253.9333774 ,  883.40003126,  456.50391226,\n",
       "       1705.08079416,  735.06067044, 2595.14599506,  344.78149623,\n",
       "        602.46894284,  339.96250645,  656.31877787,  727.30072214,\n",
       "       1944.09283745, 2246.45327884,  572.00849502, 1659.64020528,\n",
       "       1409.65967535,  385.15628664, 2028.48552485, 5983.31295767,\n",
       "        975.86886234,  586.33437067,  741.63426182,  702.21516674,\n",
       "        262.51112146,  467.88827054,  290.69160603,  298.1069045 ,\n",
       "       1732.7376411 , 2524.43663693,  518.26381049,  585.38454188,\n",
       "        503.84664798,  418.8337892 ,  562.25809402,  529.39090901,\n",
       "        412.23972541, 1013.90175715,  696.91563679,  512.29118906,\n",
       "        596.5262801 ,  444.97433284, 1595.67606014, 1836.91868593,\n",
       "       1194.54096903, 1099.13346983, 1285.0284199 ,  506.868803  ,\n",
       "        847.80065044, 1119.66078034,  461.24252439,  447.04132033,\n",
       "        983.09243099, 2099.42189183, 3232.55778734,  543.68940815,\n",
       "        397.75139704,  509.00349415,  966.46742767,  939.51951905,\n",
       "        296.48995584,  947.59017784,  537.56390575, 5905.46981098,\n",
       "        772.59993859, 3460.33147114, 3548.71296508,  398.30295977,\n",
       "        583.08400912, 1011.81798732,  631.39005288,  809.18811384,\n",
       "        679.85251799,  575.4407803 , 1019.61870165, 1479.79087289,\n",
       "       7092.12875745,  604.24489202,  544.15546294,  360.08061754,\n",
       "        578.95997765, 2985.73598893, 1799.58678666,  708.27732231,\n",
       "       1355.81212469,  403.54921877, 2062.26388209,  745.92953539,\n",
       "        381.08219691,  767.88528189, 2336.20195957,  656.10228296,\n",
       "        533.42538872,  447.89146456,  803.16707672,  838.86813258,\n",
       "       3099.12894227,  784.27324023, 1050.86290366,  666.11285864,\n",
       "       1801.5138123 ,  324.17277144,  414.07547358,  352.16581039])"
      ]
     },
     "execution_count": 30,
     "metadata": {},
     "output_type": "execute_result"
    }
   ],
   "execution_count": 30
  },
  {
   "metadata": {
    "ExecuteTime": {
     "end_time": "2025-06-21T09:07:04.819562Z",
     "start_time": "2025-06-21T09:07:04.630018Z"
    }
   },
   "cell_type": "code",
   "source": [
    "task_llhs = magma_neg_likelihood_new(task_kern, padded_inputs, padded_outputs, post_mean, post_cov, mappings, nugget=nugget)\n",
    "np.asarray(task_llhs)"
   ],
   "id": "bf08b18eac400100",
   "outputs": [
    {
     "data": {
      "text/plain": [
       "array([ 605.23211278,  343.51185004,  918.80977743,  513.24387158,\n",
       "        697.57622048,  951.96126093,  981.29273262, 1269.94340467,\n",
       "        463.54045028, 1050.45871158,  961.64437667, 2003.26792708,\n",
       "       1749.46618771, 1312.85185097,  445.83816778,  835.35699651,\n",
       "       1463.91059083,  427.26689016,  700.89894481,  671.70252754,\n",
       "        534.18847225,  926.73962846,  661.4772385 ,  308.82867287,\n",
       "       1376.61098244, 2059.56683147, 2367.20428303,  581.85247446,\n",
       "        400.1809817 , 1553.99525814,  563.99556873,  847.75774284,\n",
       "        771.59365077, 1191.41168731,  761.09971567,  956.93556212,\n",
       "        454.71559202,  424.41881608,  457.05561287, 1187.59726143,\n",
       "       1127.71906547, 6487.12506158, 1503.98788529, 1000.09652318,\n",
       "        396.8322629 , 2294.87962713, 3830.93031689,  416.98068956,\n",
       "        593.50319673, 1251.04797794,  397.32060574,  455.53276014,\n",
       "        469.18918144, 1671.10147422, 1350.63926341, 1008.98592561,\n",
       "        662.63825595, 1155.21163564, 1781.42530833,  506.91403108,\n",
       "        527.47665846,  279.83970761, 1561.82794067,  721.70085517,\n",
       "        799.3080861 ,  397.92679948, 2824.63651052, 3011.94073706,\n",
       "       1151.81969052, 1383.99202248, 2382.76862866,  543.06144344,\n",
       "        843.47156008,  487.67504598, 2963.51201717,  317.83974139,\n",
       "        471.54407877,  807.79154982,  790.14972882,  466.27081807,\n",
       "        589.19158094, 2075.4568074 , 1334.3038033 ,  351.57019852,\n",
       "        423.80998104,  683.02703545,  504.79561374, 2038.060457  ,\n",
       "       1544.58512561, 1995.04311747,  744.74313439,  558.51969001,\n",
       "       1352.46095983,  539.89396268, 1276.11540944, 1450.04902194,\n",
       "        474.09431646,  253.9333774 ,  883.40003126,  456.50391226,\n",
       "       1705.08079416,  735.06067044, 2595.14599506,  344.78149623,\n",
       "        602.46894284,  339.96250645,  656.31877787,  727.30072214,\n",
       "       1944.09283745, 2246.45327884,  572.00849502, 1659.64020528,\n",
       "       1409.65967535,  385.15628664, 2028.48552485, 5983.31295767,\n",
       "        975.86886234,  586.33437067,  741.63426182,  702.21516674,\n",
       "        262.51112146,  467.88827054,  290.69160603,  298.1069045 ,\n",
       "       1732.7376411 , 2524.43663693,  518.26381049,  585.38454188,\n",
       "        503.84664798,  418.8337892 ,  562.25809402,  529.39090901,\n",
       "        412.23972541, 1013.90175715,  696.91563679,  512.29118906,\n",
       "        596.5262801 ,  444.97433284, 1595.67606014, 1836.91868593,\n",
       "       1194.54096903, 1099.13346983, 1285.0284199 ,  506.868803  ,\n",
       "        847.80065044, 1119.66078034,  461.24252439,  447.04132033,\n",
       "        983.09243099, 2099.42189183, 3232.55778734,  543.68940815,\n",
       "        397.75139704,  509.00349415,  966.46742767,  939.51951905,\n",
       "        296.48995584,  947.59017784,  537.56390575, 5905.46981098,\n",
       "        772.59993859, 3460.33147114, 3548.71296508,  398.30295977,\n",
       "        583.08400912, 1011.81798732,  631.39005288,  809.18811384,\n",
       "        679.85251799,  575.4407803 , 1019.61870165, 1479.79087289,\n",
       "       7092.12875745,  604.24489202,  544.15546294,  360.08061754,\n",
       "        578.95997765, 2985.73598893, 1799.58678666,  708.27732231,\n",
       "       1355.81212469,  403.54921877, 2062.26388209,  745.92953539,\n",
       "        381.08219691,  767.88528189, 2336.20195957,  656.10228296,\n",
       "        533.42538872,  447.89146456,  803.16707672,  838.86813258,\n",
       "       3099.12894227,  784.27324023, 1050.86290366,  666.11285864,\n",
       "       1801.5138123 ,  324.17277144,  414.07547358,  352.16581039])"
      ]
     },
     "execution_count": 31,
     "metadata": {},
     "output_type": "execute_result"
    }
   ],
   "execution_count": 31
  },
  {
   "metadata": {
    "ExecuteTime": {
     "end_time": "2025-06-21T09:07:04.886772Z",
     "start_time": "2025-06-21T09:07:04.839499Z"
    }
   },
   "cell_type": "code",
   "source": "jnp.allclose(_legacy_task_llhs, task_llhs)",
   "id": "389ba84c5b7cfcb7",
   "outputs": [
    {
     "data": {
      "text/plain": [
       "Array(True, dtype=bool)"
      ]
     },
     "execution_count": 32,
     "metadata": {},
     "output_type": "execute_result"
    }
   ],
   "execution_count": 32
  },
  {
   "metadata": {
    "ExecuteTime": {
     "end_time": "2025-06-21T09:07:09.941206Z",
     "start_time": "2025-06-21T09:07:04.904540Z"
    }
   },
   "cell_type": "code",
   "source": "%timeit magma_neg_likelihood(task_kern, _legacy_padded_inputs, _legacy_padded_outputs, post_mean, post_cov, mask=masks, nugget=nugget).block_until_ready()",
   "id": "bf03a81522049d7a",
   "outputs": [
    {
     "name": "stdout",
     "output_type": "stream",
     "text": [
      "61.9 ms ± 2.88 ms per loop (mean ± std. dev. of 7 runs, 10 loops each)\n"
     ]
    }
   ],
   "execution_count": 33
  },
  {
   "metadata": {
    "ExecuteTime": {
     "end_time": "2025-06-21T09:07:14.979007Z",
     "start_time": "2025-06-21T09:07:09.956111Z"
    }
   },
   "cell_type": "code",
   "source": "%timeit magma_neg_likelihood_new(task_kern, padded_inputs, padded_outputs, post_mean, post_cov, mappings, nugget=nugget).block_until_ready()",
   "id": "2b1889771a38e44",
   "outputs": [
    {
     "name": "stdout",
     "output_type": "stream",
     "text": [
      "62.1 ms ± 2.45 ms per loop (mean ± std. dev. of 7 runs, 10 loops each)\n"
     ]
    }
   ],
   "execution_count": 34
  },
  {
   "metadata": {},
   "cell_type": "markdown",
   "source": "### Common Input, Distinct HP",
   "id": "59ec57712a06341"
  },
  {
   "metadata": {
    "ExecuteTime": {
     "end_time": "2025-06-21T09:07:15.014947Z",
     "start_time": "2025-06-21T09:07:14.992380Z"
    }
   },
   "cell_type": "code",
   "source": [
    "db = pd.read_csv(f\"../dummy_datasets/{test_db_size}_common_input_distinct_hp.csv\")\n",
    "\n",
    "_legacy_all_inputs, _legacy_padded_inputs, _legacy_padded_outputs, masks = _legacy_preprocess_db(db)\n",
    "all_inputs, padded_inputs, padded_outputs, mappings = preprocess_db(db)\n",
    "\n",
    "prior_mean = jnp.zeros_like(all_inputs)\n",
    "all_inputs.shape, padded_inputs.shape"
   ],
   "id": "d54ddc6292d2fc08",
   "outputs": [
    {
     "data": {
      "text/plain": [
       "((150,), (200, 150))"
      ]
     },
     "execution_count": 35,
     "metadata": {},
     "output_type": "execute_result"
    }
   ],
   "execution_count": 35
  },
  {
   "metadata": {
    "ExecuteTime": {
     "end_time": "2025-06-21T09:08:38.289773Z",
     "start_time": "2025-06-21T09:08:38.175577Z"
    }
   },
   "cell_type": "code",
   "source": [
    "mean_kern = SEMagmaKernel(length_scale=.3, variance=1.)\n",
    "\n",
    "key, subkey = jax.random.split(key)\n",
    "distinct_length_scales = jax.random.uniform(subkey, (padded_outputs.shape[0],), jnp.float64, .1, 1)\n",
    "task_kern = SEMagmaKernel(length_scale=distinct_length_scales, variance=1.)"
   ],
   "id": "e74fbd6501a06fce",
   "outputs": [],
   "execution_count": 38
  },
  {
   "metadata": {
    "ExecuteTime": {
     "end_time": "2025-06-21T09:08:39.086395Z",
     "start_time": "2025-06-21T09:08:38.947503Z"
    }
   },
   "cell_type": "code",
   "source": [
    "post_mean, post_cov = hyperpost(padded_inputs, padded_outputs, mappings, prior_mean, mean_kern, task_kern, all_inputs=all_inputs)\n",
    "post_mean.shape, post_cov.shape"
   ],
   "id": "81b4c5712b12eafb",
   "outputs": [
    {
     "data": {
      "text/plain": [
       "((150,), (150, 150))"
      ]
     },
     "execution_count": 39,
     "metadata": {},
     "output_type": "execute_result"
    }
   ],
   "execution_count": 39
  },
  {
   "metadata": {
    "ExecuteTime": {
     "end_time": "2025-06-21T09:08:39.434987Z",
     "start_time": "2025-06-21T09:08:39.343519Z"
    }
   },
   "cell_type": "code",
   "source": "mean_2, cov_2 = hyperpost(padded_inputs, padded_outputs, mappings, jnp.array(0.), mean_kern, task_kern, all_inputs=all_inputs)",
   "id": "adf7b08b2e0ecc6a",
   "outputs": [],
   "execution_count": 40
  },
  {
   "metadata": {
    "ExecuteTime": {
     "end_time": "2025-06-21T09:08:39.781765Z",
     "start_time": "2025-06-21T09:08:39.774904Z"
    }
   },
   "cell_type": "code",
   "source": [
    "_legacy_mean_llh = magma_neg_likelihood(mean_kern, _legacy_all_inputs, post_mean, prior_mean, post_cov, nugget=nugget)\n",
    "_legacy_mean_llh.item()"
   ],
   "id": "fa2d6957b6ec0cdc",
   "outputs": [
    {
     "data": {
      "text/plain": [
       "10841.32844777948"
      ]
     },
     "execution_count": 41,
     "metadata": {},
     "output_type": "execute_result"
    }
   ],
   "execution_count": 41
  },
  {
   "metadata": {
    "ExecuteTime": {
     "end_time": "2025-06-21T09:08:40.345544Z",
     "start_time": "2025-06-21T09:08:40.339331Z"
    }
   },
   "cell_type": "code",
   "source": [
    "mean_llh = magma_neg_likelihood_new(mean_kern, all_inputs, post_mean, prior_mean, post_cov, None, nugget=nugget)\n",
    "mean_llh.item()"
   ],
   "id": "f990c9b360173d14",
   "outputs": [
    {
     "data": {
      "text/plain": [
       "10841.32844777948"
      ]
     },
     "execution_count": 42,
     "metadata": {},
     "output_type": "execute_result"
    }
   ],
   "execution_count": 42
  },
  {
   "metadata": {
    "ExecuteTime": {
     "end_time": "2025-06-21T09:08:41.465683Z",
     "start_time": "2025-06-21T09:08:41.462749Z"
    }
   },
   "cell_type": "code",
   "source": "jnp.allclose(_legacy_mean_llh, mean_llh)",
   "id": "1416eabdf28aec23",
   "outputs": [
    {
     "data": {
      "text/plain": [
       "Array(True, dtype=bool)"
      ]
     },
     "execution_count": 43,
     "metadata": {},
     "output_type": "execute_result"
    }
   ],
   "execution_count": 43
  },
  {
   "metadata": {
    "ExecuteTime": {
     "end_time": "2025-06-21T09:08:45.140150Z",
     "start_time": "2025-06-21T09:08:42.138412Z"
    }
   },
   "cell_type": "code",
   "source": "%timeit magma_neg_likelihood(mean_kern, _legacy_all_inputs, post_mean, prior_mean, post_cov, nugget=nugget).block_until_ready()",
   "id": "f8dd5010fd557abd",
   "outputs": [
    {
     "name": "stdout",
     "output_type": "stream",
     "text": [
      "370 μs ± 6.36 μs per loop (mean ± std. dev. of 7 runs, 1,000 loops each)\n"
     ]
    }
   ],
   "execution_count": 44
  },
  {
   "metadata": {
    "ExecuteTime": {
     "end_time": "2025-06-21T09:08:48.527752Z",
     "start_time": "2025-06-21T09:08:45.156536Z"
    }
   },
   "cell_type": "code",
   "source": "%timeit magma_neg_likelihood_new(mean_kern, all_inputs, post_mean, prior_mean, post_cov, None, nugget=nugget).block_until_ready()",
   "id": "b3a4999b47815d5a",
   "outputs": [
    {
     "name": "stdout",
     "output_type": "stream",
     "text": [
      "417 μs ± 14.7 μs per loop (mean ± std. dev. of 7 runs, 1,000 loops each)\n"
     ]
    }
   ],
   "execution_count": 45
  },
  {
   "metadata": {
    "ExecuteTime": {
     "end_time": "2025-06-21T09:08:48.768673Z",
     "start_time": "2025-06-21T09:08:48.545836Z"
    }
   },
   "cell_type": "code",
   "source": [
    "_legacy_task_llhs = magma_neg_likelihood(task_kern, _legacy_padded_inputs, _legacy_padded_outputs, post_mean, post_cov, mask=masks, nugget=nugget)\n",
    "np.asarray(_legacy_task_llhs)"
   ],
   "id": "df7bb80b8672802b",
   "outputs": [
    {
     "data": {
      "text/plain": [
       "array([7.42752083e+06, 7.39515317e+04, 2.38880759e+03, 2.13662388e+04,\n",
       "       1.28303513e+06, 8.92513826e+02, 1.67626051e+04, 1.88331096e+03,\n",
       "       1.02485976e+05, 4.18526467e+02, 3.85688142e+02, 9.88478320e+04,\n",
       "       1.52705574e+06, 1.29254404e+06, 1.12086683e+03, 4.56577939e+03,\n",
       "       9.66140077e+06, 1.94997496e+07, 1.06940088e+06, 1.94067773e+04,\n",
       "       3.41712434e+03, 1.44115752e+06, 2.68515133e+06, 3.17008131e+04,\n",
       "       2.70968708e+05, 1.46381934e+06, 2.52224037e+05, 1.69374190e+07,\n",
       "       1.49539519e+04, 3.37590899e+06, 8.01090604e+03, 2.18886997e+06,\n",
       "       2.96718690e+02, 5.87446719e+05, 2.47186046e+04, 9.88561293e+06,\n",
       "       2.28354104e+04, 4.14281567e+02, 6.48085619e+02, 2.35004480e+04,\n",
       "       2.65077600e+03, 1.59778036e+03, 1.84399764e+03, 1.72859162e+07,\n",
       "       6.60580087e+03, 2.04610046e+06, 2.25396858e+03, 5.08897147e+03,\n",
       "       4.13002073e+06, 1.08157645e+07, 2.37473111e+04, 3.78983455e+05,\n",
       "       4.95973686e+04, 9.85670171e+06, 2.28536600e+03, 7.92248346e+07,\n",
       "       2.50820521e+04, 7.36274154e+04, 8.12621830e+04, 4.98305887e+04,\n",
       "       1.15110966e+06, 2.75865658e+07, 4.48268718e+03, 1.38278053e+03,\n",
       "       5.52124863e+05, 3.53927741e+03, 4.28679822e+02, 4.24894573e+04,\n",
       "       3.06793508e+06, 3.09054916e+06, 7.52526949e+06, 5.46699592e+03,\n",
       "       3.36866085e+07, 2.81840176e+04, 1.03290506e+07, 1.30961793e+05,\n",
       "       1.46487383e+03, 9.86744890e+03, 4.61615925e+03, 7.76820912e+06,\n",
       "       5.05917819e+03, 6.11210288e+03, 1.13432444e+05, 1.92227932e+04,\n",
       "       1.38123941e+08, 6.43088201e+06, 4.01693788e+03, 5.41098145e+07,\n",
       "       1.18538443e+06, 7.48699644e+05, 3.43779396e+06, 5.97863736e+03,\n",
       "       3.16784430e+07, 6.26209036e+02, 1.66755426e+04, 2.80206073e+04,\n",
       "       1.54120305e+04, 1.54743698e+03, 2.81899970e+05, 2.02493581e+06,\n",
       "       6.87686402e+05, 8.90847295e+02, 1.78375240e+05, 4.87824284e+06,\n",
       "       8.47434917e+06, 3.67083172e+04, 6.58036487e+02, 1.37485557e+06,\n",
       "       1.11843204e+06, 1.73048936e+04, 1.28288061e+04, 1.57839609e+05,\n",
       "       4.44714928e+04, 4.99969252e+03, 1.21008103e+04, 1.98447885e+04,\n",
       "       1.71540548e+04, 2.17032347e+04, 1.56320413e+05, 5.57914875e+05,\n",
       "       9.64273090e+02, 5.01057653e+03, 1.40735967e+08, 1.84846681e+07,\n",
       "       1.03665823e+03, 2.24028153e+05, 2.20212156e+05, 4.69267382e+02,\n",
       "       2.78472264e+06, 2.88051799e+06, 1.24700872e+04, 4.22167615e+02,\n",
       "       9.23761280e+02, 1.40650587e+04, 1.69482020e+04, 2.48569609e+07,\n",
       "       5.39334762e+03, 1.00432837e+08, 2.93016321e+04, 5.15327731e+02,\n",
       "       5.56423180e+06, 1.75758709e+07, 2.70154980e+05, 6.61794957e+04,\n",
       "       1.84201701e+04, 4.25896044e+04, 2.22685092e+04, 5.01390143e+05,\n",
       "       9.23002633e+05, 2.71747108e+02, 7.69929792e+02, 7.91946610e+03,\n",
       "       1.28861843e+08, 1.15766078e+03, 1.21257937e+03, 1.46406373e+05,\n",
       "       4.81689832e+06, 4.16234097e+04, 4.65307144e+02, 3.89638004e+02,\n",
       "       1.51353626e+04, 9.87187638e+06, 8.41994134e+03, 1.13193470e+04,\n",
       "       3.70416445e+05, 2.20755694e+04, 2.19219382e+07, 1.39008518e+04,\n",
       "       9.91145827e+02, 4.07369920e+04, 1.32358797e+07, 1.48817467e+08,\n",
       "       1.40504447e+05, 1.60787105e+05, 7.42171086e+02, 6.88284650e+02,\n",
       "       6.88452539e+04, 9.20094277e+04, 1.16220956e+04, 3.82938083e+05,\n",
       "       3.00270938e+04, 3.80117125e+05, 1.64043137e+06, 9.05495988e+02,\n",
       "       1.59855294e+05, 7.62869568e+04, 4.30502228e+06, 1.16684832e+03,\n",
       "       1.02071995e+07, 1.27431090e+05, 1.97181716e+03, 2.28822464e+08,\n",
       "       4.36335921e+03, 4.27068454e+03, 1.62425848e+05, 7.47866849e+05,\n",
       "       2.81534066e+04, 2.79028713e+05, 1.91142259e+03, 3.56258306e+05])"
      ]
     },
     "execution_count": 46,
     "metadata": {},
     "output_type": "execute_result"
    }
   ],
   "execution_count": 46
  },
  {
   "metadata": {
    "ExecuteTime": {
     "end_time": "2025-06-21T09:08:48.973077Z",
     "start_time": "2025-06-21T09:08:48.787740Z"
    }
   },
   "cell_type": "code",
   "source": [
    "task_llhs = magma_neg_likelihood_new(task_kern, padded_inputs, padded_outputs, post_mean, post_cov, mappings, nugget=nugget)\n",
    "np.asarray(task_llhs)"
   ],
   "id": "cd5d1bb442daecd6",
   "outputs": [
    {
     "data": {
      "text/plain": [
       "array([7.42752083e+06, 7.39515317e+04, 2.38880759e+03, 2.13662388e+04,\n",
       "       1.28303513e+06, 8.92513826e+02, 1.67626051e+04, 1.88331096e+03,\n",
       "       1.02485976e+05, 4.18526467e+02, 3.85688142e+02, 9.88478320e+04,\n",
       "       1.52705574e+06, 1.29254404e+06, 1.12086683e+03, 4.56577939e+03,\n",
       "       9.66140077e+06, 1.94997496e+07, 1.06940088e+06, 1.94067773e+04,\n",
       "       3.41712434e+03, 1.44115752e+06, 2.68515133e+06, 3.17008131e+04,\n",
       "       2.70968708e+05, 1.46381934e+06, 2.52224037e+05, 1.69374190e+07,\n",
       "       1.49539519e+04, 3.37590899e+06, 8.01090604e+03, 2.18886997e+06,\n",
       "       2.96718690e+02, 5.87446719e+05, 2.47186046e+04, 9.88561293e+06,\n",
       "       2.28354104e+04, 4.14281567e+02, 6.48085619e+02, 2.35004480e+04,\n",
       "       2.65077600e+03, 1.59778036e+03, 1.84399764e+03, 1.72859162e+07,\n",
       "       6.60580087e+03, 2.04610046e+06, 2.25396858e+03, 5.08897147e+03,\n",
       "       4.13002073e+06, 1.08157645e+07, 2.37473111e+04, 3.78983455e+05,\n",
       "       4.95973686e+04, 9.85670171e+06, 2.28536600e+03, 7.92248346e+07,\n",
       "       2.50820521e+04, 7.36274154e+04, 8.12621830e+04, 4.98305887e+04,\n",
       "       1.15110966e+06, 2.75865658e+07, 4.48268718e+03, 1.38278053e+03,\n",
       "       5.52124863e+05, 3.53927741e+03, 4.28679822e+02, 4.24894573e+04,\n",
       "       3.06793508e+06, 3.09054916e+06, 7.52526949e+06, 5.46699592e+03,\n",
       "       3.36866085e+07, 2.81840176e+04, 1.03290506e+07, 1.30961793e+05,\n",
       "       1.46487383e+03, 9.86744890e+03, 4.61615925e+03, 7.76820912e+06,\n",
       "       5.05917819e+03, 6.11210288e+03, 1.13432444e+05, 1.92227932e+04,\n",
       "       1.38123941e+08, 6.43088201e+06, 4.01693788e+03, 5.41098145e+07,\n",
       "       1.18538443e+06, 7.48699644e+05, 3.43779396e+06, 5.97863736e+03,\n",
       "       3.16784430e+07, 6.26209036e+02, 1.66755426e+04, 2.80206073e+04,\n",
       "       1.54120305e+04, 1.54743698e+03, 2.81899970e+05, 2.02493581e+06,\n",
       "       6.87686402e+05, 8.90847295e+02, 1.78375240e+05, 4.87824284e+06,\n",
       "       8.47434917e+06, 3.67083172e+04, 6.58036487e+02, 1.37485557e+06,\n",
       "       1.11843204e+06, 1.73048936e+04, 1.28288061e+04, 1.57839609e+05,\n",
       "       4.44714928e+04, 4.99969252e+03, 1.21008103e+04, 1.98447885e+04,\n",
       "       1.71540548e+04, 2.17032347e+04, 1.56320413e+05, 5.57914875e+05,\n",
       "       9.64273090e+02, 5.01057653e+03, 1.40735967e+08, 1.84846681e+07,\n",
       "       1.03665823e+03, 2.24028153e+05, 2.20212156e+05, 4.69267382e+02,\n",
       "       2.78472264e+06, 2.88051799e+06, 1.24700872e+04, 4.22167615e+02,\n",
       "       9.23761280e+02, 1.40650587e+04, 1.69482020e+04, 2.48569609e+07,\n",
       "       5.39334762e+03, 1.00432837e+08, 2.93016321e+04, 5.15327731e+02,\n",
       "       5.56423180e+06, 1.75758709e+07, 2.70154980e+05, 6.61794957e+04,\n",
       "       1.84201701e+04, 4.25896044e+04, 2.22685092e+04, 5.01390143e+05,\n",
       "       9.23002633e+05, 2.71747108e+02, 7.69929792e+02, 7.91946610e+03,\n",
       "       1.28861843e+08, 1.15766078e+03, 1.21257937e+03, 1.46406373e+05,\n",
       "       4.81689832e+06, 4.16234097e+04, 4.65307144e+02, 3.89638004e+02,\n",
       "       1.51353626e+04, 9.87187638e+06, 8.41994134e+03, 1.13193470e+04,\n",
       "       3.70416445e+05, 2.20755694e+04, 2.19219382e+07, 1.39008518e+04,\n",
       "       9.91145827e+02, 4.07369920e+04, 1.32358797e+07, 1.48817467e+08,\n",
       "       1.40504447e+05, 1.60787105e+05, 7.42171086e+02, 6.88284650e+02,\n",
       "       6.88452539e+04, 9.20094277e+04, 1.16220956e+04, 3.82938083e+05,\n",
       "       3.00270938e+04, 3.80117125e+05, 1.64043137e+06, 9.05495988e+02,\n",
       "       1.59855294e+05, 7.62869568e+04, 4.30502228e+06, 1.16684832e+03,\n",
       "       1.02071995e+07, 1.27431090e+05, 1.97181716e+03, 2.28822464e+08,\n",
       "       4.36335921e+03, 4.27068454e+03, 1.62425848e+05, 7.47866849e+05,\n",
       "       2.81534066e+04, 2.79028713e+05, 1.91142259e+03, 3.56258306e+05])"
      ]
     },
     "execution_count": 47,
     "metadata": {},
     "output_type": "execute_result"
    }
   ],
   "execution_count": 47
  },
  {
   "metadata": {
    "ExecuteTime": {
     "end_time": "2025-06-21T09:08:48.992125Z",
     "start_time": "2025-06-21T09:08:48.989216Z"
    }
   },
   "cell_type": "code",
   "source": "jnp.allclose(_legacy_task_llhs, task_llhs)",
   "id": "9beb5049b64a2089",
   "outputs": [
    {
     "data": {
      "text/plain": [
       "Array(True, dtype=bool)"
      ]
     },
     "execution_count": 48,
     "metadata": {},
     "output_type": "execute_result"
    }
   ],
   "execution_count": 48
  },
  {
   "metadata": {
    "ExecuteTime": {
     "end_time": "2025-06-21T09:08:53.779370Z",
     "start_time": "2025-06-21T09:08:49.026724Z"
    }
   },
   "cell_type": "code",
   "source": "%timeit magma_neg_likelihood(task_kern, _legacy_padded_inputs, _legacy_padded_outputs, post_mean, post_cov, mask=masks, nugget=nugget).block_until_ready()",
   "id": "4c40fe1361fa86b4",
   "outputs": [
    {
     "name": "stdout",
     "output_type": "stream",
     "text": [
      "58.7 ms ± 1.43 ms per loop (mean ± std. dev. of 7 runs, 10 loops each)\n"
     ]
    }
   ],
   "execution_count": 49
  },
  {
   "metadata": {
    "ExecuteTime": {
     "end_time": "2025-06-21T09:08:58.776170Z",
     "start_time": "2025-06-21T09:08:53.797003Z"
    }
   },
   "cell_type": "code",
   "source": "%timeit magma_neg_likelihood_new(task_kern, padded_inputs, padded_outputs, post_mean, post_cov, mappings, nugget=nugget).block_until_ready()",
   "id": "8183010ab71cfc0a",
   "outputs": [
    {
     "name": "stdout",
     "output_type": "stream",
     "text": [
      "61.8 ms ± 737 μs per loop (mean ± std. dev. of 7 runs, 10 loops each)\n"
     ]
    }
   ],
   "execution_count": 50
  },
  {
   "metadata": {},
   "cell_type": "markdown",
   "source": "### Distinct Input, Common HP",
   "id": "2c8d6551fd15b40"
  },
  {
   "metadata": {
    "ExecuteTime": {
     "end_time": "2025-06-21T09:08:59.213007Z",
     "start_time": "2025-06-21T09:08:58.799119Z"
    }
   },
   "cell_type": "code",
   "source": [
    "db = pd.read_csv(f\"../dummy_datasets/{test_db_size}_distinct_input_common_hp.csv\")\n",
    "\n",
    "_legacy_all_inputs, _legacy_padded_inputs, _legacy_padded_outputs, masks = _legacy_preprocess_db(db)\n",
    "all_inputs, padded_inputs, padded_outputs, mappings = preprocess_db(db)\n",
    "\n",
    "prior_mean = jnp.zeros_like(all_inputs)\n",
    "all_inputs.shape, padded_inputs.shape"
   ],
   "id": "86f86b36fc853bf0",
   "outputs": [
    {
     "data": {
      "text/plain": [
       "((401,), (200, 200))"
      ]
     },
     "execution_count": 51,
     "metadata": {},
     "output_type": "execute_result"
    }
   ],
   "execution_count": 51
  },
  {
   "metadata": {
    "ExecuteTime": {
     "end_time": "2025-06-21T09:08:59.374695Z",
     "start_time": "2025-06-21T09:08:59.370672Z"
    }
   },
   "cell_type": "code",
   "source": [
    "mean_kern = SEMagmaKernel(length_scale=.3, variance=1.)\n",
    "task_kern = SEMagmaKernel(length_scale=.6, variance=1.)"
   ],
   "id": "40bfc43614f84bdb",
   "outputs": [],
   "execution_count": 52
  },
  {
   "metadata": {
    "ExecuteTime": {
     "end_time": "2025-06-21T09:08:59.857463Z",
     "start_time": "2025-06-21T09:08:59.399030Z"
    }
   },
   "cell_type": "code",
   "source": [
    "post_mean, post_cov = hyperpost(padded_inputs, padded_outputs, mappings, prior_mean, mean_kern, task_kern, all_inputs=all_inputs)\n",
    "post_mean.shape, post_cov.shape"
   ],
   "id": "eb3b9c2cd3aadcbb",
   "outputs": [
    {
     "data": {
      "text/plain": [
       "((401,), (401, 401))"
      ]
     },
     "execution_count": 53,
     "metadata": {},
     "output_type": "execute_result"
    }
   ],
   "execution_count": 53
  },
  {
   "metadata": {
    "ExecuteTime": {
     "end_time": "2025-06-21T09:09:00.225876Z",
     "start_time": "2025-06-21T09:09:00.068484Z"
    }
   },
   "cell_type": "code",
   "source": "mean_2, cov_2 = hyperpost(padded_inputs, padded_outputs, mappings, jnp.array(0.), mean_kern, task_kern, all_inputs=all_inputs)",
   "id": "dee93fe671f8eb8b",
   "outputs": [],
   "execution_count": 54
  },
  {
   "metadata": {
    "ExecuteTime": {
     "end_time": "2025-06-21T09:09:00.466391Z",
     "start_time": "2025-06-21T09:09:00.390900Z"
    }
   },
   "cell_type": "code",
   "source": [
    "_legacy_mean_llh = magma_neg_likelihood(mean_kern, _legacy_all_inputs, post_mean, prior_mean, post_cov, nugget=nugget)\n",
    "_legacy_mean_llh.item()"
   ],
   "id": "d47b476357fb26bc",
   "outputs": [
    {
     "data": {
      "text/plain": [
       "100728.89680477855"
      ]
     },
     "execution_count": 55,
     "metadata": {},
     "output_type": "execute_result"
    }
   ],
   "execution_count": 55
  },
  {
   "metadata": {
    "ExecuteTime": {
     "end_time": "2025-06-21T09:09:00.568461Z",
     "start_time": "2025-06-21T09:09:00.483274Z"
    }
   },
   "cell_type": "code",
   "source": [
    "mean_llh = magma_neg_likelihood_new(mean_kern, all_inputs, post_mean, prior_mean, post_cov, None, nugget=nugget)\n",
    "mean_llh.item()"
   ],
   "id": "5d9311b492cedcfd",
   "outputs": [
    {
     "data": {
      "text/plain": [
       "100728.89680477855"
      ]
     },
     "execution_count": 56,
     "metadata": {},
     "output_type": "execute_result"
    }
   ],
   "execution_count": 56
  },
  {
   "metadata": {
    "ExecuteTime": {
     "end_time": "2025-06-21T09:09:00.594675Z",
     "start_time": "2025-06-21T09:09:00.591380Z"
    }
   },
   "cell_type": "code",
   "source": "jnp.allclose(_legacy_mean_llh, mean_llh)",
   "id": "b84d7459497ac0f3",
   "outputs": [
    {
     "data": {
      "text/plain": [
       "Array(True, dtype=bool)"
      ]
     },
     "execution_count": 57,
     "metadata": {},
     "output_type": "execute_result"
    }
   ],
   "execution_count": 57
  },
  {
   "metadata": {
    "ExecuteTime": {
     "end_time": "2025-06-21T09:09:02.422698Z",
     "start_time": "2025-06-21T09:09:00.621997Z"
    }
   },
   "cell_type": "code",
   "source": "%timeit magma_neg_likelihood(mean_kern, _legacy_all_inputs, post_mean, prior_mean, post_cov, nugget=nugget).block_until_ready()",
   "id": "3a814d4402f27f7",
   "outputs": [
    {
     "name": "stdout",
     "output_type": "stream",
     "text": [
      "2.22 ms ± 24.4 μs per loop (mean ± std. dev. of 7 runs, 100 loops each)\n"
     ]
    }
   ],
   "execution_count": 58
  },
  {
   "metadata": {
    "ExecuteTime": {
     "end_time": "2025-06-21T09:09:04.239927Z",
     "start_time": "2025-06-21T09:09:02.526108Z"
    }
   },
   "cell_type": "code",
   "source": "%timeit magma_neg_likelihood_new(mean_kern, all_inputs, post_mean, prior_mean, post_cov, None, nugget=nugget).block_until_ready()",
   "id": "727f7508ef1fed09",
   "outputs": [
    {
     "name": "stdout",
     "output_type": "stream",
     "text": [
      "2.1 ms ± 57.4 μs per loop (mean ± std. dev. of 7 runs, 100 loops each)\n"
     ]
    }
   ],
   "execution_count": 59
  },
  {
   "metadata": {
    "ExecuteTime": {
     "end_time": "2025-06-21T09:09:04.802580Z",
     "start_time": "2025-06-21T09:09:04.258687Z"
    }
   },
   "cell_type": "code",
   "source": [
    "_legacy_task_llhs = magma_neg_likelihood(task_kern, _legacy_padded_inputs, _legacy_padded_outputs, post_mean, post_cov, mask=masks, nugget=nugget)\n",
    "np.asarray(_legacy_task_llhs)"
   ],
   "id": "2c588e2351266785",
   "outputs": [
    {
     "data": {
      "text/plain": [
       "array([1620.59576247, 1559.10140927, 1843.65037662, 2288.065937  ,\n",
       "       2032.08888116, 3306.10935403, 1457.61282617, 2635.59986815,\n",
       "       1822.09007064, 1727.60431391, 1281.3295019 , 2309.62716782,\n",
       "       1845.11046147, 3012.58117582, 2394.85447177, 3082.20699176,\n",
       "       1841.36304504, 2112.71134361, 2336.32898443, 3344.00452381,\n",
       "       3775.46732848, 2988.26350803, 2314.58691239, 1766.78388941,\n",
       "       3016.68748913, 1386.59116452, 1216.53230809, 1895.01858391,\n",
       "       1890.30950937, 1523.81115934, 1358.36132817, 2714.32529714,\n",
       "       1924.16628601, 1743.24967547, 4943.64719125, 1908.69540937,\n",
       "       2329.56996731, 1872.99675956, 2305.43519083, 2008.53597867,\n",
       "       1855.17807788, 2476.09159329, 2201.07184333, 3035.32641757,\n",
       "       2280.16340875, 1566.30028072, 3734.98244   , 2404.75166391,\n",
       "       2016.16924355, 2948.63941793, 3074.66352591, 1527.08189636,\n",
       "       1808.57486048, 3315.9825258 , 1725.41041715, 2579.06820098,\n",
       "       1148.48103476, 3113.60767788, 1601.05658351, 1633.44100793,\n",
       "       2122.78747414, 3359.63542757, 1793.34997957, 2817.27974691,\n",
       "       1581.35082649, 2133.85367891, 2747.25022075, 3235.81265609,\n",
       "       2679.50198428, 1501.87757968, 1747.97413717, 2181.16623704,\n",
       "       1908.56941667, 2595.47751745, 1609.98217906, 1550.68353469,\n",
       "       1679.78863722, 1423.67067959, 1577.75167966, 1675.49995042,\n",
       "       1841.1675336 , 2214.76554391, 1730.60699139, 1865.31086055,\n",
       "       1654.16252071, 2742.66352778, 2048.85500338, 2296.49818359,\n",
       "       2634.21129546, 2568.97430109, 1606.93191411, 2994.40104183,\n",
       "       3839.33324245, 1995.42677464, 1758.62281371, 1810.69074229,\n",
       "       1854.63750416, 1575.50094443, 2580.29130819, 2671.63205154,\n",
       "       2623.380585  , 1378.38900541, 3003.91328891, 1173.06398342,\n",
       "       2086.47411962, 1477.89210127, 3518.56071415, 1855.32756193,\n",
       "       1148.31166211, 1488.23324619, 1556.16314371, 3010.27264667,\n",
       "       2063.2137748 , 1831.78244117, 2161.03188681, 2209.56608077,\n",
       "       1644.28695644, 1784.90792891, 1854.09992215, 1668.83292616,\n",
       "       2074.22975794, 2640.96268467, 2316.85151451, 2330.79684656,\n",
       "       1603.40330083, 1641.15901695, 1141.91930803, 3747.6813033 ,\n",
       "       1958.90272004, 3403.13086932, 2910.54290682, 1874.5861912 ,\n",
       "       3491.934978  , 2631.11266115, 2341.81848762, 1522.83349123,\n",
       "       2038.47347271, 1999.84452118, 2748.61884752, 1536.96648839,\n",
       "       1859.03042915, 2494.91559035, 2298.0863502 , 1622.68746139,\n",
       "       2047.27484992, 1855.88618022, 2468.94713477, 1875.91229663,\n",
       "       2089.00937375, 1405.51151057, 2866.6274415 , 1612.18557349,\n",
       "       3009.26370957, 1980.64856808, 1735.58650928, 2650.85167166,\n",
       "       1752.39464392, 2375.6499905 , 2227.55716597, 1762.43176102,\n",
       "       1370.88724305, 1692.06290222, 1515.71006477, 3210.4588075 ,\n",
       "       2643.69173573, 1992.85776045, 2384.37889342, 1364.6721887 ,\n",
       "       2244.55776276, 2061.6260676 , 2091.23333381, 1289.34762449,\n",
       "       1833.39585818, 1515.14078898, 3896.7482171 , 3003.07193245,\n",
       "       2310.67091551, 1771.94939343, 1648.52878964, 1811.72137371,\n",
       "       2731.75092681, 2656.59186008, 1890.45047212, 1652.11842178,\n",
       "       3059.01734681, 3266.69577869, 2136.85316569, 2297.02516756,\n",
       "       1588.84312558, 1495.68884511, 2896.20251511, 2584.77095958,\n",
       "       1278.82350761, 1310.53744269, 2451.78792895, 2210.30458542,\n",
       "       2035.44800683, 3049.31716669, 1677.12209002, 1665.82333346])"
      ]
     },
     "execution_count": 60,
     "metadata": {},
     "output_type": "execute_result"
    }
   ],
   "execution_count": 60
  },
  {
   "metadata": {
    "ExecuteTime": {
     "end_time": "2025-06-21T09:09:05.090092Z",
     "start_time": "2025-06-21T09:09:04.845619Z"
    }
   },
   "cell_type": "code",
   "source": [
    "task_llhs = magma_neg_likelihood_new(task_kern, padded_inputs, padded_outputs, post_mean, post_cov, mappings, nugget=nugget)\n",
    "np.asarray(task_llhs)"
   ],
   "id": "d979c9b82c5747b",
   "outputs": [
    {
     "data": {
      "text/plain": [
       "array([1620.59576255, 1559.1014091 , 1843.6503761 , 2288.0659359 ,\n",
       "       2032.08888339, 3306.10935727, 1457.61282614, 2635.59986817,\n",
       "       1822.09007057, 1727.60431388, 1281.32950187, 2309.62716824,\n",
       "       1845.11046159, 3012.58118527, 2394.85447362, 3082.20698962,\n",
       "       1841.36304531, 2112.71136897, 2336.32898398, 3344.0045241 ,\n",
       "       3775.46734683, 2988.26351032, 2314.5869128 , 1766.78388949,\n",
       "       3016.68748927, 1386.59116447, 1216.53230814, 1895.01858411,\n",
       "       1890.30948867, 1523.81115805, 1358.36132818, 2714.32529729,\n",
       "       1924.16628702, 1743.24967547, 4943.6471951 , 1908.6954095 ,\n",
       "       2329.56996788, 1872.99675979, 2305.43519089, 2008.53597867,\n",
       "       1855.1780779 , 2476.09158825, 2201.07184315, 3035.32641787,\n",
       "       2280.16340632, 1566.3002807 , 3734.98244038, 2404.75166492,\n",
       "       2016.1692437 , 2948.63942009, 3074.66352646, 1527.08189633,\n",
       "       1808.57485966, 3315.98250197, 1725.41041715, 2579.06819962,\n",
       "       1148.48103476, 3113.60767892, 1601.05658555, 1633.44100609,\n",
       "       2122.7874742 , 3359.63543247, 1793.34997978, 2817.27974748,\n",
       "       1581.35082648, 2133.85368063, 2747.2502496 , 3235.81265622,\n",
       "       2679.50198453, 1501.87757762, 1747.97413719, 2181.16623776,\n",
       "       1908.56941646, 2595.47751601, 1609.98217907, 1550.68353463,\n",
       "       1679.78864131, 1423.6706793 , 1577.7516804 , 1675.49995037,\n",
       "       1841.16753376, 2214.76554114, 1730.60699158, 1865.31086208,\n",
       "       1654.16252015, 2742.66352867, 2048.85500336, 2296.49818333,\n",
       "       2634.21129609, 2568.9742998 , 1606.93191154, 2994.40105275,\n",
       "       3839.33324243, 1995.42670839, 1758.62281336, 1810.69074222,\n",
       "       1854.63748538, 1575.50094438, 2580.29130318, 2671.63205419,\n",
       "       2623.38058529, 1378.38900539, 3003.91328716, 1173.06398342,\n",
       "       2086.47411991, 1477.89210079, 3518.56071378, 1855.32756201,\n",
       "       1148.31166214, 1488.23324617, 1556.16312693, 3010.27264566,\n",
       "       2063.21377462, 1831.78244096, 2161.03188655, 2209.56608052,\n",
       "       1644.28695643, 1784.90793045, 1854.09992378, 1668.83292616,\n",
       "       2074.22975844, 2640.96268468, 2316.85151451, 2330.79684365,\n",
       "       1603.4033013 , 1641.15901751, 1141.91930804, 3747.68135995,\n",
       "       1958.90272251, 3403.13086851, 2910.54290675, 1874.58619086,\n",
       "       3491.93497634, 2631.11266117, 2341.81848771, 1522.83349122,\n",
       "       2038.4734729 , 1999.84452164, 2748.61884571, 1536.9664884 ,\n",
       "       1859.03042791, 2494.91560028, 2298.08634965, 1622.68750068,\n",
       "       2047.27484973, 1855.88618046, 2468.9471353 , 1875.91230328,\n",
       "       2089.0093737 , 1405.51151058, 2866.6274415 , 1612.18557341,\n",
       "       3009.26371148, 1980.64856815, 1735.58650692, 2650.85167183,\n",
       "       1752.39464275, 2375.64998994, 2227.55716498, 1762.431761  ,\n",
       "       1370.88724304, 1692.06290222, 1515.71006479, 3210.45884397,\n",
       "       2643.69172218, 1992.85776064, 2384.37889346, 1364.67218873,\n",
       "       2244.55776285, 2061.62606751, 2091.23333962, 1289.34762448,\n",
       "       1833.39585937, 1515.14078989, 3896.74821508, 3003.0719298 ,\n",
       "       2310.67091422, 1771.94939322, 1648.52878961, 1811.72137352,\n",
       "       2731.75092744, 2656.59186033, 1890.45047093, 1652.11842178,\n",
       "       3059.01734746, 3266.6957824 , 2136.85316576, 2297.02516462,\n",
       "       1588.84312674, 1495.68884507, 2896.20249811, 2584.77096017,\n",
       "       1278.82350753, 1310.53744271, 2451.78792784, 2210.30458414,\n",
       "       2035.44800634, 3049.3171335 , 1677.12209046, 1665.82332764])"
      ]
     },
     "execution_count": 61,
     "metadata": {},
     "output_type": "execute_result"
    }
   ],
   "execution_count": 61
  },
  {
   "metadata": {
    "ExecuteTime": {
     "end_time": "2025-06-21T09:09:05.110552Z",
     "start_time": "2025-06-21T09:09:05.107211Z"
    }
   },
   "cell_type": "code",
   "source": "jnp.allclose(_legacy_task_llhs, task_llhs)",
   "id": "5655ead27b37a31b",
   "outputs": [
    {
     "data": {
      "text/plain": [
       "Array(True, dtype=bool)"
      ]
     },
     "execution_count": 62,
     "metadata": {},
     "output_type": "execute_result"
    }
   ],
   "execution_count": 62
  },
  {
   "metadata": {
    "ExecuteTime": {
     "end_time": "2025-06-21T09:09:08.220736Z",
     "start_time": "2025-06-21T09:09:05.133615Z"
    }
   },
   "cell_type": "code",
   "source": "%timeit magma_neg_likelihood(task_kern, _legacy_padded_inputs, _legacy_padded_outputs, post_mean, post_cov, mask=masks, nugget=nugget).block_until_ready()",
   "id": "137dc5585cc226f3",
   "outputs": [
    {
     "name": "stdout",
     "output_type": "stream",
     "text": [
      "384 ms ± 14.4 ms per loop (mean ± std. dev. of 7 runs, 1 loop each)\n"
     ]
    }
   ],
   "execution_count": 63
  },
  {
   "metadata": {
    "ExecuteTime": {
     "end_time": "2025-06-21T09:09:16.533835Z",
     "start_time": "2025-06-21T09:09:08.243258Z"
    }
   },
   "cell_type": "code",
   "source": "%timeit magma_neg_likelihood_new(task_kern, padded_inputs, padded_outputs, post_mean, post_cov, mappings, nugget=nugget).block_until_ready()",
   "id": "ba247a31c96ab839",
   "outputs": [
    {
     "name": "stdout",
     "output_type": "stream",
     "text": [
      "102 ms ± 1.77 ms per loop (mean ± std. dev. of 7 runs, 10 loops each)\n"
     ]
    }
   ],
   "execution_count": 64
  },
  {
   "metadata": {},
   "cell_type": "markdown",
   "source": "### Distinct Input, Distinct HP",
   "id": "c55c56f723318753"
  },
  {
   "metadata": {
    "ExecuteTime": {
     "end_time": "2025-06-21T09:09:16.808893Z",
     "start_time": "2025-06-21T09:09:16.552301Z"
    }
   },
   "cell_type": "code",
   "source": [
    "db = pd.read_csv(f\"../dummy_datasets/{test_db_size}_distinct_input_distinct_hp.csv\")\n",
    "\n",
    "_legacy_all_inputs, _legacy_padded_inputs, _legacy_padded_outputs, masks = _legacy_preprocess_db(db)\n",
    "all_inputs, padded_inputs, padded_outputs, mappings = preprocess_db(db)\n",
    "\n",
    "prior_mean = jnp.zeros_like(all_inputs)\n",
    "all_inputs.shape, padded_inputs.shape"
   ],
   "id": "dc7c16034b3d9c84",
   "outputs": [
    {
     "data": {
      "text/plain": [
       "((401,), (200, 200))"
      ]
     },
     "execution_count": 65,
     "metadata": {},
     "output_type": "execute_result"
    }
   ],
   "execution_count": 65
  },
  {
   "metadata": {
    "ExecuteTime": {
     "end_time": "2025-06-21T09:09:16.834812Z",
     "start_time": "2025-06-21T09:09:16.826686Z"
    }
   },
   "cell_type": "code",
   "source": [
    "mean_kern = SEMagmaKernel(length_scale=.3, variance=1.)\n",
    "\n",
    "key, subkey = jax.random.split(key)\n",
    "distinct_length_scales = jax.random.uniform(subkey, (padded_outputs.shape[0],), jnp.float64, .1, 1)\n",
    "task_kern = SEMagmaKernel(length_scale=distinct_length_scales, variance=1.)"
   ],
   "id": "eaa87dfb69133e9e",
   "outputs": [],
   "execution_count": 66
  },
  {
   "metadata": {
    "ExecuteTime": {
     "end_time": "2025-06-21T09:09:17.036344Z",
     "start_time": "2025-06-21T09:09:16.982385Z"
    }
   },
   "cell_type": "code",
   "source": [
    "post_mean, post_cov = hyperpost(padded_inputs, padded_outputs, mappings, prior_mean, mean_kern, task_kern, all_inputs=all_inputs)\n",
    "post_mean.shape, post_cov.shape"
   ],
   "id": "ff6f2146821c88e0",
   "outputs": [
    {
     "data": {
      "text/plain": [
       "((401,), (401, 401))"
      ]
     },
     "execution_count": 67,
     "metadata": {},
     "output_type": "execute_result"
    }
   ],
   "execution_count": 67
  },
  {
   "metadata": {
    "ExecuteTime": {
     "end_time": "2025-06-21T09:09:17.244397Z",
     "start_time": "2025-06-21T09:09:17.234580Z"
    }
   },
   "cell_type": "code",
   "source": "mean_2, cov_2 = hyperpost(padded_inputs, padded_outputs, mappings, jnp.array(0.), mean_kern, task_kern, all_inputs=all_inputs)",
   "id": "1acb795c0b2822d3",
   "outputs": [],
   "execution_count": 68
  },
  {
   "metadata": {
    "ExecuteTime": {
     "end_time": "2025-06-21T09:09:17.419408Z",
     "start_time": "2025-06-21T09:09:17.414464Z"
    }
   },
   "cell_type": "code",
   "source": [
    "_legacy_mean_llh = magma_neg_likelihood(mean_kern, _legacy_all_inputs, post_mean, prior_mean, post_cov, nugget=nugget)\n",
    "_legacy_mean_llh.item()"
   ],
   "id": "63107187e12dd05a",
   "outputs": [
    {
     "data": {
      "text/plain": [
       "281229024.390255"
      ]
     },
     "execution_count": 69,
     "metadata": {},
     "output_type": "execute_result"
    }
   ],
   "execution_count": 69
  },
  {
   "metadata": {
    "ExecuteTime": {
     "end_time": "2025-06-21T09:09:17.449152Z",
     "start_time": "2025-06-21T09:09:17.443666Z"
    }
   },
   "cell_type": "code",
   "source": [
    "mean_llh = magma_neg_likelihood_new(mean_kern, all_inputs, post_mean, prior_mean, post_cov, None, nugget=nugget)\n",
    "mean_llh.item()"
   ],
   "id": "2e7cae1004f36fa1",
   "outputs": [
    {
     "data": {
      "text/plain": [
       "281229024.390255"
      ]
     },
     "execution_count": 70,
     "metadata": {},
     "output_type": "execute_result"
    }
   ],
   "execution_count": 70
  },
  {
   "metadata": {
    "ExecuteTime": {
     "end_time": "2025-06-21T09:09:17.473649Z",
     "start_time": "2025-06-21T09:09:17.470641Z"
    }
   },
   "cell_type": "code",
   "source": "jnp.allclose(_legacy_mean_llh, mean_llh)",
   "id": "fdc7202179d5778f",
   "outputs": [
    {
     "data": {
      "text/plain": [
       "Array(True, dtype=bool)"
      ]
     },
     "execution_count": 71,
     "metadata": {},
     "output_type": "execute_result"
    }
   ],
   "execution_count": 71
  },
  {
   "metadata": {
    "ExecuteTime": {
     "end_time": "2025-06-21T09:09:19.408959Z",
     "start_time": "2025-06-21T09:09:17.543988Z"
    }
   },
   "cell_type": "code",
   "source": "%timeit magma_neg_likelihood(mean_kern, _legacy_all_inputs, post_mean, prior_mean, post_cov, nugget=nugget).block_until_ready()",
   "id": "fb820253c4b0e6b5",
   "outputs": [
    {
     "name": "stdout",
     "output_type": "stream",
     "text": [
      "2.3 ms ± 37.6 μs per loop (mean ± std. dev. of 7 runs, 100 loops each)\n"
     ]
    }
   ],
   "execution_count": 72
  },
  {
   "metadata": {
    "ExecuteTime": {
     "end_time": "2025-06-21T09:09:21.150275Z",
     "start_time": "2025-06-21T09:09:19.437260Z"
    }
   },
   "cell_type": "code",
   "source": "%timeit magma_neg_likelihood_new(mean_kern, all_inputs, post_mean, prior_mean, post_cov, None, nugget=nugget).block_until_ready()",
   "id": "6f64e84031f0ebe8",
   "outputs": [
    {
     "name": "stdout",
     "output_type": "stream",
     "text": [
      "2.11 ms ± 52.1 μs per loop (mean ± std. dev. of 7 runs, 100 loops each)\n"
     ]
    }
   ],
   "execution_count": 73
  },
  {
   "metadata": {
    "ExecuteTime": {
     "end_time": "2025-06-21T09:09:21.675484Z",
     "start_time": "2025-06-21T09:09:21.170812Z"
    }
   },
   "cell_type": "code",
   "source": [
    "_legacy_task_llhs = magma_neg_likelihood(task_kern, _legacy_padded_inputs, _legacy_padded_outputs, post_mean, post_cov, mask=masks, nugget=nugget)\n",
    "np.asarray(_legacy_task_llhs)"
   ],
   "id": "bd7c59710c766c52",
   "outputs": [
    {
     "data": {
      "text/plain": [
       "array([2.15528394e+06, 1.41433905e+06, 7.90032583e+07, 4.57753932e+04,\n",
       "       4.20217934e+05, 5.87935376e+07, 4.18657825e+04, 2.83264963e+05,\n",
       "       2.82857465e+04, 9.96957243e+04, 4.03959868e+06, 8.02133040e+04,\n",
       "       6.54473691e+07, 9.19280924e+06, 6.27233467e+04, 8.54088913e+06,\n",
       "       1.06232489e+07, 1.07835547e+07, 2.18737166e+05, 4.00450799e+05,\n",
       "       3.33860836e+04, 4.47344829e+05, 1.60443868e+04, 2.19676429e+06,\n",
       "       1.09338126e+05, 3.48773764e+04, 1.15695060e+04, 4.69819227e+04,\n",
       "       4.57103413e+05, 9.60006070e+05, 1.15119247e+04, 1.22195331e+07,\n",
       "       7.28752811e+05, 6.43583180e+07, 7.22727943e+05, 9.06446405e+03,\n",
       "       2.54677435e+04, 1.15018060e+07, 3.65203271e+06, 2.04149322e+05,\n",
       "       1.34748586e+05, 3.83383994e+04, 4.15220087e+05, 2.86688915e+04,\n",
       "       6.75913288e+03, 1.31192934e+05, 3.98962749e+07, 2.05650698e+07,\n",
       "       6.03562080e+06, 8.20556616e+05, 4.01106211e+05, 7.79667751e+05,\n",
       "       1.27053341e+07, 1.45374718e+05, 4.93995970e+05, 1.69143564e+07,\n",
       "       1.65276333e+06, 7.79388992e+03, 7.61478305e+07, 1.53725693e+07,\n",
       "       1.96178447e+06, 5.51123168e+06, 7.66454036e+03, 6.33480219e+04,\n",
       "       2.10558635e+07, 2.77538813e+07, 1.49201487e+04, 8.32564311e+06,\n",
       "       5.91820059e+05, 6.29045613e+04, 1.29148795e+06, 1.23865786e+06,\n",
       "       2.76168571e+07, 1.15397056e+04, 1.99048747e+07, 4.69547659e+06,\n",
       "       2.17746241e+06, 3.28785544e+04, 1.74306127e+07, 9.04711348e+05,\n",
       "       5.36526382e+04, 1.34602429e+05, 2.23308323e+04, 7.45481462e+03,\n",
       "       5.80308085e+06, 2.84070881e+04, 6.32216899e+04, 4.68291179e+04,\n",
       "       1.43676742e+07, 1.57549033e+07, 5.24714150e+06, 2.12854904e+07,\n",
       "       1.07165496e+07, 5.21426846e+06, 1.28451123e+04, 1.18297717e+07,\n",
       "       1.03004407e+04, 5.88664886e+06, 1.21608956e+07, 5.50735848e+05,\n",
       "       3.43112516e+05, 2.04112094e+04, 1.77106822e+08, 1.24440218e+08,\n",
       "       2.62014284e+07, 1.34453194e+08, 3.79581361e+06, 6.82007538e+03,\n",
       "       8.27875451e+03, 2.87198068e+04, 8.90878011e+07, 6.18704834e+04,\n",
       "       2.42413105e+06, 2.75965231e+04, 2.02712658e+06, 3.31288582e+05,\n",
       "       2.62622891e+06, 6.73809744e+04, 4.29037159e+04, 6.82836158e+03,\n",
       "       7.35039636e+04, 3.33226490e+04, 8.94721636e+03, 1.21125830e+06,\n",
       "       9.18086072e+06, 4.54594455e+06, 1.27155237e+04, 3.52099325e+04,\n",
       "       5.54345497e+04, 6.98921022e+05, 1.65584009e+07, 1.80679099e+05,\n",
       "       2.66946650e+04, 2.94473361e+05, 5.44126417e+06, 4.71038801e+06,\n",
       "       8.40380089e+07, 2.48731653e+07, 3.29314947e+05, 9.21040501e+03,\n",
       "       7.35515198e+03, 2.08075241e+05, 7.26459151e+05, 1.91387001e+05,\n",
       "       8.90086711e+07, 6.93004782e+04, 3.58515856e+04, 4.37686472e+03,\n",
       "       1.35565553e+07, 9.55000968e+04, 3.39209817e+06, 1.55497673e+05,\n",
       "       2.86622741e+06, 1.23949015e+07, 3.82983980e+04, 8.17345583e+03,\n",
       "       1.11163943e+04, 5.26462158e+05, 2.47593070e+08, 3.34135761e+07,\n",
       "       1.09436950e+05, 6.26972541e+05, 3.36214224e+07, 2.49789267e+06,\n",
       "       4.34997759e+07, 7.22802926e+06, 6.88206604e+06, 1.56283949e+05,\n",
       "       5.00961664e+04, 2.80264634e+04, 9.28246081e+03, 9.70190258e+07,\n",
       "       1.70672189e+06, 5.98473657e+05, 3.97771894e+05, 7.15443691e+06,\n",
       "       1.19421597e+05, 1.04316203e+07, 4.17535919e+04, 9.03026143e+06,\n",
       "       3.11247938e+08, 2.68405760e+05, 6.69505636e+06, 2.91334935e+04,\n",
       "       1.42762445e+07, 3.12369710e+05, 6.44646897e+06, 9.46861754e+04,\n",
       "       2.26164521e+07, 4.85298472e+06, 3.23389896e+05, 9.80173944e+04,\n",
       "       4.73621189e+06, 6.37251401e+04, 2.14368443e+04, 6.83110607e+04,\n",
       "       1.28212269e+07, 3.57688483e+06, 1.69219071e+06, 4.56062552e+04])"
      ]
     },
     "execution_count": 74,
     "metadata": {},
     "output_type": "execute_result"
    }
   ],
   "execution_count": 74
  },
  {
   "metadata": {
    "ExecuteTime": {
     "end_time": "2025-06-21T09:09:21.907457Z",
     "start_time": "2025-06-21T09:09:21.697097Z"
    }
   },
   "cell_type": "code",
   "source": [
    "task_llhs = magma_neg_likelihood_new(task_kern, padded_inputs, padded_outputs, post_mean, post_cov, mappings, nugget=nugget)\n",
    "np.asarray(task_llhs)"
   ],
   "id": "1ec0f7e575206fdd",
   "outputs": [
    {
     "data": {
      "text/plain": [
       "array([2.15528394e+06, 1.41433906e+06, 7.90032936e+07, 4.57753932e+04,\n",
       "       4.20217934e+05, 5.87935374e+07, 4.18657825e+04, 2.83264963e+05,\n",
       "       2.82857465e+04, 9.96957242e+04, 4.03959859e+06, 8.02133040e+04,\n",
       "       6.54473757e+07, 9.19280677e+06, 6.27233467e+04, 8.54089653e+06,\n",
       "       1.06232489e+07, 1.07835546e+07, 2.18737166e+05, 4.00450799e+05,\n",
       "       3.33860836e+04, 4.47344829e+05, 1.60443868e+04, 2.19676429e+06,\n",
       "       1.09338126e+05, 3.48773764e+04, 1.15695060e+04, 4.69819227e+04,\n",
       "       4.57103413e+05, 9.60006070e+05, 1.15119247e+04, 1.22195336e+07,\n",
       "       7.28752811e+05, 6.43583154e+07, 7.22727943e+05, 9.06446405e+03,\n",
       "       2.54677435e+04, 1.15018064e+07, 3.65203272e+06, 2.04149322e+05,\n",
       "       1.34748586e+05, 3.83383994e+04, 4.15220087e+05, 2.86688915e+04,\n",
       "       6.75913288e+03, 1.31192934e+05, 3.98962713e+07, 2.05650677e+07,\n",
       "       6.03562043e+06, 8.20556616e+05, 4.01106214e+05, 7.79667754e+05,\n",
       "       1.27053338e+07, 1.45374718e+05, 4.93995971e+05, 1.69143562e+07,\n",
       "       1.65276324e+06, 7.79388992e+03, 7.61478304e+07, 1.53725668e+07,\n",
       "       1.96178447e+06, 5.51123175e+06, 7.66454036e+03, 6.33480219e+04,\n",
       "       2.10558610e+07, 2.77538831e+07, 1.49201487e+04, 8.32564311e+06,\n",
       "       5.91820059e+05, 6.29045613e+04, 1.29148795e+06, 1.23865786e+06,\n",
       "       2.76168553e+07, 1.15397056e+04, 1.99048798e+07, 4.69547660e+06,\n",
       "       2.17746241e+06, 3.28785544e+04, 1.74306131e+07, 9.04711349e+05,\n",
       "       5.36526382e+04, 1.34602429e+05, 2.23308323e+04, 7.45481462e+03,\n",
       "       5.80308088e+06, 2.84070881e+04, 6.32216899e+04, 4.68291179e+04,\n",
       "       1.43676741e+07, 1.57549036e+07, 5.24714155e+06, 2.12854912e+07,\n",
       "       1.07165506e+07, 5.21426820e+06, 1.28451123e+04, 1.18297807e+07,\n",
       "       1.03004407e+04, 5.88664887e+06, 1.21608965e+07, 5.50735848e+05,\n",
       "       3.43112516e+05, 2.04112094e+04, 1.77106950e+08, 1.24440222e+08,\n",
       "       2.62014284e+07, 1.34453148e+08, 3.79581362e+06, 6.82007538e+03,\n",
       "       8.27875451e+03, 2.87198068e+04, 8.90877912e+07, 6.18704834e+04,\n",
       "       2.42413104e+06, 2.75965231e+04, 2.02712659e+06, 3.31288582e+05,\n",
       "       2.62622873e+06, 6.73809744e+04, 4.29037159e+04, 6.82836158e+03,\n",
       "       7.35039636e+04, 3.33226490e+04, 8.94721636e+03, 1.21125827e+06,\n",
       "       9.18086072e+06, 4.54594462e+06, 1.27155237e+04, 3.52099325e+04,\n",
       "       5.54345497e+04, 6.98921022e+05, 1.65584006e+07, 1.80679099e+05,\n",
       "       2.66946650e+04, 2.94473361e+05, 5.44126367e+06, 4.71038801e+06,\n",
       "       8.40378666e+07, 2.48731648e+07, 3.29314947e+05, 9.21040501e+03,\n",
       "       7.35515198e+03, 2.08075241e+05, 7.26459151e+05, 1.91387001e+05,\n",
       "       8.90086713e+07, 6.93004782e+04, 3.58515856e+04, 4.37686472e+03,\n",
       "       1.35565553e+07, 9.55000967e+04, 3.39209812e+06, 1.55497673e+05,\n",
       "       2.86622741e+06, 1.23949015e+07, 3.82983980e+04, 8.17345583e+03,\n",
       "       1.11163943e+04, 5.26462158e+05, 2.47592815e+08, 3.34135761e+07,\n",
       "       1.09436950e+05, 6.26972541e+05, 3.36214205e+07, 2.49789267e+06,\n",
       "       4.34997775e+07, 7.22802927e+06, 6.88206606e+06, 1.56283949e+05,\n",
       "       5.00961664e+04, 2.80264634e+04, 9.28246081e+03, 9.70190143e+07,\n",
       "       1.70672190e+06, 5.98473655e+05, 3.97771894e+05, 7.15443797e+06,\n",
       "       1.19421597e+05, 1.04316202e+07, 4.17535919e+04, 9.03026156e+06,\n",
       "       3.11247747e+08, 2.68405760e+05, 6.69505638e+06, 2.91334935e+04,\n",
       "       1.42762444e+07, 3.12369710e+05, 6.44646837e+06, 9.46861754e+04,\n",
       "       2.26164483e+07, 4.85298487e+06, 3.23389895e+05, 9.80173944e+04,\n",
       "       4.73621187e+06, 6.37251401e+04, 2.14368443e+04, 6.83110607e+04,\n",
       "       1.28212250e+07, 3.57688482e+06, 1.69219071e+06, 4.56062552e+04])"
      ]
     },
     "execution_count": 75,
     "metadata": {},
     "output_type": "execute_result"
    }
   ],
   "execution_count": 75
  },
  {
   "metadata": {
    "ExecuteTime": {
     "end_time": "2025-06-21T09:09:21.931054Z",
     "start_time": "2025-06-21T09:09:21.927768Z"
    }
   },
   "cell_type": "code",
   "source": "jnp.allclose(_legacy_task_llhs, task_llhs)",
   "id": "998bd032e0c8639b",
   "outputs": [
    {
     "data": {
      "text/plain": [
       "Array(True, dtype=bool)"
      ]
     },
     "execution_count": 76,
     "metadata": {},
     "output_type": "execute_result"
    }
   ],
   "execution_count": 76
  },
  {
   "metadata": {
    "ExecuteTime": {
     "end_time": "2025-06-21T09:09:24.994060Z",
     "start_time": "2025-06-21T09:09:21.961785Z"
    }
   },
   "cell_type": "code",
   "source": "%timeit magma_neg_likelihood(task_kern, _legacy_padded_inputs, _legacy_padded_outputs, post_mean, post_cov, mask=masks, nugget=nugget).block_until_ready()",
   "id": "fb063a8cc1bceee4",
   "outputs": [
    {
     "name": "stdout",
     "output_type": "stream",
     "text": [
      "378 ms ± 11.3 ms per loop (mean ± std. dev. of 7 runs, 1 loop each)\n"
     ]
    }
   ],
   "execution_count": 77
  },
  {
   "metadata": {
    "ExecuteTime": {
     "end_time": "2025-06-21T09:09:33.164133Z",
     "start_time": "2025-06-21T09:09:25.013866Z"
    }
   },
   "cell_type": "code",
   "source": "%timeit magma_neg_likelihood_new(task_kern, padded_inputs, padded_outputs, post_mean, post_cov, mappings, nugget=nugget).block_until_ready()",
   "id": "7bef73e4408d19f3",
   "outputs": [
    {
     "name": "stdout",
     "output_type": "stream",
     "text": [
      "100 ms ± 1.97 ms per loop (mean ± std. dev. of 7 runs, 10 loops each)\n"
     ]
    }
   ],
   "execution_count": 78
  },
  {
   "metadata": {},
   "cell_type": "markdown",
   "source": "---",
   "id": "f18216d93ddcf3af"
  }
 ],
 "metadata": {
  "kernelspec": {
   "display_name": "Python 3",
   "language": "python",
   "name": "python3"
  },
  "language_info": {
   "codemirror_mode": {
    "name": "ipython",
    "version": 2
   },
   "file_extension": ".py",
   "mimetype": "text/x-python",
   "name": "python",
   "nbconvert_exporter": "python",
   "pygments_lexer": "ipython2",
   "version": "2.7.6"
  }
 },
 "nbformat": 4,
 "nbformat_minor": 5
}
