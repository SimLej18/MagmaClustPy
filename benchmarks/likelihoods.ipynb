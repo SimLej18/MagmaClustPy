{
 "cells": [
  {
   "metadata": {},
   "cell_type": "markdown",
   "source": [
    "# Benchmarks - Likelihoods\n",
    "\n",
    "**Main considerations when implementing Likelihoods**\n",
    "- must be efficient, as they are used in the main bottleneck of the code: HP optimisation\n",
    "- must work for both shared and distinct HPs"
   ],
   "id": "f69390d194b35b0a"
  },
  {
   "metadata": {},
   "cell_type": "markdown",
   "source": [
    "---\n",
    "## Setup"
   ],
   "id": "4763c6a1086dfd7a"
  },
  {
   "metadata": {
    "ExecuteTime": {
     "end_time": "2025-07-08T15:05:38.988576Z",
     "start_time": "2025-07-08T15:05:38.343674Z"
    }
   },
   "cell_type": "code",
   "source": [
    "# Standard library\n",
    "import os\n",
    "\n",
    "from MagmaClustPy.likelihoods import magma_neg_likelihood_on_cov\n",
    "\n",
    "os.environ['JAX_ENABLE_X64'] = \"True\""
   ],
   "id": "eb0046b46dc27950",
   "outputs": [],
   "execution_count": 1
  },
  {
   "metadata": {
    "ExecuteTime": {
     "end_time": "2025-07-08T15:05:39.069535Z",
     "start_time": "2025-07-08T15:05:39.067803Z"
    }
   },
   "cell_type": "code",
   "source": [
    "# Third party\n",
    "import jax\n",
    "import jax.numpy as jnp\n",
    "from jax import jit, vmap\n",
    "from jax.scipy.linalg import cho_factor, cho_solve\n",
    "from jax.scipy.stats.multivariate_normal import logpdf\n",
    "\n",
    "import pandas as pd\n",
    "import numpy as np"
   ],
   "id": "a1fe8b76912d6f2c",
   "outputs": [],
   "execution_count": 2
  },
  {
   "metadata": {
    "ExecuteTime": {
     "end_time": "2025-07-08T15:05:39.084023Z",
     "start_time": "2025-07-08T15:05:39.077832Z"
    }
   },
   "cell_type": "code",
   "source": [
    "# Local\n",
    "from MagmaClustPy.hyperpost import hyperpost\n",
    "from Kernax import SEMagmaKernel, DiagKernel, ExpKernel\n",
    "from MagmaClustPy.utils import preprocess_db"
   ],
   "id": "4b255f340edfbe6f",
   "outputs": [],
   "execution_count": 3
  },
  {
   "metadata": {
    "ExecuteTime": {
     "end_time": "2025-07-08T15:05:39.091371Z",
     "start_time": "2025-07-08T15:05:39.089742Z"
    }
   },
   "cell_type": "code",
   "source": [
    "# Config\n",
    "nugget=jnp.array(1e-4)"
   ],
   "id": "3180afa8778f9553",
   "outputs": [],
   "execution_count": 4
  },
  {
   "metadata": {},
   "cell_type": "markdown",
   "source": [
    "---\n",
    "## Data"
   ],
   "id": "190fcef7dd61821b"
  },
  {
   "metadata": {
    "ExecuteTime": {
     "end_time": "2025-07-08T15:05:39.099800Z",
     "start_time": "2025-07-08T15:05:39.097978Z"
    }
   },
   "cell_type": "code",
   "source": [
    "test_db_size = \"medium\"\n",
    "key = jax.random.PRNGKey(42)"
   ],
   "id": "b36bdb0b6080e935",
   "outputs": [],
   "execution_count": 5
  },
  {
   "metadata": {},
   "cell_type": "markdown",
   "source": [
    "---\n",
    "## Current implementation"
   ],
   "id": "bffd41fea2028bdb"
  },
  {
   "metadata": {
    "ExecuteTime": {
     "end_time": "2025-07-08T15:05:39.108219Z",
     "start_time": "2025-07-08T15:05:39.106736Z"
    }
   },
   "cell_type": "code",
   "source": [
    "import MagmaClustPy\n",
    "\n",
    "magma_neg_likelihood_old = MagmaClustPy.likelihoods.magma_neg_likelihood\n",
    "magma_neg_likelihood_on_cov_old = MagmaClustPy.likelihoods.magma_neg_likelihood_on_cov"
   ],
   "id": "6b7e730087bbca42",
   "outputs": [],
   "execution_count": 6
  },
  {
   "metadata": {},
   "cell_type": "markdown",
   "source": [
    "---\n",
    "## Custom implementation(s)"
   ],
   "id": "c7496288f6ddf25f"
  },
  {
   "metadata": {
    "ExecuteTime": {
     "end_time": "2025-07-08T15:05:39.121021Z",
     "start_time": "2025-07-08T15:05:39.115952Z"
    }
   },
   "cell_type": "code",
   "source": [
    "import jax.numpy as jnp\n",
    "from jax import jit, vmap\n",
    "from jax.scipy.stats.multivariate_normal import logpdf\n",
    "\n",
    "from MagmaClustPy.linalg import extract_from_full_array, extract_from_full_matrix, solve_right_cholesky\n",
    "\n",
    "\n",
    "@jit\n",
    "def magma_neg_likelihood_on_cov(covar, outputs, mean, mean_process_cov, mapping, nugget=jnp.array(1e-10)):\n",
    "\toutputs = outputs.ravel()  # For multi-output, we want to flatten the outputs.\n",
    "\tmean = mean.ravel()  # As the goal of likelihood is to see if the mean is close to the outputs, we want to flatten it too.\n",
    "\n",
    "\tnugget_matrix = jnp.eye(outputs.shape[0]) * nugget\n",
    "\n",
    "\teyed_covar = jnp.where(jnp.isnan(covar), jnp.eye(covar.shape[0]), covar)\n",
    "\tzeroed_outputs = jnp.nan_to_num(outputs)\n",
    "\tif mapping is not None:\n",
    "\t\tzeroed_mean = jnp.nan_to_num(extract_from_full_array(mean, outputs, mapping))\n",
    "\t\teyed_mean_cov = jnp.where(jnp.isnan(covar), jnp.eye(covar.shape[0]), extract_from_full_matrix(mean_process_cov, outputs, mapping))\n",
    "\telse:\n",
    "\t\tzeroed_mean = jnp.nan_to_num(mean)\n",
    "\t\teyed_mean_cov = jnp.where(jnp.isnan(covar), jnp.eye(covar.shape[0]), mean_process_cov)\n",
    "\n",
    "\n",
    "\t# Compute log-likelihood\n",
    "\tmultiv_neg_log_lik = -logpdf(zeroed_outputs, zeroed_mean, eyed_covar + nugget_matrix)\n",
    "\n",
    "\t# Compute correction term\n",
    "\tcorrection = 0.5 * jnp.trace(solve_right_cholesky(eyed_covar, eyed_mean_cov, nugget=nugget))\n",
    "\n",
    "\t# Compute padding corrections\n",
    "\t# The logpdf is computed as:\n",
    "\t# -0.5 * (N * log(2 * pi) + log(det(cov)) + (outputs - mean).T @ inv(cov) @ (outputs - mean))\n",
    "\t# det(cov) and the Mahalanobis distance are not affected by our padding\n",
    "\t# We only have to correct for the -0.5 * N * log(2 * pi) term, as N is bigger with padding\n",
    "\tnll_pad_correction = 0.5 * jnp.log(2 * jnp.pi) * jnp.sum(jnp.isnan(outputs))\n",
    "\n",
    "\t# We also need to correct the correction term, as padding adds 1s to the diagonal and hence 1 to the trace\n",
    "\tcorr_pad_correction = 0.5 * jnp.sum(jnp.isnan(outputs))\n",
    "\n",
    "\treturn (multiv_neg_log_lik - nll_pad_correction) + (correction - corr_pad_correction)\n",
    "\n",
    "\n",
    "@jit\n",
    "def magma_neg_likelihood(kernel, inputs, outputs: jnp.array, mean: jnp.array, mean_process_cov: jnp.array, mappings: jnp.array, nugget=jnp.array(1e-10)):\n",
    "\t\"\"\"\n",
    "\tComputes the MAGMA log-likelihood.\n",
    "\n",
    "\t:param kernel: the kernel containing HPs to optimise. This kernel is used to compute the covariance (matrix `S`)\n",
    "\t:param inputs: inputs on which to compute the covariance matrix (shape (N, ))\n",
    "\t:param mask: boolean masks indicating which inputs and outputs to consider (shape (N, ))  #TODO: fix\n",
    "\t:param outputs: the observed values (shape (N, ))\n",
    "\t:param mean: the mean over the inputs (scalar or vector of shape (N, ))\n",
    "\t:param mean_process_cov: the hypper-posterior mean process covariance (matrix K^t)\n",
    "\t:param nugget: the nugget, for numerical stability\n",
    "\n",
    "\t:return: the negative log-likelihood (scalar)\n",
    "\t\"\"\"\n",
    "\t# In multi-output, we want to flatten the outputs.\n",
    "\t# The user should provide a specific Kernel to compute a cross-covariance with the right shape too\n",
    "\toutputs = outputs.reshape(outputs.shape[0], -1)\n",
    "\n",
    "\tif mean.ndim == 0:\n",
    "\t\tmean = jnp.broadcast_to(mean[None], outputs.shape)\n",
    "\n",
    "\tcovar = kernel(inputs)\n",
    "\n",
    "\t# check if we need to vmap\n",
    "\tif inputs.ndim == 2:\n",
    "\t\treturn magma_neg_likelihood_on_cov(covar, outputs, mean, mean_process_cov, mappings, nugget)\n",
    "\telif inputs.ndim == 3:\n",
    "\t\treturn vmap(magma_neg_likelihood_on_cov, in_axes=(0, 0, None, None, 0, None))(covar, outputs, mean, mean_process_cov, mappings, nugget)\n",
    "\telse:\n",
    "\t\traise ValueError(\"inputs must be either 1D or 2D\")"
   ],
   "id": "5de6fcef36a19d83",
   "outputs": [],
   "execution_count": 7
  },
  {
   "metadata": {
    "ExecuteTime": {
     "end_time": "2025-07-08T15:05:39.129462Z",
     "start_time": "2025-07-08T15:05:39.128092Z"
    }
   },
   "cell_type": "code",
   "source": [
    "magma_neg_likelihood_new = magma_neg_likelihood\n",
    "magma_neg_likelihood_on_cov_new = magma_neg_likelihood_on_cov"
   ],
   "id": "bb218990ed996d8c",
   "outputs": [],
   "execution_count": 8
  },
  {
   "metadata": {},
   "cell_type": "markdown",
   "source": [
    "---\n",
    "## Comparison"
   ],
   "id": "88fdaed3f55aae3a"
  },
  {
   "metadata": {},
   "cell_type": "markdown",
   "source": "### Sample test",
   "id": "d184c4d106475a66"
  },
  {
   "metadata": {
    "ExecuteTime": {
     "end_time": "2025-07-08T15:05:39.462421Z",
     "start_time": "2025-07-08T15:05:39.138703Z"
    }
   },
   "cell_type": "code",
   "source": [
    "db = pd.DataFrame({\n",
    "\t'Task_ID': [1, 1, 1, 1, 2, 2, 2, 2],\n",
    "\t'Input': [0.40, 4.45, 7.60, 8.30, 3.50, 5.10, 8.85, 9.35],\n",
    "\t'Input_ID': ['x', 'x', 'x', 'x', 'x', 'x', 'x', 'x'],\n",
    "\t'Output': [59.81620, 67.13694, 78.32495, 81.83590, 62.04943, 67.31932, 85.94063, 86.76426],\n",
    "\t'Output_ID': ['a', 'a', 'a', 'a', 'a', 'a', 'a', 'a'],\n",
    "})\n",
    "\n",
    "padded_inputs, padded_outputs, mappings, all_inputs = preprocess_db(db)\n",
    "\n",
    "prior_mean = jnp.array(0)\n",
    "all_inputs.shape, padded_inputs.shape"
   ],
   "id": "9e4541ca06271c07",
   "outputs": [
    {
     "data": {
      "text/plain": [
       "((8, 1), (2, 4, 1))"
      ]
     },
     "execution_count": 9,
     "metadata": {},
     "output_type": "execute_result"
    }
   ],
   "execution_count": 9
  },
  {
   "metadata": {
    "ExecuteTime": {
     "end_time": "2025-07-08T15:05:39.477024Z",
     "start_time": "2025-07-08T15:05:39.474048Z"
    }
   },
   "cell_type": "code",
   "source": [
    "mean_kern = SEMagmaKernel(length_scale=.3, variance=1.)\n",
    "task_kern = SEMagmaKernel(length_scale=.3, variance=1.) + DiagKernel(ExpKernel(2.5))"
   ],
   "id": "c308ab3f3dc6d866",
   "outputs": [],
   "execution_count": 10
  },
  {
   "metadata": {
    "ExecuteTime": {
     "end_time": "2025-07-08T15:05:39.958848Z",
     "start_time": "2025-07-08T15:05:39.495718Z"
    }
   },
   "cell_type": "code",
   "source": [
    "post_mean, post_cov = hyperpost(padded_inputs, padded_outputs, mappings, prior_mean, mean_kern, task_kern, all_inputs=all_inputs, nugget=nugget)\n",
    "post_mean.shape, post_cov.shape"
   ],
   "id": "c70d9b7cbd5f368c",
   "outputs": [
    {
     "data": {
      "text/plain": [
       "((8,), (8, 8))"
      ]
     },
     "execution_count": 11,
     "metadata": {},
     "output_type": "execute_result"
    }
   ],
   "execution_count": 11
  },
  {
   "metadata": {
    "ExecuteTime": {
     "end_time": "2025-07-08T15:05:40.045370Z",
     "start_time": "2025-07-08T15:05:39.970016Z"
    }
   },
   "cell_type": "code",
   "source": [
    "mean_llh_old = magma_neg_likelihood_old(mean_kern, all_inputs, post_mean, jnp.full(all_inputs.squeeze().shape, prior_mean), post_cov, None, nugget=nugget)\n",
    "mean_llh_old.item()"
   ],
   "id": "5976da68979cb8b8",
   "outputs": [
    {
     "data": {
      "text/plain": [
       "1784.2900390625"
      ]
     },
     "execution_count": 12,
     "metadata": {},
     "output_type": "execute_result"
    }
   ],
   "execution_count": 12
  },
  {
   "metadata": {
    "ExecuteTime": {
     "end_time": "2025-07-08T15:05:40.131026Z",
     "start_time": "2025-07-08T15:05:40.067097Z"
    }
   },
   "cell_type": "code",
   "source": [
    "mean_llh_new = magma_neg_likelihood_new(mean_kern, all_inputs, post_mean, prior_mean, post_cov, None, nugget=nugget)\n",
    "mean_llh_new.item()"
   ],
   "id": "4116b325298a8425",
   "outputs": [
    {
     "data": {
      "text/plain": [
       "1784.2900390625"
      ]
     },
     "execution_count": 13,
     "metadata": {},
     "output_type": "execute_result"
    }
   ],
   "execution_count": 13
  },
  {
   "metadata": {
    "ExecuteTime": {
     "end_time": "2025-07-08T15:05:40.164985Z",
     "start_time": "2025-07-08T15:05:40.147619Z"
    }
   },
   "cell_type": "code",
   "source": "jnp.allclose(mean_llh_old, mean_llh_new)",
   "id": "5c063ee3eec52010",
   "outputs": [
    {
     "data": {
      "text/plain": [
       "Array(True, dtype=bool)"
      ]
     },
     "execution_count": 14,
     "metadata": {},
     "output_type": "execute_result"
    }
   ],
   "execution_count": 14
  },
  {
   "metadata": {
    "ExecuteTime": {
     "end_time": "2025-07-08T15:05:48.304044Z",
     "start_time": "2025-07-08T15:05:40.186518Z"
    }
   },
   "cell_type": "code",
   "source": "%timeit magma_neg_likelihood_old(mean_kern, all_inputs, post_mean, prior_mean, post_cov, None, nugget=nugget).block_until_ready()",
   "id": "e1103ebd9ec6c20c",
   "outputs": [
    {
     "name": "stdout",
     "output_type": "stream",
     "text": [
      "9.88 μs ± 307 ns per loop (mean ± std. dev. of 7 runs, 100,000 loops each)\n"
     ]
    }
   ],
   "execution_count": 15
  },
  {
   "metadata": {
    "ExecuteTime": {
     "end_time": "2025-07-08T15:05:56.190559Z",
     "start_time": "2025-07-08T15:05:48.320817Z"
    }
   },
   "cell_type": "code",
   "source": "%timeit magma_neg_likelihood_new(mean_kern, all_inputs, post_mean, prior_mean, post_cov, None, nugget=nugget).block_until_ready()",
   "id": "ee8a2b95bb285b69",
   "outputs": [
    {
     "name": "stdout",
     "output_type": "stream",
     "text": [
      "9.69 μs ± 205 ns per loop (mean ± std. dev. of 7 runs, 100,000 loops each)\n"
     ]
    }
   ],
   "execution_count": 16
  },
  {
   "metadata": {
    "ExecuteTime": {
     "end_time": "2025-07-08T15:05:56.356839Z",
     "start_time": "2025-07-08T15:05:56.207879Z"
    }
   },
   "cell_type": "code",
   "source": [
    "task_llhs_old = magma_neg_likelihood_old(task_kern, padded_inputs, padded_outputs.squeeze(), post_mean, post_cov, mappings, nugget=nugget)\n",
    "np.asarray(task_llhs_old)"
   ],
   "id": "7aaf7bbc5aa4235a",
   "outputs": [
    {
     "data": {
      "text/plain": [
       "array([ 979.3764, 1425.9928], dtype=float32)"
      ]
     },
     "execution_count": 17,
     "metadata": {},
     "output_type": "execute_result"
    }
   ],
   "execution_count": 17
  },
  {
   "metadata": {
    "ExecuteTime": {
     "end_time": "2025-07-08T15:05:56.445441Z",
     "start_time": "2025-07-08T15:05:56.367818Z"
    }
   },
   "cell_type": "code",
   "source": [
    "task_llhs_new = magma_neg_likelihood_new(task_kern, padded_inputs, padded_outputs, post_mean, post_cov, mappings, nugget=nugget)\n",
    "np.asarray(task_llhs_new)"
   ],
   "id": "eb119c784d811156",
   "outputs": [
    {
     "data": {
      "text/plain": [
       "array([ 979.3764, 1425.9928], dtype=float32)"
      ]
     },
     "execution_count": 18,
     "metadata": {},
     "output_type": "execute_result"
    }
   ],
   "execution_count": 18
  },
  {
   "metadata": {
    "ExecuteTime": {
     "end_time": "2025-07-08T15:05:56.486370Z",
     "start_time": "2025-07-08T15:05:56.466158Z"
    }
   },
   "cell_type": "code",
   "source": "jnp.allclose(task_llhs_old, task_llhs_new)",
   "id": "fc725337018fb237",
   "outputs": [
    {
     "data": {
      "text/plain": [
       "Array(True, dtype=bool)"
      ]
     },
     "execution_count": 19,
     "metadata": {},
     "output_type": "execute_result"
    }
   ],
   "execution_count": 19
  },
  {
   "metadata": {
    "ExecuteTime": {
     "end_time": "2025-07-08T15:06:01.294359Z",
     "start_time": "2025-07-08T15:05:56.505636Z"
    }
   },
   "cell_type": "code",
   "source": "%timeit magma_neg_likelihood_old(task_kern, padded_inputs, padded_outputs.squeeze(), post_mean, post_cov, mappings, nugget=nugget)[0].block_until_ready()",
   "id": "20647ca8edd28ff8",
   "outputs": [
    {
     "name": "stdout",
     "output_type": "stream",
     "text": [
      "59 μs ± 2.47 μs per loop (mean ± std. dev. of 7 runs, 10,000 loops each)\n"
     ]
    }
   ],
   "execution_count": 20
  },
  {
   "metadata": {
    "ExecuteTime": {
     "end_time": "2025-07-08T15:06:05.718763Z",
     "start_time": "2025-07-08T15:06:01.310956Z"
    }
   },
   "cell_type": "code",
   "source": "%timeit magma_neg_likelihood_new(task_kern, padded_inputs, padded_outputs, post_mean, post_cov, mappings, nugget=nugget)[0].block_until_ready()",
   "id": "a88a2f8d45c6d9af",
   "outputs": [
    {
     "name": "stdout",
     "output_type": "stream",
     "text": [
      "53.5 μs ± 2.27 μs per loop (mean ± std. dev. of 7 runs, 10,000 loops each)\n"
     ]
    }
   ],
   "execution_count": 21
  },
  {
   "metadata": {},
   "cell_type": "markdown",
   "source": "### shared Input, shared HP",
   "id": "51f2147e48816074"
  },
  {
   "metadata": {
    "ExecuteTime": {
     "end_time": "2025-07-08T15:06:06.160728Z",
     "start_time": "2025-07-08T15:06:05.735887Z"
    }
   },
   "cell_type": "code",
   "source": [
    "db = pd.read_csv(f\"../datasets/{test_db_size}_shared_input_shared_hp.csv\")\n",
    "\n",
    "padded_inputs, padded_outputs, mappings, all_inputs = preprocess_db(db)\n",
    "\n",
    "prior_mean = jnp.array(0)\n",
    "all_inputs.shape, padded_inputs.shape"
   ],
   "id": "e63d62a1a32b1b72",
   "outputs": [
    {
     "data": {
      "text/plain": [
       "((150, 1), (200, 150, 1))"
      ]
     },
     "execution_count": 22,
     "metadata": {},
     "output_type": "execute_result"
    }
   ],
   "execution_count": 22
  },
  {
   "metadata": {
    "ExecuteTime": {
     "end_time": "2025-07-08T15:06:06.388076Z",
     "start_time": "2025-07-08T15:06:06.382726Z"
    }
   },
   "cell_type": "code",
   "source": [
    "mean_kern = SEMagmaKernel(length_scale=.3, variance=1.)\n",
    "task_kern = SEMagmaKernel(length_scale=.3, variance=1.) + DiagKernel(ExpKernel(2.5))"
   ],
   "id": "3ec2de19178b23f2",
   "outputs": [],
   "execution_count": 23
  },
  {
   "metadata": {
    "ExecuteTime": {
     "end_time": "2025-07-08T15:06:06.760023Z",
     "start_time": "2025-07-08T15:06:06.414190Z"
    }
   },
   "cell_type": "code",
   "source": [
    "post_mean, post_cov = hyperpost(padded_inputs, padded_outputs, mappings, prior_mean, mean_kern, task_kern, all_inputs=all_inputs, nugget=nugget)\n",
    "post_mean.shape, post_cov.shape"
   ],
   "id": "b82fb2e356acb498",
   "outputs": [
    {
     "data": {
      "text/plain": [
       "((150,), (150, 150))"
      ]
     },
     "execution_count": 24,
     "metadata": {},
     "output_type": "execute_result"
    }
   ],
   "execution_count": 24
  },
  {
   "metadata": {
    "ExecuteTime": {
     "end_time": "2025-07-08T15:06:06.877928Z",
     "start_time": "2025-07-08T15:06:06.771223Z"
    }
   },
   "cell_type": "code",
   "source": [
    "mean_llh_old = magma_neg_likelihood_old(mean_kern, all_inputs, post_mean, jnp.full(all_inputs.squeeze().shape, prior_mean), post_cov, None, nugget=nugget)\n",
    "mean_llh_old.item()"
   ],
   "id": "6dd3ed817d762d8c",
   "outputs": [
    {
     "data": {
      "text/plain": [
       "872167.75"
      ]
     },
     "execution_count": 25,
     "metadata": {},
     "output_type": "execute_result"
    }
   ],
   "execution_count": 25
  },
  {
   "metadata": {
    "ExecuteTime": {
     "end_time": "2025-07-08T15:06:06.975252Z",
     "start_time": "2025-07-08T15:06:06.888399Z"
    }
   },
   "cell_type": "code",
   "source": [
    "mean_llh_new = magma_neg_likelihood_new(mean_kern, all_inputs, post_mean, prior_mean, post_cov, None, nugget=nugget)\n",
    "mean_llh_new.item()"
   ],
   "id": "1c581755c71baf06",
   "outputs": [
    {
     "data": {
      "text/plain": [
       "872167.75"
      ]
     },
     "execution_count": 26,
     "metadata": {},
     "output_type": "execute_result"
    }
   ],
   "execution_count": 26
  },
  {
   "metadata": {
    "ExecuteTime": {
     "end_time": "2025-07-08T15:06:06.989420Z",
     "start_time": "2025-07-08T15:06:06.986808Z"
    }
   },
   "cell_type": "code",
   "source": "jnp.allclose(mean_llh_old, mean_llh_new)",
   "id": "ea4de7e93bb9ab57",
   "outputs": [
    {
     "data": {
      "text/plain": [
       "Array(True, dtype=bool)"
      ]
     },
     "execution_count": 27,
     "metadata": {},
     "output_type": "execute_result"
    }
   ],
   "execution_count": 27
  },
  {
   "metadata": {
    "ExecuteTime": {
     "end_time": "2025-07-08T15:06:09.131223Z",
     "start_time": "2025-07-08T15:06:07.025308Z"
    }
   },
   "cell_type": "code",
   "source": "%timeit magma_neg_likelihood_old(mean_kern, all_inputs, post_mean, prior_mean, post_cov, None, nugget=nugget).block_until_ready()",
   "id": "7ba339d2b39e5652",
   "outputs": [
    {
     "name": "stdout",
     "output_type": "stream",
     "text": [
      "249 μs ± 7.76 μs per loop (mean ± std. dev. of 7 runs, 1,000 loops each)\n"
     ]
    }
   ],
   "execution_count": 28
  },
  {
   "metadata": {
    "ExecuteTime": {
     "end_time": "2025-07-08T15:06:11.155313Z",
     "start_time": "2025-07-08T15:06:09.147304Z"
    }
   },
   "cell_type": "code",
   "source": "%timeit magma_neg_likelihood_new(mean_kern, all_inputs, post_mean, prior_mean, post_cov, None, nugget=nugget).block_until_ready()",
   "id": "866fa177bc5d57b4",
   "outputs": [
    {
     "name": "stdout",
     "output_type": "stream",
     "text": [
      "245 μs ± 6.11 μs per loop (mean ± std. dev. of 7 runs, 1,000 loops each)\n"
     ]
    }
   ],
   "execution_count": 29
  },
  {
   "metadata": {
    "ExecuteTime": {
     "end_time": "2025-07-08T15:06:11.368985Z",
     "start_time": "2025-07-08T15:06:11.171953Z"
    }
   },
   "cell_type": "code",
   "source": [
    "task_llhs_old = magma_neg_likelihood_old(task_kern, padded_inputs, padded_outputs.squeeze(), post_mean, post_cov, mappings, nugget=nugget)\n",
    "np.asarray(task_llhs_old)"
   ],
   "id": "bca2f5c85414b2fe",
   "outputs": [
    {
     "data": {
      "text/plain": [
       "array([443.60623, 454.33514, 457.4909 , 455.43054, 462.82095, 463.07523,\n",
       "       455.4749 , 455.17505, 445.59637, 448.59924, 454.36047, 455.02356,\n",
       "       452.37225, 458.5221 , 466.32495, 443.44504, 446.11185, 461.92776,\n",
       "       450.13547, 459.11014, 457.8158 , 447.38824, 453.94556, 447.88974,\n",
       "       447.32092, 458.37628, 452.34546, 453.8296 , 458.3998 , 441.71176,\n",
       "       444.6034 , 446.18707, 448.72382, 445.65454, 439.13727, 453.74615,\n",
       "       465.72504, 457.96024, 461.77377, 464.66547, 453.10135, 460.84247,\n",
       "       454.2546 , 446.46265, 458.79422, 455.19415, 447.37918, 463.7545 ,\n",
       "       454.7738 , 450.6353 , 448.41592, 465.51456, 463.16537, 445.1893 ,\n",
       "       460.41043, 454.84998, 448.88474, 455.19244, 445.32806, 469.64545,\n",
       "       459.3202 , 463.84857, 456.37054, 460.3284 , 457.97467, 432.5199 ,\n",
       "       447.77032, 458.05536, 446.3839 , 436.29736, 470.28336, 449.6275 ,\n",
       "       455.74258, 454.30447, 460.1877 , 442.18527, 455.8119 , 456.85345,\n",
       "       458.8584 , 460.14972, 456.49634, 452.11597, 452.0233 , 461.1954 ,\n",
       "       450.57965, 437.18027, 454.7854 , 459.73932, 436.94904, 439.3292 ,\n",
       "       459.37402, 453.30142, 455.8653 , 447.43857, 450.23758, 442.83127,\n",
       "       454.42532, 444.99844, 454.4507 , 461.35233, 444.52048, 444.59058,\n",
       "       458.72916, 449.60706, 451.86487, 460.04337, 458.68866, 467.54276,\n",
       "       455.70496, 459.42923, 448.8614 , 458.27023, 452.04242, 459.84555,\n",
       "       455.0318 , 455.37347, 449.87442, 446.1374 , 451.30344, 451.07193,\n",
       "       442.6559 , 454.20306, 456.7105 , 458.87082, 466.37628, 456.9809 ,\n",
       "       456.7225 , 453.3321 , 461.98062, 451.81546, 454.35474, 455.15298,\n",
       "       454.0508 , 440.73685, 440.48184, 448.6059 , 465.62198, 459.77332,\n",
       "       438.34534, 442.64935, 464.4499 , 458.34003, 455.89554, 455.6602 ,\n",
       "       451.882  , 449.9299 , 458.75586, 438.8102 , 456.43152, 448.90387,\n",
       "       443.9898 , 453.2404 , 445.16818, 456.39377, 452.38358, 454.1927 ,\n",
       "       442.35635, 462.25644, 450.18524, 447.3815 , 441.76147, 462.44052,\n",
       "       465.06873, 455.91626, 469.7993 , 453.01096, 458.21445, 457.39587,\n",
       "       446.6847 , 436.93713, 470.2364 , 452.8561 , 449.56128, 458.0689 ,\n",
       "       448.3118 , 446.17694, 445.38675, 451.88168, 453.32367, 454.3958 ,\n",
       "       448.75677, 442.34094, 453.53802, 448.1623 , 452.53992, 445.59103,\n",
       "       453.34933, 454.8609 , 447.537  , 462.86038, 457.12982, 459.11966,\n",
       "       451.19565, 459.87466, 464.60168, 450.2118 , 455.7364 , 467.76886,\n",
       "       462.52768, 453.91333], dtype=float32)"
      ]
     },
     "execution_count": 30,
     "metadata": {},
     "output_type": "execute_result"
    }
   ],
   "execution_count": 30
  },
  {
   "metadata": {
    "ExecuteTime": {
     "end_time": "2025-07-08T15:06:11.535662Z",
     "start_time": "2025-07-08T15:06:11.388503Z"
    }
   },
   "cell_type": "code",
   "source": [
    "task_llhs_new = magma_neg_likelihood_new(task_kern, padded_inputs, padded_outputs, post_mean, post_cov, mappings, nugget=nugget)\n",
    "np.asarray(task_llhs_new)"
   ],
   "id": "2fcc7fa034a4acd8",
   "outputs": [
    {
     "data": {
      "text/plain": [
       "array([443.60623, 454.33514, 457.4909 , 455.43054, 462.82095, 463.07523,\n",
       "       455.4749 , 455.17505, 445.59637, 448.59924, 454.36047, 455.02356,\n",
       "       452.37225, 458.5221 , 466.32495, 443.44504, 446.11185, 461.92776,\n",
       "       450.13547, 459.11014, 457.8158 , 447.38824, 453.94556, 447.88974,\n",
       "       447.32092, 458.37628, 452.34546, 453.8296 , 458.3998 , 441.71176,\n",
       "       444.6034 , 446.18707, 448.72382, 445.65454, 439.13727, 453.74615,\n",
       "       465.72504, 457.96024, 461.77377, 464.66547, 453.10135, 460.84247,\n",
       "       454.2546 , 446.46265, 458.79422, 455.19415, 447.37918, 463.7545 ,\n",
       "       454.7738 , 450.6353 , 448.41592, 465.51456, 463.16537, 445.1893 ,\n",
       "       460.41043, 454.84998, 448.88474, 455.19244, 445.32806, 469.64545,\n",
       "       459.3202 , 463.84857, 456.37054, 460.3284 , 457.97467, 432.5199 ,\n",
       "       447.77032, 458.05536, 446.3839 , 436.29736, 470.28336, 449.6275 ,\n",
       "       455.74258, 454.30447, 460.1877 , 442.18527, 455.8119 , 456.85345,\n",
       "       458.8584 , 460.14972, 456.49634, 452.11597, 452.0233 , 461.1954 ,\n",
       "       450.57965, 437.18027, 454.7854 , 459.73932, 436.94904, 439.3292 ,\n",
       "       459.37402, 453.30142, 455.8653 , 447.43857, 450.23758, 442.83127,\n",
       "       454.42532, 444.99844, 454.4507 , 461.35233, 444.52048, 444.59058,\n",
       "       458.72916, 449.60706, 451.86487, 460.04337, 458.68866, 467.54276,\n",
       "       455.70496, 459.42923, 448.8614 , 458.27023, 452.04242, 459.84555,\n",
       "       455.0318 , 455.37347, 449.87442, 446.1374 , 451.30344, 451.07193,\n",
       "       442.6559 , 454.20306, 456.7105 , 458.87082, 466.37628, 456.9809 ,\n",
       "       456.7225 , 453.3321 , 461.98062, 451.81546, 454.35474, 455.15298,\n",
       "       454.0508 , 440.73685, 440.48184, 448.6059 , 465.62198, 459.77332,\n",
       "       438.34534, 442.64935, 464.4499 , 458.34003, 455.89554, 455.6602 ,\n",
       "       451.882  , 449.9299 , 458.75586, 438.8102 , 456.43152, 448.90387,\n",
       "       443.9898 , 453.2404 , 445.16818, 456.39377, 452.38358, 454.1927 ,\n",
       "       442.35635, 462.25644, 450.18524, 447.3815 , 441.76147, 462.44052,\n",
       "       465.06873, 455.91626, 469.7993 , 453.01096, 458.21445, 457.39587,\n",
       "       446.6847 , 436.93713, 470.2364 , 452.8561 , 449.56128, 458.0689 ,\n",
       "       448.3118 , 446.17694, 445.38675, 451.88168, 453.32367, 454.3958 ,\n",
       "       448.75677, 442.34094, 453.53802, 448.1623 , 452.53992, 445.59103,\n",
       "       453.34933, 454.8609 , 447.537  , 462.86038, 457.12982, 459.11966,\n",
       "       451.19565, 459.87466, 464.60168, 450.2118 , 455.7364 , 467.76886,\n",
       "       462.52768, 453.91333], dtype=float32)"
      ]
     },
     "execution_count": 31,
     "metadata": {},
     "output_type": "execute_result"
    }
   ],
   "execution_count": 31
  },
  {
   "metadata": {
    "ExecuteTime": {
     "end_time": "2025-07-08T15:06:11.591868Z",
     "start_time": "2025-07-08T15:06:11.552399Z"
    }
   },
   "cell_type": "code",
   "source": "jnp.allclose(task_llhs_old, task_llhs_new)",
   "id": "c70d1a1719ea7a11",
   "outputs": [
    {
     "data": {
      "text/plain": [
       "Array(True, dtype=bool)"
      ]
     },
     "execution_count": 32,
     "metadata": {},
     "output_type": "execute_result"
    }
   ],
   "execution_count": 32
  },
  {
   "metadata": {
    "ExecuteTime": {
     "end_time": "2025-07-08T15:06:13.361959Z",
     "start_time": "2025-07-08T15:06:11.603319Z"
    }
   },
   "cell_type": "code",
   "source": "%timeit magma_neg_likelihood_old(task_kern, padded_inputs, padded_outputs.squeeze(), post_mean, post_cov, mappings, nugget=nugget)[0].block_until_ready()",
   "id": "acf68e6845c85118",
   "outputs": [
    {
     "name": "stdout",
     "output_type": "stream",
     "text": [
      "21.6 ms ± 672 μs per loop (mean ± std. dev. of 7 runs, 10 loops each)\n"
     ]
    }
   ],
   "execution_count": 33
  },
  {
   "metadata": {
    "ExecuteTime": {
     "end_time": "2025-07-08T15:06:15.147894Z",
     "start_time": "2025-07-08T15:06:13.373616Z"
    }
   },
   "cell_type": "code",
   "source": "%timeit magma_neg_likelihood_new(task_kern, padded_inputs, padded_outputs, post_mean, post_cov, mappings, nugget=nugget)[0].block_until_ready()",
   "id": "614e9d6b686c22f3",
   "outputs": [
    {
     "name": "stdout",
     "output_type": "stream",
     "text": [
      "21.8 ms ± 146 μs per loop (mean ± std. dev. of 7 runs, 10 loops each)\n"
     ]
    }
   ],
   "execution_count": 34
  },
  {
   "metadata": {},
   "cell_type": "markdown",
   "source": "### shared Input, Distinct HP",
   "id": "59ec57712a06341"
  },
  {
   "metadata": {
    "ExecuteTime": {
     "end_time": "2025-07-08T15:06:15.220120Z",
     "start_time": "2025-07-08T15:06:15.160420Z"
    }
   },
   "cell_type": "code",
   "source": [
    "db = pd.read_csv(f\"../datasets/{test_db_size}_shared_input_distinct_hp.csv\")\n",
    "\n",
    "padded_inputs, padded_outputs, mappings, all_inputs = preprocess_db(db)\n",
    "\n",
    "prior_mean = jnp.array(0)\n",
    "all_inputs.shape, padded_inputs.shape"
   ],
   "id": "d54ddc6292d2fc08",
   "outputs": [
    {
     "data": {
      "text/plain": [
       "((150, 1), (200, 150, 1))"
      ]
     },
     "execution_count": 35,
     "metadata": {},
     "output_type": "execute_result"
    }
   ],
   "execution_count": 35
  },
  {
   "metadata": {
    "ExecuteTime": {
     "end_time": "2025-07-08T15:06:15.528327Z",
     "start_time": "2025-07-08T15:06:15.426517Z"
    }
   },
   "cell_type": "code",
   "source": [
    "mean_kern = SEMagmaKernel(length_scale=.3, variance=1.)\n",
    "\n",
    "key, subkey = jax.random.split(key)\n",
    "distinct_length_scales = jax.random.uniform(subkey, (padded_outputs.shape[0],), jnp.float64, .1, 1)\n",
    "task_kern = SEMagmaKernel(length_scale=.3, variance=1.) + DiagKernel(ExpKernel(2.5))"
   ],
   "id": "e74fbd6501a06fce",
   "outputs": [
    {
     "name": "stderr",
     "output_type": "stream",
     "text": [
      "/var/folders/93/wvvdyy810s1cvn67rnn9x0jh0000gn/T/ipykernel_2951/3700828002.py:4: UserWarning: Explicitly requested dtype <class 'jax.numpy.float64'>  is not available, and will be truncated to dtype float32. To enable more dtypes, set the jax_enable_x64 configuration option or the JAX_ENABLE_X64 shell environment variable. See https://github.com/jax-ml/jax#current-gotchas for more.\n",
      "  distinct_length_scales = jax.random.uniform(subkey, (padded_outputs.shape[0],), jnp.float64, .1, 1)\n"
     ]
    }
   ],
   "execution_count": 36
  },
  {
   "metadata": {
    "ExecuteTime": {
     "end_time": "2025-07-08T15:06:15.549716Z",
     "start_time": "2025-07-08T15:06:15.545577Z"
    }
   },
   "cell_type": "code",
   "source": [
    "post_mean, post_cov = hyperpost(padded_inputs, padded_outputs, mappings, prior_mean, mean_kern, task_kern, all_inputs=all_inputs, nugget=nugget)\n",
    "post_mean.shape, post_cov.shape"
   ],
   "id": "736219be2cca256b",
   "outputs": [
    {
     "data": {
      "text/plain": [
       "((150,), (150, 150))"
      ]
     },
     "execution_count": 37,
     "metadata": {},
     "output_type": "execute_result"
    }
   ],
   "execution_count": 37
  },
  {
   "metadata": {
    "ExecuteTime": {
     "end_time": "2025-07-08T15:06:15.598015Z",
     "start_time": "2025-07-08T15:06:15.594879Z"
    }
   },
   "cell_type": "code",
   "source": [
    "mean_llh_old = magma_neg_likelihood_old(mean_kern, all_inputs, post_mean, jnp.full(all_inputs.squeeze().shape, prior_mean), post_cov, None, nugget=nugget)\n",
    "mean_llh_old.item()"
   ],
   "id": "d1328f54ef391589",
   "outputs": [
    {
     "data": {
      "text/plain": [
       "10194.2333984375"
      ]
     },
     "execution_count": 38,
     "metadata": {},
     "output_type": "execute_result"
    }
   ],
   "execution_count": 38
  },
  {
   "metadata": {
    "ExecuteTime": {
     "end_time": "2025-07-08T15:06:15.672546Z",
     "start_time": "2025-07-08T15:06:15.669483Z"
    }
   },
   "cell_type": "code",
   "source": [
    "mean_llh_new = magma_neg_likelihood_new(mean_kern, all_inputs, post_mean, prior_mean, post_cov, None, nugget=nugget)\n",
    "mean_llh_new.item()"
   ],
   "id": "a6389ee3d91b9ab9",
   "outputs": [
    {
     "data": {
      "text/plain": [
       "10194.2333984375"
      ]
     },
     "execution_count": 39,
     "metadata": {},
     "output_type": "execute_result"
    }
   ],
   "execution_count": 39
  },
  {
   "metadata": {
    "ExecuteTime": {
     "end_time": "2025-07-08T15:06:15.733239Z",
     "start_time": "2025-07-08T15:06:15.730706Z"
    }
   },
   "cell_type": "code",
   "source": "jnp.allclose(mean_llh_old, mean_llh_new)",
   "id": "97229429cd161461",
   "outputs": [
    {
     "data": {
      "text/plain": [
       "Array(True, dtype=bool)"
      ]
     },
     "execution_count": 40,
     "metadata": {},
     "output_type": "execute_result"
    }
   ],
   "execution_count": 40
  },
  {
   "metadata": {
    "ExecuteTime": {
     "end_time": "2025-07-08T15:06:17.791248Z",
     "start_time": "2025-07-08T15:06:15.774947Z"
    }
   },
   "cell_type": "code",
   "source": "%timeit magma_neg_likelihood_old(mean_kern, all_inputs, post_mean, prior_mean, post_cov, None, nugget=nugget).block_until_ready()",
   "id": "96d9311014b08f6b",
   "outputs": [
    {
     "name": "stdout",
     "output_type": "stream",
     "text": [
      "244 μs ± 3.3 μs per loop (mean ± std. dev. of 7 runs, 1,000 loops each)\n"
     ]
    }
   ],
   "execution_count": 41
  },
  {
   "metadata": {
    "ExecuteTime": {
     "end_time": "2025-07-08T15:06:19.814072Z",
     "start_time": "2025-07-08T15:06:17.811829Z"
    }
   },
   "cell_type": "code",
   "source": "%timeit magma_neg_likelihood_new(mean_kern, all_inputs, post_mean, prior_mean, post_cov, None, nugget=nugget).block_until_ready()",
   "id": "4a0b40bf6fb2b5e8",
   "outputs": [
    {
     "name": "stdout",
     "output_type": "stream",
     "text": [
      "243 μs ± 5.56 μs per loop (mean ± std. dev. of 7 runs, 1,000 loops each)\n"
     ]
    }
   ],
   "execution_count": 42
  },
  {
   "metadata": {
    "ExecuteTime": {
     "end_time": "2025-07-08T15:06:19.853582Z",
     "start_time": "2025-07-08T15:06:19.826294Z"
    }
   },
   "cell_type": "code",
   "source": [
    "task_llhs_old = magma_neg_likelihood_old(task_kern, padded_inputs, padded_outputs.squeeze(), post_mean, post_cov, mappings, nugget=nugget)\n",
    "np.asarray(task_llhs_old)"
   ],
   "id": "16166848d719c4cd",
   "outputs": [
    {
     "data": {
      "text/plain": [
       "array([368.95862, 350.5709 , 384.86948, 353.88013, 380.0682 , 358.41782,\n",
       "       357.35513, 353.2122 , 353.47562, 372.60168, 361.04303, 354.94748,\n",
       "       377.4451 , 354.9243 , 357.47787, 357.51254, 366.8542 , 358.49026,\n",
       "       368.32343, 366.5707 , 350.92822, 355.50162, 356.96152, 363.69498,\n",
       "       359.6304 , 356.46902, 368.06277, 363.49258, 353.89468, 351.7763 ,\n",
       "       371.23563, 355.09842, 360.22958, 363.93686, 357.47513, 358.38312,\n",
       "       363.08444, 366.7314 , 352.72983, 361.117  , 354.43442, 353.285  ,\n",
       "       351.80478, 354.34006, 360.6326 , 357.77896, 358.61356, 352.2974 ,\n",
       "       363.70712, 360.25967, 359.95428, 358.1223 , 358.04218, 361.2101 ,\n",
       "       359.2108 , 366.46176, 351.2713 , 362.37592, 363.10132, 356.16336,\n",
       "       355.89346, 373.53323, 358.27518, 358.0164 , 357.06   , 368.3975 ,\n",
       "       359.00458, 354.35678, 373.04636, 351.7203 , 362.15994, 374.7101 ,\n",
       "       355.917  , 351.41705, 366.3649 , 358.41385, 362.53186, 359.20724,\n",
       "       370.32977, 375.80643, 357.18503, 362.45016, 370.05966, 358.73093,\n",
       "       357.16925, 364.0908 , 352.34238, 358.0247 , 366.47614, 354.22318,\n",
       "       355.5209 , 354.6633 , 360.53027, 352.18735, 353.0278 , 362.37552,\n",
       "       361.0582 , 380.51535, 362.49106, 360.1241 , 355.58203, 354.7485 ,\n",
       "       363.70486, 351.40073, 359.97064, 356.22726, 357.30228, 367.80182,\n",
       "       350.76   , 361.03958, 368.33917, 354.86014, 360.37314, 368.44757,\n",
       "       356.3394 , 367.92148, 362.1665 , 369.06027, 368.34167, 369.5643 ,\n",
       "       366.6531 , 349.23166, 357.66635, 351.99103, 355.2259 , 365.39444,\n",
       "       360.91284, 370.212  , 371.365  , 364.5554 , 356.57062, 361.0505 ,\n",
       "       352.62088, 367.0106 , 357.36472, 354.93027, 358.04044, 356.6465 ,\n",
       "       354.08987, 352.49332, 355.7426 , 357.81607, 357.39517, 354.0834 ,\n",
       "       365.91943, 350.5648 , 355.30435, 357.78256, 354.84116, 353.2197 ,\n",
       "       367.1971 , 372.10464, 361.64157, 366.82153, 356.84567, 370.1843 ,\n",
       "       366.14377, 357.00955, 352.40482, 364.95847, 366.1837 , 364.28284,\n",
       "       370.84186, 359.99002, 356.5926 , 350.56595, 351.10385, 362.05344,\n",
       "       355.44855, 366.2462 , 354.04147, 355.69254, 355.8463 , 360.37173,\n",
       "       352.17258, 357.6133 , 360.25385, 360.82974, 357.251  , 362.01883,\n",
       "       367.03275, 348.624  , 371.89224, 364.45316, 359.99832, 354.11508,\n",
       "       356.99384, 376.0167 , 374.2698 , 361.08893, 360.8988 , 357.20123,\n",
       "       355.72977, 363.47742, 366.97452, 366.01065, 351.5762 , 354.2974 ,\n",
       "       352.96497, 365.43427], dtype=float32)"
      ]
     },
     "execution_count": 43,
     "metadata": {},
     "output_type": "execute_result"
    }
   ],
   "execution_count": 43
  },
  {
   "metadata": {
    "ExecuteTime": {
     "end_time": "2025-07-08T15:06:19.953551Z",
     "start_time": "2025-07-08T15:06:19.927718Z"
    }
   },
   "cell_type": "code",
   "source": [
    "task_llhs_new = magma_neg_likelihood_new(task_kern, padded_inputs, padded_outputs, post_mean, post_cov, mappings, nugget=nugget)\n",
    "np.asarray(task_llhs_new)"
   ],
   "id": "4a6803dcd9043ac0",
   "outputs": [
    {
     "data": {
      "text/plain": [
       "array([368.95862, 350.5709 , 384.86948, 353.88013, 380.0682 , 358.41782,\n",
       "       357.35513, 353.2122 , 353.47562, 372.60168, 361.04303, 354.94748,\n",
       "       377.4451 , 354.9243 , 357.47787, 357.51254, 366.8542 , 358.49026,\n",
       "       368.32343, 366.5707 , 350.92822, 355.50162, 356.96152, 363.69498,\n",
       "       359.6304 , 356.46902, 368.06277, 363.49258, 353.89468, 351.7763 ,\n",
       "       371.23563, 355.09842, 360.22958, 363.93686, 357.47513, 358.38312,\n",
       "       363.08444, 366.7314 , 352.72983, 361.117  , 354.43442, 353.285  ,\n",
       "       351.80478, 354.34006, 360.6326 , 357.77896, 358.61356, 352.2974 ,\n",
       "       363.70712, 360.25967, 359.95428, 358.1223 , 358.04218, 361.2101 ,\n",
       "       359.2108 , 366.46176, 351.2713 , 362.37592, 363.10132, 356.16336,\n",
       "       355.89346, 373.53323, 358.27518, 358.0164 , 357.06   , 368.3975 ,\n",
       "       359.00458, 354.35678, 373.04636, 351.7203 , 362.15994, 374.7101 ,\n",
       "       355.917  , 351.41705, 366.3649 , 358.41385, 362.53186, 359.20724,\n",
       "       370.32977, 375.80643, 357.18503, 362.45016, 370.05966, 358.73093,\n",
       "       357.16925, 364.0908 , 352.34238, 358.0247 , 366.47614, 354.22318,\n",
       "       355.5209 , 354.6633 , 360.53027, 352.18735, 353.0278 , 362.37552,\n",
       "       361.0582 , 380.51535, 362.49106, 360.1241 , 355.58203, 354.7485 ,\n",
       "       363.70486, 351.40073, 359.97064, 356.22726, 357.30228, 367.80182,\n",
       "       350.76   , 361.03958, 368.33917, 354.86014, 360.37314, 368.44757,\n",
       "       356.3394 , 367.92148, 362.1665 , 369.06027, 368.34167, 369.5643 ,\n",
       "       366.6531 , 349.23166, 357.66635, 351.99103, 355.2259 , 365.39444,\n",
       "       360.91284, 370.212  , 371.365  , 364.5554 , 356.57062, 361.0505 ,\n",
       "       352.62088, 367.0106 , 357.36472, 354.93027, 358.04044, 356.6465 ,\n",
       "       354.08987, 352.49332, 355.7426 , 357.81607, 357.39517, 354.0834 ,\n",
       "       365.91943, 350.5648 , 355.30435, 357.78256, 354.84116, 353.2197 ,\n",
       "       367.1971 , 372.10464, 361.64157, 366.82153, 356.84567, 370.1843 ,\n",
       "       366.14377, 357.00955, 352.40482, 364.95847, 366.1837 , 364.28284,\n",
       "       370.84186, 359.99002, 356.5926 , 350.56595, 351.10385, 362.05344,\n",
       "       355.44855, 366.2462 , 354.04147, 355.69254, 355.8463 , 360.37173,\n",
       "       352.17258, 357.6133 , 360.25385, 360.82974, 357.251  , 362.01883,\n",
       "       367.03275, 348.624  , 371.89224, 364.45316, 359.99832, 354.11508,\n",
       "       356.99384, 376.0167 , 374.2698 , 361.08893, 360.8988 , 357.20123,\n",
       "       355.72977, 363.47742, 366.97452, 366.01065, 351.5762 , 354.2974 ,\n",
       "       352.96497, 365.43427], dtype=float32)"
      ]
     },
     "execution_count": 44,
     "metadata": {},
     "output_type": "execute_result"
    }
   ],
   "execution_count": 44
  },
  {
   "metadata": {
    "ExecuteTime": {
     "end_time": "2025-07-08T15:06:19.971078Z",
     "start_time": "2025-07-08T15:06:19.968625Z"
    }
   },
   "cell_type": "code",
   "source": "jnp.allclose(task_llhs_old, task_llhs_new)",
   "id": "d73de261b44d3a4b",
   "outputs": [
    {
     "data": {
      "text/plain": [
       "Array(True, dtype=bool)"
      ]
     },
     "execution_count": 45,
     "metadata": {},
     "output_type": "execute_result"
    }
   ],
   "execution_count": 45
  },
  {
   "metadata": {
    "ExecuteTime": {
     "end_time": "2025-07-08T15:06:21.728994Z",
     "start_time": "2025-07-08T15:06:19.995672Z"
    }
   },
   "cell_type": "code",
   "source": "%timeit magma_neg_likelihood_old(task_kern, padded_inputs, padded_outputs.squeeze(), post_mean, post_cov, mappings, nugget=nugget)[0].block_until_ready()",
   "id": "6ed5dc7f0e12d0bd",
   "outputs": [
    {
     "name": "stdout",
     "output_type": "stream",
     "text": [
      "21.3 ms ± 281 μs per loop (mean ± std. dev. of 7 runs, 10 loops each)\n"
     ]
    }
   ],
   "execution_count": 46
  },
  {
   "metadata": {
    "ExecuteTime": {
     "end_time": "2025-07-08T15:06:23.462211Z",
     "start_time": "2025-07-08T15:06:21.741563Z"
    }
   },
   "cell_type": "code",
   "source": "%timeit magma_neg_likelihood_new(task_kern, padded_inputs, padded_outputs, post_mean, post_cov, mappings, nugget=nugget)[0].block_until_ready()",
   "id": "6e140515447e2331",
   "outputs": [
    {
     "name": "stdout",
     "output_type": "stream",
     "text": [
      "21.2 ms ± 280 μs per loop (mean ± std. dev. of 7 runs, 10 loops each)\n"
     ]
    }
   ],
   "execution_count": 47
  },
  {
   "metadata": {},
   "cell_type": "markdown",
   "source": "### Distinct Input, shared HP",
   "id": "2c8d6551fd15b40"
  },
  {
   "metadata": {
    "ExecuteTime": {
     "end_time": "2025-07-08T15:06:23.860216Z",
     "start_time": "2025-07-08T15:06:23.475496Z"
    }
   },
   "cell_type": "code",
   "source": [
    "db = pd.read_csv(f\"../datasets/{test_db_size}_distinct_input_shared_hp.csv\")\n",
    "\n",
    "padded_inputs, padded_outputs, mappings, all_inputs = preprocess_db(db)\n",
    "\n",
    "prior_mean = jnp.array(0)\n",
    "all_inputs.shape, padded_inputs.shape"
   ],
   "id": "86f86b36fc853bf0",
   "outputs": [
    {
     "data": {
      "text/plain": [
       "((401, 1), (200, 190, 1))"
      ]
     },
     "execution_count": 48,
     "metadata": {},
     "output_type": "execute_result"
    }
   ],
   "execution_count": 48
  },
  {
   "metadata": {
    "ExecuteTime": {
     "end_time": "2025-07-08T15:06:24.109966Z",
     "start_time": "2025-07-08T15:06:24.106661Z"
    }
   },
   "cell_type": "code",
   "source": [
    "mean_kern = SEMagmaKernel(length_scale=.3, variance=1.)\n",
    "task_kern = SEMagmaKernel(length_scale=.3, variance=1.) + DiagKernel(ExpKernel(2.5))"
   ],
   "id": "40bfc43614f84bdb",
   "outputs": [],
   "execution_count": 49
  },
  {
   "metadata": {
    "ExecuteTime": {
     "end_time": "2025-07-08T15:06:24.631508Z",
     "start_time": "2025-07-08T15:06:24.133375Z"
    }
   },
   "cell_type": "code",
   "source": [
    "post_mean, post_cov = hyperpost(padded_inputs, padded_outputs, mappings, prior_mean, mean_kern, task_kern, all_inputs=all_inputs, nugget=nugget)\n",
    "post_mean.shape, post_cov.shape"
   ],
   "id": "2b4adb5d1917ddb",
   "outputs": [
    {
     "data": {
      "text/plain": [
       "((401,), (401, 401))"
      ]
     },
     "execution_count": 50,
     "metadata": {},
     "output_type": "execute_result"
    }
   ],
   "execution_count": 50
  },
  {
   "metadata": {
    "ExecuteTime": {
     "end_time": "2025-07-08T15:06:24.826856Z",
     "start_time": "2025-07-08T15:06:24.738573Z"
    }
   },
   "cell_type": "code",
   "source": [
    "mean_llh_old = magma_neg_likelihood_old(mean_kern, all_inputs, post_mean, jnp.full(all_inputs.squeeze().shape, prior_mean), post_cov, None, nugget=nugget)\n",
    "mean_llh_old.item()"
   ],
   "id": "9c59470ffd2dd87c",
   "outputs": [
    {
     "data": {
      "text/plain": [
       "inf"
      ]
     },
     "execution_count": 51,
     "metadata": {},
     "output_type": "execute_result"
    }
   ],
   "execution_count": 51
  },
  {
   "metadata": {
    "ExecuteTime": {
     "end_time": "2025-07-08T15:06:24.911432Z",
     "start_time": "2025-07-08T15:06:24.841145Z"
    }
   },
   "cell_type": "code",
   "source": [
    "mean_llh_new = magma_neg_likelihood_new(mean_kern, all_inputs, post_mean, prior_mean, post_cov, None, nugget=nugget)\n",
    "mean_llh_new.item()"
   ],
   "id": "298b2d70af12c7d1",
   "outputs": [
    {
     "data": {
      "text/plain": [
       "inf"
      ]
     },
     "execution_count": 52,
     "metadata": {},
     "output_type": "execute_result"
    }
   ],
   "execution_count": 52
  },
  {
   "metadata": {
    "ExecuteTime": {
     "end_time": "2025-07-08T15:06:24.930075Z",
     "start_time": "2025-07-08T15:06:24.927649Z"
    }
   },
   "cell_type": "code",
   "source": "jnp.allclose(mean_llh_old, mean_llh_new)",
   "id": "dcc1177483cc4700",
   "outputs": [
    {
     "data": {
      "text/plain": [
       "Array(True, dtype=bool)"
      ]
     },
     "execution_count": 53,
     "metadata": {},
     "output_type": "execute_result"
    }
   ],
   "execution_count": 53
  },
  {
   "metadata": {
    "ExecuteTime": {
     "end_time": "2025-07-08T15:06:33.519136Z",
     "start_time": "2025-07-08T15:06:24.965676Z"
    }
   },
   "cell_type": "code",
   "source": "%timeit magma_neg_likelihood_old(mean_kern, all_inputs, post_mean, prior_mean, post_cov, None, nugget=nugget).block_until_ready()",
   "id": "4782dab8da71c08e",
   "outputs": [
    {
     "name": "stdout",
     "output_type": "stream",
     "text": [
      "1.04 ms ± 18.7 μs per loop (mean ± std. dev. of 7 runs, 1,000 loops each)\n"
     ]
    }
   ],
   "execution_count": 54
  },
  {
   "metadata": {
    "ExecuteTime": {
     "end_time": "2025-07-08T15:06:42.457946Z",
     "start_time": "2025-07-08T15:06:33.533428Z"
    }
   },
   "cell_type": "code",
   "source": "%timeit magma_neg_likelihood_new(mean_kern, all_inputs, post_mean, prior_mean, post_cov, None, nugget=nugget).block_until_ready()",
   "id": "bb09ce827beae5cb",
   "outputs": [
    {
     "name": "stdout",
     "output_type": "stream",
     "text": [
      "1.11 ms ± 92.2 μs per loop (mean ± std. dev. of 7 runs, 1,000 loops each)\n"
     ]
    }
   ],
   "execution_count": 55
  },
  {
   "metadata": {
    "ExecuteTime": {
     "end_time": "2025-07-08T15:06:42.712189Z",
     "start_time": "2025-07-08T15:06:42.472916Z"
    }
   },
   "cell_type": "code",
   "source": [
    "task_llhs_old = magma_neg_likelihood_old(task_kern, padded_inputs, padded_outputs.squeeze(), post_mean, post_cov, mappings, nugget=nugget)\n",
    "np.asarray(task_llhs_old)"
   ],
   "id": "2ef2072460355d1a",
   "outputs": [
    {
     "data": {
      "text/plain": [
       "array([inf, inf, inf, inf, inf, inf, inf, inf, inf, inf, inf, inf, inf,\n",
       "       inf, inf, inf, inf, inf, inf, inf, inf, inf, inf, inf, inf, inf,\n",
       "       inf, inf, inf, inf, inf, inf, inf, inf, inf, inf, inf, inf, inf,\n",
       "       inf, inf, inf, inf, inf, inf, inf, inf, inf, inf, inf, inf, inf,\n",
       "       inf, inf, inf, inf, inf, inf, inf, inf, inf, inf, inf, inf, inf,\n",
       "       inf, inf, inf, inf, inf, inf, inf, inf, inf, inf, inf, inf, inf,\n",
       "       inf, inf, inf, inf, inf, inf, inf, inf, inf, inf, inf, inf, inf,\n",
       "       inf, inf, inf, inf, inf, inf, inf, inf, inf, inf, inf, inf, inf,\n",
       "       inf, inf, inf, inf, inf, inf, inf, inf, inf, inf, inf, inf, inf,\n",
       "       inf, inf, inf, inf, inf, inf, inf, inf, inf, inf, inf, inf, inf,\n",
       "       inf, inf, inf, inf, inf, inf, inf, inf, inf, inf, inf, inf, inf,\n",
       "       inf, inf, inf, inf, inf, inf, inf, inf, inf, inf, inf, inf, inf,\n",
       "       inf, inf, inf, inf, inf, inf, inf, inf, inf, inf, inf, inf, inf,\n",
       "       inf, inf, inf, inf, inf, inf, inf, inf, inf, inf, inf, inf, inf,\n",
       "       inf, inf, inf, inf, inf, inf, inf, inf, inf, inf, inf, inf, inf,\n",
       "       inf, inf, inf, inf, inf], dtype=float32)"
      ]
     },
     "execution_count": 56,
     "metadata": {},
     "output_type": "execute_result"
    }
   ],
   "execution_count": 56
  },
  {
   "metadata": {
    "ExecuteTime": {
     "end_time": "2025-07-08T15:06:42.889074Z",
     "start_time": "2025-07-08T15:06:42.729518Z"
    }
   },
   "cell_type": "code",
   "source": [
    "task_llhs_new = magma_neg_likelihood_new(task_kern, padded_inputs, padded_outputs, post_mean, post_cov, mappings, nugget=nugget)\n",
    "np.asarray(task_llhs_new)"
   ],
   "id": "527a03e95b6f8c0a",
   "outputs": [
    {
     "data": {
      "text/plain": [
       "array([inf, inf, inf, inf, inf, inf, inf, inf, inf, inf, inf, inf, inf,\n",
       "       inf, inf, inf, inf, inf, inf, inf, inf, inf, inf, inf, inf, inf,\n",
       "       inf, inf, inf, inf, inf, inf, inf, inf, inf, inf, inf, inf, inf,\n",
       "       inf, inf, inf, inf, inf, inf, inf, inf, inf, inf, inf, inf, inf,\n",
       "       inf, inf, inf, inf, inf, inf, inf, inf, inf, inf, inf, inf, inf,\n",
       "       inf, inf, inf, inf, inf, inf, inf, inf, inf, inf, inf, inf, inf,\n",
       "       inf, inf, inf, inf, inf, inf, inf, inf, inf, inf, inf, inf, inf,\n",
       "       inf, inf, inf, inf, inf, inf, inf, inf, inf, inf, inf, inf, inf,\n",
       "       inf, inf, inf, inf, inf, inf, inf, inf, inf, inf, inf, inf, inf,\n",
       "       inf, inf, inf, inf, inf, inf, inf, inf, inf, inf, inf, inf, inf,\n",
       "       inf, inf, inf, inf, inf, inf, inf, inf, inf, inf, inf, inf, inf,\n",
       "       inf, inf, inf, inf, inf, inf, inf, inf, inf, inf, inf, inf, inf,\n",
       "       inf, inf, inf, inf, inf, inf, inf, inf, inf, inf, inf, inf, inf,\n",
       "       inf, inf, inf, inf, inf, inf, inf, inf, inf, inf, inf, inf, inf,\n",
       "       inf, inf, inf, inf, inf, inf, inf, inf, inf, inf, inf, inf, inf,\n",
       "       inf, inf, inf, inf, inf], dtype=float32)"
      ]
     },
     "execution_count": 57,
     "metadata": {},
     "output_type": "execute_result"
    }
   ],
   "execution_count": 57
  },
  {
   "metadata": {
    "ExecuteTime": {
     "end_time": "2025-07-08T15:06:42.907071Z",
     "start_time": "2025-07-08T15:06:42.904111Z"
    }
   },
   "cell_type": "code",
   "source": "jnp.allclose(task_llhs_old, task_llhs_new)",
   "id": "e55e7a4ddc2d106c",
   "outputs": [
    {
     "data": {
      "text/plain": [
       "Array(True, dtype=bool)"
      ]
     },
     "execution_count": 58,
     "metadata": {},
     "output_type": "execute_result"
    }
   ],
   "execution_count": 58
  },
  {
   "metadata": {
    "ExecuteTime": {
     "end_time": "2025-07-08T15:06:45.767371Z",
     "start_time": "2025-07-08T15:06:42.934602Z"
    }
   },
   "cell_type": "code",
   "source": "%timeit magma_neg_likelihood_old(task_kern, padded_inputs, padded_outputs.squeeze(), post_mean, post_cov, mappings, nugget=nugget)[0].block_until_ready()",
   "id": "86502973d22247ff",
   "outputs": [
    {
     "name": "stdout",
     "output_type": "stream",
     "text": [
      "34.6 ms ± 779 μs per loop (mean ± std. dev. of 7 runs, 10 loops each)\n"
     ]
    }
   ],
   "execution_count": 59
  },
  {
   "metadata": {
    "ExecuteTime": {
     "end_time": "2025-07-08T15:06:48.666225Z",
     "start_time": "2025-07-08T15:06:45.783861Z"
    }
   },
   "cell_type": "code",
   "source": "%timeit magma_neg_likelihood_new(task_kern, padded_inputs, padded_outputs, post_mean, post_cov, mappings, nugget=nugget)[0].block_until_ready()",
   "id": "2204b960eb92c770",
   "outputs": [
    {
     "name": "stdout",
     "output_type": "stream",
     "text": [
      "35.6 ms ± 2.28 ms per loop (mean ± std. dev. of 7 runs, 10 loops each)\n"
     ]
    }
   ],
   "execution_count": 60
  },
  {
   "metadata": {},
   "cell_type": "markdown",
   "source": "### Distinct Input, Distinct HP",
   "id": "c55c56f723318753"
  },
  {
   "metadata": {
    "ExecuteTime": {
     "end_time": "2025-07-08T15:06:49.000472Z",
     "start_time": "2025-07-08T15:06:48.680907Z"
    }
   },
   "cell_type": "code",
   "source": [
    "db = pd.read_csv(f\"../datasets/{test_db_size}_distinct_input_distinct_hp.csv\")\n",
    "\n",
    "padded_inputs, padded_outputs, mappings, all_inputs = preprocess_db(db)\n",
    "\n",
    "prior_mean = jnp.array(0)\n",
    "all_inputs.shape, padded_inputs.shape"
   ],
   "id": "dc7c16034b3d9c84",
   "outputs": [
    {
     "data": {
      "text/plain": [
       "((401, 1), (200, 188, 1))"
      ]
     },
     "execution_count": 61,
     "metadata": {},
     "output_type": "execute_result"
    }
   ],
   "execution_count": 61
  },
  {
   "metadata": {
    "ExecuteTime": {
     "end_time": "2025-07-08T15:06:49.274693Z",
     "start_time": "2025-07-08T15:06:49.270646Z"
    }
   },
   "cell_type": "code",
   "source": [
    "mean_kern = SEMagmaKernel(length_scale=.3, variance=1.)\n",
    "\n",
    "key, subkey = jax.random.split(key)\n",
    "distinct_length_scales = jax.random.uniform(subkey, (padded_outputs.shape[0],), jnp.float32, .1, 1)\n",
    "task_kern = SEMagmaKernel(length_scale=.3, variance=1.) + DiagKernel(ExpKernel(2.5))"
   ],
   "id": "eaa87dfb69133e9e",
   "outputs": [],
   "execution_count": 62
  },
  {
   "metadata": {
    "ExecuteTime": {
     "end_time": "2025-07-08T15:06:49.524199Z",
     "start_time": "2025-07-08T15:06:49.305361Z"
    }
   },
   "cell_type": "code",
   "source": [
    "post_mean, post_cov = hyperpost(padded_inputs, padded_outputs, mappings, prior_mean, mean_kern, task_kern, all_inputs=all_inputs, nugget=nugget)\n",
    "post_mean.shape, post_cov.shape"
   ],
   "id": "6a3c6118b613c760",
   "outputs": [
    {
     "data": {
      "text/plain": [
       "((401,), (401, 401))"
      ]
     },
     "execution_count": 63,
     "metadata": {},
     "output_type": "execute_result"
    }
   ],
   "execution_count": 63
  },
  {
   "metadata": {
    "ExecuteTime": {
     "end_time": "2025-07-08T15:06:49.647901Z",
     "start_time": "2025-07-08T15:06:49.640176Z"
    }
   },
   "cell_type": "code",
   "source": [
    "mean_llh_old = magma_neg_likelihood_old(mean_kern, all_inputs, post_mean, jnp.full(all_inputs.squeeze().shape, prior_mean), post_cov, None, nugget=nugget)\n",
    "mean_llh_old.item()"
   ],
   "id": "540eff82a63072a1",
   "outputs": [
    {
     "data": {
      "text/plain": [
       "inf"
      ]
     },
     "execution_count": 64,
     "metadata": {},
     "output_type": "execute_result"
    }
   ],
   "execution_count": 64
  },
  {
   "metadata": {
    "ExecuteTime": {
     "end_time": "2025-07-08T15:06:49.685389Z",
     "start_time": "2025-07-08T15:06:49.680840Z"
    }
   },
   "cell_type": "code",
   "source": [
    "mean_llh_new = magma_neg_likelihood_new(mean_kern, all_inputs, post_mean, prior_mean, post_cov, None, nugget=nugget)\n",
    "mean_llh_new.item()"
   ],
   "id": "7dca36ec16c62b8d",
   "outputs": [
    {
     "data": {
      "text/plain": [
       "inf"
      ]
     },
     "execution_count": 65,
     "metadata": {},
     "output_type": "execute_result"
    }
   ],
   "execution_count": 65
  },
  {
   "metadata": {
    "ExecuteTime": {
     "end_time": "2025-07-08T15:06:49.715859Z",
     "start_time": "2025-07-08T15:06:49.712229Z"
    }
   },
   "cell_type": "code",
   "source": "jnp.allclose(mean_llh_old, mean_llh_new)",
   "id": "37dd1f93ff2dee25",
   "outputs": [
    {
     "data": {
      "text/plain": [
       "Array(True, dtype=bool)"
      ]
     },
     "execution_count": 66,
     "metadata": {},
     "output_type": "execute_result"
    }
   ],
   "execution_count": 66
  },
  {
   "metadata": {
    "ExecuteTime": {
     "end_time": "2025-07-08T15:06:58.113195Z",
     "start_time": "2025-07-08T15:06:49.738662Z"
    }
   },
   "cell_type": "code",
   "source": "%timeit magma_neg_likelihood_old(mean_kern, all_inputs, post_mean, prior_mean, post_cov, None, nugget=nugget).block_until_ready()",
   "id": "38057214aa293972",
   "outputs": [
    {
     "name": "stdout",
     "output_type": "stream",
     "text": [
      "1.03 ms ± 8.77 μs per loop (mean ± std. dev. of 7 runs, 1,000 loops each)\n"
     ]
    }
   ],
   "execution_count": 67
  },
  {
   "metadata": {
    "ExecuteTime": {
     "end_time": "2025-07-08T15:07:08.194810Z",
     "start_time": "2025-07-08T15:06:58.125913Z"
    }
   },
   "cell_type": "code",
   "source": "%timeit magma_neg_likelihood_new(mean_kern, all_inputs, post_mean, prior_mean, post_cov, None, nugget=nugget).block_until_ready()",
   "id": "76ebb22c7f262518",
   "outputs": [
    {
     "name": "stdout",
     "output_type": "stream",
     "text": [
      "1.27 ms ± 318 μs per loop (mean ± std. dev. of 7 runs, 1,000 loops each)\n"
     ]
    }
   ],
   "execution_count": 68
  },
  {
   "metadata": {
    "ExecuteTime": {
     "end_time": "2025-07-08T15:07:08.411497Z",
     "start_time": "2025-07-08T15:07:08.213205Z"
    }
   },
   "cell_type": "code",
   "source": [
    "task_llhs_old = magma_neg_likelihood_old(task_kern, padded_inputs, padded_outputs.squeeze(), post_mean, post_cov, mappings, nugget=nugget)\n",
    "np.asarray(task_llhs_old)"
   ],
   "id": "c6108c40e10c2538",
   "outputs": [
    {
     "data": {
      "text/plain": [
       "array([inf, inf, inf, inf, inf, inf, inf, inf, inf, inf, inf, inf, inf,\n",
       "       inf, inf, inf, inf, inf, inf, inf, inf, inf, inf, inf, inf, inf,\n",
       "       inf, inf, inf, inf, inf, inf, inf, inf, inf, inf, inf, inf, inf,\n",
       "       inf, inf, inf, inf, inf, inf, inf, inf, inf, inf, inf, inf, inf,\n",
       "       inf, inf, inf, inf, inf, inf, inf, inf, inf, inf, inf, inf, inf,\n",
       "       inf, inf, inf, inf, inf, inf, inf, inf, inf, inf, inf, inf, inf,\n",
       "       inf, inf, inf, inf, inf, inf, inf, inf, inf, inf, inf, inf, inf,\n",
       "       inf, inf, inf, inf, inf, inf, inf, inf, inf, inf, inf, inf, inf,\n",
       "       inf, inf, inf, inf, inf, inf, inf, inf, inf, inf, inf, inf, inf,\n",
       "       inf, inf, inf, inf, inf, inf, inf, inf, inf, inf, inf, inf, inf,\n",
       "       inf, inf, inf, inf, inf, inf, inf, inf, inf, inf, inf, inf, inf,\n",
       "       inf, inf, inf, inf, inf, inf, inf, inf, inf, inf, inf, inf, inf,\n",
       "       inf, inf, inf, inf, inf, inf, inf, inf, inf, inf, inf, inf, inf,\n",
       "       inf, inf, inf, inf, inf, inf, inf, inf, inf, inf, inf, inf, inf,\n",
       "       inf, inf, inf, inf, inf, inf, inf, inf, inf, inf, inf, inf, inf,\n",
       "       inf, inf, inf, inf, inf], dtype=float32)"
      ]
     },
     "execution_count": 69,
     "metadata": {},
     "output_type": "execute_result"
    }
   ],
   "execution_count": 69
  },
  {
   "metadata": {
    "ExecuteTime": {
     "end_time": "2025-07-08T15:07:08.577844Z",
     "start_time": "2025-07-08T15:07:08.422990Z"
    }
   },
   "cell_type": "code",
   "source": [
    "task_llhs_new = magma_neg_likelihood_new(task_kern, padded_inputs, padded_outputs, post_mean, post_cov, mappings, nugget=nugget)\n",
    "np.asarray(task_llhs_new)"
   ],
   "id": "6c1a73c0bad56762",
   "outputs": [
    {
     "data": {
      "text/plain": [
       "array([inf, inf, inf, inf, inf, inf, inf, inf, inf, inf, inf, inf, inf,\n",
       "       inf, inf, inf, inf, inf, inf, inf, inf, inf, inf, inf, inf, inf,\n",
       "       inf, inf, inf, inf, inf, inf, inf, inf, inf, inf, inf, inf, inf,\n",
       "       inf, inf, inf, inf, inf, inf, inf, inf, inf, inf, inf, inf, inf,\n",
       "       inf, inf, inf, inf, inf, inf, inf, inf, inf, inf, inf, inf, inf,\n",
       "       inf, inf, inf, inf, inf, inf, inf, inf, inf, inf, inf, inf, inf,\n",
       "       inf, inf, inf, inf, inf, inf, inf, inf, inf, inf, inf, inf, inf,\n",
       "       inf, inf, inf, inf, inf, inf, inf, inf, inf, inf, inf, inf, inf,\n",
       "       inf, inf, inf, inf, inf, inf, inf, inf, inf, inf, inf, inf, inf,\n",
       "       inf, inf, inf, inf, inf, inf, inf, inf, inf, inf, inf, inf, inf,\n",
       "       inf, inf, inf, inf, inf, inf, inf, inf, inf, inf, inf, inf, inf,\n",
       "       inf, inf, inf, inf, inf, inf, inf, inf, inf, inf, inf, inf, inf,\n",
       "       inf, inf, inf, inf, inf, inf, inf, inf, inf, inf, inf, inf, inf,\n",
       "       inf, inf, inf, inf, inf, inf, inf, inf, inf, inf, inf, inf, inf,\n",
       "       inf, inf, inf, inf, inf, inf, inf, inf, inf, inf, inf, inf, inf,\n",
       "       inf, inf, inf, inf, inf], dtype=float32)"
      ]
     },
     "execution_count": 70,
     "metadata": {},
     "output_type": "execute_result"
    }
   ],
   "execution_count": 70
  },
  {
   "metadata": {
    "ExecuteTime": {
     "end_time": "2025-07-08T15:07:08.609804Z",
     "start_time": "2025-07-08T15:07:08.606344Z"
    }
   },
   "cell_type": "code",
   "source": "jnp.allclose(task_llhs_old, task_llhs_new)",
   "id": "13c230e0fbe7bad9",
   "outputs": [
    {
     "data": {
      "text/plain": [
       "Array(True, dtype=bool)"
      ]
     },
     "execution_count": 71,
     "metadata": {},
     "output_type": "execute_result"
    }
   ],
   "execution_count": 71
  },
  {
   "metadata": {
    "ExecuteTime": {
     "end_time": "2025-07-08T15:07:11.351209Z",
     "start_time": "2025-07-08T15:07:08.624245Z"
    }
   },
   "cell_type": "code",
   "source": "%timeit magma_neg_likelihood_old(task_kern, padded_inputs, padded_outputs.squeeze(), post_mean, post_cov, mappings, nugget=nugget)[0].block_until_ready()",
   "id": "bc005ebe85304a57",
   "outputs": [
    {
     "name": "stdout",
     "output_type": "stream",
     "text": [
      "33.5 ms ± 1.97 ms per loop (mean ± std. dev. of 7 runs, 10 loops each)\n"
     ]
    }
   ],
   "execution_count": 72
  },
  {
   "metadata": {
    "ExecuteTime": {
     "end_time": "2025-07-08T15:07:14.299320Z",
     "start_time": "2025-07-08T15:07:11.364793Z"
    }
   },
   "cell_type": "code",
   "source": "%timeit magma_neg_likelihood_new(task_kern, padded_inputs, padded_outputs, post_mean, post_cov, mappings, nugget=nugget)[0].block_until_ready()",
   "id": "11ba9f3164f2342d",
   "outputs": [
    {
     "name": "stdout",
     "output_type": "stream",
     "text": [
      "36.6 ms ± 4.39 ms per loop (mean ± std. dev. of 7 runs, 10 loops each)\n"
     ]
    }
   ],
   "execution_count": 73
  },
  {
   "metadata": {},
   "cell_type": "markdown",
   "source": "---",
   "id": "f18216d93ddcf3af"
  },
  {
   "metadata": {
    "ExecuteTime": {
     "end_time": "2025-07-08T15:07:14.323106Z",
     "start_time": "2025-07-08T15:07:14.321628Z"
    }
   },
   "cell_type": "code",
   "source": "",
   "id": "3c2e9d66247af81b",
   "outputs": [],
   "execution_count": null
  }
 ],
 "metadata": {
  "kernelspec": {
   "display_name": "Python 3",
   "language": "python",
   "name": "python3"
  },
  "language_info": {
   "codemirror_mode": {
    "name": "ipython",
    "version": 2
   },
   "file_extension": ".py",
   "mimetype": "text/x-python",
   "name": "python",
   "nbconvert_exporter": "python",
   "pygments_lexer": "ipython2",
   "version": "2.7.6"
  }
 },
 "nbformat": 4,
 "nbformat_minor": 5
}
