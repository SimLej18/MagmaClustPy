{
 "cells": [
  {
   "metadata": {},
   "cell_type": "markdown",
   "source": [
    "# Benchmarks - Likelihoods\n",
    "\n",
    "**Main considerations when implementing Likelihoods**\n",
    "- must be efficient, as they are used in the main bottleneck of the code: HP optimisation\n",
    "- must work for both shared and distinct HPs"
   ],
   "id": "f69390d194b35b0a"
  },
  {
   "metadata": {},
   "cell_type": "markdown",
   "source": [
    "---\n",
    "## Setup"
   ],
   "id": "4763c6a1086dfd7a"
  },
  {
   "metadata": {
    "ExecuteTime": {
     "end_time": "2025-07-07T10:10:46.283049Z",
     "start_time": "2025-07-07T10:10:45.942584Z"
    }
   },
   "cell_type": "code",
   "source": [
    "# Standard library\n",
    "import os\n",
    "\n",
    "from MagmaClustPy.likelihoods import magma_neg_likelihood_on_cov\n",
    "\n",
    "os.environ['JAX_ENABLE_X64'] = \"True\""
   ],
   "id": "eb0046b46dc27950",
   "outputs": [],
   "execution_count": 1
  },
  {
   "metadata": {
    "ExecuteTime": {
     "end_time": "2025-07-07T10:10:46.527200Z",
     "start_time": "2025-07-07T10:10:46.363021Z"
    }
   },
   "cell_type": "code",
   "source": [
    "# Third party\n",
    "import jax\n",
    "import jax.numpy as jnp\n",
    "from jax import jit, vmap\n",
    "from jax.scipy.linalg import cho_factor, cho_solve\n",
    "from jax.scipy.stats.multivariate_normal import logpdf\n",
    "\n",
    "import pandas as pd\n",
    "import numpy as np"
   ],
   "id": "a1fe8b76912d6f2c",
   "outputs": [],
   "execution_count": 2
  },
  {
   "metadata": {
    "ExecuteTime": {
     "end_time": "2025-07-07T10:10:46.562695Z",
     "start_time": "2025-07-07T10:10:46.533153Z"
    }
   },
   "cell_type": "code",
   "source": [
    "# Local\n",
    "from MagmaClustPy.hyperpost import hyperpost\n",
    "from Kernax import SEMagmaKernel, NoisySEMagmaKernel\n",
    "from MagmaClustPy.utils import preprocess_db"
   ],
   "id": "4b255f340edfbe6f",
   "outputs": [],
   "execution_count": 3
  },
  {
   "metadata": {
    "ExecuteTime": {
     "end_time": "2025-07-07T10:10:46.571120Z",
     "start_time": "2025-07-07T10:10:46.568666Z"
    }
   },
   "cell_type": "code",
   "source": [
    "# Config\n",
    "nugget=jnp.array(1e-4)"
   ],
   "id": "3180afa8778f9553",
   "outputs": [],
   "execution_count": 4
  },
  {
   "metadata": {},
   "cell_type": "markdown",
   "source": [
    "---\n",
    "## Data"
   ],
   "id": "190fcef7dd61821b"
  },
  {
   "metadata": {
    "ExecuteTime": {
     "end_time": "2025-07-07T10:10:46.586048Z",
     "start_time": "2025-07-07T10:10:46.582851Z"
    }
   },
   "cell_type": "code",
   "source": [
    "test_db_size = \"medium\"\n",
    "key = jax.random.PRNGKey(42)"
   ],
   "id": "b36bdb0b6080e935",
   "outputs": [],
   "execution_count": 5
  },
  {
   "metadata": {},
   "cell_type": "markdown",
   "source": [
    "---\n",
    "## Current implementation"
   ],
   "id": "bffd41fea2028bdb"
  },
  {
   "metadata": {
    "ExecuteTime": {
     "end_time": "2025-07-07T10:10:46.605564Z",
     "start_time": "2025-07-07T10:10:46.602515Z"
    }
   },
   "cell_type": "code",
   "source": [
    "import MagmaClustPy\n",
    "\n",
    "magma_neg_likelihood_old = MagmaClustPy.likelihoods.magma_neg_likelihood\n",
    "magma_neg_likelihood_on_cov_old = MagmaClustPy.likelihoods.magma_neg_likelihood_on_cov"
   ],
   "id": "6b7e730087bbca42",
   "outputs": [],
   "execution_count": 6
  },
  {
   "metadata": {},
   "cell_type": "markdown",
   "source": [
    "---\n",
    "## Custom implementation(s)"
   ],
   "id": "c7496288f6ddf25f"
  },
  {
   "metadata": {
    "ExecuteTime": {
     "end_time": "2025-07-07T10:10:46.629540Z",
     "start_time": "2025-07-07T10:10:46.623283Z"
    }
   },
   "cell_type": "code",
   "source": [
    "import jax.numpy as jnp\n",
    "from jax import jit, vmap\n",
    "from jax.scipy.stats.multivariate_normal import logpdf\n",
    "\n",
    "from MagmaClustPy.linalg import extract_from_full_array, extract_from_full_matrix, solve_right_cholesky\n",
    "\n",
    "\n",
    "@jit\n",
    "def magma_neg_likelihood_on_cov(covar, outputs, mean, mean_process_cov, mapping, nugget=jnp.array(1e-10)):\n",
    "\toutputs = outputs.ravel()  # For multi-output, we want to flatten the outputs.\n",
    "\tmean = mean.ravel()  # As the goal of likelihood is to see if the mean is close to the outputs, we want to flatten it too.\n",
    "\n",
    "\tnugget_matrix = jnp.eye(outputs.shape[0]) * nugget\n",
    "\n",
    "\teyed_covar = jnp.where(jnp.isnan(covar), jnp.eye(covar.shape[0]), covar)\n",
    "\tzeroed_outputs = jnp.nan_to_num(outputs)\n",
    "\tif mapping is not None:\n",
    "\t\tzeroed_mean = jnp.nan_to_num(extract_from_full_array(mean, outputs, mapping))\n",
    "\t\teyed_mean_cov = jnp.where(jnp.isnan(covar), jnp.eye(covar.shape[0]), extract_from_full_matrix(mean_process_cov, outputs, mapping))\n",
    "\telse:\n",
    "\t\tzeroed_mean = jnp.nan_to_num(mean)\n",
    "\t\teyed_mean_cov = jnp.where(jnp.isnan(covar), jnp.eye(covar.shape[0]), mean_process_cov)\n",
    "\n",
    "\n",
    "\t# Compute log-likelihood\n",
    "\tmultiv_neg_log_lik = -logpdf(zeroed_outputs, zeroed_mean, eyed_covar + nugget_matrix)\n",
    "\n",
    "\t# Compute correction term\n",
    "\tcorrection = 0.5 * jnp.trace(solve_right_cholesky(eyed_covar, eyed_mean_cov, nugget=nugget))\n",
    "\n",
    "\t# Compute padding corrections\n",
    "\t# The logpdf is computed as:\n",
    "\t# -0.5 * (N * log(2 * pi) + log(det(cov)) + (outputs - mean).T @ inv(cov) @ (outputs - mean))\n",
    "\t# det(cov) and the Mahalanobis distance are not affected by our padding\n",
    "\t# We only have to correct for the -0.5 * N * log(2 * pi) term, as N is bigger with padding\n",
    "\tnll_pad_correction = 0.5 * jnp.log(2 * jnp.pi) * jnp.sum(jnp.isnan(outputs))\n",
    "\n",
    "\t# We also need to correct the correction term, as padding adds 1s to the diagonal and hence 1 to the trace\n",
    "\tcorr_pad_correction = 0.5 * jnp.sum(jnp.isnan(outputs))\n",
    "\n",
    "\treturn (multiv_neg_log_lik - nll_pad_correction) + (correction - corr_pad_correction)\n",
    "\n",
    "\n",
    "@jit\n",
    "def magma_neg_likelihood(kernel, inputs, outputs: jnp.array, mean: jnp.array, mean_process_cov: jnp.array, mappings: jnp.array, nugget=jnp.array(1e-10)):\n",
    "\t\"\"\"\n",
    "\tComputes the MAGMA log-likelihood.\n",
    "\n",
    "\t:param kernel: the kernel containing HPs to optimise. This kernel is used to compute the covariance (matrix `S`)\n",
    "\t:param inputs: inputs on which to compute the covariance matrix (shape (N, ))\n",
    "\t:param mask: boolean masks indicating which inputs and outputs to consider (shape (N, ))  #TODO: fix\n",
    "\t:param outputs: the observed values (shape (N, ))\n",
    "\t:param mean: the mean over the inputs (scalar or vector of shape (N, ))\n",
    "\t:param mean_process_cov: the hypper-posterior mean process covariance (matrix K^t)\n",
    "\t:param nugget: the nugget, for numerical stability\n",
    "\n",
    "\t:return: the negative log-likelihood (scalar)\n",
    "\t\"\"\"\n",
    "\t# In multi-output, we want to flatten the outputs.\n",
    "\t# The user should provide a specific Kernel to compute a cross-covariance with the right shape too\n",
    "\toutputs = outputs.reshape(outputs.shape[0], -1)\n",
    "\n",
    "\tif mean.ndim == 0:\n",
    "\t\tmean = jnp.broadcast_to(mean[None], outputs.shape)\n",
    "\n",
    "\tcovar = kernel(inputs)\n",
    "\n",
    "\t# check if we need to vmap\n",
    "\tif inputs.ndim == 2:\n",
    "\t\treturn magma_neg_likelihood_on_cov(covar, outputs, mean, mean_process_cov, mappings, nugget)\n",
    "\telif inputs.ndim == 3:\n",
    "\t\treturn vmap(magma_neg_likelihood_on_cov, in_axes=(0, 0, None, None, 0, None))(covar, outputs, mean, mean_process_cov, mappings, nugget)\n",
    "\telse:\n",
    "\t\traise ValueError(\"inputs must be either 1D or 2D\")"
   ],
   "id": "5de6fcef36a19d83",
   "outputs": [],
   "execution_count": 7
  },
  {
   "metadata": {
    "ExecuteTime": {
     "end_time": "2025-07-07T10:10:46.670578Z",
     "start_time": "2025-07-07T10:10:46.663468Z"
    }
   },
   "cell_type": "code",
   "source": [
    "magma_neg_likelihood_new = magma_neg_likelihood\n",
    "magma_neg_likelihood_on_cov_new = magma_neg_likelihood_on_cov"
   ],
   "id": "bb218990ed996d8c",
   "outputs": [],
   "execution_count": 8
  },
  {
   "metadata": {},
   "cell_type": "markdown",
   "source": [
    "---\n",
    "## Comparison"
   ],
   "id": "88fdaed3f55aae3a"
  },
  {
   "metadata": {},
   "cell_type": "markdown",
   "source": "### Sample test",
   "id": "d184c4d106475a66"
  },
  {
   "metadata": {
    "ExecuteTime": {
     "end_time": "2025-07-07T10:10:47.069349Z",
     "start_time": "2025-07-07T10:10:46.694727Z"
    }
   },
   "cell_type": "code",
   "source": [
    "db = pd.DataFrame({\n",
    "\t'Task_ID': [1, 1, 1, 1, 2, 2, 2, 2],\n",
    "\t'Input': [0.40, 4.45, 7.60, 8.30, 3.50, 5.10, 8.85, 9.35],\n",
    "\t'Input_ID': ['x', 'x', 'x', 'x', 'x', 'x', 'x', 'x'],\n",
    "\t'Output': [59.81620, 67.13694, 78.32495, 81.83590, 62.04943, 67.31932, 85.94063, 86.76426],\n",
    "\t'Output_ID': ['a', 'a', 'a', 'a', 'a', 'a', 'a', 'a'],\n",
    "})\n",
    "\n",
    "padded_inputs, padded_outputs, mappings, all_inputs = preprocess_db(db)\n",
    "\n",
    "prior_mean = jnp.array(0)\n",
    "all_inputs.shape, padded_inputs.shape"
   ],
   "id": "9e4541ca06271c07",
   "outputs": [
    {
     "data": {
      "text/plain": [
       "((8, 1), (2, 4, 1))"
      ]
     },
     "execution_count": 9,
     "metadata": {},
     "output_type": "execute_result"
    }
   ],
   "execution_count": 9
  },
  {
   "metadata": {
    "ExecuteTime": {
     "end_time": "2025-07-07T10:10:47.081682Z",
     "start_time": "2025-07-07T10:10:47.079276Z"
    }
   },
   "cell_type": "code",
   "source": [
    "mean_kern = SEMagmaKernel(length_scale=.3, variance=1.)\n",
    "task_kern = NoisySEMagmaKernel(length_scale=.3, variance=1., noise=2.5)"
   ],
   "id": "c308ab3f3dc6d866",
   "outputs": [],
   "execution_count": 10
  },
  {
   "metadata": {
    "ExecuteTime": {
     "end_time": "2025-07-07T10:10:47.587028Z",
     "start_time": "2025-07-07T10:10:47.100614Z"
    }
   },
   "cell_type": "code",
   "source": [
    "post_mean, post_cov = hyperpost(padded_inputs, padded_outputs, mappings, prior_mean, mean_kern, task_kern, all_inputs=all_inputs, nugget=nugget)\n",
    "post_mean.shape, post_cov.shape"
   ],
   "id": "c70d9b7cbd5f368c",
   "outputs": [
    {
     "data": {
      "text/plain": [
       "((8,), (8, 8))"
      ]
     },
     "execution_count": 11,
     "metadata": {},
     "output_type": "execute_result"
    }
   ],
   "execution_count": 11
  },
  {
   "metadata": {
    "ExecuteTime": {
     "end_time": "2025-07-07T10:10:47.715296Z",
     "start_time": "2025-07-07T10:10:47.607358Z"
    }
   },
   "cell_type": "code",
   "source": [
    "mean_llh_old = magma_neg_likelihood_old(mean_kern, all_inputs, post_mean, jnp.full(all_inputs.squeeze().shape, prior_mean), post_cov, None, nugget=nugget)\n",
    "mean_llh_old.item()"
   ],
   "id": "5976da68979cb8b8",
   "outputs": [
    {
     "data": {
      "text/plain": [
       "1784.2900390625"
      ]
     },
     "execution_count": 12,
     "metadata": {},
     "output_type": "execute_result"
    }
   ],
   "execution_count": 12
  },
  {
   "metadata": {
    "ExecuteTime": {
     "end_time": "2025-07-07T10:10:47.831662Z",
     "start_time": "2025-07-07T10:10:47.725145Z"
    }
   },
   "cell_type": "code",
   "source": [
    "mean_llh_new = magma_neg_likelihood_new(mean_kern, all_inputs, post_mean, prior_mean, post_cov, None, nugget=nugget)\n",
    "mean_llh_new.item()"
   ],
   "id": "4116b325298a8425",
   "outputs": [
    {
     "data": {
      "text/plain": [
       "1784.2900390625"
      ]
     },
     "execution_count": 13,
     "metadata": {},
     "output_type": "execute_result"
    }
   ],
   "execution_count": 13
  },
  {
   "metadata": {
    "ExecuteTime": {
     "end_time": "2025-07-07T10:10:47.894789Z",
     "start_time": "2025-07-07T10:10:47.850122Z"
    }
   },
   "cell_type": "code",
   "source": "jnp.allclose(mean_llh_old, mean_llh_new)",
   "id": "5c063ee3eec52010",
   "outputs": [
    {
     "data": {
      "text/plain": [
       "Array(True, dtype=bool)"
      ]
     },
     "execution_count": 14,
     "metadata": {},
     "output_type": "execute_result"
    }
   ],
   "execution_count": 14
  },
  {
   "metadata": {
    "ExecuteTime": {
     "end_time": "2025-07-07T10:10:55.601791Z",
     "start_time": "2025-07-07T10:10:47.919001Z"
    }
   },
   "cell_type": "code",
   "source": "%timeit magma_neg_likelihood_old(mean_kern, all_inputs, post_mean, prior_mean, post_cov, None, nugget=nugget).block_until_ready()",
   "id": "e1103ebd9ec6c20c",
   "outputs": [
    {
     "name": "stdout",
     "output_type": "stream",
     "text": [
      "9.25 μs ± 195 ns per loop (mean ± std. dev. of 7 runs, 100,000 loops each)\n"
     ]
    }
   ],
   "execution_count": 15
  },
  {
   "metadata": {
    "ExecuteTime": {
     "end_time": "2025-07-07T10:10:56.680294Z",
     "start_time": "2025-07-07T10:10:55.618834Z"
    }
   },
   "cell_type": "code",
   "source": "%timeit magma_neg_likelihood_new(mean_kern, all_inputs, post_mean, prior_mean, post_cov, None, nugget=nugget).block_until_ready()",
   "id": "ee8a2b95bb285b69",
   "outputs": [
    {
     "name": "stdout",
     "output_type": "stream",
     "text": [
      "10.3 μs ± 661 ns per loop (mean ± std. dev. of 7 runs, 10,000 loops each)\n"
     ]
    }
   ],
   "execution_count": 16
  },
  {
   "metadata": {
    "ExecuteTime": {
     "end_time": "2025-07-07T10:10:56.809849Z",
     "start_time": "2025-07-07T10:10:56.697430Z"
    }
   },
   "cell_type": "code",
   "source": [
    "task_llhs_old = magma_neg_likelihood_old(task_kern, padded_inputs, padded_outputs.squeeze(), post_mean, post_cov, mappings, nugget=nugget)\n",
    "np.asarray(task_llhs_old)"
   ],
   "id": "7aaf7bbc5aa4235a",
   "outputs": [
    {
     "data": {
      "text/plain": [
       "array([ 979.3764, 1425.9928], dtype=float32)"
      ]
     },
     "execution_count": 17,
     "metadata": {},
     "output_type": "execute_result"
    }
   ],
   "execution_count": 17
  },
  {
   "metadata": {
    "ExecuteTime": {
     "end_time": "2025-07-07T10:10:56.931980Z",
     "start_time": "2025-07-07T10:10:56.827024Z"
    }
   },
   "cell_type": "code",
   "source": [
    "task_llhs_new = magma_neg_likelihood_new(task_kern, padded_inputs, padded_outputs, post_mean, post_cov, mappings, nugget=nugget)\n",
    "np.asarray(task_llhs_new)"
   ],
   "id": "eb119c784d811156",
   "outputs": [
    {
     "data": {
      "text/plain": [
       "array([ 979.3764, 1425.9928], dtype=float32)"
      ]
     },
     "execution_count": 18,
     "metadata": {},
     "output_type": "execute_result"
    }
   ],
   "execution_count": 18
  },
  {
   "metadata": {
    "ExecuteTime": {
     "end_time": "2025-07-07T10:10:56.966998Z",
     "start_time": "2025-07-07T10:10:56.947243Z"
    }
   },
   "cell_type": "code",
   "source": "jnp.allclose(task_llhs_old, task_llhs_new)",
   "id": "fc725337018fb237",
   "outputs": [
    {
     "data": {
      "text/plain": [
       "Array(True, dtype=bool)"
      ]
     },
     "execution_count": 19,
     "metadata": {},
     "output_type": "execute_result"
    }
   ],
   "execution_count": 19
  },
  {
   "metadata": {
    "ExecuteTime": {
     "end_time": "2025-07-07T10:11:01.845134Z",
     "start_time": "2025-07-07T10:10:57.002250Z"
    }
   },
   "cell_type": "code",
   "source": "%timeit magma_neg_likelihood_old(task_kern, padded_inputs, padded_outputs.squeeze(), post_mean, post_cov, mappings, nugget=nugget)[0].block_until_ready()",
   "id": "20647ca8edd28ff8",
   "outputs": [
    {
     "name": "stdout",
     "output_type": "stream",
     "text": [
      "58.9 μs ± 3.21 μs per loop (mean ± std. dev. of 7 runs, 10,000 loops each)\n"
     ]
    }
   ],
   "execution_count": 20
  },
  {
   "metadata": {
    "ExecuteTime": {
     "end_time": "2025-07-07T10:11:06.039951Z",
     "start_time": "2025-07-07T10:11:01.855740Z"
    }
   },
   "cell_type": "code",
   "source": "%timeit magma_neg_likelihood_new(task_kern, padded_inputs, padded_outputs, post_mean, post_cov, mappings, nugget=nugget)[0].block_until_ready()",
   "id": "a88a2f8d45c6d9af",
   "outputs": [
    {
     "name": "stdout",
     "output_type": "stream",
     "text": [
      "49.7 μs ± 1.03 μs per loop (mean ± std. dev. of 7 runs, 10,000 loops each)\n"
     ]
    }
   ],
   "execution_count": 21
  },
  {
   "metadata": {},
   "cell_type": "markdown",
   "source": "### shared Input, shared HP",
   "id": "51f2147e48816074"
  },
  {
   "metadata": {
    "ExecuteTime": {
     "end_time": "2025-07-07T10:11:06.517541Z",
     "start_time": "2025-07-07T10:11:06.055908Z"
    }
   },
   "cell_type": "code",
   "source": [
    "db = pd.read_csv(f\"../datasets/{test_db_size}_shared_input_shared_hp.csv\")\n",
    "\n",
    "padded_inputs, padded_outputs, mappings, all_inputs = preprocess_db(db)\n",
    "\n",
    "prior_mean = jnp.array(0)\n",
    "all_inputs.shape, padded_inputs.shape"
   ],
   "id": "e63d62a1a32b1b72",
   "outputs": [
    {
     "data": {
      "text/plain": [
       "((150, 1), (200, 150, 1))"
      ]
     },
     "execution_count": 22,
     "metadata": {},
     "output_type": "execute_result"
    }
   ],
   "execution_count": 22
  },
  {
   "metadata": {
    "ExecuteTime": {
     "end_time": "2025-07-07T10:11:06.702103Z",
     "start_time": "2025-07-07T10:11:06.697641Z"
    }
   },
   "cell_type": "code",
   "source": [
    "mean_kern = SEMagmaKernel(length_scale=.3, variance=1.)\n",
    "task_kern = NoisySEMagmaKernel(length_scale=.3, variance=1., noise=2.5)"
   ],
   "id": "3ec2de19178b23f2",
   "outputs": [],
   "execution_count": 23
  },
  {
   "metadata": {
    "ExecuteTime": {
     "end_time": "2025-07-07T10:11:07.076758Z",
     "start_time": "2025-07-07T10:11:06.735227Z"
    }
   },
   "cell_type": "code",
   "source": [
    "post_mean, post_cov = hyperpost(padded_inputs, padded_outputs, mappings, prior_mean, mean_kern, task_kern, all_inputs=all_inputs, nugget=nugget)\n",
    "post_mean.shape, post_cov.shape"
   ],
   "id": "b82fb2e356acb498",
   "outputs": [
    {
     "data": {
      "text/plain": [
       "((150,), (150, 150))"
      ]
     },
     "execution_count": 24,
     "metadata": {},
     "output_type": "execute_result"
    }
   ],
   "execution_count": 24
  },
  {
   "metadata": {
    "ExecuteTime": {
     "end_time": "2025-07-07T10:11:07.217218Z",
     "start_time": "2025-07-07T10:11:07.088647Z"
    }
   },
   "cell_type": "code",
   "source": [
    "mean_llh_old = magma_neg_likelihood_old(mean_kern, all_inputs, post_mean, jnp.full(all_inputs.squeeze().shape, prior_mean), post_cov, None, nugget=nugget)\n",
    "mean_llh_old.item()"
   ],
   "id": "6dd3ed817d762d8c",
   "outputs": [
    {
     "data": {
      "text/plain": [
       "872167.75"
      ]
     },
     "execution_count": 25,
     "metadata": {},
     "output_type": "execute_result"
    }
   ],
   "execution_count": 25
  },
  {
   "metadata": {
    "ExecuteTime": {
     "end_time": "2025-07-07T10:11:07.336326Z",
     "start_time": "2025-07-07T10:11:07.238529Z"
    }
   },
   "cell_type": "code",
   "source": [
    "mean_llh_new = magma_neg_likelihood_new(mean_kern, all_inputs, post_mean, prior_mean, post_cov, None, nugget=nugget)\n",
    "mean_llh_new.item()"
   ],
   "id": "1c581755c71baf06",
   "outputs": [
    {
     "data": {
      "text/plain": [
       "872167.75"
      ]
     },
     "execution_count": 26,
     "metadata": {},
     "output_type": "execute_result"
    }
   ],
   "execution_count": 26
  },
  {
   "metadata": {
    "ExecuteTime": {
     "end_time": "2025-07-07T10:11:07.362899Z",
     "start_time": "2025-07-07T10:11:07.349447Z"
    }
   },
   "cell_type": "code",
   "source": "jnp.allclose(mean_llh_old, mean_llh_new)",
   "id": "ea4de7e93bb9ab57",
   "outputs": [
    {
     "data": {
      "text/plain": [
       "Array(True, dtype=bool)"
      ]
     },
     "execution_count": 27,
     "metadata": {},
     "output_type": "execute_result"
    }
   ],
   "execution_count": 27
  },
  {
   "metadata": {
    "ExecuteTime": {
     "end_time": "2025-07-07T10:11:09.675973Z",
     "start_time": "2025-07-07T10:11:07.433534Z"
    }
   },
   "cell_type": "code",
   "source": "%timeit magma_neg_likelihood_old(mean_kern, all_inputs, post_mean, prior_mean, post_cov, None, nugget=nugget).block_until_ready()",
   "id": "7ba339d2b39e5652",
   "outputs": [
    {
     "name": "stdout",
     "output_type": "stream",
     "text": [
      "263 μs ± 7.15 μs per loop (mean ± std. dev. of 7 runs, 1,000 loops each)\n"
     ]
    }
   ],
   "execution_count": 28
  },
  {
   "metadata": {
    "ExecuteTime": {
     "end_time": "2025-07-07T10:11:11.836859Z",
     "start_time": "2025-07-07T10:11:09.686599Z"
    }
   },
   "cell_type": "code",
   "source": "%timeit magma_neg_likelihood_new(mean_kern, all_inputs, post_mean, prior_mean, post_cov, None, nugget=nugget).block_until_ready()",
   "id": "866fa177bc5d57b4",
   "outputs": [
    {
     "name": "stdout",
     "output_type": "stream",
     "text": [
      "261 μs ± 5.55 μs per loop (mean ± std. dev. of 7 runs, 1,000 loops each)\n"
     ]
    }
   ],
   "execution_count": 29
  },
  {
   "metadata": {
    "ExecuteTime": {
     "end_time": "2025-07-07T10:11:12.038334Z",
     "start_time": "2025-07-07T10:11:11.852015Z"
    }
   },
   "cell_type": "code",
   "source": [
    "task_llhs_old = magma_neg_likelihood_old(task_kern, padded_inputs, padded_outputs.squeeze(), post_mean, post_cov, mappings, nugget=nugget)\n",
    "np.asarray(task_llhs_old)"
   ],
   "id": "bca2f5c85414b2fe",
   "outputs": [
    {
     "data": {
      "text/plain": [
       "array([443.60623, 454.33514, 457.4909 , 455.43054, 462.82095, 463.07523,\n",
       "       455.4749 , 455.17505, 445.59637, 448.59924, 454.36047, 455.02356,\n",
       "       452.37225, 458.5221 , 466.32495, 443.44504, 446.11185, 461.92776,\n",
       "       450.13547, 459.11014, 457.8158 , 447.38824, 453.94556, 447.88974,\n",
       "       447.32092, 458.37628, 452.34546, 453.8296 , 458.3998 , 441.71176,\n",
       "       444.6034 , 446.18707, 448.72382, 445.65454, 439.13727, 453.74615,\n",
       "       465.72504, 457.96024, 461.77377, 464.66547, 453.10135, 460.84247,\n",
       "       454.2546 , 446.46265, 458.79422, 455.19415, 447.37918, 463.7545 ,\n",
       "       454.7738 , 450.6353 , 448.41592, 465.51456, 463.16537, 445.1893 ,\n",
       "       460.41043, 454.84998, 448.88474, 455.19244, 445.32806, 469.64545,\n",
       "       459.3202 , 463.84857, 456.37054, 460.3284 , 457.97467, 432.5199 ,\n",
       "       447.77032, 458.05536, 446.3839 , 436.29736, 470.28336, 449.6275 ,\n",
       "       455.74258, 454.30447, 460.1877 , 442.18527, 455.8119 , 456.85345,\n",
       "       458.8584 , 460.14972, 456.49634, 452.11597, 452.0233 , 461.1954 ,\n",
       "       450.57965, 437.18027, 454.7854 , 459.73932, 436.94904, 439.3292 ,\n",
       "       459.37402, 453.30142, 455.8653 , 447.43857, 450.23758, 442.83127,\n",
       "       454.42532, 444.99844, 454.4507 , 461.35233, 444.52048, 444.59058,\n",
       "       458.72916, 449.60706, 451.86487, 460.04337, 458.68866, 467.54276,\n",
       "       455.70496, 459.42923, 448.8614 , 458.27023, 452.04242, 459.84555,\n",
       "       455.0318 , 455.37347, 449.87442, 446.1374 , 451.30344, 451.07193,\n",
       "       442.6559 , 454.20306, 456.7105 , 458.87082, 466.37628, 456.9809 ,\n",
       "       456.7225 , 453.3321 , 461.98062, 451.81546, 454.35474, 455.15298,\n",
       "       454.0508 , 440.73685, 440.48184, 448.6059 , 465.62198, 459.77332,\n",
       "       438.34534, 442.64935, 464.4499 , 458.34003, 455.89554, 455.6602 ,\n",
       "       451.882  , 449.9299 , 458.75586, 438.8102 , 456.43152, 448.90387,\n",
       "       443.9898 , 453.2404 , 445.16818, 456.39377, 452.38358, 454.1927 ,\n",
       "       442.35635, 462.25644, 450.18524, 447.3815 , 441.76147, 462.44052,\n",
       "       465.06873, 455.91626, 469.7993 , 453.01096, 458.21445, 457.39587,\n",
       "       446.6847 , 436.93713, 470.2364 , 452.8561 , 449.56128, 458.0689 ,\n",
       "       448.3118 , 446.17694, 445.38675, 451.88168, 453.32367, 454.3958 ,\n",
       "       448.75677, 442.34094, 453.53802, 448.1623 , 452.53992, 445.59103,\n",
       "       453.34933, 454.8609 , 447.537  , 462.86038, 457.12982, 459.11966,\n",
       "       451.19565, 459.87466, 464.60168, 450.2118 , 455.7364 , 467.76886,\n",
       "       462.52768, 453.91333], dtype=float32)"
      ]
     },
     "execution_count": 30,
     "metadata": {},
     "output_type": "execute_result"
    }
   ],
   "execution_count": 30
  },
  {
   "metadata": {
    "ExecuteTime": {
     "end_time": "2025-07-07T10:11:12.201344Z",
     "start_time": "2025-07-07T10:11:12.066401Z"
    }
   },
   "cell_type": "code",
   "source": [
    "task_llhs_new = magma_neg_likelihood_new(task_kern, padded_inputs, padded_outputs, post_mean, post_cov, mappings, nugget=nugget)\n",
    "np.asarray(task_llhs_new)"
   ],
   "id": "2fcc7fa034a4acd8",
   "outputs": [
    {
     "data": {
      "text/plain": [
       "array([443.60623, 454.33514, 457.4909 , 455.43054, 462.82095, 463.07523,\n",
       "       455.4749 , 455.17505, 445.59637, 448.59924, 454.36047, 455.02356,\n",
       "       452.37225, 458.5221 , 466.32495, 443.44504, 446.11185, 461.92776,\n",
       "       450.13547, 459.11014, 457.8158 , 447.38824, 453.94556, 447.88974,\n",
       "       447.32092, 458.37628, 452.34546, 453.8296 , 458.3998 , 441.71176,\n",
       "       444.6034 , 446.18707, 448.72382, 445.65454, 439.13727, 453.74615,\n",
       "       465.72504, 457.96024, 461.77377, 464.66547, 453.10135, 460.84247,\n",
       "       454.2546 , 446.46265, 458.79422, 455.19415, 447.37918, 463.7545 ,\n",
       "       454.7738 , 450.6353 , 448.41592, 465.51456, 463.16537, 445.1893 ,\n",
       "       460.41043, 454.84998, 448.88474, 455.19244, 445.32806, 469.64545,\n",
       "       459.3202 , 463.84857, 456.37054, 460.3284 , 457.97467, 432.5199 ,\n",
       "       447.77032, 458.05536, 446.3839 , 436.29736, 470.28336, 449.6275 ,\n",
       "       455.74258, 454.30447, 460.1877 , 442.18527, 455.8119 , 456.85345,\n",
       "       458.8584 , 460.14972, 456.49634, 452.11597, 452.0233 , 461.1954 ,\n",
       "       450.57965, 437.18027, 454.7854 , 459.73932, 436.94904, 439.3292 ,\n",
       "       459.37402, 453.30142, 455.8653 , 447.43857, 450.23758, 442.83127,\n",
       "       454.42532, 444.99844, 454.4507 , 461.35233, 444.52048, 444.59058,\n",
       "       458.72916, 449.60706, 451.86487, 460.04337, 458.68866, 467.54276,\n",
       "       455.70496, 459.42923, 448.8614 , 458.27023, 452.04242, 459.84555,\n",
       "       455.0318 , 455.37347, 449.87442, 446.1374 , 451.30344, 451.07193,\n",
       "       442.6559 , 454.20306, 456.7105 , 458.87082, 466.37628, 456.9809 ,\n",
       "       456.7225 , 453.3321 , 461.98062, 451.81546, 454.35474, 455.15298,\n",
       "       454.0508 , 440.73685, 440.48184, 448.6059 , 465.62198, 459.77332,\n",
       "       438.34534, 442.64935, 464.4499 , 458.34003, 455.89554, 455.6602 ,\n",
       "       451.882  , 449.9299 , 458.75586, 438.8102 , 456.43152, 448.90387,\n",
       "       443.9898 , 453.2404 , 445.16818, 456.39377, 452.38358, 454.1927 ,\n",
       "       442.35635, 462.25644, 450.18524, 447.3815 , 441.76147, 462.44052,\n",
       "       465.06873, 455.91626, 469.7993 , 453.01096, 458.21445, 457.39587,\n",
       "       446.6847 , 436.93713, 470.2364 , 452.8561 , 449.56128, 458.0689 ,\n",
       "       448.3118 , 446.17694, 445.38675, 451.88168, 453.32367, 454.3958 ,\n",
       "       448.75677, 442.34094, 453.53802, 448.1623 , 452.53992, 445.59103,\n",
       "       453.34933, 454.8609 , 447.537  , 462.86038, 457.12982, 459.11966,\n",
       "       451.19565, 459.87466, 464.60168, 450.2118 , 455.7364 , 467.76886,\n",
       "       462.52768, 453.91333], dtype=float32)"
      ]
     },
     "execution_count": 31,
     "metadata": {},
     "output_type": "execute_result"
    }
   ],
   "execution_count": 31
  },
  {
   "metadata": {
    "ExecuteTime": {
     "end_time": "2025-07-07T10:11:12.255775Z",
     "start_time": "2025-07-07T10:11:12.212472Z"
    }
   },
   "cell_type": "code",
   "source": "jnp.allclose(task_llhs_old, task_llhs_new)",
   "id": "c70d1a1719ea7a11",
   "outputs": [
    {
     "data": {
      "text/plain": [
       "Array(True, dtype=bool)"
      ]
     },
     "execution_count": 32,
     "metadata": {},
     "output_type": "execute_result"
    }
   ],
   "execution_count": 32
  },
  {
   "metadata": {
    "ExecuteTime": {
     "end_time": "2025-07-07T10:11:14.036502Z",
     "start_time": "2025-07-07T10:11:12.275627Z"
    }
   },
   "cell_type": "code",
   "source": "%timeit magma_neg_likelihood_old(task_kern, padded_inputs, padded_outputs.squeeze(), post_mean, post_cov, mappings, nugget=nugget)[0].block_until_ready()",
   "id": "acf68e6845c85118",
   "outputs": [
    {
     "name": "stdout",
     "output_type": "stream",
     "text": [
      "21.3 ms ± 287 μs per loop (mean ± std. dev. of 7 runs, 10 loops each)\n"
     ]
    }
   ],
   "execution_count": 33
  },
  {
   "metadata": {
    "ExecuteTime": {
     "end_time": "2025-07-07T10:11:15.841534Z",
     "start_time": "2025-07-07T10:11:14.050651Z"
    }
   },
   "cell_type": "code",
   "source": "%timeit magma_neg_likelihood_new(task_kern, padded_inputs, padded_outputs, post_mean, post_cov, mappings, nugget=nugget)[0].block_until_ready()",
   "id": "614e9d6b686c22f3",
   "outputs": [
    {
     "name": "stdout",
     "output_type": "stream",
     "text": [
      "21.9 ms ± 507 μs per loop (mean ± std. dev. of 7 runs, 10 loops each)\n"
     ]
    }
   ],
   "execution_count": 34
  },
  {
   "metadata": {},
   "cell_type": "markdown",
   "source": "### shared Input, Distinct HP",
   "id": "59ec57712a06341"
  },
  {
   "metadata": {
    "ExecuteTime": {
     "end_time": "2025-07-07T10:11:15.918042Z",
     "start_time": "2025-07-07T10:11:15.853035Z"
    }
   },
   "cell_type": "code",
   "source": [
    "db = pd.read_csv(f\"../datasets/{test_db_size}_shared_input_distinct_hp.csv\")\n",
    "\n",
    "padded_inputs, padded_outputs, mappings, all_inputs = preprocess_db(db)\n",
    "\n",
    "prior_mean = jnp.array(0)\n",
    "all_inputs.shape, padded_inputs.shape"
   ],
   "id": "d54ddc6292d2fc08",
   "outputs": [
    {
     "data": {
      "text/plain": [
       "((150, 1), (200, 150, 1))"
      ]
     },
     "execution_count": 35,
     "metadata": {},
     "output_type": "execute_result"
    }
   ],
   "execution_count": 35
  },
  {
   "metadata": {
    "ExecuteTime": {
     "end_time": "2025-07-07T10:11:31.917690Z",
     "start_time": "2025-07-07T10:11:31.913991Z"
    }
   },
   "cell_type": "code",
   "source": [
    "mean_kern = SEMagmaKernel(length_scale=.3, variance=1.)\n",
    "\n",
    "key, subkey = jax.random.split(key)\n",
    "distinct_length_scales = jax.random.uniform(subkey, (padded_outputs.shape[0],), jnp.float64, .1, 1)\n",
    "task_kern = NoisySEMagmaKernel(length_scale=distinct_length_scales, variance=1., noise=2.5)"
   ],
   "id": "e74fbd6501a06fce",
   "outputs": [
    {
     "name": "stderr",
     "output_type": "stream",
     "text": [
      "/var/folders/93/wvvdyy810s1cvn67rnn9x0jh0000gn/T/ipykernel_42647/3792235761.py:4: UserWarning: Explicitly requested dtype <class 'jax.numpy.float64'>  is not available, and will be truncated to dtype float32. To enable more dtypes, set the jax_enable_x64 configuration option or the JAX_ENABLE_X64 shell environment variable. See https://github.com/jax-ml/jax#current-gotchas for more.\n",
      "  distinct_length_scales = jax.random.uniform(subkey, (padded_outputs.shape[0],), jnp.float64, .1, 1)\n"
     ]
    }
   ],
   "execution_count": 38
  },
  {
   "metadata": {
    "ExecuteTime": {
     "end_time": "2025-07-07T10:11:32.793290Z",
     "start_time": "2025-07-07T10:11:32.602198Z"
    }
   },
   "cell_type": "code",
   "source": [
    "post_mean, post_cov = hyperpost(padded_inputs, padded_outputs, mappings, prior_mean, mean_kern, task_kern, all_inputs=all_inputs, nugget=nugget)\n",
    "post_mean.shape, post_cov.shape"
   ],
   "id": "736219be2cca256b",
   "outputs": [
    {
     "data": {
      "text/plain": [
       "((150,), (150, 150))"
      ]
     },
     "execution_count": 39,
     "metadata": {},
     "output_type": "execute_result"
    }
   ],
   "execution_count": 39
  },
  {
   "metadata": {
    "ExecuteTime": {
     "end_time": "2025-07-07T10:11:33.378813Z",
     "start_time": "2025-07-07T10:11:33.373846Z"
    }
   },
   "cell_type": "code",
   "source": [
    "mean_llh_old = magma_neg_likelihood_old(mean_kern, all_inputs, post_mean, jnp.full(all_inputs.squeeze().shape, prior_mean), post_cov, None, nugget=nugget)\n",
    "mean_llh_old.item()"
   ],
   "id": "d1328f54ef391589",
   "outputs": [
    {
     "data": {
      "text/plain": [
       "10184.91015625"
      ]
     },
     "execution_count": 40,
     "metadata": {},
     "output_type": "execute_result"
    }
   ],
   "execution_count": 40
  },
  {
   "metadata": {
    "ExecuteTime": {
     "end_time": "2025-07-07T10:11:33.991092Z",
     "start_time": "2025-07-07T10:11:33.983675Z"
    }
   },
   "cell_type": "code",
   "source": [
    "mean_llh_new = magma_neg_likelihood_new(mean_kern, all_inputs, post_mean, prior_mean, post_cov, None, nugget=nugget)\n",
    "mean_llh_new.item()"
   ],
   "id": "a6389ee3d91b9ab9",
   "outputs": [
    {
     "data": {
      "text/plain": [
       "10184.91015625"
      ]
     },
     "execution_count": 41,
     "metadata": {},
     "output_type": "execute_result"
    }
   ],
   "execution_count": 41
  },
  {
   "metadata": {
    "ExecuteTime": {
     "end_time": "2025-07-07T10:11:34.510440Z",
     "start_time": "2025-07-07T10:11:34.505954Z"
    }
   },
   "cell_type": "code",
   "source": "jnp.allclose(mean_llh_old, mean_llh_new)",
   "id": "97229429cd161461",
   "outputs": [
    {
     "data": {
      "text/plain": [
       "Array(True, dtype=bool)"
      ]
     },
     "execution_count": 42,
     "metadata": {},
     "output_type": "execute_result"
    }
   ],
   "execution_count": 42
  },
  {
   "metadata": {
    "ExecuteTime": {
     "end_time": "2025-07-07T10:11:37.261219Z",
     "start_time": "2025-07-07T10:11:35.022301Z"
    }
   },
   "cell_type": "code",
   "source": "%timeit magma_neg_likelihood_old(mean_kern, all_inputs, post_mean, prior_mean, post_cov, None, nugget=nugget).block_until_ready()",
   "id": "96d9311014b08f6b",
   "outputs": [
    {
     "name": "stdout",
     "output_type": "stream",
     "text": [
      "275 μs ± 7.99 μs per loop (mean ± std. dev. of 7 runs, 1,000 loops each)\n"
     ]
    }
   ],
   "execution_count": 43
  },
  {
   "metadata": {
    "ExecuteTime": {
     "end_time": "2025-07-07T10:11:39.520825Z",
     "start_time": "2025-07-07T10:11:37.275566Z"
    }
   },
   "cell_type": "code",
   "source": "%timeit magma_neg_likelihood_new(mean_kern, all_inputs, post_mean, prior_mean, post_cov, None, nugget=nugget).block_until_ready()",
   "id": "4a0b40bf6fb2b5e8",
   "outputs": [
    {
     "name": "stdout",
     "output_type": "stream",
     "text": [
      "278 μs ± 39.5 μs per loop (mean ± std. dev. of 7 runs, 1,000 loops each)\n"
     ]
    }
   ],
   "execution_count": 44
  },
  {
   "metadata": {
    "ExecuteTime": {
     "end_time": "2025-07-07T10:11:39.690214Z",
     "start_time": "2025-07-07T10:11:39.536975Z"
    }
   },
   "cell_type": "code",
   "source": [
    "task_llhs_old = magma_neg_likelihood_old(task_kern, padded_inputs, padded_outputs.squeeze(), post_mean, post_cov, mappings, nugget=nugget)\n",
    "np.asarray(task_llhs_old)"
   ],
   "id": "16166848d719c4cd",
   "outputs": [
    {
     "data": {
      "text/plain": [
       "array([368.46924, 350.73856, 383.92505, 354.0627 , 378.3974 , 358.28143,\n",
       "       356.79285, 352.79968, 352.25452, 372.72284, 359.9822 , 354.92197,\n",
       "       376.4286 , 354.17523, 357.2848 , 357.3538 , 365.78497, 358.9017 ,\n",
       "       367.76785, 366.73138, 350.813  , 355.27225, 356.43472, 363.19025,\n",
       "       358.97113, 355.15176, 367.43173, 363.86935, 354.03308, 351.23694,\n",
       "       370.45346, 355.0303 , 360.4977 , 363.8922 , 356.56998, 357.88254,\n",
       "       362.8017 , 365.79617, 352.51248, 360.95514, 354.53955, 352.40512,\n",
       "       351.99002, 353.7372 , 360.19653, 357.71985, 358.43665, 352.18396,\n",
       "       362.94357, 359.8821 , 359.80106, 358.2188 , 358.11472, 360.6475 ,\n",
       "       359.09424, 365.81097, 350.82513, 361.59485, 363.24628, 355.84955,\n",
       "       355.28027, 372.99246, 357.635  , 357.41534, 356.809  , 367.62555,\n",
       "       358.13132, 353.96695, 372.76688, 351.66638, 362.16776, 375.04776,\n",
       "       355.6978 , 350.76492, 366.0428 , 358.63593, 361.47427, 359.33038,\n",
       "       370.81058, 376.66232, 357.37097, 361.47787, 369.72885, 358.96765,\n",
       "       356.61234, 363.51285, 352.19128, 357.715  , 364.98297, 354.04544,\n",
       "       355.63687, 353.6785 , 359.20715, 351.8657 , 352.1823 , 362.47403,\n",
       "       361.37595, 379.5722 , 362.14368, 360.1996 , 355.0659 , 354.8046 ,\n",
       "       363.58032, 350.53647, 359.2486 , 356.15866, 357.0436 , 367.8172 ,\n",
       "       351.0369 , 360.77402, 367.56055, 354.7409 , 359.18994, 368.5108 ,\n",
       "       355.87753, 368.02765, 361.6781 , 367.77814, 368.0676 , 369.26364,\n",
       "       366.85193, 348.77908, 357.69382, 351.6476 , 354.81583, 365.43033,\n",
       "       360.89114, 369.19843, 371.25507, 364.58917, 355.91928, 360.54922,\n",
       "       352.0967 , 367.38553, 357.0152 , 354.71976, 358.0434 , 356.06683,\n",
       "       353.28506, 352.26242, 355.00705, 357.77222, 356.36856, 353.7849 ,\n",
       "       365.9663 , 350.3015 , 355.11993, 357.4382 , 354.398  , 352.97855,\n",
       "       366.8561 , 372.0823 , 361.81458, 366.4906 , 356.07767, 369.85794,\n",
       "       365.75073, 356.4336 , 352.31543, 364.55408, 365.7647 , 363.50272,\n",
       "       369.735  , 359.89798, 356.3895 , 350.50244, 350.46246, 362.17444,\n",
       "       355.41803, 366.03256, 353.8287 , 354.9323 , 355.4862 , 360.35052,\n",
       "       351.51556, 357.33826, 359.68677, 360.45047, 357.30917, 360.72107,\n",
       "       366.64114, 348.51257, 371.7946 , 363.49982, 360.07388, 354.35086,\n",
       "       356.75385, 375.69006, 374.7262 , 360.66922, 361.21283, 356.4539 ,\n",
       "       355.77533, 363.29434, 366.58426, 365.31494, 350.80075, 353.78375,\n",
       "       352.44046, 364.954  ], dtype=float32)"
      ]
     },
     "execution_count": 45,
     "metadata": {},
     "output_type": "execute_result"
    }
   ],
   "execution_count": 45
  },
  {
   "metadata": {
    "ExecuteTime": {
     "end_time": "2025-07-07T10:11:39.850901Z",
     "start_time": "2025-07-07T10:11:39.702995Z"
    }
   },
   "cell_type": "code",
   "source": [
    "task_llhs_new = magma_neg_likelihood_new(task_kern, padded_inputs, padded_outputs, post_mean, post_cov, mappings, nugget=nugget)\n",
    "np.asarray(task_llhs_new)"
   ],
   "id": "4a6803dcd9043ac0",
   "outputs": [
    {
     "data": {
      "text/plain": [
       "array([368.46924, 350.73856, 383.92505, 354.0627 , 378.3974 , 358.28143,\n",
       "       356.79285, 352.79968, 352.25452, 372.72284, 359.9822 , 354.92197,\n",
       "       376.4286 , 354.17523, 357.2848 , 357.3538 , 365.78497, 358.9017 ,\n",
       "       367.76785, 366.73138, 350.813  , 355.27225, 356.43472, 363.19025,\n",
       "       358.97113, 355.15176, 367.43173, 363.86935, 354.03308, 351.23694,\n",
       "       370.45346, 355.0303 , 360.4977 , 363.8922 , 356.56998, 357.88254,\n",
       "       362.8017 , 365.79617, 352.51248, 360.95514, 354.53955, 352.40512,\n",
       "       351.99002, 353.7372 , 360.19653, 357.71985, 358.43665, 352.18396,\n",
       "       362.94357, 359.8821 , 359.80106, 358.2188 , 358.11472, 360.6475 ,\n",
       "       359.09424, 365.81097, 350.82513, 361.59485, 363.24628, 355.84955,\n",
       "       355.28027, 372.99246, 357.635  , 357.41534, 356.809  , 367.62555,\n",
       "       358.13132, 353.96695, 372.76688, 351.66638, 362.16776, 375.04776,\n",
       "       355.6978 , 350.76492, 366.0428 , 358.63593, 361.47427, 359.33038,\n",
       "       370.81058, 376.66232, 357.37097, 361.47787, 369.72885, 358.96765,\n",
       "       356.61234, 363.51285, 352.19128, 357.715  , 364.98297, 354.04544,\n",
       "       355.63687, 353.6785 , 359.20715, 351.8657 , 352.1823 , 362.47403,\n",
       "       361.37595, 379.5722 , 362.14368, 360.1996 , 355.0659 , 354.8046 ,\n",
       "       363.58032, 350.53647, 359.2486 , 356.15866, 357.0436 , 367.8172 ,\n",
       "       351.0369 , 360.77402, 367.56055, 354.7409 , 359.18994, 368.5108 ,\n",
       "       355.87753, 368.02765, 361.6781 , 367.77814, 368.0676 , 369.26364,\n",
       "       366.85193, 348.77908, 357.69382, 351.6476 , 354.81583, 365.43033,\n",
       "       360.89114, 369.19843, 371.25507, 364.58917, 355.91928, 360.54922,\n",
       "       352.0967 , 367.38553, 357.0152 , 354.71976, 358.0434 , 356.06683,\n",
       "       353.28506, 352.26242, 355.00705, 357.77222, 356.36856, 353.7849 ,\n",
       "       365.9663 , 350.3015 , 355.11993, 357.4382 , 354.398  , 352.97855,\n",
       "       366.8561 , 372.0823 , 361.81458, 366.4906 , 356.07767, 369.85794,\n",
       "       365.75073, 356.4336 , 352.31543, 364.55408, 365.7647 , 363.50272,\n",
       "       369.735  , 359.89798, 356.3895 , 350.50244, 350.46246, 362.17444,\n",
       "       355.41803, 366.03256, 353.8287 , 354.9323 , 355.4862 , 360.35052,\n",
       "       351.51556, 357.33826, 359.68677, 360.45047, 357.30917, 360.72107,\n",
       "       366.64114, 348.51257, 371.7946 , 363.49982, 360.07388, 354.35086,\n",
       "       356.75385, 375.69006, 374.7262 , 360.66922, 361.21283, 356.4539 ,\n",
       "       355.77533, 363.29434, 366.58426, 365.31494, 350.80075, 353.78375,\n",
       "       352.44046, 364.954  ], dtype=float32)"
      ]
     },
     "execution_count": 46,
     "metadata": {},
     "output_type": "execute_result"
    }
   ],
   "execution_count": 46
  },
  {
   "metadata": {
    "ExecuteTime": {
     "end_time": "2025-07-07T10:11:39.867870Z",
     "start_time": "2025-07-07T10:11:39.864894Z"
    }
   },
   "cell_type": "code",
   "source": "jnp.allclose(task_llhs_old, task_llhs_new)",
   "id": "d73de261b44d3a4b",
   "outputs": [
    {
     "data": {
      "text/plain": [
       "Array(True, dtype=bool)"
      ]
     },
     "execution_count": 47,
     "metadata": {},
     "output_type": "execute_result"
    }
   ],
   "execution_count": 47
  },
  {
   "metadata": {
    "ExecuteTime": {
     "end_time": "2025-07-07T10:11:41.634859Z",
     "start_time": "2025-07-07T10:11:39.901204Z"
    }
   },
   "cell_type": "code",
   "source": "%timeit magma_neg_likelihood_old(task_kern, padded_inputs, padded_outputs.squeeze(), post_mean, post_cov, mappings, nugget=nugget)[0].block_until_ready()",
   "id": "6ed5dc7f0e12d0bd",
   "outputs": [
    {
     "name": "stdout",
     "output_type": "stream",
     "text": [
      "21.3 ms ± 315 μs per loop (mean ± std. dev. of 7 runs, 10 loops each)\n"
     ]
    }
   ],
   "execution_count": 48
  },
  {
   "metadata": {
    "ExecuteTime": {
     "end_time": "2025-07-07T10:11:43.397215Z",
     "start_time": "2025-07-07T10:11:41.656823Z"
    }
   },
   "cell_type": "code",
   "source": "%timeit magma_neg_likelihood_new(task_kern, padded_inputs, padded_outputs, post_mean, post_cov, mappings, nugget=nugget)[0].block_until_ready()",
   "id": "6e140515447e2331",
   "outputs": [
    {
     "name": "stdout",
     "output_type": "stream",
     "text": [
      "21.1 ms ± 374 μs per loop (mean ± std. dev. of 7 runs, 10 loops each)\n"
     ]
    }
   ],
   "execution_count": 49
  },
  {
   "metadata": {},
   "cell_type": "markdown",
   "source": "### Distinct Input, shared HP",
   "id": "2c8d6551fd15b40"
  },
  {
   "metadata": {
    "ExecuteTime": {
     "end_time": "2025-07-07T10:11:48.399696Z",
     "start_time": "2025-07-07T10:11:47.933303Z"
    }
   },
   "cell_type": "code",
   "source": [
    "db = pd.read_csv(f\"../datasets/{test_db_size}_distinct_input_shared_hp.csv\")\n",
    "\n",
    "padded_inputs, padded_outputs, mappings, all_inputs = preprocess_db(db)\n",
    "\n",
    "prior_mean = jnp.array(0)\n",
    "all_inputs.shape, padded_inputs.shape"
   ],
   "id": "86f86b36fc853bf0",
   "outputs": [
    {
     "data": {
      "text/plain": [
       "((401, 1), (200, 190, 1))"
      ]
     },
     "execution_count": 50,
     "metadata": {},
     "output_type": "execute_result"
    }
   ],
   "execution_count": 50
  },
  {
   "metadata": {
    "ExecuteTime": {
     "end_time": "2025-07-07T10:11:48.805443Z",
     "start_time": "2025-07-07T10:11:48.801982Z"
    }
   },
   "cell_type": "code",
   "source": [
    "mean_kern = SEMagmaKernel(length_scale=.3, variance=1.)\n",
    "task_kern = NoisySEMagmaKernel(length_scale=.6, variance=1., noise=2.5)"
   ],
   "id": "40bfc43614f84bdb",
   "outputs": [],
   "execution_count": 51
  },
  {
   "metadata": {
    "ExecuteTime": {
     "end_time": "2025-07-07T10:11:49.691923Z",
     "start_time": "2025-07-07T10:11:49.227117Z"
    }
   },
   "cell_type": "code",
   "source": [
    "post_mean, post_cov = hyperpost(padded_inputs, padded_outputs, mappings, prior_mean, mean_kern, task_kern, all_inputs=all_inputs, nugget=nugget)\n",
    "post_mean.shape, post_cov.shape"
   ],
   "id": "2b4adb5d1917ddb",
   "outputs": [
    {
     "data": {
      "text/plain": [
       "((401,), (401, 401))"
      ]
     },
     "execution_count": 52,
     "metadata": {},
     "output_type": "execute_result"
    }
   ],
   "execution_count": 52
  },
  {
   "metadata": {
    "ExecuteTime": {
     "end_time": "2025-07-07T10:11:53.824207Z",
     "start_time": "2025-07-07T10:11:53.735600Z"
    }
   },
   "cell_type": "code",
   "source": [
    "mean_llh_old = magma_neg_likelihood_old(mean_kern, all_inputs, post_mean, jnp.full(all_inputs.squeeze().shape, prior_mean), post_cov, None, nugget=nugget)\n",
    "mean_llh_old.item()"
   ],
   "id": "9c59470ffd2dd87c",
   "outputs": [
    {
     "data": {
      "text/plain": [
       "inf"
      ]
     },
     "execution_count": 54,
     "metadata": {},
     "output_type": "execute_result"
    }
   ],
   "execution_count": 54
  },
  {
   "metadata": {
    "ExecuteTime": {
     "end_time": "2025-07-07T10:11:54.984223Z",
     "start_time": "2025-07-07T10:11:54.906469Z"
    }
   },
   "cell_type": "code",
   "source": [
    "mean_llh_new = magma_neg_likelihood_new(mean_kern, all_inputs, post_mean, prior_mean, post_cov, None, nugget=nugget)\n",
    "mean_llh_new.item()"
   ],
   "id": "298b2d70af12c7d1",
   "outputs": [
    {
     "data": {
      "text/plain": [
       "inf"
      ]
     },
     "execution_count": 55,
     "metadata": {},
     "output_type": "execute_result"
    }
   ],
   "execution_count": 55
  },
  {
   "metadata": {
    "ExecuteTime": {
     "end_time": "2025-07-07T10:11:55.743976Z",
     "start_time": "2025-07-07T10:11:55.739426Z"
    }
   },
   "cell_type": "code",
   "source": "jnp.allclose(mean_llh_old, mean_llh_new)",
   "id": "dcc1177483cc4700",
   "outputs": [
    {
     "data": {
      "text/plain": [
       "Array(True, dtype=bool)"
      ]
     },
     "execution_count": 56,
     "metadata": {},
     "output_type": "execute_result"
    }
   ],
   "execution_count": 56
  },
  {
   "metadata": {
    "ExecuteTime": {
     "end_time": "2025-07-07T10:12:05.780572Z",
     "start_time": "2025-07-07T10:11:56.818118Z"
    }
   },
   "cell_type": "code",
   "source": "%timeit magma_neg_likelihood_old(mean_kern, all_inputs, post_mean, prior_mean, post_cov, None, nugget=nugget).block_until_ready()",
   "id": "4782dab8da71c08e",
   "outputs": [
    {
     "name": "stdout",
     "output_type": "stream",
     "text": [
      "1.09 ms ± 32.3 μs per loop (mean ± std. dev. of 7 runs, 1,000 loops each)\n"
     ]
    }
   ],
   "execution_count": 57
  },
  {
   "metadata": {
    "ExecuteTime": {
     "end_time": "2025-07-07T10:12:15.818789Z",
     "start_time": "2025-07-07T10:12:05.795028Z"
    }
   },
   "cell_type": "code",
   "source": "%timeit magma_neg_likelihood_new(mean_kern, all_inputs, post_mean, prior_mean, post_cov, None, nugget=nugget).block_until_ready()",
   "id": "bb09ce827beae5cb",
   "outputs": [
    {
     "name": "stdout",
     "output_type": "stream",
     "text": [
      "1.24 ms ± 92.9 μs per loop (mean ± std. dev. of 7 runs, 1,000 loops each)\n"
     ]
    }
   ],
   "execution_count": 58
  },
  {
   "metadata": {
    "ExecuteTime": {
     "end_time": "2025-07-07T10:12:16.035993Z",
     "start_time": "2025-07-07T10:12:15.833652Z"
    }
   },
   "cell_type": "code",
   "source": [
    "task_llhs_old = magma_neg_likelihood_old(task_kern, padded_inputs, padded_outputs.squeeze(), post_mean, post_cov, mappings, nugget=nugget)\n",
    "np.asarray(task_llhs_old)"
   ],
   "id": "2ef2072460355d1a",
   "outputs": [
    {
     "data": {
      "text/plain": [
       "array([inf, inf, inf, inf, inf, inf, inf, inf, inf, inf, inf, inf, inf,\n",
       "       inf, inf, inf, inf, inf, inf, inf, inf, inf, inf, inf, inf, inf,\n",
       "       inf, inf, inf, inf, inf, inf, inf, inf, inf, inf, inf, inf, inf,\n",
       "       inf, inf, inf, inf, inf, inf, inf, inf, inf, inf, inf, inf, inf,\n",
       "       inf, inf, inf, inf, inf, inf, inf, inf, inf, inf, inf, inf, inf,\n",
       "       inf, inf, inf, inf, inf, inf, inf, inf, inf, inf, inf, inf, inf,\n",
       "       inf, inf, inf, inf, inf, inf, inf, inf, inf, inf, inf, inf, inf,\n",
       "       inf, inf, inf, inf, inf, inf, inf, inf, inf, inf, inf, inf, inf,\n",
       "       inf, inf, inf, inf, inf, inf, inf, inf, inf, inf, inf, inf, inf,\n",
       "       inf, inf, inf, inf, inf, inf, inf, inf, inf, inf, inf, inf, inf,\n",
       "       inf, inf, inf, inf, inf, inf, inf, inf, inf, inf, inf, inf, inf,\n",
       "       inf, inf, inf, inf, inf, inf, inf, inf, inf, inf, inf, inf, inf,\n",
       "       inf, inf, inf, inf, inf, inf, inf, inf, inf, inf, inf, inf, inf,\n",
       "       inf, inf, inf, inf, inf, inf, inf, inf, inf, inf, inf, inf, inf,\n",
       "       inf, inf, inf, inf, inf, inf, inf, inf, inf, inf, inf, inf, inf,\n",
       "       inf, inf, inf, inf, inf], dtype=float32)"
      ]
     },
     "execution_count": 59,
     "metadata": {},
     "output_type": "execute_result"
    }
   ],
   "execution_count": 59
  },
  {
   "metadata": {
    "ExecuteTime": {
     "end_time": "2025-07-07T10:12:16.214136Z",
     "start_time": "2025-07-07T10:12:16.048618Z"
    }
   },
   "cell_type": "code",
   "source": [
    "task_llhs_new = magma_neg_likelihood_new(task_kern, padded_inputs, padded_outputs, post_mean, post_cov, mappings, nugget=nugget)\n",
    "np.asarray(task_llhs_new)"
   ],
   "id": "527a03e95b6f8c0a",
   "outputs": [
    {
     "data": {
      "text/plain": [
       "array([inf, inf, inf, inf, inf, inf, inf, inf, inf, inf, inf, inf, inf,\n",
       "       inf, inf, inf, inf, inf, inf, inf, inf, inf, inf, inf, inf, inf,\n",
       "       inf, inf, inf, inf, inf, inf, inf, inf, inf, inf, inf, inf, inf,\n",
       "       inf, inf, inf, inf, inf, inf, inf, inf, inf, inf, inf, inf, inf,\n",
       "       inf, inf, inf, inf, inf, inf, inf, inf, inf, inf, inf, inf, inf,\n",
       "       inf, inf, inf, inf, inf, inf, inf, inf, inf, inf, inf, inf, inf,\n",
       "       inf, inf, inf, inf, inf, inf, inf, inf, inf, inf, inf, inf, inf,\n",
       "       inf, inf, inf, inf, inf, inf, inf, inf, inf, inf, inf, inf, inf,\n",
       "       inf, inf, inf, inf, inf, inf, inf, inf, inf, inf, inf, inf, inf,\n",
       "       inf, inf, inf, inf, inf, inf, inf, inf, inf, inf, inf, inf, inf,\n",
       "       inf, inf, inf, inf, inf, inf, inf, inf, inf, inf, inf, inf, inf,\n",
       "       inf, inf, inf, inf, inf, inf, inf, inf, inf, inf, inf, inf, inf,\n",
       "       inf, inf, inf, inf, inf, inf, inf, inf, inf, inf, inf, inf, inf,\n",
       "       inf, inf, inf, inf, inf, inf, inf, inf, inf, inf, inf, inf, inf,\n",
       "       inf, inf, inf, inf, inf, inf, inf, inf, inf, inf, inf, inf, inf,\n",
       "       inf, inf, inf, inf, inf], dtype=float32)"
      ]
     },
     "execution_count": 60,
     "metadata": {},
     "output_type": "execute_result"
    }
   ],
   "execution_count": 60
  },
  {
   "metadata": {
    "ExecuteTime": {
     "end_time": "2025-07-07T10:12:16.229690Z",
     "start_time": "2025-07-07T10:12:16.226893Z"
    }
   },
   "cell_type": "code",
   "source": "jnp.allclose(task_llhs_old, task_llhs_new)",
   "id": "e55e7a4ddc2d106c",
   "outputs": [
    {
     "data": {
      "text/plain": [
       "Array(True, dtype=bool)"
      ]
     },
     "execution_count": 61,
     "metadata": {},
     "output_type": "execute_result"
    }
   ],
   "execution_count": 61
  },
  {
   "metadata": {
    "ExecuteTime": {
     "end_time": "2025-07-07T10:12:18.916470Z",
     "start_time": "2025-07-07T10:12:16.251691Z"
    }
   },
   "cell_type": "code",
   "source": "%timeit magma_neg_likelihood_old(task_kern, padded_inputs, padded_outputs.squeeze(), post_mean, post_cov, mappings, nugget=nugget)[0].block_until_ready()",
   "id": "86502973d22247ff",
   "outputs": [
    {
     "name": "stdout",
     "output_type": "stream",
     "text": [
      "32.4 ms ± 330 μs per loop (mean ± std. dev. of 7 runs, 10 loops each)\n"
     ]
    }
   ],
   "execution_count": 62
  },
  {
   "metadata": {
    "ExecuteTime": {
     "end_time": "2025-07-07T10:12:21.518487Z",
     "start_time": "2025-07-07T10:12:18.930239Z"
    }
   },
   "cell_type": "code",
   "source": "%timeit magma_neg_likelihood_new(task_kern, padded_inputs, padded_outputs, post_mean, post_cov, mappings, nugget=nugget)[0].block_until_ready()",
   "id": "2204b960eb92c770",
   "outputs": [
    {
     "name": "stdout",
     "output_type": "stream",
     "text": [
      "31.9 ms ± 581 μs per loop (mean ± std. dev. of 7 runs, 10 loops each)\n"
     ]
    }
   ],
   "execution_count": 63
  },
  {
   "metadata": {},
   "cell_type": "markdown",
   "source": "### Distinct Input, Distinct HP",
   "id": "c55c56f723318753"
  },
  {
   "metadata": {
    "ExecuteTime": {
     "end_time": "2025-07-07T10:12:21.882966Z",
     "start_time": "2025-07-07T10:12:21.533283Z"
    }
   },
   "cell_type": "code",
   "source": [
    "db = pd.read_csv(f\"../datasets/{test_db_size}_distinct_input_distinct_hp.csv\")\n",
    "\n",
    "padded_inputs, padded_outputs, mappings, all_inputs = preprocess_db(db)\n",
    "\n",
    "prior_mean = jnp.array(0)\n",
    "all_inputs.shape, padded_inputs.shape"
   ],
   "id": "dc7c16034b3d9c84",
   "outputs": [
    {
     "data": {
      "text/plain": [
       "((401, 1), (200, 188, 1))"
      ]
     },
     "execution_count": 64,
     "metadata": {},
     "output_type": "execute_result"
    }
   ],
   "execution_count": 64
  },
  {
   "metadata": {
    "ExecuteTime": {
     "end_time": "2025-07-07T10:12:45.328727Z",
     "start_time": "2025-07-07T10:12:45.325502Z"
    }
   },
   "cell_type": "code",
   "source": [
    "mean_kern = SEMagmaKernel(length_scale=.3, variance=1.)\n",
    "\n",
    "key, subkey = jax.random.split(key)\n",
    "distinct_length_scales = jax.random.uniform(subkey, (padded_outputs.shape[0],), jnp.float32, .1, 1)\n",
    "task_kern = NoisySEMagmaKernel(length_scale=distinct_length_scales, variance=1., noise=2.5)"
   ],
   "id": "eaa87dfb69133e9e",
   "outputs": [],
   "execution_count": 67
  },
  {
   "metadata": {
    "ExecuteTime": {
     "end_time": "2025-07-07T10:12:46.006891Z",
     "start_time": "2025-07-07T10:12:45.755092Z"
    }
   },
   "cell_type": "code",
   "source": [
    "post_mean, post_cov = hyperpost(padded_inputs, padded_outputs, mappings, prior_mean, mean_kern, task_kern, all_inputs=all_inputs, nugget=nugget)\n",
    "post_mean.shape, post_cov.shape"
   ],
   "id": "6a3c6118b613c760",
   "outputs": [
    {
     "data": {
      "text/plain": [
       "((401,), (401, 401))"
      ]
     },
     "execution_count": 68,
     "metadata": {},
     "output_type": "execute_result"
    }
   ],
   "execution_count": 68
  },
  {
   "metadata": {
    "ExecuteTime": {
     "end_time": "2025-07-07T10:12:46.568735Z",
     "start_time": "2025-07-07T10:12:46.560524Z"
    }
   },
   "cell_type": "code",
   "source": [
    "mean_llh_old = magma_neg_likelihood_old(mean_kern, all_inputs, post_mean, jnp.full(all_inputs.squeeze().shape, prior_mean), post_cov, None, nugget=nugget)\n",
    "mean_llh_old.item()"
   ],
   "id": "540eff82a63072a1",
   "outputs": [
    {
     "data": {
      "text/plain": [
       "inf"
      ]
     },
     "execution_count": 69,
     "metadata": {},
     "output_type": "execute_result"
    }
   ],
   "execution_count": 69
  },
  {
   "metadata": {
    "ExecuteTime": {
     "end_time": "2025-07-07T10:12:47.184916Z",
     "start_time": "2025-07-07T10:12:47.179145Z"
    }
   },
   "cell_type": "code",
   "source": [
    "mean_llh_new = magma_neg_likelihood_new(mean_kern, all_inputs, post_mean, prior_mean, post_cov, None, nugget=nugget)\n",
    "mean_llh_new.item()"
   ],
   "id": "7dca36ec16c62b8d",
   "outputs": [
    {
     "data": {
      "text/plain": [
       "inf"
      ]
     },
     "execution_count": 70,
     "metadata": {},
     "output_type": "execute_result"
    }
   ],
   "execution_count": 70
  },
  {
   "metadata": {
    "ExecuteTime": {
     "end_time": "2025-07-07T10:12:47.744599Z",
     "start_time": "2025-07-07T10:12:47.740818Z"
    }
   },
   "cell_type": "code",
   "source": "jnp.allclose(mean_llh_old, mean_llh_new)",
   "id": "37dd1f93ff2dee25",
   "outputs": [
    {
     "data": {
      "text/plain": [
       "Array(True, dtype=bool)"
      ]
     },
     "execution_count": 71,
     "metadata": {},
     "output_type": "execute_result"
    }
   ],
   "execution_count": 71
  },
  {
   "metadata": {
    "ExecuteTime": {
     "end_time": "2025-07-07T10:12:56.980659Z",
     "start_time": "2025-07-07T10:12:48.277555Z"
    }
   },
   "cell_type": "code",
   "source": "%timeit magma_neg_likelihood_old(mean_kern, all_inputs, post_mean, prior_mean, post_cov, None, nugget=nugget).block_until_ready()",
   "id": "38057214aa293972",
   "outputs": [
    {
     "name": "stdout",
     "output_type": "stream",
     "text": [
      "1.07 ms ± 22.3 μs per loop (mean ± std. dev. of 7 runs, 1,000 loops each)\n"
     ]
    }
   ],
   "execution_count": 72
  },
  {
   "metadata": {
    "ExecuteTime": {
     "end_time": "2025-07-07T10:13:06.324209Z",
     "start_time": "2025-07-07T10:12:56.994407Z"
    }
   },
   "cell_type": "code",
   "source": "%timeit magma_neg_likelihood_new(mean_kern, all_inputs, post_mean, prior_mean, post_cov, None, nugget=nugget).block_until_ready()",
   "id": "76ebb22c7f262518",
   "outputs": [
    {
     "name": "stdout",
     "output_type": "stream",
     "text": [
      "1.15 ms ± 34.7 μs per loop (mean ± std. dev. of 7 runs, 1,000 loops each)\n"
     ]
    }
   ],
   "execution_count": 73
  },
  {
   "metadata": {
    "ExecuteTime": {
     "end_time": "2025-07-07T10:13:06.570814Z",
     "start_time": "2025-07-07T10:13:06.336905Z"
    }
   },
   "cell_type": "code",
   "source": [
    "task_llhs_old = magma_neg_likelihood_old(task_kern, padded_inputs, padded_outputs.squeeze(), post_mean, post_cov, mappings, nugget=nugget)\n",
    "np.asarray(task_llhs_old)"
   ],
   "id": "c6108c40e10c2538",
   "outputs": [
    {
     "data": {
      "text/plain": [
       "array([inf, inf, inf, inf, inf, inf, inf, inf, inf, inf, inf, inf, inf,\n",
       "       inf, inf, inf, inf, inf, inf, inf, inf, inf, inf, inf, inf, inf,\n",
       "       inf, inf, inf, inf, inf, inf, inf, inf, inf, inf, inf, inf, inf,\n",
       "       inf, inf, inf, inf, inf, inf, inf, inf, inf, inf, inf, inf, inf,\n",
       "       inf, inf, inf, inf, inf, inf, inf, inf, inf, inf, inf, inf, inf,\n",
       "       inf, inf, inf, inf, inf, inf, inf, inf, inf, inf, inf, inf, inf,\n",
       "       inf, inf, inf, inf, inf, inf, inf, inf, inf, inf, inf, inf, inf,\n",
       "       inf, inf, inf, inf, inf, inf, inf, inf, inf, inf, inf, inf, inf,\n",
       "       inf, inf, inf, inf, inf, inf, inf, inf, inf, inf, inf, inf, inf,\n",
       "       inf, inf, inf, inf, inf, inf, inf, inf, inf, inf, inf, inf, inf,\n",
       "       inf, inf, inf, inf, inf, inf, inf, inf, inf, inf, inf, inf, inf,\n",
       "       inf, inf, inf, inf, inf, inf, inf, inf, inf, inf, inf, inf, inf,\n",
       "       inf, inf, inf, inf, inf, inf, inf, inf, inf, inf, inf, inf, inf,\n",
       "       inf, inf, inf, inf, inf, inf, inf, inf, inf, inf, inf, inf, inf,\n",
       "       inf, inf, inf, inf, inf, inf, inf, inf, inf, inf, inf, inf, inf,\n",
       "       inf, inf, inf, inf, inf], dtype=float32)"
      ]
     },
     "execution_count": 74,
     "metadata": {},
     "output_type": "execute_result"
    }
   ],
   "execution_count": 74
  },
  {
   "metadata": {
    "ExecuteTime": {
     "end_time": "2025-07-07T10:13:06.763193Z",
     "start_time": "2025-07-07T10:13:06.586311Z"
    }
   },
   "cell_type": "code",
   "source": [
    "task_llhs_new = magma_neg_likelihood_new(task_kern, padded_inputs, padded_outputs, post_mean, post_cov, mappings, nugget=nugget)\n",
    "np.asarray(task_llhs_new)"
   ],
   "id": "6c1a73c0bad56762",
   "outputs": [
    {
     "data": {
      "text/plain": [
       "array([inf, inf, inf, inf, inf, inf, inf, inf, inf, inf, inf, inf, inf,\n",
       "       inf, inf, inf, inf, inf, inf, inf, inf, inf, inf, inf, inf, inf,\n",
       "       inf, inf, inf, inf, inf, inf, inf, inf, inf, inf, inf, inf, inf,\n",
       "       inf, inf, inf, inf, inf, inf, inf, inf, inf, inf, inf, inf, inf,\n",
       "       inf, inf, inf, inf, inf, inf, inf, inf, inf, inf, inf, inf, inf,\n",
       "       inf, inf, inf, inf, inf, inf, inf, inf, inf, inf, inf, inf, inf,\n",
       "       inf, inf, inf, inf, inf, inf, inf, inf, inf, inf, inf, inf, inf,\n",
       "       inf, inf, inf, inf, inf, inf, inf, inf, inf, inf, inf, inf, inf,\n",
       "       inf, inf, inf, inf, inf, inf, inf, inf, inf, inf, inf, inf, inf,\n",
       "       inf, inf, inf, inf, inf, inf, inf, inf, inf, inf, inf, inf, inf,\n",
       "       inf, inf, inf, inf, inf, inf, inf, inf, inf, inf, inf, inf, inf,\n",
       "       inf, inf, inf, inf, inf, inf, inf, inf, inf, inf, inf, inf, inf,\n",
       "       inf, inf, inf, inf, inf, inf, inf, inf, inf, inf, inf, inf, inf,\n",
       "       inf, inf, inf, inf, inf, inf, inf, inf, inf, inf, inf, inf, inf,\n",
       "       inf, inf, inf, inf, inf, inf, inf, inf, inf, inf, inf, inf, inf,\n",
       "       inf, inf, inf, inf, inf], dtype=float32)"
      ]
     },
     "execution_count": 75,
     "metadata": {},
     "output_type": "execute_result"
    }
   ],
   "execution_count": 75
  },
  {
   "metadata": {
    "ExecuteTime": {
     "end_time": "2025-07-07T10:13:06.781185Z",
     "start_time": "2025-07-07T10:13:06.778421Z"
    }
   },
   "cell_type": "code",
   "source": "jnp.allclose(task_llhs_old, task_llhs_new)",
   "id": "13c230e0fbe7bad9",
   "outputs": [
    {
     "data": {
      "text/plain": [
       "Array(True, dtype=bool)"
      ]
     },
     "execution_count": 76,
     "metadata": {},
     "output_type": "execute_result"
    }
   ],
   "execution_count": 76
  },
  {
   "metadata": {
    "ExecuteTime": {
     "end_time": "2025-07-07T10:13:09.321140Z",
     "start_time": "2025-07-07T10:13:06.806790Z"
    }
   },
   "cell_type": "code",
   "source": "%timeit magma_neg_likelihood_old(task_kern, padded_inputs, padded_outputs.squeeze(), post_mean, post_cov, mappings, nugget=nugget)[0].block_until_ready()",
   "id": "bc005ebe85304a57",
   "outputs": [
    {
     "name": "stdout",
     "output_type": "stream",
     "text": [
      "30.8 ms ± 342 μs per loop (mean ± std. dev. of 7 runs, 10 loops each)\n"
     ]
    }
   ],
   "execution_count": 77
  },
  {
   "metadata": {
    "ExecuteTime": {
     "end_time": "2025-07-07T10:13:11.923219Z",
     "start_time": "2025-07-07T10:13:09.335216Z"
    }
   },
   "cell_type": "code",
   "source": "%timeit magma_neg_likelihood_new(task_kern, padded_inputs, padded_outputs, post_mean, post_cov, mappings, nugget=nugget)[0].block_until_ready()",
   "id": "11ba9f3164f2342d",
   "outputs": [
    {
     "name": "stdout",
     "output_type": "stream",
     "text": [
      "31.6 ms ± 896 μs per loop (mean ± std. dev. of 7 runs, 10 loops each)\n"
     ]
    }
   ],
   "execution_count": 78
  },
  {
   "metadata": {},
   "cell_type": "markdown",
   "source": "---",
   "id": "f18216d93ddcf3af"
  },
  {
   "metadata": {},
   "cell_type": "code",
   "outputs": [],
   "execution_count": null,
   "source": "",
   "id": "3c2e9d66247af81b"
  }
 ],
 "metadata": {
  "kernelspec": {
   "display_name": "Python 3",
   "language": "python",
   "name": "python3"
  },
  "language_info": {
   "codemirror_mode": {
    "name": "ipython",
    "version": 2
   },
   "file_extension": ".py",
   "mimetype": "text/x-python",
   "name": "python",
   "nbconvert_exporter": "python",
   "pygments_lexer": "ipython2",
   "version": "2.7.6"
  }
 },
 "nbformat": 4,
 "nbformat_minor": 5
}
