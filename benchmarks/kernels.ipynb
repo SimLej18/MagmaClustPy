{
 "cells": [
  {
   "metadata": {},
   "cell_type": "markdown",
   "source": [
    "# Benchmarks - Kernels\n",
    "\n",
    "In MagmaClust and GPs in general, kernels are what makes it possible to compute a covariance matrix for any set of points, given a set of hyperparameters. They are used in many innermost loops, and their implementation is critical for performance.\n",
    "\n",
    "**Main considerations when implementing kernels**\n",
    "\n",
    "A good kernel implementation must be:\n",
    "* fast, as it is used in many innermost loops\n",
    "* usable at many dimensions, including a batch dimension with distinct hyperparameters for each element\n",
    "* work on padded inputs (aka inputs with NaNs), maybe using a mask\n",
    "* jittable, as it is used in many jit-compiled functions\n",
    "* modular, as kernels can be combined in many ways\n",
    "* both static and instance-based, to either carry around hyperparameters or be called with them\n",
    "* easy to override, as users may want to define their own kernels\n",
    "\n",
    "These goals are conflicting in some cases (e.g: a jittable version of a kernel is not trivial to write for most people), and the best implementation will depend on the specific use case."
   ],
   "id": "f69390d194b35b0a"
  },
  {
   "metadata": {},
   "cell_type": "markdown",
   "source": [
    "---\n",
    "## Setup"
   ],
   "id": "4763c6a1086dfd7a"
  },
  {
   "metadata": {
    "ExecuteTime": {
     "end_time": "2025-03-05T10:42:11.510613Z",
     "start_time": "2025-03-05T10:42:11.507830Z"
    }
   },
   "cell_type": "code",
   "source": [
    "# Standard library\n",
    "import os"
   ],
   "id": "eb0046b46dc27950",
   "outputs": [],
   "execution_count": 1
  },
  {
   "metadata": {
    "ExecuteTime": {
     "end_time": "2025-03-05T10:42:11.842296Z",
     "start_time": "2025-03-05T10:42:11.522177Z"
    }
   },
   "cell_type": "code",
   "source": [
    "# Third party\n",
    "import jax\n",
    "from jax import jit, vmap\n",
    "from jax.tree_util import register_pytree_node_class\n",
    "from jax import numpy as jnp\n",
    "\n",
    "import numpy as np"
   ],
   "id": "a1fe8b76912d6f2c",
   "outputs": [],
   "execution_count": 2
  },
  {
   "metadata": {
    "ExecuteTime": {
     "end_time": "2025-03-05T10:42:11.926080Z",
     "start_time": "2025-03-05T10:42:11.924596Z"
    }
   },
   "cell_type": "code",
   "source": "# Local",
   "id": "4b255f340edfbe6f",
   "outputs": [],
   "execution_count": 3
  },
  {
   "metadata": {
    "ExecuteTime": {
     "end_time": "2025-03-05T10:42:11.931152Z",
     "start_time": "2025-03-05T10:42:11.929580Z"
    }
   },
   "cell_type": "code",
   "source": [
    "# Config\n",
    "os.environ['JAX_ENABLE_X64'] = \"True\""
   ],
   "id": "3180afa8778f9553",
   "outputs": [],
   "execution_count": 4
  },
  {
   "metadata": {},
   "cell_type": "markdown",
   "source": [
    "---\n",
    "## Data"
   ],
   "id": "190fcef7dd61821b"
  },
  {
   "metadata": {
    "ExecuteTime": {
     "end_time": "2025-03-05T10:42:11.936423Z",
     "start_time": "2025-03-05T10:42:11.935119Z"
    }
   },
   "cell_type": "code",
   "source": "",
   "id": "b36bdb0b6080e935",
   "outputs": [],
   "execution_count": null
  },
  {
   "metadata": {},
   "cell_type": "markdown",
   "source": [
    "---\n",
    "## Current implementation"
   ],
   "id": "bffd41fea2028bdb"
  },
  {
   "metadata": {
    "ExecuteTime": {
     "end_time": "2025-03-05T10:42:11.945881Z",
     "start_time": "2025-03-05T10:42:11.940061Z"
    }
   },
   "cell_type": "code",
   "source": [
    "class Kernel:\n",
    "\tdef __init__(self, **kwargs):\n",
    "\t\tself.params = kwargs\n",
    "\n",
    "\tdef __call__(self, x1, x2=None, **kwargs):\n",
    "\t\tx2 = x2 if x2 is not None else x1\n",
    "\n",
    "\t\t# Prepare keyword arguments\n",
    "\t\tif jnp.ndim(x1) < 2 or jnp.ndim(x2) < 2:\n",
    "\t\t\tkwargs = self.load_and_check_kwargs(kwargs, method=\"single\")\n",
    "\t\telif jnp.ndim(x1) == 2 and jnp.ndim(x2) == 2:\n",
    "\t\t\tkwargs = self.load_and_check_kwargs(kwargs, method=\"batch\", batch_size=x1.shape[0])\n",
    "\t\telse:\n",
    "\t\t\traise ValueError(\"Invalid input shapes.\")\n",
    "\n",
    "\t\t# Call the appropriate method\n",
    "\t\tif jnp.isscalar(x1) and jnp.isscalar(x2):\n",
    "\t\t\treturn self.compute_scalar(x1, x2, **kwargs)\n",
    "\t\telif jnp.isscalar(x1) and jnp.ndim(x2) == 1:\n",
    "\t\t\treturn self.compute_vector(x1, x2, **kwargs)\n",
    "\t\telif jnp.ndim(x1) == 1 and jnp.isscalar(x2):\n",
    "\t\t\treturn self.compute_vector(x2, x1, **kwargs)\n",
    "\t\telif jnp.ndim(x1) == 1 and jnp.ndim(x2) == 1:\n",
    "\t\t\treturn self.compute_matrix(x1, x2, **kwargs)\n",
    "\t\telif jnp.ndim(x1) == 2 and jnp.ndim(x2) == 2:\n",
    "\t\t\treturn self.compute_batch(x1, x2, **kwargs)\n",
    "\t\telse:\n",
    "\t\t\traise ValueError(f\"Invalid input shapes: {x1.shape} and {x2.shape}.\")\n",
    "\n",
    "\t@classmethod\n",
    "\tdef compute(cls, x1, x2=None, **kwargs):\n",
    "\t\treturn cls(**kwargs)(x1, x2)\n",
    "\n",
    "\tdef load_and_check_kwargs(self, kwargs, method=\"single\", batch_size=None):\n",
    "\t\t\"\"\"\n",
    "\t\tLoad parameters from instance or kwargs, ensure correct shapes.\n",
    "\t\t- method=\"single\": Scalar parameters only.\n",
    "\t\t- method=\"batch\": Parameters must match batch size or be broadcastable.\n",
    "\t\t\"\"\"\n",
    "\t\tfor key in self.params:\n",
    "\t\t\tif key not in kwargs:\n",
    "\t\t\t\tkwargs[key] = self.params[key]\n",
    "\n",
    "\t\tfor key, value in kwargs.items():\n",
    "\t\t\tif value is None:\n",
    "\t\t\t\traise ValueError(f\"Missing parameter: {key}\")\n",
    "\n",
    "\t\t\tif method == \"single\":\n",
    "\t\t\t\tif not jnp.isscalar(value):\n",
    "\t\t\t\t\traise ValueError(f\"Parameter {key} must be a scalar.\")\n",
    "\t\t\telif method == \"batch\":\n",
    "\t\t\t\tif jnp.isscalar(value):\n",
    "\t\t\t\t\tkwargs[key] = jnp.full((batch_size,), value)\n",
    "\t\t\t\telif value.shape[0] != batch_size:\n",
    "\t\t\t\t\traise ValueError(f\"Parameter {key} must be a scalar or match batch size {batch_size}\")\n",
    "\n",
    "\t\treturn kwargs\n",
    "\n",
    "\tdef params_to_tensor(self):\n",
    "\t\treturn jnp.array([v for v in self.params.values()])\n",
    "\n",
    "\tdef tensor_to_params(self, tensor):\n",
    "\t\tassert len(tensor) == len(self.params), f\"Invalid tensor size. Got {len(tensor)}, expected {len(self.params)}.\"\n",
    "\n",
    "\t\tself.params = {k: tensor[i] for i, k in enumerate(self.params.keys())}\n",
    "\n",
    "\tdef compute_scalar(self, x1: float, x2: float, **kwargs) -> float:\n",
    "\t\traise NotImplementedError\n",
    "\n",
    "\tdef compute_vector(self, x1: float, x2: jnp.ndarray, **kwargs) -> jnp.ndarray:\n",
    "\t\treturn vmap(lambda x: self.compute_scalar(x1, x, **kwargs), in_axes=0)(x2)\n",
    "\n",
    "\tdef compute_matrix(self, x1: jnp.ndarray, x2: jnp.ndarray = None, **kwargs) -> jnp.ndarray:\n",
    "\t\tx2 = x2 if x2 is not None else x1\n",
    "\t\treturn vmap(lambda x: self.compute_vector(x, x2, **kwargs), in_axes=0)(x1)\n",
    "\n",
    "\tdef compute_batch(self, x1: jnp.ndarray, x2: jnp.ndarray = None, **kwargs) -> jnp.ndarray:\n",
    "\t\tif x2 is None:\n",
    "\t\t\tx2 = x1\n",
    "\t\tif x1.shape[0] != x2.shape[0]:\n",
    "\t\t\traise ValueError(\"Batch sizes must match.\")\n",
    "\n",
    "\t\t# Just compute covariances between corresponding pairs from each batch\n",
    "\t\treturn vmap(self.compute_matrix)(x1, x2, **kwargs)"
   ],
   "id": "6b7e730087bbca42",
   "outputs": [],
   "execution_count": 5
  },
  {
   "metadata": {
    "ExecuteTime": {
     "end_time": "2025-03-05T10:42:11.960399Z",
     "start_time": "2025-03-05T10:42:11.958279Z"
    }
   },
   "cell_type": "code",
   "source": [
    "class RBFKernel(Kernel):\n",
    "\t\"\"\"\n",
    "\tRadial Basis Function (RBF) kernel, also known as the squared exponential kernel.\n",
    "\n",
    "\tParameters:\n",
    "\t\t- length_scale (float): Determines how quickly the function decays as points move apart.\n",
    "\t\t- variance (float): Determines the amplitude of the kernel.\n",
    "\t\"\"\"\n",
    "\n",
    "\tdef compute_scalar(self, x1: float, x2: float, **kwargs) -> float:\n",
    "\t\treturn kwargs[\"variance\"] * jnp.exp(-0.5 * (x1 - x2) ** 2 / kwargs[\"length_scale\"] ** 2)\n"
   ],
   "id": "46e1f06fc91a1cef",
   "outputs": [],
   "execution_count": 6
  },
  {
   "metadata": {},
   "cell_type": "markdown",
   "source": [
    "\n",
    "\tdef compute_vector(self, x1: float, x2: jnp.ndarray, **kwargs) -> jnp.ndarray:\n",
    "\t\treturn kwargs[\"variance\"] * jnp.exp(-0.5 * (x1 - x2) ** 2 / kwargs[\"length_scale\"] ** 2)\n",
    "\n",
    "\tdef compute_matrix(self, x1: jnp.ndarray, x2: jnp.ndarray = None, **kwargs) -> jnp.ndarray:\n",
    "\t\tx2 = x2 if x2 is not None else x1\n",
    "\t\treturn kwargs[\"variance\"] * jnp.exp(-0.5 * (x1[:, None] - x2) ** 2 / kwargs[\"length_scale\"] ** 2)\n",
    "\n",
    "\tdef compute_batch(self, x1: jnp.ndarray, x2: jnp.ndarray = None, **kwargs) -> jnp.ndarray:\n",
    "\t\tif x1.shape[0] != x2.shape[0]:\n",
    "\t\t\traise ValueError(\"Batch sizes must match.\")\n",
    "\n",
    "\t\tlength_scale = kwargs[\"length_scale\"][:, None, None]\n",
    "\t\tvariance = kwargs[\"variance\"][:, None, None]\n",
    "\n",
    "\t\t# Calculate pairwise distances and apply kernel\n",
    "\t\tsquared_diff = (x1[:, :, None] - x2[:, None, :]) ** 2\n",
    "\t\treturn variance * jnp.exp(-0.5 * squared_diff / length_scale ** 2)"
   ],
   "id": "d407308534622ced"
  },
  {
   "metadata": {
    "ExecuteTime": {
     "end_time": "2025-03-05T10:42:11.972486Z",
     "start_time": "2025-03-05T10:42:11.970523Z"
    }
   },
   "cell_type": "code",
   "source": [
    "class SEMagmaKernel(Kernel):\n",
    "\tdef compute_scalar(self, x1: float, x2: float, **kwargs) -> float:\n",
    "\t\treturn jnp.exp(kwargs[\"variance\"] - jnp.exp(-kwargs[\"length_scale\"]) * jnp.sum((x1 - x2) ** 2) * 0.5)"
   ],
   "id": "f41b933e0046c2f7",
   "outputs": [],
   "execution_count": 7
  },
  {
   "metadata": {},
   "cell_type": "markdown",
   "source": [
    "---\n",
    "## Custom implementation(s)"
   ],
   "id": "c7496288f6ddf25f"
  },
  {
   "metadata": {},
   "cell_type": "markdown",
   "source": [
    "### Defaults of the previous implementation that we wish to correct/improve:\n",
    "\n",
    "**The `compute_*` methods are not jittable.**\n",
    "\n",
    "-> Jitting them requires the class to extend PyTrees, to use class attributes in their logic (see https://docs.jax.dev/en/latest/faq.html#how-to-use-jit-with-methods and https://docs.jax.dev/en/latest/pytrees.html#extending-pytrees)\n",
    "\n",
    "-> It also requires having the hyperparameters as attributes instead of a param dictionary. However, we still want the abstract \"Kernel\" class to work for any set of provided hyperparameters kwargs.\n",
    "\n",
    "-> Finally, it requires to rework the optionnal param handling, as the current conditionnal logic implementation is not jittable. Doing so might require to have custom implementations for the `common_hp` and `distinct_hp` setups, expressed as a boolean parameter. In `common_hp`, the hyperparameter is a scalar, common to every task. In `distinct_hp`, it is an array, with values for every task. For example, this function is jittable and handles this difference in dimensionality:\n",
    "\n",
    "```python\n",
    "def my_fun(x: jnp.array, y: jnp.array) -> jnp.array:\n",
    "\treturn x * y\n",
    "\n",
    "@partial(jit, static_argnums=2)\n",
    "def my_fun_2(x: jnp.array, y: jnp.array, batched: bool) -> jnp.array:\n",
    "\t# batched = wether y has a batch dimension or not\n",
    "\tif batched:\n",
    "\t\treturn vmap(my_fun)(x, y)[:,None]\n",
    "\telse:\n",
    "\t\treturn vmap(my_fun, in_axes=(0, None))(x, y)\n",
    "```\n",
    "\n",
    "**Hyperparameters are either all common to the batch or all distinct.**\n",
    "\n",
    "-> We want to allow for a mix of both, where some hyperparameters are common to the whole batch and some are distinct. This is useful for example when the lengthscale is common to the whole batch but the variance is distinct for each element.\n",
    "\n",
    "### Compromises we are willing to make:\n",
    "\n",
    "**Error prevention/messages can be less informative.**\n",
    "\n",
    "-> JIT doesn't allow for exceptions and extensive if/else checking. We are willing to make a tradeoff for performances, even if some users might not understand in what way they are missusing the API."
   ],
   "id": "72e4f4846ec0f35a"
  },
  {
   "metadata": {
    "ExecuteTime": {
     "end_time": "2025-03-05T10:42:11.980688Z",
     "start_time": "2025-03-05T10:42:11.974661Z"
    }
   },
   "cell_type": "code",
   "source": [
    "#TODO: check vmap along kwargs\n",
    "# To make vmap work, we convert kwargs to args in this implementation\n",
    "# This leads to potential bugs where the order of the kwargs is not respected, either in provided params or in the class definition\n",
    "# Alternative is tu use a \"lambda\" version of each compute_* method, with kwargs as a parameter, and then vmap this lambda function, as presented in comments. However, this may lead to jit compiling many times the same function, which is not optimal. I'm not sure if this is the case, so we should check.\n",
    "\n",
    "@register_pytree_node_class\n",
    "class AbstractKernel:\n",
    "\tdef __init__(self, **kwargs):\n",
    "\t\t# Check that hyperparameters are all jnp arrays/scalars\n",
    "\t\tfor key, value in kwargs.items():\n",
    "\t\t\tif not isinstance(value, jnp.ndarray):  # Check type\n",
    "\t\t\t\traise ValueError(f\"Parameter {key} must be a jnp.ndarray.\")\n",
    "\t\t\telse:  # Check dimensionality\n",
    "\t\t\t\tif len(value.shape) > 1:\n",
    "\t\t\t\t\traise ValueError(f\"Parameter {key} must be a scalar or a 1D array, got shape {value.shape}.\")\n",
    "\n",
    "\t\t# Register hyperparameters in *kwargs* as instance attributes\n",
    "\t\tself.__dict__.update(kwargs)\n",
    "\n",
    "\t@jit\n",
    "\tdef check_kwargs(self, **kwargs):\n",
    "\t\tfor key in self.__dict__:\n",
    "\t\t\tif key not in kwargs:\n",
    "\t\t\t\tkwargs[key] = self.__dict__[key]\n",
    "\t\treturn kwargs\n",
    "\n",
    "\t@jit\n",
    "\tdef __call__(self, x1, x2=None, **kwargs):\n",
    "\t\t# If no x2 is provided, we compute the covariance between x1 and itself\n",
    "\t\tif x2 is None:\n",
    "\t\t\tx2 = x1\n",
    "\n",
    "\t\t# Check kwargs\n",
    "\t\tkwargs = self.check_kwargs(**kwargs)\n",
    "\t\targs = kwargs.values()\n",
    "\n",
    "\t\t# Call the appropriate method\n",
    "\t\tif jnp.isscalar(x1) and jnp.isscalar(x2):\n",
    "\t\t\treturn self.compute_scalar(x1, x2, *args)\n",
    "\t\telif jnp.ndim(x1) == 1 and jnp.isscalar(x2):\n",
    "\t\t\treturn self.compute_vector(x1, x2, *args)\n",
    "\t\telif jnp.isscalar(x1) and jnp.ndim(x2) == 1:\n",
    "\t\t\treturn self.compute_vector(x2, x1, *args)\n",
    "\t\telif jnp.ndim(x1) == 1 and jnp.ndim(x2) == 1:\n",
    "\t\t\treturn self.compute_matrix(x1, x2, *args)\n",
    "\t\telif jnp.ndim(x1) == 2 and jnp.ndim(x2) == 2:\n",
    "\t\t\treturn self.compute_batch(x1, x2, *args)\n",
    "\t\telse:\n",
    "\t\t\treturn jnp.nan\n",
    "\n",
    "\t# Methods to use Kernel as a PyTree\n",
    "\tdef tree_flatten(self):\n",
    "\t\treturn tuple(self.__dict__.values()), None  # No static values\n",
    "\n",
    "\t@classmethod\n",
    "\tdef tree_unflatten(cls, _, children):\n",
    "\t\t# This class being abstract, this function fails when called on an \"abstract instance\",\n",
    "\t\t# as we don't know the number of parameters the constructor expects yet we send it children.\n",
    "\t\t# On a subclass, this will work as expected as long as the constructor has a clear number of\n",
    "\t\t# kwargs as parameters.\n",
    "\t\treturn cls(*children)\n",
    "\n",
    "\t@jit\n",
    "\tdef compute_scalar(self, x1: jnp.ndarray, x2: jnp.ndarray, *args) -> jnp.ndarray:\n",
    "\t\t\"\"\"\n",
    "\t\tCompute the kernel covariance value between two scalar arrays.\n",
    "\n",
    "\t\t:param x1: scalar array\n",
    "\t\t:param x2: scalar array\n",
    "\t\t:param kwargs: hyperparameters of the kernel\n",
    "\t\t:return: scalar array\n",
    "\t\t\"\"\"\n",
    "\t\treturn jnp.nan  # To be overwritten\n",
    "\n",
    "\t@jit\n",
    "\tdef compute_vector(self, x1: jnp.ndarray, x2: jnp.ndarray, *args) -> jnp.ndarray:\n",
    "\t\t\"\"\"\n",
    "\t\tCompute the kernel covariance value between a vector and a scalar.\n",
    "\n",
    "\t\t:param x1: vector array (N,)\n",
    "\t\t:param x2: scalar array\n",
    "\t\t:param kwargs: hyperparameters of the kernel\n",
    "\t\t:return: vector array (N,)\n",
    "\t\t\"\"\"\n",
    "\t\t#return vmap(lambda x: self.compute_scalar(x, x2, **kwargs), in_axes=0)(x1)\n",
    "\t\treturn vmap(self.compute_scalar, in_axes=(0, None) + (None,)*len(args))(x1, x2, *args).squeeze()\n",
    "\n",
    "\t@jit\n",
    "\tdef compute_matrix(self, x1: jnp.ndarray, x2: jnp.ndarray, *args) -> jnp.ndarray:\n",
    "\t\t\"\"\"\n",
    "\t\tCompute the kernel covariance matrix between two vector arrays.\n",
    "\n",
    "\t\t:param x1: vector array (N,)\n",
    "\t\t:param x2: vector array (M,)\n",
    "\t\t:param kwargs: hyperparameters of the kernel\n",
    "\t\t:return: matrix array (N, M)\n",
    "\t\t\"\"\"\n",
    "\t\t#vmap(lambda x: self.compute_vector(x, x2, **kwargs), in_axes=0)(x1)\n",
    "\t\treturn vmap(self.compute_vector, in_axes=(None, 0) + (None,)*len(args))(x2, x1, *args)\n",
    "\n",
    "\t@jit\n",
    "\tdef compute_batch(self, x1: jnp.ndarray, x2: jnp.ndarray, *args) -> jnp.ndarray:\n",
    "\t\t\"\"\"\n",
    "\t\tCompute the kernel covariance matrix between two batched vector arrays.\n",
    "\n",
    "\t\t:param x1: vector array (B, N)\n",
    "\t\t:param x2: vector array (B, M)\n",
    "\t\t:param kwargs: hyperparameters of the kernel. Each HP that is a scalar will be common to the whole batch, and each HP that is a vector will be distinct and thus must have shape (B,)\n",
    "\t\t:return: tensor array (B, N, M)\n",
    "\t\t\"\"\"\n",
    "\t\t#vmap(self.compute_matrix)(x1, x2, **kwargs)\n",
    "\t\targs_axes = tuple(None if jnp.isscalar(hp) else 0 for hp in args)\n",
    "\n",
    "\t\treturn vmap(self.compute_matrix, in_axes=(0, 0) + args_axes)(x1, x2, *args)"
   ],
   "id": "5de6fcef36a19d83",
   "outputs": [],
   "execution_count": 8
  },
  {
   "metadata": {
    "ExecuteTime": {
     "end_time": "2025-03-05T10:42:11.987610Z",
     "start_time": "2025-03-05T10:42:11.985167Z"
    }
   },
   "cell_type": "code",
   "source": [
    "@register_pytree_node_class\n",
    "class NewRBFKernel(AbstractKernel):\n",
    "\tdef __init__(self, length_scale=None, variance=None):\n",
    "\t\tif length_scale is None:\n",
    "\t\t\tlength_scale = jnp.array([1.])\n",
    "\t\tif variance is None:\n",
    "\t\t\tvariance = jnp.array([1.])\n",
    "\t\tsuper().__init__(length_scale=length_scale, variance=variance)\n",
    "\n",
    "\t@jit\n",
    "\tdef compute_scalar(self, x1: jnp.ndarray, x2: jnp.ndarray, length_scale=None, variance=None) -> jnp.ndarray:\n",
    "\t\treturn variance * jnp.exp(-0.5 * (x1 - x2) ** 2 / length_scale ** 2)"
   ],
   "id": "39c146b7314536f3",
   "outputs": [],
   "execution_count": 9
  },
  {
   "metadata": {},
   "cell_type": "markdown",
   "source": [
    "---\n",
    "## Comparison"
   ],
   "id": "88fdaed3f55aae3a"
  },
  {
   "metadata": {
    "ExecuteTime": {
     "end_time": "2025-03-05T10:42:12.077014Z",
     "start_time": "2025-03-05T10:42:11.995466Z"
    }
   },
   "cell_type": "code",
   "source": [
    "old_RBF = RBFKernel(length_scale=1.0, variance=1.0)\n",
    "new_RBF = NewRBFKernel(length_scale=jnp.array(1.), variance=jnp.array(1.))\n",
    "key = jax.random.PRNGKey(0)"
   ],
   "id": "ed8be2acd5fb7300",
   "outputs": [],
   "execution_count": 10
  },
  {
   "metadata": {},
   "cell_type": "markdown",
   "source": "### On scalars",
   "id": "72fc2c859b07141f"
  },
  {
   "metadata": {
    "ExecuteTime": {
     "end_time": "2025-03-05T10:42:12.179532Z",
     "start_time": "2025-03-05T10:42:12.080716Z"
    }
   },
   "cell_type": "code",
   "source": [
    "key, subkey = jax.random.split(key)\n",
    "a = jax.random.uniform(subkey, ())\n",
    "key, subkey = jax.random.split(key)\n",
    "b = jax.random.uniform(subkey, ())\n",
    "a, b"
   ],
   "id": "91accf6c200faefe",
   "outputs": [
    {
     "data": {
      "text/plain": [
       "(Array(0.00729382, dtype=float32), Array(0.10429037, dtype=float32))"
      ]
     },
     "execution_count": 11,
     "metadata": {},
     "output_type": "execute_result"
    }
   ],
   "execution_count": 11
  },
  {
   "metadata": {
    "ExecuteTime": {
     "end_time": "2025-03-05T10:42:12.272674Z",
     "start_time": "2025-03-05T10:42:12.187552Z"
    }
   },
   "cell_type": "code",
   "source": [
    "res1 = old_RBF(a, b)\n",
    "np.asarray(res1)"
   ],
   "id": "c0767a5357092886",
   "outputs": [
    {
     "data": {
      "text/plain": [
       "array(0.9953069, dtype=float32)"
      ]
     },
     "execution_count": 12,
     "metadata": {},
     "output_type": "execute_result"
    }
   ],
   "execution_count": 12
  },
  {
   "metadata": {
    "ExecuteTime": {
     "end_time": "2025-03-05T10:42:12.300607Z",
     "start_time": "2025-03-05T10:42:12.277367Z"
    }
   },
   "cell_type": "code",
   "source": [
    "res2 = new_RBF(a, b)\n",
    "np.asarray(res2)"
   ],
   "id": "f317cd74793268c1",
   "outputs": [
    {
     "data": {
      "text/plain": [
       "array(0.9953069, dtype=float32)"
      ]
     },
     "execution_count": 13,
     "metadata": {},
     "output_type": "execute_result"
    }
   ],
   "execution_count": 13
  },
  {
   "metadata": {
    "ExecuteTime": {
     "end_time": "2025-03-05T10:42:12.332177Z",
     "start_time": "2025-03-05T10:42:12.305281Z"
    }
   },
   "cell_type": "code",
   "source": "jnp.allclose(res1, res2)",
   "id": "1e31a8a1331139a8",
   "outputs": [
    {
     "data": {
      "text/plain": [
       "Array(True, dtype=bool)"
      ]
     },
     "execution_count": 14,
     "metadata": {},
     "output_type": "execute_result"
    }
   ],
   "execution_count": 14
  },
  {
   "metadata": {
    "ExecuteTime": {
     "end_time": "2025-03-05T10:42:17.012500Z",
     "start_time": "2025-03-05T10:42:12.345228Z"
    }
   },
   "cell_type": "code",
   "source": "%timeit old_RBF(a, b).block_until_ready()",
   "id": "fd427f5b212e7996",
   "outputs": [
    {
     "name": "stdout",
     "output_type": "stream",
     "text": [
      "57.4 μs ± 734 ns per loop (mean ± std. dev. of 7 runs, 10,000 loops each)\n"
     ]
    }
   ],
   "execution_count": 15
  },
  {
   "metadata": {
    "ExecuteTime": {
     "end_time": "2025-03-05T10:42:21.639599Z",
     "start_time": "2025-03-05T10:42:17.017720Z"
    }
   },
   "cell_type": "code",
   "source": "%timeit new_RBF(a, b).block_until_ready()",
   "id": "d3668e725dad284a",
   "outputs": [
    {
     "name": "stdout",
     "output_type": "stream",
     "text": [
      "5.68 μs ± 50.3 ns per loop (mean ± std. dev. of 7 runs, 100,000 loops each)\n"
     ]
    }
   ],
   "execution_count": 16
  },
  {
   "metadata": {},
   "cell_type": "markdown",
   "source": "### On an array and a scalar",
   "id": "230835a6635088b7"
  },
  {
   "metadata": {
    "ExecuteTime": {
     "end_time": "2025-03-05T10:42:21.726152Z",
     "start_time": "2025-03-05T10:42:21.648922Z"
    }
   },
   "cell_type": "code",
   "source": [
    "key, subkey = jax.random.split(key)\n",
    "a = jax.random.uniform(subkey, (10000,))\n",
    "key, subkey = jax.random.split(key)\n",
    "b = jax.random.uniform(subkey, ())\n",
    "a, b"
   ],
   "id": "6a4c7a5ef8dbcd53",
   "outputs": [
    {
     "data": {
      "text/plain": [
       "(Array([0.08260381, 0.7807871 , 0.93827987, ..., 0.99492884, 0.05307555,\n",
       "        0.8959063 ], dtype=float32),\n",
       " Array(0.01066005, dtype=float32))"
      ]
     },
     "execution_count": 17,
     "metadata": {},
     "output_type": "execute_result"
    }
   ],
   "execution_count": 17
  },
  {
   "metadata": {
    "ExecuteTime": {
     "end_time": "2025-03-05T10:42:21.845135Z",
     "start_time": "2025-03-05T10:42:21.734198Z"
    }
   },
   "cell_type": "code",
   "source": [
    "res1 = old_RBF(a, b)\n",
    "np.asarray(res1)"
   ],
   "id": "229f81e6f95befa4",
   "outputs": [
    {
     "data": {
      "text/plain": [
       "array([0.9974154 , 0.74338007, 0.6503535 , ..., 0.61607134, 0.99910086,\n",
       "       0.6758187 ], dtype=float32)"
      ]
     },
     "execution_count": 18,
     "metadata": {},
     "output_type": "execute_result"
    }
   ],
   "execution_count": 18
  },
  {
   "metadata": {
    "ExecuteTime": {
     "end_time": "2025-03-05T10:42:21.890868Z",
     "start_time": "2025-03-05T10:42:21.862750Z"
    }
   },
   "cell_type": "code",
   "source": [
    "res2 = new_RBF(a, b)\n",
    "np.asarray(res2)"
   ],
   "id": "80ad90bc8eeb5eb5",
   "outputs": [
    {
     "data": {
      "text/plain": [
       "array([0.9974154 , 0.74338007, 0.6503535 , ..., 0.61607134, 0.99910086,\n",
       "       0.6758187 ], dtype=float32)"
      ]
     },
     "execution_count": 19,
     "metadata": {},
     "output_type": "execute_result"
    }
   ],
   "execution_count": 19
  },
  {
   "metadata": {
    "ExecuteTime": {
     "end_time": "2025-03-05T10:42:21.932138Z",
     "start_time": "2025-03-05T10:42:21.897797Z"
    }
   },
   "cell_type": "code",
   "source": "jnp.allclose(res1, res2)",
   "id": "767c7986aea10111",
   "outputs": [
    {
     "data": {
      "text/plain": [
       "Array(True, dtype=bool)"
      ]
     },
     "execution_count": 20,
     "metadata": {},
     "output_type": "execute_result"
    }
   ],
   "execution_count": 20
  },
  {
   "metadata": {
    "ExecuteTime": {
     "end_time": "2025-03-05T10:42:25.935249Z",
     "start_time": "2025-03-05T10:42:21.940087Z"
    }
   },
   "cell_type": "code",
   "source": "%timeit old_RBF(a, b).block_until_ready()",
   "id": "3fcdd9490530e57b",
   "outputs": [
    {
     "name": "stdout",
     "output_type": "stream",
     "text": [
      "487 μs ± 28.9 μs per loop (mean ± std. dev. of 7 runs, 1,000 loops each)\n"
     ]
    }
   ],
   "execution_count": 21
  },
  {
   "metadata": {
    "ExecuteTime": {
     "end_time": "2025-03-05T10:42:28.001825Z",
     "start_time": "2025-03-05T10:42:25.941058Z"
    }
   },
   "cell_type": "code",
   "source": "%timeit new_RBF(a, b).block_until_ready()",
   "id": "8ca44189d29f6e7b",
   "outputs": [
    {
     "name": "stdout",
     "output_type": "stream",
     "text": [
      "25.4 μs ± 268 ns per loop (mean ± std. dev. of 7 runs, 10,000 loops each)\n"
     ]
    }
   ],
   "execution_count": 22
  },
  {
   "metadata": {},
   "cell_type": "markdown",
   "source": "### On two arrays",
   "id": "90cc3cd43d1f60f1"
  },
  {
   "metadata": {
    "ExecuteTime": {
     "end_time": "2025-03-05T10:42:28.075670Z",
     "start_time": "2025-03-05T10:42:28.007864Z"
    }
   },
   "cell_type": "code",
   "source": [
    "key, subkey = jax.random.split(key)\n",
    "a = jax.random.uniform(subkey, (10000,))\n",
    "key, subkey = jax.random.split(key)\n",
    "b = jax.random.uniform(subkey, (15000,))\n",
    "a.shape, b.shape"
   ],
   "id": "2e187ec00e66d966",
   "outputs": [
    {
     "data": {
      "text/plain": [
       "((10000,), (15000,))"
      ]
     },
     "execution_count": 23,
     "metadata": {},
     "output_type": "execute_result"
    }
   ],
   "execution_count": 23
  },
  {
   "metadata": {
    "ExecuteTime": {
     "end_time": "2025-03-05T10:42:28.422636Z",
     "start_time": "2025-03-05T10:42:28.081678Z"
    }
   },
   "cell_type": "code",
   "source": [
    "res1 = old_RBF(a, b)\n",
    "np.asarray(res1).shape"
   ],
   "id": "4ee7910c44ec8322",
   "outputs": [
    {
     "data": {
      "text/plain": [
       "(10000, 15000)"
      ]
     },
     "execution_count": 24,
     "metadata": {},
     "output_type": "execute_result"
    }
   ],
   "execution_count": 24
  },
  {
   "metadata": {
    "ExecuteTime": {
     "end_time": "2025-03-05T10:42:28.495076Z",
     "start_time": "2025-03-05T10:42:28.434011Z"
    }
   },
   "cell_type": "code",
   "source": [
    "res2 = new_RBF(a, b)\n",
    "np.asarray(res2).shape"
   ],
   "id": "1e5cc829e8dd35e5",
   "outputs": [
    {
     "data": {
      "text/plain": [
       "(10000, 15000)"
      ]
     },
     "execution_count": 25,
     "metadata": {},
     "output_type": "execute_result"
    }
   ],
   "execution_count": 25
  },
  {
   "metadata": {
    "ExecuteTime": {
     "end_time": "2025-03-05T10:42:28.583631Z",
     "start_time": "2025-03-05T10:42:28.500806Z"
    }
   },
   "cell_type": "code",
   "source": "jnp.allclose(res1, res2)",
   "id": "20e9d689dc4ac3ff",
   "outputs": [
    {
     "data": {
      "text/plain": [
       "Array(True, dtype=bool)"
      ]
     },
     "execution_count": 26,
     "metadata": {},
     "output_type": "execute_result"
    }
   ],
   "execution_count": 26
  },
  {
   "metadata": {
    "ExecuteTime": {
     "end_time": "2025-03-05T10:42:30.906100Z",
     "start_time": "2025-03-05T10:42:28.589725Z"
    }
   },
   "cell_type": "code",
   "source": "%timeit old_RBF(a, b).block_until_ready()",
   "id": "90c64e2b77d19297",
   "outputs": [
    {
     "name": "stdout",
     "output_type": "stream",
     "text": [
      "233 ms ± 10.1 ms per loop (mean ± std. dev. of 7 runs, 1 loop each)\n"
     ]
    }
   ],
   "execution_count": 27
  },
  {
   "metadata": {
    "ExecuteTime": {
     "end_time": "2025-03-05T10:42:33.887770Z",
     "start_time": "2025-03-05T10:42:30.924898Z"
    }
   },
   "cell_type": "code",
   "source": "%timeit new_RBF(a, b).block_until_ready()",
   "id": "461450e09cca635d",
   "outputs": [
    {
     "name": "stdout",
     "output_type": "stream",
     "text": [
      "36.5 ms ± 277 μs per loop (mean ± std. dev. of 7 runs, 10 loops each)\n"
     ]
    }
   ],
   "execution_count": 28
  },
  {
   "metadata": {},
   "cell_type": "markdown",
   "source": "### On two batches of arrays with common HP",
   "id": "63164fba40982ea8"
  },
  {
   "metadata": {
    "ExecuteTime": {
     "end_time": "2025-03-05T10:42:34.032042Z",
     "start_time": "2025-03-05T10:42:33.893303Z"
    }
   },
   "cell_type": "code",
   "source": [
    "key, subkey = jax.random.split(key)\n",
    "a = jax.random.uniform(subkey, (50, 100))\n",
    "key, subkey = jax.random.split(key)\n",
    "b = jax.random.uniform(subkey, (50, 150))\n",
    "a.shape, b.shape"
   ],
   "id": "e413ce7333f699",
   "outputs": [
    {
     "data": {
      "text/plain": [
       "((50, 100), (50, 150))"
      ]
     },
     "execution_count": 29,
     "metadata": {},
     "output_type": "execute_result"
    }
   ],
   "execution_count": 29
  },
  {
   "metadata": {
    "ExecuteTime": {
     "end_time": "2025-03-05T10:42:34.263787Z",
     "start_time": "2025-03-05T10:42:34.041604Z"
    }
   },
   "cell_type": "code",
   "source": [
    "# Using common hyperparameters for all batches\n",
    "res1 = old_RBF(a, b)\n",
    "np.asarray(res1).shape"
   ],
   "id": "fc8548ed32551e44",
   "outputs": [
    {
     "data": {
      "text/plain": [
       "(50, 100, 150)"
      ]
     },
     "execution_count": 30,
     "metadata": {},
     "output_type": "execute_result"
    }
   ],
   "execution_count": 30
  },
  {
   "metadata": {
    "ExecuteTime": {
     "end_time": "2025-03-05T10:42:34.333435Z",
     "start_time": "2025-03-05T10:42:34.269715Z"
    }
   },
   "cell_type": "code",
   "source": [
    "# Also using common hyperparameters for all batches\n",
    "res2 = new_RBF(a, b)\n",
    "np.asarray(res2).shape"
   ],
   "id": "3f52ca9e8e57785f",
   "outputs": [
    {
     "data": {
      "text/plain": [
       "(50, 100, 150)"
      ]
     },
     "execution_count": 31,
     "metadata": {},
     "output_type": "execute_result"
    }
   ],
   "execution_count": 31
  },
  {
   "metadata": {
    "ExecuteTime": {
     "end_time": "2025-03-05T10:42:34.375168Z",
     "start_time": "2025-03-05T10:42:34.340305Z"
    }
   },
   "cell_type": "code",
   "source": "jnp.allclose(res1, res2)",
   "id": "5f4e08c68d1875c2",
   "outputs": [
    {
     "data": {
      "text/plain": [
       "Array(True, dtype=bool)"
      ]
     },
     "execution_count": 32,
     "metadata": {},
     "output_type": "execute_result"
    }
   ],
   "execution_count": 32
  },
  {
   "metadata": {
    "ExecuteTime": {
     "end_time": "2025-03-05T10:42:46.764270Z",
     "start_time": "2025-03-05T10:42:34.381611Z"
    }
   },
   "cell_type": "code",
   "source": "%timeit old_RBF(a, b).block_until_ready()",
   "id": "157687039596bf3e",
   "outputs": [
    {
     "name": "stdout",
     "output_type": "stream",
     "text": [
      "1.53 ms ± 10.5 μs per loop (mean ± std. dev. of 7 runs, 1,000 loops each)\n"
     ]
    }
   ],
   "execution_count": 33
  },
  {
   "metadata": {
    "ExecuteTime": {
     "end_time": "2025-03-05T10:42:49.521896Z",
     "start_time": "2025-03-05T10:42:46.770375Z"
    }
   },
   "cell_type": "code",
   "source": "%timeit new_RBF(a, b).block_until_ready()",
   "id": "de5edd7f24165ee",
   "outputs": [
    {
     "name": "stdout",
     "output_type": "stream",
     "text": [
      "341 μs ± 27.9 μs per loop (mean ± std. dev. of 7 runs, 1,000 loops each)\n"
     ]
    }
   ],
   "execution_count": 34
  },
  {
   "metadata": {},
   "cell_type": "markdown",
   "source": "### On two batches of arrays with distinct HP",
   "id": "2852fadacb2da833"
  },
  {
   "metadata": {
    "ExecuteTime": {
     "end_time": "2025-03-05T10:42:49.614793Z",
     "start_time": "2025-03-05T10:42:49.527914Z"
    }
   },
   "cell_type": "code",
   "source": [
    "key, subkey = jax.random.split(key)\n",
    "a = jax.random.uniform(subkey, (50, 100))  # 5 batches of 10-dimensional data\n",
    "key, subkey = jax.random.split(key)\n",
    "b = jax.random.uniform(subkey, (50, 150))  # 5 batches of 15-dimensional data\n",
    "\n",
    "# Create distinct hyperparameters for each batch\n",
    "key, subkey = jax.random.split(key)\n",
    "distinct_length_scales = jax.random.uniform(subkey, (50,)) + 0.5  # Ensuring positive values\n",
    "key, subkey = jax.random.split(key)\n",
    "distinct_variances = jax.random.uniform(subkey, (50,)) + 0.5  # Ensuring positive values\n",
    "\n",
    "distinct_length_scales, distinct_variances"
   ],
   "id": "54078da46f988088",
   "outputs": [
    {
     "data": {
      "text/plain": [
       "(Array([0.69834626, 1.1941253 , 0.74907124, 1.4650234 , 0.6623002 ,\n",
       "        0.5150695 , 1.3077172 , 0.8598883 , 1.3379186 , 0.5345807 ,\n",
       "        0.9925809 , 1.0119901 , 0.6867107 , 1.3121855 , 1.4377677 ,\n",
       "        1.397761  , 0.66495323, 1.1306376 , 0.95631206, 0.6137631 ,\n",
       "        0.86514413, 1.2786899 , 1.0824803 , 0.89162004, 1.080331  ,\n",
       "        0.70636487, 0.88181865, 1.2177788 , 0.9001007 , 0.88983023,\n",
       "        1.0880367 , 1.0784531 , 1.1646242 , 1.3984015 , 1.2634037 ,\n",
       "        0.5314708 , 0.53026426, 1.309241  , 0.7298783 , 1.2418199 ,\n",
       "        0.9763527 , 0.52760875, 1.0559071 , 1.2554548 , 1.3978969 ,\n",
       "        1.2237661 , 0.7706127 , 1.2761428 , 1.1990191 , 0.59786415],      dtype=float32),\n",
       " Array([0.9009923 , 0.7235527 , 0.8779906 , 1.007704  , 0.8343816 ,\n",
       "        0.961216  , 0.652822  , 0.7110219 , 0.84446895, 1.1748973 ,\n",
       "        0.5548018 , 1.3568562 , 1.4311233 , 0.9435116 , 0.68918073,\n",
       "        0.751114  , 1.4021089 , 1.2387986 , 0.9405923 , 1.2024236 ,\n",
       "        0.8921603 , 0.53052104, 1.1043124 , 0.79154575, 0.6328254 ,\n",
       "        0.80565107, 1.1634843 , 1.2503736 , 0.80904007, 1.1978528 ,\n",
       "        0.66388285, 1.043859  , 1.405077  , 0.5263654 , 0.64131975,\n",
       "        0.71661615, 1.0786928 , 0.9667696 , 0.56010103, 1.0978794 ,\n",
       "        0.604226  , 1.2035547 , 1.3834955 , 1.4834589 , 0.7382213 ,\n",
       "        0.8997779 , 1.2125913 , 1.2263665 , 1.0432855 , 1.4203497 ],      dtype=float32))"
      ]
     },
     "execution_count": 35,
     "metadata": {},
     "output_type": "execute_result"
    }
   ],
   "execution_count": 35
  },
  {
   "metadata": {
    "ExecuteTime": {
     "end_time": "2025-03-05T10:42:49.698752Z",
     "start_time": "2025-03-05T10:42:49.621346Z"
    }
   },
   "cell_type": "code",
   "source": "res1 = old_RBF(a, b, length_scale=distinct_length_scales, variance=distinct_variances)",
   "id": "7b257cdaabb8d9f8",
   "outputs": [],
   "execution_count": 36
  },
  {
   "metadata": {
    "ExecuteTime": {
     "end_time": "2025-03-05T10:42:49.739384Z",
     "start_time": "2025-03-05T10:42:49.704711Z"
    }
   },
   "cell_type": "code",
   "source": "res2 = new_RBF(a, b, length_scale=distinct_length_scales, variance=distinct_variances)",
   "id": "4a7803a753fb4840",
   "outputs": [],
   "execution_count": 37
  },
  {
   "metadata": {
    "ExecuteTime": {
     "end_time": "2025-03-05T10:42:49.747864Z",
     "start_time": "2025-03-05T10:42:49.745330Z"
    }
   },
   "cell_type": "code",
   "source": "jnp.allclose(res1, res2)",
   "id": "39aa37e12c9cba59",
   "outputs": [
    {
     "data": {
      "text/plain": [
       "Array(True, dtype=bool)"
      ]
     },
     "execution_count": 38,
     "metadata": {},
     "output_type": "execute_result"
    }
   ],
   "execution_count": 38
  },
  {
   "metadata": {
    "ExecuteTime": {
     "end_time": "2025-03-05T10:43:01.981095Z",
     "start_time": "2025-03-05T10:42:49.754071Z"
    }
   },
   "cell_type": "code",
   "source": "%timeit old_RBF(a, b, length_scale=distinct_length_scales, variance=distinct_variances).block_until_ready()",
   "id": "c7484691a8884b94",
   "outputs": [
    {
     "name": "stdout",
     "output_type": "stream",
     "text": [
      "1.5 ms ± 79.4 μs per loop (mean ± std. dev. of 7 runs, 1,000 loops each)\n"
     ]
    }
   ],
   "execution_count": 39
  },
  {
   "metadata": {
    "ExecuteTime": {
     "end_time": "2025-03-05T10:43:04.595786Z",
     "start_time": "2025-03-05T10:43:01.987875Z"
    }
   },
   "cell_type": "code",
   "source": "%timeit new_RBF(a, b, length_scale=distinct_length_scales, variance=distinct_variances).block_until_ready()",
   "id": "83eea3bcc71501a8",
   "outputs": [
    {
     "name": "stdout",
     "output_type": "stream",
     "text": [
      "318 μs ± 4.64 μs per loop (mean ± std. dev. of 7 runs, 1,000 loops each)\n"
     ]
    }
   ],
   "execution_count": 40
  },
  {
   "metadata": {},
   "cell_type": "markdown",
   "source": [
    "---\n",
    "## Conclusion"
   ],
   "id": "40eac9ed87ce043e"
  },
  {
   "metadata": {
    "ExecuteTime": {
     "end_time": "2025-03-05T10:43:04.603503Z",
     "start_time": "2025-03-05T10:43:04.602045Z"
    }
   },
   "cell_type": "code",
   "source": "",
   "id": "e00d28413733ef9a",
   "outputs": [],
   "execution_count": null
  },
  {
   "metadata": {},
   "cell_type": "markdown",
   "source": "---",
   "id": "f18216d93ddcf3af"
  },
  {
   "cell_type": "markdown",
   "source": [
    "## Conclusion\n",
    "\n",
    "This benchmark highlights the fact that the new, jittable implementation is up to 20x faster on CPU, with little to no compromise on the API side.\n",
    "\n",
    "The new implementation is also more flexible, as it allows for a mix of common and distinct hyperparameters for each batch, which can be useful in many cases.\n",
    "\n",
    "Next steps to improve this implementation would be to check if the `vmap` calls are optimal (maybe lambda functions would work better with kwargs), and to test the implementation on GPU to see if the speedup is even more significant."
   ],
   "metadata": {},
   "id": "1f610b64e6ed7847"
  }
 ],
 "metadata": {
  "kernelspec": {
   "display_name": "Python 3",
   "language": "python",
   "name": "python3"
  },
  "language_info": {
   "codemirror_mode": {
    "name": "ipython",
    "version": 2
   },
   "file_extension": ".py",
   "mimetype": "text/x-python",
   "name": "python",
   "nbconvert_exporter": "python",
   "pygments_lexer": "ipython2",
   "version": "2.7.6"
  }
 },
 "nbformat": 4,
 "nbformat_minor": 5
}
