{
 "cells": [
  {
   "metadata": {},
   "cell_type": "markdown",
   "source": [
    "# Benchmarks - Kernels\n",
    "\n",
    "In MagmaClust and GPs in general, kernels are what makes it possible to compute a covariance matrix for any set of points, given a set of hyperparameters. They are used in many innermost loops, and their implementation is critical for performance.\n",
    "\n",
    "**Main considerations when implementing kernels**\n",
    "\n",
    "A good kernel implementation must be:\n",
    "* fast, as it is used in many innermost loops\n",
    "* usable at many dimensions, including a batch dimension with distinct hyperparameters for each element\n",
    "* work on padded inputs (aka inputs with NaNs), maybe using a mask\n",
    "* jittable, as it is used in many jit-compiled functions\n",
    "* modular, as kernels can be combined in many ways\n",
    "* both static and instance-based, to either carry around hyperparameters or be called with them\n",
    "* easy to override, as users may want to define their own kernels\n",
    "\n",
    "These goals are conflicting in some cases (e.g: a jittable version of a kernel is not trivial to write for most people), and the best implementation will depend on the specific use case."
   ],
   "id": "f69390d194b35b0a"
  },
  {
   "metadata": {},
   "cell_type": "markdown",
   "source": [
    "---\n",
    "## Setup"
   ],
   "id": "4763c6a1086dfd7a"
  },
  {
   "metadata": {
    "ExecuteTime": {
     "end_time": "2025-03-05T18:30:46.042769Z",
     "start_time": "2025-03-05T18:30:46.039039Z"
    }
   },
   "cell_type": "code",
   "source": [
    "# Standard library\n",
    "import os\n",
    "\n",
    "os.environ['JAX_ENABLE_X64'] = \"True\""
   ],
   "id": "eb0046b46dc27950",
   "outputs": [],
   "execution_count": 1
  },
  {
   "metadata": {
    "ExecuteTime": {
     "end_time": "2025-03-05T18:30:46.508105Z",
     "start_time": "2025-03-05T18:30:46.127457Z"
    }
   },
   "cell_type": "code",
   "source": [
    "# Third party\n",
    "import jax\n",
    "from jax import jit, vmap\n",
    "from jax.tree_util import register_pytree_node_class\n",
    "from jax import numpy as jnp\n",
    "\n",
    "import numpy as np"
   ],
   "id": "a1fe8b76912d6f2c",
   "outputs": [],
   "execution_count": 2
  },
  {
   "metadata": {
    "ExecuteTime": {
     "end_time": "2025-03-05T18:30:46.733176Z",
     "start_time": "2025-03-05T18:30:46.511145Z"
    }
   },
   "cell_type": "code",
   "source": [
    "# Local\n",
    "from MagmaClustPy.kernels import RBFKernel, AbstractKernel\n",
    "from MagmaClustPy.utils import generate_dummy_db, preprocess_db"
   ],
   "id": "4b255f340edfbe6f",
   "outputs": [],
   "execution_count": 3
  },
  {
   "metadata": {
    "ExecuteTime": {
     "end_time": "2025-03-05T18:30:46.811010Z",
     "start_time": "2025-03-05T18:30:46.737242Z"
    }
   },
   "cell_type": "code",
   "source": [
    "# Config\n",
    "key = jax.random.PRNGKey(0)"
   ],
   "id": "3180afa8778f9553",
   "outputs": [],
   "execution_count": 4
  },
  {
   "metadata": {},
   "cell_type": "markdown",
   "source": [
    "---\n",
    "## Data"
   ],
   "id": "190fcef7dd61821b"
  },
  {
   "metadata": {
    "ExecuteTime": {
     "end_time": "2025-03-05T18:30:46.837748Z",
     "start_time": "2025-03-05T18:30:46.830614Z"
    }
   },
   "cell_type": "code",
   "source": "",
   "id": "b36bdb0b6080e935",
   "outputs": [],
   "execution_count": null
  },
  {
   "metadata": {},
   "cell_type": "markdown",
   "source": [
    "---\n",
    "## Current implementation"
   ],
   "id": "bffd41fea2028bdb"
  },
  {
   "metadata": {
    "ExecuteTime": {
     "end_time": "2025-03-05T18:30:46.860661Z",
     "start_time": "2025-03-05T18:30:46.844756Z"
    }
   },
   "cell_type": "code",
   "source": "old_kernel = RBFKernel(length_scale=jnp.array(1.), variance=jnp.array(1.))",
   "id": "692013689fa2b7a2",
   "outputs": [],
   "execution_count": 5
  },
  {
   "metadata": {},
   "cell_type": "markdown",
   "source": [
    "---\n",
    "## Custom implementation(s)"
   ],
   "id": "c7496288f6ddf25f"
  },
  {
   "metadata": {},
   "cell_type": "markdown",
   "source": [
    "### Defaults of the previous implementation that we wish to correct/improve:\n",
    "\n",
    "**The kwargs are converted to args**\n",
    "\n",
    "To make vmap work, we convert kwargs to args in the old implementation\n",
    "\n",
    "This leads to potential bugs where the order of the kwargs is not respected, either in provided params or in the class definition.\n",
    "Alternative is tu use a \"lambda\" version of each compute_* method, with kwargs as a parameter, and then vmap this\n",
    "lambda function, as presented in comments. However, this may lead to jit compiling many times the same function,\n",
    "which is not optimal. I'm not sure if this is the case, so we should check."
   ],
   "id": "72e4f4846ec0f35a"
  },
  {
   "metadata": {
    "ExecuteTime": {
     "end_time": "2025-03-05T18:30:46.872708Z",
     "start_time": "2025-03-05T18:30:46.866748Z"
    }
   },
   "cell_type": "code",
   "source": [
    "@register_pytree_node_class\n",
    "class NewAbstractKernel:\n",
    "\tdef __init__(self, **kwargs):\n",
    "\t\t# Check that hyperparameters are all jnp arrays/scalars\n",
    "\t\tfor key, value in kwargs.items():\n",
    "\t\t\tif not isinstance(value, jnp.ndarray):  # Check type\n",
    "\t\t\t\traise ValueError(f\"Parameter {key} must be a jnp.ndarray.\")\n",
    "\t\t\telse:  # Check dimensionality\n",
    "\t\t\t\tif len(value.shape) > 1:\n",
    "\t\t\t\t\traise ValueError(f\"Parameter {key} must be a scalar or a 1D array, got shape {value.shape}.\")\n",
    "\n",
    "\t\t# Register hyperparameters in *kwargs* as instance attributes\n",
    "\t\tself.__dict__.update(kwargs)\n",
    "\n",
    "\t@jit\n",
    "\tdef check_kwargs(self, **kwargs):\n",
    "\t\tfor key in self.__dict__:\n",
    "\t\t\tif key not in kwargs:\n",
    "\t\t\t\tkwargs[key] = self.__dict__[key]\n",
    "\t\treturn kwargs\n",
    "\n",
    "\t@jit\n",
    "\tdef __call__(self, x1, x2=None, **kwargs):\n",
    "\t\t# If no x2 is provided, we compute the covariance between x1 and itself\n",
    "\t\tif x2 is None:\n",
    "\t\t\tx2 = x1\n",
    "\n",
    "\t\t# Check kwargs\n",
    "\t\tkwargs = self.check_kwargs(**kwargs)\n",
    "\n",
    "\t\t# Call the appropriate method\n",
    "\t\tif jnp.isscalar(x1) and jnp.isscalar(x2):\n",
    "\t\t\treturn self.compute_scalar(x1, x2, **kwargs)\n",
    "\t\telif jnp.ndim(x1) == 1 and jnp.isscalar(x2):\n",
    "\t\t\treturn self.compute_vector(x1, x2, **kwargs)\n",
    "\t\telif jnp.isscalar(x1) and jnp.ndim(x2) == 1:\n",
    "\t\t\treturn self.compute_vector(x2, x1, **kwargs)\n",
    "\t\telif jnp.ndim(x1) == 1 and jnp.ndim(x2) == 1:\n",
    "\t\t\treturn self.compute_matrix(x1, x2, **kwargs)\n",
    "\t\telif jnp.ndim(x1) == 2 and jnp.ndim(x2) == 2:\n",
    "\t\t\treturn self.compute_batch(x1, x2, **kwargs)\n",
    "\t\telse:\n",
    "\t\t\treturn jnp.nan\n",
    "\n",
    "\t# Methods to use Kernel as a PyTree\n",
    "\tdef tree_flatten(self):\n",
    "\t\treturn tuple(self.__dict__.values()), None  # No static values\n",
    "\n",
    "\t@classmethod\n",
    "\tdef tree_unflatten(cls, _, children):\n",
    "\t\t# This class being abstract, this function fails when called on an \"abstract instance\",\n",
    "\t\t# as we don't know the number of parameters the constructor expects, yet we send it children.\n",
    "\t\t# On a subclass, this will work as expected as long as the constructor has a clear number of\n",
    "\t\t# kwargs as parameters.\n",
    "\t\treturn cls(*children)\n",
    "\n",
    "\t@jit\n",
    "\tdef compute_scalar(self, x1: jnp.ndarray, x2: jnp.ndarray, **kwargs) -> jnp.ndarray:\n",
    "\t\t\"\"\"\n",
    "\t\tCompute the kernel covariance value between two scalar arrays.\n",
    "\n",
    "\t\t:param x1: scalar array\n",
    "\t\t:param x2: scalar array\n",
    "\t\t:param args: hyperparameters of the kernel\n",
    "\t\t:return: scalar array\n",
    "\t\t\"\"\"\n",
    "\t\treturn jnp.array(jnp.nan)  # To be overwritten\n",
    "\n",
    "\t@jit\n",
    "\tdef compute_vector(self, x1: jnp.ndarray, x2: jnp.ndarray, **kwargs) -> jnp.ndarray:\n",
    "\t\t\"\"\"\n",
    "\t\tCompute the kernel covariance value between a vector and a scalar.\n",
    "\n",
    "\t\t:param x1: vector array (N, )\n",
    "\t\t:param x2: scalar array\n",
    "\t\t:param args: hyperparameters of the kernel\n",
    "\t\t:return: vector array (N, )\n",
    "\t\t\"\"\"\n",
    "\t\treturn vmap(lambda x: self.compute_scalar(x, x2, **kwargs), in_axes=0)(x1)\n",
    "\t\t#  return vmap(self.compute_scalar, in_axes=(0, None) + (None,) * len(args))(x1, x2, *args).squeeze()\n",
    "\n",
    "\t@jit\n",
    "\tdef compute_matrix(self, x1: jnp.ndarray, x2: jnp.ndarray, **kwargs) -> jnp.ndarray:\n",
    "\t\t\"\"\"\n",
    "\t\tCompute the kernel covariance matrix between two vector arrays.\n",
    "\n",
    "\t\t:param x1: vector array (N, )\n",
    "\t\t:param x2: vector array (M, )\n",
    "\t\t:param args: hyperparameters of the kernel\n",
    "\t\t:return: matrix array (N, M)\n",
    "\t\t\"\"\"\n",
    "\t\treturn vmap(lambda x: self.compute_vector(x2, x, **kwargs), in_axes=0)(x1)\n",
    "\t\t# return vmap(self.compute_vector, in_axes=(None, 0) + (None,) * len(args))(x2, x1, *args)\n",
    "\n",
    "\t@jit\n",
    "\tdef compute_batch(self, x1: jnp.ndarray, x2: jnp.ndarray, **kwargs) -> jnp.ndarray:\n",
    "\t\t\"\"\"\n",
    "\t\tCompute the kernel covariance matrix between two batched vector arrays.\n",
    "\n",
    "\t\t:param x1: vector array (B, N)\n",
    "\t\t:param x2: vector array (B, M)\n",
    "\t\t:param args: hyperparameters of the kernel. Each HP that is a scalar will be common to the whole batch, and\n",
    "\t\teach HP that is a vector will be distinct and thus must have shape (B, )\n",
    "\t\t:return: tensor array (B, N, M)\n",
    "\t\t\"\"\"\n",
    "\t\t# vmap(self.compute_matrix)(x1, x2, **kwargs)\n",
    "\t\tcommon_hps = {key: value for key, value in kwargs.items() if jnp.isscalar(value)}\n",
    "\t\tdistinct_hps = {key: value for key, value in kwargs.items() if not jnp.isscalar(value)}\n",
    "\n",
    "\t\treturn vmap(lambda x, y, hps: self.compute_matrix(x, y, **hps, **common_hps), in_axes=(0, 0, 0))(x1, x2, distinct_hps)\n",
    "\t\t# kwargs_axes = tuple(None if jnp.isscalar(hp) else 0 for hp in kwargs)\n",
    "\t\t# return vmap(self.compute_matrix, in_axes=(0, 0) + kwargs_axes)(x1, x2, **kwargs)"
   ],
   "id": "6de52b981771ca48",
   "outputs": [],
   "execution_count": 6
  },
  {
   "metadata": {
    "ExecuteTime": {
     "end_time": "2025-03-05T18:30:46.883764Z",
     "start_time": "2025-03-05T18:30:46.881403Z"
    }
   },
   "cell_type": "code",
   "source": [
    "@register_pytree_node_class\n",
    "class NewRBFKernel(NewAbstractKernel):\n",
    "\tdef __init__(self, length_scale=None, variance=None):\n",
    "\t\tif length_scale is None:\n",
    "\t\t\tlength_scale = jnp.array([1.])\n",
    "\t\tif variance is None:\n",
    "\t\t\tvariance = jnp.array([1.])\n",
    "\t\tsuper().__init__(length_scale=length_scale, variance=variance)\n",
    "\n",
    "\t@jit\n",
    "\tdef compute_scalar(self, x1: jnp.ndarray, x2: jnp.ndarray, length_scale=None, variance=None) -> jnp.ndarray:\n",
    "\t\treturn variance * jnp.exp(-0.5 * (x1 - x2) ** 2 / length_scale ** 2)"
   ],
   "id": "dab793fb0db26fe8",
   "outputs": [],
   "execution_count": 7
  },
  {
   "metadata": {},
   "cell_type": "markdown",
   "source": [
    "---\n",
    "## Comparison"
   ],
   "id": "88fdaed3f55aae3a"
  },
  {
   "metadata": {
    "ExecuteTime": {
     "end_time": "2025-03-05T18:30:46.888120Z",
     "start_time": "2025-03-05T18:30:46.886356Z"
    }
   },
   "cell_type": "code",
   "source": "new_kernel = NewRBFKernel(length_scale=jnp.array(1.), variance=jnp.array(1.))",
   "id": "ed8be2acd5fb7300",
   "outputs": [],
   "execution_count": 8
  },
  {
   "metadata": {},
   "cell_type": "markdown",
   "source": "### On scalars",
   "id": "72fc2c859b07141f"
  },
  {
   "metadata": {
    "ExecuteTime": {
     "end_time": "2025-03-05T18:30:47.020858Z",
     "start_time": "2025-03-05T18:30:46.892391Z"
    }
   },
   "cell_type": "code",
   "source": [
    "key, subkey = jax.random.split(key)\n",
    "a = jax.random.uniform(subkey, ())\n",
    "key, subkey = jax.random.split(key)\n",
    "b = jax.random.uniform(subkey, ())\n",
    "a, b"
   ],
   "id": "91accf6c200faefe",
   "outputs": [
    {
     "data": {
      "text/plain": [
       "(Array(0.08062437, dtype=float64), Array(0.67119299, dtype=float64))"
      ]
     },
     "execution_count": 9,
     "metadata": {},
     "output_type": "execute_result"
    }
   ],
   "execution_count": 9
  },
  {
   "metadata": {
    "ExecuteTime": {
     "end_time": "2025-03-05T18:30:47.050127Z",
     "start_time": "2025-03-05T18:30:47.025962Z"
    }
   },
   "cell_type": "code",
   "source": [
    "res1 = old_kernel(a, b)\n",
    "np.asarray(res1)"
   ],
   "id": "c0767a5357092886",
   "outputs": [
    {
     "data": {
      "text/plain": [
       "array(0.8399729)"
      ]
     },
     "execution_count": 10,
     "metadata": {},
     "output_type": "execute_result"
    }
   ],
   "execution_count": 10
  },
  {
   "metadata": {
    "ExecuteTime": {
     "end_time": "2025-03-05T18:30:47.077399Z",
     "start_time": "2025-03-05T18:30:47.054607Z"
    }
   },
   "cell_type": "code",
   "source": [
    "res2 = new_kernel(a, b)\n",
    "np.asarray(res2)"
   ],
   "id": "f317cd74793268c1",
   "outputs": [
    {
     "data": {
      "text/plain": [
       "array(0.8399729)"
      ]
     },
     "execution_count": 11,
     "metadata": {},
     "output_type": "execute_result"
    }
   ],
   "execution_count": 11
  },
  {
   "metadata": {
    "ExecuteTime": {
     "end_time": "2025-03-05T18:30:47.107713Z",
     "start_time": "2025-03-05T18:30:47.081965Z"
    }
   },
   "cell_type": "code",
   "source": "jnp.allclose(res1, res2)",
   "id": "1e31a8a1331139a8",
   "outputs": [
    {
     "data": {
      "text/plain": [
       "Array(True, dtype=bool)"
      ]
     },
     "execution_count": 12,
     "metadata": {},
     "output_type": "execute_result"
    }
   ],
   "execution_count": 12
  },
  {
   "metadata": {
    "ExecuteTime": {
     "end_time": "2025-03-05T18:30:51.447896Z",
     "start_time": "2025-03-05T18:30:47.112361Z"
    }
   },
   "cell_type": "code",
   "source": "%timeit old_kernel(a, b).block_until_ready()",
   "id": "fd427f5b212e7996",
   "outputs": [
    {
     "name": "stdout",
     "output_type": "stream",
     "text": [
      "5.33 μs ± 15.8 ns per loop (mean ± std. dev. of 7 runs, 100,000 loops each)\n"
     ]
    }
   ],
   "execution_count": 13
  },
  {
   "metadata": {
    "ExecuteTime": {
     "end_time": "2025-03-05T18:30:55.750611Z",
     "start_time": "2025-03-05T18:30:51.452380Z"
    }
   },
   "cell_type": "code",
   "source": "%timeit new_kernel(a, b).block_until_ready()",
   "id": "d3668e725dad284a",
   "outputs": [
    {
     "name": "stdout",
     "output_type": "stream",
     "text": [
      "5.3 μs ± 28.1 ns per loop (mean ± std. dev. of 7 runs, 100,000 loops each)\n"
     ]
    }
   ],
   "execution_count": 14
  },
  {
   "metadata": {},
   "cell_type": "markdown",
   "source": "### On an array and a scalar",
   "id": "230835a6635088b7"
  },
  {
   "metadata": {
    "ExecuteTime": {
     "end_time": "2025-03-05T18:30:55.821046Z",
     "start_time": "2025-03-05T18:30:55.755120Z"
    }
   },
   "cell_type": "code",
   "source": [
    "key, subkey = jax.random.split(key)\n",
    "a = jax.random.uniform(subkey, (10000,))\n",
    "key, subkey = jax.random.split(key)\n",
    "b = jax.random.uniform(subkey, ())\n",
    "a, b"
   ],
   "id": "6a4c7a5ef8dbcd53",
   "outputs": [
    {
     "data": {
      "text/plain": [
       "(Array([0.35166634, 0.41402386, 0.25540459, ..., 0.56224417, 0.85059346,\n",
       "        0.79735932], dtype=float64),\n",
       " Array(0.15974131, dtype=float64))"
      ]
     },
     "execution_count": 15,
     "metadata": {},
     "output_type": "execute_result"
    }
   ],
   "execution_count": 15
  },
  {
   "metadata": {
    "ExecuteTime": {
     "end_time": "2025-03-05T18:30:55.849904Z",
     "start_time": "2025-03-05T18:30:55.825511Z"
    }
   },
   "cell_type": "code",
   "source": [
    "res1 = old_kernel(a, b)\n",
    "np.asarray(res1)"
   ],
   "id": "229f81e6f95befa4",
   "outputs": [
    {
     "data": {
      "text/plain": [
       "array([0.98175096, 0.96818721, 0.99543472, ..., 0.92218975, 0.7876997 ,\n",
       "       0.81605105])"
      ]
     },
     "execution_count": 16,
     "metadata": {},
     "output_type": "execute_result"
    }
   ],
   "execution_count": 16
  },
  {
   "metadata": {
    "ExecuteTime": {
     "end_time": "2025-03-05T18:30:55.878735Z",
     "start_time": "2025-03-05T18:30:55.854323Z"
    }
   },
   "cell_type": "code",
   "source": [
    "res2 = new_kernel(a, b)\n",
    "np.asarray(res2)"
   ],
   "id": "80ad90bc8eeb5eb5",
   "outputs": [
    {
     "data": {
      "text/plain": [
       "array([0.98175096, 0.96818721, 0.99543472, ..., 0.92218975, 0.7876997 ,\n",
       "       0.81605105])"
      ]
     },
     "execution_count": 17,
     "metadata": {},
     "output_type": "execute_result"
    }
   ],
   "execution_count": 17
  },
  {
   "metadata": {
    "ExecuteTime": {
     "end_time": "2025-03-05T18:30:55.912909Z",
     "start_time": "2025-03-05T18:30:55.883161Z"
    }
   },
   "cell_type": "code",
   "source": "jnp.allclose(res1, res2)",
   "id": "767c7986aea10111",
   "outputs": [
    {
     "data": {
      "text/plain": [
       "Array(True, dtype=bool)"
      ]
     },
     "execution_count": 18,
     "metadata": {},
     "output_type": "execute_result"
    }
   ],
   "execution_count": 18
  },
  {
   "metadata": {
    "ExecuteTime": {
     "end_time": "2025-03-05T18:31:00.138437Z",
     "start_time": "2025-03-05T18:30:55.917524Z"
    }
   },
   "cell_type": "code",
   "source": "%timeit old_kernel(a, b).block_until_ready()",
   "id": "3fcdd9490530e57b",
   "outputs": [
    {
     "name": "stdout",
     "output_type": "stream",
     "text": [
      "52 μs ± 446 ns per loop (mean ± std. dev. of 7 runs, 10,000 loops each)\n"
     ]
    }
   ],
   "execution_count": 19
  },
  {
   "metadata": {
    "ExecuteTime": {
     "end_time": "2025-03-05T18:31:04.352321Z",
     "start_time": "2025-03-05T18:31:00.143604Z"
    }
   },
   "cell_type": "code",
   "source": "%timeit new_kernel(a, b).block_until_ready()",
   "id": "8ca44189d29f6e7b",
   "outputs": [
    {
     "name": "stdout",
     "output_type": "stream",
     "text": [
      "51.8 μs ± 298 ns per loop (mean ± std. dev. of 7 runs, 10,000 loops each)\n"
     ]
    }
   ],
   "execution_count": 20
  },
  {
   "metadata": {},
   "cell_type": "markdown",
   "source": "### On two arrays",
   "id": "90cc3cd43d1f60f1"
  },
  {
   "metadata": {
    "ExecuteTime": {
     "end_time": "2025-03-05T18:31:04.423415Z",
     "start_time": "2025-03-05T18:31:04.357139Z"
    }
   },
   "cell_type": "code",
   "source": [
    "key, subkey = jax.random.split(key)\n",
    "a = jax.random.uniform(subkey, (10000,))\n",
    "key, subkey = jax.random.split(key)\n",
    "b = jax.random.uniform(subkey, (15000,))\n",
    "a.shape, b.shape"
   ],
   "id": "2e187ec00e66d966",
   "outputs": [
    {
     "data": {
      "text/plain": [
       "((10000,), (15000,))"
      ]
     },
     "execution_count": 21,
     "metadata": {},
     "output_type": "execute_result"
    }
   ],
   "execution_count": 21
  },
  {
   "metadata": {
    "ExecuteTime": {
     "end_time": "2025-03-05T18:31:04.761011Z",
     "start_time": "2025-03-05T18:31:04.428152Z"
    }
   },
   "cell_type": "code",
   "source": [
    "res1 = old_kernel(a, b)\n",
    "np.asarray(res1).shape"
   ],
   "id": "4ee7910c44ec8322",
   "outputs": [
    {
     "data": {
      "text/plain": [
       "(10000, 15000)"
      ]
     },
     "execution_count": 22,
     "metadata": {},
     "output_type": "execute_result"
    }
   ],
   "execution_count": 22
  },
  {
   "metadata": {
    "ExecuteTime": {
     "end_time": "2025-03-05T18:31:05.109723Z",
     "start_time": "2025-03-05T18:31:04.776485Z"
    }
   },
   "cell_type": "code",
   "source": [
    "res2 = new_kernel(a, b)\n",
    "np.asarray(res2).shape"
   ],
   "id": "1e5cc829e8dd35e5",
   "outputs": [
    {
     "data": {
      "text/plain": [
       "(10000, 15000)"
      ]
     },
     "execution_count": 23,
     "metadata": {},
     "output_type": "execute_result"
    }
   ],
   "execution_count": 23
  },
  {
   "metadata": {
    "ExecuteTime": {
     "end_time": "2025-03-05T18:31:05.345487Z",
     "start_time": "2025-03-05T18:31:05.123677Z"
    }
   },
   "cell_type": "code",
   "source": "jnp.allclose(res1, res2)",
   "id": "20e9d689dc4ac3ff",
   "outputs": [
    {
     "data": {
      "text/plain": [
       "Array(True, dtype=bool)"
      ]
     },
     "execution_count": 24,
     "metadata": {},
     "output_type": "execute_result"
    }
   ],
   "execution_count": 24
  },
  {
   "metadata": {
    "ExecuteTime": {
     "end_time": "2025-03-05T18:31:06.860322Z",
     "start_time": "2025-03-05T18:31:05.350463Z"
    }
   },
   "cell_type": "code",
   "source": "%timeit old_kernel(a, b).block_until_ready()",
   "id": "90c64e2b77d19297",
   "outputs": [
    {
     "name": "stdout",
     "output_type": "stream",
     "text": [
      "157 ms ± 5.68 ms per loop (mean ± std. dev. of 7 runs, 1 loop each)\n"
     ]
    }
   ],
   "execution_count": 25
  },
  {
   "metadata": {
    "ExecuteTime": {
     "end_time": "2025-03-05T18:31:08.267437Z",
     "start_time": "2025-03-05T18:31:06.869537Z"
    }
   },
   "cell_type": "code",
   "source": "%timeit new_kernel(a, b).block_until_ready()",
   "id": "461450e09cca635d",
   "outputs": [
    {
     "name": "stdout",
     "output_type": "stream",
     "text": [
      "163 ms ± 15.8 ms per loop (mean ± std. dev. of 7 runs, 1 loop each)\n"
     ]
    }
   ],
   "execution_count": 26
  },
  {
   "metadata": {},
   "cell_type": "markdown",
   "source": "### On two batches of arrays with common HP",
   "id": "63164fba40982ea8"
  },
  {
   "metadata": {
    "ExecuteTime": {
     "end_time": "2025-03-05T18:31:08.418681Z",
     "start_time": "2025-03-05T18:31:08.276628Z"
    }
   },
   "cell_type": "code",
   "source": [
    "key, subkey = jax.random.split(key)\n",
    "a = jax.random.uniform(subkey, (50, 100))\n",
    "key, subkey = jax.random.split(key)\n",
    "b = jax.random.uniform(subkey, (50, 150))\n",
    "a.shape, b.shape"
   ],
   "id": "e413ce7333f699",
   "outputs": [
    {
     "data": {
      "text/plain": [
       "((50, 100), (50, 150))"
      ]
     },
     "execution_count": 27,
     "metadata": {},
     "output_type": "execute_result"
    }
   ],
   "execution_count": 27
  },
  {
   "metadata": {
    "ExecuteTime": {
     "end_time": "2025-03-05T18:31:08.549083Z",
     "start_time": "2025-03-05T18:31:08.425299Z"
    }
   },
   "cell_type": "code",
   "source": [
    "# Using common hyperparameters for all batches\n",
    "res1 = old_kernel(a, b)\n",
    "np.asarray(res1).shape"
   ],
   "id": "fc8548ed32551e44",
   "outputs": [
    {
     "data": {
      "text/plain": [
       "(50, 100, 150)"
      ]
     },
     "execution_count": 28,
     "metadata": {},
     "output_type": "execute_result"
    }
   ],
   "execution_count": 28
  },
  {
   "metadata": {
    "ExecuteTime": {
     "end_time": "2025-03-05T18:31:08.629001Z",
     "start_time": "2025-03-05T18:31:08.555141Z"
    }
   },
   "cell_type": "code",
   "source": [
    "# Also using common hyperparameters for all batches\n",
    "res2 = new_kernel(a, b)\n",
    "np.asarray(res2).shape"
   ],
   "id": "3f52ca9e8e57785f",
   "outputs": [
    {
     "data": {
      "text/plain": [
       "(50, 100, 150)"
      ]
     },
     "execution_count": 29,
     "metadata": {},
     "output_type": "execute_result"
    }
   ],
   "execution_count": 29
  },
  {
   "metadata": {
    "ExecuteTime": {
     "end_time": "2025-03-05T18:31:08.669151Z",
     "start_time": "2025-03-05T18:31:08.635570Z"
    }
   },
   "cell_type": "code",
   "source": "jnp.allclose(res1, res2)",
   "id": "5f4e08c68d1875c2",
   "outputs": [
    {
     "data": {
      "text/plain": [
       "Array(True, dtype=bool)"
      ]
     },
     "execution_count": 30,
     "metadata": {},
     "output_type": "execute_result"
    }
   ],
   "execution_count": 30
  },
  {
   "metadata": {
    "ExecuteTime": {
     "end_time": "2025-03-05T18:31:15.500290Z",
     "start_time": "2025-03-05T18:31:08.675225Z"
    }
   },
   "cell_type": "code",
   "source": "%timeit old_kernel(a, b).block_until_ready()",
   "id": "157687039596bf3e",
   "outputs": [
    {
     "name": "stdout",
     "output_type": "stream",
     "text": [
      "840 μs ± 3 μs per loop (mean ± std. dev. of 7 runs, 1,000 loops each)\n"
     ]
    }
   ],
   "execution_count": 31
  },
  {
   "metadata": {
    "ExecuteTime": {
     "end_time": "2025-03-05T18:31:22.333671Z",
     "start_time": "2025-03-05T18:31:15.506105Z"
    }
   },
   "cell_type": "code",
   "source": "%timeit new_kernel(a, b).block_until_ready()",
   "id": "de5edd7f24165ee",
   "outputs": [
    {
     "name": "stdout",
     "output_type": "stream",
     "text": [
      "840 μs ± 2.73 μs per loop (mean ± std. dev. of 7 runs, 1,000 loops each)\n"
     ]
    }
   ],
   "execution_count": 32
  },
  {
   "metadata": {},
   "cell_type": "markdown",
   "source": "### On two batches of arrays with distinct HP",
   "id": "2852fadacb2da833"
  },
  {
   "metadata": {
    "ExecuteTime": {
     "end_time": "2025-03-05T18:31:22.426792Z",
     "start_time": "2025-03-05T18:31:22.339119Z"
    }
   },
   "cell_type": "code",
   "source": [
    "key, subkey = jax.random.split(key)\n",
    "a = jax.random.uniform(subkey, (50, 100))  # 5 batches of 10-dimensional data\n",
    "key, subkey = jax.random.split(key)\n",
    "b = jax.random.uniform(subkey, (50, 150))  # 5 batches of 15-dimensional data\n",
    "\n",
    "# Create distinct hyperparameters for each batch\n",
    "key, subkey = jax.random.split(key)\n",
    "distinct_length_scales = jax.random.uniform(subkey, (50,)) + 0.5  # Ensuring positive values\n",
    "key, subkey = jax.random.split(key)\n",
    "distinct_variances = jax.random.uniform(subkey, (50,)) + 0.5  # Ensuring positive values\n",
    "\n",
    "distinct_length_scales, distinct_variances"
   ],
   "id": "54078da46f988088",
   "outputs": [
    {
     "data": {
      "text/plain": [
       "(Array([0.73314298, 1.16657917, 0.85419874, 0.51307126, 1.18606573,\n",
       "        0.55039322, 0.95887649, 1.22698946, 0.96474768, 0.80743648,\n",
       "        1.09766226, 0.80717582, 0.89580246, 1.3499695 , 0.77893643,\n",
       "        1.40237506, 1.46014276, 0.78476368, 0.60720141, 0.83234395,\n",
       "        0.80273261, 0.89522365, 0.55596665, 1.07829468, 1.12246261,\n",
       "        1.31228677, 1.27370113, 1.28929839, 1.177215  , 0.6121177 ,\n",
       "        0.85959204, 0.97278255, 0.93860787, 0.95404747, 1.35596002,\n",
       "        1.10412686, 1.49799604, 1.3636239 , 0.9819335 , 1.49066854,\n",
       "        0.57652775, 1.42748273, 0.96863449, 0.54673638, 0.60064792,\n",
       "        1.21251168, 0.54389353, 1.28000685, 1.4706205 , 1.37892888],      dtype=float64),\n",
       " Array([1.40087618, 0.50347402, 0.81557193, 1.34923058, 1.00457197,\n",
       "        0.65788761, 0.9219105 , 0.72545942, 1.23310028, 0.91450771,\n",
       "        0.52153169, 1.07353706, 0.84001156, 0.63915561, 1.28793987,\n",
       "        0.960267  , 0.5185922 , 1.46299715, 1.2229984 , 0.73096194,\n",
       "        1.47447511, 1.41269148, 0.62063165, 1.39239143, 0.56357474,\n",
       "        0.95879739, 1.23934137, 0.66682831, 1.27697895, 1.41619929,\n",
       "        1.1099631 , 1.14399616, 1.30613247, 0.78241536, 1.13752401,\n",
       "        0.7997413 , 0.86489189, 1.1392135 , 1.05768611, 0.64485643,\n",
       "        0.78303156, 0.61316633, 0.53466457, 0.93155447, 0.81706077,\n",
       "        0.89970457, 0.6447488 , 1.16024019, 1.30514671, 0.9256145 ],      dtype=float64))"
      ]
     },
     "execution_count": 33,
     "metadata": {},
     "output_type": "execute_result"
    }
   ],
   "execution_count": 33
  },
  {
   "metadata": {
    "ExecuteTime": {
     "end_time": "2025-03-05T18:31:22.462528Z",
     "start_time": "2025-03-05T18:31:22.432686Z"
    }
   },
   "cell_type": "code",
   "source": "res1 = old_kernel(a, b, length_scale=distinct_length_scales, variance=distinct_variances)",
   "id": "7b257cdaabb8d9f8",
   "outputs": [],
   "execution_count": 34
  },
  {
   "metadata": {
    "ExecuteTime": {
     "end_time": "2025-03-05T18:31:22.497819Z",
     "start_time": "2025-03-05T18:31:22.468320Z"
    }
   },
   "cell_type": "code",
   "source": "res2 = new_kernel(a, b, length_scale=distinct_length_scales, variance=distinct_variances)",
   "id": "4a7803a753fb4840",
   "outputs": [],
   "execution_count": 35
  },
  {
   "metadata": {
    "ExecuteTime": {
     "end_time": "2025-03-05T18:31:22.506586Z",
     "start_time": "2025-03-05T18:31:22.503815Z"
    }
   },
   "cell_type": "code",
   "source": "jnp.allclose(res1, res2)",
   "id": "39aa37e12c9cba59",
   "outputs": [
    {
     "data": {
      "text/plain": [
       "Array(True, dtype=bool)"
      ]
     },
     "execution_count": 36,
     "metadata": {},
     "output_type": "execute_result"
    }
   ],
   "execution_count": 36
  },
  {
   "metadata": {
    "ExecuteTime": {
     "end_time": "2025-03-05T18:31:29.342990Z",
     "start_time": "2025-03-05T18:31:22.512444Z"
    }
   },
   "cell_type": "code",
   "source": "%timeit old_kernel(a, b, length_scale=distinct_length_scales, variance=distinct_variances).block_until_ready()",
   "id": "c7484691a8884b94",
   "outputs": [
    {
     "name": "stdout",
     "output_type": "stream",
     "text": [
      "841 μs ± 4.4 μs per loop (mean ± std. dev. of 7 runs, 1,000 loops each)\n"
     ]
    }
   ],
   "execution_count": 37
  },
  {
   "metadata": {
    "ExecuteTime": {
     "end_time": "2025-03-05T18:31:36.156486Z",
     "start_time": "2025-03-05T18:31:29.348589Z"
    }
   },
   "cell_type": "code",
   "source": "%timeit new_kernel(a, b, length_scale=distinct_length_scales, variance=distinct_variances).block_until_ready()",
   "id": "83eea3bcc71501a8",
   "outputs": [
    {
     "name": "stdout",
     "output_type": "stream",
     "text": [
      "839 μs ± 2.56 μs per loop (mean ± std. dev. of 7 runs, 1,000 loops each)\n"
     ]
    }
   ],
   "execution_count": 38
  },
  {
   "metadata": {},
   "cell_type": "markdown",
   "source": "### On two batches of arrays with both common and distinct HP",
   "id": "81c5b041a6947202"
  },
  {
   "metadata": {},
   "cell_type": "markdown",
   "source": "### On padded datasets",
   "id": "5b18757f169e0571"
  },
  {
   "metadata": {
    "ExecuteTime": {
     "end_time": "2025-03-05T18:31:47.473611Z",
     "start_time": "2025-03-05T18:31:36.162829Z"
    }
   },
   "cell_type": "code",
   "source": [
    "grid = jnp.arange(-200, 200, 1, dtype=jnp.float64)\n",
    "db = generate_dummy_db(50, 10, 100, grid, key)\n",
    "all_inputs, padded_inputs, padded_outputs, masks = preprocess_db(db)\n",
    "all_inputs.shape, padded_inputs.shape, padded_outputs.shape, masks.shape"
   ],
   "id": "caf05eea7cdc7a3e",
   "outputs": [
    {
     "data": {
      "text/plain": [
       "((399,), (50, 399), (50, 399), (50, 399))"
      ]
     },
     "execution_count": 39,
     "metadata": {},
     "output_type": "execute_result"
    }
   ],
   "execution_count": 39
  },
  {
   "metadata": {
    "ExecuteTime": {
     "end_time": "2025-03-05T18:31:47.533649Z",
     "start_time": "2025-03-05T18:31:47.486653Z"
    }
   },
   "cell_type": "code",
   "source": [
    "# Covariance on padded matrix\n",
    "res1 = new_kernel(padded_inputs)\n",
    "res1.shape"
   ],
   "id": "36e4e8128855c1b8",
   "outputs": [
    {
     "data": {
      "text/plain": [
       "(50, 399, 399)"
      ]
     },
     "execution_count": 40,
     "metadata": {},
     "output_type": "execute_result"
    }
   ],
   "execution_count": 40
  },
  {
   "metadata": {
    "ExecuteTime": {
     "end_time": "2025-03-05T18:31:47.837463Z",
     "start_time": "2025-03-05T18:31:47.619662Z"
    }
   },
   "cell_type": "code",
   "source": [
    "# Covariance on un-padded matrix\n",
    "res2 = new_kernel(padded_inputs[0][masks[0]])\n",
    "res2.shape"
   ],
   "id": "ba28542ba00c7fe9",
   "outputs": [
    {
     "data": {
      "text/plain": [
       "(29, 29)"
      ]
     },
     "execution_count": 41,
     "metadata": {},
     "output_type": "execute_result"
    }
   ],
   "execution_count": 41
  },
  {
   "metadata": {
    "ExecuteTime": {
     "end_time": "2025-03-05T18:32:08.584723Z",
     "start_time": "2025-03-05T18:32:08.310710Z"
    }
   },
   "cell_type": "code",
   "source": [
    "# Check that values in un-padded matrix correspond to the values in the padded matrix\n",
    "jnp.allclose(\n",
    "\tres1[0][masks[0][:, None] & masks[0][None, :]].reshape(sum(masks[0]), sum(masks[0])),\n",
    "\tres2)"
   ],
   "id": "3f5720edff4300da",
   "outputs": [
    {
     "data": {
      "text/plain": [
       "Array(True, dtype=bool)"
      ]
     },
     "execution_count": 43,
     "metadata": {},
     "output_type": "execute_result"
    }
   ],
   "execution_count": 43
  },
  {
   "metadata": {
    "ExecuteTime": {
     "end_time": "2025-03-05T18:32:16.930712Z",
     "start_time": "2025-03-05T18:32:12.246015Z"
    }
   },
   "cell_type": "code",
   "source": "%timeit new_kernel(padded_inputs).block_until_ready()",
   "id": "25d514f1119b82d0",
   "outputs": [
    {
     "name": "stdout",
     "output_type": "stream",
     "text": [
      "5.77 ms ± 93.2 μs per loop (mean ± std. dev. of 7 runs, 100 loops each)\n"
     ]
    }
   ],
   "execution_count": 44
  },
  {
   "metadata": {
    "ExecuteTime": {
     "end_time": "2025-03-05T18:32:17.046699Z",
     "start_time": "2025-03-05T18:32:17.000314Z"
    }
   },
   "cell_type": "code",
   "source": "jnp.nansum(masks, axis=1).mean()",
   "id": "47ee1df4ef4ce3aa",
   "outputs": [
    {
     "data": {
      "text/plain": [
       "Array(52.36, dtype=float64)"
      ]
     },
     "execution_count": 45,
     "metadata": {},
     "output_type": "execute_result"
    }
   ],
   "execution_count": 45
  },
  {
   "metadata": {
    "ExecuteTime": {
     "end_time": "2025-03-05T18:33:19.124417Z",
     "start_time": "2025-03-05T18:33:19.052042Z"
    }
   },
   "cell_type": "code",
   "source": [
    "# Equivalent dense inputs\n",
    "dense_inputs = jax.random.uniform(subkey, (50, int(jnp.nansum(masks, axis=1).mean().item())))"
   ],
   "id": "e1d9a2fe0369731f",
   "outputs": [],
   "execution_count": 48
  },
  {
   "metadata": {
    "ExecuteTime": {
     "end_time": "2025-03-05T18:33:21.588893Z",
     "start_time": "2025-03-05T18:33:19.888067Z"
    }
   },
   "cell_type": "code",
   "source": "%timeit new_kernel(dense_inputs).block_until_ready()",
   "id": "7f503700723b3f7b",
   "outputs": [
    {
     "name": "stdout",
     "output_type": "stream",
     "text": [
      "198 μs ± 2.72 μs per loop (mean ± std. dev. of 7 runs, 1,000 loops each)\n"
     ]
    }
   ],
   "execution_count": 49
  },
  {
   "metadata": {},
   "cell_type": "markdown",
   "source": [
    "---\n",
    "## Conclusion"
   ],
   "id": "40eac9ed87ce043e"
  },
  {
   "metadata": {},
   "cell_type": "markdown",
   "source": [
    "This new way of handling kwargs with lambda functions for vmap doesn't introduce any slowdown and should prevent bugs related to the placement of those kwargs. It's definitely a better alternative.\n",
    "\n",
    "Computing kernel on padding-dominant inputs is way slower than their dense equivalent, which is expected. We should investigate ways of speeding up the computations on padded matrices, as they are often used in practice.\n",
    "\n",
    "**Potential ways of speeding up the computations on padded matrices:**\n",
    "- simplify `compute_vector` when the scalar is NaN, but this would require conditional logic\n",
    "- make `compute_vector` use the mask of the array to compute on a dense array then spread the result"
   ],
   "id": "9a40d2411b3e8932"
  },
  {
   "metadata": {},
   "cell_type": "markdown",
   "source": "---",
   "id": "f18216d93ddcf3af"
  }
 ],
 "metadata": {
  "kernelspec": {
   "display_name": "Python 3",
   "language": "python",
   "name": "python3"
  },
  "language_info": {
   "codemirror_mode": {
    "name": "ipython",
    "version": 2
   },
   "file_extension": ".py",
   "mimetype": "text/x-python",
   "name": "python",
   "nbconvert_exporter": "python",
   "pygments_lexer": "ipython2",
   "version": "2.7.6"
  }
 },
 "nbformat": 4,
 "nbformat_minor": 5
}
