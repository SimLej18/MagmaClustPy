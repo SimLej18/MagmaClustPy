{
 "cells": [
  {
   "metadata": {},
   "cell_type": "markdown",
   "source": [
    "# Benchmarks - Kernels\n",
    "\n",
    "In MagmaClust and GPs in general, kernels are what makes it possible to compute a covariance matrix for any set of points, given a set of hyperparameters. They are used in many innermost loops, and their implementation is critical for performance.\n",
    "\n",
    "**Main considerations when implementing kernels**\n",
    "\n",
    "A good kernel implementation must be:\n",
    "* fast, as it is used in many innermost loops\n",
    "* usable at many dimensions, including a batch dimension with distinct hyperparameters for each element\n",
    "* work on padded inputs (aka inputs with NaNs), maybe using a mask\n",
    "* jittable, as it is used in many jit-compiled functions\n",
    "* modular, as kernels can be combined in many ways\n",
    "* both static and instance-based, to either carry around hyperparameters or be called with them\n",
    "* easy to override, as users may want to define their own kernels\n",
    "\n",
    "These goals are conflicting in some cases (e.g: a jittable version of a kernel is not trivial to write for most people), and the best implementation will depend on the specific use case."
   ],
   "id": "f69390d194b35b0a"
  },
  {
   "metadata": {},
   "cell_type": "markdown",
   "source": [
    "---\n",
    "## Setup"
   ],
   "id": "4763c6a1086dfd7a"
  },
  {
   "metadata": {
    "ExecuteTime": {
     "end_time": "2025-03-05T12:34:54.346299Z",
     "start_time": "2025-03-05T12:34:54.343352Z"
    }
   },
   "cell_type": "code",
   "source": [
    "# Standard library\n",
    "import os"
   ],
   "id": "eb0046b46dc27950",
   "outputs": [],
   "execution_count": 1
  },
  {
   "metadata": {
    "ExecuteTime": {
     "end_time": "2025-03-05T12:34:54.743859Z",
     "start_time": "2025-03-05T12:34:54.435148Z"
    }
   },
   "cell_type": "code",
   "source": [
    "# Third party\n",
    "import jax\n",
    "from jax import jit, vmap\n",
    "from jax.tree_util import register_pytree_node_class\n",
    "from jax import numpy as jnp\n",
    "\n",
    "import numpy as np"
   ],
   "id": "a1fe8b76912d6f2c",
   "outputs": [],
   "execution_count": 2
  },
  {
   "metadata": {
    "ExecuteTime": {
     "end_time": "2025-03-05T12:34:54.752904Z",
     "start_time": "2025-03-05T12:34:54.747319Z"
    }
   },
   "cell_type": "code",
   "source": [
    "# Local\n",
    "from MagmaClustPy.kernels import RBFKernel, AbstractKernel"
   ],
   "id": "4b255f340edfbe6f",
   "outputs": [],
   "execution_count": 3
  },
  {
   "metadata": {
    "ExecuteTime": {
     "end_time": "2025-03-05T12:34:54.821317Z",
     "start_time": "2025-03-05T12:34:54.757601Z"
    }
   },
   "cell_type": "code",
   "source": [
    "# Config\n",
    "os.environ['JAX_ENABLE_X64'] = \"True\"\n",
    "key = jax.random.PRNGKey(0)"
   ],
   "id": "3180afa8778f9553",
   "outputs": [],
   "execution_count": 4
  },
  {
   "metadata": {},
   "cell_type": "markdown",
   "source": [
    "---\n",
    "## Data"
   ],
   "id": "190fcef7dd61821b"
  },
  {
   "metadata": {
    "ExecuteTime": {
     "end_time": "2025-03-05T12:34:54.830763Z",
     "start_time": "2025-03-05T12:34:54.829489Z"
    }
   },
   "cell_type": "code",
   "source": "",
   "id": "b36bdb0b6080e935",
   "outputs": [],
   "execution_count": null
  },
  {
   "metadata": {},
   "cell_type": "markdown",
   "source": [
    "---\n",
    "## Current implementation"
   ],
   "id": "bffd41fea2028bdb"
  },
  {
   "metadata": {
    "ExecuteTime": {
     "end_time": "2025-03-05T12:34:54.851603Z",
     "start_time": "2025-03-05T12:34:54.835235Z"
    }
   },
   "cell_type": "code",
   "source": "old_kernel = RBFKernel(length_scale=jnp.array(1.), variance=jnp.array(1.))",
   "id": "692013689fa2b7a2",
   "outputs": [],
   "execution_count": 5
  },
  {
   "metadata": {},
   "cell_type": "markdown",
   "source": [
    "---\n",
    "## Custom implementation(s)"
   ],
   "id": "c7496288f6ddf25f"
  },
  {
   "metadata": {},
   "cell_type": "markdown",
   "source": [
    "### Defaults of the previous implementation that we wish to correct/improve:\n",
    "\n",
    "**The kwargs are converted to args**\n",
    "\n",
    "To make vmap work, we convert kwargs to args in the old implementation\n",
    "\n",
    "This leads to potential bugs where the order of the kwargs is not respected, either in provided params or in the class definition.\n",
    "Alternative is tu use a \"lambda\" version of each compute_* method, with kwargs as a parameter, and then vmap this\n",
    "lambda function, as presented in comments. However, this may lead to jit compiling many times the same function,\n",
    "which is not optimal. I'm not sure if this is the case, so we should check."
   ],
   "id": "72e4f4846ec0f35a"
  },
  {
   "metadata": {
    "ExecuteTime": {
     "end_time": "2025-03-05T12:35:54.215832Z",
     "start_time": "2025-03-05T12:35:54.208121Z"
    }
   },
   "cell_type": "code",
   "source": [
    "@register_pytree_node_class\n",
    "class NewAbstractKernel:\n",
    "\tdef __init__(self, **kwargs):\n",
    "\t\t# Check that hyperparameters are all jnp arrays/scalars\n",
    "\t\tfor key, value in kwargs.items():\n",
    "\t\t\tif not isinstance(value, jnp.ndarray):  # Check type\n",
    "\t\t\t\traise ValueError(f\"Parameter {key} must be a jnp.ndarray.\")\n",
    "\t\t\telse:  # Check dimensionality\n",
    "\t\t\t\tif len(value.shape) > 1:\n",
    "\t\t\t\t\traise ValueError(f\"Parameter {key} must be a scalar or a 1D array, got shape {value.shape}.\")\n",
    "\n",
    "\t\t# Register hyperparameters in *kwargs* as instance attributes\n",
    "\t\tself.__dict__.update(kwargs)\n",
    "\n",
    "\t@jit\n",
    "\tdef check_kwargs(self, **kwargs):\n",
    "\t\tfor key in self.__dict__:\n",
    "\t\t\tif key not in kwargs:\n",
    "\t\t\t\tkwargs[key] = self.__dict__[key]\n",
    "\t\treturn kwargs\n",
    "\n",
    "\t@jit\n",
    "\tdef __call__(self, x1, x2=None, **kwargs):\n",
    "\t\t# If no x2 is provided, we compute the covariance between x1 and itself\n",
    "\t\tif x2 is None:\n",
    "\t\t\tx2 = x1\n",
    "\n",
    "\t\t# Check kwargs\n",
    "\t\tkwargs = self.check_kwargs(**kwargs)\n",
    "\n",
    "\t\t# Call the appropriate method\n",
    "\t\tif jnp.isscalar(x1) and jnp.isscalar(x2):\n",
    "\t\t\treturn self.compute_scalar(x1, x2, **kwargs)\n",
    "\t\telif jnp.ndim(x1) == 1 and jnp.isscalar(x2):\n",
    "\t\t\treturn self.compute_vector(x1, x2, **kwargs)\n",
    "\t\telif jnp.isscalar(x1) and jnp.ndim(x2) == 1:\n",
    "\t\t\treturn self.compute_vector(x2, x1, **kwargs)\n",
    "\t\telif jnp.ndim(x1) == 1 and jnp.ndim(x2) == 1:\n",
    "\t\t\treturn self.compute_matrix(x1, x2, **kwargs)\n",
    "\t\telif jnp.ndim(x1) == 2 and jnp.ndim(x2) == 2:\n",
    "\t\t\treturn self.compute_batch(x1, x2, **kwargs)\n",
    "\t\telse:\n",
    "\t\t\treturn jnp.nan\n",
    "\n",
    "\t# Methods to use Kernel as a PyTree\n",
    "\tdef tree_flatten(self):\n",
    "\t\treturn tuple(self.__dict__.values()), None  # No static values\n",
    "\n",
    "\t@classmethod\n",
    "\tdef tree_unflatten(cls, _, children):\n",
    "\t\t# This class being abstract, this function fails when called on an \"abstract instance\",\n",
    "\t\t# as we don't know the number of parameters the constructor expects, yet we send it children.\n",
    "\t\t# On a subclass, this will work as expected as long as the constructor has a clear number of\n",
    "\t\t# kwargs as parameters.\n",
    "\t\treturn cls(*children)\n",
    "\n",
    "\t@jit\n",
    "\tdef compute_scalar(self, x1: jnp.ndarray, x2: jnp.ndarray, **kwargs) -> jnp.ndarray:\n",
    "\t\t\"\"\"\n",
    "\t\tCompute the kernel covariance value between two scalar arrays.\n",
    "\n",
    "\t\t:param x1: scalar array\n",
    "\t\t:param x2: scalar array\n",
    "\t\t:param args: hyperparameters of the kernel\n",
    "\t\t:return: scalar array\n",
    "\t\t\"\"\"\n",
    "\t\treturn jnp.array(jnp.nan)  # To be overwritten\n",
    "\n",
    "\t@jit\n",
    "\tdef compute_vector(self, x1: jnp.ndarray, x2: jnp.ndarray, **kwargs) -> jnp.ndarray:\n",
    "\t\t\"\"\"\n",
    "\t\tCompute the kernel covariance value between a vector and a scalar.\n",
    "\n",
    "\t\t:param x1: vector array (N, )\n",
    "\t\t:param x2: scalar array\n",
    "\t\t:param args: hyperparameters of the kernel\n",
    "\t\t:return: vector array (N, )\n",
    "\t\t\"\"\"\n",
    "\t\treturn vmap(lambda x: self.compute_scalar(x, x2, **kwargs), in_axes=0)(x1)\n",
    "\t\t#  return vmap(self.compute_scalar, in_axes=(0, None) + (None,) * len(args))(x1, x2, *args).squeeze()\n",
    "\n",
    "\t@jit\n",
    "\tdef compute_matrix(self, x1: jnp.ndarray, x2: jnp.ndarray, **kwargs) -> jnp.ndarray:\n",
    "\t\t\"\"\"\n",
    "\t\tCompute the kernel covariance matrix between two vector arrays.\n",
    "\n",
    "\t\t:param x1: vector array (N, )\n",
    "\t\t:param x2: vector array (M, )\n",
    "\t\t:param args: hyperparameters of the kernel\n",
    "\t\t:return: matrix array (N, M)\n",
    "\t\t\"\"\"\n",
    "\t\treturn vmap(lambda x: self.compute_vector(x2, x, **kwargs), in_axes=0)(x1)\n",
    "\t\t# return vmap(self.compute_vector, in_axes=(None, 0) + (None,) * len(args))(x2, x1, *args)\n",
    "\n",
    "\t@jit\n",
    "\tdef compute_batch(self, x1: jnp.ndarray, x2: jnp.ndarray, **kwargs) -> jnp.ndarray:\n",
    "\t\t\"\"\"\n",
    "\t\tCompute the kernel covariance matrix between two batched vector arrays.\n",
    "\n",
    "\t\t:param x1: vector array (B, N)\n",
    "\t\t:param x2: vector array (B, M)\n",
    "\t\t:param args: hyperparameters of the kernel. Each HP that is a scalar will be common to the whole batch, and\n",
    "\t\teach HP that is a vector will be distinct and thus must have shape (B, )\n",
    "\t\t:return: tensor array (B, N, M)\n",
    "\t\t\"\"\"\n",
    "\t\t# vmap(self.compute_matrix)(x1, x2, **kwargs)\n",
    "\t\tcommon_hps = {key: value for key, value in kwargs.items() if jnp.isscalar(value)}\n",
    "\t\tdistinct_hps = {key: value for key, value in kwargs.items() if not jnp.isscalar(value)}\n",
    "\n",
    "\t\treturn vmap(lambda x, y, hps: self.compute_matrix(x, y, **hps, **common_hps), in_axes=(0, 0, 0))(x1, x2, distinct_hps)\n",
    "\t\t# kwargs_axes = tuple(None if jnp.isscalar(hp) else 0 for hp in kwargs)\n",
    "\t\t# return vmap(self.compute_matrix, in_axes=(0, 0) + kwargs_axes)(x1, x2, **kwargs)"
   ],
   "id": "6de52b981771ca48",
   "outputs": [],
   "execution_count": 30
  },
  {
   "metadata": {
    "ExecuteTime": {
     "end_time": "2025-03-05T12:35:54.439509Z",
     "start_time": "2025-03-05T12:35:54.436567Z"
    }
   },
   "cell_type": "code",
   "source": [
    "@register_pytree_node_class\n",
    "class NewRBFKernel(NewAbstractKernel):\n",
    "\tdef __init__(self, length_scale=None, variance=None):\n",
    "\t\tif length_scale is None:\n",
    "\t\t\tlength_scale = jnp.array([1.])\n",
    "\t\tif variance is None:\n",
    "\t\t\tvariance = jnp.array([1.])\n",
    "\t\tsuper().__init__(length_scale=length_scale, variance=variance)\n",
    "\n",
    "\t@jit\n",
    "\tdef compute_scalar(self, x1: jnp.ndarray, x2: jnp.ndarray, length_scale=None, variance=None) -> jnp.ndarray:\n",
    "\t\treturn variance * jnp.exp(-0.5 * (x1 - x2) ** 2 / length_scale ** 2)"
   ],
   "id": "dab793fb0db26fe8",
   "outputs": [],
   "execution_count": 31
  },
  {
   "metadata": {},
   "cell_type": "markdown",
   "source": [
    "---\n",
    "## Comparison"
   ],
   "id": "88fdaed3f55aae3a"
  },
  {
   "metadata": {
    "ExecuteTime": {
     "end_time": "2025-03-05T12:35:55.295257Z",
     "start_time": "2025-03-05T12:35:55.292950Z"
    }
   },
   "cell_type": "code",
   "source": "new_kernel = NewRBFKernel(length_scale=jnp.array(1.), variance=jnp.array(1.))",
   "id": "ed8be2acd5fb7300",
   "outputs": [],
   "execution_count": 32
  },
  {
   "metadata": {},
   "cell_type": "markdown",
   "source": "### On scalars",
   "id": "72fc2c859b07141f"
  },
  {
   "metadata": {
    "ExecuteTime": {
     "end_time": "2025-03-05T12:34:55.002057Z",
     "start_time": "2025-03-05T12:34:54.902527Z"
    }
   },
   "cell_type": "code",
   "source": [
    "key, subkey = jax.random.split(key)\n",
    "a = jax.random.uniform(subkey, ())\n",
    "key, subkey = jax.random.split(key)\n",
    "b = jax.random.uniform(subkey, ())\n",
    "a, b"
   ],
   "id": "91accf6c200faefe",
   "outputs": [
    {
     "data": {
      "text/plain": [
       "(Array(0.00729382, dtype=float32), Array(0.10429037, dtype=float32))"
      ]
     },
     "execution_count": 9,
     "metadata": {},
     "output_type": "execute_result"
    }
   ],
   "execution_count": 9
  },
  {
   "metadata": {
    "ExecuteTime": {
     "end_time": "2025-03-05T12:34:55.032234Z",
     "start_time": "2025-03-05T12:34:55.006712Z"
    }
   },
   "cell_type": "code",
   "source": [
    "res1 = old_kernel(a, b)\n",
    "np.asarray(res1)"
   ],
   "id": "c0767a5357092886",
   "outputs": [
    {
     "data": {
      "text/plain": [
       "array(0.9953069, dtype=float32)"
      ]
     },
     "execution_count": 10,
     "metadata": {},
     "output_type": "execute_result"
    }
   ],
   "execution_count": 10
  },
  {
   "metadata": {
    "ExecuteTime": {
     "end_time": "2025-03-05T12:34:55.061222Z",
     "start_time": "2025-03-05T12:34:55.036954Z"
    }
   },
   "cell_type": "code",
   "source": [
    "res2 = new_kernel(a, b)\n",
    "np.asarray(res2)"
   ],
   "id": "f317cd74793268c1",
   "outputs": [
    {
     "data": {
      "text/plain": [
       "array(0.9953069, dtype=float32)"
      ]
     },
     "execution_count": 11,
     "metadata": {},
     "output_type": "execute_result"
    }
   ],
   "execution_count": 11
  },
  {
   "metadata": {
    "ExecuteTime": {
     "end_time": "2025-03-05T12:34:55.092542Z",
     "start_time": "2025-03-05T12:34:55.066005Z"
    }
   },
   "cell_type": "code",
   "source": "jnp.allclose(res1, res2)",
   "id": "1e31a8a1331139a8",
   "outputs": [
    {
     "data": {
      "text/plain": [
       "Array(True, dtype=bool)"
      ]
     },
     "execution_count": 12,
     "metadata": {},
     "output_type": "execute_result"
    }
   ],
   "execution_count": 12
  },
  {
   "metadata": {
    "ExecuteTime": {
     "end_time": "2025-03-05T12:34:59.722988Z",
     "start_time": "2025-03-05T12:34:55.098659Z"
    }
   },
   "cell_type": "code",
   "source": "%timeit old_kernel(a, b).block_until_ready()",
   "id": "fd427f5b212e7996",
   "outputs": [
    {
     "name": "stdout",
     "output_type": "stream",
     "text": [
      "5.68 μs ± 165 ns per loop (mean ± std. dev. of 7 runs, 100,000 loops each)\n"
     ]
    }
   ],
   "execution_count": 13
  },
  {
   "metadata": {
    "ExecuteTime": {
     "end_time": "2025-03-05T12:35:04.323526Z",
     "start_time": "2025-03-05T12:34:59.731884Z"
    }
   },
   "cell_type": "code",
   "source": "%timeit new_kernel(a, b).block_until_ready()",
   "id": "d3668e725dad284a",
   "outputs": [
    {
     "name": "stdout",
     "output_type": "stream",
     "text": [
      "5.67 μs ± 116 ns per loop (mean ± std. dev. of 7 runs, 100,000 loops each)\n"
     ]
    }
   ],
   "execution_count": 14
  },
  {
   "metadata": {},
   "cell_type": "markdown",
   "source": "### On an array and a scalar",
   "id": "230835a6635088b7"
  },
  {
   "metadata": {
    "ExecuteTime": {
     "end_time": "2025-03-05T12:35:04.401644Z",
     "start_time": "2025-03-05T12:35:04.330944Z"
    }
   },
   "cell_type": "code",
   "source": [
    "key, subkey = jax.random.split(key)\n",
    "a = jax.random.uniform(subkey, (10000,))\n",
    "key, subkey = jax.random.split(key)\n",
    "b = jax.random.uniform(subkey, ())\n",
    "a, b"
   ],
   "id": "6a4c7a5ef8dbcd53",
   "outputs": [
    {
     "data": {
      "text/plain": [
       "(Array([0.08260381, 0.7807871 , 0.93827987, ..., 0.99492884, 0.05307555,\n",
       "        0.8959063 ], dtype=float32),\n",
       " Array(0.01066005, dtype=float32))"
      ]
     },
     "execution_count": 15,
     "metadata": {},
     "output_type": "execute_result"
    }
   ],
   "execution_count": 15
  },
  {
   "metadata": {
    "ExecuteTime": {
     "end_time": "2025-03-05T12:35:04.435831Z",
     "start_time": "2025-03-05T12:35:04.408849Z"
    }
   },
   "cell_type": "code",
   "source": [
    "res1 = old_kernel(a, b)\n",
    "np.asarray(res1)"
   ],
   "id": "229f81e6f95befa4",
   "outputs": [
    {
     "data": {
      "text/plain": [
       "array([0.9974154 , 0.74338007, 0.6503535 , ..., 0.61607134, 0.99910086,\n",
       "       0.6758187 ], dtype=float32)"
      ]
     },
     "execution_count": 16,
     "metadata": {},
     "output_type": "execute_result"
    }
   ],
   "execution_count": 16
  },
  {
   "metadata": {
    "ExecuteTime": {
     "end_time": "2025-03-05T12:35:04.467273Z",
     "start_time": "2025-03-05T12:35:04.440746Z"
    }
   },
   "cell_type": "code",
   "source": [
    "res2 = new_kernel(a, b)\n",
    "np.asarray(res2)"
   ],
   "id": "80ad90bc8eeb5eb5",
   "outputs": [
    {
     "data": {
      "text/plain": [
       "array([0.9974154 , 0.74338007, 0.6503535 , ..., 0.61607134, 0.99910086,\n",
       "       0.6758187 ], dtype=float32)"
      ]
     },
     "execution_count": 17,
     "metadata": {},
     "output_type": "execute_result"
    }
   ],
   "execution_count": 17
  },
  {
   "metadata": {
    "ExecuteTime": {
     "end_time": "2025-03-05T12:35:04.505374Z",
     "start_time": "2025-03-05T12:35:04.472445Z"
    }
   },
   "cell_type": "code",
   "source": "jnp.allclose(res1, res2)",
   "id": "767c7986aea10111",
   "outputs": [
    {
     "data": {
      "text/plain": [
       "Array(True, dtype=bool)"
      ]
     },
     "execution_count": 18,
     "metadata": {},
     "output_type": "execute_result"
    }
   ],
   "execution_count": 18
  },
  {
   "metadata": {
    "ExecuteTime": {
     "end_time": "2025-03-05T12:35:06.626019Z",
     "start_time": "2025-03-05T12:35:04.509882Z"
    }
   },
   "cell_type": "code",
   "source": "%timeit old_kernel(a, b).block_until_ready()",
   "id": "3fcdd9490530e57b",
   "outputs": [
    {
     "name": "stdout",
     "output_type": "stream",
     "text": [
      "25.7 μs ± 366 ns per loop (mean ± std. dev. of 7 runs, 10,000 loops each)\n"
     ]
    }
   ],
   "execution_count": 19
  },
  {
   "metadata": {
    "ExecuteTime": {
     "end_time": "2025-03-05T12:35:08.765832Z",
     "start_time": "2025-03-05T12:35:06.631206Z"
    }
   },
   "cell_type": "code",
   "source": "%timeit new_kernel(a, b).block_until_ready()",
   "id": "8ca44189d29f6e7b",
   "outputs": [
    {
     "name": "stdout",
     "output_type": "stream",
     "text": [
      "26.4 μs ± 1.66 μs per loop (mean ± std. dev. of 7 runs, 10,000 loops each)\n"
     ]
    }
   ],
   "execution_count": 20
  },
  {
   "metadata": {},
   "cell_type": "markdown",
   "source": "### On two arrays",
   "id": "90cc3cd43d1f60f1"
  },
  {
   "metadata": {
    "ExecuteTime": {
     "end_time": "2025-03-05T12:35:08.838961Z",
     "start_time": "2025-03-05T12:35:08.770773Z"
    }
   },
   "cell_type": "code",
   "source": [
    "key, subkey = jax.random.split(key)\n",
    "a = jax.random.uniform(subkey, (10000,))\n",
    "key, subkey = jax.random.split(key)\n",
    "b = jax.random.uniform(subkey, (15000,))\n",
    "a.shape, b.shape"
   ],
   "id": "2e187ec00e66d966",
   "outputs": [
    {
     "data": {
      "text/plain": [
       "((10000,), (15000,))"
      ]
     },
     "execution_count": 21,
     "metadata": {},
     "output_type": "execute_result"
    }
   ],
   "execution_count": 21
  },
  {
   "metadata": {
    "ExecuteTime": {
     "end_time": "2025-03-05T12:35:08.989902Z",
     "start_time": "2025-03-05T12:35:08.844370Z"
    }
   },
   "cell_type": "code",
   "source": [
    "res1 = old_kernel(a, b)\n",
    "np.asarray(res1).shape"
   ],
   "id": "4ee7910c44ec8322",
   "outputs": [
    {
     "data": {
      "text/plain": [
       "(10000, 15000)"
      ]
     },
     "execution_count": 22,
     "metadata": {},
     "output_type": "execute_result"
    }
   ],
   "execution_count": 22
  },
  {
   "metadata": {
    "ExecuteTime": {
     "end_time": "2025-03-05T12:35:09.212035Z",
     "start_time": "2025-03-05T12:35:09.002637Z"
    }
   },
   "cell_type": "code",
   "source": [
    "res2 = new_kernel(a, b)\n",
    "np.asarray(res2).shape"
   ],
   "id": "1e5cc829e8dd35e5",
   "outputs": [
    {
     "data": {
      "text/plain": [
       "(10000, 15000)"
      ]
     },
     "execution_count": 23,
     "metadata": {},
     "output_type": "execute_result"
    }
   ],
   "execution_count": 23
  },
  {
   "metadata": {
    "ExecuteTime": {
     "end_time": "2025-03-05T12:35:09.426678Z",
     "start_time": "2025-03-05T12:35:09.223235Z"
    }
   },
   "cell_type": "code",
   "source": "jnp.allclose(res1, res2)",
   "id": "20e9d689dc4ac3ff",
   "outputs": [
    {
     "data": {
      "text/plain": [
       "Array(True, dtype=bool)"
      ]
     },
     "execution_count": 24,
     "metadata": {},
     "output_type": "execute_result"
    }
   ],
   "execution_count": 24
  },
  {
   "metadata": {
    "ExecuteTime": {
     "end_time": "2025-03-05T12:35:12.683117Z",
     "start_time": "2025-03-05T12:35:09.431796Z"
    }
   },
   "cell_type": "code",
   "source": "%timeit old_kernel(a, b).block_until_ready()",
   "id": "90c64e2b77d19297",
   "outputs": [
    {
     "name": "stdout",
     "output_type": "stream",
     "text": [
      "39 ms ± 1.81 ms per loop (mean ± std. dev. of 7 runs, 10 loops each)\n"
     ]
    }
   ],
   "execution_count": 25
  },
  {
   "metadata": {
    "ExecuteTime": {
     "end_time": "2025-03-05T12:35:15.680363Z",
     "start_time": "2025-03-05T12:35:12.688775Z"
    }
   },
   "cell_type": "code",
   "source": "%timeit new_kernel(a, b).block_until_ready()",
   "id": "461450e09cca635d",
   "outputs": [
    {
     "name": "stdout",
     "output_type": "stream",
     "text": [
      "36.3 ms ± 1.05 ms per loop (mean ± std. dev. of 7 runs, 10 loops each)\n"
     ]
    }
   ],
   "execution_count": 26
  },
  {
   "metadata": {},
   "cell_type": "markdown",
   "source": "### On two batches of arrays with common HP",
   "id": "63164fba40982ea8"
  },
  {
   "metadata": {
    "ExecuteTime": {
     "end_time": "2025-03-05T12:35:58.464774Z",
     "start_time": "2025-03-05T12:35:58.460443Z"
    }
   },
   "cell_type": "code",
   "source": [
    "key, subkey = jax.random.split(key)\n",
    "a = jax.random.uniform(subkey, (50, 100))\n",
    "key, subkey = jax.random.split(key)\n",
    "b = jax.random.uniform(subkey, (50, 150))\n",
    "a.shape, b.shape"
   ],
   "id": "e413ce7333f699",
   "outputs": [
    {
     "data": {
      "text/plain": [
       "((50, 100), (50, 150))"
      ]
     },
     "execution_count": 33,
     "metadata": {},
     "output_type": "execute_result"
    }
   ],
   "execution_count": 33
  },
  {
   "metadata": {
    "ExecuteTime": {
     "end_time": "2025-03-05T12:35:58.900311Z",
     "start_time": "2025-03-05T12:35:58.897515Z"
    }
   },
   "cell_type": "code",
   "source": [
    "# Using common hyperparameters for all batches\n",
    "res1 = old_kernel(a, b)\n",
    "np.asarray(res1).shape"
   ],
   "id": "fc8548ed32551e44",
   "outputs": [
    {
     "data": {
      "text/plain": [
       "(50, 100, 150)"
      ]
     },
     "execution_count": 34,
     "metadata": {},
     "output_type": "execute_result"
    }
   ],
   "execution_count": 34
  },
  {
   "metadata": {
    "ExecuteTime": {
     "end_time": "2025-03-05T12:35:59.395951Z",
     "start_time": "2025-03-05T12:35:59.351758Z"
    }
   },
   "cell_type": "code",
   "source": [
    "# Also using common hyperparameters for all batches\n",
    "res2 = new_kernel(a, b)\n",
    "np.asarray(res2).shape"
   ],
   "id": "3f52ca9e8e57785f",
   "outputs": [
    {
     "data": {
      "text/plain": [
       "(50, 100, 150)"
      ]
     },
     "execution_count": 35,
     "metadata": {},
     "output_type": "execute_result"
    }
   ],
   "execution_count": 35
  },
  {
   "metadata": {
    "ExecuteTime": {
     "end_time": "2025-03-05T12:36:01.475426Z",
     "start_time": "2025-03-05T12:36:01.434713Z"
    }
   },
   "cell_type": "code",
   "source": "jnp.allclose(res1, res2)",
   "id": "5f4e08c68d1875c2",
   "outputs": [
    {
     "data": {
      "text/plain": [
       "Array(True, dtype=bool)"
      ]
     },
     "execution_count": 36,
     "metadata": {},
     "output_type": "execute_result"
    }
   ],
   "execution_count": 36
  },
  {
   "metadata": {
    "ExecuteTime": {
     "end_time": "2025-03-05T12:36:04.907084Z",
     "start_time": "2025-03-05T12:36:02.228906Z"
    }
   },
   "cell_type": "code",
   "source": "%timeit old_kernel(a, b).block_until_ready()",
   "id": "157687039596bf3e",
   "outputs": [
    {
     "name": "stdout",
     "output_type": "stream",
     "text": [
      "323 μs ± 5.46 μs per loop (mean ± std. dev. of 7 runs, 1,000 loops each)\n"
     ]
    }
   ],
   "execution_count": 37
  },
  {
   "metadata": {
    "ExecuteTime": {
     "end_time": "2025-03-05T12:36:07.626007Z",
     "start_time": "2025-03-05T12:36:04.974898Z"
    }
   },
   "cell_type": "code",
   "source": "%timeit new_kernel(a, b).block_until_ready()",
   "id": "de5edd7f24165ee",
   "outputs": [
    {
     "name": "stdout",
     "output_type": "stream",
     "text": [
      "323 μs ± 5.35 μs per loop (mean ± std. dev. of 7 runs, 1,000 loops each)\n"
     ]
    }
   ],
   "execution_count": 38
  },
  {
   "metadata": {},
   "cell_type": "markdown",
   "source": "### On two batches of arrays with distinct HP",
   "id": "2852fadacb2da833"
  },
  {
   "metadata": {
    "ExecuteTime": {
     "end_time": "2025-03-05T12:36:25.122196Z",
     "start_time": "2025-03-05T12:36:25.034622Z"
    }
   },
   "cell_type": "code",
   "source": [
    "key, subkey = jax.random.split(key)\n",
    "a = jax.random.uniform(subkey, (50, 100))  # 5 batches of 10-dimensional data\n",
    "key, subkey = jax.random.split(key)\n",
    "b = jax.random.uniform(subkey, (50, 150))  # 5 batches of 15-dimensional data\n",
    "\n",
    "# Create distinct hyperparameters for each batch\n",
    "key, subkey = jax.random.split(key)\n",
    "distinct_length_scales = jax.random.uniform(subkey, (50,)) + 0.5  # Ensuring positive values\n",
    "key, subkey = jax.random.split(key)\n",
    "distinct_variances = jax.random.uniform(subkey, (50,)) + 0.5  # Ensuring positive values\n",
    "\n",
    "distinct_length_scales, distinct_variances"
   ],
   "id": "54078da46f988088",
   "outputs": [
    {
     "data": {
      "text/plain": [
       "(Array([1.4664395 , 1.1674494 , 1.2656815 , 1.4723855 , 0.56868327,\n",
       "        0.9240197 , 1.2534711 , 1.0043712 , 1.3627535 , 0.7144728 ,\n",
       "        0.8851514 , 0.64984024, 0.94593215, 1.4062843 , 1.0102545 ,\n",
       "        1.4037178 , 1.137649  , 0.5411558 , 0.9424176 , 1.1860164 ,\n",
       "        0.89514005, 0.83264935, 1.1943005 , 1.0778471 , 0.78289664,\n",
       "        1.052645  , 0.87137353, 1.145605  , 0.8976754 , 1.3369253 ,\n",
       "        0.86346245, 0.87112653, 0.9242132 , 0.535846  , 1.2206455 ,\n",
       "        0.7226651 , 1.1459886 , 0.7372732 , 1.3149244 , 1.2490811 ,\n",
       "        0.567139  , 1.4629116 , 0.79252124, 1.3502349 , 1.1053848 ,\n",
       "        0.7974944 , 0.80799735, 1.2222965 , 0.6568692 , 0.7821989 ],      dtype=float32),\n",
       " Array([0.55955625, 0.7153524 , 0.9721482 , 1.344615  , 0.7779318 ,\n",
       "        1.3943778 , 1.4921435 , 0.8077892 , 0.6169007 , 0.75196445,\n",
       "        1.2752986 , 1.1109926 , 0.63451767, 1.3250592 , 0.9057598 ,\n",
       "        0.6925794 , 1.1794176 , 1.006102  , 1.1518829 , 1.093091  ,\n",
       "        0.72369075, 0.64738595, 0.6348833 , 1.48054   , 0.7043346 ,\n",
       "        1.321668  , 0.52230215, 0.5385586 , 0.6567471 , 1.460952  ,\n",
       "        0.7897967 , 1.1821469 , 1.341667  , 0.7473438 , 1.0901246 ,\n",
       "        0.9303427 , 0.62121856, 0.76070535, 1.2388121 , 0.71018374,\n",
       "        0.7644696 , 0.87744   , 1.2811604 , 0.6121502 , 0.633844  ,\n",
       "        0.8723327 , 0.71583474, 1.0808614 , 0.8652339 , 0.75055134],      dtype=float32))"
      ]
     },
     "execution_count": 39,
     "metadata": {},
     "output_type": "execute_result"
    }
   ],
   "execution_count": 39
  },
  {
   "metadata": {
    "ExecuteTime": {
     "end_time": "2025-03-05T12:36:25.927751Z",
     "start_time": "2025-03-05T12:36:25.884406Z"
    }
   },
   "cell_type": "code",
   "source": "res1 = old_kernel(a, b, length_scale=distinct_length_scales, variance=distinct_variances)",
   "id": "7b257cdaabb8d9f8",
   "outputs": [],
   "execution_count": 40
  },
  {
   "metadata": {
    "ExecuteTime": {
     "end_time": "2025-03-05T12:36:26.503476Z",
     "start_time": "2025-03-05T12:36:26.468149Z"
    }
   },
   "cell_type": "code",
   "source": "res2 = new_kernel(a, b, length_scale=distinct_length_scales, variance=distinct_variances)",
   "id": "4a7803a753fb4840",
   "outputs": [],
   "execution_count": 41
  },
  {
   "metadata": {
    "ExecuteTime": {
     "end_time": "2025-03-05T12:36:27.200033Z",
     "start_time": "2025-03-05T12:36:27.196783Z"
    }
   },
   "cell_type": "code",
   "source": "jnp.allclose(res1, res2)",
   "id": "39aa37e12c9cba59",
   "outputs": [
    {
     "data": {
      "text/plain": [
       "Array(True, dtype=bool)"
      ]
     },
     "execution_count": 42,
     "metadata": {},
     "output_type": "execute_result"
    }
   ],
   "execution_count": 42
  },
  {
   "metadata": {
    "ExecuteTime": {
     "end_time": "2025-03-05T12:36:38.600155Z",
     "start_time": "2025-03-05T12:36:35.923150Z"
    }
   },
   "cell_type": "code",
   "source": "%timeit old_kernel(a, b, length_scale=distinct_length_scales, variance=distinct_variances).block_until_ready()",
   "id": "c7484691a8884b94",
   "outputs": [
    {
     "name": "stdout",
     "output_type": "stream",
     "text": [
      "330 μs ± 15.3 μs per loop (mean ± std. dev. of 7 runs, 1,000 loops each)\n"
     ]
    }
   ],
   "execution_count": 45
  },
  {
   "metadata": {
    "ExecuteTime": {
     "end_time": "2025-03-05T12:36:41.293372Z",
     "start_time": "2025-03-05T12:36:38.662078Z"
    }
   },
   "cell_type": "code",
   "source": "%timeit new_kernel(a, b, length_scale=distinct_length_scales, variance=distinct_variances).block_until_ready()",
   "id": "83eea3bcc71501a8",
   "outputs": [
    {
     "name": "stdout",
     "output_type": "stream",
     "text": [
      "323 μs ± 2.55 μs per loop (mean ± std. dev. of 7 runs, 1,000 loops each)\n"
     ]
    }
   ],
   "execution_count": 46
  },
  {
   "metadata": {},
   "cell_type": "markdown",
   "source": "### On two batches of arrays with both common and distinct HP",
   "id": "81c5b041a6947202"
  },
  {
   "metadata": {
    "ExecuteTime": {
     "end_time": "2025-03-05T12:37:41.534310Z",
     "start_time": "2025-03-05T12:37:41.527559Z"
    }
   },
   "cell_type": "code",
   "source": [
    "key, subkey = jax.random.split(key)\n",
    "a = jax.random.uniform(subkey, (50, 100))  # 5 batches of 10-dimensional data\n",
    "key, subkey = jax.random.split(key)\n",
    "b = jax.random.uniform(subkey, (50, 150))  # 5 batches of 15-dimensional data\n",
    "\n",
    "# Create common and distinct hyperparameters for each batch\n",
    "common_length_scale = jnp.array(1.)\n",
    "key, subkey = jax.random.split(key)\n",
    "distinct_variances = jax.random.uniform(subkey, (50,)) + 0.5  # Ensuring positive values\n",
    "\n",
    "common_length_scale, distinct_variances"
   ],
   "id": "caf05eea7cdc7a3e",
   "outputs": [
    {
     "data": {
      "text/plain": [
       "(Array(1., dtype=float32, weak_type=True),\n",
       " Array([1.4910165 , 0.5416913 , 0.70949113, 0.62269235, 0.73912156,\n",
       "        0.61616087, 0.96010077, 1.4451766 , 1.1460713 , 1.0582161 ,\n",
       "        0.5557885 , 1.475741  , 0.77598464, 1.0314102 , 1.4972448 ,\n",
       "        1.1258096 , 1.0357378 , 0.66969085, 1.0149455 , 1.0599906 ,\n",
       "        1.0586796 , 0.9898578 , 0.63467884, 1.2513552 , 1.4747337 ,\n",
       "        0.7394875 , 1.161504  , 1.2392048 , 1.2144717 , 1.0941921 ,\n",
       "        1.3867334 , 1.223813  , 1.476492  , 1.3929558 , 1.357845  ,\n",
       "        0.5265378 , 1.1944593 , 1.292541  , 1.0719829 , 1.0557784 ,\n",
       "        1.1659764 , 1.0423886 , 1.3658253 , 0.7954941 , 1.2128425 ,\n",
       "        1.2827029 , 1.1218177 , 1.4021076 , 1.1493796 , 1.3820095 ],      dtype=float32))"
      ]
     },
     "execution_count": 47,
     "metadata": {},
     "output_type": "execute_result"
    }
   ],
   "execution_count": 47
  },
  {
   "metadata": {
    "ExecuteTime": {
     "end_time": "2025-03-05T12:37:42.858289Z",
     "start_time": "2025-03-05T12:37:42.816115Z"
    }
   },
   "cell_type": "code",
   "source": "res1 = old_kernel(a, b, length_scale=common_length_scale, variance=distinct_variances)",
   "id": "36e4e8128855c1b8",
   "outputs": [],
   "execution_count": 48
  },
  {
   "metadata": {
    "ExecuteTime": {
     "end_time": "2025-03-05T12:37:43.828017Z",
     "start_time": "2025-03-05T12:37:43.786890Z"
    }
   },
   "cell_type": "code",
   "source": "res2 = new_kernel(a, b, length_scale=common_length_scale, variance=distinct_variances)",
   "id": "ba28542ba00c7fe9",
   "outputs": [],
   "execution_count": 49
  },
  {
   "metadata": {
    "ExecuteTime": {
     "end_time": "2025-03-05T12:37:44.640952Z",
     "start_time": "2025-03-05T12:37:44.637713Z"
    }
   },
   "cell_type": "code",
   "source": "jnp.allclose(res1, res2)",
   "id": "3f5720edff4300da",
   "outputs": [
    {
     "data": {
      "text/plain": [
       "Array(True, dtype=bool)"
      ]
     },
     "execution_count": 50,
     "metadata": {},
     "output_type": "execute_result"
    }
   ],
   "execution_count": 50
  },
  {
   "metadata": {
    "ExecuteTime": {
     "end_time": "2025-03-05T12:37:48.244700Z",
     "start_time": "2025-03-05T12:37:45.559007Z"
    }
   },
   "cell_type": "code",
   "source": "%timeit old_kernel(a, b, length_scale=distinct_length_scales, variance=distinct_variances).block_until_ready()",
   "id": "25d514f1119b82d0",
   "outputs": [
    {
     "name": "stdout",
     "output_type": "stream",
     "text": [
      "331 μs ± 18.9 μs per loop (mean ± std. dev. of 7 runs, 1,000 loops each)\n"
     ]
    }
   ],
   "execution_count": 51
  },
  {
   "metadata": {
    "ExecuteTime": {
     "end_time": "2025-03-05T12:37:50.897904Z",
     "start_time": "2025-03-05T12:37:48.314911Z"
    }
   },
   "cell_type": "code",
   "source": "%timeit new_kernel(a, b, length_scale=distinct_length_scales, variance=distinct_variances).block_until_ready()",
   "id": "7f503700723b3f7b",
   "outputs": [
    {
     "name": "stdout",
     "output_type": "stream",
     "text": [
      "318 μs ± 2.08 μs per loop (mean ± std. dev. of 7 runs, 1,000 loops each)\n"
     ]
    }
   ],
   "execution_count": 52
  },
  {
   "metadata": {},
   "cell_type": "markdown",
   "source": [
    "---\n",
    "## Conclusion"
   ],
   "id": "40eac9ed87ce043e"
  },
  {
   "metadata": {},
   "cell_type": "markdown",
   "source": "This new way of handling kwargs with lambda functions for vmap doesn't introduce any slowdown and should prevent bugs related to the placement of those kwargs. It's definitely a better alternative.",
   "id": "9a40d2411b3e8932"
  },
  {
   "metadata": {},
   "cell_type": "markdown",
   "source": "---",
   "id": "f18216d93ddcf3af"
  }
 ],
 "metadata": {
  "kernelspec": {
   "display_name": "Python 3",
   "language": "python",
   "name": "python3"
  },
  "language_info": {
   "codemirror_mode": {
    "name": "ipython",
    "version": 2
   },
   "file_extension": ".py",
   "mimetype": "text/x-python",
   "name": "python",
   "nbconvert_exporter": "python",
   "pygments_lexer": "ipython2",
   "version": "2.7.6"
  }
 },
 "nbformat": 4,
 "nbformat_minor": 5
}
