{
 "cells": [
  {
   "metadata": {},
   "cell_type": "markdown",
   "source": [
    "# Benchmarks - Kernels\n",
    "\n",
    "In MagmaClust and GPs in general, kernels are what makes it possible to compute a covariance matrix for any set of points, given a set of hyperparameters. They are used in many innermost loops, and their implementation is critical for performance.\n",
    "\n",
    "**Main considerations when implementing kernels**\n",
    "\n",
    "A good kernel implementation must be:\n",
    "* fast, as it is used in many innermost loops\n",
    "* usable at many dimensions, including a batch dimension with distinct hyperparameters for each element\n",
    "* work on padded inputs (aka inputs with NaNs), maybe using a mask\n",
    "* jittable, as it is used in many jit-compiled functions\n",
    "* modular, as kernels can be combined in many ways\n",
    "* both static and instance-based, to either carry around hyperparameters or be called with them\n",
    "* easy to override, as users may want to define their own kernels\n",
    "\n",
    "These goals are conflicting in some cases (e.g: a jittable version of a kernel is not trivial to write for most people), and the best implementation will depend on the specific use case."
   ],
   "id": "f69390d194b35b0a"
  },
  {
   "metadata": {},
   "cell_type": "markdown",
   "source": [
    "---\n",
    "## Setup"
   ],
   "id": "4763c6a1086dfd7a"
  },
  {
   "metadata": {
    "ExecuteTime": {
     "end_time": "2025-03-10T09:12:21.694593Z",
     "start_time": "2025-03-10T09:12:21.690410Z"
    }
   },
   "cell_type": "code",
   "source": [
    "# Standard library\n",
    "import os\n",
    "\n",
    "os.environ['JAX_ENABLE_X64'] = \"True\""
   ],
   "id": "eb0046b46dc27950",
   "outputs": [],
   "execution_count": 1
  },
  {
   "metadata": {
    "ExecuteTime": {
     "end_time": "2025-03-10T09:12:22.102968Z",
     "start_time": "2025-03-10T09:12:21.697693Z"
    }
   },
   "cell_type": "code",
   "source": [
    "# Third party\n",
    "import jax\n",
    "from jax import jit, vmap\n",
    "from jax.tree_util import register_pytree_node_class\n",
    "from jax import numpy as jnp\n",
    "from jax import lax\n",
    "\n",
    "import numpy as np"
   ],
   "id": "a1fe8b76912d6f2c",
   "outputs": [],
   "execution_count": 2
  },
  {
   "metadata": {
    "ExecuteTime": {
     "end_time": "2025-03-10T09:12:22.403262Z",
     "start_time": "2025-03-10T09:12:22.195141Z"
    }
   },
   "cell_type": "code",
   "source": [
    "# Local\n",
    "from MagmaClustPy.kernels import RBFKernel, AbstractKernel\n",
    "from MagmaClustPy.utils import generate_dummy_db, preprocess_db"
   ],
   "id": "4b255f340edfbe6f",
   "outputs": [],
   "execution_count": 3
  },
  {
   "metadata": {
    "ExecuteTime": {
     "end_time": "2025-03-10T09:12:22.479429Z",
     "start_time": "2025-03-10T09:12:22.407788Z"
    }
   },
   "cell_type": "code",
   "source": [
    "# Config\n",
    "key = jax.random.PRNGKey(0)"
   ],
   "id": "3180afa8778f9553",
   "outputs": [],
   "execution_count": 4
  },
  {
   "metadata": {},
   "cell_type": "markdown",
   "source": [
    "---\n",
    "## Data"
   ],
   "id": "190fcef7dd61821b"
  },
  {
   "metadata": {
    "ExecuteTime": {
     "end_time": "2025-03-10T09:12:22.489028Z",
     "start_time": "2025-03-10T09:12:22.487498Z"
    }
   },
   "cell_type": "code",
   "source": "",
   "id": "b36bdb0b6080e935",
   "outputs": [],
   "execution_count": null
  },
  {
   "metadata": {},
   "cell_type": "markdown",
   "source": [
    "---\n",
    "## Current implementation"
   ],
   "id": "bffd41fea2028bdb"
  },
  {
   "metadata": {
    "ExecuteTime": {
     "end_time": "2025-03-10T09:12:22.510468Z",
     "start_time": "2025-03-10T09:12:22.493605Z"
    }
   },
   "cell_type": "code",
   "source": "old_kernel = RBFKernel(length_scale=jnp.array(1.), variance=jnp.array(1.))",
   "id": "692013689fa2b7a2",
   "outputs": [],
   "execution_count": 5
  },
  {
   "metadata": {},
   "cell_type": "markdown",
   "source": [
    "---\n",
    "## Custom implementation(s)"
   ],
   "id": "c7496288f6ddf25f"
  },
  {
   "metadata": {},
   "cell_type": "markdown",
   "source": [
    "### Defaults of the previous implementation that we wish to correct/improve:\n",
    "\n",
    "**Kernels on padded arrays are slow**\n",
    "\n",
    "That's because of two things:\n",
    "- we compute the kernel on every pair of inputs, regardless of whether they are NaN or not\n",
    "- the \"aligned\" padded arrays are huge, but kernels do not necessitate the inputs to be aligned"
   ],
   "id": "72e4f4846ec0f35a"
  },
  {
   "metadata": {
    "ExecuteTime": {
     "end_time": "2025-03-10T09:12:22.527559Z",
     "start_time": "2025-03-10T09:12:22.520579Z"
    }
   },
   "cell_type": "code",
   "source": [
    "@register_pytree_node_class\n",
    "class NewAbstractKernel:\n",
    "\tdef __init__(self, **kwargs):\n",
    "\t\t# Check that hyperparameters are all jnp arrays/scalars\n",
    "\t\tfor key, value in kwargs.items():\n",
    "\t\t\tif not isinstance(value, jnp.ndarray):  # Check type\n",
    "\t\t\t\traise ValueError(f\"Parameter {key} must be a jnp.ndarray.\")\n",
    "\t\t\telse:  # Check dimensionality\n",
    "\t\t\t\tif len(value.shape) > 1:\n",
    "\t\t\t\t\traise ValueError(f\"Parameter {key} must be a scalar or a 1D array, got shape {value.shape}.\")\n",
    "\n",
    "\t\t# Register hyperparameters in *kwargs* as instance attributes\n",
    "\t\tself.__dict__.update(kwargs)\n",
    "\n",
    "\t@jit\n",
    "\tdef check_kwargs(self, **kwargs):\n",
    "\t\tfor key in self.__dict__:\n",
    "\t\t\tif key not in kwargs:\n",
    "\t\t\t\tkwargs[key] = self.__dict__[key]\n",
    "\t\treturn kwargs\n",
    "\n",
    "\t@jit\n",
    "\tdef __call__(self, x1, x2=None, **kwargs):\n",
    "\t\t# If no x2 is provided, we compute the covariance between x1 and itself\n",
    "\t\tif x2 is None:\n",
    "\t\t\tx2 = x1\n",
    "\n",
    "\t\t# Check kwargs\n",
    "\t\tkwargs = self.check_kwargs(**kwargs)\n",
    "\n",
    "\t\t# Call the appropriate method\n",
    "\t\tif jnp.isscalar(x1) and jnp.isscalar(x2):\n",
    "\t\t\treturn self.compute_scalar_if_not_nan(x1, x2, **kwargs)\n",
    "\t\telif jnp.ndim(x1) == 1 and jnp.isscalar(x2):\n",
    "\t\t\treturn self.compute_vector_if_not_nan(x1, x2, **kwargs)\n",
    "\t\telif jnp.isscalar(x1) and jnp.ndim(x2) == 1:\n",
    "\t\t\treturn self.compute_vector_if_not_nan(x2, x1, **kwargs)\n",
    "\t\telif jnp.ndim(x1) == 1 and jnp.ndim(x2) == 1:\n",
    "\t\t\treturn self.compute_matrix(x1, x2, **kwargs)\n",
    "\t\telif jnp.ndim(x1) == 2 and jnp.ndim(x2) == 2:\n",
    "\t\t\treturn self.compute_batch(x1, x2, **kwargs)\n",
    "\t\telse:\n",
    "\t\t\treturn jnp.nan\n",
    "\n",
    "\t# Methods to use Kernel as a PyTree\n",
    "\tdef tree_flatten(self):\n",
    "\t\treturn tuple(self.__dict__.values()), None  # No static values\n",
    "\n",
    "\t@classmethod\n",
    "\tdef tree_unflatten(cls, _, children):\n",
    "\t\t# This class being abstract, this function fails when called on an \"abstract instance\",\n",
    "\t\t# as we don't know the number of parameters the constructor expects, yet we send it children.\n",
    "\t\t# On a subclass, this will work as expected as long as the constructor has a clear number of\n",
    "\t\t# kwargs as parameters.\n",
    "\t\treturn cls(*children)\n",
    "\n",
    "\t@jit\n",
    "\tdef compute_scalar_if_not_nan(self, x1: jnp.ndarray, x2: jnp.ndarray, **kwargs) -> jnp.ndarray:\n",
    "\t\t\"\"\"\n",
    "\t\tReturns NaN if either x1 or x2 is NaN, otherwise calls the compute_scalar method.\n",
    "\n",
    "\t\t:param x1: scalar array\n",
    "\t\t:param x2: scalar array\n",
    "\t\t:param kwargs: hyperparameters of the kernel\n",
    "\t\t:return: scalar array\n",
    "\t\t\"\"\"\n",
    "\t\treturn lax.cond(jnp.isnan(x1) | jnp.isnan(x2), lambda _: jnp.nan, lambda _: self.compute_scalar(x1, x2, **kwargs), None)\n",
    "\n",
    "\t@jit\n",
    "\tdef compute_scalar(self, x1: jnp.ndarray, x2: jnp.ndarray, **kwargs) -> jnp.ndarray:\n",
    "\t\t\"\"\"\n",
    "\t\tCompute the kernel covariance value between two scalar arrays.\n",
    "\n",
    "\t\t:param x1: scalar array\n",
    "\t\t:param x2: scalar array\n",
    "\t\t:param kwargs: hyperparameters of the kernel\n",
    "\t\t:return: scalar array\n",
    "\t\t\"\"\"\n",
    "\t\treturn jnp.array(jnp.nan)  # To be overwritten in subclasses\n",
    "\n",
    "\t@jit\n",
    "\tdef compute_vector(self, x1: jnp.ndarray, x2: jnp.ndarray, **kwargs) -> jnp.ndarray:\n",
    "\t\t\"\"\"\n",
    "\t\tCompute the kernel covariance value between a vector and a scalar.\n",
    "\n",
    "\t\t:param x1: vector array (N, )\n",
    "\t\t:param x2: scalar array\n",
    "\t\t:param kwargs: hyperparameters of the kernel\n",
    "\t\t:return: vector array (N, )\n",
    "\t\t\"\"\"\n",
    "\t\treturn vmap(lambda x: self.compute_scalar_if_not_nan(x, x2, **kwargs), in_axes=0)(x1)\n",
    "\n",
    "\t@jit\n",
    "\tdef compute_vector_if_not_nan(self, x1: jnp.ndarray, x2: jnp.ndarray, **kwargs) -> jnp.ndarray:\n",
    "\t\t\"\"\"\n",
    "\t\tReturns an array of NaN if scalar is NaN, otherwise calls the compute_vector method.\n",
    "\n",
    "\t\t:param x1: vector array (N, )\n",
    "\t\t:param x2: scalar array\n",
    "\t\t:param kwargs: hyperparameters of the kernel\n",
    "\t\t:return: vector array (N, )\n",
    "\t\t\"\"\"\n",
    "\t\treturn lax.cond(jnp.any(jnp.isnan(x2)), lambda _: x1 * jnp.nan, lambda _: self.compute_vector(x1, x2, **kwargs), None)\n",
    "\n",
    "\t@jit\n",
    "\tdef compute_matrix(self, x1: jnp.ndarray, x2: jnp.ndarray, **kwargs) -> jnp.ndarray:\n",
    "\t\t\"\"\"\n",
    "\t\tCompute the kernel covariance matrix between two vector arrays.\n",
    "\n",
    "\t\t:param x1: vector array (N, )\n",
    "\t\t:param x2: vector array (M, )\n",
    "\t\t:param kwargs: hyperparameters of the kernel\n",
    "\t\t:return: matrix array (N, M)\n",
    "\t\t\"\"\"\n",
    "\t\treturn vmap(lambda x: self.compute_vector_if_not_nan(x2, x, **kwargs), in_axes=0)(x1)\n",
    "\n",
    "\t@jit\n",
    "\tdef compute_batch(self, x1: jnp.ndarray, x2: jnp.ndarray, **kwargs) -> jnp.ndarray:\n",
    "\t\t\"\"\"\n",
    "\t\tCompute the kernel covariance matrix between two batched vector arrays.\n",
    "\n",
    "\t\t:param x1: vector array (B, N)\n",
    "\t\t:param x2: vector array (B, M)\n",
    "\t\t:param kwargs: hyperparameters of the kernel. Each HP that is a scalar will be common to the whole batch, and\n",
    "\t\teach HP that is a vector will be distinct and thus must have shape (B, )\n",
    "\t\t:return: tensor array (B, N, M)\n",
    "\t\t\"\"\"\n",
    "\t\t# vmap(self.compute_matrix)(x1, x2, **kwargs)\n",
    "\t\tcommon_hps = {key: value for key, value in kwargs.items() if jnp.isscalar(value)}\n",
    "\t\tdistinct_hps = {key: value for key, value in kwargs.items() if not jnp.isscalar(value)}\n",
    "\n",
    "\t\treturn vmap(lambda x, y, hps: self.compute_matrix(x, y, **hps, **common_hps), in_axes=(0, 0, 0))(x1, x2,\n",
    "\t\t                                                                                                distinct_hps)"
   ],
   "id": "6de52b981771ca48",
   "outputs": [],
   "execution_count": 6
  },
  {
   "metadata": {
    "ExecuteTime": {
     "end_time": "2025-03-10T09:12:22.539269Z",
     "start_time": "2025-03-10T09:12:22.535076Z"
    }
   },
   "cell_type": "code",
   "source": [
    "@register_pytree_node_class\n",
    "class NewRBFKernel(NewAbstractKernel):\n",
    "\tdef __init__(self, length_scale=None, variance=None):\n",
    "\t\tif length_scale is None:\n",
    "\t\t\tlength_scale = jnp.array([1.])\n",
    "\t\tif variance is None:\n",
    "\t\t\tvariance = jnp.array([1.])\n",
    "\t\tsuper().__init__(length_scale=length_scale, variance=variance)\n",
    "\n",
    "\t@jit\n",
    "\tdef compute_scalar(self, x1: jnp.ndarray, x2: jnp.ndarray, length_scale=None, variance=None) -> jnp.ndarray:\n",
    "\t\treturn variance * jnp.exp(-0.5 * (x1 - x2) ** 2 / length_scale ** 2)"
   ],
   "id": "dab793fb0db26fe8",
   "outputs": [
    {
     "data": {
      "text/plain": [
       "'\\n\\t@jit\\n\\tdef compute_vector(self, x1: jnp.ndarray, x2: jnp.ndarray, length_scale=None, variance=None) -> jnp.ndarray:\\n\\t\\treturn variance * jnp.exp(-0.5 * (x1 - x2) ** 2 / length_scale ** 2)  # Works the same as scalar\\n\\n\\t@jit\\n\\tdef compute_matrix(self, x1: jnp.ndarray, x2: jnp.ndarray, length_scale=None, variance=None) -> jnp.ndarray:\\n\\t\\treturn variance * jnp.exp(-0.5 * (x1[:, None] - x2) ** 2 / length_scale ** 2)  # Broadcast over x1\\n\\n\\t@jit\\n\\tdef compute_batch(self, x1: jnp.ndarray, x2: jnp.ndarray, length_scale=None, variance=None) -> jnp.ndarray:\\n\\t\\t# Broadcasts\\n\\t\\tif length_scale.ndim == 0:\\n\\t\\t\\tlength_scale = jnp.broadcast_to(length_scale, (len(x1), 1, 1))\\n\\t\\telse:\\n\\t\\t\\tlength_scale = length_scale[:, None, None]\\n\\n\\t\\tif variance.ndim == 0:\\n\\t\\t\\tvariance = jnp.broadcast_to(variance, (len(x1), 1, 1))\\n\\t\\telse:\\n\\t\\t\\tvariance = variance[:, None, None]\\n\\n\\t\\tsquared_diff = (x1[:, :, None] - x2[:, None, :]) ** 2\\n\\n\\t\\treturn variance * jnp.exp(-0.5 * squared_diff / length_scale ** 2)\\n'"
      ]
     },
     "execution_count": 7,
     "metadata": {},
     "output_type": "execute_result"
    }
   ],
   "execution_count": 7
  },
  {
   "metadata": {},
   "cell_type": "markdown",
   "source": [
    "---\n",
    "## Comparison"
   ],
   "id": "88fdaed3f55aae3a"
  },
  {
   "metadata": {
    "ExecuteTime": {
     "end_time": "2025-03-10T09:12:22.562913Z",
     "start_time": "2025-03-10T09:12:22.560467Z"
    }
   },
   "cell_type": "code",
   "source": "new_kernel = NewRBFKernel(length_scale=jnp.array(1.), variance=jnp.array(1.))",
   "id": "ed8be2acd5fb7300",
   "outputs": [],
   "execution_count": 8
  },
  {
   "metadata": {},
   "cell_type": "markdown",
   "source": "### On padded datasets",
   "id": "683df5e52bdfc3e5"
  },
  {
   "metadata": {
    "ExecuteTime": {
     "end_time": "2025-03-10T09:12:32.672144Z",
     "start_time": "2025-03-10T09:12:22.575410Z"
    }
   },
   "cell_type": "code",
   "source": [
    "grid = jnp.arange(-200, 200, 1, dtype=jnp.float64)\n",
    "db = generate_dummy_db(50, 10, 100, grid, key)\n",
    "all_inputs, padded_inputs, padded_outputs, masks = preprocess_db(db)\n",
    "all_inputs.shape, padded_inputs.shape, padded_outputs.shape, masks.shape"
   ],
   "id": "cedb1c7647eb374b",
   "outputs": [
    {
     "data": {
      "text/plain": [
       "((398,), (50, 398), (50, 398), (50, 398))"
      ]
     },
     "execution_count": 9,
     "metadata": {},
     "output_type": "execute_result"
    }
   ],
   "execution_count": 9
  },
  {
   "metadata": {
    "ExecuteTime": {
     "end_time": "2025-03-10T09:12:32.716483Z",
     "start_time": "2025-03-10T09:12:32.682434Z"
    }
   },
   "cell_type": "code",
   "source": [
    "# Covariance on padded matrix\n",
    "res1 = old_kernel(padded_inputs)\n",
    "res1.shape"
   ],
   "id": "eac3879ebba51b06",
   "outputs": [
    {
     "data": {
      "text/plain": [
       "(50, 398, 398)"
      ]
     },
     "execution_count": 10,
     "metadata": {},
     "output_type": "execute_result"
    }
   ],
   "execution_count": 10
  },
  {
   "metadata": {
    "ExecuteTime": {
     "end_time": "2025-03-10T09:12:32.829867Z",
     "start_time": "2025-03-10T09:12:32.725784Z"
    }
   },
   "cell_type": "code",
   "source": [
    "# Covariance on un-padded matrix\n",
    "res2 = new_kernel(padded_inputs)\n",
    "res2.shape"
   ],
   "id": "6692f5f0e203b15a",
   "outputs": [
    {
     "data": {
      "text/plain": [
       "(50, 398, 398)"
      ]
     },
     "execution_count": 11,
     "metadata": {},
     "output_type": "execute_result"
    }
   ],
   "execution_count": 11
  },
  {
   "metadata": {
    "ExecuteTime": {
     "end_time": "2025-03-10T09:12:32.908123Z",
     "start_time": "2025-03-10T09:12:32.841002Z"
    }
   },
   "cell_type": "code",
   "source": [
    "# Check that values in un-padded matrix correspond to the values in the padded matrix\n",
    "jnp.allclose(jnp.nan_to_num(res1), jnp.nan_to_num(res2))"
   ],
   "id": "d663de5d31ba4296",
   "outputs": [
    {
     "data": {
      "text/plain": [
       "Array(True, dtype=bool)"
      ]
     },
     "execution_count": 12,
     "metadata": {},
     "output_type": "execute_result"
    }
   ],
   "execution_count": 12
  },
  {
   "metadata": {
    "ExecuteTime": {
     "end_time": "2025-03-10T09:12:37.932901Z",
     "start_time": "2025-03-10T09:12:32.981792Z"
    }
   },
   "cell_type": "code",
   "source": "%timeit old_kernel(padded_inputs).block_until_ready()",
   "id": "afa77734d4a3026a",
   "outputs": [
    {
     "name": "stdout",
     "output_type": "stream",
     "text": [
      "6.09 ms ± 109 μs per loop (mean ± std. dev. of 7 runs, 100 loops each)\n"
     ]
    }
   ],
   "execution_count": 13
  },
  {
   "metadata": {
    "ExecuteTime": {
     "end_time": "2025-03-10T09:12:40.710227Z",
     "start_time": "2025-03-10T09:12:38.009337Z"
    }
   },
   "cell_type": "code",
   "source": "%timeit new_kernel(padded_inputs).block_until_ready()",
   "id": "988872f9882915b2",
   "outputs": [
    {
     "name": "stdout",
     "output_type": "stream",
     "text": [
      "3.29 ms ± 50.8 μs per loop (mean ± std. dev. of 7 runs, 100 loops each)\n"
     ]
    }
   ],
   "execution_count": 14
  },
  {
   "metadata": {
    "ExecuteTime": {
     "end_time": "2025-03-10T09:12:42.524329Z",
     "start_time": "2025-03-10T09:12:40.781321Z"
    }
   },
   "cell_type": "code",
   "source": "%timeit old_kernel(padded_inputs[0]).block_until_ready()",
   "id": "78e138a296e4366c",
   "outputs": [
    {
     "name": "stdout",
     "output_type": "stream",
     "text": [
      "202 μs ± 5.55 μs per loop (mean ± std. dev. of 7 runs, 1,000 loops each)\n"
     ]
    }
   ],
   "execution_count": 15
  },
  {
   "metadata": {
    "ExecuteTime": {
     "end_time": "2025-03-10T09:12:54.086836Z",
     "start_time": "2025-03-10T09:12:42.595378Z"
    }
   },
   "cell_type": "code",
   "source": "%timeit new_kernel(padded_inputs[0]).block_until_ready()",
   "id": "63f99805d6831f77",
   "outputs": [
    {
     "name": "stdout",
     "output_type": "stream",
     "text": [
      "141 μs ± 3.67 μs per loop (mean ± std. dev. of 7 runs, 10,000 loops each)\n"
     ]
    }
   ],
   "execution_count": 16
  },
  {
   "metadata": {
    "ExecuteTime": {
     "end_time": "2025-03-10T09:12:54.201704Z",
     "start_time": "2025-03-10T09:12:54.156899Z"
    }
   },
   "cell_type": "code",
   "source": "jnp.nansum(masks, axis=1).max()",
   "id": "c1b7e2ece975e631",
   "outputs": [
    {
     "data": {
      "text/plain": [
       "Array(90, dtype=int64)"
      ]
     },
     "execution_count": 17,
     "metadata": {},
     "output_type": "execute_result"
    }
   ],
   "execution_count": 17
  },
  {
   "metadata": {
    "ExecuteTime": {
     "end_time": "2025-03-10T09:12:54.353448Z",
     "start_time": "2025-03-10T09:12:54.271293Z"
    }
   },
   "cell_type": "code",
   "source": [
    "# Equivalent dense inputs\n",
    "key, subkey = jax.random.split(key)\n",
    "dense_inputs = jax.random.uniform(subkey, (50, int(jnp.nansum(masks, axis=1).max().item())))"
   ],
   "id": "197b9cdbb1394d06",
   "outputs": [],
   "execution_count": 18
  },
  {
   "metadata": {
    "ExecuteTime": {
     "end_time": "2025-03-10T09:12:58.951468Z",
     "start_time": "2025-03-10T09:12:54.362535Z"
    }
   },
   "cell_type": "code",
   "source": "%timeit old_kernel(dense_inputs).block_until_ready()",
   "id": "8193dbf0d10766bd",
   "outputs": [
    {
     "name": "stdout",
     "output_type": "stream",
     "text": [
      "557 μs ± 10.1 μs per loop (mean ± std. dev. of 7 runs, 1,000 loops each)\n"
     ]
    }
   ],
   "execution_count": 19
  },
  {
   "metadata": {
    "ExecuteTime": {
     "end_time": "2025-03-10T09:18:02.019525Z",
     "start_time": "2025-03-10T09:18:02.007319Z"
    }
   },
   "cell_type": "code",
   "source": "padded_inputs.shape, dense_inputs.shape",
   "id": "d55658e2cbc1bc22",
   "outputs": [
    {
     "data": {
      "text/plain": [
       "((50, 398), (50, 90))"
      ]
     },
     "execution_count": 50,
     "metadata": {},
     "output_type": "execute_result"
    }
   ],
   "execution_count": 50
  },
  {
   "metadata": {},
   "cell_type": "markdown",
   "source": "### On scalars",
   "id": "72fc2c859b07141f"
  },
  {
   "metadata": {
    "ExecuteTime": {
     "end_time": "2025-03-10T09:12:59.012006Z",
     "start_time": "2025-03-10T09:12:58.970735Z"
    }
   },
   "cell_type": "code",
   "source": [
    "key, subkey = jax.random.split(key)\n",
    "a = jax.random.uniform(subkey, ())\n",
    "key, subkey = jax.random.split(key)\n",
    "b = jax.random.uniform(subkey, ())\n",
    "a, b"
   ],
   "id": "91accf6c200faefe",
   "outputs": [
    {
     "data": {
      "text/plain": [
       "(Array(0.67119299, dtype=float64), Array(0.35166634, dtype=float64))"
      ]
     },
     "execution_count": 20,
     "metadata": {},
     "output_type": "execute_result"
    }
   ],
   "execution_count": 20
  },
  {
   "metadata": {
    "ExecuteTime": {
     "end_time": "2025-03-10T09:12:59.043058Z",
     "start_time": "2025-03-10T09:12:59.016621Z"
    }
   },
   "cell_type": "code",
   "source": [
    "res1 = old_kernel(a, b)\n",
    "np.asarray(res1)"
   ],
   "id": "c0767a5357092886",
   "outputs": [
    {
     "data": {
      "text/plain": [
       "array(0.95023245)"
      ]
     },
     "execution_count": 21,
     "metadata": {},
     "output_type": "execute_result"
    }
   ],
   "execution_count": 21
  },
  {
   "metadata": {
    "ExecuteTime": {
     "end_time": "2025-03-10T09:12:59.083378Z",
     "start_time": "2025-03-10T09:12:59.053559Z"
    }
   },
   "cell_type": "code",
   "source": [
    "res2 = new_kernel(a, b)\n",
    "np.asarray(res2)"
   ],
   "id": "f317cd74793268c1",
   "outputs": [
    {
     "data": {
      "text/plain": [
       "array(0.95023245)"
      ]
     },
     "execution_count": 22,
     "metadata": {},
     "output_type": "execute_result"
    }
   ],
   "execution_count": 22
  },
  {
   "metadata": {
    "ExecuteTime": {
     "end_time": "2025-03-10T09:12:59.121092Z",
     "start_time": "2025-03-10T09:12:59.092943Z"
    }
   },
   "cell_type": "code",
   "source": "jnp.allclose(res1, res2)",
   "id": "1e31a8a1331139a8",
   "outputs": [
    {
     "data": {
      "text/plain": [
       "Array(True, dtype=bool)"
      ]
     },
     "execution_count": 23,
     "metadata": {},
     "output_type": "execute_result"
    }
   ],
   "execution_count": 23
  },
  {
   "metadata": {
    "ExecuteTime": {
     "end_time": "2025-03-10T09:13:04.081586Z",
     "start_time": "2025-03-10T09:12:59.129215Z"
    }
   },
   "cell_type": "code",
   "source": "%timeit old_kernel(a, b).block_until_ready()",
   "id": "fd427f5b212e7996",
   "outputs": [
    {
     "name": "stdout",
     "output_type": "stream",
     "text": [
      "6.12 μs ± 241 ns per loop (mean ± std. dev. of 7 runs, 100,000 loops each)\n"
     ]
    }
   ],
   "execution_count": 24
  },
  {
   "metadata": {
    "ExecuteTime": {
     "end_time": "2025-03-10T09:13:09.367263Z",
     "start_time": "2025-03-10T09:13:04.089987Z"
    }
   },
   "cell_type": "code",
   "source": "%timeit new_kernel(a, b).block_until_ready()",
   "id": "d3668e725dad284a",
   "outputs": [
    {
     "name": "stdout",
     "output_type": "stream",
     "text": [
      "6.47 μs ± 77.5 ns per loop (mean ± std. dev. of 7 runs, 100,000 loops each)\n"
     ]
    }
   ],
   "execution_count": 25
  },
  {
   "metadata": {},
   "cell_type": "markdown",
   "source": "### On an array and a scalar",
   "id": "230835a6635088b7"
  },
  {
   "metadata": {
    "ExecuteTime": {
     "end_time": "2025-03-10T09:13:09.454432Z",
     "start_time": "2025-03-10T09:13:09.375891Z"
    }
   },
   "cell_type": "code",
   "source": [
    "key, subkey = jax.random.split(key)\n",
    "a = jax.random.uniform(subkey, (10000,))\n",
    "key, subkey = jax.random.split(key)\n",
    "b = jax.random.uniform(subkey, ())\n",
    "a, b"
   ],
   "id": "6a4c7a5ef8dbcd53",
   "outputs": [
    {
     "data": {
      "text/plain": [
       "(Array([0.15974131, 0.14370377, 0.62062701, ..., 0.7647444 , 0.49158483,\n",
       "        0.34969892], dtype=float64),\n",
       " Array(0.96106866, dtype=float64))"
      ]
     },
     "execution_count": 26,
     "metadata": {},
     "output_type": "execute_result"
    }
   ],
   "execution_count": 26
  },
  {
   "metadata": {
    "ExecuteTime": {
     "end_time": "2025-03-10T09:13:09.505180Z",
     "start_time": "2025-03-10T09:13:09.475483Z"
    }
   },
   "cell_type": "code",
   "source": [
    "res1 = old_kernel(a, b)\n",
    "np.asarray(res1)"
   ],
   "id": "229f81e6f95befa4",
   "outputs": [
    {
     "data": {
      "text/plain": [
       "array([0.72537772, 0.71602322, 0.94369689, ..., 0.9809129 , 0.89564824,\n",
       "       0.8295379 ])"
      ]
     },
     "execution_count": 27,
     "metadata": {},
     "output_type": "execute_result"
    }
   ],
   "execution_count": 27
  },
  {
   "metadata": {
    "ExecuteTime": {
     "end_time": "2025-03-10T09:13:09.549399Z",
     "start_time": "2025-03-10T09:13:09.513533Z"
    }
   },
   "cell_type": "code",
   "source": [
    "res2 = new_kernel(a, b)\n",
    "np.asarray(res2)"
   ],
   "id": "80ad90bc8eeb5eb5",
   "outputs": [
    {
     "data": {
      "text/plain": [
       "array([0.72537772, 0.71602322, 0.94369689, ..., 0.9809129 , 0.89564824,\n",
       "       0.8295379 ])"
      ]
     },
     "execution_count": 28,
     "metadata": {},
     "output_type": "execute_result"
    }
   ],
   "execution_count": 28
  },
  {
   "metadata": {
    "ExecuteTime": {
     "end_time": "2025-03-10T09:13:09.590591Z",
     "start_time": "2025-03-10T09:13:09.557422Z"
    }
   },
   "cell_type": "code",
   "source": "jnp.allclose(res1, res2)",
   "id": "767c7986aea10111",
   "outputs": [
    {
     "data": {
      "text/plain": [
       "Array(True, dtype=bool)"
      ]
     },
     "execution_count": 29,
     "metadata": {},
     "output_type": "execute_result"
    }
   ],
   "execution_count": 29
  },
  {
   "metadata": {
    "ExecuteTime": {
     "end_time": "2025-03-10T09:13:14.078894Z",
     "start_time": "2025-03-10T09:13:09.599352Z"
    }
   },
   "cell_type": "code",
   "source": "%timeit old_kernel(a, b).block_until_ready()",
   "id": "3fcdd9490530e57b",
   "outputs": [
    {
     "name": "stdout",
     "output_type": "stream",
     "text": [
      "54.8 μs ± 1.97 μs per loop (mean ± std. dev. of 7 runs, 10,000 loops each)\n"
     ]
    }
   ],
   "execution_count": 30
  },
  {
   "metadata": {
    "ExecuteTime": {
     "end_time": "2025-03-10T09:13:18.719015Z",
     "start_time": "2025-03-10T09:13:14.087200Z"
    }
   },
   "cell_type": "code",
   "source": "%timeit new_kernel(a, b).block_until_ready()",
   "id": "8ca44189d29f6e7b",
   "outputs": [
    {
     "name": "stdout",
     "output_type": "stream",
     "text": [
      "56.6 μs ± 1.79 μs per loop (mean ± std. dev. of 7 runs, 10,000 loops each)\n"
     ]
    }
   ],
   "execution_count": 31
  },
  {
   "metadata": {},
   "cell_type": "markdown",
   "source": "### On two arrays",
   "id": "90cc3cd43d1f60f1"
  },
  {
   "metadata": {
    "ExecuteTime": {
     "end_time": "2025-03-10T09:13:18.799629Z",
     "start_time": "2025-03-10T09:13:18.727586Z"
    }
   },
   "cell_type": "code",
   "source": [
    "key, subkey = jax.random.split(key)\n",
    "a = jax.random.uniform(subkey, (10000,))\n",
    "key, subkey = jax.random.split(key)\n",
    "b = jax.random.uniform(subkey, (15000,))\n",
    "a.shape, b.shape"
   ],
   "id": "2e187ec00e66d966",
   "outputs": [
    {
     "data": {
      "text/plain": [
       "((10000,), (15000,))"
      ]
     },
     "execution_count": 32,
     "metadata": {},
     "output_type": "execute_result"
    }
   ],
   "execution_count": 32
  },
  {
   "metadata": {
    "ExecuteTime": {
     "end_time": "2025-03-10T09:13:19.029634Z",
     "start_time": "2025-03-10T09:13:18.811455Z"
    }
   },
   "cell_type": "code",
   "source": [
    "res1 = old_kernel(a, b)\n",
    "np.asarray(res1).shape"
   ],
   "id": "4ee7910c44ec8322",
   "outputs": [
    {
     "data": {
      "text/plain": [
       "(10000, 15000)"
      ]
     },
     "execution_count": 33,
     "metadata": {},
     "output_type": "execute_result"
    }
   ],
   "execution_count": 33
  },
  {
   "metadata": {
    "ExecuteTime": {
     "end_time": "2025-03-10T09:13:19.428886Z",
     "start_time": "2025-03-10T09:13:19.041364Z"
    }
   },
   "cell_type": "code",
   "source": [
    "res2 = new_kernel(a, b)\n",
    "np.asarray(res2).shape"
   ],
   "id": "1e5cc829e8dd35e5",
   "outputs": [
    {
     "data": {
      "text/plain": [
       "(10000, 15000)"
      ]
     },
     "execution_count": 34,
     "metadata": {},
     "output_type": "execute_result"
    }
   ],
   "execution_count": 34
  },
  {
   "metadata": {
    "ExecuteTime": {
     "end_time": "2025-03-10T09:13:19.734576Z",
     "start_time": "2025-03-10T09:13:19.467325Z"
    }
   },
   "cell_type": "code",
   "source": "jnp.allclose(res1, res2)",
   "id": "20e9d689dc4ac3ff",
   "outputs": [
    {
     "data": {
      "text/plain": [
       "Array(True, dtype=bool)"
      ]
     },
     "execution_count": 35,
     "metadata": {},
     "output_type": "execute_result"
    }
   ],
   "execution_count": 35
  },
  {
   "metadata": {
    "ExecuteTime": {
     "end_time": "2025-03-10T09:13:21.542830Z",
     "start_time": "2025-03-10T09:13:19.739956Z"
    }
   },
   "cell_type": "code",
   "source": "%timeit old_kernel(a, b).block_until_ready()",
   "id": "90c64e2b77d19297",
   "outputs": [
    {
     "name": "stdout",
     "output_type": "stream",
     "text": [
      "177 ms ± 15.3 ms per loop (mean ± std. dev. of 7 runs, 1 loop each)\n"
     ]
    }
   ],
   "execution_count": 36
  },
  {
   "metadata": {
    "ExecuteTime": {
     "end_time": "2025-03-10T09:13:32.181089Z",
     "start_time": "2025-03-10T09:13:21.552201Z"
    }
   },
   "cell_type": "code",
   "source": "%timeit new_kernel(a, b).block_until_ready()",
   "id": "461450e09cca635d",
   "outputs": [
    {
     "name": "stdout",
     "output_type": "stream",
     "text": [
      "131 ms ± 3.38 ms per loop (mean ± std. dev. of 7 runs, 10 loops each)\n"
     ]
    }
   ],
   "execution_count": 37
  },
  {
   "metadata": {},
   "cell_type": "markdown",
   "source": "### On two batches of arrays with common HP",
   "id": "63164fba40982ea8"
  },
  {
   "metadata": {
    "ExecuteTime": {
     "end_time": "2025-03-10T09:13:32.337728Z",
     "start_time": "2025-03-10T09:13:32.192331Z"
    }
   },
   "cell_type": "code",
   "source": [
    "key, subkey = jax.random.split(key)\n",
    "a = jax.random.uniform(subkey, (50, 100))\n",
    "key, subkey = jax.random.split(key)\n",
    "b = jax.random.uniform(subkey, (50, 150))\n",
    "a.shape, b.shape"
   ],
   "id": "e413ce7333f699",
   "outputs": [
    {
     "data": {
      "text/plain": [
       "((50, 100), (50, 150))"
      ]
     },
     "execution_count": 38,
     "metadata": {},
     "output_type": "execute_result"
    }
   ],
   "execution_count": 38
  },
  {
   "metadata": {
    "ExecuteTime": {
     "end_time": "2025-03-10T09:13:32.395635Z",
     "start_time": "2025-03-10T09:13:32.346237Z"
    }
   },
   "cell_type": "code",
   "source": [
    "# Using common hyperparameters for all batches\n",
    "res1 = old_kernel(a, b)\n",
    "np.asarray(res1).shape"
   ],
   "id": "fc8548ed32551e44",
   "outputs": [
    {
     "data": {
      "text/plain": [
       "(50, 100, 150)"
      ]
     },
     "execution_count": 39,
     "metadata": {},
     "output_type": "execute_result"
    }
   ],
   "execution_count": 39
  },
  {
   "metadata": {
    "ExecuteTime": {
     "end_time": "2025-03-10T09:13:32.497962Z",
     "start_time": "2025-03-10T09:13:32.404493Z"
    }
   },
   "cell_type": "code",
   "source": [
    "# Also using common hyperparameters for all batches\n",
    "res2 = new_kernel(a, b)\n",
    "np.asarray(res2).shape"
   ],
   "id": "3f52ca9e8e57785f",
   "outputs": [
    {
     "data": {
      "text/plain": [
       "(50, 100, 150)"
      ]
     },
     "execution_count": 40,
     "metadata": {},
     "output_type": "execute_result"
    }
   ],
   "execution_count": 40
  },
  {
   "metadata": {
    "ExecuteTime": {
     "end_time": "2025-03-10T09:13:32.542775Z",
     "start_time": "2025-03-10T09:13:32.507267Z"
    }
   },
   "cell_type": "code",
   "source": "jnp.allclose(res1, res2)",
   "id": "5f4e08c68d1875c2",
   "outputs": [
    {
     "data": {
      "text/plain": [
       "Array(True, dtype=bool)"
      ]
     },
     "execution_count": 41,
     "metadata": {},
     "output_type": "execute_result"
    }
   ],
   "execution_count": 41
  },
  {
   "metadata": {
    "ExecuteTime": {
     "end_time": "2025-03-10T09:13:40.264118Z",
     "start_time": "2025-03-10T09:13:32.552421Z"
    }
   },
   "cell_type": "code",
   "source": "%timeit old_kernel(a, b).block_until_ready()",
   "id": "157687039596bf3e",
   "outputs": [
    {
     "name": "stdout",
     "output_type": "stream",
     "text": [
      "949 μs ± 20.7 μs per loop (mean ± std. dev. of 7 runs, 1,000 loops each)\n"
     ]
    }
   ],
   "execution_count": 42
  },
  {
   "metadata": {
    "ExecuteTime": {
     "end_time": "2025-03-10T09:13:46.916629Z",
     "start_time": "2025-03-10T09:13:40.275187Z"
    }
   },
   "cell_type": "code",
   "source": "%timeit new_kernel(a, b).block_until_ready()",
   "id": "de5edd7f24165ee",
   "outputs": [
    {
     "name": "stdout",
     "output_type": "stream",
     "text": [
      "818 μs ± 96.3 μs per loop (mean ± std. dev. of 7 runs, 1,000 loops each)\n"
     ]
    }
   ],
   "execution_count": 43
  },
  {
   "metadata": {},
   "cell_type": "markdown",
   "source": "### On two batches of arrays with distinct HP",
   "id": "2852fadacb2da833"
  },
  {
   "metadata": {
    "ExecuteTime": {
     "end_time": "2025-03-10T09:13:47.021222Z",
     "start_time": "2025-03-10T09:13:46.933557Z"
    }
   },
   "cell_type": "code",
   "source": [
    "key, subkey = jax.random.split(key)\n",
    "a = jax.random.uniform(subkey, (50, 100))  # 5 batches of 10-dimensional data\n",
    "key, subkey = jax.random.split(key)\n",
    "b = jax.random.uniform(subkey, (50, 150))  # 5 batches of 15-dimensional data\n",
    "\n",
    "# Create distinct hyperparameters for each batch\n",
    "key, subkey = jax.random.split(key)\n",
    "distinct_length_scales = jax.random.uniform(subkey, (50,)) + 0.5  # Ensuring positive values\n",
    "key, subkey = jax.random.split(key)\n",
    "distinct_variances = jax.random.uniform(subkey, (50,)) + 0.5  # Ensuring positive values\n",
    "\n",
    "distinct_length_scales, distinct_variances"
   ],
   "id": "54078da46f988088",
   "outputs": [
    {
     "data": {
      "text/plain": [
       "(Array([1.40087618, 0.50347402, 0.81557193, 1.34923058, 1.00457197,\n",
       "        0.65788761, 0.9219105 , 0.72545942, 1.23310028, 0.91450771,\n",
       "        0.52153169, 1.07353706, 0.84001156, 0.63915561, 1.28793987,\n",
       "        0.960267  , 0.5185922 , 1.46299715, 1.2229984 , 0.73096194,\n",
       "        1.47447511, 1.41269148, 0.62063165, 1.39239143, 0.56357474,\n",
       "        0.95879739, 1.23934137, 0.66682831, 1.27697895, 1.41619929,\n",
       "        1.1099631 , 1.14399616, 1.30613247, 0.78241536, 1.13752401,\n",
       "        0.7997413 , 0.86489189, 1.1392135 , 1.05768611, 0.64485643,\n",
       "        0.78303156, 0.61316633, 0.53466457, 0.93155447, 0.81706077,\n",
       "        0.89970457, 0.6447488 , 1.16024019, 1.30514671, 0.9256145 ],      dtype=float64),\n",
       " Array([1.34874564, 1.01689555, 1.11981318, 0.96395389, 0.73946461,\n",
       "        0.57796114, 0.86174911, 0.87934257, 1.08225335, 1.42074674,\n",
       "        1.38278328, 0.69312996, 0.62528442, 0.52303255, 1.35397314,\n",
       "        0.62574799, 1.25923923, 0.82557538, 1.32550512, 1.13693679,\n",
       "        0.61045989, 0.95835024, 1.1395525 , 0.72743728, 1.40814072,\n",
       "        0.55834327, 1.25617653, 1.36335531, 1.13699459, 0.52385607,\n",
       "        1.44584197, 0.9116277 , 1.00884027, 0.84885309, 0.75239832,\n",
       "        1.03805447, 1.29760599, 1.45965334, 1.08024967, 0.91747966,\n",
       "        1.18228096, 1.20502062, 0.93271647, 0.66841932, 1.36912389,\n",
       "        0.97681902, 0.82455684, 0.72146781, 1.38601232, 1.17678515],      dtype=float64))"
      ]
     },
     "execution_count": 44,
     "metadata": {},
     "output_type": "execute_result"
    }
   ],
   "execution_count": 44
  },
  {
   "metadata": {
    "ExecuteTime": {
     "end_time": "2025-03-10T09:13:47.056220Z",
     "start_time": "2025-03-10T09:13:47.024794Z"
    }
   },
   "cell_type": "code",
   "source": "res1 = old_kernel(a, b, length_scale=distinct_length_scales, variance=distinct_variances)",
   "id": "7b257cdaabb8d9f8",
   "outputs": [],
   "execution_count": 45
  },
  {
   "metadata": {
    "ExecuteTime": {
     "end_time": "2025-03-10T09:13:47.118600Z",
     "start_time": "2025-03-10T09:13:47.065834Z"
    }
   },
   "cell_type": "code",
   "source": "res2 = new_kernel(a, b, length_scale=distinct_length_scales, variance=distinct_variances)",
   "id": "4a7803a753fb4840",
   "outputs": [],
   "execution_count": 46
  },
  {
   "metadata": {
    "ExecuteTime": {
     "end_time": "2025-03-10T09:13:47.132158Z",
     "start_time": "2025-03-10T09:13:47.128888Z"
    }
   },
   "cell_type": "code",
   "source": "jnp.allclose(res1, res2)",
   "id": "39aa37e12c9cba59",
   "outputs": [
    {
     "data": {
      "text/plain": [
       "Array(True, dtype=bool)"
      ]
     },
     "execution_count": 47,
     "metadata": {},
     "output_type": "execute_result"
    }
   ],
   "execution_count": 47
  },
  {
   "metadata": {
    "ExecuteTime": {
     "end_time": "2025-03-10T09:13:54.828024Z",
     "start_time": "2025-03-10T09:13:47.141694Z"
    }
   },
   "cell_type": "code",
   "source": "%timeit old_kernel(a, b, length_scale=distinct_length_scales, variance=distinct_variances).block_until_ready()",
   "id": "c7484691a8884b94",
   "outputs": [
    {
     "name": "stdout",
     "output_type": "stream",
     "text": [
      "949 μs ± 14.7 μs per loop (mean ± std. dev. of 7 runs, 1,000 loops each)\n"
     ]
    }
   ],
   "execution_count": 48
  },
  {
   "metadata": {
    "ExecuteTime": {
     "end_time": "2025-03-10T09:14:01.293782Z",
     "start_time": "2025-03-10T09:13:54.881095Z"
    }
   },
   "cell_type": "code",
   "source": "%timeit new_kernel(a, b, length_scale=distinct_length_scales, variance=distinct_variances).block_until_ready()",
   "id": "83eea3bcc71501a8",
   "outputs": [
    {
     "name": "stdout",
     "output_type": "stream",
     "text": [
      "782 μs ± 19.4 μs per loop (mean ± std. dev. of 7 runs, 1,000 loops each)\n"
     ]
    }
   ],
   "execution_count": 49
  },
  {
   "metadata": {},
   "cell_type": "markdown",
   "source": "### On two batches of arrays with both common and distinct HP",
   "id": "81c5b041a6947202"
  },
  {
   "metadata": {},
   "cell_type": "markdown",
   "source": [
    "---\n",
    "## Conclusion"
   ],
   "id": "40eac9ed87ce043e"
  },
  {
   "metadata": {},
   "cell_type": "markdown",
   "source": [
    "The conditional logic in `compute_vector` that simplifies computations on NaNs gives us roughly a 2x improvement in speed on padded matrices. However, this solution is still 6x slower than computing the covariance batch on a \"denser\" input. *In fine*, computing a batch kernel is a $O(M*N^2)$ operation. Computing covariance on smallest possible (meaning \"padded but not aligned\") vectors (N = 90) is obviously faster than on fully padded and aligned ones (N = 400).\n",
    "\n",
    "It is interesting to note that this speed gain is only obtained if no implementation of `compute_matrix` and `compute_batch` is given, as those implementations would skip `compute_vector`.\n",
    "\n",
    "**In the future, we should explore whether computing kernels on \"compact\" padded inputs and then map the values to an \"aligned\" batch preserves this speed gain. If so, it might be useful to consider using this \"compact\" representation throughout the whole algorithm.**"
   ],
   "id": "9a40d2411b3e8932"
  },
  {
   "metadata": {},
   "cell_type": "markdown",
   "source": "---",
   "id": "f18216d93ddcf3af"
  }
 ],
 "metadata": {
  "kernelspec": {
   "display_name": "Python 3",
   "language": "python",
   "name": "python3"
  },
  "language_info": {
   "codemirror_mode": {
    "name": "ipython",
    "version": 2
   },
   "file_extension": ".py",
   "mimetype": "text/x-python",
   "name": "python",
   "nbconvert_exporter": "python",
   "pygments_lexer": "ipython2",
   "version": "2.7.6"
  }
 },
 "nbformat": 4,
 "nbformat_minor": 5
}
