{
 "cells": [
  {
   "metadata": {},
   "cell_type": "markdown",
   "source": [
    "# Benchmarks - Kernels\n",
    "\n",
    "In MagmaClust and GPs in general, kernels are what makes it possible to compute a covariance matrix for any set of points, given a set of hyperparameters. They are used in many innermost loops, and their implementation is critical for performance.\n",
    "\n",
    "**Main considerations when implementing kernels**\n",
    "\n",
    "A good kernel implementation must be:\n",
    "* fast, as it is used in many innermost loops\n",
    "* usable at many dimensions, including a batch dimension with distinct hyperparameters for each element\n",
    "* work on padded inputs (aka inputs with NaNs), maybe using a mask\n",
    "* jittable, as it is used in many jit-compiled functions\n",
    "* modular, as kernels can be combined in many ways\n",
    "* both static and instance-based, to either carry around hyperparameters or be called with them\n",
    "* easy to override, as users may want to define their own kernels\n",
    "\n",
    "These goals are conflicting in some cases (e.g: a jittable version of a kernel is not trivial to write for most people), and the best implementation will depend on the specific use case."
   ],
   "id": "f69390d194b35b0a"
  },
  {
   "metadata": {},
   "cell_type": "markdown",
   "source": [
    "---\n",
    "## Setup"
   ],
   "id": "4763c6a1086dfd7a"
  },
  {
   "metadata": {
    "ExecuteTime": {
     "end_time": "2025-03-05T12:06:08.740257Z",
     "start_time": "2025-03-05T12:06:08.737515Z"
    }
   },
   "cell_type": "code",
   "source": [
    "# Standard library\n",
    "import os"
   ],
   "id": "eb0046b46dc27950",
   "outputs": [],
   "execution_count": 1
  },
  {
   "metadata": {
    "ExecuteTime": {
     "end_time": "2025-03-05T12:06:09.144050Z",
     "start_time": "2025-03-05T12:06:08.833179Z"
    }
   },
   "cell_type": "code",
   "source": [
    "# Third party\n",
    "import jax\n",
    "from jax import jit, vmap\n",
    "from jax.tree_util import register_pytree_node_class\n",
    "from jax import numpy as jnp\n",
    "\n",
    "import numpy as np"
   ],
   "id": "a1fe8b76912d6f2c",
   "outputs": [],
   "execution_count": 2
  },
  {
   "metadata": {
    "ExecuteTime": {
     "end_time": "2025-03-05T12:06:09.152131Z",
     "start_time": "2025-03-05T12:06:09.147132Z"
    }
   },
   "cell_type": "code",
   "source": [
    "# Local\n",
    "from MagmaClustPy.kernels import RBFKernel, AbstractKernel"
   ],
   "id": "4b255f340edfbe6f",
   "outputs": [],
   "execution_count": 3
  },
  {
   "metadata": {
    "ExecuteTime": {
     "end_time": "2025-03-05T12:06:09.158067Z",
     "start_time": "2025-03-05T12:06:09.156644Z"
    }
   },
   "cell_type": "code",
   "source": [
    "# Config\n",
    "os.environ['JAX_ENABLE_X64'] = \"True\""
   ],
   "id": "3180afa8778f9553",
   "outputs": [],
   "execution_count": 4
  },
  {
   "metadata": {},
   "cell_type": "markdown",
   "source": [
    "---\n",
    "## Data"
   ],
   "id": "190fcef7dd61821b"
  },
  {
   "metadata": {
    "ExecuteTime": {
     "end_time": "2025-03-05T12:06:09.163172Z",
     "start_time": "2025-03-05T12:06:09.161891Z"
    }
   },
   "cell_type": "code",
   "source": "",
   "id": "b36bdb0b6080e935",
   "outputs": [],
   "execution_count": null
  },
  {
   "metadata": {},
   "cell_type": "markdown",
   "source": [
    "---\n",
    "## Current implementation"
   ],
   "id": "bffd41fea2028bdb"
  },
  {
   "metadata": {},
   "cell_type": "markdown",
   "source": [
    "---\n",
    "## Custom implementation(s)"
   ],
   "id": "c7496288f6ddf25f"
  },
  {
   "metadata": {
    "ExecuteTime": {
     "end_time": "2025-03-05T12:06:09.188279Z",
     "start_time": "2025-03-05T12:06:09.185883Z"
    }
   },
   "cell_type": "code",
   "source": [
    "@register_pytree_node_class\n",
    "class NewSEMagmaKernel(AbstractKernel):\n",
    "\tdef __init__(self, length_scale=None, variance=None):\n",
    "\t\tif length_scale is None:\n",
    "\t\t\tlength_scale = jnp.array([1.])\n",
    "\t\tif variance is None:\n",
    "\t\t\tvariance = jnp.array([1.])\n",
    "\t\tsuper().__init__(length_scale=length_scale, variance=variance)\n",
    "\n",
    "\t@jit\n",
    "\tdef compute_scalar(self, x1: jnp.ndarray, x2: jnp.ndarray, length_scale=None, variance=None) -> jnp.ndarray:\n",
    "\t\treturn jnp.exp(variance - jnp.exp(-length_scale) * jnp.sum((x1 - x2) ** 2) * 0.5)"
   ],
   "id": "dab793fb0db26fe8",
   "outputs": [],
   "execution_count": 7
  },
  {
   "metadata": {},
   "cell_type": "markdown",
   "source": [
    "### Defaults of the previous implementation that we wish to correct/improve:\n",
    "\n",
    "**The `compute_*` methods are not jittable.**\n",
    "\n",
    "-> Jitting them requires the class to extend PyTrees, to use class attributes in their logic (see https://docs.jax.dev/en/latest/faq.html#how-to-use-jit-with-methods and https://docs.jax.dev/en/latest/pytrees.html#extending-pytrees)\n",
    "\n",
    "-> It also requires having the hyperparameters as attributes instead of a param dictionary. However, we still want the abstract \"Kernel\" class to work for any set of provided hyperparameters kwargs.\n",
    "\n",
    "-> Finally, it requires to rework the optionnal param handling, as the current conditionnal logic implementation is not jittable. Doing so might require to have custom implementations for the `common_hp` and `distinct_hp` setups, expressed as a boolean parameter. In `common_hp`, the hyperparameter is a scalar, common to every task. In `distinct_hp`, it is an array, with values for every task. For example, this function is jittable and handles this difference in dimensionality:\n",
    "\n",
    "```python\n",
    "def my_fun(x: jnp.array, y: jnp.array) -> jnp.array:\n",
    "\treturn x * y\n",
    "\n",
    "@partial(jit, static_argnums=2)\n",
    "def my_fun_2(x: jnp.array, y: jnp.array, batched: bool) -> jnp.array:\n",
    "\t# batched = wether y has a batch dimension or not\n",
    "\tif batched:\n",
    "\t\treturn vmap(my_fun)(x, y)[:,None]\n",
    "\telse:\n",
    "\t\treturn vmap(my_fun, in_axes=(0, None))(x, y)\n",
    "```\n",
    "\n",
    "**Hyperparameters are either all common to the batch or all distinct.**\n",
    "\n",
    "-> We want to allow for a mix of both, where some hyperparameters are common to the whole batch and some are distinct. This is useful for example when the lengthscale is common to the whole batch but the variance is distinct for each element.\n",
    "\n",
    "### Compromises we are willing to make:\n",
    "\n",
    "**Error prevention/messages can be less informative.**\n",
    "\n",
    "-> JIT doesn't allow for exceptions and extensive if/else checking. We are willing to make a tradeoff for performances, even if some users might not understand in what way they are missusing the API."
   ],
   "id": "72e4f4846ec0f35a"
  },
  {
   "metadata": {},
   "cell_type": "markdown",
   "source": [
    "---\n",
    "## Comparison"
   ],
   "id": "88fdaed3f55aae3a"
  },
  {
   "metadata": {
    "ExecuteTime": {
     "end_time": "2025-03-05T12:06:09.277955Z",
     "start_time": "2025-03-05T12:06:09.192175Z"
    }
   },
   "cell_type": "code",
   "source": [
    "old_SE = OldSEMagmaKernel(length_scale=1.0, variance=1.0)\n",
    "new_SE = NewSEMagmaKernel(length_scale=jnp.array(1.), variance=jnp.array(1.))\n",
    "key = jax.random.PRNGKey(0)"
   ],
   "id": "ed8be2acd5fb7300",
   "outputs": [],
   "execution_count": 8
  },
  {
   "metadata": {},
   "cell_type": "markdown",
   "source": "### On scalars",
   "id": "72fc2c859b07141f"
  },
  {
   "metadata": {
    "ExecuteTime": {
     "end_time": "2025-03-05T12:06:09.421142Z",
     "start_time": "2025-03-05T12:06:09.286005Z"
    }
   },
   "cell_type": "code",
   "source": [
    "key, subkey = jax.random.split(key)\n",
    "a = jax.random.uniform(subkey, ())\n",
    "key, subkey = jax.random.split(key)\n",
    "b = jax.random.uniform(subkey, ())\n",
    "a, b"
   ],
   "id": "91accf6c200faefe",
   "outputs": [
    {
     "data": {
      "text/plain": [
       "(Array(0.00729382, dtype=float32), Array(0.10429037, dtype=float32))"
      ]
     },
     "execution_count": 9,
     "metadata": {},
     "output_type": "execute_result"
    }
   ],
   "execution_count": 9
  },
  {
   "metadata": {
    "ExecuteTime": {
     "end_time": "2025-03-05T12:06:09.564356Z",
     "start_time": "2025-03-05T12:06:09.427575Z"
    }
   },
   "cell_type": "code",
   "source": [
    "res1 = old_SE(a, b)\n",
    "np.asarray(res1)"
   ],
   "id": "c0767a5357092886",
   "outputs": [
    {
     "data": {
      "text/plain": [
       "array(2.7135818, dtype=float32)"
      ]
     },
     "execution_count": 10,
     "metadata": {},
     "output_type": "execute_result"
    }
   ],
   "execution_count": 10
  },
  {
   "metadata": {
    "ExecuteTime": {
     "end_time": "2025-03-05T12:06:09.597866Z",
     "start_time": "2025-03-05T12:06:09.570746Z"
    }
   },
   "cell_type": "code",
   "source": [
    "res2 = new_SE(a, b)\n",
    "np.asarray(res2)"
   ],
   "id": "f317cd74793268c1",
   "outputs": [
    {
     "data": {
      "text/plain": [
       "array(2.7135818, dtype=float32)"
      ]
     },
     "execution_count": 11,
     "metadata": {},
     "output_type": "execute_result"
    }
   ],
   "execution_count": 11
  },
  {
   "metadata": {
    "ExecuteTime": {
     "end_time": "2025-03-05T12:06:09.635250Z",
     "start_time": "2025-03-05T12:06:09.608307Z"
    }
   },
   "cell_type": "code",
   "source": "jnp.allclose(res1, res2)",
   "id": "1e31a8a1331139a8",
   "outputs": [
    {
     "data": {
      "text/plain": [
       "Array(True, dtype=bool)"
      ]
     },
     "execution_count": 12,
     "metadata": {},
     "output_type": "execute_result"
    }
   ],
   "execution_count": 12
  },
  {
   "metadata": {
    "ExecuteTime": {
     "end_time": "2025-03-05T12:06:14.877827Z",
     "start_time": "2025-03-05T12:06:09.646612Z"
    }
   },
   "cell_type": "code",
   "source": "%timeit old_SE(a, b).block_until_ready()",
   "id": "fd427f5b212e7996",
   "outputs": [
    {
     "name": "stdout",
     "output_type": "stream",
     "text": [
      "64.2 μs ± 105 ns per loop (mean ± std. dev. of 7 runs, 10,000 loops each)\n"
     ]
    }
   ],
   "execution_count": 13
  },
  {
   "metadata": {
    "ExecuteTime": {
     "end_time": "2025-03-05T12:06:19.274034Z",
     "start_time": "2025-03-05T12:06:14.883550Z"
    }
   },
   "cell_type": "code",
   "source": "%timeit new_SE(a, b).block_until_ready()",
   "id": "d3668e725dad284a",
   "outputs": [
    {
     "name": "stdout",
     "output_type": "stream",
     "text": [
      "5.4 μs ± 20.3 ns per loop (mean ± std. dev. of 7 runs, 100,000 loops each)\n"
     ]
    }
   ],
   "execution_count": 14
  },
  {
   "metadata": {},
   "cell_type": "markdown",
   "source": "### On an array and a scalar",
   "id": "230835a6635088b7"
  },
  {
   "metadata": {
    "ExecuteTime": {
     "end_time": "2025-03-05T12:06:19.353238Z",
     "start_time": "2025-03-05T12:06:19.279869Z"
    }
   },
   "cell_type": "code",
   "source": [
    "key, subkey = jax.random.split(key)\n",
    "a = jax.random.uniform(subkey, (10000,))\n",
    "key, subkey = jax.random.split(key)\n",
    "b = jax.random.uniform(subkey, ())\n",
    "a, b"
   ],
   "id": "6a4c7a5ef8dbcd53",
   "outputs": [
    {
     "data": {
      "text/plain": [
       "(Array([0.08260381, 0.7807871 , 0.93827987, ..., 0.99492884, 0.05307555,\n",
       "        0.8959063 ], dtype=float32),\n",
       " Array(0.01066005, dtype=float32))"
      ]
     },
     "execution_count": 15,
     "metadata": {},
     "output_type": "execute_result"
    }
   ],
   "execution_count": 15
  },
  {
   "metadata": {
    "ExecuteTime": {
     "end_time": "2025-03-05T12:06:19.515755Z",
     "start_time": "2025-03-05T12:06:19.358920Z"
    }
   },
   "cell_type": "code",
   "source": [
    "res1 = old_SE(a, b)\n",
    "np.asarray(res1)"
   ],
   "id": "229f81e6f95befa4",
   "outputs": [
    {
     "data": {
      "text/plain": [
       "array([2.7156951, 2.4373372, 2.3203633, ..., 2.2745948, 2.7173824,\n",
       "       2.3533823], dtype=float32)"
      ]
     },
     "execution_count": 16,
     "metadata": {},
     "output_type": "execute_result"
    }
   ],
   "execution_count": 16
  },
  {
   "metadata": {
    "ExecuteTime": {
     "end_time": "2025-03-05T12:06:19.548164Z",
     "start_time": "2025-03-05T12:06:19.521691Z"
    }
   },
   "cell_type": "code",
   "source": [
    "res2 = new_SE(a, b)\n",
    "np.asarray(res2)"
   ],
   "id": "80ad90bc8eeb5eb5",
   "outputs": [
    {
     "data": {
      "text/plain": [
       "array([2.7156951, 2.4373372, 2.3203633, ..., 2.2745948, 2.7173824,\n",
       "       2.3533823], dtype=float32)"
      ]
     },
     "execution_count": 17,
     "metadata": {},
     "output_type": "execute_result"
    }
   ],
   "execution_count": 17
  },
  {
   "metadata": {
    "ExecuteTime": {
     "end_time": "2025-03-05T12:06:19.586240Z",
     "start_time": "2025-03-05T12:06:19.553786Z"
    }
   },
   "cell_type": "code",
   "source": "jnp.allclose(res1, res2)",
   "id": "767c7986aea10111",
   "outputs": [
    {
     "data": {
      "text/plain": [
       "Array(True, dtype=bool)"
      ]
     },
     "execution_count": 18,
     "metadata": {},
     "output_type": "execute_result"
    }
   ],
   "execution_count": 18
  },
  {
   "metadata": {
    "ExecuteTime": {
     "end_time": "2025-03-05T12:06:25.652479Z",
     "start_time": "2025-03-05T12:06:19.591912Z"
    }
   },
   "cell_type": "code",
   "source": "%timeit old_SE(a, b).block_until_ready()",
   "id": "3fcdd9490530e57b",
   "outputs": [
    {
     "name": "stdout",
     "output_type": "stream",
     "text": [
      "773 μs ± 130 μs per loop (mean ± std. dev. of 7 runs, 1,000 loops each)\n"
     ]
    }
   ],
   "execution_count": 19
  },
  {
   "metadata": {
    "ExecuteTime": {
     "end_time": "2025-03-05T12:06:27.352635Z",
     "start_time": "2025-03-05T12:06:25.658400Z"
    }
   },
   "cell_type": "code",
   "source": "%timeit new_SE(a, b).block_until_ready()",
   "id": "8ca44189d29f6e7b",
   "outputs": [
    {
     "name": "stdout",
     "output_type": "stream",
     "text": [
      "20.8 μs ± 348 ns per loop (mean ± std. dev. of 7 runs, 10,000 loops each)\n"
     ]
    }
   ],
   "execution_count": 20
  },
  {
   "metadata": {},
   "cell_type": "markdown",
   "source": "### On two arrays",
   "id": "90cc3cd43d1f60f1"
  },
  {
   "metadata": {
    "ExecuteTime": {
     "end_time": "2025-03-05T12:06:27.425941Z",
     "start_time": "2025-03-05T12:06:27.358479Z"
    }
   },
   "cell_type": "code",
   "source": [
    "key, subkey = jax.random.split(key)\n",
    "a = jax.random.uniform(subkey, (10000,))\n",
    "key, subkey = jax.random.split(key)\n",
    "b = jax.random.uniform(subkey, (15000,))\n",
    "a.shape, b.shape"
   ],
   "id": "2e187ec00e66d966",
   "outputs": [
    {
     "data": {
      "text/plain": [
       "((10000,), (15000,))"
      ]
     },
     "execution_count": 21,
     "metadata": {},
     "output_type": "execute_result"
    }
   ],
   "execution_count": 21
  },
  {
   "metadata": {
    "ExecuteTime": {
     "end_time": "2025-03-05T12:06:27.941403Z",
     "start_time": "2025-03-05T12:06:27.431814Z"
    }
   },
   "cell_type": "code",
   "source": [
    "res1 = old_SE(a, b)\n",
    "np.asarray(res1).shape"
   ],
   "id": "4ee7910c44ec8322",
   "outputs": [
    {
     "data": {
      "text/plain": [
       "(10000, 15000)"
      ]
     },
     "execution_count": 22,
     "metadata": {},
     "output_type": "execute_result"
    }
   ],
   "execution_count": 22
  },
  {
   "metadata": {
    "ExecuteTime": {
     "end_time": "2025-03-05T12:06:28.023053Z",
     "start_time": "2025-03-05T12:06:27.957609Z"
    }
   },
   "cell_type": "code",
   "source": [
    "res2 = new_SE(a, b)\n",
    "np.asarray(res2).shape"
   ],
   "id": "1e5cc829e8dd35e5",
   "outputs": [
    {
     "data": {
      "text/plain": [
       "(10000, 15000)"
      ]
     },
     "execution_count": 23,
     "metadata": {},
     "output_type": "execute_result"
    }
   ],
   "execution_count": 23
  },
  {
   "metadata": {
    "ExecuteTime": {
     "end_time": "2025-03-05T12:06:28.123025Z",
     "start_time": "2025-03-05T12:06:28.034372Z"
    }
   },
   "cell_type": "code",
   "source": "jnp.allclose(res1, res2)",
   "id": "20e9d689dc4ac3ff",
   "outputs": [
    {
     "data": {
      "text/plain": [
       "Array(True, dtype=bool)"
      ]
     },
     "execution_count": 24,
     "metadata": {},
     "output_type": "execute_result"
    }
   ],
   "execution_count": 24
  },
  {
   "metadata": {
    "ExecuteTime": {
     "end_time": "2025-03-05T12:06:30.988700Z",
     "start_time": "2025-03-05T12:06:28.130889Z"
    }
   },
   "cell_type": "code",
   "source": "%timeit old_SE(a, b).block_until_ready()",
   "id": "90c64e2b77d19297",
   "outputs": [
    {
     "name": "stdout",
     "output_type": "stream",
     "text": [
      "294 ms ± 15.7 ms per loop (mean ± std. dev. of 7 runs, 1 loop each)\n"
     ]
    }
   ],
   "execution_count": 25
  },
  {
   "metadata": {
    "ExecuteTime": {
     "end_time": "2025-03-05T12:06:33.796695Z",
     "start_time": "2025-03-05T12:06:31.020043Z"
    }
   },
   "cell_type": "code",
   "source": "%timeit new_SE(a, b).block_until_ready()",
   "id": "461450e09cca635d",
   "outputs": [
    {
     "name": "stdout",
     "output_type": "stream",
     "text": [
      "34 ms ± 283 μs per loop (mean ± std. dev. of 7 runs, 10 loops each)\n"
     ]
    }
   ],
   "execution_count": 26
  },
  {
   "metadata": {},
   "cell_type": "markdown",
   "source": "### On two batches of arrays with common HP",
   "id": "63164fba40982ea8"
  },
  {
   "metadata": {
    "ExecuteTime": {
     "end_time": "2025-03-05T12:06:33.931625Z",
     "start_time": "2025-03-05T12:06:33.801489Z"
    }
   },
   "cell_type": "code",
   "source": [
    "key, subkey = jax.random.split(key)\n",
    "a = jax.random.uniform(subkey, (50, 100))\n",
    "key, subkey = jax.random.split(key)\n",
    "b = jax.random.uniform(subkey, (50, 150))\n",
    "a.shape, b.shape"
   ],
   "id": "e413ce7333f699",
   "outputs": [
    {
     "data": {
      "text/plain": [
       "((50, 100), (50, 150))"
      ]
     },
     "execution_count": 27,
     "metadata": {},
     "output_type": "execute_result"
    }
   ],
   "execution_count": 27
  },
  {
   "metadata": {
    "ExecuteTime": {
     "end_time": "2025-03-05T12:06:34.191600Z",
     "start_time": "2025-03-05T12:06:33.936916Z"
    }
   },
   "cell_type": "code",
   "source": [
    "# Using common hyperparameters for all batches\n",
    "res1 = old_SE(a, b)\n",
    "np.asarray(res1).shape"
   ],
   "id": "fc8548ed32551e44",
   "outputs": [
    {
     "data": {
      "text/plain": [
       "(50, 100, 150)"
      ]
     },
     "execution_count": 28,
     "metadata": {},
     "output_type": "execute_result"
    }
   ],
   "execution_count": 28
  },
  {
   "metadata": {
    "ExecuteTime": {
     "end_time": "2025-03-05T12:06:34.258249Z",
     "start_time": "2025-03-05T12:06:34.197196Z"
    }
   },
   "cell_type": "code",
   "source": [
    "# Also using common hyperparameters for all batches\n",
    "res2 = new_SE(a, b)\n",
    "np.asarray(res2).shape"
   ],
   "id": "3f52ca9e8e57785f",
   "outputs": [
    {
     "data": {
      "text/plain": [
       "(50, 100, 150)"
      ]
     },
     "execution_count": 29,
     "metadata": {},
     "output_type": "execute_result"
    }
   ],
   "execution_count": 29
  },
  {
   "metadata": {
    "ExecuteTime": {
     "end_time": "2025-03-05T12:06:34.298196Z",
     "start_time": "2025-03-05T12:06:34.264308Z"
    }
   },
   "cell_type": "code",
   "source": "jnp.allclose(res1, res2)",
   "id": "5f4e08c68d1875c2",
   "outputs": [
    {
     "data": {
      "text/plain": [
       "Array(True, dtype=bool)"
      ]
     },
     "execution_count": 30,
     "metadata": {},
     "output_type": "execute_result"
    }
   ],
   "execution_count": 30
  },
  {
   "metadata": {
    "ExecuteTime": {
     "end_time": "2025-03-05T12:06:50.174521Z",
     "start_time": "2025-03-05T12:06:34.303797Z"
    }
   },
   "cell_type": "code",
   "source": "%timeit old_SE(a, b).block_until_ready()",
   "id": "157687039596bf3e",
   "outputs": [
    {
     "name": "stdout",
     "output_type": "stream",
     "text": [
      "1.97 ms ± 83 μs per loop (mean ± std. dev. of 7 runs, 1,000 loops each)\n"
     ]
    }
   ],
   "execution_count": 31
  },
  {
   "metadata": {
    "ExecuteTime": {
     "end_time": "2025-03-05T12:06:52.801018Z",
     "start_time": "2025-03-05T12:06:50.185861Z"
    }
   },
   "cell_type": "code",
   "source": "%timeit new_SE(a, b).block_until_ready()",
   "id": "de5edd7f24165ee",
   "outputs": [
    {
     "name": "stdout",
     "output_type": "stream",
     "text": [
      "324 μs ± 14.9 μs per loop (mean ± std. dev. of 7 runs, 1,000 loops each)\n"
     ]
    }
   ],
   "execution_count": 32
  },
  {
   "metadata": {},
   "cell_type": "markdown",
   "source": "### On two batches of arrays with distinct HP",
   "id": "2852fadacb2da833"
  },
  {
   "metadata": {
    "ExecuteTime": {
     "end_time": "2025-03-05T12:06:52.887512Z",
     "start_time": "2025-03-05T12:06:52.804823Z"
    }
   },
   "cell_type": "code",
   "source": [
    "key, subkey = jax.random.split(key)\n",
    "a = jax.random.uniform(subkey, (50, 100))  # 5 batches of 10-dimensional data\n",
    "key, subkey = jax.random.split(key)\n",
    "b = jax.random.uniform(subkey, (50, 150))  # 5 batches of 15-dimensional data\n",
    "\n",
    "# Create distinct hyperparameters for each batch\n",
    "key, subkey = jax.random.split(key)\n",
    "distinct_length_scales = jax.random.uniform(subkey, (50,)) + 0.5  # Ensuring positive values\n",
    "key, subkey = jax.random.split(key)\n",
    "distinct_variances = jax.random.uniform(subkey, (50,)) + 0.5  # Ensuring positive values\n",
    "\n",
    "distinct_length_scales, distinct_variances"
   ],
   "id": "54078da46f988088",
   "outputs": [
    {
     "data": {
      "text/plain": [
       "(Array([0.69834626, 1.1941253 , 0.74907124, 1.4650234 , 0.6623002 ,\n",
       "        0.5150695 , 1.3077172 , 0.8598883 , 1.3379186 , 0.5345807 ,\n",
       "        0.9925809 , 1.0119901 , 0.6867107 , 1.3121855 , 1.4377677 ,\n",
       "        1.397761  , 0.66495323, 1.1306376 , 0.95631206, 0.6137631 ,\n",
       "        0.86514413, 1.2786899 , 1.0824803 , 0.89162004, 1.080331  ,\n",
       "        0.70636487, 0.88181865, 1.2177788 , 0.9001007 , 0.88983023,\n",
       "        1.0880367 , 1.0784531 , 1.1646242 , 1.3984015 , 1.2634037 ,\n",
       "        0.5314708 , 0.53026426, 1.309241  , 0.7298783 , 1.2418199 ,\n",
       "        0.9763527 , 0.52760875, 1.0559071 , 1.2554548 , 1.3978969 ,\n",
       "        1.2237661 , 0.7706127 , 1.2761428 , 1.1990191 , 0.59786415],      dtype=float32),\n",
       " Array([0.9009923 , 0.7235527 , 0.8779906 , 1.007704  , 0.8343816 ,\n",
       "        0.961216  , 0.652822  , 0.7110219 , 0.84446895, 1.1748973 ,\n",
       "        0.5548018 , 1.3568562 , 1.4311233 , 0.9435116 , 0.68918073,\n",
       "        0.751114  , 1.4021089 , 1.2387986 , 0.9405923 , 1.2024236 ,\n",
       "        0.8921603 , 0.53052104, 1.1043124 , 0.79154575, 0.6328254 ,\n",
       "        0.80565107, 1.1634843 , 1.2503736 , 0.80904007, 1.1978528 ,\n",
       "        0.66388285, 1.043859  , 1.405077  , 0.5263654 , 0.64131975,\n",
       "        0.71661615, 1.0786928 , 0.9667696 , 0.56010103, 1.0978794 ,\n",
       "        0.604226  , 1.2035547 , 1.3834955 , 1.4834589 , 0.7382213 ,\n",
       "        0.8997779 , 1.2125913 , 1.2263665 , 1.0432855 , 1.4203497 ],      dtype=float32))"
      ]
     },
     "execution_count": 33,
     "metadata": {},
     "output_type": "execute_result"
    }
   ],
   "execution_count": 33
  },
  {
   "metadata": {
    "ExecuteTime": {
     "end_time": "2025-03-05T12:06:52.996285Z",
     "start_time": "2025-03-05T12:06:52.895357Z"
    }
   },
   "cell_type": "code",
   "source": "res1 = old_SE(a, b, length_scale=distinct_length_scales, variance=distinct_variances)",
   "id": "7b257cdaabb8d9f8",
   "outputs": [],
   "execution_count": 34
  },
  {
   "metadata": {
    "ExecuteTime": {
     "end_time": "2025-03-05T12:06:53.037353Z",
     "start_time": "2025-03-05T12:06:53.002534Z"
    }
   },
   "cell_type": "code",
   "source": "res2 = new_SE(a, b, length_scale=distinct_length_scales, variance=distinct_variances)",
   "id": "4a7803a753fb4840",
   "outputs": [],
   "execution_count": 35
  },
  {
   "metadata": {
    "ExecuteTime": {
     "end_time": "2025-03-05T12:06:53.046326Z",
     "start_time": "2025-03-05T12:06:53.043574Z"
    }
   },
   "cell_type": "code",
   "source": "jnp.allclose(res1, res2)",
   "id": "39aa37e12c9cba59",
   "outputs": [
    {
     "data": {
      "text/plain": [
       "Array(True, dtype=bool)"
      ]
     },
     "execution_count": 36,
     "metadata": {},
     "output_type": "execute_result"
    }
   ],
   "execution_count": 36
  },
  {
   "metadata": {
    "ExecuteTime": {
     "end_time": "2025-03-05T12:07:42.321688Z",
     "start_time": "2025-03-05T12:07:27.682663Z"
    }
   },
   "cell_type": "code",
   "source": "%timeit old_SE(a, b, length_scale=distinct_length_scales, variance=distinct_variances).block_until_ready()",
   "id": "c7484691a8884b94",
   "outputs": [
    {
     "name": "stdout",
     "output_type": "stream",
     "text": [
      "1.79 ms ± 24.9 μs per loop (mean ± std. dev. of 7 runs, 1,000 loops each)\n"
     ]
    }
   ],
   "execution_count": 38
  },
  {
   "metadata": {
    "ExecuteTime": {
     "end_time": "2025-03-05T12:07:44.916699Z",
     "start_time": "2025-03-05T12:07:42.391363Z"
    }
   },
   "cell_type": "code",
   "source": "%timeit new_SE(a, b, length_scale=distinct_length_scales, variance=distinct_variances).block_until_ready()",
   "id": "83eea3bcc71501a8",
   "outputs": [
    {
     "name": "stdout",
     "output_type": "stream",
     "text": [
      "311 μs ± 1.27 μs per loop (mean ± std. dev. of 7 runs, 1,000 loops each)\n"
     ]
    }
   ],
   "execution_count": 39
  },
  {
   "metadata": {},
   "cell_type": "markdown",
   "source": [
    "---\n",
    "## Conclusion"
   ],
   "id": "40eac9ed87ce043e"
  },
  {
   "metadata": {
    "ExecuteTime": {
     "end_time": "2025-03-05T12:06:53.360590Z",
     "start_time": "2025-03-05T12:00:34.849886Z"
    }
   },
   "cell_type": "code",
   "source": "",
   "id": "e00d28413733ef9a",
   "outputs": [],
   "execution_count": null
  },
  {
   "metadata": {},
   "cell_type": "markdown",
   "source": "---",
   "id": "f18216d93ddcf3af"
  },
  {
   "cell_type": "markdown",
   "source": [
    "## Conclusion\n",
    "\n",
    "This benchmark highlights the fact that the new, jittable implementation is up to 20x faster on CPU, with little to no compromise on the API side.\n",
    "\n",
    "The new implementation is also more flexible, as it allows for a mix of common and distinct hyperparameters for each batch, which can be useful in many cases.\n",
    "\n",
    "Next steps to improve this implementation would be to check if the `vmap` calls are optimal (maybe lambda functions would work better with kwargs), and to test the implementation on GPU to see if the speedup is even more significant."
   ],
   "metadata": {},
   "id": "1f610b64e6ed7847"
  }
 ],
 "metadata": {
  "kernelspec": {
   "display_name": "Python 3",
   "language": "python",
   "name": "python3"
  },
  "language_info": {
   "codemirror_mode": {
    "name": "ipython",
    "version": 2
   },
   "file_extension": ".py",
   "mimetype": "text/x-python",
   "name": "python",
   "nbconvert_exporter": "python",
   "pygments_lexer": "ipython2",
   "version": "2.7.6"
  }
 },
 "nbformat": 4,
 "nbformat_minor": 5
}
