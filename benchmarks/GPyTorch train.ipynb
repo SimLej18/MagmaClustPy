{
 "cells": [
  {
   "metadata": {},
   "cell_type": "markdown",
   "source": [
    "# GPytorch training benchmark\n",
    "\n",
    "Used to know how long it takes to train a GPytorch model on every ID of a benchmark dataset."
   ],
   "id": "5112b791fd9a2c85"
  },
  {
   "metadata": {},
   "cell_type": "markdown",
   "source": [
    "---\n",
    "\n",
    "## Setup"
   ],
   "id": "fc7ea039da26c74d"
  },
  {
   "metadata": {
    "ExecuteTime": {
     "end_time": "2025-06-21T15:32:15.061626Z",
     "start_time": "2025-06-21T15:32:14.581076Z"
    }
   },
   "cell_type": "code",
   "source": [
    "import time\n",
    "\n",
    "import pandas as pd\n",
    "\n"
   ],
   "id": "31947791ca6336d0",
   "outputs": [],
   "execution_count": 1
  },
  {
   "metadata": {
    "ExecuteTime": {
     "end_time": "2025-06-21T15:32:15.171525Z",
     "start_time": "2025-06-21T15:32:15.169463Z"
    }
   },
   "cell_type": "code",
   "source": [
    "dataset = \"large\"\n",
    "shared_input = False\n",
    "shared_hp = True"
   ],
   "id": "41207fe515d479e",
   "outputs": [],
   "execution_count": 2
  },
  {
   "metadata": {},
   "cell_type": "markdown",
   "source": [
    "---\n",
    "\n",
    "## Start timer"
   ],
   "id": "1fb7b58f128dc6dc"
  },
  {
   "metadata": {
    "ExecuteTime": {
     "end_time": "2025-06-21T15:32:15.185488Z",
     "start_time": "2025-06-21T15:32:15.183693Z"
    }
   },
   "cell_type": "code",
   "source": "start = time.time()",
   "id": "1ad2737c674b5678",
   "outputs": [],
   "execution_count": 3
  },
  {
   "metadata": {},
   "cell_type": "markdown",
   "source": [
    "---\n",
    "\n",
    "## Data import"
   ],
   "id": "78cbf8a17cbebd92"
  },
  {
   "metadata": {
    "ExecuteTime": {
     "end_time": "2025-06-21T15:32:15.267173Z",
     "start_time": "2025-06-21T15:32:15.195456Z"
    }
   },
   "cell_type": "code",
   "source": [
    "db = pd.read_csv(f\"../dummy_datasets/{dataset}_{'shared_input' if shared_input else 'distinct_input'}_{'shared_hp' if shared_hp else 'distinct_hp'}.csv\")\n",
    "# db has 3 columns: ID, Input, Output"
   ],
   "id": "f2a8491701944042",
   "outputs": [],
   "execution_count": 4
  },
  {
   "metadata": {
    "ExecuteTime": {
     "end_time": "2025-06-21T15:32:15.291103Z",
     "start_time": "2025-06-21T15:32:15.275695Z"
    }
   },
   "cell_type": "code",
   "source": [
    "# First 90% of IDs are for training, last 10% for testing\n",
    "train_ids = db[\"ID\"].unique()[:int(0.9 * db[\"ID\"].nunique())]\n",
    "test_ids = db[\"ID\"].unique()[int(0.9 * db[\"ID\"].nunique()):]\n",
    "\n",
    "db_train = db[db[\"ID\"].isin(train_ids)]\n",
    "db_test = db[db[\"ID\"].isin(test_ids)]\n",
    "\n",
    "# N.b: data is already sort by ID and Input in the toy datasets, but in a real case scenario, we would need to sort it"
   ],
   "id": "98d1cbde8b5dd89c",
   "outputs": [],
   "execution_count": 5
  },
  {
   "metadata": {
    "ExecuteTime": {
     "end_time": "2025-06-21T15:32:15.304022Z",
     "start_time": "2025-06-21T15:32:15.300026Z"
    }
   },
   "cell_type": "code",
   "source": "len(train_ids), len(test_ids)",
   "id": "6506a919dbb0c4b4",
   "outputs": [
    {
     "data": {
      "text/plain": [
       "(540, 60)"
      ]
     },
     "execution_count": 6,
     "metadata": {},
     "output_type": "execute_result"
    }
   ],
   "execution_count": 6
  },
  {
   "metadata": {},
   "cell_type": "markdown",
   "source": [
    "---\n",
    "\n",
    "## Training\n",
    "\n",
    "We train a GPytorch model on every ID of the training set."
   ],
   "id": "365e93842f1ec39b"
  },
  {
   "cell_type": "code",
   "id": "initial_id",
   "metadata": {
    "collapsed": true,
    "ExecuteTime": {
     "end_time": "2025-06-21T15:32:16.227685Z",
     "start_time": "2025-06-21T15:32:15.326969Z"
    }
   },
   "source": "import torch\nimport gpytorch\nfrom gpytorch.means import ConstantMean\nfrom gpytorch.kernels import ScaleKernel, RBFKernel\nfrom gpytorch.distributions import MultivariateNormal",
   "outputs": [],
   "execution_count": 7
  },
  {
   "metadata": {
    "ExecuteTime": {
     "end_time": "2025-06-21T15:32:16.286336Z",
     "start_time": "2025-06-21T15:32:16.237362Z"
    }
   },
   "cell_type": "code",
   "source": [
    "class ExactGPModel(gpytorch.models.ExactGP):\n",
    "\tdef __init__(self, train_x, train_y, likelihood):\n",
    "\t\tsuper(ExactGPModel, self).__init__(train_x, train_y, likelihood)\n",
    "\t\tself.mean_module = ConstantMean()\n",
    "\t\tself.covar_module = ScaleKernel(RBFKernel())\n",
    "\n",
    "\tdef forward(self, x):\n",
    "\t\tmean_x = self.mean_module(x)\n",
    "\t\tcovar_x = self.covar_module(x)\n",
    "\t\treturn MultivariateNormal(mean_x, covar_x)\n",
    "\n",
    "\n",
    "def train_gp_for_id(id_data, tolerance=0.5, patience=5, max_iter=1000):\n",
    "\t\"\"\"\n",
    "\tTrain a GP for a single ID's data with early stopping\n",
    "\t\n",
    "\tParameters:\n",
    "\t- tolerance: minimum relative improvement in loss to continue training\n",
    "\t- patience: number of iterations to wait for improvement before stopping\n",
    "\t- max_iter: maximum number of iterations regardless of convergence\n",
    "\t\"\"\"\n",
    "\t# Convert to tensors\n",
    "\ttrain_x = torch.tensor(id_data['Input'].values, dtype=torch.float32).unsqueeze(-1)\n",
    "\ttrain_y = torch.tensor(id_data['Output'].values, dtype=torch.float32)\n",
    "\t\n",
    "\t# Initialize likelihood and model\n",
    "\tlikelihood = gpytorch.likelihoods.GaussianLikelihood()\n",
    "\tmodel = ExactGPModel(train_x, train_y, likelihood)\n",
    "\t\n",
    "\t# Set to training mode\n",
    "\tmodel.train()\n",
    "\tlikelihood.train()\n",
    "\t\n",
    "\t# Use Adam optimizer\n",
    "\toptimizer = torch.optim.Adam(model.parameters(), lr=0.25)\n",
    "\t\n",
    "\t# Loss function - the marginal log likelihood\n",
    "\tmll = gpytorch.mlls.ExactMarginalLogLikelihood(likelihood, model)\n",
    "\t\n",
    "\t# Early stopping variables\n",
    "\tbest_loss = float('inf')\n",
    "\tpatience_counter = 0\n",
    "\titeration = 0\n",
    "\t\n",
    "\twhile iteration < max_iter:\n",
    "\t\toptimizer.zero_grad()\n",
    "\t\toutput = model(train_x)\n",
    "\t\tloss = -mll(output, train_y)\n",
    "\t\tloss.backward()\n",
    "\t\toptimizer.step()\n",
    "\t\t\n",
    "\t\tcurrent_loss = loss.item()\n",
    "\t\t\n",
    "\t\t# Check for improvement\n",
    "\t\tif current_loss < best_loss - tolerance:\n",
    "\t\t\tbest_loss = current_loss\n",
    "\t\t\tpatience_counter = 0\n",
    "\t\telse:\n",
    "\t\t\tpatience_counter += 1\n",
    "\t\t\n",
    "\t\t# Early stopping condition\n",
    "\t\tif patience_counter >= patience:\n",
    "\t\t\tbreak\n",
    "\t\t\t\n",
    "\t\titeration += 1\n",
    "\t\n",
    "\treturn model, likelihood, iteration + 1"
   ],
   "id": "ff74fd9068b6068b",
   "outputs": [],
   "execution_count": 8
  },
  {
   "cell_type": "code",
   "id": "7ougqhy2s0n",
   "source": "# Train a GP for each ID in the training set\nmodels = {}\ntraining_times = []\niterations_used = []\n\nprint(f\"Training GPs for {len(train_ids)} IDs with early stopping...\")\nprint(f\"Early stopping: tolerance=1e-4, patience=10, max_iter=500\")\n\nfor i, train_id in enumerate(train_ids):\n\tid_start_time = time.time()\n\t\n\t# Get data for this ID\n\tid_data = db_train[db_train[\"ID\"] == train_id]\n\t\n\t# Train GP for this ID\n\tmodel, likelihood, num_iterations = train_gp_for_id(id_data)\n\tmodels[train_id] = (model, likelihood)\n\t\n\tid_time = time.time() - id_start_time\n\ttraining_times.append(id_time)\n\titerations_used.append(num_iterations)\n\t\n\t# Print progress every 20 IDs or for the last ID\n\tif (i + 1) % 20 == 0 or i == len(train_ids) - 1:\n\t\tavg_time = sum(training_times) / len(training_times)\n\t\tavg_iterations = sum(iterations_used) / len(iterations_used)\n\t\tprint(f\"Completed {i + 1}/{len(train_ids)} IDs. Avg time: {avg_time:.3f}s, Avg iterations: {avg_iterations:.1f}\")\n\ntotal_training_time = sum(training_times)\navg_iterations = sum(iterations_used) / len(iterations_used)\nmin_iterations = min(iterations_used)\nmax_iterations = max(iterations_used)\n\nprint(f\"\\nTotal training time: {total_training_time:.2f}s\")\nprint(f\"Average time per GP: {total_training_time/len(train_ids):.3f}s\")\nprint(f\"Iterations - Avg: {avg_iterations:.1f}, Min: {min_iterations}, Max: {max_iterations}\")",
   "metadata": {
    "ExecuteTime": {
     "end_time": "2025-06-21T16:27:18.453073Z",
     "start_time": "2025-06-21T15:32:16.310946Z"
    }
   },
   "outputs": [
    {
     "name": "stdout",
     "output_type": "stream",
     "text": [
      "Training GPs for 540 IDs with early stopping...\n",
      "Early stopping: tolerance=1e-4, patience=10, max_iter=500\n",
      "Completed 20/540 IDs. Avg time: 7.817s, Avg iterations: 1001.0\n",
      "Completed 40/540 IDs. Avg time: 7.908s, Avg iterations: 1001.0\n",
      "Completed 60/540 IDs. Avg time: 8.088s, Avg iterations: 1001.0\n",
      "Completed 80/540 IDs. Avg time: 8.144s, Avg iterations: 1001.0\n",
      "Completed 100/540 IDs. Avg time: 7.980s, Avg iterations: 1001.0\n",
      "Completed 120/540 IDs. Avg time: 7.560s, Avg iterations: 1001.0\n",
      "Completed 140/540 IDs. Avg time: 7.263s, Avg iterations: 1001.0\n",
      "Completed 160/540 IDs. Avg time: 7.040s, Avg iterations: 1001.0\n",
      "Completed 180/540 IDs. Avg time: 6.872s, Avg iterations: 1001.0\n",
      "Completed 200/540 IDs. Avg time: 6.733s, Avg iterations: 1001.0\n",
      "Completed 220/540 IDs. Avg time: 6.618s, Avg iterations: 1001.0\n",
      "Completed 240/540 IDs. Avg time: 6.532s, Avg iterations: 1001.0\n",
      "Completed 260/540 IDs. Avg time: 6.446s, Avg iterations: 1001.0\n",
      "Completed 280/540 IDs. Avg time: 6.365s, Avg iterations: 1001.0\n",
      "Completed 300/540 IDs. Avg time: 6.296s, Avg iterations: 1001.0\n",
      "Completed 320/540 IDs. Avg time: 6.234s, Avg iterations: 1001.0\n",
      "Completed 340/540 IDs. Avg time: 6.177s, Avg iterations: 1001.0\n",
      "Completed 360/540 IDs. Avg time: 6.125s, Avg iterations: 1001.0\n",
      "Completed 380/540 IDs. Avg time: 6.077s, Avg iterations: 1001.0\n",
      "Completed 400/540 IDs. Avg time: 6.035s, Avg iterations: 1001.0\n",
      "Completed 420/540 IDs. Avg time: 5.997s, Avg iterations: 1001.0\n",
      "Completed 440/540 IDs. Avg time: 5.982s, Avg iterations: 1001.0\n",
      "Completed 460/540 IDs. Avg time: 6.012s, Avg iterations: 1001.0\n",
      "Completed 480/540 IDs. Avg time: 6.039s, Avg iterations: 1001.0\n",
      "Completed 500/540 IDs. Avg time: 6.065s, Avg iterations: 1001.0\n",
      "Completed 520/540 IDs. Avg time: 6.090s, Avg iterations: 1001.0\n",
      "Completed 540/540 IDs. Avg time: 6.115s, Avg iterations: 1001.0\n",
      "\n",
      "Total training time: 3302.13s\n",
      "Average time per GP: 6.115s\n",
      "Iterations - Avg: 1001.0, Min: 1001, Max: 1001\n"
     ]
    }
   ],
   "execution_count": 9
  },
  {
   "cell_type": "code",
   "id": "zk2o279qwj",
   "source": "# Final timing results\nend = time.time()\ntotal_elapsed = end - start\n\nprint(f\"\\n\" + \"=\"*50)\nprint(f\"BENCHMARK RESULTS - Early Stopping\")\nprint(f\"=\"*50)\nprint(f\"Dataset: {dataset}\")\nprint(f\"Number of IDs trained: {len(train_ids)}\")\nprint(f\"Total elapsed time: {total_elapsed:.2f}s\")\nprint(f\"Training time: {total_training_time:.2f}s\")\nprint(f\"Setup/overhead time: {total_elapsed - total_training_time:.2f}s\")\nprint(f\"Average time per GP: {total_training_time/len(train_ids):.3f}s\")\nprint(f\"\\nConvergence Statistics:\")\nprint(f\"Average iterations: {avg_iterations:.1f}\")\nprint(f\"Min iterations: {min_iterations}\")\nprint(f\"Max iterations: {max_iterations}\")\nprint(f\"Early stopping parameters: tolerance=1e-4, patience=10\")\nprint(f\"=\"*50)",
   "metadata": {
    "ExecuteTime": {
     "end_time": "2025-06-21T16:27:18.480778Z",
     "start_time": "2025-06-21T16:27:18.476532Z"
    }
   },
   "outputs": [
    {
     "name": "stdout",
     "output_type": "stream",
     "text": [
      "\n",
      "==================================================\n",
      "BENCHMARK RESULTS - Early Stopping\n",
      "==================================================\n",
      "Dataset: large\n",
      "Number of IDs trained: 540\n",
      "Total elapsed time: 3303.29s\n",
      "Training time: 3302.13s\n",
      "Setup/overhead time: 1.17s\n",
      "Average time per GP: 6.115s\n",
      "\n",
      "Convergence Statistics:\n",
      "Average iterations: 1001.0\n",
      "Min iterations: 1001\n",
      "Max iterations: 1001\n",
      "Early stopping parameters: tolerance=1e-4, patience=10\n",
      "==================================================\n"
     ]
    }
   ],
   "execution_count": 10
  }
 ],
 "metadata": {
  "kernelspec": {
   "display_name": "Python 3",
   "language": "python",
   "name": "python3"
  },
  "language_info": {
   "codemirror_mode": {
    "name": "ipython",
    "version": 2
   },
   "file_extension": ".py",
   "mimetype": "text/x-python",
   "name": "python",
   "nbconvert_exporter": "python",
   "pygments_lexer": "ipython2",
   "version": "2.7.6"
  }
 },
 "nbformat": 4,
 "nbformat_minor": 5
}
