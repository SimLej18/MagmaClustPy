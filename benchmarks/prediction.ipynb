{
 "cells": [
  {
   "metadata": {},
   "cell_type": "markdown",
   "source": [
    "# Benchmarks - Prediction\n",
    "\n",
    "**Main considerations when implementing Magma's Prediction*\n",
    "\n",
    "* Opposite to MagmaClustR, we want to be able to perform multiple predictions in one go, in parallel.\n"
   ],
   "id": "f69390d194b35b0a"
  },
  {
   "metadata": {},
   "cell_type": "markdown",
   "source": [
    "---\n",
    "## Setup"
   ],
   "id": "4763c6a1086dfd7a"
  },
  {
   "metadata": {
    "ExecuteTime": {
     "end_time": "2025-03-12T15:35:43.488870Z",
     "start_time": "2025-03-12T15:35:42.750483Z"
    }
   },
   "cell_type": "code",
   "source": [
    "# Standard library\n",
    "import os\n",
    "\n",
    "from MagmaClustPy.hyperpost import hyperpost\n",
    "\n",
    "os.environ['JAX_ENABLE_X64'] = \"True\""
   ],
   "id": "eb0046b46dc27950",
   "outputs": [],
   "execution_count": 1
  },
  {
   "metadata": {
    "ExecuteTime": {
     "end_time": "2025-03-12T15:35:44.340040Z",
     "start_time": "2025-03-12T15:35:43.493212Z"
    }
   },
   "cell_type": "code",
   "source": [
    "# Third party\n",
    "import jax.numpy as jnp\n",
    "\n",
    "import numpy as np\n",
    "import pandas as pd\n",
    "from matplotlib import pyplot as plt"
   ],
   "id": "a1fe8b76912d6f2c",
   "outputs": [],
   "execution_count": 2
  },
  {
   "metadata": {
    "ExecuteTime": {
     "end_time": "2025-03-12T15:35:44.459186Z",
     "start_time": "2025-03-12T15:35:44.450672Z"
    }
   },
   "cell_type": "code",
   "source": [
    "# Local\n",
    "from MagmaClustPy.kernels import SEMagmaKernel\n",
    "from MagmaClustPy.utils import preprocess_db"
   ],
   "id": "4b255f340edfbe6f",
   "outputs": [],
   "execution_count": 3
  },
  {
   "metadata": {
    "ExecuteTime": {
     "end_time": "2025-03-12T15:35:44.466963Z",
     "start_time": "2025-03-12T15:35:44.464585Z"
    }
   },
   "cell_type": "code",
   "source": "# Config",
   "id": "3180afa8778f9553",
   "outputs": [],
   "execution_count": 4
  },
  {
   "metadata": {},
   "cell_type": "markdown",
   "source": [
    "---\n",
    "## Data"
   ],
   "id": "190fcef7dd61821b"
  },
  {
   "metadata": {
    "ExecuteTime": {
     "end_time": "2025-03-12T15:35:44.480307Z",
     "start_time": "2025-03-12T15:35:44.477911Z"
    }
   },
   "cell_type": "code",
   "source": [
    "# Dummy data to test\n",
    "db = pd.DataFrame({\n",
    "\t'ID': [1, 1, 1, 1, 2, 2, 2, 2, 3, 3, 3, 3, 3, 3, 3],\n",
    "\t'Input': [0.40, 4.45, 7.60, 8.30, 3.50, 5.10, 8.85, 9.35, 0.55, 2.60, 4.20, 5.75, 6.15, 7.10, 9.50],\n",
    "\t'Output': [59.81620, 67.13694, 78.32495, 81.83590, 62.04943, 67.31932, 85.94063, 86.76426, 60.46263, 64.92184,\n",
    "\t           68.48024, 72.56274, 76.07257, 80.58012, 84.52813]\n",
    "})"
   ],
   "id": "b36bdb0b6080e935",
   "outputs": [],
   "execution_count": 5
  },
  {
   "metadata": {
    "ExecuteTime": {
     "end_time": "2025-03-12T15:35:44.504961Z",
     "start_time": "2025-03-12T15:35:44.497130Z"
    }
   },
   "cell_type": "code",
   "source": "db[db['ID'] < 3]",
   "id": "589048f84727a759",
   "outputs": [
    {
     "data": {
      "text/plain": [
       "   ID  Input    Output\n",
       "0   1   0.40  59.81620\n",
       "1   1   4.45  67.13694\n",
       "2   1   7.60  78.32495\n",
       "3   1   8.30  81.83590\n",
       "4   2   3.50  62.04943\n",
       "5   2   5.10  67.31932\n",
       "6   2   8.85  85.94063\n",
       "7   2   9.35  86.76426"
      ],
      "text/html": [
       "<div>\n",
       "<style scoped>\n",
       "    .dataframe tbody tr th:only-of-type {\n",
       "        vertical-align: middle;\n",
       "    }\n",
       "\n",
       "    .dataframe tbody tr th {\n",
       "        vertical-align: top;\n",
       "    }\n",
       "\n",
       "    .dataframe thead th {\n",
       "        text-align: right;\n",
       "    }\n",
       "</style>\n",
       "<table border=\"1\" class=\"dataframe\">\n",
       "  <thead>\n",
       "    <tr style=\"text-align: right;\">\n",
       "      <th></th>\n",
       "      <th>ID</th>\n",
       "      <th>Input</th>\n",
       "      <th>Output</th>\n",
       "    </tr>\n",
       "  </thead>\n",
       "  <tbody>\n",
       "    <tr>\n",
       "      <th>0</th>\n",
       "      <td>1</td>\n",
       "      <td>0.40</td>\n",
       "      <td>59.81620</td>\n",
       "    </tr>\n",
       "    <tr>\n",
       "      <th>1</th>\n",
       "      <td>1</td>\n",
       "      <td>4.45</td>\n",
       "      <td>67.13694</td>\n",
       "    </tr>\n",
       "    <tr>\n",
       "      <th>2</th>\n",
       "      <td>1</td>\n",
       "      <td>7.60</td>\n",
       "      <td>78.32495</td>\n",
       "    </tr>\n",
       "    <tr>\n",
       "      <th>3</th>\n",
       "      <td>1</td>\n",
       "      <td>8.30</td>\n",
       "      <td>81.83590</td>\n",
       "    </tr>\n",
       "    <tr>\n",
       "      <th>4</th>\n",
       "      <td>2</td>\n",
       "      <td>3.50</td>\n",
       "      <td>62.04943</td>\n",
       "    </tr>\n",
       "    <tr>\n",
       "      <th>5</th>\n",
       "      <td>2</td>\n",
       "      <td>5.10</td>\n",
       "      <td>67.31932</td>\n",
       "    </tr>\n",
       "    <tr>\n",
       "      <th>6</th>\n",
       "      <td>2</td>\n",
       "      <td>8.85</td>\n",
       "      <td>85.94063</td>\n",
       "    </tr>\n",
       "    <tr>\n",
       "      <th>7</th>\n",
       "      <td>2</td>\n",
       "      <td>9.35</td>\n",
       "      <td>86.76426</td>\n",
       "    </tr>\n",
       "  </tbody>\n",
       "</table>\n",
       "</div>"
      ]
     },
     "execution_count": 6,
     "metadata": {},
     "output_type": "execute_result"
    }
   ],
   "execution_count": 6
  },
  {
   "metadata": {
    "ExecuteTime": {
     "end_time": "2025-03-12T15:35:45.227403Z",
     "start_time": "2025-03-12T15:35:44.549936Z"
    }
   },
   "cell_type": "code",
   "source": [
    "all_inputs_train, padded_inputs_train, padded_outputs_train, masks_train = preprocess_db(db[db['ID'] < 3])\n",
    "all_inputs_train.shape, padded_inputs_train.shape"
   ],
   "id": "694ebbfdadb006c",
   "outputs": [
    {
     "data": {
      "text/plain": [
       "((8,), (2, 8))"
      ]
     },
     "execution_count": 7,
     "metadata": {},
     "output_type": "execute_result"
    }
   ],
   "execution_count": 7
  },
  {
   "metadata": {
    "ExecuteTime": {
     "end_time": "2025-03-12T15:35:57.702770Z",
     "start_time": "2025-03-12T15:35:57.687251Z"
    }
   },
   "cell_type": "code",
   "source": [
    "all_inputs_test, padded_inputs_test, padded_outputs_test, masks_test = preprocess_db(db[db['ID'] >= 3])\n",
    "all_inputs_test.shape, padded_inputs_test.shape"
   ],
   "id": "93a866d69fa905ff",
   "outputs": [
    {
     "data": {
      "text/plain": [
       "((7,), (1, 7))"
      ]
     },
     "execution_count": 9,
     "metadata": {},
     "output_type": "execute_result"
    }
   ],
   "execution_count": 9
  },
  {
   "metadata": {},
   "cell_type": "markdown",
   "source": [
    "---\n",
    "## Current implementation"
   ],
   "id": "bffd41fea2028bdb"
  },
  {
   "metadata": {
    "ExecuteTime": {
     "end_time": "2025-03-12T15:36:01.650383Z",
     "start_time": "2025-03-12T15:36:01.559542Z"
    }
   },
   "cell_type": "code",
   "source": [
    "# plot the profiles\n",
    "# Plot\n",
    "plt.figure(figsize=(6, 4))\n",
    "for id_, group in db.groupby('ID'):\n",
    "\tplt.plot(group['Input'], group['Output'], marker='o', label=f'ID {id_}')\n",
    "\n",
    "# Labels and legend\n",
    "plt.xlabel(\"Input\")\n",
    "plt.ylabel(\"Output\")\n",
    "plt.legend()\n",
    "plt.grid()\n",
    "plt.show()"
   ],
   "id": "52ef555933a0e045",
   "outputs": [
    {
     "data": {
      "text/plain": [
       "<Figure size 600x400 with 1 Axes>"
      ],
      "image/png": "[encoded data removed]"
     },
     "metadata": {},
     "output_type": "display_data"
    }
   ],
   "execution_count": 10
  },
  {
   "metadata": {
    "ExecuteTime": {
     "end_time": "2025-03-12T15:36:02.506379Z",
     "start_time": "2025-03-12T15:36:02.502771Z"
    }
   },
   "cell_type": "code",
   "source": [
    "mean_kern = SEMagmaKernel(length_scale=2.913873, variance=7.766141)  # Optimal value from MagmaClustR\n",
    "task_kern = SEMagmaKernel(length_scale=1.787864, variance=1.455233)  # Optimal value from MagmaClustR"
   ],
   "id": "6b7e730087bbca42",
   "outputs": [],
   "execution_count": 11
  },
  {
   "metadata": {
    "ExecuteTime": {
     "end_time": "2025-03-12T15:38:15.193698Z",
     "start_time": "2025-03-12T15:38:15.188071Z"
    }
   },
   "cell_type": "code",
   "source": [
    "post_mean, post_cov = hyperpost(padded_inputs_train, padded_outputs_train, masks_train, jnp.array(0), mean_kern,\n",
    "                                task_kern, all_inputs=all_inputs_train)"
   ],
   "id": "43c36e562d1ce52e",
   "outputs": [],
   "execution_count": 23
  },
  {
   "metadata": {
    "ExecuteTime": {
     "end_time": "2025-03-12T15:38:15.667795Z",
     "start_time": "2025-03-12T15:38:15.663020Z"
    }
   },
   "cell_type": "code",
   "source": "np.asarray(post_cov)",
   "id": "48d3f1215a325a5a",
   "outputs": [
    {
     "data": {
      "text/plain": [
       "array([[3.9238002 , 0.68786734, 0.4913745 , 0.40921137, 0.07746234,\n",
       "        0.03670207, 0.04061443, 0.06944349],\n",
       "       [0.68786895, 2.3367457 , 1.9917192 , 1.685007  , 0.5545117 ,\n",
       "        0.32141554, 0.18794648, 0.11629809],\n",
       "       [0.49137712, 1.9917206 , 2.1368644 , 2.059674  , 0.9459238 ,\n",
       "        0.627762  , 0.42646176, 0.28542706],\n",
       "       [0.40921298, 1.6850079 , 2.0596733 , 2.1495214 , 1.2916361 ,\n",
       "        0.92802155, 0.6814257 , 0.5043015 ],\n",
       "       [0.07746391, 0.55451345, 0.9459252 , 1.2916368 , 2.1565828 ,\n",
       "        2.0575771 , 1.8877145 , 1.6967535 ],\n",
       "       [0.03670055, 0.32141894, 0.627764  , 0.9280222 , 2.0575774 ,\n",
       "        2.136539  , 2.0875633 , 1.9665248 ],\n",
       "       [0.04061404, 0.18794757, 0.4264613 , 0.6814245 , 1.8877149 ,\n",
       "        2.0875635 , 2.1524358 , 2.1311905 ],\n",
       "       [0.06944409, 0.11630308, 0.28542963, 0.5043027 , 1.6967541 ,\n",
       "        1.9665252 , 2.1311905 , 2.2423105 ]], dtype=float32)"
      ]
     },
     "execution_count": 24,
     "metadata": {},
     "output_type": "execute_result"
    }
   ],
   "execution_count": 24
  },
  {
   "metadata": {
    "ExecuteTime": {
     "end_time": "2025-03-12T15:38:16.503225Z",
     "start_time": "2025-03-12T15:38:16.498885Z"
    }
   },
   "cell_type": "code",
   "source": "np.asarray(post_mean)",
   "id": "a54827df14aef20e",
   "outputs": [
    {
     "data": {
      "text/plain": [
       "array([58.767086, 63.865337, 66.04876 , 68.028786, 79.690475, 83.03334 ,\n",
       "       85.01304 , 86.02761 ], dtype=float32)"
      ]
     },
     "execution_count": 25,
     "metadata": {},
     "output_type": "execute_result"
    }
   ],
   "execution_count": 25
  },
  {
   "metadata": {
    "ExecuteTime": {
     "end_time": "2025-03-12T15:42:00.558603Z",
     "start_time": "2025-03-12T15:42:00.522811Z"
    }
   },
   "cell_type": "code",
   "source": [
    "magma_post_mean = jnp.array([58.51787, 63.68543, 65.88563, 67.87112, 79.42533, 82.75855, 84.77454, 85.86286])\n",
    "magma_post_cov = jnp.array([[4.76069, 1.08064, 0.861161, 0.742202, 0.117828, 0.0230036, 0.0135281, 0.0514975],\n",
    "                            [1.08064, 2.91396, 2.52377, 2.18310, 0.927228, 0.631739, 0.430066, 0.282036],\n",
    "                            [0.861161, 2.52377, 2.68749, 2.60878, 1.38338, 1.00744, 0.754443, 0.562014],\n",
    "                            [0.742202, 2.18310, 2.60878, 2.72367, 1.78506, 1.35312, 1.04982, 0.823564],\n",
    "                            [0.117828, 0.927228, 1.38338, 1.78506, 2.79972, 2.64583, 2.38762, 2.08305],\n",
    "                            [0.0230036, 0.631739, 1.00744, 1.35312, 2.64583, 2.72265, 2.63719, 2.44841],\n",
    "                            [0.0135281, 0.430066, 0.754443, 1.04982, 2.38762, 2.63719, 2.73519, 2.73480],\n",
    "                            [0.0514975, 0.282036, 0.562014, 0.823564, 2.08305, 2.44841, 2.73480, 2.99548]])"
   ],
   "id": "2efa03961907471e",
   "outputs": [],
   "execution_count": 26
  },
  {
   "metadata": {},
   "cell_type": "markdown",
   "source": [
    "---\n",
    "## Custom implementation(s)"
   ],
   "id": "c7496288f6ddf25f"
  },
  {
   "metadata": {
    "ExecuteTime": {
     "end_time": "2025-03-12T15:35:46.311588Z",
     "start_time": "2025-03-12T13:43:13.404536Z"
    }
   },
   "cell_type": "code",
   "source": "",
   "id": "5de6fcef36a19d83",
   "outputs": [],
   "execution_count": null
  },
  {
   "metadata": {},
   "cell_type": "markdown",
   "source": [
    "---\n",
    "## Comparison"
   ],
   "id": "88fdaed3f55aae3a"
  },
  {
   "metadata": {
    "ExecuteTime": {
     "end_time": "2025-03-12T15:35:46.322092Z",
     "start_time": "2025-03-12T13:43:13.416232Z"
    }
   },
   "cell_type": "code",
   "source": "",
   "id": "9e4541ca06271c07",
   "outputs": [],
   "execution_count": null
  },
  {
   "metadata": {},
   "cell_type": "markdown",
   "source": [
    "---\n",
    "## Conclusion"
   ],
   "id": "40eac9ed87ce043e"
  },
  {
   "metadata": {
    "ExecuteTime": {
     "end_time": "2025-03-12T15:35:46.330799Z",
     "start_time": "2025-03-12T13:43:13.425918Z"
    }
   },
   "cell_type": "code",
   "source": "",
   "id": "e00d28413733ef9a",
   "outputs": [],
   "execution_count": null
  },
  {
   "metadata": {},
   "cell_type": "markdown",
   "source": "---",
   "id": "f18216d93ddcf3af"
  }
 ],
 "metadata": {
  "kernelspec": {
   "display_name": "Python 3",
   "language": "python",
   "name": "python3"
  },
  "language_info": {
   "codemirror_mode": {
    "name": "ipython",
    "version": 2
   },
   "file_extension": ".py",
   "mimetype": "text/x-python",
   "name": "python",
   "nbconvert_exporter": "python",
   "pygments_lexer": "ipython2",
   "version": "2.7.6"
  }
 },
 "nbformat": 4,
 "nbformat_minor": 5
}
