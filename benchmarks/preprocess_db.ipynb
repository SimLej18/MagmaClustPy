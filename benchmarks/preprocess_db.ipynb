{
 "cells": [
  {
   "metadata": {},
   "cell_type": "markdown",
   "source": [
    "# Benchmarks - Preprocess DB\n",
    "\n",
    "**Main considerations when implementing Preprocess DB**\n",
    "\n",
    "Magma and MagmaClust both work on unaligned sequences of varying sizes.\n",
    "Yet, we cant to be able to perform as many operations in a vectorisable and jittable way.\n",
    "\n",
    "This need that we need to pad the sequences to the same length, aligning them in the process, and then mask the padded values.\n",
    "A mask should be computed at the first step of the process to not be re-computed every time we need to mask the values.\n",
    "\n",
    "This way, each operation can have custom logic to handle padded values, all while preserving vectorisation and jitting.\n"
   ],
   "id": "3169657593ef2b05"
  },
  {
   "metadata": {},
   "cell_type": "markdown",
   "source": [
    "---\n",
    "## Setup"
   ],
   "id": "7b65ff45bca2668a"
  },
  {
   "metadata": {
    "ExecuteTime": {
     "end_time": "2025-03-05T15:00:54.855646Z",
     "start_time": "2025-03-05T15:00:54.852526Z"
    }
   },
   "cell_type": "code",
   "source": "# Standard library\nimport os\n\n# Config\nos.environ['JAX_ENABLE_X64'] = \"True\"",
   "id": "cb9dc5bf24ca0bfc",
   "outputs": [],
   "execution_count": 1
  },
  {
   "metadata": {
    "ExecuteTime": {
     "end_time": "2025-03-05T15:00:55.631247Z",
     "start_time": "2025-03-05T15:00:54.956058Z"
    }
   },
   "cell_type": "code",
   "source": "# Third party\nimport jax\nimport jax.numpy as jnp\n\nimport numpy as np\nimport pandas as pd\n\n# Initialize random key\nkey = jax.random.PRNGKey(0)",
   "id": "17394bcba5a0c15f",
   "outputs": [],
   "execution_count": 2
  },
  {
   "metadata": {
    "ExecuteTime": {
     "end_time": "2025-03-05T15:00:55.636216Z",
     "start_time": "2025-03-05T15:00:55.634617Z"
    }
   },
   "cell_type": "code",
   "source": "# Local",
   "id": "1d8411a9b05f7d1b",
   "outputs": [],
   "execution_count": 3
  },
  {
   "metadata": {
    "ExecuteTime": {
     "end_time": "2025-03-05T15:00:55.660363Z",
     "start_time": "2025-03-05T15:00:55.644202Z"
    }
   },
   "cell_type": "code",
   "source": [
    "# Set constants\n",
    "M = 50  # Number of sequences\n",
    "MIN_N = 10  # Minimum sequence length\n",
    "MAX_N = 100  # Maximum sequence length\n",
    "grid = jnp.arange(-200, 200, 1, dtype=jnp.float64)  # Grid to pick inputs from"
   ],
   "id": "8fdfe2743b68b3bf",
   "outputs": [],
   "execution_count": 4
  },
  {
   "metadata": {},
   "cell_type": "markdown",
   "source": [
    "---\n",
    "## Data"
   ],
   "id": "9e456a3079c6f8e9"
  },
  {
   "metadata": {
    "ExecuteTime": {
     "end_time": "2025-03-05T15:00:55.667751Z",
     "start_time": "2025-03-05T15:00:55.665644Z"
    }
   },
   "cell_type": "code",
   "source": "db = pd.DataFrame({\"ID\": [], \"Input\": [], \"Output\": []})",
   "id": "3618812fec7185e4",
   "outputs": [],
   "execution_count": 5
  },
  {
   "metadata": {
    "ExecuteTime": {
     "end_time": "2025-03-05T15:00:56.465852Z",
     "start_time": "2025-03-05T15:00:55.673978Z"
    }
   },
   "cell_type": "code",
   "source": [
    "# We fill DB with random sequences\n",
    "data = []\n",
    "for m in range(M):\n",
    "\tkey, subkey = jax.random.split(key)\n",
    "\tn_points = jax.random.randint(subkey, (), MIN_N, MAX_N)\n",
    "\tfor n in range(n_points):\n",
    "\t\tkey, subkey1, subkey2 = jax.random.split(key, 3)\n",
    "\t\tdata.append({\n",
    "\t\t\t\"ID\": m,\n",
    "\t\t\t\"Input\": jax.random.choice(subkey1, grid, (1,))[0].item(),\n",
    "\t\t\t\"Output\": jax.random.uniform(subkey2, (), jnp.float64, -5, 5).item()\n",
    "\t\t})\n",
    "db = pd.DataFrame(data)"
   ],
   "id": "4479d9ad50c33957",
   "outputs": [],
   "execution_count": 6
  },
  {
   "metadata": {
    "ExecuteTime": {
     "end_time": "2025-03-05T15:00:56.498976Z",
     "start_time": "2025-03-05T15:00:56.492829Z"
    }
   },
   "cell_type": "code",
   "source": "db",
   "id": "b94e73cc71065744",
   "outputs": [
    {
     "data": {
      "text/plain": [
       "      ID  Input    Output\n",
       "0      0    8.0 -0.957674\n",
       "1      0   44.0  2.742172\n",
       "2      0  189.0 -4.571886\n",
       "3      0  -29.0  0.661192\n",
       "4      0   82.0 -2.854472\n",
       "...   ..    ...       ...\n",
       "2706  49  153.0 -1.899048\n",
       "2707  49   28.0  3.695970\n",
       "2708  49   58.0 -4.940126\n",
       "2709  49  -71.0  2.483545\n",
       "2710  49  -90.0  4.134615\n",
       "\n",
       "[2711 rows x 3 columns]"
      ],
      "text/html": [
       "<div>\n",
       "<style scoped>\n",
       "    .dataframe tbody tr th:only-of-type {\n",
       "        vertical-align: middle;\n",
       "    }\n",
       "\n",
       "    .dataframe tbody tr th {\n",
       "        vertical-align: top;\n",
       "    }\n",
       "\n",
       "    .dataframe thead th {\n",
       "        text-align: right;\n",
       "    }\n",
       "</style>\n",
       "<table border=\"1\" class=\"dataframe\">\n",
       "  <thead>\n",
       "    <tr style=\"text-align: right;\">\n",
       "      <th></th>\n",
       "      <th>ID</th>\n",
       "      <th>Input</th>\n",
       "      <th>Output</th>\n",
       "    </tr>\n",
       "  </thead>\n",
       "  <tbody>\n",
       "    <tr>\n",
       "      <th>0</th>\n",
       "      <td>0</td>\n",
       "      <td>8.0</td>\n",
       "      <td>-0.957674</td>\n",
       "    </tr>\n",
       "    <tr>\n",
       "      <th>1</th>\n",
       "      <td>0</td>\n",
       "      <td>44.0</td>\n",
       "      <td>2.742172</td>\n",
       "    </tr>\n",
       "    <tr>\n",
       "      <th>2</th>\n",
       "      <td>0</td>\n",
       "      <td>189.0</td>\n",
       "      <td>-4.571886</td>\n",
       "    </tr>\n",
       "    <tr>\n",
       "      <th>3</th>\n",
       "      <td>0</td>\n",
       "      <td>-29.0</td>\n",
       "      <td>0.661192</td>\n",
       "    </tr>\n",
       "    <tr>\n",
       "      <th>4</th>\n",
       "      <td>0</td>\n",
       "      <td>82.0</td>\n",
       "      <td>-2.854472</td>\n",
       "    </tr>\n",
       "    <tr>\n",
       "      <th>...</th>\n",
       "      <td>...</td>\n",
       "      <td>...</td>\n",
       "      <td>...</td>\n",
       "    </tr>\n",
       "    <tr>\n",
       "      <th>2706</th>\n",
       "      <td>49</td>\n",
       "      <td>153.0</td>\n",
       "      <td>-1.899048</td>\n",
       "    </tr>\n",
       "    <tr>\n",
       "      <th>2707</th>\n",
       "      <td>49</td>\n",
       "      <td>28.0</td>\n",
       "      <td>3.695970</td>\n",
       "    </tr>\n",
       "    <tr>\n",
       "      <th>2708</th>\n",
       "      <td>49</td>\n",
       "      <td>58.0</td>\n",
       "      <td>-4.940126</td>\n",
       "    </tr>\n",
       "    <tr>\n",
       "      <th>2709</th>\n",
       "      <td>49</td>\n",
       "      <td>-71.0</td>\n",
       "      <td>2.483545</td>\n",
       "    </tr>\n",
       "    <tr>\n",
       "      <th>2710</th>\n",
       "      <td>49</td>\n",
       "      <td>-90.0</td>\n",
       "      <td>4.134615</td>\n",
       "    </tr>\n",
       "  </tbody>\n",
       "</table>\n",
       "<p>2711 rows × 3 columns</p>\n",
       "</div>"
      ]
     },
     "execution_count": 7,
     "metadata": {},
     "output_type": "execute_result"
    }
   ],
   "execution_count": 7
  },
  {
   "metadata": {},
   "cell_type": "markdown",
   "source": [
    "---\n",
    "## Current implementation"
   ],
   "id": "fc6f59bda2ecbaad"
  },
  {
   "metadata": {},
   "cell_type": "markdown",
   "source": "No comparison with current implementation is possible, as the current implementation simply doesn't use padding",
   "id": "74dc9c8b5f91aae6"
  },
  {
   "metadata": {},
   "cell_type": "markdown",
   "source": [
    "---\n",
    "## Custom implementation(s)"
   ],
   "id": "aca844690354fcc8"
  },
  {
   "metadata": {
    "ExecuteTime": {
     "end_time": "2025-03-05T15:00:56.527370Z",
     "start_time": "2025-03-05T15:00:56.524493Z"
    }
   },
   "cell_type": "code",
   "source": [
    "def preprocess_db(db: pd.DataFrame):\n",
    "\t\"\"\"\n",
    "\n",
    "\t:param db: the db to process, with columns \"ID\", \"Input\" and \"Output\"\n",
    "\t:return: a tuple of (all_inputs, padded_inputs, padded_outputs, masks)\n",
    "\t   - all_inputs: a matrix of shape (P, ) with all distinct inputs\n",
    "\t   - padded_inputs: a matrix of shape (M, P) where M is the number of sequences and P is the number of distinct\n",
    "\t   inputs. Missing inputs for each sequence are represented as NaNs.\n",
    "\t   - padded_outputs: a matrix of shape (M, P) with corresponding output for each input and NaNs for missing inputs\n",
    "\t   - masks: a matrix of shape (M, P) with 1 where the input is valid and 0 where it is padded\n",
    "\t\"\"\"\n",
    "\t# Get all distinct inputs\n",
    "\tall_ids = jnp.array(db[\"ID\"])\n",
    "\tall_inputs = jnp.sort(jnp.array(db[\"Input\"].unique()))\n",
    "\n",
    "\t# Initialise padded inputs, padded outputs and masks\n",
    "\tpadded_inputs = jnp.full((len(all_ids), len(all_inputs)), jnp.nan)\n",
    "\tpadded_outputs = jnp.full((len(all_ids), len(all_inputs)), jnp.nan)\n",
    "\tmasks = jnp.zeros((len(all_ids), len(all_inputs)), dtype=bool)\n",
    "\n",
    "\t# Fill padded inputs, padded outputs and masks\n",
    "\tfor i, _id in enumerate(db[\"ID\"].unique()):\n",
    "\t\tsub_db = db[db[\"ID\"] == _id]\n",
    "\t\tidx = jnp.searchsorted(all_inputs, jnp.array(sub_db[\"Input\"]))\n",
    "\t\tpadded_inputs = padded_inputs.at[i, idx].set(sub_db[\"Input\"].values)\n",
    "\t\tpadded_outputs = padded_outputs.at[i, idx].set(sub_db[\"Output\"].values)\n",
    "\t\tmasks = masks.at[i, idx].set(jnp.ones(len(sub_db), dtype=bool))\n",
    "\n",
    "\treturn all_inputs, padded_inputs, padded_outputs, masks\n"
   ],
   "id": "c6655c186ea6877d",
   "outputs": [],
   "execution_count": 8
  },
  {
   "metadata": {},
   "cell_type": "markdown",
   "source": [
    "---\n",
    "## Comparison"
   ],
   "id": "e36d61be045a06"
  },
  {
   "metadata": {
    "ExecuteTime": {
     "end_time": "2025-03-05T15:01:05.594032Z",
     "start_time": "2025-03-05T15:00:56.567955Z"
    }
   },
   "cell_type": "code",
   "source": "all_inputs, padded_inputs, padded_outputs, masks = preprocess_db(db)",
   "id": "7f350e2e3f6d3a1b",
   "outputs": [],
   "execution_count": 9
  },
  {
   "metadata": {
    "ExecuteTime": {
     "end_time": "2025-03-05T15:01:05.607012Z",
     "start_time": "2025-03-05T15:01:05.605094Z"
    }
   },
   "cell_type": "code",
   "source": "print(f\"{len(all_inputs)} distinct inputs, {len(all_inputs)/len(grid)*100:.2f}% of grid\")",
   "id": "f0edd4a4348a9fa2",
   "outputs": [
    {
     "name": "stdout",
     "output_type": "stream",
     "text": [
      "398 distinct inputs, 99.50% of grid\n"
     ]
    }
   ],
   "execution_count": 10
  },
  {
   "metadata": {
    "ExecuteTime": {
     "end_time": "2025-03-05T15:01:05.646463Z",
     "start_time": "2025-03-05T15:01:05.643641Z"
    }
   },
   "cell_type": "code",
   "source": "np.asarray(padded_inputs)",
   "id": "df2007807106b790",
   "outputs": [
    {
     "data": {
      "text/plain": [
       "array([[  nan, -199.,   nan, ...,   nan,   nan,   nan],\n",
       "       [-200.,   nan,   nan, ...,   nan,   nan,   nan],\n",
       "       [  nan,   nan,   nan, ...,   nan,   nan,   nan],\n",
       "       ...,\n",
       "       [  nan,   nan,   nan, ...,   nan,   nan,   nan],\n",
       "       [  nan,   nan,   nan, ...,   nan,   nan,   nan],\n",
       "       [  nan,   nan,   nan, ...,   nan,   nan,   nan]])"
      ]
     },
     "execution_count": 11,
     "metadata": {},
     "output_type": "execute_result"
    }
   ],
   "execution_count": 11
  },
  {
   "metadata": {
    "ExecuteTime": {
     "end_time": "2025-03-05T15:01:05.707591Z",
     "start_time": "2025-03-05T15:01:05.704945Z"
    }
   },
   "cell_type": "code",
   "source": "np.asarray(padded_outputs)",
   "id": "ecfae643ad8bb1fc",
   "outputs": [
    {
     "data": {
      "text/plain": [
       "array([[        nan,  4.90038074,         nan, ...,         nan,\n",
       "                nan,         nan],\n",
       "       [-3.93707068,         nan,         nan, ...,         nan,\n",
       "                nan,         nan],\n",
       "       [        nan,         nan,         nan, ...,         nan,\n",
       "                nan,         nan],\n",
       "       ...,\n",
       "       [        nan,         nan,         nan, ...,         nan,\n",
       "                nan,         nan],\n",
       "       [        nan,         nan,         nan, ...,         nan,\n",
       "                nan,         nan],\n",
       "       [        nan,         nan,         nan, ...,         nan,\n",
       "                nan,         nan]])"
      ]
     },
     "execution_count": 12,
     "metadata": {},
     "output_type": "execute_result"
    }
   ],
   "execution_count": 12
  },
  {
   "metadata": {
    "ExecuteTime": {
     "end_time": "2025-03-05T15:01:05.779605Z",
     "start_time": "2025-03-05T15:01:05.777047Z"
    }
   },
   "cell_type": "code",
   "source": "np.asarray(masks)",
   "id": "80c1c9b1e9c7217c",
   "outputs": [
    {
     "data": {
      "text/plain": [
       "array([[False,  True, False, ..., False, False, False],\n",
       "       [ True, False, False, ..., False, False, False],\n",
       "       [False, False, False, ..., False, False, False],\n",
       "       ...,\n",
       "       [False, False, False, ..., False, False, False],\n",
       "       [False, False, False, ..., False, False, False],\n",
       "       [False, False, False, ..., False, False, False]])"
      ]
     },
     "execution_count": 13,
     "metadata": {},
     "output_type": "execute_result"
    }
   ],
   "execution_count": 13
  },
  {
   "metadata": {},
   "cell_type": "markdown",
   "source": [
    "---\n",
    "## Conclusion"
   ],
   "id": "58b33636cd2804e2"
  },
  {
   "metadata": {
    "ExecuteTime": {
     "end_time": "2025-03-05T15:01:05.982337Z",
     "start_time": "2025-03-05T15:01:05.980460Z"
    }
   },
   "cell_type": "code",
   "source": "",
   "id": "c502bb5a3257906b",
   "outputs": [],
   "execution_count": null
  },
  {
   "metadata": {},
   "cell_type": "markdown",
   "source": "---",
   "id": "f8c3848d90b614ac"
  }
 ],
 "metadata": {
  "kernelspec": {
   "display_name": "Python 3",
   "language": "python",
   "name": "python3"
  },
  "language_info": {
   "codemirror_mode": {
    "name": "ipython",
    "version": 2
   },
   "file_extension": ".py",
   "mimetype": "text/x-python",
   "name": "python",
   "nbconvert_exporter": "python",
   "pygments_lexer": "ipython2",
   "version": "2.7.6"
  }
 },
 "nbformat": 4,
 "nbformat_minor": 5
}
