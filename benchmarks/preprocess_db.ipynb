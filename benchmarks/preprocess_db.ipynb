{
 "cells": [
  {
   "metadata": {},
   "cell_type": "markdown",
   "source": [
    "# Benchmarks - Preprocess DB\n",
    "\n",
    "**Main considerations when implementing Preprocess DB**\n",
    "\n",
    "Magma and MagmaClust both work on unaligned sequences of varying sizes.\n",
    "Yet, we want to be able to perform as many operations in a vectorisable and jittable way.\n",
    "\n",
    "This mean that we need to pad the sequences to the same length, aligning them in the process, and then mask the padded values.\n",
    "A mask should be computed at the first step of the process to not be re-computed every time we need to mask the values.\n",
    "\n",
    "This way, each operation can have custom logic to handle padded values, all while preserving vectorisation and jitting.\n"
   ],
   "id": "3169657593ef2b05"
  },
  {
   "metadata": {},
   "cell_type": "markdown",
   "source": [
    "---\n",
    "## Setup"
   ],
   "id": "7b65ff45bca2668a"
  },
  {
   "metadata": {
    "ExecuteTime": {
     "end_time": "2025-05-21T08:08:45.487963Z",
     "start_time": "2025-05-21T08:08:45.484468Z"
    }
   },
   "cell_type": "code",
   "source": "# Standard library\nimport os\n\n# Config\nos.environ['JAX_ENABLE_X64'] = \"True\"",
   "id": "cb9dc5bf24ca0bfc",
   "outputs": [],
   "execution_count": 1
  },
  {
   "metadata": {
    "ExecuteTime": {
     "end_time": "2025-05-21T08:08:46.211870Z",
     "start_time": "2025-05-21T08:08:45.506768Z"
    }
   },
   "cell_type": "code",
   "source": "# Third party\nimport jax\nimport jax.numpy as jnp\n\nimport numpy as np\nimport pandas as pd\n\n# Initialize random key\nkey = jax.random.PRNGKey(0)",
   "id": "17394bcba5a0c15f",
   "outputs": [],
   "execution_count": 2
  },
  {
   "metadata": {
    "ExecuteTime": {
     "end_time": "2025-05-21T08:08:46.308097Z",
     "start_time": "2025-05-21T08:08:46.306336Z"
    }
   },
   "cell_type": "code",
   "source": "# Local\n",
   "id": "1d8411a9b05f7d1b",
   "outputs": [],
   "execution_count": 3
  },
  {
   "metadata": {
    "ExecuteTime": {
     "end_time": "2025-05-21T08:08:46.332623Z",
     "start_time": "2025-05-21T08:08:46.315175Z"
    }
   },
   "cell_type": "code",
   "source": [
    "# Set constants\n",
    "M = 500  # Number of sequences\n",
    "MIN_N = 100  # Minimum sequence length\n",
    "MAX_N = 1000  # Maximum sequence length\n",
    "grid = jnp.arange(-2000, 2000, 1, dtype=jnp.float64)  # Grid to pick inputs from"
   ],
   "id": "8fdfe2743b68b3bf",
   "outputs": [],
   "execution_count": 4
  },
  {
   "metadata": {},
   "cell_type": "markdown",
   "source": [
    "---\n",
    "## Data"
   ],
   "id": "9e456a3079c6f8e9"
  },
  {
   "metadata": {
    "ExecuteTime": {
     "end_time": "2025-05-21T08:08:46.344081Z",
     "start_time": "2025-05-21T08:08:46.341105Z"
    }
   },
   "cell_type": "code",
   "source": [
    "def generate_dummy_db(M: int, MIN_N: int, MAX_N: int, grid: jnp.array, key: jnp.array):\n",
    "\t# We fill DB with random sequences\n",
    "\tdata = []\n",
    "\tfor m in range(M):\n",
    "\t\tkey, subkey = jax.random.split(key)\n",
    "\t\tn_points = jax.random.randint(subkey, (), MIN_N, MAX_N)\n",
    "\t\tfor n in range(n_points):\n",
    "\t\t\tkey, subkey1, subkey2 = jax.random.split(key, 3)\n",
    "\t\t\tdata.append({\n",
    "\t\t\t\t\"ID\": m,\n",
    "\t\t\t\t\"Input\": jax.random.choice(subkey1, grid, (1,))[0].item(),\n",
    "\t\t\t\t\"Output\": jax.random.uniform(subkey2, (), jnp.float64, -5, 5).item()\n",
    "\t\t\t})\n",
    "\treturn pd.DataFrame(data)"
   ],
   "id": "4479d9ad50c33957",
   "outputs": [],
   "execution_count": 5
  },
  {
   "metadata": {
    "ExecuteTime": {
     "end_time": "2025-05-21T08:09:30.204536Z",
     "start_time": "2025-05-21T08:08:46.355358Z"
    }
   },
   "cell_type": "code",
   "source": [
    "db = generate_dummy_db(M, MIN_N, MAX_N, grid, key)\n",
    "db"
   ],
   "id": "b94e73cc71065744",
   "outputs": [
    {
     "data": {
      "text/plain": [
       "         ID   Input    Output\n",
       "0         0  1408.0 -0.957674\n",
       "1         0 -1356.0  2.742172\n",
       "2         0  1989.0 -4.571886\n",
       "3         0 -1029.0  0.661192\n",
       "4         0   282.0 -2.854472\n",
       "...     ...     ...       ...\n",
       "270084  499  1575.0  0.043677\n",
       "270085  499 -1662.0  1.769157\n",
       "270086  499 -1604.0  2.336939\n",
       "270087  499  1080.0  1.489557\n",
       "270088  499  1723.0  2.507565\n",
       "\n",
       "[270089 rows x 3 columns]"
      ],
      "text/html": [
       "<div>\n",
       "<style scoped>\n",
       "    .dataframe tbody tr th:only-of-type {\n",
       "        vertical-align: middle;\n",
       "    }\n",
       "\n",
       "    .dataframe tbody tr th {\n",
       "        vertical-align: top;\n",
       "    }\n",
       "\n",
       "    .dataframe thead th {\n",
       "        text-align: right;\n",
       "    }\n",
       "</style>\n",
       "<table border=\"1\" class=\"dataframe\">\n",
       "  <thead>\n",
       "    <tr style=\"text-align: right;\">\n",
       "      <th></th>\n",
       "      <th>ID</th>\n",
       "      <th>Input</th>\n",
       "      <th>Output</th>\n",
       "    </tr>\n",
       "  </thead>\n",
       "  <tbody>\n",
       "    <tr>\n",
       "      <th>0</th>\n",
       "      <td>0</td>\n",
       "      <td>1408.0</td>\n",
       "      <td>-0.957674</td>\n",
       "    </tr>\n",
       "    <tr>\n",
       "      <th>1</th>\n",
       "      <td>0</td>\n",
       "      <td>-1356.0</td>\n",
       "      <td>2.742172</td>\n",
       "    </tr>\n",
       "    <tr>\n",
       "      <th>2</th>\n",
       "      <td>0</td>\n",
       "      <td>1989.0</td>\n",
       "      <td>-4.571886</td>\n",
       "    </tr>\n",
       "    <tr>\n",
       "      <th>3</th>\n",
       "      <td>0</td>\n",
       "      <td>-1029.0</td>\n",
       "      <td>0.661192</td>\n",
       "    </tr>\n",
       "    <tr>\n",
       "      <th>4</th>\n",
       "      <td>0</td>\n",
       "      <td>282.0</td>\n",
       "      <td>-2.854472</td>\n",
       "    </tr>\n",
       "    <tr>\n",
       "      <th>...</th>\n",
       "      <td>...</td>\n",
       "      <td>...</td>\n",
       "      <td>...</td>\n",
       "    </tr>\n",
       "    <tr>\n",
       "      <th>270084</th>\n",
       "      <td>499</td>\n",
       "      <td>1575.0</td>\n",
       "      <td>0.043677</td>\n",
       "    </tr>\n",
       "    <tr>\n",
       "      <th>270085</th>\n",
       "      <td>499</td>\n",
       "      <td>-1662.0</td>\n",
       "      <td>1.769157</td>\n",
       "    </tr>\n",
       "    <tr>\n",
       "      <th>270086</th>\n",
       "      <td>499</td>\n",
       "      <td>-1604.0</td>\n",
       "      <td>2.336939</td>\n",
       "    </tr>\n",
       "    <tr>\n",
       "      <th>270087</th>\n",
       "      <td>499</td>\n",
       "      <td>1080.0</td>\n",
       "      <td>1.489557</td>\n",
       "    </tr>\n",
       "    <tr>\n",
       "      <th>270088</th>\n",
       "      <td>499</td>\n",
       "      <td>1723.0</td>\n",
       "      <td>2.507565</td>\n",
       "    </tr>\n",
       "  </tbody>\n",
       "</table>\n",
       "<p>270089 rows × 3 columns</p>\n",
       "</div>"
      ]
     },
     "execution_count": 6,
     "metadata": {},
     "output_type": "execute_result"
    }
   ],
   "execution_count": 6
  },
  {
   "metadata": {},
   "cell_type": "markdown",
   "source": [
    "---\n",
    "## Current implementation"
   ],
   "id": "fc6f59bda2ecbaad"
  },
  {
   "metadata": {
    "ExecuteTime": {
     "end_time": "2025-05-21T08:09:30.327894Z",
     "start_time": "2025-05-21T08:09:30.318842Z"
    }
   },
   "cell_type": "code",
   "source": [
    "#from MagmaClustPy.utils import preprocess_db\n",
    "\n",
    "# Uses itertuples for faster iteration\n",
    "def preprocess_db(db: pd.DataFrame):\n",
    "\t\"\"\"\n",
    "\n",
    "\t:param db: the db to process, with columns \"ID\", \"Input\" and \"Output\"\n",
    "\t:return: a tuple of (all_inputs, padded_inputs, padded_outputs, masks)\n",
    "\t   - all_inputs: a matrix of shape (P, ) with all distinct inputs\n",
    "\t   - padded_inputs: a matrix of shape (M, P) where M is the number of sequences and P is the number of distinct\n",
    "\t   inputs. Missing inputs for each sequence are represented as NaNs.\n",
    "\t   - padded_outputs: a matrix of shape (M, P) with corresponding output for each input and NaNs for missing inputs\n",
    "\t   - masks: a matrix of shape (M, P) with 1 where the input is valid and 0 where it is padded\n",
    "\t\"\"\"\n",
    "\t# Get all distinct inputs\n",
    "\tall_ids = jnp.array(db[\"ID\"].unique())\n",
    "\tall_inputs = jnp.sort(jnp.array(db[\"Input\"].unique()))\n",
    "\n",
    "\t# Initialise padded inputs, padded outputs and masks\n",
    "\tpadded_inputs = jnp.full((len(all_ids), len(all_inputs)), jnp.nan)\n",
    "\tpadded_outputs = jnp.full((len(all_ids), len(all_inputs)), jnp.nan)\n",
    "\tmasks = jnp.zeros((len(all_ids), len(all_inputs)), dtype=bool)\n",
    "\n",
    "\t# Fill padded inputs, padded outputs and masks\n",
    "\tprev_id = \"\"\n",
    "\tid_index = -1\n",
    "\n",
    "\tfor row, _id, input, output in db.itertuples():\n",
    "\t\tif _id != prev_id:\n",
    "\t\t\tprev_id = _id\n",
    "\t\t\tid_index += 1\n",
    "\n",
    "\t\tidx = jnp.searchsorted(all_inputs, input)\n",
    "\t\tpadded_inputs = padded_inputs.at[id_index, idx].set(input)\n",
    "\t\tpadded_outputs = padded_outputs.at[id_index, idx].set(output)\n",
    "\t\tmasks = masks.at[id_index, idx].set(True)\n",
    "\n",
    "\treturn all_inputs, padded_inputs, padded_outputs, masks"
   ],
   "id": "6c0128fd558881fa",
   "outputs": [],
   "execution_count": 7
  },
  {
   "metadata": {},
   "cell_type": "markdown",
   "source": [
    "---\n",
    "## Custom implementation(s)"
   ],
   "id": "aca844690354fcc8"
  },
  {
   "metadata": {
    "ExecuteTime": {
     "end_time": "2025-05-21T08:09:30.528860Z",
     "start_time": "2025-05-21T08:09:30.521629Z"
    }
   },
   "cell_type": "code",
   "source": [
    "# Uses itertuples for faster iteration AND an index_map to avoid searchsorted at each iteration\n",
    "def preprocess_db_new(db: pd.DataFrame):\n",
    "\t\"\"\"\n",
    "\n",
    "\t:param db: the db to process, with columns \"ID\", \"Input\" and \"Output\"\n",
    "\t:return: a tuple of (all_inputs, padded_inputs, padded_outputs, masks)\n",
    "\t   - all_inputs: a matrix of shape (P, ) with all distinct inputs\n",
    "\t   - padded_inputs: a matrix of shape (M, P) where M is the number of sequences and P is the number of distinct\n",
    "\t   inputs. Missing inputs for each sequence are represented as NaNs.\n",
    "\t   - padded_outputs: a matrix of shape (M, P) with corresponding output for each input and NaNs for missing inputs\n",
    "\t   - masks: a matrix of shape (M, P) with 1 where the input is valid and 0 where it is padded\n",
    "\t\"\"\"\n",
    "\t# Get all distinct inputs\n",
    "\tall_ids = jnp.array(db[\"ID\"].unique())\n",
    "\tall_inputs = jnp.sort(jnp.array(db[\"Input\"].unique()))\n",
    "\n",
    "\t# Initialise padded inputs, padded outputs and masks\n",
    "\tpadded_inputs = jnp.full((len(all_ids), len(all_inputs)), jnp.nan)\n",
    "\tpadded_outputs = jnp.full((len(all_ids), len(all_inputs)), jnp.nan)\n",
    "\tmasks = jnp.zeros((len(all_ids), len(all_inputs)), dtype=bool)\n",
    "\n",
    "\t# Fill padded inputs, padded outputs and masks\n",
    "\tindex_map = {x.item(): i for i, x in enumerate(all_inputs)}\n",
    "\tprev_id = \"\"\n",
    "\tid_index = -1\n",
    "\n",
    "\tfor row, _id, input, output in db.itertuples():\n",
    "\t\tif _id != prev_id:\n",
    "\t\t\tprev_id = _id\n",
    "\t\t\tid_index += 1\n",
    "\n",
    "\t\t#idx = jnp.searchsorted(all_inputs, input)\n",
    "\t\tpadded_inputs = padded_inputs.at[id_index, index_map[input]].set(input)\n",
    "\t\tpadded_outputs = padded_outputs.at[id_index, index_map[input]].set(output)\n",
    "\t\tmasks = masks.at[id_index, index_map[input]].set(True)\n",
    "\n",
    "\treturn all_inputs, padded_inputs, padded_outputs, masks"
   ],
   "id": "f8735bdf33e0e901",
   "outputs": [],
   "execution_count": 8
  },
  {
   "metadata": {},
   "cell_type": "markdown",
   "source": [
    "---\n",
    "## Comparison"
   ],
   "id": "e36d61be045a06"
  },
  {
   "metadata": {
    "ExecuteTime": {
     "end_time": "2025-05-21T08:17:45.109219Z",
     "start_time": "2025-05-21T08:09:30.626544Z"
    }
   },
   "cell_type": "code",
   "source": "all_inputs, padded_inputs, padded_outputs, masks = preprocess_db(db)",
   "id": "7f350e2e3f6d3a1b",
   "outputs": [],
   "execution_count": 9
  },
  {
   "metadata": {
    "ExecuteTime": {
     "end_time": "2025-05-21T08:25:48.694928Z",
     "start_time": "2025-05-21T08:17:45.337014Z"
    }
   },
   "cell_type": "code",
   "source": "all_inputs_new, padded_inputs_new, padded_outputs_new, masks_new = preprocess_db_new(db)",
   "id": "3713d5657c77b9e9",
   "outputs": [],
   "execution_count": 10
  },
  {
   "metadata": {
    "ExecuteTime": {
     "end_time": "2025-05-21T08:25:48.738450Z",
     "start_time": "2025-05-21T08:25:48.733117Z"
    }
   },
   "cell_type": "code",
   "source": "print(f\"{len(all_inputs)} distinct inputs, covering {len(all_inputs)/len(grid)*100:.2f}% of the grid\")",
   "id": "f0edd4a4348a9fa2",
   "outputs": [
    {
     "name": "stdout",
     "output_type": "stream",
     "text": [
      "4000 distinct inputs, covering 100.00% of the grid\n"
     ]
    }
   ],
   "execution_count": 11
  },
  {
   "metadata": {
    "ExecuteTime": {
     "end_time": "2025-05-21T08:25:48.989282Z",
     "start_time": "2025-05-21T08:25:48.785201Z"
    }
   },
   "cell_type": "code",
   "source": "jnp.allclose(all_inputs, all_inputs_new), jnp.allclose(padded_inputs, padded_inputs_new, equal_nan=True), jnp.allclose(padded_outputs, padded_outputs_new, equal_nan=True), jnp.allclose(masks, masks_new)",
   "id": "df2007807106b790",
   "outputs": [
    {
     "data": {
      "text/plain": [
       "(Array(True, dtype=bool),\n",
       " Array(True, dtype=bool),\n",
       " Array(True, dtype=bool),\n",
       " Array(True, dtype=bool))"
      ]
     },
     "execution_count": 12,
     "metadata": {},
     "output_type": "execute_result"
    }
   ],
   "execution_count": 12
  },
  {
   "metadata": {},
   "cell_type": "markdown",
   "source": [
    "---\n",
    "## Conclusion"
   ],
   "id": "58b33636cd2804e2"
  },
  {
   "metadata": {},
   "cell_type": "markdown",
   "source": "itertuple version is roughly 4-5x faster. Using a dictionnary rather than searchsorted doesn't change performance significantly.",
   "id": "adb050c4e2d82a27"
  },
  {
   "metadata": {},
   "cell_type": "markdown",
   "source": "---",
   "id": "f8c3848d90b614ac"
  }
 ],
 "metadata": {
  "kernelspec": {
   "display_name": "Python 3",
   "language": "python",
   "name": "python3"
  },
  "language_info": {
   "codemirror_mode": {
    "name": "ipython",
    "version": 2
   },
   "file_extension": ".py",
   "mimetype": "text/x-python",
   "name": "python",
   "nbconvert_exporter": "python",
   "pygments_lexer": "ipython2",
   "version": "2.7.6"
  }
 },
 "nbformat": 4,
 "nbformat_minor": 5
}
