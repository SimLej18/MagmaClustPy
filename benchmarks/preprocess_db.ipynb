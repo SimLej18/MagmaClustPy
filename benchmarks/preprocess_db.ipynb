{
 "cells": [
  {
   "metadata": {},
   "cell_type": "markdown",
   "source": [
    "# Benchmarks - Preprocess DB\n",
    "\n",
    "**Main considerations when implementing Preprocess DB**\n",
    "\n",
    "The goal of preprocess_db is to go from a pandas dataframe with columns \"Task_ID\", \"Input\", \"Input_ID\", \"Output\" and \"Output_ID\" to a set of tensors containing all inputs, padded inputs, padded outputs and mappings, that can be used throughout the MagmaClustPy library.\n",
    "\n",
    "Magma and MagmaClust both work on unaligned sequences of varying sizes.\n",
    "Yet, we want to be able to perform as many operations in a vectorisable and jittable way.\n",
    "\n",
    "This mean that we need to pad the sequences to the same length.\n",
    "The most straightforward way to do this is to align the sequences to the union of all distinct inputs, but this leads to a huge memory footprint and costly data movement in and out of the GPU.\n",
    "A better way is to pad the sequences to the maximum length among all task sequences, and use a mapping of indices when we need to align the inputs to the union of all inputs.\n",
    "\n",
    "As MagmaClust can handle multi-input tasks, we need multiple mappings, one for each input.\n",
    "The union of all inputs from a specific dimension will have a specific length, but once again we want to be able to store them in a single tensor.\n",
    "This means that even the grid of all_inputs must be padded to the maximum length across all dimensions of inputs."
   ],
   "id": "3169657593ef2b05"
  },
  {
   "metadata": {},
   "cell_type": "markdown",
   "source": [
    "---\n",
    "## Setup"
   ],
   "id": "7b65ff45bca2668a"
  },
  {
   "metadata": {
    "ExecuteTime": {
     "end_time": "2025-07-02T14:29:50.337072Z",
     "start_time": "2025-07-02T14:29:50.334390Z"
    }
   },
   "cell_type": "code",
   "source": "USE_X64 = False  # Set to True to use 64-bit precision, False for 32-bit precision",
   "id": "740329561c9669f2",
   "outputs": [],
   "execution_count": 1
  },
  {
   "metadata": {
    "ExecuteTime": {
     "end_time": "2025-07-02T14:29:50.435992Z",
     "start_time": "2025-07-02T14:29:50.434046Z"
    }
   },
   "cell_type": "code",
   "source": [
    "# Standard library\n",
    "import os\n",
    "\n",
    "# Config\n",
    "os.environ['JAX_ENABLE_X64'] = str(USE_X64).lower()"
   ],
   "id": "cb9dc5bf24ca0bfc",
   "outputs": [],
   "execution_count": 2
  },
  {
   "metadata": {
    "ExecuteTime": {
     "end_time": "2025-07-02T14:29:51.037118Z",
     "start_time": "2025-07-02T14:29:50.442585Z"
    }
   },
   "cell_type": "code",
   "source": [
    "# Third party\n",
    "import jax\n",
    "from jax import vmap, jit\n",
    "import jax.numpy as jnp\n",
    "import jax.random as jr\n",
    "\n",
    "import numpy as np\n",
    "import pandas as pd\n",
    "\n",
    "# Initialize random key\n",
    "key = jax.random.PRNGKey(42)"
   ],
   "id": "17394bcba5a0c15f",
   "outputs": [],
   "execution_count": 3
  },
  {
   "metadata": {
    "ExecuteTime": {
     "end_time": "2025-07-02T14:29:51.044695Z",
     "start_time": "2025-07-02T14:29:51.043320Z"
    }
   },
   "cell_type": "code",
   "source": "# Local\n",
   "id": "1d8411a9b05f7d1b",
   "outputs": [],
   "execution_count": 4
  },
  {
   "metadata": {
    "ExecuteTime": {
     "end_time": "2025-07-02T14:29:51.066580Z",
     "start_time": "2025-07-02T14:29:51.050632Z"
    }
   },
   "cell_type": "code",
   "source": [
    "# Set constants\n",
    "M = 2  # Number of tasks\n",
    "INPUTS_ID = [\"x\", \"y\", \"z\"]  # Each dimension of inputs\n",
    "MIN_N = 3  # Minimum inputs per task\n",
    "MAX_N = 5  # Maximum inputs per task\n",
    "OUTPUTS_ID = [\"a\", \"b\"]  # Each dimension of outputs\n",
    "GRIDS = [jnp.arange(-5., 5., 1.), jnp.arange(-1., 1., 0.5), jnp.arange(0., 2., 1)]  # Grid to pick inputs from, for each input dimension\n",
    "OUTPUT_RANGES = [(-5, 5), (-10, 10)]  # Ranges for outputs, for each output dimension"
   ],
   "id": "8fdfe2743b68b3bf",
   "outputs": [],
   "execution_count": 5
  },
  {
   "metadata": {},
   "cell_type": "markdown",
   "source": [
    "---\n",
    "## Data"
   ],
   "id": "9e456a3079c6f8e9"
  },
  {
   "metadata": {
    "ExecuteTime": {
     "end_time": "2025-07-02T14:29:51.077222Z",
     "start_time": "2025-07-02T14:29:51.073656Z"
    }
   },
   "cell_type": "code",
   "source": [
    "def generate_dummy_db(M: int, INPUTS_ID: [str], MIN_N: int, MAX_N: int, OUTPUTS_ID: [str], GRIDS: [jnp.array], drop_output_rate: float = 0., key: jnp.array = jax.random.PRNGKey(41)):\n",
    "\t\"\"\"\n",
    "\tGenerate a dummy database with random inputs and outputs, following the expected structure for MagmaClustPy.\n",
    "\n",
    "\t:param M: Number of tasks\n",
    "\t:param INPUTS_ID: List of input IDs, each representing a dimension of inputs\n",
    "\t:param MIN_N: Minimum number of inputs per task\n",
    "\t:param MAX_N: Maximum number of inputs per task\n",
    "\t:param OUTPUTS_ID: List of output IDs, each representing a dimension of outputs\n",
    "\t:param GRIDS: List of grids to pick inputs from, one for each input dimension\n",
    "\t:param drop_output_rate: Probability of dropping an output value. Default is 0, meaning no outputs are dropped.\n",
    "\t:param key: JAX random key for reproducibility\n",
    "\n",
    "\t:return: A pandas DataFrame with columns \"ID\", \"Input\", \"Input_ID\", \"Output\", \"Output_ID\"\n",
    "\t\"\"\"\n",
    "\tdata = []\n",
    "\n",
    "\tfor m in range(M):\n",
    "\t\tkey, subkey1, subkey2 = jr.split(key, 3)\n",
    "\n",
    "\t\tn_points = jr.randint(subkey1, (), MIN_N, MAX_N)  # This task's number of points\n",
    "\t\tinputs = [jr.choice(subkey2, grid, (n_points,), replace=g != 0) for g, grid in enumerate(GRIDS)]  # Randomly pick inputs from the grids\n",
    "\t\t# We set replace=False for the first grid, to ensure we have distinct inputs in at least one dimension.\n",
    "\n",
    "\t\tfor n in range(n_points):\n",
    "\t\t\tfor o, output_id in enumerate(OUTPUTS_ID):\n",
    "\t\t\t\tkey, subkey1, subkey2 = jr.split(key, 3)\n",
    "\n",
    "\t\t\t\tif jr.uniform(subkey1) < drop_output_rate:\n",
    "\t\t\t\t\t# Drop output value with a certain probability\n",
    "\t\t\t\t\tcontinue\n",
    "\n",
    "\t\t\t\toutput_val = jr.uniform(subkey2, (), jnp.float32, *OUTPUT_RANGES[o])\n",
    "\n",
    "\t\t\t\tfor i, input_id in enumerate(INPUTS_ID):\n",
    "\t\t\t\t\t\tdata.append({\n",
    "\t\t\t\t\t\t\t\"Task_ID\": m,\n",
    "\t\t\t\t\t\t\t\"Input\": inputs[i][n].item(),\n",
    "\t\t\t\t\t\t\t\"Input_ID\": input_id,\n",
    "\t\t\t\t\t\t\t\"Output\": output_val.item(),\n",
    "\t\t\t\t\t\t\t\"Output_ID\": output_id\n",
    "\t\t\t\t\t\t})\n",
    "\n",
    "\treturn pd.DataFrame(data)"
   ],
   "id": "4479d9ad50c33957",
   "outputs": [],
   "execution_count": 6
  },
  {
   "metadata": {
    "ExecuteTime": {
     "end_time": "2025-07-02T14:29:51.618351Z",
     "start_time": "2025-07-02T14:29:51.083783Z"
    }
   },
   "cell_type": "code",
   "source": [
    "db = generate_dummy_db(M, INPUTS_ID, MIN_N, MAX_N, OUTPUTS_ID, GRIDS, 0.15, key)\n",
    "db"
   ],
   "id": "b94e73cc71065744",
   "outputs": [
    {
     "data": {
      "text/plain": [
       "    Task_ID  Input Input_ID    Output Output_ID\n",
       "0         0    0.0        x -4.660727         a\n",
       "1         0   -0.5        y -4.660727         a\n",
       "2         0    1.0        z -4.660727         a\n",
       "3         0    0.0        x  2.210305         b\n",
       "4         0   -0.5        y  2.210305         b\n",
       "5         0    1.0        z  2.210305         b\n",
       "6         0    2.0        x -2.132901         a\n",
       "7         0   -0.5        y -2.132901         a\n",
       "8         0    1.0        z -2.132901         a\n",
       "9         0    2.0        x  0.641880         b\n",
       "10        0   -0.5        y  0.641880         b\n",
       "11        0    1.0        z  0.641880         b\n",
       "12        0   -5.0        x  3.073529         a\n",
       "13        0    0.5        y  3.073529         a\n",
       "14        0    1.0        z  3.073529         a\n",
       "15        0   -5.0        x  0.691686         b\n",
       "16        0    0.5        y  0.691686         b\n",
       "17        0    1.0        z  0.691686         b\n",
       "18        0   -4.0        x  4.421373         a\n",
       "19        0   -1.0        y  4.421373         a\n",
       "20        0    0.0        z  4.421373         a\n",
       "21        0   -4.0        x  3.004329         b\n",
       "22        0   -1.0        y  3.004329         b\n",
       "23        0    0.0        z  3.004329         b\n",
       "24        1   -5.0        x  9.247931         b\n",
       "25        1    0.0        y  9.247931         b\n",
       "26        1    0.0        z  9.247931         b\n",
       "27        1    0.0        x  4.972271         a\n",
       "28        1   -1.0        y  4.972271         a\n",
       "29        1    0.0        z  4.972271         a\n",
       "30        1    0.0        x -7.645895         b\n",
       "31        1   -1.0        y -7.645895         b\n",
       "32        1    0.0        z -7.645895         b\n",
       "33        1   -4.0        x  4.234164         a\n",
       "34        1    0.0        y  4.234164         a\n",
       "35        1    0.0        z  4.234164         a\n",
       "36        1   -4.0        x  7.660635         b\n",
       "37        1    0.0        y  7.660635         b\n",
       "38        1    0.0        z  7.660635         b"
      ],
      "text/html": [
       "<div>\n",
       "<style scoped>\n",
       "    .dataframe tbody tr th:only-of-type {\n",
       "        vertical-align: middle;\n",
       "    }\n",
       "\n",
       "    .dataframe tbody tr th {\n",
       "        vertical-align: top;\n",
       "    }\n",
       "\n",
       "    .dataframe thead th {\n",
       "        text-align: right;\n",
       "    }\n",
       "</style>\n",
       "<table border=\"1\" class=\"dataframe\">\n",
       "  <thead>\n",
       "    <tr style=\"text-align: right;\">\n",
       "      <th></th>\n",
       "      <th>Task_ID</th>\n",
       "      <th>Input</th>\n",
       "      <th>Input_ID</th>\n",
       "      <th>Output</th>\n",
       "      <th>Output_ID</th>\n",
       "    </tr>\n",
       "  </thead>\n",
       "  <tbody>\n",
       "    <tr>\n",
       "      <th>0</th>\n",
       "      <td>0</td>\n",
       "      <td>0.0</td>\n",
       "      <td>x</td>\n",
       "      <td>-4.660727</td>\n",
       "      <td>a</td>\n",
       "    </tr>\n",
       "    <tr>\n",
       "      <th>1</th>\n",
       "      <td>0</td>\n",
       "      <td>-0.5</td>\n",
       "      <td>y</td>\n",
       "      <td>-4.660727</td>\n",
       "      <td>a</td>\n",
       "    </tr>\n",
       "    <tr>\n",
       "      <th>2</th>\n",
       "      <td>0</td>\n",
       "      <td>1.0</td>\n",
       "      <td>z</td>\n",
       "      <td>-4.660727</td>\n",
       "      <td>a</td>\n",
       "    </tr>\n",
       "    <tr>\n",
       "      <th>3</th>\n",
       "      <td>0</td>\n",
       "      <td>0.0</td>\n",
       "      <td>x</td>\n",
       "      <td>2.210305</td>\n",
       "      <td>b</td>\n",
       "    </tr>\n",
       "    <tr>\n",
       "      <th>4</th>\n",
       "      <td>0</td>\n",
       "      <td>-0.5</td>\n",
       "      <td>y</td>\n",
       "      <td>2.210305</td>\n",
       "      <td>b</td>\n",
       "    </tr>\n",
       "    <tr>\n",
       "      <th>5</th>\n",
       "      <td>0</td>\n",
       "      <td>1.0</td>\n",
       "      <td>z</td>\n",
       "      <td>2.210305</td>\n",
       "      <td>b</td>\n",
       "    </tr>\n",
       "    <tr>\n",
       "      <th>6</th>\n",
       "      <td>0</td>\n",
       "      <td>2.0</td>\n",
       "      <td>x</td>\n",
       "      <td>-2.132901</td>\n",
       "      <td>a</td>\n",
       "    </tr>\n",
       "    <tr>\n",
       "      <th>7</th>\n",
       "      <td>0</td>\n",
       "      <td>-0.5</td>\n",
       "      <td>y</td>\n",
       "      <td>-2.132901</td>\n",
       "      <td>a</td>\n",
       "    </tr>\n",
       "    <tr>\n",
       "      <th>8</th>\n",
       "      <td>0</td>\n",
       "      <td>1.0</td>\n",
       "      <td>z</td>\n",
       "      <td>-2.132901</td>\n",
       "      <td>a</td>\n",
       "    </tr>\n",
       "    <tr>\n",
       "      <th>9</th>\n",
       "      <td>0</td>\n",
       "      <td>2.0</td>\n",
       "      <td>x</td>\n",
       "      <td>0.641880</td>\n",
       "      <td>b</td>\n",
       "    </tr>\n",
       "    <tr>\n",
       "      <th>10</th>\n",
       "      <td>0</td>\n",
       "      <td>-0.5</td>\n",
       "      <td>y</td>\n",
       "      <td>0.641880</td>\n",
       "      <td>b</td>\n",
       "    </tr>\n",
       "    <tr>\n",
       "      <th>11</th>\n",
       "      <td>0</td>\n",
       "      <td>1.0</td>\n",
       "      <td>z</td>\n",
       "      <td>0.641880</td>\n",
       "      <td>b</td>\n",
       "    </tr>\n",
       "    <tr>\n",
       "      <th>12</th>\n",
       "      <td>0</td>\n",
       "      <td>-5.0</td>\n",
       "      <td>x</td>\n",
       "      <td>3.073529</td>\n",
       "      <td>a</td>\n",
       "    </tr>\n",
       "    <tr>\n",
       "      <th>13</th>\n",
       "      <td>0</td>\n",
       "      <td>0.5</td>\n",
       "      <td>y</td>\n",
       "      <td>3.073529</td>\n",
       "      <td>a</td>\n",
       "    </tr>\n",
       "    <tr>\n",
       "      <th>14</th>\n",
       "      <td>0</td>\n",
       "      <td>1.0</td>\n",
       "      <td>z</td>\n",
       "      <td>3.073529</td>\n",
       "      <td>a</td>\n",
       "    </tr>\n",
       "    <tr>\n",
       "      <th>15</th>\n",
       "      <td>0</td>\n",
       "      <td>-5.0</td>\n",
       "      <td>x</td>\n",
       "      <td>0.691686</td>\n",
       "      <td>b</td>\n",
       "    </tr>\n",
       "    <tr>\n",
       "      <th>16</th>\n",
       "      <td>0</td>\n",
       "      <td>0.5</td>\n",
       "      <td>y</td>\n",
       "      <td>0.691686</td>\n",
       "      <td>b</td>\n",
       "    </tr>\n",
       "    <tr>\n",
       "      <th>17</th>\n",
       "      <td>0</td>\n",
       "      <td>1.0</td>\n",
       "      <td>z</td>\n",
       "      <td>0.691686</td>\n",
       "      <td>b</td>\n",
       "    </tr>\n",
       "    <tr>\n",
       "      <th>18</th>\n",
       "      <td>0</td>\n",
       "      <td>-4.0</td>\n",
       "      <td>x</td>\n",
       "      <td>4.421373</td>\n",
       "      <td>a</td>\n",
       "    </tr>\n",
       "    <tr>\n",
       "      <th>19</th>\n",
       "      <td>0</td>\n",
       "      <td>-1.0</td>\n",
       "      <td>y</td>\n",
       "      <td>4.421373</td>\n",
       "      <td>a</td>\n",
       "    </tr>\n",
       "    <tr>\n",
       "      <th>20</th>\n",
       "      <td>0</td>\n",
       "      <td>0.0</td>\n",
       "      <td>z</td>\n",
       "      <td>4.421373</td>\n",
       "      <td>a</td>\n",
       "    </tr>\n",
       "    <tr>\n",
       "      <th>21</th>\n",
       "      <td>0</td>\n",
       "      <td>-4.0</td>\n",
       "      <td>x</td>\n",
       "      <td>3.004329</td>\n",
       "      <td>b</td>\n",
       "    </tr>\n",
       "    <tr>\n",
       "      <th>22</th>\n",
       "      <td>0</td>\n",
       "      <td>-1.0</td>\n",
       "      <td>y</td>\n",
       "      <td>3.004329</td>\n",
       "      <td>b</td>\n",
       "    </tr>\n",
       "    <tr>\n",
       "      <th>23</th>\n",
       "      <td>0</td>\n",
       "      <td>0.0</td>\n",
       "      <td>z</td>\n",
       "      <td>3.004329</td>\n",
       "      <td>b</td>\n",
       "    </tr>\n",
       "    <tr>\n",
       "      <th>24</th>\n",
       "      <td>1</td>\n",
       "      <td>-5.0</td>\n",
       "      <td>x</td>\n",
       "      <td>9.247931</td>\n",
       "      <td>b</td>\n",
       "    </tr>\n",
       "    <tr>\n",
       "      <th>25</th>\n",
       "      <td>1</td>\n",
       "      <td>0.0</td>\n",
       "      <td>y</td>\n",
       "      <td>9.247931</td>\n",
       "      <td>b</td>\n",
       "    </tr>\n",
       "    <tr>\n",
       "      <th>26</th>\n",
       "      <td>1</td>\n",
       "      <td>0.0</td>\n",
       "      <td>z</td>\n",
       "      <td>9.247931</td>\n",
       "      <td>b</td>\n",
       "    </tr>\n",
       "    <tr>\n",
       "      <th>27</th>\n",
       "      <td>1</td>\n",
       "      <td>0.0</td>\n",
       "      <td>x</td>\n",
       "      <td>4.972271</td>\n",
       "      <td>a</td>\n",
       "    </tr>\n",
       "    <tr>\n",
       "      <th>28</th>\n",
       "      <td>1</td>\n",
       "      <td>-1.0</td>\n",
       "      <td>y</td>\n",
       "      <td>4.972271</td>\n",
       "      <td>a</td>\n",
       "    </tr>\n",
       "    <tr>\n",
       "      <th>29</th>\n",
       "      <td>1</td>\n",
       "      <td>0.0</td>\n",
       "      <td>z</td>\n",
       "      <td>4.972271</td>\n",
       "      <td>a</td>\n",
       "    </tr>\n",
       "    <tr>\n",
       "      <th>30</th>\n",
       "      <td>1</td>\n",
       "      <td>0.0</td>\n",
       "      <td>x</td>\n",
       "      <td>-7.645895</td>\n",
       "      <td>b</td>\n",
       "    </tr>\n",
       "    <tr>\n",
       "      <th>31</th>\n",
       "      <td>1</td>\n",
       "      <td>-1.0</td>\n",
       "      <td>y</td>\n",
       "      <td>-7.645895</td>\n",
       "      <td>b</td>\n",
       "    </tr>\n",
       "    <tr>\n",
       "      <th>32</th>\n",
       "      <td>1</td>\n",
       "      <td>0.0</td>\n",
       "      <td>z</td>\n",
       "      <td>-7.645895</td>\n",
       "      <td>b</td>\n",
       "    </tr>\n",
       "    <tr>\n",
       "      <th>33</th>\n",
       "      <td>1</td>\n",
       "      <td>-4.0</td>\n",
       "      <td>x</td>\n",
       "      <td>4.234164</td>\n",
       "      <td>a</td>\n",
       "    </tr>\n",
       "    <tr>\n",
       "      <th>34</th>\n",
       "      <td>1</td>\n",
       "      <td>0.0</td>\n",
       "      <td>y</td>\n",
       "      <td>4.234164</td>\n",
       "      <td>a</td>\n",
       "    </tr>\n",
       "    <tr>\n",
       "      <th>35</th>\n",
       "      <td>1</td>\n",
       "      <td>0.0</td>\n",
       "      <td>z</td>\n",
       "      <td>4.234164</td>\n",
       "      <td>a</td>\n",
       "    </tr>\n",
       "    <tr>\n",
       "      <th>36</th>\n",
       "      <td>1</td>\n",
       "      <td>-4.0</td>\n",
       "      <td>x</td>\n",
       "      <td>7.660635</td>\n",
       "      <td>b</td>\n",
       "    </tr>\n",
       "    <tr>\n",
       "      <th>37</th>\n",
       "      <td>1</td>\n",
       "      <td>0.0</td>\n",
       "      <td>y</td>\n",
       "      <td>7.660635</td>\n",
       "      <td>b</td>\n",
       "    </tr>\n",
       "    <tr>\n",
       "      <th>38</th>\n",
       "      <td>1</td>\n",
       "      <td>0.0</td>\n",
       "      <td>z</td>\n",
       "      <td>7.660635</td>\n",
       "      <td>b</td>\n",
       "    </tr>\n",
       "  </tbody>\n",
       "</table>\n",
       "</div>"
      ]
     },
     "execution_count": 7,
     "metadata": {},
     "output_type": "execute_result"
    }
   ],
   "execution_count": 7
  },
  {
   "metadata": {},
   "cell_type": "markdown",
   "source": [
    "---\n",
    "## Implementation"
   ],
   "id": "fc6f59bda2ecbaad"
  },
  {
   "metadata": {
    "ExecuteTime": {
     "end_time": "2025-07-02T14:29:51.652340Z",
     "start_time": "2025-07-02T14:29:51.650186Z"
    }
   },
   "cell_type": "code",
   "source": [
    "def extract_all_inputs(db: pd.DataFrame):\n",
    "\t\"\"\"\n",
    "\tExtract all distinct inputs from the database.\n",
    "\n",
    "\t:param db: The database to process, with columns \"Task_ID\", \"Input\", \"Input_ID\", \"Output\", \"Output_ID\"\n",
    "\t:return: A sorted array of all distinct inputs\n",
    "\t\"\"\"\n",
    "\tdb_sorted = db.sort_values(by=[\"Task_ID\", \"Output_ID\", \"Output\", \"Input_ID\"]).reset_index(drop=True)\n",
    "\n",
    "\tINPUT_DIM = len(db_sorted[\"Input_ID\"].unique())\n",
    "\n",
    "\ttriplets = jnp.stack([jnp.array(db_sorted[\"Input\"][i::INPUT_DIM]) for i in range(INPUT_DIM)])\n",
    "\n",
    "\treturn jnp.unique(triplets, axis=1).T"
   ],
   "id": "f318ed15c67bb1c7",
   "outputs": [],
   "execution_count": 8
  },
  {
   "metadata": {
    "ExecuteTime": {
     "end_time": "2025-07-02T14:30:25.162324Z",
     "start_time": "2025-07-02T14:30:25.077622Z"
    }
   },
   "cell_type": "code",
   "source": "db = pd.read_csv(\"../datasets/large_shared_input_shared_hp.csv\")",
   "id": "6b7cf025bebc291c",
   "outputs": [],
   "execution_count": 16
  },
  {
   "metadata": {
    "ExecuteTime": {
     "end_time": "2025-07-02T14:30:26.696127Z",
     "start_time": "2025-07-02T14:30:25.601170Z"
    }
   },
   "cell_type": "code",
   "source": "%timeit extract_all_inputs(db).block_until_ready()",
   "id": "74face5ec1bdea2b",
   "outputs": [
    {
     "name": "stdout",
     "output_type": "stream",
     "text": [
      "122 ms ± 5.88 ms per loop (mean ± std. dev. of 7 runs, 1 loop each)\n"
     ]
    }
   ],
   "execution_count": 17
  },
  {
   "metadata": {
    "ExecuteTime": {
     "end_time": "2025-07-02T14:30:26.764323Z",
     "start_time": "2025-07-02T14:30:26.762520Z"
    }
   },
   "cell_type": "code",
   "source": "from MagmaClustPy.utils import preprocess_db",
   "id": "70baf80a5991ebc0",
   "outputs": [],
   "execution_count": 18
  },
  {
   "metadata": {
    "ExecuteTime": {
     "end_time": "2025-07-02T14:38:21.839602Z",
     "start_time": "2025-07-02T14:30:26.779228Z"
    }
   },
   "cell_type": "code",
   "source": "%timeit preprocess_db(db)[0].block_until_ready()",
   "id": "63b5e19a22ae3a",
   "outputs": [
    {
     "name": "stdout",
     "output_type": "stream",
     "text": [
      "5.69 s ± 631 ms per loop (mean ± std. dev. of 7 runs, 10 loops each)\n"
     ]
    }
   ],
   "execution_count": 19
  },
  {
   "metadata": {
    "ExecuteTime": {
     "end_time": "2025-07-02T14:30:05.288876Z",
     "start_time": "2025-07-02T14:30:05.283916Z"
    }
   },
   "cell_type": "code",
   "source": [
    "@jit\n",
    "def extract_task_data(_id, values, all_inputs, to_fill):\n",
    "\t\"\"\"\n",
    "\tExtract data for a given task ID from the values array and return a row of padded inputs, padded outputs and index_mappings.\n",
    "\n",
    "\t:param _id:\n",
    "\t:param id_index:\n",
    "\t:param values:\n",
    "\t:param all_inputs:\n",
    "\t:return:\n",
    "\t\"\"\"\n",
    "\tinputs_i = jnp.where(values[:,0] == _id, values[:,1], jnp.nan)\n",
    "\toutputs_i = jnp.where(values[:,0] == _id, values[:,2], jnp.nan)\n",
    "\tmappings_i = jnp.searchsorted(all_inputs, inputs_i)\n",
    "\n",
    "\t# Compute index among the whole dataset\n",
    "\tidx_i = jnp.where(jnp.isnan(inputs_i), to_fill.shape[0] + 1, jnp.cumsum(~jnp.isnan(inputs_i)) - 1)\n",
    "\n",
    "\t# Create padded inputs and outputs\n",
    "\tpadded_input = jnp.full(to_fill.shape[0], jnp.nan).at[idx_i].set(inputs_i)\n",
    "\tpadded_output = jnp.full(to_fill.shape[0], jnp.nan).at[idx_i].set(outputs_i)\n",
    "\tindex_mappings = jnp.full(to_fill.shape[0], all_inputs.shape[0] + 1).at[idx_i].set(mappings_i).astype(int)\n",
    "\n",
    "\treturn padded_input, padded_output, index_mappings\n",
    "\n",
    "\n",
    "def preprocess_db(db: pd.DataFrame):\n",
    "\t\"\"\"\n",
    "\n",
    "\t:param db: the db to process, with columns \"ID\", \"Input\" and \"Output\", in that order\n",
    "\t:return: a tuple of (all_inputs, padded_inputs, padded_outputs, masks)\n",
    "\t   - all_inputs: a matrix of shape (P, ) with all distinct inputs\n",
    "\t   - padded_inputs: a matrix of shape (M, MAX_N) where M is the number of sequences and MAX_N is the max number of points among all sequences. Missing inputs for each sequence are represented as NaNs.\n",
    "\t   - padded_outputs: a matrix of shape (M, MAX_N) with corresponding output for each input and NaNs for missing inputs\n",
    "\t   - index_mappings: a matrix of shape (M, MAX_N) with indices of the inputs in the all_inputs array. Missing inputs for each sequence are represented as -1.\n",
    "\t\"\"\"\n",
    "\t# Get all distinct inputs\n",
    "\tdb_sorted = db.sort_values(['ID', 'Input'])\n",
    "\tall_ids = jnp.array(db_sorted[\"ID\"].unique())\n",
    "\tall_inputs = jnp.sort(jnp.array(db_sorted[\"Input\"].unique()))\n",
    "\tMAX_N = db_sorted.groupby(\"ID\")[\"Input\"].count().max()  # Maximum number of points in a sequence\n",
    "\tto_fill = jnp.full((MAX_N), jnp.nan)  # Placeholder for padded inputs and outputs\n",
    "\n",
    "\t# Initialise padded inputs, padded outputs and masks\n",
    "\tpadded_inputs, padded_outputs, index_mappings = vmap(extract_id_data, in_axes=(0, None, None, None))(all_ids,\n",
    "\t\t\t\t\t\t\t\t\t\t\t\t\t\t\t\t\t\t\t\t\t\t\t\t\t\t\t db_sorted[\n",
    "\t\t\t\t\t\t\t\t\t\t\t\t\t\t\t\t\t\t\t\t\t\t\t\t\t\t\t\t [\"ID\",\n",
    "\t\t\t\t\t\t\t\t\t\t\t\t\t\t\t\t\t\t\t\t\t\t\t\t\t\t\t\t  \"Input\",\n",
    "\t\t\t\t\t\t\t\t\t\t\t\t\t\t\t\t\t\t\t\t\t\t\t\t\t\t\t\t  \"Output\"]].values,\n",
    "\t\t\t\t\t\t\t\t\t\t\t\t\t\t\t\t\t\t\t\t\t\t\t\t\t\t\t all_inputs,\n",
    "\t\t\t\t\t\t\t\t\t\t\t\t\t\t\t\t\t\t\t\t\t\t\t\t\t\t\t to_fill)\n",
    "\n",
    "\treturn all_inputs, padded_inputs, padded_outputs, index_mappings\n"
   ],
   "id": "6c0128fd558881fa",
   "outputs": [],
   "execution_count": 13
  },
  {
   "metadata": {},
   "cell_type": "markdown",
   "source": [
    "---\n",
    "## Custom implementation(s)"
   ],
   "id": "aca844690354fcc8"
  },
  {
   "metadata": {},
   "cell_type": "markdown",
   "source": [
    "Defaults we wish to fix:\n",
    "\n",
    "For M individuals, each having between MIN_N and MAX_N observations over a grid of size G, we currently pad the inputs to the size of the union of all distinct inputs, named P. With a big M, P is likely to approach G, even though MAX_N is much smaller than G.\n",
    "\n",
    "Later in the process, this leads to inversion of huge padded matrices. As those matrices are padded with identity vectors, the inversion in itself is not made terribly worse. However, the memory footprint is much larger than it needs to be, and the movement of data in and out of the GPU is much more costly.\n",
    "\n",
    "Rather than \"aligning\" the inputs to the union of distinct inputs, we can just compute the indices of the inputs in the grid, and use those indices to map individual inputs/covariance matrices/precision matrices to the grid when needed. By filling indices whith nans for smaller sequences, we ensure they can still be processed in a vectorised way, while limiting the memory footprint to it's theoretical minimum.\n",
    "\n",
    "In this approach, we don't carry a mask arround, but only a mapping of indices to inputs in the distinct inputs grid. This mapping is used to compute the covariance matrices."
   ],
   "id": "dfd6141192b611cd"
  },
  {
   "metadata": {
    "ExecuteTime": {
     "end_time": "2025-07-02T14:30:05.310513Z",
     "start_time": "2025-07-02T14:30:05.306527Z"
    }
   },
   "cell_type": "code",
   "source": [
    "@jit\n",
    "def extract_id_data_new(_id, values, all_inputs, to_fill):\n",
    "\t\"\"\"\n",
    "\tExtract data for a given ID from the values array and return a row of padded inputs, padded outputs and index_mappings.\n",
    "\n",
    "\t:param _id:\n",
    "\t:param id_index:\n",
    "\t:param values:\n",
    "\t:param all_inputs:\n",
    "\t:return:\n",
    "\t\"\"\"\n",
    "\tinputs_i = jnp.where(values[:,0] == _id, values[:,1], jnp.nan)\n",
    "\toutputs_i = jnp.where(values[:,0] == _id, values[:,2], jnp.nan)\n",
    "\tmappings_i = jnp.searchsorted(all_inputs, inputs_i)\n",
    "\n",
    "\t# Compute index among the whole dataset\n",
    "\tidx_i = jnp.where(jnp.isnan(inputs_i), to_fill.shape[0] + 1, jnp.cumsum(~jnp.isnan(inputs_i)) - 1)\n",
    "\n",
    "\t# Create padded inputs and outputs\n",
    "\tpadded_input = jnp.full(to_fill.shape[0], jnp.nan).at[idx_i].set(inputs_i)\n",
    "\tpadded_output = jnp.full(to_fill.shape[0], jnp.nan).at[idx_i].set(outputs_i)\n",
    "\tindex_mappings = jnp.full(to_fill.shape[0], all_inputs.shape[0] + 1).at[idx_i].set(mappings_i).astype(int)\n",
    "\n",
    "\treturn padded_input, padded_output, index_mappings\n",
    "\n",
    "\n",
    "def preprocess_db_new(db: pd.DataFrame):\n",
    "\t\"\"\"\n",
    "\n",
    "\t:param db: the db to process, with columns \"ID\", \"Input\" and \"Output\", in that order\n",
    "\t:return: a tuple of (all_inputs, padded_inputs, padded_outputs, masks)\n",
    "\t   - all_inputs: a matrix of shape (P, ) with all distinct inputs\n",
    "\t   - padded_inputs: a matrix of shape (M, MAX_N) where M is the number of sequences and MAX_N is the max number of points among all sequences. Missing inputs for each sequence are represented as NaNs.\n",
    "\t   - padded_outputs: a matrix of shape (M, MAX_N) with corresponding output for each input and NaNs for missing inputs\n",
    "\t   - index_mappings: a matrix of shape (M, MAX_N) with indices of the inputs in the all_inputs array. Missing inputs for each sequence are represented as -1.\n",
    "\t\"\"\"\n",
    "\t# Get all distinct inputs\n",
    "\tdb_sorted = db.sort_values(['ID', 'Input'])\n",
    "\tall_ids = jnp.array(db_sorted[\"ID\"].unique())\n",
    "\tall_inputs = jnp.sort(jnp.array(db_sorted[\"Input\"].unique()))\n",
    "\tMAX_N = db_sorted.groupby(\"ID\")[\"Input\"].count().max()  # Maximum number of points in a sequence\n",
    "\tto_fill = jnp.full((MAX_N), jnp.nan)  # Placeholder for padded inputs and outputs\n",
    "\n",
    "\t# Initialise padded inputs, padded outputs and masks\n",
    "\tpadded_inputs, padded_outputs, index_mappings = vmap(extract_id_data_new, in_axes=(0, None, None, None))(all_ids,\n",
    "\t\t\t\t\t\t\t\t\t\t\t\t\t\t\t\t\t\t\t\t\t\t\t\t\t\t\t db_sorted[\n",
    "\t\t\t\t\t\t\t\t\t\t\t\t\t\t\t\t\t\t\t\t\t\t\t\t\t\t\t\t [\"ID\",\n",
    "\t\t\t\t\t\t\t\t\t\t\t\t\t\t\t\t\t\t\t\t\t\t\t\t\t\t\t\t  \"Input\",\n",
    "\t\t\t\t\t\t\t\t\t\t\t\t\t\t\t\t\t\t\t\t\t\t\t\t\t\t\t\t  \"Output\"]].values,\n",
    "\t\t\t\t\t\t\t\t\t\t\t\t\t\t\t\t\t\t\t\t\t\t\t\t\t\t\t all_inputs,\n",
    "\t\t\t\t\t\t\t\t\t\t\t\t\t\t\t\t\t\t\t\t\t\t\t\t\t\t\t to_fill)\n",
    "\n",
    "\treturn all_inputs, padded_inputs, padded_outputs, index_mappings"
   ],
   "id": "f8735bdf33e0e901",
   "outputs": [],
   "execution_count": 14
  },
  {
   "metadata": {},
   "cell_type": "markdown",
   "source": [
    "---\n",
    "## Comparison"
   ],
   "id": "e36d61be045a06"
  },
  {
   "metadata": {
    "ExecuteTime": {
     "end_time": "2025-07-02T14:30:05.383906Z",
     "start_time": "2025-07-02T14:30:05.321786Z"
    }
   },
   "cell_type": "code",
   "source": [
    "all_inputs, padded_inputs, padded_outputs, masks = preprocess_db(db)\n",
    "all_inputs.shape, padded_inputs.shape, padded_outputs.shape, masks.shape"
   ],
   "id": "7f350e2e3f6d3a1b",
   "outputs": [
    {
     "ename": "KeyError",
     "evalue": "'ID'",
     "output_type": "error",
     "traceback": [
      "\u001B[31m---------------------------------------------------------------------------\u001B[39m",
      "\u001B[31mKeyError\u001B[39m                                  Traceback (most recent call last)",
      "\u001B[32m/var/folders/93/wvvdyy810s1cvn67rnn9x0jh0000gn/T/ipykernel_8190/2181820368.py\u001B[39m in \u001B[36m?\u001B[39m\u001B[34m()\u001B[39m\n\u001B[32m----> \u001B[39m\u001B[32m1\u001B[39m all_inputs, padded_inputs, padded_outputs, masks = preprocess_db(db)\n\u001B[32m      2\u001B[39m all_inputs.shape, padded_inputs.shape, padded_outputs.shape, masks.shape\n",
      "\u001B[32m/var/folders/93/wvvdyy810s1cvn67rnn9x0jh0000gn/T/ipykernel_8190/3584157352.py\u001B[39m in \u001B[36m?\u001B[39m\u001B[34m(db)\u001B[39m\n\u001B[32m     34\u001B[39m            - padded_outputs: a matrix of shape (M, MAX_N) \u001B[38;5;28;01mwith\u001B[39;00m corresponding output \u001B[38;5;28;01mfor\u001B[39;00m each input \u001B[38;5;28;01mand\u001B[39;00m NaNs \u001B[38;5;28;01mfor\u001B[39;00m missing inputs\n\u001B[32m     35\u001B[39m            - index_mappings: a matrix of shape (M, MAX_N) \u001B[38;5;28;01mwith\u001B[39;00m indices of the inputs \u001B[38;5;28;01min\u001B[39;00m the all_inputs array. Missing inputs \u001B[38;5;28;01mfor\u001B[39;00m each sequence are represented \u001B[38;5;28;01mas\u001B[39;00m -\u001B[32m1.\u001B[39m\n\u001B[32m     36\u001B[39m \t\"\"\"\n\u001B[32m     37\u001B[39m         \u001B[38;5;66;03m# Get all distinct inputs\u001B[39;00m\n\u001B[32m---> \u001B[39m\u001B[32m38\u001B[39m         db_sorted = db.sort_values([\u001B[33m'ID'\u001B[39m, \u001B[33m'Input'\u001B[39m])\n\u001B[32m     39\u001B[39m         all_ids = jnp.array(db_sorted[\u001B[33m\"ID\"\u001B[39m].unique())\n\u001B[32m     40\u001B[39m         all_inputs = jnp.sort(jnp.array(db_sorted[\u001B[33m\"Input\"\u001B[39m].unique()))\n\u001B[32m     41\u001B[39m         MAX_N = db_sorted.groupby(\u001B[33m\"ID\"\u001B[39m)[\u001B[33m\"Input\"\u001B[39m].count().max()  \u001B[38;5;66;03m# Maximum number of points in a sequence\u001B[39;00m\n",
      "\u001B[32m/opt/anaconda3/envs/MagmaClustPy/lib/python3.12/site-packages/pandas/core/frame.py\u001B[39m in \u001B[36m?\u001B[39m\u001B[34m(self, by, axis, ascending, inplace, kind, na_position, ignore_index, key)\u001B[39m\n\u001B[32m   7175\u001B[39m                 f\"Length of ascending ({len(ascending)})\"  \u001B[38;5;66;03m# type: ignore[arg-type]\u001B[39;00m\n\u001B[32m   7176\u001B[39m                 f\" != length of by ({len(by)})\"\n\u001B[32m   7177\u001B[39m             )\n\u001B[32m   7178\u001B[39m         \u001B[38;5;28;01mif\u001B[39;00m len(by) > \u001B[32m1\u001B[39m:\n\u001B[32m-> \u001B[39m\u001B[32m7179\u001B[39m             keys = [self._get_label_or_level_values(x, axis=axis) \u001B[38;5;28;01mfor\u001B[39;00m x \u001B[38;5;28;01min\u001B[39;00m by]\n\u001B[32m   7180\u001B[39m \n\u001B[32m   7181\u001B[39m             \u001B[38;5;66;03m# need to rewrap columns in Series to apply key function\u001B[39;00m\n\u001B[32m   7182\u001B[39m             \u001B[38;5;28;01mif\u001B[39;00m key \u001B[38;5;28;01mis\u001B[39;00m \u001B[38;5;28;01mnot\u001B[39;00m \u001B[38;5;28;01mNone\u001B[39;00m:\n",
      "\u001B[32m/opt/anaconda3/envs/MagmaClustPy/lib/python3.12/site-packages/pandas/core/generic.py\u001B[39m in \u001B[36m?\u001B[39m\u001B[34m(self, key, axis)\u001B[39m\n\u001B[32m   1907\u001B[39m             values = self.xs(key, axis=other_axes[\u001B[32m0\u001B[39m])._values\n\u001B[32m   1908\u001B[39m         \u001B[38;5;28;01melif\u001B[39;00m self._is_level_reference(key, axis=axis):\n\u001B[32m   1909\u001B[39m             values = self.axes[axis].get_level_values(key)._values\n\u001B[32m   1910\u001B[39m         \u001B[38;5;28;01melse\u001B[39;00m:\n\u001B[32m-> \u001B[39m\u001B[32m1911\u001B[39m             \u001B[38;5;28;01mraise\u001B[39;00m KeyError(key)\n\u001B[32m   1912\u001B[39m \n\u001B[32m   1913\u001B[39m         \u001B[38;5;66;03m# Check for duplicates\u001B[39;00m\n\u001B[32m   1914\u001B[39m         \u001B[38;5;28;01mif\u001B[39;00m values.ndim > \u001B[32m1\u001B[39m:\n",
      "\u001B[31mKeyError\u001B[39m: 'ID'"
     ]
    }
   ],
   "execution_count": 15
  },
  {
   "metadata": {
    "ExecuteTime": {
     "end_time": "2025-07-02T14:30:05.390307Z",
     "start_time": "2025-07-02T09:12:33.491377Z"
    }
   },
   "cell_type": "code",
   "source": [
    "all_inputs_new, padded_inputs_new, padded_outputs_new, index_mappings_new = preprocess_db_new(db)\n",
    "all_inputs_new.shape, padded_inputs_new.shape, padded_outputs_new.shape, index_mappings_new.shape"
   ],
   "id": "3713d5657c77b9e9",
   "outputs": [
    {
     "data": {
      "text/plain": [
       "((21,), (2, 24), (2, 24), (2, 24))"
      ]
     },
     "execution_count": 11,
     "metadata": {},
     "output_type": "execute_result"
    }
   ],
   "execution_count": 11
  },
  {
   "metadata": {
    "ExecuteTime": {
     "end_time": "2025-07-02T14:30:05.394455Z",
     "start_time": "2025-07-02T09:12:33.622204Z"
    }
   },
   "cell_type": "code",
   "source": "print(f\"{len(all_inputs)} distinct inputs, covering {len(all_inputs) / len(grid) * 100:.2f}% of the grid\")",
   "id": "f0edd4a4348a9fa2",
   "outputs": [
    {
     "ename": "NameError",
     "evalue": "name 'grid' is not defined",
     "output_type": "error",
     "traceback": [
      "\u001B[31m---------------------------------------------------------------------------\u001B[39m",
      "\u001B[31mNameError\u001B[39m                                 Traceback (most recent call last)",
      "\u001B[36mCell\u001B[39m\u001B[36m \u001B[39m\u001B[32mIn[12]\u001B[39m\u001B[32m, line 1\u001B[39m\n\u001B[32m----> \u001B[39m\u001B[32m1\u001B[39m \u001B[38;5;28mprint\u001B[39m(\u001B[33mf\u001B[39m\u001B[33m\"\u001B[39m\u001B[38;5;132;01m{\u001B[39;00m\u001B[38;5;28mlen\u001B[39m(all_inputs)\u001B[38;5;132;01m}\u001B[39;00m\u001B[33m distinct inputs, covering \u001B[39m\u001B[38;5;132;01m{\u001B[39;00m\u001B[38;5;28mlen\u001B[39m(all_inputs)\u001B[38;5;250m \u001B[39m/\u001B[38;5;250m \u001B[39m\u001B[38;5;28mlen\u001B[39m(\u001B[43mgrid\u001B[49m)\u001B[38;5;250m \u001B[39m*\u001B[38;5;250m \u001B[39m\u001B[32m100\u001B[39m\u001B[38;5;132;01m:\u001B[39;00m\u001B[33m.2f\u001B[39m\u001B[38;5;132;01m}\u001B[39;00m\u001B[33m% of the grid\u001B[39m\u001B[33m\"\u001B[39m)\n",
      "\u001B[31mNameError\u001B[39m: name 'grid' is not defined"
     ]
    }
   ],
   "execution_count": 12
  },
  {
   "metadata": {
    "ExecuteTime": {
     "end_time": "2025-07-02T14:30:05.395012Z",
     "start_time": "2025-06-19T13:51:17.218367Z"
    }
   },
   "cell_type": "code",
   "source": "#jnp.allclose(all_inputs, all_inputs_new), jnp.allclose(padded_inputs, padded_inputs_new, equal_nan=True), jnp.allclose(padded_outputs, padded_outputs_new, equal_nan=True), jnp.allclose(masks, masks_new)",
   "id": "df2007807106b790",
   "outputs": [],
   "execution_count": 189
  },
  {
   "metadata": {},
   "cell_type": "markdown",
   "source": "",
   "id": "e7851b3f9041e892"
  },
  {
   "metadata": {},
   "cell_type": "markdown",
   "source": "## Performance comparison on dummy tasks",
   "id": "d861d5209304775f"
  },
  {
   "metadata": {},
   "cell_type": "markdown",
   "source": "### Covariance matrix computation",
   "id": "654da64f3d4dd69b"
  },
  {
   "metadata": {
    "ExecuteTime": {
     "end_time": "2025-07-02T14:30:05.395156Z",
     "start_time": "2025-06-19T13:51:17.234005Z"
    }
   },
   "cell_type": "code",
   "source": [
    "from Kernax import RBFKernel\n",
    "\n",
    "kern = RBFKernel(length_scale=jnp.array(0.3), variance=jnp.array(1.))"
   ],
   "id": "7ce3973744e48ec0",
   "outputs": [],
   "execution_count": 190
  },
  {
   "metadata": {
    "ExecuteTime": {
     "end_time": "2025-07-02T14:30:05.395286Z",
     "start_time": "2025-06-19T13:51:17.250135Z"
    }
   },
   "cell_type": "code",
   "source": "padded_inputs[0], padded_inputs_new[0], index_mappings_new[0]",
   "id": "88176ab9ec6b770e",
   "outputs": [
    {
     "data": {
      "text/plain": [
       "(Array([  nan,   nan,   nan,   nan, -496.,   nan,   nan,   nan,   nan,\n",
       "          nan,   nan,   nan,   nan,   nan,   nan,   nan,   nan,   nan,\n",
       "          nan,   nan,   nan,   nan,   nan,   nan,   nan,   nan,   nan,\n",
       "          nan,   nan,   nan,   nan,   nan, -468.,   nan,   nan,   nan,\n",
       "          nan,   nan, -462.,   nan,   nan,   nan,   nan,   nan,   nan,\n",
       "          nan,   nan,   nan,   nan,   nan,   nan,   nan,   nan,   nan,\n",
       "          nan,   nan,   nan,   nan,   nan, -441.,   nan,   nan,   nan,\n",
       "          nan,   nan, -435.,   nan,   nan,   nan,   nan,   nan,   nan,\n",
       "          nan,   nan,   nan,   nan,   nan,   nan,   nan,   nan,   nan,\n",
       "          nan,   nan, -417., -416.,   nan,   nan,   nan,   nan,   nan,\n",
       "          nan,   nan,   nan,   nan,   nan,   nan,   nan,   nan,   nan,\n",
       "          nan,   nan,   nan,   nan, -397.,   nan,   nan,   nan,   nan,\n",
       "          nan,   nan,   nan,   nan,   nan,   nan,   nan,   nan,   nan,\n",
       "          nan,   nan,   nan,   nan,   nan,   nan,   nan,   nan, -375.,\n",
       "          nan,   nan,   nan,   nan,   nan,   nan,   nan,   nan,   nan,\n",
       "          nan,   nan,   nan,   nan,   nan,   nan,   nan,   nan,   nan,\n",
       "          nan,   nan,   nan,   nan,   nan,   nan,   nan,   nan,   nan,\n",
       "          nan,   nan,   nan,   nan,   nan,   nan,   nan,   nan,   nan,\n",
       "          nan,   nan,   nan,   nan, -334.,   nan,   nan,   nan,   nan,\n",
       "        -329.,   nan,   nan,   nan,   nan,   nan,   nan,   nan,   nan,\n",
       "          nan,   nan,   nan,   nan,   nan,   nan,   nan,   nan,   nan,\n",
       "          nan,   nan,   nan,   nan,   nan, -306.,   nan,   nan,   nan,\n",
       "        -302., -301.,   nan,   nan,   nan,   nan,   nan,   nan,   nan,\n",
       "          nan,   nan,   nan,   nan,   nan,   nan,   nan,   nan,   nan,\n",
       "          nan,   nan,   nan,   nan,   nan,   nan,   nan, -277.,   nan,\n",
       "          nan, -274.,   nan,   nan,   nan,   nan, -269.,   nan,   nan,\n",
       "          nan,   nan,   nan,   nan,   nan,   nan,   nan,   nan,   nan,\n",
       "          nan,   nan,   nan,   nan,   nan,   nan,   nan,   nan,   nan,\n",
       "          nan,   nan,   nan,   nan,   nan,   nan,   nan,   nan,   nan,\n",
       "          nan,   nan,   nan,   nan,   nan, -234.,   nan,   nan,   nan,\n",
       "          nan, -229.,   nan,   nan,   nan,   nan,   nan,   nan,   nan,\n",
       "          nan,   nan,   nan,   nan,   nan,   nan,   nan,   nan,   nan,\n",
       "          nan,   nan,   nan,   nan,   nan,   nan,   nan,   nan,   nan,\n",
       "          nan,   nan,   nan,   nan,   nan,   nan,   nan,   nan,   nan,\n",
       "          nan,   nan,   nan,   nan,   nan,   nan,   nan,   nan,   nan,\n",
       "          nan,   nan,   nan,   nan, -181.,   nan,   nan,   nan,   nan,\n",
       "          nan,   nan,   nan, -173., -172.,   nan,   nan,   nan,   nan,\n",
       "          nan,   nan,   nan,   nan,   nan,   nan,   nan, -160.,   nan,\n",
       "          nan,   nan,   nan,   nan,   nan,   nan,   nan,   nan,   nan,\n",
       "          nan,   nan,   nan,   nan,   nan,   nan,   nan, -142., -141.,\n",
       "          nan,   nan,   nan,   nan,   nan,   nan, -134.,   nan,   nan,\n",
       "          nan,   nan,   nan,   nan,   nan, -126.,   nan,   nan,   nan,\n",
       "          nan,   nan,   nan,   nan,   nan,   nan,   nan,   nan,   nan,\n",
       "        -113.,   nan,   nan,   nan,   nan,   nan,   nan,   nan,   nan,\n",
       "          nan,   nan,   nan,   nan,   nan,   nan,   nan,   nan,   nan,\n",
       "          nan,   nan,   nan,   nan,   nan,  -90.,   nan,   nan,   nan,\n",
       "          nan,   nan,   nan,   nan,   nan,   nan,   nan,   nan,   nan,\n",
       "          nan,   nan,   nan,   nan,   nan,   nan,   nan,   nan,   nan,\n",
       "          nan,   nan,   nan,   nan,   nan,   nan,  -62.,   nan,   nan,\n",
       "          nan,  -58.,  -57.,   nan,  -55.,   nan,   nan,   nan,   nan,\n",
       "          nan,  -49.,   nan,   nan,   nan,   nan,   nan,   nan,   nan,\n",
       "          nan,   nan,   nan,   nan,   nan,   nan,   nan,   nan,   nan,\n",
       "         -32.,   nan,   nan,   nan,   nan,   nan,   nan,   nan,   nan,\n",
       "          nan,  -22.,   nan,   nan,   nan,   nan,   nan,   nan,   nan,\n",
       "          nan,   nan,   nan,   nan,  -10.,   nan,   nan,   nan,   nan,\n",
       "          nan,   nan,   nan,   nan,   nan,   nan,   nan,   nan,   nan,\n",
       "          nan,   nan,   nan,   nan,   nan,   nan,   nan,   nan,   nan,\n",
       "          nan,   nan,   nan,   nan,   nan,   nan,   nan,   nan,   nan,\n",
       "          nan,   nan,   nan,   25.,   nan,   nan,   nan,   nan,   nan,\n",
       "          nan,   nan,   nan,   nan,   nan,   nan,   nan,   nan,   nan,\n",
       "          nan,   nan,   nan,   nan,   nan,   nan,   nan,   nan,   nan,\n",
       "          nan,   nan,   nan,   nan,   nan,   54.,   nan,   nan,   nan,\n",
       "          nan,   nan,   nan,   nan,   nan,   nan,   nan,   nan,   nan,\n",
       "          nan,   nan,   nan,   nan,   nan,   nan,   nan,   nan,   75.,\n",
       "          nan,   77.,   nan,   nan,   nan,   nan,   nan,   nan,   nan,\n",
       "          nan,   nan,   nan,   nan,   nan,   nan,   nan,   nan,   nan,\n",
       "          nan,   nan,   96.,   97.,   nan,   nan,   nan,   nan,   nan,\n",
       "          nan,   nan,   nan,   nan,   nan,   nan,   nan,   nan,   nan,\n",
       "          nan,   nan,   nan,   nan,   nan,   nan,   nan,   nan,  120.,\n",
       "          nan,   nan,   nan,   nan,   nan,   nan,   nan,   nan,   nan,\n",
       "          nan,   nan,   nan,   nan,   nan,   nan,  136.,   nan,   nan,\n",
       "          nan,   nan,   nan,   nan,   nan,   nan,   nan,   nan,   nan,\n",
       "          nan,  149.,   nan,   nan,   nan,   nan,   nan,   nan,   nan,\n",
       "          nan,  158.,   nan,   nan,   nan,   nan,   nan,   nan,   nan,\n",
       "          nan,   nan,   nan,   nan,   nan,   nan,   nan,   nan,   nan,\n",
       "          nan,   nan,   nan,   nan,   nan,   nan,   nan,   nan,   nan,\n",
       "          nan,   nan,   nan,   nan,   nan,   nan,   nan,   nan,   nan,\n",
       "          nan,   nan,   nan,  196.,  197.,   nan,   nan,   nan,   nan,\n",
       "          nan,   nan,   nan,   nan,   nan,   nan,   nan,   nan,   nan,\n",
       "          nan,   nan,  213.,   nan,   nan,   nan,   nan,  218.,   nan,\n",
       "          nan,   nan,   nan,   nan,   nan,  225.,   nan,   nan,   nan,\n",
       "          nan,   nan,   nan,   nan,  233.,   nan,   nan,   nan,   nan,\n",
       "          nan,   nan,   nan,   nan,   nan,   nan,   nan,   nan,   nan,\n",
       "          nan,   nan,   nan,   nan,   nan,   nan,  253.,  254.,   nan,\n",
       "          nan,   nan,   nan,   nan,   nan,   nan,  262.,   nan,   nan,\n",
       "          nan,   nan,   nan,   nan,   nan,   nan,   nan,   nan,   nan,\n",
       "          nan,   nan,   nan,   nan,   nan,   nan,   nan,   nan,   nan,\n",
       "          nan,   nan,   nan,   nan,   nan,   nan,   nan,   nan,   nan,\n",
       "          nan,   nan,   nan,   nan,   nan,   nan,   nan,   nan,   nan,\n",
       "          nan,   nan,   nan,   nan,   nan,   nan,   nan,   nan,   nan,\n",
       "         310.,   nan,   nan,   nan,   nan,   nan,   nan,   nan,   nan,\n",
       "          nan,  320.,   nan,   nan,   nan,   nan,   nan,   nan,   nan,\n",
       "          nan,   nan,   nan,   nan,   nan,   nan,   nan,   nan,   nan,\n",
       "          nan,   nan,   nan,  340.,   nan,   nan,  343.,   nan,   nan,\n",
       "          nan,   nan,   nan,   nan,   nan,   nan,   nan,   nan,   nan,\n",
       "          nan,   nan,   nan,   nan,   nan,   nan,   nan,   nan,   nan,\n",
       "          nan,   nan,   nan,   nan,   nan,   nan,   nan,   nan,   nan,\n",
       "          nan,   nan,   nan,   nan,   nan,   nan,   nan,   nan,   nan,\n",
       "          nan,   nan,   nan,   nan,   nan,   nan,  388.,   nan,   nan,\n",
       "          nan,   nan,   nan,   nan,   nan,   nan,   nan,   nan,   nan,\n",
       "          nan,   nan,   nan,   nan,   nan,   nan,   nan,   nan,   nan,\n",
       "          nan,   nan,  411.,   nan,   nan,   nan,   nan,   nan,   nan,\n",
       "          nan,   nan,   nan,   nan,   nan,   nan,   nan,   nan,   nan,\n",
       "          nan,   nan,   nan,   nan,   nan,   nan,   nan,   nan,   nan,\n",
       "          nan,   nan,   nan,   nan,   nan,   nan,   nan,   nan,   nan,\n",
       "          nan,   nan,   nan,   nan,   nan,   nan,   nan,   nan,   nan,\n",
       "          nan,   nan,   nan,   nan,   nan,   nan,   nan,   nan,   nan,\n",
       "          nan,   nan,   nan,   nan,   nan,   nan,   nan,   nan,   nan,\n",
       "          nan,   nan,   nan,   nan,   nan,   nan,   nan,  479.,   nan,\n",
       "          nan,   nan,   nan,   nan,   nan,   nan,   nan,   nan,  489.,\n",
       "          nan,   nan,   nan,   nan,   nan,   nan,   nan,   nan,  498.,\n",
       "          nan], dtype=float32, weak_type=True),\n",
       " Array([-496., -468., -462., -441., -435., -417., -416., -397., -375.,\n",
       "        -334., -329., -306., -302., -301., -277., -274., -269., -234.,\n",
       "        -229., -181., -173., -172., -160., -142., -141., -134., -126.,\n",
       "        -113.,  -90.,  -62.,  -58.,  -57.,  -55.,  -49.,  -32.,  -22.,\n",
       "         -10.,   25.,   54.,   75.,   77.,   96.,   97.,  120.,  136.,\n",
       "         149.,  158.,  196.,  197.,  213.,  218.,  225.,  233.,  253.,\n",
       "         254.,  262.,  310.,  320.,  340.,  343.,  388.,  411.,  479.,\n",
       "         489.,  498.,   nan,   nan,   nan,   nan,   nan,   nan,   nan,\n",
       "          nan,   nan,   nan,   nan,   nan,   nan,   nan,   nan,   nan,\n",
       "          nan,   nan,   nan,   nan,   nan,   nan,   nan,   nan,   nan,\n",
       "          nan,   nan,   nan,   nan,   nan,   nan,   nan,   nan,   nan],      dtype=float32, weak_type=True),\n",
       " Array([   4,   32,   38,   59,   65,   83,   84,  103,  125,  166,  171,\n",
       "         194,  198,  199,  223,  226,  231,  266,  271,  319,  327,  328,\n",
       "         340,  358,  359,  366,  374,  387,  410,  438,  442,  443,  445,\n",
       "         451,  468,  478,  490,  525,  554,  575,  577,  596,  597,  620,\n",
       "         636,  649,  658,  696,  697,  713,  718,  725,  733,  753,  754,\n",
       "         762,  810,  820,  840,  843,  888,  911,  979,  989,  998, 1001,\n",
       "        1001, 1001, 1001, 1001, 1001, 1001, 1001, 1001, 1001, 1001, 1001,\n",
       "        1001, 1001, 1001, 1001, 1001, 1001, 1001, 1001, 1001, 1001, 1001,\n",
       "        1001, 1001, 1001, 1001, 1001, 1001, 1001, 1001, 1001, 1001, 1001],      dtype=int32))"
      ]
     },
     "execution_count": 191,
     "metadata": {},
     "output_type": "execute_result"
    }
   ],
   "execution_count": 191
  },
  {
   "metadata": {
    "ExecuteTime": {
     "end_time": "2025-07-02T14:30:05.395565Z",
     "start_time": "2025-06-19T13:51:17.271713Z"
    }
   },
   "cell_type": "code",
   "source": [
    "@jit\n",
    "def map_to_full_cov(dense_cov, all_inputs, mapping):\n",
    "\t# return jnp.full((len(all_inputs), len(all_inputs)), jnp.nan).at[tuple(jnp.meshgrid(mapping, mapping))].set(dense_cov)\n",
    "\treturn jnp.full((len(all_inputs), len(all_inputs)), jnp.nan).at[jnp.ix_(mapping, mapping)].set(dense_cov)"
   ],
   "id": "1e60e709debe86",
   "outputs": [],
   "execution_count": 192
  },
  {
   "metadata": {
    "ExecuteTime": {
     "end_time": "2025-07-02T14:30:05.395694Z",
     "start_time": "2025-06-19T13:51:17.286950Z"
    }
   },
   "cell_type": "code",
   "source": [
    "@jit\n",
    "def map_to_full_batch(dense_covs, all_inputs, mappings):\n",
    "    return vmap(map_to_full_cov, in_axes=(0, None, 0))(dense_covs, all_inputs, mappings)"
   ],
   "id": "a697fe2c5d388c2d",
   "outputs": [],
   "execution_count": 193
  },
  {
   "metadata": {
    "ExecuteTime": {
     "end_time": "2025-07-02T14:30:05.395853Z",
     "start_time": "2025-06-19T13:51:17.303124Z"
    }
   },
   "cell_type": "code",
   "source": [
    "# On single input\n",
    "np.asarray(kern(padded_inputs[0]))"
   ],
   "id": "ce9c541fd82931b1",
   "outputs": [
    {
     "data": {
      "text/plain": [
       "array([[nan, nan, nan, ..., nan, nan, nan],\n",
       "       [nan, nan, nan, ..., nan, nan, nan],\n",
       "       [nan, nan, nan, ..., nan, nan, nan],\n",
       "       ...,\n",
       "       [nan, nan, nan, ..., nan, nan, nan],\n",
       "       [nan, nan, nan, ..., nan,  1., nan],\n",
       "       [nan, nan, nan, ..., nan, nan, nan]], dtype=float32)"
      ]
     },
     "execution_count": 194,
     "metadata": {},
     "output_type": "execute_result"
    }
   ],
   "execution_count": 194
  },
  {
   "metadata": {
    "ExecuteTime": {
     "end_time": "2025-07-02T14:30:05.396106Z",
     "start_time": "2025-06-19T13:51:17.347549Z"
    }
   },
   "cell_type": "code",
   "source": "np.asarray(map_to_full_cov(kern(padded_inputs_new[0]), all_inputs, index_mappings_new[0]))",
   "id": "17f4e3177a55e9e3",
   "outputs": [
    {
     "data": {
      "text/plain": [
       "array([[nan, nan, nan, ..., nan, nan, nan],\n",
       "       [nan, nan, nan, ..., nan, nan, nan],\n",
       "       [nan, nan, nan, ..., nan, nan, nan],\n",
       "       ...,\n",
       "       [nan, nan, nan, ..., nan, nan, nan],\n",
       "       [nan, nan, nan, ..., nan,  1., nan],\n",
       "       [nan, nan, nan, ..., nan, nan, nan]], dtype=float32)"
      ]
     },
     "execution_count": 195,
     "metadata": {},
     "output_type": "execute_result"
    }
   ],
   "execution_count": 195
  },
  {
   "metadata": {
    "ExecuteTime": {
     "end_time": "2025-07-02T14:30:05.396549Z",
     "start_time": "2025-06-19T13:51:17.519331Z"
    }
   },
   "cell_type": "code",
   "source": "jnp.allclose(kern(padded_inputs[0]), map_to_full_cov(kern(padded_inputs_new[0]), all_inputs, index_mappings_new[0]), equal_nan=True)",
   "id": "a3cda181997d9435",
   "outputs": [
    {
     "data": {
      "text/plain": [
       "Array(True, dtype=bool)"
      ]
     },
     "execution_count": 196,
     "metadata": {},
     "output_type": "execute_result"
    }
   ],
   "execution_count": 196
  },
  {
   "metadata": {
    "ExecuteTime": {
     "end_time": "2025-07-02T14:30:05.396798Z",
     "start_time": "2025-06-19T13:51:17.658336Z"
    }
   },
   "cell_type": "code",
   "source": "%timeit kern(padded_inputs[0]).block_until_ready()",
   "id": "99b582cdb58d986a",
   "outputs": [
    {
     "name": "stdout",
     "output_type": "stream",
     "text": [
      "276 μs ± 12.8 μs per loop (mean ± std. dev. of 7 runs, 1,000 loops each)\n"
     ]
    }
   ],
   "execution_count": 197
  },
  {
   "metadata": {
    "ExecuteTime": {
     "end_time": "2025-07-02T14:30:05.396984Z",
     "start_time": "2025-06-19T13:51:19.949770Z"
    }
   },
   "cell_type": "code",
   "source": "%timeit map_to_full_cov(kern(padded_inputs_new[0]), all_inputs, index_mappings_new[0]).block_until_ready()",
   "id": "399bb3e6664213a1",
   "outputs": [
    {
     "name": "stdout",
     "output_type": "stream",
     "text": [
      "361 μs ± 13 μs per loop (mean ± std. dev. of 7 runs, 1,000 loops each)\n"
     ]
    }
   ],
   "execution_count": 198
  },
  {
   "metadata": {
    "ExecuteTime": {
     "end_time": "2025-07-02T14:30:05.397130Z",
     "start_time": "2025-06-19T13:51:22.953190Z"
    }
   },
   "cell_type": "code",
   "source": "a = kern(padded_inputs).block_until_ready()",
   "id": "c0d671a58d1ebd8a",
   "outputs": [],
   "execution_count": 199
  },
  {
   "metadata": {
    "ExecuteTime": {
     "end_time": "2025-07-02T14:30:05.397244Z",
     "start_time": "2025-06-19T13:51:23.233805Z"
    }
   },
   "cell_type": "code",
   "source": "b = map_to_full_batch(kern(padded_inputs_new), all_inputs, index_mappings_new).block_until_ready()",
   "id": "8024476cde0c8f59",
   "outputs": [],
   "execution_count": 200
  },
  {
   "metadata": {
    "ExecuteTime": {
     "end_time": "2025-07-02T14:30:05.397353Z",
     "start_time": "2025-06-19T13:51:23.621958Z"
    }
   },
   "cell_type": "code",
   "source": "jnp.allclose(a, b, equal_nan=True)",
   "id": "66099c2b7ac21896",
   "outputs": [
    {
     "data": {
      "text/plain": [
       "Array(True, dtype=bool)"
      ]
     },
     "execution_count": 201,
     "metadata": {},
     "output_type": "execute_result"
    }
   ],
   "execution_count": 201
  },
  {
   "metadata": {
    "ExecuteTime": {
     "end_time": "2025-07-02T14:30:05.397499Z",
     "start_time": "2025-06-19T13:51:24.636189Z"
    }
   },
   "cell_type": "code",
   "source": "%timeit kern(padded_inputs).block_until_ready()",
   "id": "5bd49ace6d0da8f4",
   "outputs": [
    {
     "name": "stdout",
     "output_type": "stream",
     "text": [
      "92.9 ms ± 23.2 ms per loop (mean ± std. dev. of 7 runs, 1 loop each)\n"
     ]
    }
   ],
   "execution_count": 202
  },
  {
   "metadata": {
    "ExecuteTime": {
     "end_time": "2025-07-02T14:30:05.397611Z",
     "start_time": "2025-06-19T13:51:25.531756Z"
    }
   },
   "cell_type": "code",
   "source": "%timeit map_to_full_batch(kern(padded_inputs_new), all_inputs, index_mappings_new).block_until_ready()",
   "id": "f1ba452d855f457c",
   "outputs": [
    {
     "name": "stdout",
     "output_type": "stream",
     "text": [
      "160 ms ± 5.88 ms per loop (mean ± std. dev. of 7 runs, 10 loops each)\n"
     ]
    }
   ],
   "execution_count": 203
  },
  {
   "metadata": {},
   "cell_type": "markdown",
   "source": "### Sum of invs",
   "id": "a5c08274d94af762"
  },
  {
   "metadata": {
    "ExecuteTime": {
     "end_time": "2025-07-02T14:30:05.397729Z",
     "start_time": "2025-06-19T13:51:38.274915Z"
    }
   },
   "cell_type": "code",
   "source": "from jax.scipy.linalg import cho_factor, cho_solve",
   "id": "2efe142c8ab04daf",
   "outputs": [],
   "execution_count": 204
  },
  {
   "metadata": {
    "ExecuteTime": {
     "end_time": "2025-07-02T14:30:05.397885Z",
     "start_time": "2025-06-19T13:51:38.307139Z"
    }
   },
   "cell_type": "code",
   "source": [
    "@jit\n",
    "def full_pad_sum_of_inv(inputs, masks, all_inputs, kernel):\n",
    "\t\"\"\"\n",
    "\tcompute the sum of inverses of all cross-covariance matrices for each input in inputs.\n",
    "\tIt uses a full padding approach, where the inputs are padded to the size of all_inputs and aligned.\n",
    "\tmasks gives indices where the inputs are valid (True) or padded (False).\n",
    "\n",
    "\t:param inputs:\n",
    "\t:param masks:\n",
    "\t:param all_inputs:\n",
    "\t:param kernel:\n",
    "\t:return:\n",
    "\t\"\"\"\n",
    "\tnugget = 1e-8  # Small value to ensure numerical stability\n",
    "\tcovs = kernel(inputs)\n",
    "\n",
    "\tsmall_eye = jnp.broadcast_to(jnp.eye(covs.shape[-1]), covs.shape)\n",
    "\n",
    "\t# covs is padded with NaNs. Replace them by their corresponding identity rows/cols\n",
    "\tmasks_2D = masks[:, :, None] & masks[:, None, :]\n",
    "\tcovs = jnp.where(masks_2D, covs, small_eye)\n",
    "\n",
    "\tcovs_U, _ = cho_factor(covs + small_eye * nugget)\n",
    "\tcovs_inv = cho_solve((covs_U, False), small_eye)\n",
    "\tcovs_inv -= jnp.where(masks_2D, 0, small_eye)  # Correction on the diagonal\n",
    "\treturn covs_inv.sum(axis=0)"
   ],
   "id": "be883cb5cc43cf6e",
   "outputs": [],
   "execution_count": 205
  },
  {
   "metadata": {
    "ExecuteTime": {
     "end_time": "2025-07-02T14:30:05.398838Z",
     "start_time": "2025-06-19T13:51:38.329186Z"
    }
   },
   "cell_type": "code",
   "source": [
    "@jit\n",
    "def dense_pad_sum_of_inv(inputs, mappings, all_inputs, kernel):\n",
    "\t\"\"\"\n",
    "\tcompute the sum of inverses of all cross-covariance matrices for each input in inputs.\n",
    "\tIt uses a dense padding approach, where the inputs are padded to the size of MAX_N and not aligned. Their positions in the all_inputs array are given by mappings.\n",
    "\n",
    "\t:param inputs:\n",
    "\t:param mappings:\n",
    "\t:param all_inputs:\n",
    "\t:param kernel:\n",
    "\t:return:\n",
    "\t\"\"\"\n",
    "\tnugget = 1e-8  # Small value to ensure numerical stability\n",
    "\tcovs = kernel(inputs)\n",
    "\n",
    "\tsmall_eye = jnp.broadcast_to(jnp.eye(covs.shape[-1]), covs.shape)\n",
    "\n",
    "\t# Some covs may still end with a few NaNs, so we replace them by their corresponding identity rows/cols\n",
    "\teyed_covs = jnp.where(jnp.isnan(covs), small_eye, covs)\n",
    "\n",
    "\tcovs_U, _ = cho_factor(eyed_covs + small_eye * nugget)\n",
    "\tcovs_inv = cho_solve((covs_U, False), small_eye)\n",
    "\tcovs_inv -= jnp.where(jnp.isnan(covs), small_eye, 0)  # Correction on the diagonal\n",
    "\n",
    "\t# Now we need to map the covs_inv to the all_inputs array\n",
    "\treturn jnp.nan_to_num(map_to_full_batch(covs_inv, all_inputs, mappings)).sum(axis=0)"
   ],
   "id": "86504666de43cec7",
   "outputs": [],
   "execution_count": 206
  },
  {
   "metadata": {
    "ExecuteTime": {
     "end_time": "2025-07-02T14:30:05.400339Z",
     "start_time": "2025-06-19T13:51:38.346637Z"
    }
   },
   "cell_type": "code",
   "source": "a = full_pad_sum_of_inv(padded_inputs, masks, all_inputs, kern)",
   "id": "5becbbae00b92369",
   "outputs": [],
   "execution_count": 207
  },
  {
   "metadata": {
    "ExecuteTime": {
     "end_time": "2025-07-02T14:30:05.401505Z",
     "start_time": "2025-06-19T13:51:44.252143Z"
    }
   },
   "cell_type": "code",
   "source": "b = dense_pad_sum_of_inv(padded_inputs_new, index_mappings_new, all_inputs, kern)",
   "id": "306661bd098cc0f9",
   "outputs": [],
   "execution_count": 208
  },
  {
   "metadata": {
    "ExecuteTime": {
     "end_time": "2025-07-02T14:30:05.401711Z",
     "start_time": "2025-06-19T13:53:39.826588Z"
    }
   },
   "cell_type": "code",
   "source": "jnp.allclose(a, b, equal_nan=True, atol=1e-6)",
   "id": "d86bee5056fd5d63",
   "outputs": [
    {
     "data": {
      "text/plain": [
       "Array(True, dtype=bool)"
      ]
     },
     "execution_count": 213,
     "metadata": {},
     "output_type": "execute_result"
    }
   ],
   "execution_count": 213
  },
  {
   "metadata": {
    "ExecuteTime": {
     "end_time": "2025-07-02T14:30:05.401862Z",
     "start_time": "2025-06-19T13:51:44.698870Z"
    }
   },
   "cell_type": "code",
   "source": "%timeit full_pad_sum_of_inv(padded_inputs, masks, all_inputs, kern).block_until_ready()",
   "id": "5e516fdd819a11a8",
   "outputs": [
    {
     "name": "stdout",
     "output_type": "stream",
     "text": [
      "4.28 s ± 32 ms per loop (mean ± std. dev. of 7 runs, 1 loop each)\n"
     ]
    }
   ],
   "execution_count": 210
  },
  {
   "metadata": {
    "ExecuteTime": {
     "end_time": "2025-07-02T14:30:05.402005Z",
     "start_time": "2025-06-19T13:52:19.496922Z"
    }
   },
   "cell_type": "code",
   "source": "%timeit dense_pad_sum_of_inv(padded_inputs_new, index_mappings_new, all_inputs, kern).block_until_ready()",
   "id": "fa10b290263f2766",
   "outputs": [
    {
     "name": "stdout",
     "output_type": "stream",
     "text": [
      "256 ms ± 5.3 ms per loop (mean ± std. dev. of 7 runs, 1 loop each)\n"
     ]
    }
   ],
   "execution_count": 211
  }
 ],
 "metadata": {
  "kernelspec": {
   "display_name": "Python 3",
   "language": "python",
   "name": "python3"
  },
  "language_info": {
   "codemirror_mode": {
    "name": "ipython",
    "version": 2
   },
   "file_extension": ".py",
   "mimetype": "text/x-python",
   "name": "python",
   "nbconvert_exporter": "python",
   "pygments_lexer": "ipython2",
   "version": "2.7.6"
  }
 },
 "nbformat": 4,
 "nbformat_minor": 5
}
