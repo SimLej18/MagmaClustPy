{
 "cells": [
  {
   "metadata": {},
   "cell_type": "markdown",
   "source": [
    "# Benchmarks - Hyper-posterior distributions\n",
    "\n",
    "**Main considerations when implementing hyper-post**\n",
    "* ...\n"
   ],
   "id": "f69390d194b35b0a"
  },
  {
   "metadata": {},
   "cell_type": "markdown",
   "source": [
    "---\n",
    "## Setup"
   ],
   "id": "4763c6a1086dfd7a"
  },
  {
   "metadata": {
    "ExecuteTime": {
     "end_time": "2025-06-20T11:52:52.810542Z",
     "start_time": "2025-06-20T11:52:52.803877Z"
    }
   },
   "cell_type": "code",
   "source": [
    "# Standard library\n",
    "import os\n",
    "\n",
    "os.environ['JAX_ENABLE_X64'] = \"True\""
   ],
   "id": "eb0046b46dc27950",
   "outputs": [],
   "execution_count": 46
  },
  {
   "metadata": {
    "ExecuteTime": {
     "end_time": "2025-06-20T11:52:52.868882Z",
     "start_time": "2025-06-20T11:52:52.866315Z"
    }
   },
   "cell_type": "code",
   "source": [
    "# Third party\n",
    "import jax\n",
    "from jax import jit, vmap\n",
    "from jax.tree_util import register_pytree_node_class\n",
    "from jax import numpy as jnp\n",
    "from jax.scipy.linalg import cho_factor, cho_solve\n",
    "from jax import lax\n",
    "\n",
    "import numpy as np\n",
    "import pandas as pd"
   ],
   "id": "a1fe8b76912d6f2c",
   "outputs": [],
   "execution_count": 47
  },
  {
   "metadata": {
    "ExecuteTime": {
     "end_time": "2025-06-20T11:52:52.890145Z",
     "start_time": "2025-06-20T11:52:52.887211Z"
    }
   },
   "cell_type": "code",
   "source": [
    "# Local\n",
    "from MagmaClustPy.kernels import RBFKernel\n",
    "from MagmaClustPy.utils import generate_dummy_db, preprocess_db, map_to_full_matrix, map_to_full_matrix_batch, map_to_full_array_batch\n",
    "from MagmaClustPy.legacy import _legacy_preprocess_db\n",
    "from MagmaClustPy.hyperpost import hyperpost"
   ],
   "id": "4b255f340edfbe6f",
   "outputs": [],
   "execution_count": 48
  },
  {
   "metadata": {
    "ExecuteTime": {
     "end_time": "2025-06-20T11:52:52.931315Z",
     "start_time": "2025-06-20T11:52:52.919229Z"
    }
   },
   "cell_type": "code",
   "source": [
    "# Config\n",
    "key = jax.random.PRNGKey(0)\n",
    "test_db_size = \"medium\""
   ],
   "id": "3180afa8778f9553",
   "outputs": [],
   "execution_count": 49
  },
  {
   "metadata": {},
   "cell_type": "markdown",
   "source": [
    "---\n",
    "## Data"
   ],
   "id": "190fcef7dd61821b"
  },
  {
   "metadata": {
    "ExecuteTime": {
     "end_time": "2025-06-20T11:52:52.951418Z",
     "start_time": "2025-06-20T11:52:52.949843Z"
    }
   },
   "cell_type": "code",
   "source": "",
   "id": "c6925bbc4a61e165",
   "outputs": [],
   "execution_count": null
  },
  {
   "metadata": {},
   "cell_type": "markdown",
   "source": [
    "---\n",
    "## Current implementation"
   ],
   "id": "bffd41fea2028bdb"
  },
  {
   "metadata": {
    "ExecuteTime": {
     "end_time": "2025-06-20T11:52:52.971329Z",
     "start_time": "2025-06-20T11:52:52.969443Z"
    }
   },
   "cell_type": "code",
   "source": "",
   "id": "6b7e730087bbca42",
   "outputs": [],
   "execution_count": null
  },
  {
   "metadata": {},
   "cell_type": "markdown",
   "source": [
    "---\n",
    "## Custom implementation(s)"
   ],
   "id": "c7496288f6ddf25f"
  },
  {
   "metadata": {
    "ExecuteTime": {
     "end_time": "2025-06-20T11:52:53.079261Z",
     "start_time": "2025-06-20T11:52:52.991696Z"
    }
   },
   "cell_type": "code",
   "source": [
    "from jax import jit\n",
    "from jax import numpy as jnp\n",
    "from jax.scipy.linalg import cho_factor, cho_solve\n",
    "from jax.tree_util import tree_flatten\n",
    "\n",
    "@jit\n",
    "def hyperpost_shared_input_shared_hp(outputs, prior_mean, mean_cov_u, mean_cov_inv, task_cov, inputs_to_grid=None,\n",
    "                                     nugget=jnp.array(1e-10)):\n",
    "\teye = jnp.eye(task_cov.shape[-1])\n",
    "\n",
    "\t# Compute task covariance and its Cholesky factor\n",
    "\ttask_cov_u, _ = cho_factor(task_cov + eye * nugget)\n",
    "\ttask_cov_inv = cho_solve((task_cov_u, False), eye)\n",
    "\n",
    "\tif inputs_to_grid is not None:\n",
    "\t\ttask_cov_inv = jnp.zeros_like(mean_cov_inv).at[jnp.ix_(inputs_to_grid, inputs_to_grid)].set(task_cov_inv)\n",
    "\n",
    "\t# All tasks share same inputs and hyperparameters, so their inverse covariances are the same, and we can compute\n",
    "\t# one then multiply rather than compute all then sum\n",
    "\tpost_cov_inv, _ = cho_factor(mean_cov_inv + len(outputs) * task_cov_inv, )\n",
    "\tpost_cov = cho_solve((post_cov_inv, False), eye)\n",
    "\n",
    "\t# Compute posterior mean\n",
    "\tweighted_prior_mean = cho_solve((mean_cov_u, False), prior_mean)\n",
    "\tweighted_tasks = cho_solve((task_cov_u, False), outputs.sum(axis=0))\n",
    "\n",
    "\tif inputs_to_grid is not None:\n",
    "\t\tweighted_tasks = jnp.zeros_like(prior_mean).at[inputs_to_grid].set(weighted_tasks)\n",
    "\n",
    "\tpost_mean = cho_solve((post_cov_inv, False), weighted_prior_mean + weighted_tasks)\n",
    "\n",
    "\treturn post_mean, post_cov\n",
    "\n",
    "\n",
    "@jit\n",
    "def hyperpost_shared_input_distinct_hp(outputs, prior_mean, mean_cov_u, mean_cov_inv, task_covs, inputs_to_grid=None,\n",
    "                                       nugget=jnp.array(1e-10)):\n",
    "\teye = jnp.broadcast_to(jnp.eye(task_covs.shape[-1]), task_covs.shape)\n",
    "\n",
    "\t# Compute task covariance and its Cholesky factor\n",
    "\t# task_covs_L = vmap(lambda x: cho_factor(x + eye * nugget, lower=True)[0])(task_covs)\n",
    "\ttask_covs_u, _ = cho_factor(task_covs + eye * nugget)\n",
    "\t# task_cov_inv = vmap(lambda L: cho_solve((L, True), eye))(task_covs_L).sum(axis=0)\n",
    "\ttask_cov_inv = cho_solve((task_covs_u, False), eye)\n",
    "\n",
    "\ttask_cov_inv = task_cov_inv.sum(axis=0)\n",
    "\n",
    "\tif inputs_to_grid is not None:\n",
    "\t\ttask_cov_inv = jnp.zeros_like(mean_cov_inv).at[jnp.ix_(inputs_to_grid, inputs_to_grid)].set(task_cov_inv)\n",
    "\n",
    "\tpost_cov_inv, _ = cho_factor(mean_cov_inv + task_cov_inv)\n",
    "\tpost_cov = cho_solve((post_cov_inv, False), eye[0])\n",
    "\n",
    "\t# Compute posterior mean\n",
    "\tweighted_prior_mean = cho_solve((mean_cov_u, False), prior_mean)\n",
    "\t# weighted_tasks = vmap(lambda L, o: cho_solve((L, True), o))(task_covs_L, outputs).sum(axis=0)\n",
    "\tweighted_tasks = cho_solve((task_covs_u, False), outputs).sum(axis=0)\n",
    "\n",
    "\tif inputs_to_grid is not None:\n",
    "\t\tweighted_tasks = jnp.zeros_like(prior_mean).at[inputs_to_grid].set(weighted_tasks)\n",
    "\n",
    "\tpost_mean = cho_solve((post_cov_inv, False), weighted_prior_mean + weighted_tasks)\n",
    "\n",
    "\treturn post_mean, post_cov\n",
    "\n",
    "\n",
    "@jit\n",
    "def hyperpost_distinct_input(outputs, mappings, prior_mean, mean_cov_u, mean_cov_inv, task_covs, inputs_to_grid=None,\n",
    "                             nugget=jnp.array(1e-10)):\n",
    "\t\"\"\"\n",
    "\tcomputes the hyperpost on distinct inputs\n",
    "\n",
    "\ttask_covs: (M, N, N), batch of unaligned covariances\n",
    "\t\"\"\"\n",
    "\tsmall_eye = jnp.broadcast_to(jnp.eye(task_covs.shape[-1]), task_covs.shape)\n",
    "\n",
    "\t# task_covs is padded with NaNs. Replace them by their corresponding identity rows/cols\n",
    "\teyed_task_covs = jnp.where(jnp.isnan(task_covs), small_eye, task_covs)\n",
    "\n",
    "\t# Posterior covariance\n",
    "\ttask_covs_U, _ = cho_factor(eyed_task_covs + small_eye * nugget)\n",
    "\ttask_covs_inv = cho_solve((task_covs_U, False), small_eye)\n",
    "\ttask_covs_inv -= jnp.where(jnp.isnan(task_covs), small_eye, 0)  # Correction on the diagonal\n",
    "\ttask_covs_inv = map_to_full_matrix_batch(task_covs_inv, all_inputs, mappings)\n",
    "\ttask_cov_inv = jnp.nan_to_num(task_covs_inv).sum(axis=0)\n",
    "\n",
    "\tif inputs_to_grid is not None:\n",
    "\t\ttask_cov_inv = jnp.zeros_like(mean_cov_inv).at[jnp.ix_(inputs_to_grid, inputs_to_grid)].set(task_cov_inv)\n",
    "\n",
    "\tpost_cov_inv, _ = cho_factor(mean_cov_inv + task_cov_inv)\n",
    "\tpost_cov = cho_solve((post_cov_inv, False), jnp.eye(mean_cov_u.shape[-1]))\n",
    "\n",
    "\t# Posterior mean\n",
    "\tweighted_prior_mean = cho_solve((mean_cov_u, False), prior_mean)\n",
    "\tmapped_outputs = jnp.nan_to_num(map_to_full_array_batch(outputs, all_inputs, mappings))\n",
    "\tpadded_task_covs_U = map_to_full_matrix_batch(task_covs_U, all_inputs, mappings)\n",
    "\teyed_task_covs_U = jnp.where(jnp.isnan(padded_task_covs_U), jnp.eye(all_inputs.shape[-1]), padded_task_covs_U)\n",
    "\tweighted_tasks = cho_solve((eyed_task_covs_U, False), mapped_outputs).sum(axis=0)\n",
    "\n",
    "\tif inputs_to_grid is not None:\n",
    "\t\tweighted_tasks = jnp.zeros_like(prior_mean).at[inputs_to_grid].set(weighted_tasks)\n",
    "\n",
    "\tpost_mean = cho_solve((post_cov_inv, False), weighted_prior_mean + weighted_tasks)\n",
    "\n",
    "\treturn post_mean, post_cov\n",
    "\n",
    "\n",
    "# General function\n",
    "def hyperpost_new(inputs, outputs, masks, prior_mean, mean_kernel, task_kernel, all_inputs=None, grid=None,\n",
    "              nugget=jnp.array(1e-10)):\n",
    "\t\"\"\"\n",
    "\tComputes the posterior mean and covariance of a Magma GP given the inputs, outputs, masks, prior mean and kernels.\n",
    "\n",
    "\t:param inputs: the preprocessed (padded and aligned) inputs\n",
    "\t:param outputs: the preprocessed outputs\n",
    "\t:param masks: the masks indicating which inputs are valid\n",
    "\t:param prior_mean: the prior mean, as a scalar or a vector of shape (N, ), where N is the length of the union of all\n",
    "\tinputs and the grid\n",
    "\t:param mean_kernel: kernel of the mean process, with hyperparameters loaded as attributes\n",
    "\t:param task_kernel: kernel of the task process, with hyperparameters loaded as attributes\n",
    "\t:param all_inputs: all distinct inputs. If not provided, it will be computed from the inputs\n",
    "\t:param grid: the grid on which the GP is defined. If not provided, the GP is defined on all distinct inputs\n",
    "\t:param nugget: nugget term to ensure numerical stability. Default is 1e-10\n",
    "\t:return: a 2-tuple of the posterior mean and covariance\n",
    "\t\"\"\"\n",
    "\tshared_hp = all([hp.ndim == 0 for hp in tree_flatten(task_kernel)[0]])\n",
    "\n",
    "\t# Merge inputs and grid to create all_inputs\n",
    "\tif all_inputs is None:\n",
    "\t\tall_inputs = jnp.sort(jnp.unique(inputs.flatten()))\n",
    "\n",
    "\tshared_input = len(inputs[0]) == len(all_inputs)\n",
    "\n",
    "\tif grid is None:\n",
    "\t\tgrid = all_inputs\n",
    "\t\tinputs_to_grid = None\n",
    "\telse:\n",
    "\t\tgrid = jnp.sort(jnp.unique(jnp.concatenate([all_inputs, grid])))\n",
    "\t\tinputs_to_grid = jnp.searchsorted(grid, all_inputs)\n",
    "\t\tshared_input = False  # We need to pad the cov matrices to compute on the full grid\n",
    "\n",
    "\tif prior_mean.ndim == 0:\n",
    "\t\tprior_mean = jnp.broadcast_to(prior_mean, (len(grid),))\n",
    "\n",
    "\t# Numerical stability terms\n",
    "\teye = jnp.eye(grid.shape[0])\n",
    "\n",
    "\t# Compute mean covariance and its Cholesky factor\n",
    "\tmean_cov = mean_kernel(grid, grid)\n",
    "\tmean_cov_u, _ = cho_factor(mean_cov + eye * nugget)\n",
    "\tmean_cov_inv = cho_solve((mean_cov_u, False), eye)\n",
    "\n",
    "\tif shared_input:\n",
    "\t\tif shared_hp:\n",
    "\t\t\ttask_cov = task_kernel(grid)  # Shape: (N, N)\n",
    "\t\t\treturn hyperpost_shared_input_shared_hp(outputs, prior_mean, mean_cov_u, mean_cov_inv, task_cov,\n",
    "\t\t\t                                        inputs_to_grid, nugget)\n",
    "\n",
    "\t\telse:  # distinct HPs, we have to compute every task covariance but no padding is required\n",
    "\t\t\ttask_covs = task_kernel(inputs)  # Shape: (M, N, N)\n",
    "\t\t\treturn hyperpost_shared_input_distinct_hp(outputs, prior_mean, mean_cov_u, mean_cov_inv, task_covs,\n",
    "\t\t\t                                          inputs_to_grid, nugget)\n",
    "\n",
    "\telse:  # No shared input: we have to pad and mask\n",
    "\t\t# task_covs = task_kernel(jnp.broadcast_to(all_inputs, (len(inputs), len(all_inputs))))\n",
    "\t\ttask_covs = task_kernel(inputs)\n",
    "\t\treturn hyperpost_distinct_input(outputs, masks, prior_mean, mean_cov_u, mean_cov_inv, task_covs, inputs_to_grid,\n",
    "\t\t                                nugget)"
   ],
   "id": "b5899ad9d78c05ac",
   "outputs": [],
   "execution_count": 50
  },
  {
   "metadata": {
    "ExecuteTime": {
     "end_time": "2025-06-20T11:52:53.098596Z",
     "start_time": "2025-06-20T11:52:53.097254Z"
    }
   },
   "cell_type": "code",
   "source": "",
   "id": "f1519c74ca97d180",
   "outputs": [],
   "execution_count": null
  },
  {
   "metadata": {},
   "cell_type": "markdown",
   "source": [
    "---\n",
    "## Comparison"
   ],
   "id": "88fdaed3f55aae3a"
  },
  {
   "metadata": {},
   "cell_type": "markdown",
   "source": "### shared Input, shared HP",
   "id": "d7945be29b7e754c"
  },
  {
   "metadata": {
    "ExecuteTime": {
     "end_time": "2025-06-20T11:52:53.206381Z",
     "start_time": "2025-06-20T11:52:53.117053Z"
    }
   },
   "cell_type": "code",
   "source": [
    "db = pd.read_csv(f\"../dummy_datasets/{test_db_size}_shared_input_shared_hp.csv\")\n",
    "all_inputs, padded_inputs, padded_outputs, masks = _legacy_preprocess_db(db)\n",
    "all_inputs_new, padded_inputs_new, padded_outputs_new, mappings = preprocess_db(db)\n",
    "all_inputs.shape, padded_inputs.shape"
   ],
   "id": "5654105b1ac1a46f",
   "outputs": [
    {
     "data": {
      "text/plain": [
       "((150,), (200, 150))"
      ]
     },
     "execution_count": 51,
     "metadata": {},
     "output_type": "execute_result"
    }
   ],
   "execution_count": 51
  },
  {
   "metadata": {
    "ExecuteTime": {
     "end_time": "2025-06-20T11:52:53.468677Z",
     "start_time": "2025-06-20T11:52:53.465112Z"
    }
   },
   "cell_type": "code",
   "source": [
    "mean_kern = RBFKernel(length_scale=.3, variance=1.)\n",
    "task_kern = RBFKernel(length_scale=.6, variance=1.)"
   ],
   "id": "e172126be02ff03b",
   "outputs": [],
   "execution_count": 53
  },
  {
   "metadata": {
    "ExecuteTime": {
     "end_time": "2025-06-20T11:52:53.492244Z",
     "start_time": "2025-06-20T11:52:53.487832Z"
    }
   },
   "cell_type": "code",
   "source": "mean_1, cov_1 = hyperpost(padded_inputs, padded_outputs, masks, jnp.array(0.), mean_kern, task_kern, all_inputs=all_inputs)",
   "id": "f1644975c5733316",
   "outputs": [],
   "execution_count": 54
  },
  {
   "metadata": {
    "ExecuteTime": {
     "end_time": "2025-06-20T11:52:53.703294Z",
     "start_time": "2025-06-20T11:52:53.513880Z"
    }
   },
   "cell_type": "code",
   "source": "mean_2, cov_2 = hyperpost_new(padded_inputs_new, padded_outputs_new, mappings, jnp.array(0.), mean_kern, task_kern, all_inputs=all_inputs_new)",
   "id": "4ff5300a64499bfa",
   "outputs": [],
   "execution_count": 55
  },
  {
   "metadata": {
    "ExecuteTime": {
     "end_time": "2025-06-20T11:52:53.720442Z",
     "start_time": "2025-06-20T11:52:53.716778Z"
    }
   },
   "cell_type": "code",
   "source": "jnp.allclose(mean_1, mean_2), jnp.allclose(cov_1, cov_2)",
   "id": "de72f3a104005019",
   "outputs": [
    {
     "data": {
      "text/plain": [
       "(Array(True, dtype=bool), Array(True, dtype=bool))"
      ]
     },
     "execution_count": 56,
     "metadata": {},
     "output_type": "execute_result"
    }
   ],
   "execution_count": 56
  },
  {
   "metadata": {
    "ExecuteTime": {
     "end_time": "2025-06-20T11:52:53.758664Z",
     "start_time": "2025-06-20T11:52:53.754583Z"
    }
   },
   "cell_type": "code",
   "source": "jnp.mean(jnp.abs(mean_1 - mean_2)), jnp.mean(jnp.abs(cov_1 - cov_2))",
   "id": "c48fb997a4cca94e",
   "outputs": [
    {
     "data": {
      "text/plain": [
       "(Array(0., dtype=float64), Array(0., dtype=float64))"
      ]
     },
     "execution_count": 57,
     "metadata": {},
     "output_type": "execute_result"
    }
   ],
   "execution_count": 57
  },
  {
   "metadata": {
    "ExecuteTime": {
     "end_time": "2025-06-20T11:52:53.840735Z",
     "start_time": "2025-06-20T11:52:53.789666Z"
    }
   },
   "cell_type": "code",
   "source": [
    "%%timeit -n 5 -r 5\n",
    "hyperpost(padded_inputs, padded_outputs, masks, jnp.array(0.), mean_kern, task_kern, all_inputs=all_inputs)[0].block_until_ready()"
   ],
   "id": "f153af2dc52e2c9d",
   "outputs": [
    {
     "name": "stdout",
     "output_type": "stream",
     "text": [
      "1.94 ms ± 1.11 ms per loop (mean ± std. dev. of 5 runs, 5 loops each)\n"
     ]
    }
   ],
   "execution_count": 58
  },
  {
   "metadata": {
    "ExecuteTime": {
     "end_time": "2025-06-20T11:52:53.890004Z",
     "start_time": "2025-06-20T11:52:53.854762Z"
    }
   },
   "cell_type": "code",
   "source": [
    "%%timeit -n 5 -r 5\n",
    "hyperpost_new(padded_inputs_new, padded_outputs_new, mappings, jnp.array(0.), mean_kern, task_kern, all_inputs=all_inputs_new)[0].block_until_ready()"
   ],
   "id": "1244bff52409f0a6",
   "outputs": [
    {
     "name": "stdout",
     "output_type": "stream",
     "text": [
      "1.31 ms ± 133 μs per loop (mean ± std. dev. of 5 runs, 5 loops each)\n"
     ]
    }
   ],
   "execution_count": 59
  },
  {
   "metadata": {},
   "cell_type": "markdown",
   "source": "### shared Input, Distinct HP",
   "id": "5cbfcda25a2335f8"
  },
  {
   "metadata": {
    "ExecuteTime": {
     "end_time": "2025-06-20T11:52:53.922817Z",
     "start_time": "2025-06-20T11:52:53.904934Z"
    }
   },
   "cell_type": "code",
   "source": [
    "db = pd.read_csv(f\"../dummy_datasets/{test_db_size}_shared_input_distinct_hp.csv\")\n",
    "all_inputs, padded_inputs, padded_outputs, masks = _legacy_preprocess_db(db)\n",
    "all_inputs_new, padded_inputs_new, padded_outputs_new, mappings = preprocess_db(db)\n",
    "all_inputs.shape, padded_inputs.shape"
   ],
   "id": "904838f111d40956",
   "outputs": [
    {
     "data": {
      "text/plain": [
       "((150,), (200, 150))"
      ]
     },
     "execution_count": 60,
     "metadata": {},
     "output_type": "execute_result"
    }
   ],
   "execution_count": 60
  },
  {
   "metadata": {
    "ExecuteTime": {
     "end_time": "2025-06-20T11:52:54.151668Z",
     "start_time": "2025-06-20T11:52:54.147515Z"
    }
   },
   "cell_type": "code",
   "source": [
    "mean_kern = RBFKernel(length_scale=.3, variance=1.)\n",
    "\n",
    "key, subkey = jax.random.split(key)\n",
    "distinct_length_scales = jax.random.uniform(subkey, (padded_outputs.shape[0],), jnp.float64, .1, 1)\n",
    "task_kern = RBFKernel(length_scale=distinct_length_scales, variance=1.)"
   ],
   "id": "e5f2abcd97be6f1b",
   "outputs": [],
   "execution_count": 61
  },
  {
   "metadata": {
    "ExecuteTime": {
     "end_time": "2025-06-20T11:52:54.174280Z",
     "start_time": "2025-06-20T11:52:54.168954Z"
    }
   },
   "cell_type": "code",
   "source": "mean_1, cov_1 = hyperpost(padded_inputs, padded_outputs, masks, jnp.array(0.), mean_kern, task_kern, all_inputs=all_inputs)",
   "id": "69661a7175e77eda",
   "outputs": [],
   "execution_count": 62
  },
  {
   "metadata": {
    "ExecuteTime": {
     "end_time": "2025-06-20T11:52:54.316194Z",
     "start_time": "2025-06-20T11:52:54.238827Z"
    }
   },
   "cell_type": "code",
   "source": "mean_2, cov_2 = hyperpost_new(padded_inputs_new, padded_outputs_new, mappings, jnp.array(0.), mean_kern, task_kern, all_inputs=all_inputs_new)",
   "id": "b611e987a09d9d21",
   "outputs": [],
   "execution_count": 63
  },
  {
   "metadata": {
    "ExecuteTime": {
     "end_time": "2025-06-20T11:52:54.368959Z",
     "start_time": "2025-06-20T11:52:54.365413Z"
    }
   },
   "cell_type": "code",
   "source": "jnp.allclose(mean_1, mean_2), jnp.allclose(cov_1, cov_2)",
   "id": "25504e1e1b327944",
   "outputs": [
    {
     "data": {
      "text/plain": [
       "(Array(True, dtype=bool), Array(True, dtype=bool))"
      ]
     },
     "execution_count": 64,
     "metadata": {},
     "output_type": "execute_result"
    }
   ],
   "execution_count": 64
  },
  {
   "metadata": {
    "ExecuteTime": {
     "end_time": "2025-06-20T11:52:54.389948Z",
     "start_time": "2025-06-20T11:52:54.386626Z"
    }
   },
   "cell_type": "code",
   "source": "jnp.mean(jnp.abs(mean_1 - mean_2)), jnp.mean(jnp.abs(cov_1 - cov_2))",
   "id": "66b6454a6f3d1f22",
   "outputs": [
    {
     "data": {
      "text/plain": [
       "(Array(0., dtype=float64), Array(0., dtype=float64))"
      ]
     },
     "execution_count": 65,
     "metadata": {},
     "output_type": "execute_result"
    }
   ],
   "execution_count": 65
  },
  {
   "metadata": {
    "ExecuteTime": {
     "end_time": "2025-06-20T11:52:55.595952Z",
     "start_time": "2025-06-20T11:52:54.406461Z"
    }
   },
   "cell_type": "code",
   "source": [
    "%%timeit -n 5 -r 5\n",
    "hyperpost(padded_inputs, padded_outputs, masks, jnp.array(0.), mean_kern, task_kern, all_inputs=all_inputs)[0].block_until_ready()"
   ],
   "id": "83199758add968a7",
   "outputs": [
    {
     "name": "stdout",
     "output_type": "stream",
     "text": [
      "47.5 ms ± 785 μs per loop (mean ± std. dev. of 5 runs, 5 loops each)\n"
     ]
    }
   ],
   "execution_count": 66
  },
  {
   "metadata": {
    "ExecuteTime": {
     "end_time": "2025-06-20T11:52:56.772495Z",
     "start_time": "2025-06-20T11:52:55.602070Z"
    }
   },
   "cell_type": "code",
   "source": [
    "%%timeit -n 5 -r 5\n",
    "hyperpost_new(padded_inputs_new, padded_outputs_new, mappings, jnp.array(0.), mean_kern, task_kern, all_inputs=all_inputs_new)[0].block_until_ready()"
   ],
   "id": "bfafefa8bfdd8827",
   "outputs": [
    {
     "name": "stdout",
     "output_type": "stream",
     "text": [
      "46.7 ms ± 242 μs per loop (mean ± std. dev. of 5 runs, 5 loops each)\n"
     ]
    }
   ],
   "execution_count": 67
  },
  {
   "metadata": {},
   "cell_type": "markdown",
   "source": "### Distinct Input, shared HP",
   "id": "7ff3a0247d75a333"
  },
  {
   "metadata": {
    "ExecuteTime": {
     "end_time": "2025-06-20T11:53:19.767265Z",
     "start_time": "2025-06-20T11:53:19.742403Z"
    }
   },
   "cell_type": "code",
   "source": [
    "db = pd.read_csv(f\"../dummy_datasets/{test_db_size}_distinct_input_shared_hp.csv\")\n",
    "all_inputs, padded_inputs, padded_outputs, masks = _legacy_preprocess_db(db)\n",
    "all_inputs_new, padded_inputs_new, padded_outputs_new, mappings = preprocess_db(db)\n",
    "all_inputs.shape, padded_inputs.shape"
   ],
   "id": "a23eb59e31ffc68e",
   "outputs": [
    {
     "data": {
      "text/plain": [
       "((401,), (200, 401))"
      ]
     },
     "execution_count": 83,
     "metadata": {},
     "output_type": "execute_result"
    }
   ],
   "execution_count": 83
  },
  {
   "metadata": {
    "ExecuteTime": {
     "end_time": "2025-06-20T11:52:57.124825Z",
     "start_time": "2025-06-20T11:52:57.121713Z"
    }
   },
   "cell_type": "code",
   "source": [
    "mean_kern = RBFKernel(length_scale=.3, variance=1.)\n",
    "task_kern = RBFKernel(length_scale=.6, variance=1.)"
   ],
   "id": "1f6111c9c064ed0d",
   "outputs": [],
   "execution_count": 69
  },
  {
   "metadata": {
    "ExecuteTime": {
     "end_time": "2025-06-20T11:52:57.150308Z",
     "start_time": "2025-06-20T11:52:57.143501Z"
    }
   },
   "cell_type": "code",
   "source": "mean_1, cov_1 = hyperpost(padded_inputs, padded_outputs, masks, jnp.array(0.), mean_kern, task_kern, all_inputs=all_inputs)",
   "id": "6b2c282a2c6d03a1",
   "outputs": [],
   "execution_count": 70
  },
  {
   "metadata": {
    "ExecuteTime": {
     "end_time": "2025-06-20T11:52:57.843973Z",
     "start_time": "2025-06-20T11:52:57.705599Z"
    }
   },
   "cell_type": "code",
   "source": "mean_2, cov_2 = hyperpost_new(padded_inputs_new, padded_outputs_new, mappings, jnp.array(0.), mean_kern, task_kern, all_inputs=all_inputs_new)",
   "id": "c6e3387307bb65e8",
   "outputs": [],
   "execution_count": 71
  },
  {
   "metadata": {
    "ExecuteTime": {
     "end_time": "2025-06-20T11:52:58.064637Z",
     "start_time": "2025-06-20T11:52:58.061295Z"
    }
   },
   "cell_type": "code",
   "source": "jnp.allclose(mean_1, mean_2), jnp.allclose(cov_1, cov_2)",
   "id": "4d61e351f98e9289",
   "outputs": [
    {
     "data": {
      "text/plain": [
       "(Array(True, dtype=bool), Array(True, dtype=bool))"
      ]
     },
     "execution_count": 72,
     "metadata": {},
     "output_type": "execute_result"
    }
   ],
   "execution_count": 72
  },
  {
   "metadata": {
    "ExecuteTime": {
     "end_time": "2025-06-20T11:52:58.107184Z",
     "start_time": "2025-06-20T11:52:58.102639Z"
    }
   },
   "cell_type": "code",
   "source": "jnp.mean(jnp.abs(mean_1 - mean_2)), jnp.mean(jnp.abs(cov_1 - cov_2))",
   "id": "223e22ba9c5e2dc8",
   "outputs": [
    {
     "data": {
      "text/plain": [
       "(Array(1.26776596e-08, dtype=float64), Array(7.77561785e-15, dtype=float64))"
      ]
     },
     "execution_count": 73,
     "metadata": {},
     "output_type": "execute_result"
    }
   ],
   "execution_count": 73
  },
  {
   "metadata": {
    "ExecuteTime": {
     "end_time": "2025-06-20T11:53:08.148308Z",
     "start_time": "2025-06-20T11:52:58.129659Z"
    }
   },
   "cell_type": "code",
   "source": [
    "%%timeit -n 5 -r 5\n",
    "hyperpost(padded_inputs, padded_outputs, masks, jnp.array(0.), mean_kern, task_kern, all_inputs=all_inputs)[0].block_until_ready()"
   ],
   "id": "f35b54b5ad5c64ef",
   "outputs": [
    {
     "name": "stdout",
     "output_type": "stream",
     "text": [
      "400 ms ± 87.2 ms per loop (mean ± std. dev. of 5 runs, 5 loops each)\n"
     ]
    }
   ],
   "execution_count": 74
  },
  {
   "metadata": {
    "ExecuteTime": {
     "end_time": "2025-06-20T11:53:12.853775Z",
     "start_time": "2025-06-20T11:53:08.170780Z"
    }
   },
   "cell_type": "code",
   "source": [
    "%%timeit -n 5 -r 5\n",
    "hyperpost_new(padded_inputs_new, padded_outputs_new, mappings, jnp.array(0.), mean_kern, task_kern, all_inputs=all_inputs_new)[0].block_until_ready()"
   ],
   "id": "a1704d3e4ee9b446",
   "outputs": [
    {
     "name": "stdout",
     "output_type": "stream",
     "text": [
      "187 ms ± 47.7 ms per loop (mean ± std. dev. of 5 runs, 5 loops each)\n"
     ]
    }
   ],
   "execution_count": 75
  },
  {
   "metadata": {},
   "cell_type": "markdown",
   "source": "### Distinct Input, Distinct HP",
   "id": "2a2fe3eb198a9adc"
  },
  {
   "metadata": {
    "ExecuteTime": {
     "end_time": "2025-06-20T11:53:12.908103Z",
     "start_time": "2025-06-20T11:53:12.876153Z"
    }
   },
   "cell_type": "code",
   "source": [
    "db = pd.read_csv(f\"../dummy_datasets/{test_db_size}_distinct_input_distinct_hp.csv\")\n",
    "all_inputs, padded_inputs, padded_outputs, masks = _legacy_preprocess_db(db)\n",
    "all_inputs_new, padded_inputs_new, padded_outputs_new, mappings = preprocess_db(db)\n",
    "all_inputs.shape, padded_inputs.shape"
   ],
   "id": "9a6f9a9e8f3dd6aa",
   "outputs": [
    {
     "data": {
      "text/plain": [
       "((401,), (200, 401))"
      ]
     },
     "execution_count": 76,
     "metadata": {},
     "output_type": "execute_result"
    }
   ],
   "execution_count": 76
  },
  {
   "metadata": {
    "ExecuteTime": {
     "end_time": "2025-06-20T11:53:13.143389Z",
     "start_time": "2025-06-20T11:53:13.139080Z"
    }
   },
   "cell_type": "code",
   "source": [
    "mean_kern = RBFKernel(length_scale=.3, variance=1.)\n",
    "\n",
    "key, subkey = jax.random.split(key)\n",
    "distinct_length_scales = jax.random.uniform(subkey, (padded_outputs.shape[0],), jnp.float64, .1, 1)\n",
    "task_kern = RBFKernel(length_scale=distinct_length_scales, variance=1.)"
   ],
   "id": "770782b788ce8512",
   "outputs": [],
   "execution_count": 77
  },
  {
   "metadata": {
    "ExecuteTime": {
     "end_time": "2025-06-20T11:53:13.167086Z",
     "start_time": "2025-06-20T11:53:13.163180Z"
    }
   },
   "cell_type": "code",
   "source": "mean_1, cov_1 = hyperpost(padded_inputs, padded_outputs, masks, jnp.array(0.), mean_kern, task_kern, all_inputs=all_inputs)",
   "id": "f05e912295c6fab6",
   "outputs": [],
   "execution_count": 78
  },
  {
   "metadata": {
    "ExecuteTime": {
     "end_time": "2025-06-20T11:53:13.661705Z",
     "start_time": "2025-06-20T11:53:13.531453Z"
    }
   },
   "cell_type": "code",
   "source": "mean_2, cov_2 = hyperpost_new(padded_inputs_new, padded_outputs_new, mappings, jnp.array(0.), mean_kern, task_kern, all_inputs=all_inputs_new)",
   "id": "84981e5a6dd62665",
   "outputs": [],
   "execution_count": 79
  },
  {
   "metadata": {
    "ExecuteTime": {
     "end_time": "2025-06-20T11:53:13.825752Z",
     "start_time": "2025-06-20T11:53:13.821287Z"
    }
   },
   "cell_type": "code",
   "source": "jnp.allclose(mean_1, mean_2), jnp.allclose(cov_1, cov_2)",
   "id": "70ef40cf26603ac0",
   "outputs": [
    {
     "data": {
      "text/plain": [
       "(Array(True, dtype=bool), Array(True, dtype=bool))"
      ]
     },
     "execution_count": 80,
     "metadata": {},
     "output_type": "execute_result"
    }
   ],
   "execution_count": 80
  },
  {
   "metadata": {
    "ExecuteTime": {
     "end_time": "2025-06-20T11:53:13.849930Z",
     "start_time": "2025-06-20T11:53:13.846808Z"
    }
   },
   "cell_type": "code",
   "source": "jnp.mean(jnp.abs(mean_1 - mean_2)), jnp.mean(jnp.abs(cov_1 - cov_2))",
   "id": "673edc001a4a09f3",
   "outputs": [
    {
     "data": {
      "text/plain": [
       "(Array(3.58775768e-09, dtype=float64), Array(6.2736897e-15, dtype=float64))"
      ]
     },
     "execution_count": 81,
     "metadata": {},
     "output_type": "execute_result"
    }
   ],
   "execution_count": 81
  },
  {
   "metadata": {
    "ExecuteTime": {
     "end_time": "2025-06-20T11:53:17.768950Z",
     "start_time": "2025-06-20T11:53:13.881984Z"
    }
   },
   "cell_type": "code",
   "source": [
    "%%timeit -n 5 -r 5\n",
    "hyperpost(padded_inputs, padded_outputs, masks, jnp.array(0.), mean_kern, task_kern, all_inputs=all_inputs)[0].block_until_ready()"
   ],
   "id": "e58d7ba8948f2fa7",
   "outputs": [
    {
     "ename": "KeyboardInterrupt",
     "evalue": "",
     "output_type": "error",
     "traceback": [
      "\u001B[0;31m---------------------------------------------------------------------------\u001B[0m",
      "\u001B[0;31mKeyboardInterrupt\u001B[0m                         Traceback (most recent call last)",
      "Cell \u001B[0;32mIn[82], line 1\u001B[0m\n\u001B[0;32m----> 1\u001B[0m get_ipython()\u001B[38;5;241m.\u001B[39mrun_cell_magic(\u001B[38;5;124m'\u001B[39m\u001B[38;5;124mtimeit\u001B[39m\u001B[38;5;124m'\u001B[39m, \u001B[38;5;124m'\u001B[39m\u001B[38;5;124m-n 5 -r 5\u001B[39m\u001B[38;5;124m'\u001B[39m, \u001B[38;5;124m'\u001B[39m\u001B[38;5;124mhyperpost(padded_inputs, padded_outputs, masks, jnp.array(0.), mean_kern, task_kern, all_inputs=all_inputs)[0].block_until_ready()\u001B[39m\u001B[38;5;130;01m\\n\u001B[39;00m\u001B[38;5;124m'\u001B[39m)\n",
      "File \u001B[0;32m/opt/anaconda3/envs/MagmaClustPy/lib/python3.12/site-packages/IPython/core/interactiveshell.py:2541\u001B[0m, in \u001B[0;36mInteractiveShell.run_cell_magic\u001B[0;34m(self, magic_name, line, cell)\u001B[0m\n\u001B[1;32m   2539\u001B[0m \u001B[38;5;28;01mwith\u001B[39;00m \u001B[38;5;28mself\u001B[39m\u001B[38;5;241m.\u001B[39mbuiltin_trap:\n\u001B[1;32m   2540\u001B[0m     args \u001B[38;5;241m=\u001B[39m (magic_arg_s, cell)\n\u001B[0;32m-> 2541\u001B[0m     result \u001B[38;5;241m=\u001B[39m fn(\u001B[38;5;241m*\u001B[39margs, \u001B[38;5;241m*\u001B[39m\u001B[38;5;241m*\u001B[39mkwargs)\n\u001B[1;32m   2543\u001B[0m \u001B[38;5;66;03m# The code below prevents the output from being displayed\u001B[39;00m\n\u001B[1;32m   2544\u001B[0m \u001B[38;5;66;03m# when using magics with decorator @output_can_be_silenced\u001B[39;00m\n\u001B[1;32m   2545\u001B[0m \u001B[38;5;66;03m# when the last Python token in the expression is a ';'.\u001B[39;00m\n\u001B[1;32m   2546\u001B[0m \u001B[38;5;28;01mif\u001B[39;00m \u001B[38;5;28mgetattr\u001B[39m(fn, magic\u001B[38;5;241m.\u001B[39mMAGIC_OUTPUT_CAN_BE_SILENCED, \u001B[38;5;28;01mFalse\u001B[39;00m):\n",
      "File \u001B[0;32m/opt/anaconda3/envs/MagmaClustPy/lib/python3.12/site-packages/IPython/core/magics/execution.py:1199\u001B[0m, in \u001B[0;36mExecutionMagics.timeit\u001B[0;34m(self, line, cell, local_ns)\u001B[0m\n\u001B[1;32m   1196\u001B[0m         \u001B[38;5;28;01mif\u001B[39;00m time_number \u001B[38;5;241m>\u001B[39m\u001B[38;5;241m=\u001B[39m \u001B[38;5;241m0.2\u001B[39m:\n\u001B[1;32m   1197\u001B[0m             \u001B[38;5;28;01mbreak\u001B[39;00m\n\u001B[0;32m-> 1199\u001B[0m all_runs \u001B[38;5;241m=\u001B[39m timer\u001B[38;5;241m.\u001B[39mrepeat(repeat, number)\n\u001B[1;32m   1200\u001B[0m best \u001B[38;5;241m=\u001B[39m \u001B[38;5;28mmin\u001B[39m(all_runs) \u001B[38;5;241m/\u001B[39m number\n\u001B[1;32m   1201\u001B[0m worst \u001B[38;5;241m=\u001B[39m \u001B[38;5;28mmax\u001B[39m(all_runs) \u001B[38;5;241m/\u001B[39m number\n",
      "File \u001B[0;32m/opt/anaconda3/envs/MagmaClustPy/lib/python3.12/timeit.py:208\u001B[0m, in \u001B[0;36mTimer.repeat\u001B[0;34m(self, repeat, number)\u001B[0m\n\u001B[1;32m    206\u001B[0m r \u001B[38;5;241m=\u001B[39m []\n\u001B[1;32m    207\u001B[0m \u001B[38;5;28;01mfor\u001B[39;00m i \u001B[38;5;129;01min\u001B[39;00m \u001B[38;5;28mrange\u001B[39m(repeat):\n\u001B[0;32m--> 208\u001B[0m     t \u001B[38;5;241m=\u001B[39m \u001B[38;5;28mself\u001B[39m\u001B[38;5;241m.\u001B[39mtimeit(number)\n\u001B[1;32m    209\u001B[0m     r\u001B[38;5;241m.\u001B[39mappend(t)\n\u001B[1;32m    210\u001B[0m \u001B[38;5;28;01mreturn\u001B[39;00m r\n",
      "File \u001B[0;32m/opt/anaconda3/envs/MagmaClustPy/lib/python3.12/site-packages/IPython/core/magics/execution.py:173\u001B[0m, in \u001B[0;36mTimer.timeit\u001B[0;34m(self, number)\u001B[0m\n\u001B[1;32m    171\u001B[0m gc\u001B[38;5;241m.\u001B[39mdisable()\n\u001B[1;32m    172\u001B[0m \u001B[38;5;28;01mtry\u001B[39;00m:\n\u001B[0;32m--> 173\u001B[0m     timing \u001B[38;5;241m=\u001B[39m \u001B[38;5;28mself\u001B[39m\u001B[38;5;241m.\u001B[39minner(it, \u001B[38;5;28mself\u001B[39m\u001B[38;5;241m.\u001B[39mtimer)\n\u001B[1;32m    174\u001B[0m \u001B[38;5;28;01mfinally\u001B[39;00m:\n\u001B[1;32m    175\u001B[0m     \u001B[38;5;28;01mif\u001B[39;00m gcold:\n",
      "File \u001B[0;32m<magic-timeit>:1\u001B[0m, in \u001B[0;36minner\u001B[0;34m(_it, _timer)\u001B[0m\n",
      "\u001B[0;31mKeyboardInterrupt\u001B[0m: "
     ]
    }
   ],
   "execution_count": 82
  },
  {
   "metadata": {
    "ExecuteTime": {
     "end_time": "2025-06-20T11:53:17.773069Z",
     "start_time": "2025-06-20T09:39:31.455313Z"
    }
   },
   "cell_type": "code",
   "source": [
    "%%timeit -n 5 -r 5\n",
    "hyperpost_new(padded_inputs_new, padded_outputs_new, mappings, jnp.array(0.), mean_kern, task_kern, all_inputs=all_inputs_new)[0].block_until_ready()"
   ],
   "id": "428e3a504d0bc715",
   "outputs": [
    {
     "name": "stdout",
     "output_type": "stream",
     "text": [
      "138 ms ± 2.96 ms per loop (mean ± std. dev. of 5 runs, 5 loops each)\n"
     ]
    }
   ],
   "execution_count": 37
  },
  {
   "metadata": {},
   "cell_type": "markdown",
   "source": "### Using a custom grid",
   "id": "a32bdf4a27914393"
  },
  {
   "metadata": {
    "ExecuteTime": {
     "end_time": "2025-06-20T11:53:17.773485Z",
     "start_time": "2025-06-20T09:39:34.918474Z"
    }
   },
   "cell_type": "code",
   "source": [
    "db = pd.read_csv(f\"../dummy_datasets/{test_db_size}_distinct_input_shared_hp.csv\")\n",
    "all_inputs, padded_inputs, padded_outputs, masks = _legacy_preprocess_db(db)\n",
    "all_inputs_new, padded_inputs_new, padded_outputs_new, mappings = preprocess_db(db)\n",
    "\n",
    "grid = jnp.linspace(min(all_inputs), max(all_inputs), 500)\n",
    "all_inputs.shape, padded_inputs.shape, grid.shape"
   ],
   "id": "9e826e7866c3ff74",
   "outputs": [
    {
     "data": {
      "text/plain": [
       "((401,), (200, 401), (500,))"
      ]
     },
     "execution_count": 38,
     "metadata": {},
     "output_type": "execute_result"
    }
   ],
   "execution_count": 38
  },
  {
   "metadata": {
    "ExecuteTime": {
     "end_time": "2025-06-20T11:53:17.781591Z",
     "start_time": "2025-06-20T09:39:35.331280Z"
    }
   },
   "cell_type": "code",
   "source": [
    "mean_kern = RBFKernel(length_scale=.3, variance=1.)\n",
    "task_kern = RBFKernel(length_scale=.6, variance=1.)"
   ],
   "id": "a21d79a20e721df3",
   "outputs": [],
   "execution_count": 39
  },
  {
   "metadata": {
    "ExecuteTime": {
     "end_time": "2025-06-20T11:53:17.782124Z",
     "start_time": "2025-06-20T09:39:35.348807Z"
    }
   },
   "cell_type": "code",
   "source": "mean_1, cov_1 = hyperpost(padded_inputs, padded_outputs, masks, jnp.array(0.), mean_kern, task_kern, all_inputs=all_inputs, grid=grid)",
   "id": "25b473c36234845d",
   "outputs": [],
   "execution_count": 40
  },
  {
   "metadata": {
    "ExecuteTime": {
     "end_time": "2025-06-20T11:53:17.782355Z",
     "start_time": "2025-06-20T09:39:36.178673Z"
    }
   },
   "cell_type": "code",
   "source": "mean_2, cov_2 = hyperpost_new(padded_inputs_new, padded_outputs_new, mappings, jnp.array(0.), mean_kern, task_kern, all_inputs=all_inputs_new, grid=grid)",
   "id": "3f78ac8b7eec29b5",
   "outputs": [],
   "execution_count": 41
  },
  {
   "metadata": {
    "ExecuteTime": {
     "end_time": "2025-06-20T11:53:17.782462Z",
     "start_time": "2025-06-20T09:39:36.457505Z"
    }
   },
   "cell_type": "code",
   "source": "jnp.allclose(mean_1, mean_2), jnp.allclose(cov_1, cov_2)",
   "id": "894e3e952382eb7d",
   "outputs": [
    {
     "data": {
      "text/plain": [
       "(Array(True, dtype=bool), Array(True, dtype=bool))"
      ]
     },
     "execution_count": 42,
     "metadata": {},
     "output_type": "execute_result"
    }
   ],
   "execution_count": 42
  },
  {
   "metadata": {
    "ExecuteTime": {
     "end_time": "2025-06-20T11:53:17.782679Z",
     "start_time": "2025-06-20T09:39:36.529216Z"
    }
   },
   "cell_type": "code",
   "source": "jnp.mean(jnp.abs(mean_1 - mean_2)), jnp.mean(jnp.abs(cov_1 - cov_2))",
   "id": "a8f7fbbbf2a8d992",
   "outputs": [
    {
     "data": {
      "text/plain": [
       "(Array(1.2658448e-08, dtype=float64), Array(7.78045934e-15, dtype=float64))"
      ]
     },
     "execution_count": 43,
     "metadata": {},
     "output_type": "execute_result"
    }
   ],
   "execution_count": 43
  },
  {
   "metadata": {
    "ExecuteTime": {
     "end_time": "2025-06-20T11:53:17.782790Z",
     "start_time": "2025-06-20T09:39:36.644582Z"
    }
   },
   "cell_type": "code",
   "source": [
    "%%timeit -n 5 -r 5\n",
    "hyperpost(padded_inputs, padded_outputs, masks, jnp.array(0.), mean_kern, task_kern, all_inputs=all_inputs, grid=grid)[0].block_until_ready()"
   ],
   "id": "c9c7eccf4ac9419c",
   "outputs": [
    {
     "name": "stdout",
     "output_type": "stream",
     "text": [
      "368 ms ± 19.6 ms per loop (mean ± std. dev. of 5 runs, 5 loops each)\n"
     ]
    }
   ],
   "execution_count": 44
  },
  {
   "metadata": {
    "ExecuteTime": {
     "end_time": "2025-06-20T11:53:17.784937Z",
     "start_time": "2025-06-20T09:39:45.900275Z"
    }
   },
   "cell_type": "code",
   "source": [
    "%%timeit -n 5 -r 5\n",
    "hyperpost_new(padded_inputs_new, padded_outputs_new, mappings, jnp.array(0.), mean_kern, task_kern, all_inputs=all_inputs_new, grid=grid)[0].block_until_ready()"
   ],
   "id": "749144e478c17d62",
   "outputs": [
    {
     "name": "stdout",
     "output_type": "stream",
     "text": [
      "179 ms ± 10.8 ms per loop (mean ± std. dev. of 5 runs, 5 loops each)\n"
     ]
    }
   ],
   "execution_count": 45
  },
  {
   "metadata": {},
   "cell_type": "markdown",
   "source": [
    "---\n",
    "## Conclusion"
   ],
   "id": "40eac9ed87ce043e"
  },
  {
   "metadata": {
    "ExecuteTime": {
     "end_time": "2025-06-20T11:53:17.785380Z",
     "start_time": "2025-06-20T09:39:50.415503Z"
    }
   },
   "cell_type": "code",
   "source": "",
   "id": "e00d28413733ef9a",
   "outputs": [],
   "execution_count": null
  },
  {
   "metadata": {},
   "cell_type": "markdown",
   "source": "---",
   "id": "f18216d93ddcf3af"
  },
  {
   "metadata": {
    "ExecuteTime": {
     "end_time": "2025-06-20T11:53:17.786998Z",
     "start_time": "2025-06-20T09:39:50.450364Z"
    }
   },
   "cell_type": "code",
   "source": "",
   "id": "e8639b3337daa3f1",
   "outputs": [],
   "execution_count": null
  }
 ],
 "metadata": {
  "kernelspec": {
   "display_name": "Python 3",
   "language": "python",
   "name": "python3"
  },
  "language_info": {
   "codemirror_mode": {
    "name": "ipython",
    "version": 2
   },
   "file_extension": ".py",
   "mimetype": "text/x-python",
   "name": "python",
   "nbconvert_exporter": "python",
   "pygments_lexer": "ipython2",
   "version": "2.7.6"
  }
 },
 "nbformat": 4,
 "nbformat_minor": 5
}
