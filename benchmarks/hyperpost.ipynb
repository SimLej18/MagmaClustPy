{
 "cells": [
  {
   "metadata": {},
   "cell_type": "markdown",
   "source": [
    "# Benchmarks - Hyper-posterior distributions\n",
    "\n",
    "**Main considerations when implementing hyper-post**\n",
    "* ...\n"
   ],
   "id": "f69390d194b35b0a"
  },
  {
   "metadata": {},
   "cell_type": "markdown",
   "source": [
    "---\n",
    "## Setup"
   ],
   "id": "4763c6a1086dfd7a"
  },
  {
   "metadata": {
    "ExecuteTime": {
     "end_time": "2025-07-06T09:49:07.301719Z",
     "start_time": "2025-07-06T09:49:07.297211Z"
    }
   },
   "cell_type": "code",
   "source": [
    "# Standard library\n",
    "import os\n",
    "\n",
    "os.environ['JAX_ENABLE_X64'] = \"True\""
   ],
   "id": "eb0046b46dc27950",
   "outputs": [],
   "execution_count": 1
  },
  {
   "metadata": {
    "ExecuteTime": {
     "end_time": "2025-07-06T09:49:08.012343Z",
     "start_time": "2025-07-06T09:49:07.398100Z"
    }
   },
   "cell_type": "code",
   "source": [
    "# Third party\n",
    "import jax\n",
    "from jax import jit, vmap\n",
    "from jax.tree_util import register_pytree_node_class\n",
    "from jax import numpy as jnp\n",
    "from jax.scipy.linalg import cho_factor, cho_solve\n",
    "from jax import lax\n",
    "\n",
    "import numpy as np\n",
    "import pandas as pd"
   ],
   "id": "a1fe8b76912d6f2c",
   "outputs": [],
   "execution_count": 2
  },
  {
   "metadata": {
    "ExecuteTime": {
     "end_time": "2025-07-06T09:49:08.080595Z",
     "start_time": "2025-07-06T09:49:08.018766Z"
    }
   },
   "cell_type": "code",
   "source": [
    "# Local\n",
    "from Kernax import RBFKernel\n",
    "from MagmaClustPy.utils import preprocess_db\n",
    "from MagmaClustPy.linalg import map_to_full_matrix_batch, map_to_full_array_batch\n",
    "from MagmaClustPy.hyperpost import hyperpost"
   ],
   "id": "4b255f340edfbe6f",
   "outputs": [],
   "execution_count": 3
  },
  {
   "metadata": {
    "ExecuteTime": {
     "end_time": "2025-07-06T09:49:08.092958Z",
     "start_time": "2025-07-06T09:49:08.090678Z"
    }
   },
   "cell_type": "code",
   "source": [
    "# Config\n",
    "key = jax.random.PRNGKey(0)\n",
    "test_db_size = \"medium\""
   ],
   "id": "3180afa8778f9553",
   "outputs": [],
   "execution_count": 4
  },
  {
   "metadata": {},
   "cell_type": "markdown",
   "source": [
    "---\n",
    "## Data"
   ],
   "id": "190fcef7dd61821b"
  },
  {
   "metadata": {
    "ExecuteTime": {
     "end_time": "2025-07-06T09:49:08.100970Z",
     "start_time": "2025-07-06T09:49:08.099440Z"
    }
   },
   "cell_type": "code",
   "source": "",
   "id": "c6925bbc4a61e165",
   "outputs": [],
   "execution_count": null
  },
  {
   "metadata": {},
   "cell_type": "markdown",
   "source": [
    "---\n",
    "## Current implementation"
   ],
   "id": "bffd41fea2028bdb"
  },
  {
   "metadata": {
    "ExecuteTime": {
     "end_time": "2025-07-06T09:49:08.109511Z",
     "start_time": "2025-07-06T09:49:08.107829Z"
    }
   },
   "cell_type": "code",
   "source": [
    "import MagmaClustPy\n",
    "\n",
    "hyperpost_old = MagmaClustPy.hyperpost.hyperpost"
   ],
   "id": "6b7e730087bbca42",
   "outputs": [],
   "execution_count": 5
  },
  {
   "metadata": {},
   "cell_type": "markdown",
   "source": [
    "---\n",
    "## Custom implementation(s)"
   ],
   "id": "c7496288f6ddf25f"
  },
  {
   "metadata": {
    "ExecuteTime": {
     "end_time": "2025-07-06T09:49:08.126946Z",
     "start_time": "2025-07-06T09:49:08.116165Z"
    }
   },
   "cell_type": "code",
   "source": [
    "from jax import jit\n",
    "from jax import numpy as jnp\n",
    "from jax.scipy.linalg import cho_factor, cho_solve\n",
    "from jax.tree_util import tree_flatten\n",
    "\n",
    "@jit\n",
    "def hyperpost_shared_input_shared_hp(outputs, prior_mean, mean_cov_u, mean_cov_inv, task_cov, inputs_to_grid=None,\n",
    "                                     nugget=jnp.array(1e-10)):\n",
    "\teye = jnp.eye(task_cov.shape[-1])\n",
    "\n",
    "\t# Compute task covariance and its Cholesky factor\n",
    "\ttask_cov_u, _ = cho_factor(task_cov + eye * nugget)\n",
    "\ttask_cov_inv = cho_solve((task_cov_u, False), eye)\n",
    "\n",
    "\tif inputs_to_grid is not None:\n",
    "\t\ttask_cov_inv = jnp.zeros_like(mean_cov_inv).at[jnp.ix_(inputs_to_grid, inputs_to_grid)].set(task_cov_inv)\n",
    "\n",
    "\t# All tasks share same inputs and hyperparameters, so their inverse covariances are the same, and we can compute\n",
    "\t# one then multiply rather than compute all then sum\n",
    "\tpost_cov_inv, _ = cho_factor(mean_cov_inv + len(outputs) * task_cov_inv, )\n",
    "\tpost_cov = cho_solve((post_cov_inv, False), eye)\n",
    "\n",
    "\t# Compute posterior mean\n",
    "\tweighted_prior_mean = cho_solve((mean_cov_u, False), prior_mean)\n",
    "\tweighted_tasks = cho_solve((task_cov_u, False), outputs.sum(axis=0))\n",
    "\n",
    "\tif inputs_to_grid is not None:\n",
    "\t\tweighted_tasks = jnp.zeros_like(prior_mean).at[inputs_to_grid].set(weighted_tasks)\n",
    "\n",
    "\tpost_mean = cho_solve((post_cov_inv, False), weighted_prior_mean + weighted_tasks)\n",
    "\n",
    "\treturn post_mean, post_cov\n",
    "\n",
    "\n",
    "@jit\n",
    "def hyperpost_shared_input_distinct_hp(outputs, prior_mean, mean_cov_u, mean_cov_inv, task_covs, inputs_to_grid=None,\n",
    "                                       nugget=jnp.array(1e-10)):\n",
    "\teye = jnp.broadcast_to(jnp.eye(task_covs.shape[-1]), task_covs.shape)\n",
    "\n",
    "\t# Compute task covariance and its Cholesky factor\n",
    "\ttask_covs_u, _ = cho_factor(task_covs + eye * nugget)\n",
    "\ttask_cov_inv = cho_solve((task_covs_u, False), eye)\n",
    "\n",
    "\ttask_cov_inv = task_cov_inv.sum(axis=0)\n",
    "\n",
    "\tif inputs_to_grid is not None:\n",
    "\t\ttask_cov_inv = jnp.zeros_like(mean_cov_inv).at[jnp.ix_(inputs_to_grid, inputs_to_grid)].set(task_cov_inv)\n",
    "\n",
    "\tpost_cov_inv, _ = cho_factor(mean_cov_inv + task_cov_inv)\n",
    "\tpost_cov = cho_solve((post_cov_inv, False), eye[0])\n",
    "\n",
    "\t# Compute posterior mean\n",
    "\tweighted_prior_mean = cho_solve((mean_cov_u, False), prior_mean)\n",
    "\t# weighted_tasks = vmap(lambda L, o: cho_solve((L, True), o))(task_covs_L, outputs).sum(axis=0)\n",
    "\tweighted_tasks = cho_solve((task_covs_u, False), outputs).sum(axis=0)\n",
    "\n",
    "\tif inputs_to_grid is not None:\n",
    "\t\tweighted_tasks = jnp.zeros_like(prior_mean).at[inputs_to_grid].set(weighted_tasks)\n",
    "\n",
    "\tpost_mean = cho_solve((post_cov_inv, False), weighted_prior_mean + weighted_tasks)\n",
    "\n",
    "\treturn post_mean, post_cov\n",
    "\n",
    "\n",
    "@jit\n",
    "def hyperpost_distinct_input(outputs, mappings, prior_mean, mean_cov_u, mean_cov_inv, task_covs, all_inputs, inputs_to_grid=None,\n",
    "                             nugget=jnp.array(1e-10)):\n",
    "\t\"\"\"\n",
    "\tcomputes the hyperpost on distinct inputs\n",
    "\n",
    "\ttask_covs: (M, N, N), batch of unaligned covariances\n",
    "\t\"\"\"\n",
    "\tsmall_eye = jnp.broadcast_to(jnp.eye(task_covs.shape[-1]), task_covs.shape)\n",
    "\n",
    "\t# task_covs is padded with NaNs. Replace them by their corresponding identity rows/cols\n",
    "\teyed_task_covs = jnp.where(jnp.isnan(task_covs), small_eye, task_covs)\n",
    "\n",
    "\t# Posterior covariance\n",
    "\ttask_covs_U, _ = cho_factor(eyed_task_covs + small_eye * nugget)\n",
    "\ttask_covs_inv = cho_solve((task_covs_U, False), small_eye)\n",
    "\ttask_covs_inv -= jnp.where(jnp.isnan(task_covs), small_eye, 0)  # Correction on the diagonal\n",
    "\ttask_covs_inv = map_to_full_matrix_batch(task_covs_inv, all_inputs, mappings)\n",
    "\ttask_cov_inv = jnp.nan_to_num(task_covs_inv).sum(axis=0)\n",
    "\n",
    "\tif inputs_to_grid is not None:\n",
    "\t\ttask_cov_inv = jnp.zeros_like(mean_cov_inv).at[jnp.ix_(inputs_to_grid, inputs_to_grid)].set(task_cov_inv)\n",
    "\n",
    "\tpost_cov_inv, _ = cho_factor(mean_cov_inv + task_cov_inv)\n",
    "\tpost_cov = cho_solve((post_cov_inv, False), jnp.eye(mean_cov_u.shape[-1]))\n",
    "\n",
    "\t# Posterior mean\n",
    "\tweighted_prior_mean = cho_solve((mean_cov_u, False), prior_mean)\n",
    "\tmapped_outputs = jnp.nan_to_num(map_to_full_array_batch(outputs, all_inputs, mappings))\n",
    "\tpadded_task_covs_U = map_to_full_matrix_batch(task_covs_U, all_inputs, mappings)\n",
    "\teyed_task_covs_U = jnp.where(jnp.isnan(padded_task_covs_U), jnp.eye(all_inputs.shape[-1]), padded_task_covs_U)\n",
    "\tweighted_tasks = cho_solve((eyed_task_covs_U, False), mapped_outputs).sum(axis=0)\n",
    "\n",
    "\tif inputs_to_grid is not None:\n",
    "\t\tweighted_tasks = jnp.zeros_like(prior_mean).at[inputs_to_grid].set(weighted_tasks)\n",
    "\n",
    "\tpost_mean = cho_solve((post_cov_inv, False), weighted_prior_mean + weighted_tasks)\n",
    "\n",
    "\treturn post_mean, post_cov\n",
    "\n",
    "\n",
    "# General function\n",
    "def hyperpost(inputs, outputs, masks, prior_mean, mean_kernel, task_kernel, all_inputs=None, grid=None,\n",
    "              nugget=jnp.array(1e-10)):\n",
    "\t\"\"\"\n",
    "\tComputes the posterior mean and covariance of a Magma GP given the inputs, outputs, masks, prior mean and kernels.\n",
    "\n",
    "\t:param inputs: the preprocessed (padded and aligned) inputs\n",
    "\t:param outputs: the preprocessed outputs\n",
    "\t:param masks: the masks indicating which inputs are valid\n",
    "\t:param prior_mean: the prior mean, as a scalar or a vector of shape (N, ), where N is the length of the union of all\n",
    "\tinputs and the grid\n",
    "\t:param mean_kernel: kernel of the mean process, with hyperparameters loaded as attributes\n",
    "\t:param task_kernel: kernel of the task process, with hyperparameters loaded as attributes\n",
    "\t:param all_inputs: all distinct inputs. If not provided, it will be computed from the inputs\n",
    "\t:param grid: the grid on which the GP is defined. If not provided, the GP is defined on all distinct inputs\n",
    "\t:param nugget: nugget term to ensure numerical stability. Default is 1e-10\n",
    "\n",
    "\t:return: a 2-tuple of the posterior mean and covariance\n",
    "\t\"\"\"\n",
    "\t#TODO: maybe with multi-output we will have multiple post_mean to compute. We should discuss how to unify the return shape of hyperpost\n",
    "\toutputs = outputs.squeeze()  # For now this will do the trick\n",
    "\n",
    "\tshared_hp = all([hp.ndim == 0 for hp in tree_flatten(task_kernel)[0]])\n",
    "\n",
    "\t# Merge inputs and grid to create all_inputs\n",
    "\tif all_inputs is None:\n",
    "\t\tall_inputs = jnp.sort(jnp.unique(inputs.flatten()))\n",
    "\n",
    "\tshared_input = len(inputs[0]) == len(all_inputs)\n",
    "\n",
    "\tif grid is None:\n",
    "\t\tgrid = all_inputs\n",
    "\t\tinputs_to_grid = None\n",
    "\telse:\n",
    "\t\tgrid = jnp.sort(jnp.unique(jnp.concatenate([all_inputs, grid])))\n",
    "\t\tinputs_to_grid = jnp.searchsorted(grid, all_inputs)\n",
    "\t\tshared_input = False  # We need to pad the cov matrices to compute on the full grid\n",
    "\n",
    "\tif prior_mean.ndim == 0:\n",
    "\t\tprior_mean = jnp.broadcast_to(prior_mean, (len(grid),))\n",
    "\n",
    "\t# Numerical stability terms\n",
    "\teye = jnp.eye(grid.shape[0])\n",
    "\n",
    "\t# Compute mean covariance and its Cholesky factor\n",
    "\tmean_cov = mean_kernel(grid, grid)\n",
    "\tmean_cov_u, _ = cho_factor(mean_cov + eye * nugget)\n",
    "\tmean_cov_inv = cho_solve((mean_cov_u, False), eye)\n",
    "\n",
    "\tif shared_input:\n",
    "\t\tif shared_hp:\n",
    "\t\t\ttask_cov = task_kernel(grid)  # Shape: (N, N)\n",
    "\t\t\treturn hyperpost_shared_input_shared_hp(outputs, prior_mean, mean_cov_u, mean_cov_inv, task_cov,\n",
    "\t\t\t                                        inputs_to_grid, nugget)\n",
    "\n",
    "\t\telse:  # distinct HPs, we have to compute every task covariance but no padding is required\n",
    "\t\t\ttask_covs = task_kernel(inputs)  # Shape: (M, N, N)\n",
    "\t\t\treturn hyperpost_shared_input_distinct_hp(outputs, prior_mean, mean_cov_u, mean_cov_inv, task_covs,\n",
    "\t\t\t                                          inputs_to_grid, nugget)\n",
    "\n",
    "\telse:  # No shared input: we have to pad and mask\n",
    "\t\t# task_covs = task_kernel(jnp.broadcast_to(all_inputs, (len(inputs), len(all_inputs))))\n",
    "\t\ttask_covs = task_kernel(inputs)\n",
    "\t\treturn hyperpost_distinct_input(outputs, masks, prior_mean, mean_cov_u, mean_cov_inv, task_covs, all_inputs,\n",
    "\t\t                                inputs_to_grid, nugget)\n"
   ],
   "id": "b5899ad9d78c05ac",
   "outputs": [],
   "execution_count": 6
  },
  {
   "metadata": {
    "ExecuteTime": {
     "end_time": "2025-07-06T09:49:08.136659Z",
     "start_time": "2025-07-06T09:49:08.134866Z"
    }
   },
   "cell_type": "code",
   "source": "hyperpost_new = hyperpost",
   "id": "f1519c74ca97d180",
   "outputs": [],
   "execution_count": 7
  },
  {
   "metadata": {},
   "cell_type": "markdown",
   "source": [
    "---\n",
    "## Comparison"
   ],
   "id": "88fdaed3f55aae3a"
  },
  {
   "metadata": {},
   "cell_type": "markdown",
   "source": "### shared Input, shared HP",
   "id": "d7945be29b7e754c"
  },
  {
   "metadata": {
    "ExecuteTime": {
     "end_time": "2025-07-06T09:49:08.718719Z",
     "start_time": "2025-07-06T09:49:08.145110Z"
    }
   },
   "cell_type": "code",
   "source": [
    "db = pd.read_csv(f\"../datasets/{test_db_size}_shared_input_shared_hp.csv\")\n",
    "padded_inputs, padded_outputs, mappings, all_inputs = preprocess_db(db)\n",
    "all_inputs.shape, padded_inputs.shape"
   ],
   "id": "5654105b1ac1a46f",
   "outputs": [
    {
     "data": {
      "text/plain": [
       "((150, 1), (200, 150, 1))"
      ]
     },
     "execution_count": 8,
     "metadata": {},
     "output_type": "execute_result"
    }
   ],
   "execution_count": 8
  },
  {
   "metadata": {
    "ExecuteTime": {
     "end_time": "2025-07-06T09:49:09.099795Z",
     "start_time": "2025-07-06T09:49:09.096396Z"
    }
   },
   "cell_type": "code",
   "source": [
    "mean_kern = RBFKernel(length_scale=.3, variance=1.)\n",
    "task_kern = RBFKernel(length_scale=.6, variance=1.)"
   ],
   "id": "e172126be02ff03b",
   "outputs": [],
   "execution_count": 9
  },
  {
   "metadata": {
    "ExecuteTime": {
     "end_time": "2025-07-06T09:49:09.643050Z",
     "start_time": "2025-07-06T09:49:09.110081Z"
    }
   },
   "cell_type": "code",
   "source": "mean_1, cov_1 = hyperpost_old(padded_inputs, padded_outputs.squeeze(), mappings, jnp.array(0.), mean_kern, task_kern, all_inputs=all_inputs)",
   "id": "f1644975c5733316",
   "outputs": [],
   "execution_count": 10
  },
  {
   "metadata": {
    "ExecuteTime": {
     "end_time": "2025-07-06T09:49:09.716839Z",
     "start_time": "2025-07-06T09:49:09.659847Z"
    }
   },
   "cell_type": "code",
   "source": "mean_2, cov_2 = hyperpost_new(padded_inputs, padded_outputs, mappings, jnp.array(0.), mean_kern, task_kern, all_inputs=all_inputs)",
   "id": "4ff5300a64499bfa",
   "outputs": [],
   "execution_count": 11
  },
  {
   "metadata": {
    "ExecuteTime": {
     "end_time": "2025-07-06T09:49:09.813608Z",
     "start_time": "2025-07-06T09:49:09.730655Z"
    }
   },
   "cell_type": "code",
   "source": "jnp.allclose(mean_1, mean_2), jnp.allclose(cov_1, cov_2)",
   "id": "de72f3a104005019",
   "outputs": [
    {
     "data": {
      "text/plain": [
       "(Array(True, dtype=bool), Array(True, dtype=bool))"
      ]
     },
     "execution_count": 12,
     "metadata": {},
     "output_type": "execute_result"
    }
   ],
   "execution_count": 12
  },
  {
   "metadata": {
    "ExecuteTime": {
     "end_time": "2025-07-06T09:49:09.996201Z",
     "start_time": "2025-07-06T09:49:09.829826Z"
    }
   },
   "cell_type": "code",
   "source": "jnp.mean(jnp.abs(mean_1 - mean_2)), jnp.mean(jnp.abs(cov_1 - cov_2))",
   "id": "c48fb997a4cca94e",
   "outputs": [
    {
     "data": {
      "text/plain": [
       "(Array(0., dtype=float64), Array(0., dtype=float64))"
      ]
     },
     "execution_count": 13,
     "metadata": {},
     "output_type": "execute_result"
    }
   ],
   "execution_count": 13
  },
  {
   "metadata": {
    "ExecuteTime": {
     "end_time": "2025-07-06T09:49:10.081908Z",
     "start_time": "2025-07-06T09:49:10.013598Z"
    }
   },
   "cell_type": "code",
   "source": [
    "%%timeit -n 5 -r 5\n",
    "hyperpost_old(padded_inputs.squeeze(), padded_outputs.squeeze(), mappings, jnp.array(0.), mean_kern, task_kern, all_inputs=all_inputs)[0].block_until_ready()"
   ],
   "id": "f153af2dc52e2c9d",
   "outputs": [
    {
     "name": "stdout",
     "output_type": "stream",
     "text": [
      "The slowest run took 4.77 times longer than the fastest. This could mean that an intermediate result is being cached.\n",
      "2.56 ms ± 2.13 ms per loop (mean ± std. dev. of 5 runs, 5 loops each)\n"
     ]
    }
   ],
   "execution_count": 14
  },
  {
   "metadata": {
    "ExecuteTime": {
     "end_time": "2025-07-06T09:49:10.135420Z",
     "start_time": "2025-07-06T09:49:10.096125Z"
    }
   },
   "cell_type": "code",
   "source": [
    "%%timeit -n 5 -r 5\n",
    "hyperpost_new(padded_inputs, padded_outputs, mappings, jnp.array(0.), mean_kern, task_kern, all_inputs=all_inputs)[0].block_until_ready()"
   ],
   "id": "1244bff52409f0a6",
   "outputs": [
    {
     "name": "stdout",
     "output_type": "stream",
     "text": [
      "1.45 ms ± 200 μs per loop (mean ± std. dev. of 5 runs, 5 loops each)\n"
     ]
    }
   ],
   "execution_count": 15
  },
  {
   "metadata": {},
   "cell_type": "markdown",
   "source": "### shared Input, Distinct HP",
   "id": "5cbfcda25a2335f8"
  },
  {
   "metadata": {
    "ExecuteTime": {
     "end_time": "2025-07-06T09:49:10.216255Z",
     "start_time": "2025-07-06T09:49:10.153100Z"
    }
   },
   "cell_type": "code",
   "source": [
    "db = pd.read_csv(f\"../datasets/{test_db_size}_shared_input_distinct_hp.csv\")\n",
    "padded_inputs, padded_outputs, mappings, all_inputs = preprocess_db(db)\n",
    "all_inputs.shape, padded_inputs.shape"
   ],
   "id": "904838f111d40956",
   "outputs": [
    {
     "data": {
      "text/plain": [
       "((150, 1), (200, 150, 1))"
      ]
     },
     "execution_count": 16,
     "metadata": {},
     "output_type": "execute_result"
    }
   ],
   "execution_count": 16
  },
  {
   "metadata": {
    "ExecuteTime": {
     "end_time": "2025-07-06T09:49:10.721700Z",
     "start_time": "2025-07-06T09:49:10.611238Z"
    }
   },
   "cell_type": "code",
   "source": [
    "mean_kern = RBFKernel(length_scale=.3, variance=1.)\n",
    "\n",
    "key, subkey = jax.random.split(key)\n",
    "distinct_length_scales = jax.random.uniform(subkey, (padded_outputs.shape[0],), jnp.float64, .1, 1)\n",
    "task_kern = RBFKernel(length_scale=distinct_length_scales, variance=1.)"
   ],
   "id": "e5f2abcd97be6f1b",
   "outputs": [],
   "execution_count": 17
  },
  {
   "metadata": {
    "ExecuteTime": {
     "end_time": "2025-07-06T09:49:10.881812Z",
     "start_time": "2025-07-06T09:49:10.733865Z"
    }
   },
   "cell_type": "code",
   "source": "mean_1, cov_1 = hyperpost_old(padded_inputs, padded_outputs.squeeze(), mappings, jnp.array(0.), mean_kern, task_kern, all_inputs=all_inputs)",
   "id": "8d373fb9c991692b",
   "outputs": [],
   "execution_count": 18
  },
  {
   "metadata": {
    "ExecuteTime": {
     "end_time": "2025-07-06T09:49:11.037459Z",
     "start_time": "2025-07-06T09:49:10.943133Z"
    }
   },
   "cell_type": "code",
   "source": "mean_2, cov_2 = hyperpost_new(padded_inputs, padded_outputs, mappings, jnp.array(0.), mean_kern, task_kern, all_inputs=all_inputs)",
   "id": "aa5e9db7692e0042",
   "outputs": [],
   "execution_count": 19
  },
  {
   "metadata": {
    "ExecuteTime": {
     "end_time": "2025-07-06T09:49:11.093593Z",
     "start_time": "2025-07-06T09:49:11.089843Z"
    }
   },
   "cell_type": "code",
   "source": "jnp.allclose(mean_1, mean_2), jnp.allclose(cov_1, cov_2)",
   "id": "c26be3bd09c816a1",
   "outputs": [
    {
     "data": {
      "text/plain": [
       "(Array(True, dtype=bool), Array(True, dtype=bool))"
      ]
     },
     "execution_count": 20,
     "metadata": {},
     "output_type": "execute_result"
    }
   ],
   "execution_count": 20
  },
  {
   "metadata": {
    "ExecuteTime": {
     "end_time": "2025-07-06T09:49:11.110966Z",
     "start_time": "2025-07-06T09:49:11.107122Z"
    }
   },
   "cell_type": "code",
   "source": "jnp.mean(jnp.abs(mean_1 - mean_2)), jnp.mean(jnp.abs(cov_1 - cov_2))",
   "id": "ef7a36c33a4ede7e",
   "outputs": [
    {
     "data": {
      "text/plain": [
       "(Array(0., dtype=float64), Array(0., dtype=float64))"
      ]
     },
     "execution_count": 21,
     "metadata": {},
     "output_type": "execute_result"
    }
   ],
   "execution_count": 21
  },
  {
   "metadata": {
    "ExecuteTime": {
     "end_time": "2025-07-06T09:49:12.465913Z",
     "start_time": "2025-07-06T09:49:11.131104Z"
    }
   },
   "cell_type": "code",
   "source": [
    "%%timeit -n 5 -r 5\n",
    "hyperpost_old(padded_inputs, padded_outputs.squeeze(), mappings, jnp.array(0.), mean_kern, task_kern, all_inputs=all_inputs)[0].block_until_ready()"
   ],
   "id": "6aeaee7667f74924",
   "outputs": [
    {
     "name": "stdout",
     "output_type": "stream",
     "text": [
      "53.3 ms ± 1.5 ms per loop (mean ± std. dev. of 5 runs, 5 loops each)\n"
     ]
    }
   ],
   "execution_count": 22
  },
  {
   "metadata": {
    "ExecuteTime": {
     "end_time": "2025-07-06T09:49:13.793445Z",
     "start_time": "2025-07-06T09:49:12.480019Z"
    }
   },
   "cell_type": "code",
   "source": [
    "%%timeit -n 5 -r 5\n",
    "hyperpost_new(padded_inputs, padded_outputs, mappings, jnp.array(0.), mean_kern, task_kern, all_inputs=all_inputs)[0].block_until_ready()"
   ],
   "id": "4c805face94b19ba",
   "outputs": [
    {
     "name": "stdout",
     "output_type": "stream",
     "text": [
      "52.4 ms ± 696 μs per loop (mean ± std. dev. of 5 runs, 5 loops each)\n"
     ]
    }
   ],
   "execution_count": 23
  },
  {
   "metadata": {},
   "cell_type": "markdown",
   "source": "### Distinct Input, shared HP",
   "id": "7ff3a0247d75a333"
  },
  {
   "metadata": {
    "ExecuteTime": {
     "end_time": "2025-07-06T09:49:14.264306Z",
     "start_time": "2025-07-06T09:49:13.806471Z"
    }
   },
   "cell_type": "code",
   "source": [
    "db = pd.read_csv(f\"../datasets/{test_db_size}_distinct_input_shared_hp.csv\")\n",
    "padded_inputs, padded_outputs, mappings, all_inputs = preprocess_db(db)\n",
    "all_inputs.shape, padded_inputs.shape"
   ],
   "id": "a23eb59e31ffc68e",
   "outputs": [
    {
     "data": {
      "text/plain": [
       "((401, 1), (200, 190, 1))"
      ]
     },
     "execution_count": 24,
     "metadata": {},
     "output_type": "execute_result"
    }
   ],
   "execution_count": 24
  },
  {
   "metadata": {
    "ExecuteTime": {
     "end_time": "2025-07-06T09:49:14.822360Z",
     "start_time": "2025-07-06T09:49:14.811191Z"
    }
   },
   "cell_type": "code",
   "source": [
    "mean_kern = RBFKernel(length_scale=.3, variance=1.)\n",
    "task_kern = RBFKernel(length_scale=.6, variance=1.)"
   ],
   "id": "1f6111c9c064ed0d",
   "outputs": [],
   "execution_count": 25
  },
  {
   "metadata": {
    "ExecuteTime": {
     "end_time": "2025-07-06T09:49:15.311691Z",
     "start_time": "2025-07-06T09:49:14.841202Z"
    }
   },
   "cell_type": "code",
   "source": "mean_1, cov_1 = hyperpost_old(padded_inputs, padded_outputs.squeeze(), mappings, jnp.array(0.), mean_kern, task_kern, all_inputs=all_inputs)",
   "id": "17316ad04a0fb630",
   "outputs": [],
   "execution_count": 26
  },
  {
   "metadata": {
    "ExecuteTime": {
     "end_time": "2025-07-06T09:49:15.772958Z",
     "start_time": "2025-07-06T09:49:15.625656Z"
    }
   },
   "cell_type": "code",
   "source": "mean_2, cov_2 = hyperpost_new(padded_inputs, padded_outputs, mappings, jnp.array(0.), mean_kern, task_kern, all_inputs=all_inputs)",
   "id": "929e616510610054",
   "outputs": [],
   "execution_count": 27
  },
  {
   "metadata": {
    "ExecuteTime": {
     "end_time": "2025-07-06T09:49:15.978586Z",
     "start_time": "2025-07-06T09:49:15.899221Z"
    }
   },
   "cell_type": "code",
   "source": "jnp.allclose(mean_1, mean_2), jnp.allclose(cov_1, cov_2)",
   "id": "814138d44310d03c",
   "outputs": [
    {
     "data": {
      "text/plain": [
       "(Array(True, dtype=bool), Array(True, dtype=bool))"
      ]
     },
     "execution_count": 28,
     "metadata": {},
     "output_type": "execute_result"
    }
   ],
   "execution_count": 28
  },
  {
   "metadata": {
    "ExecuteTime": {
     "end_time": "2025-07-06T09:49:16.101378Z",
     "start_time": "2025-07-06T09:49:15.994346Z"
    }
   },
   "cell_type": "code",
   "source": "jnp.mean(jnp.abs(mean_1 - mean_2)), jnp.mean(jnp.abs(cov_1 - cov_2))",
   "id": "a813c55c0e1381fa",
   "outputs": [
    {
     "data": {
      "text/plain": [
       "(Array(0., dtype=float64), Array(0., dtype=float64))"
      ]
     },
     "execution_count": 29,
     "metadata": {},
     "output_type": "execute_result"
    }
   ],
   "execution_count": 29
  },
  {
   "metadata": {
    "ExecuteTime": {
     "end_time": "2025-07-06T09:49:19.857624Z",
     "start_time": "2025-07-06T09:49:16.116707Z"
    }
   },
   "cell_type": "code",
   "source": [
    "%%timeit -n 5 -r 5\n",
    "hyperpost_old(padded_inputs, padded_outputs.squeeze(), mappings, jnp.array(0.), mean_kern, task_kern, all_inputs=all_inputs)[0].block_until_ready()"
   ],
   "id": "b88a4ae47765a72d",
   "outputs": [
    {
     "name": "stdout",
     "output_type": "stream",
     "text": [
      "150 ms ± 3.26 ms per loop (mean ± std. dev. of 5 runs, 5 loops each)\n"
     ]
    }
   ],
   "execution_count": 30
  },
  {
   "metadata": {
    "ExecuteTime": {
     "end_time": "2025-07-06T09:49:23.717283Z",
     "start_time": "2025-07-06T09:49:19.887741Z"
    }
   },
   "cell_type": "code",
   "source": [
    "%%timeit -n 5 -r 5\n",
    "hyperpost_new(padded_inputs, padded_outputs, mappings, jnp.array(0.), mean_kern, task_kern, all_inputs=all_inputs)[0].block_until_ready()"
   ],
   "id": "75072cd1e7cbb8e2",
   "outputs": [
    {
     "name": "stdout",
     "output_type": "stream",
     "text": [
      "153 ms ± 4.36 ms per loop (mean ± std. dev. of 5 runs, 5 loops each)\n"
     ]
    }
   ],
   "execution_count": 31
  },
  {
   "metadata": {},
   "cell_type": "markdown",
   "source": "### Distinct Input, Distinct HP",
   "id": "2a2fe3eb198a9adc"
  },
  {
   "metadata": {
    "ExecuteTime": {
     "end_time": "2025-07-06T09:49:24.135889Z",
     "start_time": "2025-07-06T09:49:23.747549Z"
    }
   },
   "cell_type": "code",
   "source": [
    "db = pd.read_csv(f\"../datasets/{test_db_size}_distinct_input_distinct_hp.csv\")\n",
    "padded_inputs, padded_outputs, mappings, all_inputs = preprocess_db(db)\n",
    "all_inputs.shape, padded_inputs.shape"
   ],
   "id": "9a6f9a9e8f3dd6aa",
   "outputs": [
    {
     "data": {
      "text/plain": [
       "((401, 1), (200, 188, 1))"
      ]
     },
     "execution_count": 32,
     "metadata": {},
     "output_type": "execute_result"
    }
   ],
   "execution_count": 32
  },
  {
   "metadata": {
    "ExecuteTime": {
     "end_time": "2025-07-06T09:49:24.548765Z",
     "start_time": "2025-07-06T09:49:24.544956Z"
    }
   },
   "cell_type": "code",
   "source": [
    "mean_kern = RBFKernel(length_scale=.3, variance=1.)\n",
    "\n",
    "key, subkey = jax.random.split(key)\n",
    "distinct_length_scales = jax.random.uniform(subkey, (padded_outputs.shape[0],), jnp.float64, .1, 1)\n",
    "task_kern = RBFKernel(length_scale=distinct_length_scales, variance=1.)"
   ],
   "id": "770782b788ce8512",
   "outputs": [],
   "execution_count": 33
  },
  {
   "metadata": {
    "ExecuteTime": {
     "end_time": "2025-07-06T09:49:24.782409Z",
     "start_time": "2025-07-06T09:49:24.564237Z"
    }
   },
   "cell_type": "code",
   "source": "mean_1, cov_1 = hyperpost_old(padded_inputs, padded_outputs.squeeze(), mappings, jnp.array(0.), mean_kern, task_kern, all_inputs=all_inputs)",
   "id": "280552e5cbd25213",
   "outputs": [],
   "execution_count": 34
  },
  {
   "metadata": {
    "ExecuteTime": {
     "end_time": "2025-07-06T09:49:25.072148Z",
     "start_time": "2025-07-06T09:49:24.925142Z"
    }
   },
   "cell_type": "code",
   "source": "mean_2, cov_2 = hyperpost_new(padded_inputs, padded_outputs, mappings, jnp.array(0.), mean_kern, task_kern, all_inputs=all_inputs)",
   "id": "b36a1c92c25dfd36",
   "outputs": [],
   "execution_count": 35
  },
  {
   "metadata": {
    "ExecuteTime": {
     "end_time": "2025-07-06T09:49:25.224455Z",
     "start_time": "2025-07-06T09:49:25.220853Z"
    }
   },
   "cell_type": "code",
   "source": "jnp.allclose(mean_1, mean_2), jnp.allclose(cov_1, cov_2)",
   "id": "4e9d112b1e53e54f",
   "outputs": [
    {
     "data": {
      "text/plain": [
       "(Array(True, dtype=bool), Array(True, dtype=bool))"
      ]
     },
     "execution_count": 36,
     "metadata": {},
     "output_type": "execute_result"
    }
   ],
   "execution_count": 36
  },
  {
   "metadata": {
    "ExecuteTime": {
     "end_time": "2025-07-06T09:49:25.243840Z",
     "start_time": "2025-07-06T09:49:25.240137Z"
    }
   },
   "cell_type": "code",
   "source": "jnp.mean(jnp.abs(mean_1 - mean_2)), jnp.mean(jnp.abs(cov_1 - cov_2))",
   "id": "43074bd443b35373",
   "outputs": [
    {
     "data": {
      "text/plain": [
       "(Array(0., dtype=float64), Array(0., dtype=float64))"
      ]
     },
     "execution_count": 37,
     "metadata": {},
     "output_type": "execute_result"
    }
   ],
   "execution_count": 37
  },
  {
   "metadata": {
    "ExecuteTime": {
     "end_time": "2025-07-06T09:49:29.626513Z",
     "start_time": "2025-07-06T09:49:25.258616Z"
    }
   },
   "cell_type": "code",
   "source": [
    "%%timeit -n 5 -r 5\n",
    "hyperpost_old(padded_inputs, padded_outputs.squeeze(), mappings, jnp.array(0.), mean_kern, task_kern, all_inputs=all_inputs)[0].block_until_ready()"
   ],
   "id": "492c4d985a9d85c7",
   "outputs": [
    {
     "name": "stdout",
     "output_type": "stream",
     "text": [
      "174 ms ± 23.4 ms per loop (mean ± std. dev. of 5 runs, 5 loops each)\n"
     ]
    }
   ],
   "execution_count": 38
  },
  {
   "metadata": {
    "ExecuteTime": {
     "end_time": "2025-07-06T09:49:34.006751Z",
     "start_time": "2025-07-06T09:49:29.657371Z"
    }
   },
   "cell_type": "code",
   "source": [
    "%%timeit -n 5 -r 5\n",
    "hyperpost_new(padded_inputs, padded_outputs, mappings, jnp.array(0.), mean_kern, task_kern, all_inputs=all_inputs)[0].block_until_ready()"
   ],
   "id": "90a48135be0cd5ab",
   "outputs": [
    {
     "name": "stdout",
     "output_type": "stream",
     "text": [
      "174 ms ± 21.3 ms per loop (mean ± std. dev. of 5 runs, 5 loops each)\n"
     ]
    }
   ],
   "execution_count": 39
  },
  {
   "metadata": {},
   "cell_type": "markdown",
   "source": "### Using a custom grid",
   "id": "a32bdf4a27914393"
  },
  {
   "metadata": {
    "ExecuteTime": {
     "end_time": "2025-07-06T09:49:34.184956Z",
     "start_time": "2025-07-06T09:49:34.028996Z"
    }
   },
   "cell_type": "code",
   "source": [
    "db = pd.read_csv(f\"../datasets/{test_db_size}_distinct_input_shared_hp.csv\")\n",
    "padded_inputs, padded_outputs, mappings, all_inputs = preprocess_db(db)\n",
    "\n",
    "grid = jnp.linspace(jnp.min(all_inputs, axis=1), jnp.max(all_inputs, axis=1), 500)\n",
    "all_inputs.shape, padded_inputs.shape, grid.shape"
   ],
   "id": "9e826e7866c3ff74",
   "outputs": [
    {
     "data": {
      "text/plain": [
       "((401, 1), (200, 190, 1), (500, 401))"
      ]
     },
     "execution_count": 40,
     "metadata": {},
     "output_type": "execute_result"
    }
   ],
   "execution_count": 40
  },
  {
   "metadata": {
    "ExecuteTime": {
     "end_time": "2025-07-06T09:49:34.512956Z",
     "start_time": "2025-07-06T09:49:34.509910Z"
    }
   },
   "cell_type": "code",
   "source": [
    "mean_kern = RBFKernel(length_scale=.3, variance=1.)\n",
    "task_kern = RBFKernel(length_scale=.6, variance=1.)"
   ],
   "id": "a21d79a20e721df3",
   "outputs": [],
   "execution_count": 41
  },
  {
   "metadata": {
    "ExecuteTime": {
     "end_time": "2025-07-06T09:49:34.531307Z",
     "start_time": "2025-07-06T09:49:34.527460Z"
    }
   },
   "cell_type": "code",
   "source": "mean_1, cov_1 = hyperpost_old(padded_inputs, padded_outputs.squeeze(), mappings, jnp.array(0.), mean_kern, task_kern, all_inputs=all_inputs)",
   "id": "f17f4a4f5d056933",
   "outputs": [],
   "execution_count": 42
  },
  {
   "metadata": {
    "ExecuteTime": {
     "end_time": "2025-07-06T09:49:34.544358Z",
     "start_time": "2025-07-06T09:49:34.537992Z"
    }
   },
   "cell_type": "code",
   "source": "mean_2, cov_2 = hyperpost_new(padded_inputs, padded_outputs, mappings, jnp.array(0.), mean_kern, task_kern, all_inputs=all_inputs)",
   "id": "783df86742b15858",
   "outputs": [],
   "execution_count": 43
  },
  {
   "metadata": {
    "ExecuteTime": {
     "end_time": "2025-07-06T09:49:34.898565Z",
     "start_time": "2025-07-06T09:49:34.895632Z"
    }
   },
   "cell_type": "code",
   "source": "jnp.allclose(mean_1, mean_2), jnp.allclose(cov_1, cov_2)",
   "id": "739c124cac118897",
   "outputs": [
    {
     "data": {
      "text/plain": [
       "(Array(True, dtype=bool), Array(True, dtype=bool))"
      ]
     },
     "execution_count": 44,
     "metadata": {},
     "output_type": "execute_result"
    }
   ],
   "execution_count": 44
  },
  {
   "metadata": {
    "ExecuteTime": {
     "end_time": "2025-07-06T09:49:34.905888Z",
     "start_time": "2025-07-06T09:49:34.902561Z"
    }
   },
   "cell_type": "code",
   "source": "jnp.mean(jnp.abs(mean_1 - mean_2)), jnp.mean(jnp.abs(cov_1 - cov_2))",
   "id": "f8bc09c9f37c81fc",
   "outputs": [
    {
     "data": {
      "text/plain": [
       "(Array(0., dtype=float64), Array(0., dtype=float64))"
      ]
     },
     "execution_count": 45,
     "metadata": {},
     "output_type": "execute_result"
    }
   ],
   "execution_count": 45
  },
  {
   "metadata": {
    "ExecuteTime": {
     "end_time": "2025-07-06T09:49:39.391627Z",
     "start_time": "2025-07-06T09:49:34.927888Z"
    }
   },
   "cell_type": "code",
   "source": [
    "%%timeit -n 5 -r 5\n",
    "hyperpost_old(padded_inputs, padded_outputs.squeeze(), mappings, jnp.array(0.), mean_kern, task_kern, all_inputs=all_inputs)[0].block_until_ready()"
   ],
   "id": "c31d4473991870cc",
   "outputs": [
    {
     "name": "stdout",
     "output_type": "stream",
     "text": [
      "178 ms ± 21.7 ms per loop (mean ± std. dev. of 5 runs, 5 loops each)\n"
     ]
    }
   ],
   "execution_count": 46
  },
  {
   "metadata": {
    "ExecuteTime": {
     "end_time": "2025-07-06T09:49:43.336743Z",
     "start_time": "2025-07-06T09:49:39.413679Z"
    }
   },
   "cell_type": "code",
   "source": [
    "%%timeit -n 5 -r 5\n",
    "hyperpost_new(padded_inputs, padded_outputs, mappings, jnp.array(0.), mean_kern, task_kern, all_inputs=all_inputs)[0].block_until_ready()"
   ],
   "id": "6e45d79091140280",
   "outputs": [
    {
     "name": "stdout",
     "output_type": "stream",
     "text": [
      "157 ms ± 3.58 ms per loop (mean ± std. dev. of 5 runs, 5 loops each)\n"
     ]
    }
   ],
   "execution_count": 47
  },
  {
   "metadata": {},
   "cell_type": "markdown",
   "source": [
    "---\n",
    "## Conclusion"
   ],
   "id": "40eac9ed87ce043e"
  },
  {
   "metadata": {
    "ExecuteTime": {
     "end_time": "2025-07-06T09:49:43.354462Z",
     "start_time": "2025-07-06T09:49:43.352973Z"
    }
   },
   "cell_type": "code",
   "source": "",
   "id": "e00d28413733ef9a",
   "outputs": [],
   "execution_count": null
  },
  {
   "metadata": {},
   "cell_type": "markdown",
   "source": "---",
   "id": "f18216d93ddcf3af"
  },
  {
   "metadata": {
    "ExecuteTime": {
     "end_time": "2025-07-06T09:49:43.361534Z",
     "start_time": "2025-07-06T09:49:43.360168Z"
    }
   },
   "cell_type": "code",
   "source": "",
   "id": "e8639b3337daa3f1",
   "outputs": [],
   "execution_count": null
  }
 ],
 "metadata": {
  "kernelspec": {
   "display_name": "Python 3",
   "language": "python",
   "name": "python3"
  },
  "language_info": {
   "codemirror_mode": {
    "name": "ipython",
    "version": 2
   },
   "file_extension": ".py",
   "mimetype": "text/x-python",
   "name": "python",
   "nbconvert_exporter": "python",
   "pygments_lexer": "ipython2",
   "version": "2.7.6"
  }
 },
 "nbformat": 4,
 "nbformat_minor": 5
}
