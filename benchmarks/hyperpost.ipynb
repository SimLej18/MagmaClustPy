{
 "cells": [
  {
   "metadata": {},
   "cell_type": "markdown",
   "source": [
    "# Benchmarks - Hyper-posterior distributions\n",
    "\n",
    "**Main considerations when implementing hyper-post**\n",
    "* ...\n"
   ],
   "id": "f69390d194b35b0a"
  },
  {
   "metadata": {},
   "cell_type": "markdown",
   "source": [
    "---\n",
    "## Setup"
   ],
   "id": "4763c6a1086dfd7a"
  },
  {
   "metadata": {
    "ExecuteTime": {
     "end_time": "2025-07-10T10:55:19.254010Z",
     "start_time": "2025-07-10T10:55:19.251258Z"
    }
   },
   "cell_type": "code",
   "source": [
    "# Standard library\n",
    "import os\n",
    "\n",
    "os.environ['JAX_ENABLE_X64'] = \"True\""
   ],
   "id": "eb0046b46dc27950",
   "outputs": [],
   "execution_count": 1
  },
  {
   "metadata": {
    "ExecuteTime": {
     "end_time": "2025-07-10T10:55:19.941488Z",
     "start_time": "2025-07-10T10:55:19.345206Z"
    }
   },
   "cell_type": "code",
   "source": [
    "# Third party\n",
    "import jax\n",
    "from jax import jit, vmap\n",
    "from jax.tree_util import register_pytree_node_class\n",
    "from jax import numpy as jnp\n",
    "#from jax.scipy.linalg import cho_factor, cho_solve\n",
    "from jax import lax\n",
    "\n",
    "import numpy as np\n",
    "import pandas as pd"
   ],
   "id": "a1fe8b76912d6f2c",
   "outputs": [],
   "execution_count": 2
  },
  {
   "metadata": {
    "ExecuteTime": {
     "end_time": "2025-07-10T10:55:20.122890Z",
     "start_time": "2025-07-10T10:55:19.948805Z"
    }
   },
   "cell_type": "code",
   "source": [
    "# Local\n",
    "from Kernax import RBFKernel\n",
    "from MagmaClustPy.utils import preprocess_db\n",
    "from MagmaClustPy.linalg import map_to_full_matrix_batch, map_to_full_array_batch\n",
    "from MagmaClustPy.hyperpost import hyperpost"
   ],
   "id": "4b255f340edfbe6f",
   "outputs": [],
   "execution_count": 3
  },
  {
   "metadata": {
    "ExecuteTime": {
     "end_time": "2025-07-10T10:55:20.135987Z",
     "start_time": "2025-07-10T10:55:20.133561Z"
    }
   },
   "cell_type": "code",
   "source": [
    "# Config\n",
    "key = jax.random.PRNGKey(0)\n",
    "test_db_size = \"medium\""
   ],
   "id": "3180afa8778f9553",
   "outputs": [],
   "execution_count": 4
  },
  {
   "metadata": {},
   "cell_type": "markdown",
   "source": [
    "---\n",
    "## Data"
   ],
   "id": "190fcef7dd61821b"
  },
  {
   "metadata": {
    "ExecuteTime": {
     "end_time": "2025-07-10T10:55:20.154651Z",
     "start_time": "2025-07-10T10:55:20.153286Z"
    }
   },
   "cell_type": "code",
   "source": "",
   "id": "c6925bbc4a61e165",
   "outputs": [],
   "execution_count": null
  },
  {
   "metadata": {},
   "cell_type": "markdown",
   "source": [
    "---\n",
    "## Current implementation"
   ],
   "id": "bffd41fea2028bdb"
  },
  {
   "metadata": {
    "ExecuteTime": {
     "end_time": "2025-07-10T10:55:20.171583Z",
     "start_time": "2025-07-10T10:55:20.170049Z"
    }
   },
   "cell_type": "code",
   "source": [
    "import MagmaClustPy\n",
    "\n",
    "hyperpost_old = MagmaClustPy.hyperpost.hyperpost"
   ],
   "id": "6b7e730087bbca42",
   "outputs": [],
   "execution_count": 5
  },
  {
   "metadata": {},
   "cell_type": "markdown",
   "source": [
    "---\n",
    "## Custom implementation(s)\n",
    "\n",
    "*Start by copy-pasting the original function from the MagmaClustPy module, then bring modifications*"
   ],
   "id": "c7496288f6ddf25f"
  },
  {
   "metadata": {},
   "cell_type": "code",
   "outputs": [],
   "execution_count": null,
   "source": "",
   "id": "4dc188a43da6a6ec"
  },
  {
   "metadata": {},
   "cell_type": "code",
   "outputs": [],
   "execution_count": null,
   "source": "hyperpost_new = hyperpost",
   "id": "ced0b5c8998fcc34"
  },
  {
   "metadata": {},
   "cell_type": "markdown",
   "source": [
    "---\n",
    "## Comparison"
   ],
   "id": "88fdaed3f55aae3a"
  },
  {
   "metadata": {},
   "cell_type": "markdown",
   "source": "### shared Input, shared HP",
   "id": "d7945be29b7e754c"
  },
  {
   "metadata": {
    "ExecuteTime": {
     "end_time": "2025-07-10T10:55:20.720467Z",
     "start_time": "2025-07-10T10:55:20.238431Z"
    }
   },
   "cell_type": "code",
   "source": [
    "db = pd.read_csv(f\"../datasets/{test_db_size}_shared_input_shared_hp.csv\")\n",
    "padded_inputs, padded_outputs, mappings, all_inputs = preprocess_db(db)\n",
    "all_inputs.shape, padded_inputs.shape"
   ],
   "id": "5654105b1ac1a46f",
   "outputs": [
    {
     "data": {
      "text/plain": [
       "((150, 1), (200, 150, 1))"
      ]
     },
     "execution_count": 8,
     "metadata": {},
     "output_type": "execute_result"
    }
   ],
   "execution_count": 8
  },
  {
   "metadata": {
    "ExecuteTime": {
     "end_time": "2025-07-10T10:55:21.150126Z",
     "start_time": "2025-07-10T10:55:21.146861Z"
    }
   },
   "cell_type": "code",
   "source": [
    "mean_kern = RBFKernel(length_scale=jnp.array(.3), variance=jnp.array(1.))\n",
    "task_kern = RBFKernel(length_scale=jnp.array(.6), variance=jnp.array(1.))"
   ],
   "id": "e172126be02ff03b",
   "outputs": [],
   "execution_count": 9
  },
  {
   "metadata": {},
   "cell_type": "code",
   "outputs": [],
   "execution_count": null,
   "source": "mean_1, cov_1 = hyperpost_old(padded_inputs, padded_outputs, mappings, all_inputs, jnp.array(0.), mean_kern, task_kern)",
   "id": "2632c619487da50d"
  },
  {
   "metadata": {},
   "cell_type": "code",
   "outputs": [],
   "execution_count": null,
   "source": "mean_2, cov_2 = hyperpost_new(padded_inputs, padded_outputs, mappings, all_inputs, jnp.array(0.), mean_kern, task_kern)",
   "id": "869cc341b72c97b8"
  },
  {
   "metadata": {},
   "cell_type": "code",
   "outputs": [],
   "execution_count": null,
   "source": "jnp.allclose(mean_1, mean_2), jnp.allclose(cov_1, cov_2)",
   "id": "2d3c9232e2abc9a9"
  },
  {
   "metadata": {},
   "cell_type": "code",
   "outputs": [],
   "execution_count": null,
   "source": "jnp.mean(jnp.abs(mean_1 - mean_2)), jnp.mean(jnp.abs(cov_1 - cov_2))",
   "id": "2bdf0e07755b8df"
  },
  {
   "metadata": {},
   "cell_type": "code",
   "outputs": [],
   "execution_count": null,
   "source": [
    "%%timeit -n 5 -r 5\n",
    "hyperpost_old(padded_inputs, padded_outputs, mappings, all_inputs, jnp.array(0.), mean_kern, task_kern)[0].block_until_ready()"
   ],
   "id": "1e5860b5c0e2c5c0"
  },
  {
   "metadata": {},
   "cell_type": "code",
   "outputs": [],
   "execution_count": null,
   "source": [
    "%%timeit -n 5 -r 5\n",
    "hyperpost_new(padded_inputs, padded_outputs, mappings, all_inputs, jnp.array(0.), mean_kern, task_kern)[0].block_until_ready()"
   ],
   "id": "d2785241940836"
  },
  {
   "metadata": {},
   "cell_type": "markdown",
   "source": "### shared Input, Distinct HP",
   "id": "5cbfcda25a2335f8"
  },
  {
   "metadata": {
    "ExecuteTime": {
     "end_time": "2025-07-10T10:55:22.305394Z",
     "start_time": "2025-07-10T10:55:22.232471Z"
    }
   },
   "cell_type": "code",
   "source": [
    "db = pd.read_csv(f\"../datasets/{test_db_size}_shared_input_distinct_hp.csv\")\n",
    "padded_inputs, padded_outputs, mappings, all_inputs = preprocess_db(db)\n",
    "all_inputs.shape, padded_inputs.shape"
   ],
   "id": "904838f111d40956",
   "outputs": [
    {
     "data": {
      "text/plain": [
       "((150, 1), (200, 150, 1))"
      ]
     },
     "execution_count": 16,
     "metadata": {},
     "output_type": "execute_result"
    }
   ],
   "execution_count": 16
  },
  {
   "metadata": {
    "ExecuteTime": {
     "end_time": "2025-07-10T10:55:23.038675Z",
     "start_time": "2025-07-10T10:55:22.913815Z"
    }
   },
   "cell_type": "code",
   "source": [
    "mean_kern = RBFKernel(length_scale=jnp.array(.3), variance=jnp.array(1.))\n",
    "\n",
    "key, subkey = jax.random.split(key)\n",
    "distinct_length_scales = jax.random.uniform(subkey, (padded_outputs.shape[0],), jnp.float64, .1, 1)\n",
    "task_kern = RBFKernel(length_scale=distinct_length_scales, variance=jnp.array(1.))"
   ],
   "id": "e5f2abcd97be6f1b",
   "outputs": [],
   "execution_count": 17
  },
  {
   "metadata": {},
   "cell_type": "code",
   "outputs": [],
   "execution_count": null,
   "source": "mean_1, cov_1 = hyperpost_old(padded_inputs, padded_outputs, mappings, all_inputs, jnp.array(0.), mean_kern, task_kern)",
   "id": "ebe4bea94875c8b4"
  },
  {
   "metadata": {},
   "cell_type": "code",
   "outputs": [],
   "execution_count": null,
   "source": "mean_2, cov_2 = hyperpost_new(padded_inputs, padded_outputs, mappings, all_inputs, jnp.array(0.), mean_kern, task_kern)",
   "id": "24053029ebacbf95"
  },
  {
   "metadata": {},
   "cell_type": "code",
   "outputs": [],
   "execution_count": null,
   "source": "jnp.allclose(mean_1, mean_2), jnp.allclose(cov_1, cov_2)",
   "id": "7f5eb9561a27ea96"
  },
  {
   "metadata": {},
   "cell_type": "code",
   "outputs": [],
   "execution_count": null,
   "source": "jnp.mean(jnp.abs(mean_1 - mean_2)), jnp.mean(jnp.abs(cov_1 - cov_2))",
   "id": "c9cd460b8648e208"
  },
  {
   "metadata": {},
   "cell_type": "code",
   "outputs": [],
   "execution_count": null,
   "source": [
    "%%timeit -n 5 -r 5\n",
    "hyperpost_old(padded_inputs, padded_outputs, mappings, all_inputs, jnp.array(0.), mean_kern, task_kern)[0].block_until_ready()"
   ],
   "id": "3aef6ee0f0f0beec"
  },
  {
   "metadata": {},
   "cell_type": "code",
   "outputs": [],
   "execution_count": null,
   "source": [
    "%%timeit -n 5 -r 5\n",
    "hyperpost_new(padded_inputs, padded_outputs, mappings, all_inputs, jnp.array(0.), mean_kern, task_kern)[0].block_until_ready()"
   ],
   "id": "2fb42fdff4de1048"
  },
  {
   "metadata": {},
   "cell_type": "markdown",
   "source": "### Distinct Input, shared HP",
   "id": "7ff3a0247d75a333"
  },
  {
   "metadata": {
    "ExecuteTime": {
     "end_time": "2025-07-10T10:55:27.477203Z",
     "start_time": "2025-07-10T10:55:26.862039Z"
    }
   },
   "cell_type": "code",
   "source": [
    "db = pd.read_csv(f\"../datasets/{test_db_size}_distinct_input_shared_hp.csv\")\n",
    "padded_inputs, padded_outputs, mappings, all_inputs = preprocess_db(db)\n",
    "all_inputs.shape, padded_inputs.shape"
   ],
   "id": "a23eb59e31ffc68e",
   "outputs": [
    {
     "data": {
      "text/plain": [
       "((401, 1), (200, 190, 1))"
      ]
     },
     "execution_count": 24,
     "metadata": {},
     "output_type": "execute_result"
    }
   ],
   "execution_count": 24
  },
  {
   "metadata": {
    "ExecuteTime": {
     "end_time": "2025-07-10T10:55:27.498132Z",
     "start_time": "2025-07-10T10:55:27.490155Z"
    }
   },
   "cell_type": "code",
   "source": [
    "mean_kern = RBFKernel(length_scale=jnp.array(.3), variance=jnp.array(1.))\n",
    "task_kern = RBFKernel(length_scale=jnp.array(.6), variance=jnp.array(1.))"
   ],
   "id": "1f6111c9c064ed0d",
   "outputs": [],
   "execution_count": 25
  },
  {
   "metadata": {},
   "cell_type": "code",
   "outputs": [],
   "execution_count": null,
   "source": "mean_1, cov_1 = hyperpost_old(padded_inputs, padded_outputs, mappings, all_inputs, jnp.array(0.), mean_kern, task_kern)",
   "id": "92b27b730997d9ac"
  },
  {
   "metadata": {},
   "cell_type": "code",
   "outputs": [],
   "execution_count": null,
   "source": "mean_2, cov_2 = hyperpost_new(padded_inputs, padded_outputs, mappings, all_inputs, jnp.array(0.), mean_kern, task_kern)",
   "id": "9032813d9ccbb53e"
  },
  {
   "metadata": {},
   "cell_type": "code",
   "outputs": [],
   "execution_count": null,
   "source": "jnp.allclose(mean_1, mean_2), jnp.allclose(cov_1, cov_2)",
   "id": "e4aad1cd863581d4"
  },
  {
   "metadata": {},
   "cell_type": "code",
   "outputs": [],
   "execution_count": null,
   "source": "jnp.mean(jnp.abs(mean_1 - mean_2)), jnp.mean(jnp.abs(cov_1 - cov_2))",
   "id": "d5a63e525d623be5"
  },
  {
   "metadata": {},
   "cell_type": "code",
   "outputs": [],
   "execution_count": null,
   "source": [
    "%%timeit -n 5 -r 5\n",
    "hyperpost_old(padded_inputs, padded_outputs, mappings, all_inputs, jnp.array(0.), mean_kern, task_kern)[0].block_until_ready()"
   ],
   "id": "9e1a196293684ee6"
  },
  {
   "metadata": {},
   "cell_type": "code",
   "outputs": [],
   "execution_count": null,
   "source": [
    "%%timeit -n 5 -r 5\n",
    "hyperpost_new(padded_inputs, padded_outputs, mappings, all_inputs, jnp.array(0.), mean_kern, task_kern)[0].block_until_ready()"
   ],
   "id": "e419a908ff005888"
  },
  {
   "metadata": {},
   "cell_type": "markdown",
   "source": "### Distinct Input, Distinct HP",
   "id": "2a2fe3eb198a9adc"
  },
  {
   "metadata": {
    "ExecuteTime": {
     "end_time": "2025-07-10T10:55:40.518515Z",
     "start_time": "2025-07-10T10:55:40.156917Z"
    }
   },
   "cell_type": "code",
   "source": [
    "db = pd.read_csv(f\"../datasets/{test_db_size}_distinct_input_distinct_hp.csv\")\n",
    "padded_inputs, padded_outputs, mappings, all_inputs = preprocess_db(db)\n",
    "all_inputs.shape, padded_inputs.shape"
   ],
   "id": "9a6f9a9e8f3dd6aa",
   "outputs": [
    {
     "data": {
      "text/plain": [
       "((401, 1), (200, 188, 1))"
      ]
     },
     "execution_count": 32,
     "metadata": {},
     "output_type": "execute_result"
    }
   ],
   "execution_count": 32
  },
  {
   "metadata": {
    "ExecuteTime": {
     "end_time": "2025-07-10T10:55:41.095052Z",
     "start_time": "2025-07-10T10:55:41.081015Z"
    }
   },
   "cell_type": "code",
   "source": [
    "mean_kern = RBFKernel(length_scale=jnp.array(.3), variance=jnp.array(1.))\n",
    "\n",
    "key, subkey = jax.random.split(key)\n",
    "distinct_length_scales = jax.random.uniform(subkey, (padded_outputs.shape[0],), jnp.float64, .1, 1)\n",
    "task_kern = RBFKernel(length_scale=distinct_length_scales, variance=jnp.array(1.))"
   ],
   "id": "770782b788ce8512",
   "outputs": [],
   "execution_count": 33
  },
  {
   "metadata": {},
   "cell_type": "code",
   "outputs": [],
   "execution_count": null,
   "source": "mean_1, cov_1 = hyperpost_old(padded_inputs, padded_outputs, mappings, all_inputs, jnp.array(0.), mean_kern, task_kern)",
   "id": "f9a5d0d7561f6f00"
  },
  {
   "metadata": {},
   "cell_type": "code",
   "outputs": [],
   "execution_count": null,
   "source": "mean_2, cov_2 = hyperpost_new(padded_inputs, padded_outputs, mappings, all_inputs, jnp.array(0.), mean_kern, task_kern)",
   "id": "db1d25aa38955124"
  },
  {
   "metadata": {},
   "cell_type": "code",
   "outputs": [],
   "execution_count": null,
   "source": "jnp.allclose(mean_1, mean_2), jnp.allclose(cov_1, cov_2)",
   "id": "27ad891fdd6cfccf"
  },
  {
   "metadata": {},
   "cell_type": "code",
   "outputs": [],
   "execution_count": null,
   "source": "jnp.mean(jnp.abs(mean_1 - mean_2)), jnp.mean(jnp.abs(cov_1 - cov_2))",
   "id": "258f3c081d7fac8a"
  },
  {
   "metadata": {},
   "cell_type": "code",
   "outputs": [],
   "execution_count": null,
   "source": [
    "%%timeit -n 5 -r 5\n",
    "hyperpost_old(padded_inputs, padded_outputs, mappings, all_inputs, jnp.array(0.), mean_kern, task_kern)[0].block_until_ready()"
   ],
   "id": "ceea26d6e6da7605"
  },
  {
   "metadata": {},
   "cell_type": "code",
   "outputs": [],
   "execution_count": null,
   "source": [
    "%%timeit -n 5 -r 5\n",
    "hyperpost_new(padded_inputs, padded_outputs, mappings, all_inputs, jnp.array(0.), mean_kern, task_kern)[0].block_until_ready()"
   ],
   "id": "de8e6d752bcdec3c"
  },
  {
   "metadata": {},
   "cell_type": "markdown",
   "source": "### Using a custom grid",
   "id": "a32bdf4a27914393"
  },
  {
   "metadata": {
    "ExecuteTime": {
     "end_time": "2025-07-10T10:55:52.145468Z",
     "start_time": "2025-07-10T10:55:52.001066Z"
    }
   },
   "cell_type": "code",
   "source": [
    "db = pd.read_csv(f\"../datasets/{test_db_size}_distinct_input_shared_hp.csv\")\n",
    "padded_inputs, padded_outputs, mappings, all_inputs = preprocess_db(db)\n",
    "\n",
    "grid = jnp.linspace(jnp.min(all_inputs, axis=1), jnp.max(all_inputs, axis=1), 500)\n",
    "all_inputs.shape, padded_inputs.shape, grid.shape"
   ],
   "id": "9e826e7866c3ff74",
   "outputs": [
    {
     "data": {
      "text/plain": [
       "((401, 1), (200, 190, 1), (500, 401))"
      ]
     },
     "execution_count": 40,
     "metadata": {},
     "output_type": "execute_result"
    }
   ],
   "execution_count": 40
  },
  {
   "metadata": {
    "ExecuteTime": {
     "end_time": "2025-07-10T10:55:52.523122Z",
     "start_time": "2025-07-10T10:55:52.517300Z"
    }
   },
   "cell_type": "code",
   "source": [
    "mean_kern = RBFKernel(length_scale=jnp.array(.3), variance=jnp.array(1.))\n",
    "task_kern = RBFKernel(length_scale=jnp.array(.6), variance=jnp.array(1.))"
   ],
   "id": "a21d79a20e721df3",
   "outputs": [],
   "execution_count": 41
  },
  {
   "metadata": {},
   "cell_type": "code",
   "outputs": [],
   "execution_count": null,
   "source": "mean_1, cov_1 = hyperpost_old(padded_inputs, padded_outputs, mappings, all_inputs, jnp.array(0.), mean_kern, task_kern)",
   "id": "f58f7e44234f37c6"
  },
  {
   "metadata": {},
   "cell_type": "code",
   "outputs": [],
   "execution_count": null,
   "source": "mean_2, cov_2 = hyperpost_new(padded_inputs, padded_outputs, mappings, all_inputs, jnp.array(0.), mean_kern, task_kern)",
   "id": "ff917506a32ffd56"
  },
  {
   "metadata": {},
   "cell_type": "code",
   "outputs": [],
   "execution_count": null,
   "source": "jnp.allclose(mean_1, mean_2), jnp.allclose(cov_1, cov_2)",
   "id": "829b13f4e07c96b6"
  },
  {
   "metadata": {},
   "cell_type": "code",
   "outputs": [],
   "execution_count": null,
   "source": "jnp.mean(jnp.abs(mean_1 - mean_2)), jnp.mean(jnp.abs(cov_1 - cov_2))",
   "id": "45caf5253692fd62"
  },
  {
   "metadata": {},
   "cell_type": "code",
   "outputs": [],
   "execution_count": null,
   "source": [
    "%%timeit -n 5 -r 5\n",
    "hyperpost_old(padded_inputs, padded_outputs, mappings, all_inputs, jnp.array(0.), mean_kern, task_kern)[0].block_until_ready()"
   ],
   "id": "724b69433877f1e4"
  },
  {
   "metadata": {},
   "cell_type": "code",
   "outputs": [],
   "execution_count": null,
   "source": [
    "%%timeit -n 5 -r 5\n",
    "hyperpost_new(padded_inputs, padded_outputs, mappings, all_inputs, jnp.array(0.), mean_kern, task_kern)[0].block_until_ready()"
   ],
   "id": "c52f420e4e85534f"
  },
  {
   "metadata": {},
   "cell_type": "markdown",
   "source": [
    "---\n",
    "## Conclusion"
   ],
   "id": "40eac9ed87ce043e"
  },
  {
   "metadata": {
    "ExecuteTime": {
     "end_time": "2025-07-10T10:56:03.740648Z",
     "start_time": "2025-07-10T10:56:03.739137Z"
    }
   },
   "cell_type": "code",
   "source": "",
   "id": "e00d28413733ef9a",
   "outputs": [],
   "execution_count": null
  },
  {
   "metadata": {},
   "cell_type": "markdown",
   "source": "---",
   "id": "f18216d93ddcf3af"
  },
  {
   "metadata": {
    "ExecuteTime": {
     "end_time": "2025-07-10T10:56:03.788412Z",
     "start_time": "2025-07-10T10:56:03.786099Z"
    }
   },
   "cell_type": "code",
   "source": "",
   "id": "e8639b3337daa3f1",
   "outputs": [],
   "execution_count": null
  }
 ],
 "metadata": {
  "kernelspec": {
   "display_name": "Python 3",
   "language": "python",
   "name": "python3"
  },
  "language_info": {
   "codemirror_mode": {
    "name": "ipython",
    "version": 2
   },
   "file_extension": ".py",
   "mimetype": "text/x-python",
   "name": "python",
   "nbconvert_exporter": "python",
   "pygments_lexer": "ipython2",
   "version": "2.7.6"
  }
 },
 "nbformat": 4,
 "nbformat_minor": 5
}
