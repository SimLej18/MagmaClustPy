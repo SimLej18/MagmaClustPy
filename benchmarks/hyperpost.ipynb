{
 "cells": [
  {
   "metadata": {},
   "cell_type": "markdown",
   "source": [
    "# Benchmarks - Hyper-posterior distributions\n",
    "\n",
    "**Main considerations when implementing hyper-post**\n",
    "* ...\n"
   ],
   "id": "f69390d194b35b0a"
  },
  {
   "metadata": {},
   "cell_type": "markdown",
   "source": [
    "---\n",
    "## Setup"
   ],
   "id": "4763c6a1086dfd7a"
  },
  {
   "metadata": {
    "ExecuteTime": {
     "end_time": "2025-03-10T15:23:13.072185Z",
     "start_time": "2025-03-10T15:23:13.068256Z"
    }
   },
   "cell_type": "code",
   "source": [
    "# Standard library\n",
    "import os\n",
    "\n",
    "os.environ['JAX_ENABLE_X64'] = \"True\""
   ],
   "id": "eb0046b46dc27950",
   "outputs": [],
   "execution_count": 1
  },
  {
   "metadata": {
    "ExecuteTime": {
     "end_time": "2025-03-10T15:23:13.867028Z",
     "start_time": "2025-03-10T15:23:13.077355Z"
    }
   },
   "cell_type": "code",
   "source": [
    "# Third party\n",
    "import jax\n",
    "from jax import jit, vmap\n",
    "from jax.tree_util import register_pytree_node_class\n",
    "from jax import numpy as jnp\n",
    "from jax.scipy.linalg import cho_factor, cho_solve\n",
    "from jax import lax\n",
    "\n",
    "import numpy as np\n",
    "import pandas as pd"
   ],
   "id": "a1fe8b76912d6f2c",
   "outputs": [],
   "execution_count": 2
  },
  {
   "metadata": {
    "ExecuteTime": {
     "end_time": "2025-03-10T15:23:14.021941Z",
     "start_time": "2025-03-10T15:23:13.953117Z"
    }
   },
   "cell_type": "code",
   "source": [
    "# Local\n",
    "from MagmaClustPy.kernels import RBFKernel\n",
    "from MagmaClustPy.utils import generate_dummy_db, preprocess_db\n",
    "from MagmaClustPy.hyperpost import hyperpost"
   ],
   "id": "4b255f340edfbe6f",
   "outputs": [],
   "execution_count": 3
  },
  {
   "metadata": {
    "ExecuteTime": {
     "end_time": "2025-03-10T15:23:14.065263Z",
     "start_time": "2025-03-10T15:23:14.026744Z"
    }
   },
   "cell_type": "code",
   "source": [
    "# Config\n",
    "key = jax.random.PRNGKey(0)\n",
    "test_db_size = \"medium\""
   ],
   "id": "3180afa8778f9553",
   "outputs": [],
   "execution_count": 4
  },
  {
   "metadata": {},
   "cell_type": "markdown",
   "source": [
    "---\n",
    "## Data"
   ],
   "id": "190fcef7dd61821b"
  },
  {
   "metadata": {
    "ExecuteTime": {
     "end_time": "2025-03-10T15:23:14.076707Z",
     "start_time": "2025-03-10T15:23:14.074069Z"
    }
   },
   "cell_type": "code",
   "source": "",
   "id": "c6925bbc4a61e165",
   "outputs": [],
   "execution_count": null
  },
  {
   "metadata": {},
   "cell_type": "markdown",
   "source": [
    "---\n",
    "## Current implementation"
   ],
   "id": "bffd41fea2028bdb"
  },
  {
   "metadata": {
    "ExecuteTime": {
     "end_time": "2025-03-10T15:23:14.083481Z",
     "start_time": "2025-03-10T15:23:14.081746Z"
    }
   },
   "cell_type": "code",
   "source": "",
   "id": "6b7e730087bbca42",
   "outputs": [],
   "execution_count": null
  },
  {
   "metadata": {},
   "cell_type": "markdown",
   "source": [
    "---\n",
    "## Custom implementation(s)"
   ],
   "id": "c7496288f6ddf25f"
  },
  {
   "metadata": {
    "ExecuteTime": {
     "end_time": "2025-03-10T15:23:14.092130Z",
     "start_time": "2025-03-10T15:23:14.089998Z"
    }
   },
   "cell_type": "code",
   "source": "_hyperpost = hyperpost",
   "id": "b5899ad9d78c05ac",
   "outputs": [],
   "execution_count": 5
  },
  {
   "metadata": {
    "ExecuteTime": {
     "end_time": "2025-03-10T15:23:14.116476Z",
     "start_time": "2025-03-10T15:23:14.115095Z"
    }
   },
   "cell_type": "code",
   "source": "",
   "id": "f1519c74ca97d180",
   "outputs": [],
   "execution_count": null
  },
  {
   "metadata": {},
   "cell_type": "markdown",
   "source": [
    "---\n",
    "## Comparison"
   ],
   "id": "88fdaed3f55aae3a"
  },
  {
   "metadata": {},
   "cell_type": "markdown",
   "source": "### Common Input, Common HP",
   "id": "d7945be29b7e754c"
  },
  {
   "metadata": {
    "ExecuteTime": {
     "end_time": "2025-03-10T15:23:15.572521Z",
     "start_time": "2025-03-10T15:23:14.141506Z"
    }
   },
   "cell_type": "code",
   "source": [
    "db = pd.read_csv(f\"./dummy_datasets/{test_db_size}_common_input_common_hp.csv\")\n",
    "all_inputs, padded_inputs, padded_outputs, masks = preprocess_db(db)\n",
    "all_inputs.shape, padded_inputs.shape"
   ],
   "id": "5654105b1ac1a46f",
   "outputs": [
    {
     "data": {
      "text/plain": [
       "((200,), (200, 200))"
      ]
     },
     "execution_count": 6,
     "metadata": {},
     "output_type": "execute_result"
    }
   ],
   "execution_count": 6
  },
  {
   "metadata": {
    "ExecuteTime": {
     "end_time": "2025-03-10T15:23:15.582572Z",
     "start_time": "2025-03-10T15:23:15.580473Z"
    }
   },
   "cell_type": "code",
   "source": [
    "mean_kern = RBFKernel(length_scale=jnp.array(.3), variance=jnp.array(1.))\n",
    "task_kern = RBFKernel(length_scale=jnp.array(.6), variance=jnp.array(1.))"
   ],
   "id": "e172126be02ff03b",
   "outputs": [],
   "execution_count": 7
  },
  {
   "metadata": {
    "ExecuteTime": {
     "end_time": "2025-03-10T15:23:16.192134Z",
     "start_time": "2025-03-10T15:23:15.599311Z"
    }
   },
   "cell_type": "code",
   "source": "mean_1, cov_1 = hyperpost(padded_inputs, padded_outputs, masks, jnp.array(0.), mean_kern, task_kern, all_inputs=all_inputs)",
   "id": "f1644975c5733316",
   "outputs": [],
   "execution_count": 8
  },
  {
   "metadata": {
    "ExecuteTime": {
     "end_time": "2025-03-10T15:23:16.492089Z",
     "start_time": "2025-03-10T15:23:16.199842Z"
    }
   },
   "cell_type": "code",
   "source": "mean_2, cov_2 = _hyperpost(padded_inputs, padded_outputs, masks, jnp.array(0.), mean_kern, task_kern, all_inputs=all_inputs)",
   "id": "4ff5300a64499bfa",
   "outputs": [],
   "execution_count": 9
  },
  {
   "metadata": {
    "ExecuteTime": {
     "end_time": "2025-03-10T15:23:16.834778Z",
     "start_time": "2025-03-10T15:23:16.775868Z"
    }
   },
   "cell_type": "code",
   "source": "jnp.allclose(mean_1, mean_2), jnp.allclose(cov_1, cov_2)",
   "id": "de72f3a104005019",
   "outputs": [
    {
     "data": {
      "text/plain": [
       "(Array(True, dtype=bool), Array(True, dtype=bool))"
      ]
     },
     "execution_count": 10,
     "metadata": {},
     "output_type": "execute_result"
    }
   ],
   "execution_count": 10
  },
  {
   "metadata": {
    "ExecuteTime": {
     "end_time": "2025-03-10T15:23:16.968867Z",
     "start_time": "2025-03-10T15:23:16.842466Z"
    }
   },
   "cell_type": "code",
   "source": "jnp.mean(jnp.abs(mean_1 - mean_2)), jnp.mean(jnp.abs(cov_1 - cov_2))",
   "id": "c48fb997a4cca94e",
   "outputs": [
    {
     "data": {
      "text/plain": [
       "(Array(0., dtype=float64), Array(0., dtype=float64))"
      ]
     },
     "execution_count": 11,
     "metadata": {},
     "output_type": "execute_result"
    }
   ],
   "execution_count": 11
  },
  {
   "metadata": {
    "ExecuteTime": {
     "end_time": "2025-03-10T15:23:24.283135Z",
     "start_time": "2025-03-10T15:23:16.977017Z"
    }
   },
   "cell_type": "code",
   "source": [
    "%%timeit -n 5 -r 5\n",
    "hyperpost(padded_inputs, padded_outputs, masks, jnp.array(0.), mean_kern, task_kern, all_inputs=all_inputs)[0].block_until_ready()"
   ],
   "id": "f153af2dc52e2c9d",
   "outputs": [
    {
     "name": "stdout",
     "output_type": "stream",
     "text": [
      "292 ms ± 10.3 ms per loop (mean ± std. dev. of 5 runs, 5 loops each)\n"
     ]
    }
   ],
   "execution_count": 12
  },
  {
   "metadata": {
    "ExecuteTime": {
     "end_time": "2025-03-10T15:23:31.370174Z",
     "start_time": "2025-03-10T15:23:24.296148Z"
    }
   },
   "cell_type": "code",
   "source": [
    "%%timeit -n 5 -r 5\n",
    "_hyperpost(padded_inputs, padded_outputs, masks, jnp.array(0.), mean_kern, task_kern, all_inputs=all_inputs)[0].block_until_ready()"
   ],
   "id": "1244bff52409f0a6",
   "outputs": [
    {
     "name": "stdout",
     "output_type": "stream",
     "text": [
      "283 ms ± 3.97 ms per loop (mean ± std. dev. of 5 runs, 5 loops each)\n"
     ]
    }
   ],
   "execution_count": 13
  },
  {
   "metadata": {},
   "cell_type": "markdown",
   "source": "### Common Input, Distinct HP",
   "id": "5cbfcda25a2335f8"
  },
  {
   "metadata": {
    "ExecuteTime": {
     "end_time": "2025-03-10T15:23:32.281967Z",
     "start_time": "2025-03-10T15:23:31.387Z"
    }
   },
   "cell_type": "code",
   "source": [
    "db = pd.read_csv(f\"./dummy_datasets/{test_db_size}_common_input_distinct_hp.csv\")\n",
    "all_inputs, padded_inputs, padded_outputs, masks = preprocess_db(db)\n",
    "all_inputs.shape, padded_inputs.shape"
   ],
   "id": "904838f111d40956",
   "outputs": [
    {
     "data": {
      "text/plain": [
       "((200,), (200, 200))"
      ]
     },
     "execution_count": 14,
     "metadata": {},
     "output_type": "execute_result"
    }
   ],
   "execution_count": 14
  },
  {
   "metadata": {
    "ExecuteTime": {
     "end_time": "2025-03-10T15:23:32.520933Z",
     "start_time": "2025-03-10T15:23:32.398822Z"
    }
   },
   "cell_type": "code",
   "source": [
    "mean_kern = RBFKernel(length_scale=jnp.array(.3), variance=jnp.array(1.))\n",
    "\n",
    "key, subkey = jax.random.split(key)\n",
    "distinct_length_scales = jax.random.uniform(subkey, (padded_outputs.shape[0],), jnp.float64, .1, 1)\n",
    "task_kern = RBFKernel(length_scale=distinct_length_scales, variance=jnp.array(1.))"
   ],
   "id": "e5f2abcd97be6f1b",
   "outputs": [],
   "execution_count": 15
  },
  {
   "metadata": {
    "ExecuteTime": {
     "end_time": "2025-03-10T15:23:32.687666Z",
     "start_time": "2025-03-10T15:23:32.529538Z"
    }
   },
   "cell_type": "code",
   "source": "mean_1, cov_1 = hyperpost(padded_inputs, padded_outputs, masks, jnp.array(0.), mean_kern, task_kern, all_inputs=all_inputs)",
   "id": "69661a7175e77eda",
   "outputs": [],
   "execution_count": 16
  },
  {
   "metadata": {
    "ExecuteTime": {
     "end_time": "2025-03-10T15:23:33.007374Z",
     "start_time": "2025-03-10T15:23:32.999573Z"
    }
   },
   "cell_type": "code",
   "source": "mean_2, cov_2 = _hyperpost(padded_inputs, padded_outputs, masks, jnp.array(0.), mean_kern, task_kern, all_inputs=all_inputs)",
   "id": "b611e987a09d9d21",
   "outputs": [],
   "execution_count": 17
  },
  {
   "metadata": {
    "ExecuteTime": {
     "end_time": "2025-03-10T15:23:33.308163Z",
     "start_time": "2025-03-10T15:23:33.305231Z"
    }
   },
   "cell_type": "code",
   "source": "jnp.allclose(mean_1, mean_2), jnp.allclose(cov_1, cov_2)",
   "id": "25504e1e1b327944",
   "outputs": [
    {
     "data": {
      "text/plain": [
       "(Array(True, dtype=bool), Array(True, dtype=bool))"
      ]
     },
     "execution_count": 18,
     "metadata": {},
     "output_type": "execute_result"
    }
   ],
   "execution_count": 18
  },
  {
   "metadata": {
    "ExecuteTime": {
     "end_time": "2025-03-10T15:23:33.319119Z",
     "start_time": "2025-03-10T15:23:33.315843Z"
    }
   },
   "cell_type": "code",
   "source": "jnp.mean(jnp.abs(mean_1 - mean_2)), jnp.mean(jnp.abs(cov_1 - cov_2))",
   "id": "66b6454a6f3d1f22",
   "outputs": [
    {
     "data": {
      "text/plain": [
       "(Array(0., dtype=float64), Array(0., dtype=float64))"
      ]
     },
     "execution_count": 19,
     "metadata": {},
     "output_type": "execute_result"
    }
   ],
   "execution_count": 19
  },
  {
   "metadata": {
    "ExecuteTime": {
     "end_time": "2025-03-10T15:23:41.477026Z",
     "start_time": "2025-03-10T15:23:33.346183Z"
    }
   },
   "cell_type": "code",
   "source": [
    "%%timeit -n 5 -r 5\n",
    "hyperpost(padded_inputs, padded_outputs, masks, jnp.array(0.), mean_kern, task_kern, all_inputs=all_inputs)[0].block_until_ready()"
   ],
   "id": "83199758add968a7",
   "outputs": [
    {
     "name": "stdout",
     "output_type": "stream",
     "text": [
      "325 ms ± 18.5 ms per loop (mean ± std. dev. of 5 runs, 5 loops each)\n"
     ]
    }
   ],
   "execution_count": 20
  },
  {
   "metadata": {
    "ExecuteTime": {
     "end_time": "2025-03-10T15:23:49.065925Z",
     "start_time": "2025-03-10T15:23:41.506739Z"
    }
   },
   "cell_type": "code",
   "source": [
    "%%timeit -n 5 -r 5\n",
    "_hyperpost(padded_inputs, padded_outputs, masks, jnp.array(0.), mean_kern, task_kern, all_inputs=all_inputs)[0].block_until_ready()"
   ],
   "id": "bfafefa8bfdd8827",
   "outputs": [
    {
     "name": "stdout",
     "output_type": "stream",
     "text": [
      "302 ms ± 21.9 ms per loop (mean ± std. dev. of 5 runs, 5 loops each)\n"
     ]
    }
   ],
   "execution_count": 21
  },
  {
   "metadata": {},
   "cell_type": "markdown",
   "source": "### Distinct Input, Common HP",
   "id": "7ff3a0247d75a333"
  },
  {
   "metadata": {
    "ExecuteTime": {
     "end_time": "2025-03-10T15:23:50.240091Z",
     "start_time": "2025-03-10T15:23:49.079553Z"
    }
   },
   "cell_type": "code",
   "source": [
    "db = pd.read_csv(f\"./dummy_datasets/{test_db_size}_distinct_input_common_hp.csv\")\n",
    "all_inputs, padded_inputs, padded_outputs, masks = preprocess_db(db)\n",
    "all_inputs.shape, padded_inputs.shape"
   ],
   "id": "a23eb59e31ffc68e",
   "outputs": [
    {
     "data": {
      "text/plain": [
       "((401,), (200, 401))"
      ]
     },
     "execution_count": 22,
     "metadata": {},
     "output_type": "execute_result"
    }
   ],
   "execution_count": 22
  },
  {
   "metadata": {
    "ExecuteTime": {
     "end_time": "2025-03-10T15:23:50.256015Z",
     "start_time": "2025-03-10T15:23:50.252732Z"
    }
   },
   "cell_type": "code",
   "source": [
    "mean_kern = RBFKernel(length_scale=jnp.array(.3), variance=jnp.array(1.))\n",
    "task_kern = RBFKernel(length_scale=jnp.array(.6), variance=jnp.array(1.))"
   ],
   "id": "1f6111c9c064ed0d",
   "outputs": [],
   "execution_count": 23
  },
  {
   "metadata": {
    "ExecuteTime": {
     "end_time": "2025-03-10T15:23:50.779231Z",
     "start_time": "2025-03-10T15:23:50.266639Z"
    }
   },
   "cell_type": "code",
   "source": "mean_1, cov_1 = hyperpost(padded_inputs, padded_outputs, masks, jnp.array(0.), mean_kern, task_kern, all_inputs=all_inputs)",
   "id": "6b2c282a2c6d03a1",
   "outputs": [],
   "execution_count": 24
  },
  {
   "metadata": {
    "ExecuteTime": {
     "end_time": "2025-03-10T15:23:51.912885Z",
     "start_time": "2025-03-10T15:23:51.906860Z"
    }
   },
   "cell_type": "code",
   "source": "mean_2, cov_2 = _hyperpost(padded_inputs, padded_outputs, masks, jnp.array(0.), mean_kern, task_kern, all_inputs=all_inputs)",
   "id": "c6e3387307bb65e8",
   "outputs": [],
   "execution_count": 25
  },
  {
   "metadata": {
    "ExecuteTime": {
     "end_time": "2025-03-10T15:23:52.910923Z",
     "start_time": "2025-03-10T15:23:52.846066Z"
    }
   },
   "cell_type": "code",
   "source": "jnp.allclose(mean_1, mean_2), jnp.allclose(cov_1, cov_2)",
   "id": "4d61e351f98e9289",
   "outputs": [
    {
     "data": {
      "text/plain": [
       "(Array(True, dtype=bool), Array(True, dtype=bool))"
      ]
     },
     "execution_count": 26,
     "metadata": {},
     "output_type": "execute_result"
    }
   ],
   "execution_count": 26
  },
  {
   "metadata": {
    "ExecuteTime": {
     "end_time": "2025-03-10T15:23:53.047235Z",
     "start_time": "2025-03-10T15:23:52.916907Z"
    }
   },
   "cell_type": "code",
   "source": "jnp.mean(jnp.abs(mean_1 - mean_2)), jnp.mean(jnp.abs(cov_1 - cov_2))",
   "id": "223e22ba9c5e2dc8",
   "outputs": [
    {
     "data": {
      "text/plain": [
       "(Array(0., dtype=float64), Array(0., dtype=float64))"
      ]
     },
     "execution_count": 27,
     "metadata": {},
     "output_type": "execute_result"
    }
   ],
   "execution_count": 27
  },
  {
   "metadata": {
    "ExecuteTime": {
     "end_time": "2025-03-10T15:24:15.062758Z",
     "start_time": "2025-03-10T15:23:53.057253Z"
    }
   },
   "cell_type": "code",
   "source": [
    "%%timeit -n 5 -r 5\n",
    "hyperpost(padded_inputs, padded_outputs, masks, jnp.array(0.), mean_kern, task_kern, all_inputs=all_inputs)[0].block_until_ready()"
   ],
   "id": "f35b54b5ad5c64ef",
   "outputs": [
    {
     "name": "stdout",
     "output_type": "stream",
     "text": [
      "880 ms ± 23.3 ms per loop (mean ± std. dev. of 5 runs, 5 loops each)\n"
     ]
    }
   ],
   "execution_count": 28
  },
  {
   "metadata": {
    "ExecuteTime": {
     "end_time": "2025-03-10T15:24:36.542781Z",
     "start_time": "2025-03-10T15:24:15.094076Z"
    }
   },
   "cell_type": "code",
   "source": [
    "%%timeit -n 5 -r 5\n",
    "_hyperpost(padded_inputs, padded_outputs, masks, jnp.array(0.), mean_kern, task_kern, all_inputs=all_inputs)[0].block_until_ready()"
   ],
   "id": "a1704d3e4ee9b446",
   "outputs": [
    {
     "name": "stdout",
     "output_type": "stream",
     "text": [
      "857 ms ± 18.5 ms per loop (mean ± std. dev. of 5 runs, 5 loops each)\n"
     ]
    }
   ],
   "execution_count": 29
  },
  {
   "metadata": {},
   "cell_type": "markdown",
   "source": "### Distinct Input, Distinct HP",
   "id": "2a2fe3eb198a9adc"
  },
  {
   "metadata": {
    "ExecuteTime": {
     "end_time": "2025-03-10T15:24:37.486941Z",
     "start_time": "2025-03-10T15:24:36.573771Z"
    }
   },
   "cell_type": "code",
   "source": [
    "db = pd.read_csv(f\"./dummy_datasets/{test_db_size}_distinct_input_distinct_hp.csv\")\n",
    "all_inputs, padded_inputs, padded_outputs, masks = preprocess_db(db)\n",
    "all_inputs.shape, padded_inputs.shape"
   ],
   "id": "9a6f9a9e8f3dd6aa",
   "outputs": [
    {
     "data": {
      "text/plain": [
       "((401,), (200, 401))"
      ]
     },
     "execution_count": 30,
     "metadata": {},
     "output_type": "execute_result"
    }
   ],
   "execution_count": 30
  },
  {
   "metadata": {
    "ExecuteTime": {
     "end_time": "2025-03-10T15:24:37.501066Z",
     "start_time": "2025-03-10T15:24:37.497611Z"
    }
   },
   "cell_type": "code",
   "source": [
    "mean_kern = RBFKernel(length_scale=jnp.array(.3), variance=jnp.array(1.))\n",
    "\n",
    "key, subkey = jax.random.split(key)\n",
    "distinct_length_scales = jax.random.uniform(subkey, (padded_outputs.shape[0],), jnp.float64, .1, 1)\n",
    "task_kern = RBFKernel(length_scale=distinct_length_scales, variance=jnp.array(1.))"
   ],
   "id": "770782b788ce8512",
   "outputs": [],
   "execution_count": 31
  },
  {
   "metadata": {
    "ExecuteTime": {
     "end_time": "2025-03-10T15:24:37.710090Z",
     "start_time": "2025-03-10T15:24:37.510817Z"
    }
   },
   "cell_type": "code",
   "source": "mean_1, cov_1 = hyperpost(padded_inputs, padded_outputs, masks, jnp.array(0.), mean_kern, task_kern, all_inputs=all_inputs)",
   "id": "f05e912295c6fab6",
   "outputs": [],
   "execution_count": 32
  },
  {
   "metadata": {
    "ExecuteTime": {
     "end_time": "2025-03-10T15:24:38.685451Z",
     "start_time": "2025-03-10T15:24:38.680800Z"
    }
   },
   "cell_type": "code",
   "source": "mean_2, cov_2 = _hyperpost(padded_inputs, padded_outputs, masks, jnp.array(0.), mean_kern, task_kern, all_inputs=all_inputs)",
   "id": "84981e5a6dd62665",
   "outputs": [],
   "execution_count": 33
  },
  {
   "metadata": {
    "ExecuteTime": {
     "end_time": "2025-03-10T15:24:39.616991Z",
     "start_time": "2025-03-10T15:24:39.609782Z"
    }
   },
   "cell_type": "code",
   "source": "jnp.allclose(mean_1, mean_2), jnp.allclose(cov_1, cov_2)",
   "id": "70ef40cf26603ac0",
   "outputs": [
    {
     "data": {
      "text/plain": [
       "(Array(True, dtype=bool), Array(True, dtype=bool))"
      ]
     },
     "execution_count": 34,
     "metadata": {},
     "output_type": "execute_result"
    }
   ],
   "execution_count": 34
  },
  {
   "metadata": {
    "ExecuteTime": {
     "end_time": "2025-03-10T15:24:39.630697Z",
     "start_time": "2025-03-10T15:24:39.627192Z"
    }
   },
   "cell_type": "code",
   "source": "jnp.mean(jnp.abs(mean_1 - mean_2)), jnp.mean(jnp.abs(cov_1 - cov_2))",
   "id": "673edc001a4a09f3",
   "outputs": [
    {
     "data": {
      "text/plain": [
       "(Array(0., dtype=float64), Array(0., dtype=float64))"
      ]
     },
     "execution_count": 35,
     "metadata": {},
     "output_type": "execute_result"
    }
   ],
   "execution_count": 35
  },
  {
   "metadata": {
    "ExecuteTime": {
     "end_time": "2025-03-10T15:25:01.335027Z",
     "start_time": "2025-03-10T15:24:39.646626Z"
    }
   },
   "cell_type": "code",
   "source": [
    "%%timeit -n 5 -r 5\n",
    "hyperpost(padded_inputs, padded_outputs, masks, jnp.array(0.), mean_kern, task_kern, all_inputs=all_inputs)[0].block_until_ready()"
   ],
   "id": "e58d7ba8948f2fa7",
   "outputs": [
    {
     "name": "stdout",
     "output_type": "stream",
     "text": [
      "867 ms ± 22.8 ms per loop (mean ± std. dev. of 5 runs, 5 loops each)\n"
     ]
    }
   ],
   "execution_count": 36
  },
  {
   "metadata": {
    "ExecuteTime": {
     "end_time": "2025-03-10T15:25:22.567680Z",
     "start_time": "2025-03-10T15:25:01.375598Z"
    }
   },
   "cell_type": "code",
   "source": [
    "%%timeit -n 5 -r 5\n",
    "_hyperpost(padded_inputs, padded_outputs, masks, jnp.array(0.), mean_kern, task_kern, all_inputs=all_inputs)[0].block_until_ready()"
   ],
   "id": "428e3a504d0bc715",
   "outputs": [
    {
     "name": "stdout",
     "output_type": "stream",
     "text": [
      "847 ms ± 17.6 ms per loop (mean ± std. dev. of 5 runs, 5 loops each)\n"
     ]
    }
   ],
   "execution_count": 37
  },
  {
   "metadata": {},
   "cell_type": "markdown",
   "source": "### Using a custom grid",
   "id": "a32bdf4a27914393"
  },
  {
   "metadata": {
    "ExecuteTime": {
     "end_time": "2025-03-10T15:25:23.206227Z",
     "start_time": "2025-03-10T15:25:22.586124Z"
    }
   },
   "cell_type": "code",
   "source": [
    "db = pd.read_csv(f\"./dummy_datasets/{test_db_size}_distinct_input_common_hp.csv\")\n",
    "all_inputs, padded_inputs, padded_outputs, masks = preprocess_db(db)\n",
    "\n",
    "grid = jnp.linspace(min(all_inputs), max(all_inputs), 500)\n",
    "all_inputs.shape, padded_inputs.shape, grid.shape"
   ],
   "id": "9e826e7866c3ff74",
   "outputs": [
    {
     "data": {
      "text/plain": [
       "((401,), (200, 401), (500,))"
      ]
     },
     "execution_count": 38,
     "metadata": {},
     "output_type": "execute_result"
    }
   ],
   "execution_count": 38
  },
  {
   "metadata": {
    "ExecuteTime": {
     "end_time": "2025-03-10T15:25:23.222621Z",
     "start_time": "2025-03-10T15:25:23.219968Z"
    }
   },
   "cell_type": "code",
   "source": [
    "mean_kern = RBFKernel(length_scale=jnp.array(.3), variance=jnp.array(1.))\n",
    "task_kern = RBFKernel(length_scale=jnp.array(.6), variance=jnp.array(1.))"
   ],
   "id": "a21d79a20e721df3",
   "outputs": [],
   "execution_count": 39
  },
  {
   "metadata": {
    "ExecuteTime": {
     "end_time": "2025-03-10T15:25:24.015173Z",
     "start_time": "2025-03-10T15:25:23.243130Z"
    }
   },
   "cell_type": "code",
   "source": "mean_1, cov_1 = hyperpost(padded_inputs, padded_outputs, masks, jnp.array(0.), mean_kern, task_kern, all_inputs=all_inputs, grid=grid)",
   "id": "25b473c36234845d",
   "outputs": [],
   "execution_count": 40
  },
  {
   "metadata": {
    "ExecuteTime": {
     "end_time": "2025-03-10T15:25:24.986891Z",
     "start_time": "2025-03-10T15:25:24.019618Z"
    }
   },
   "cell_type": "code",
   "source": "mean_2, cov_2 = _hyperpost(padded_inputs, padded_outputs, masks, jnp.array(0.), mean_kern, task_kern, all_inputs=all_inputs, grid=grid)",
   "id": "3f78ac8b7eec29b5",
   "outputs": [],
   "execution_count": 41
  },
  {
   "metadata": {
    "ExecuteTime": {
     "end_time": "2025-03-10T15:25:26.044795Z",
     "start_time": "2025-03-10T15:25:25.981881Z"
    }
   },
   "cell_type": "code",
   "source": "jnp.allclose(mean_1, mean_2), jnp.allclose(cov_1, cov_2)",
   "id": "894e3e952382eb7d",
   "outputs": [
    {
     "data": {
      "text/plain": [
       "(Array(True, dtype=bool), Array(True, dtype=bool))"
      ]
     },
     "execution_count": 42,
     "metadata": {},
     "output_type": "execute_result"
    }
   ],
   "execution_count": 42
  },
  {
   "metadata": {
    "ExecuteTime": {
     "end_time": "2025-03-10T15:25:26.180150Z",
     "start_time": "2025-03-10T15:25:26.049315Z"
    }
   },
   "cell_type": "code",
   "source": "jnp.mean(jnp.abs(mean_1 - mean_2)), jnp.mean(jnp.abs(cov_1 - cov_2))",
   "id": "a8f7fbbbf2a8d992",
   "outputs": [
    {
     "data": {
      "text/plain": [
       "(Array(0., dtype=float64), Array(0., dtype=float64))"
      ]
     },
     "execution_count": 43,
     "metadata": {},
     "output_type": "execute_result"
    }
   ],
   "execution_count": 43
  },
  {
   "metadata": {
    "ExecuteTime": {
     "end_time": "2025-03-10T15:25:50.870579Z",
     "start_time": "2025-03-10T15:25:26.193492Z"
    }
   },
   "cell_type": "code",
   "source": [
    "%%timeit -n 5 -r 5\n",
    "hyperpost(padded_inputs, padded_outputs, masks, jnp.array(0.), mean_kern, task_kern, all_inputs=all_inputs, grid=grid)[0].block_until_ready()"
   ],
   "id": "c9c7eccf4ac9419c",
   "outputs": [
    {
     "name": "stdout",
     "output_type": "stream",
     "text": [
      "986 ms ± 91.4 ms per loop (mean ± std. dev. of 5 runs, 5 loops each)\n"
     ]
    }
   ],
   "execution_count": 44
  },
  {
   "metadata": {
    "ExecuteTime": {
     "end_time": "2025-03-10T15:26:15.256779Z",
     "start_time": "2025-03-10T15:25:50.892377Z"
    }
   },
   "cell_type": "code",
   "source": [
    "%%timeit -n 5 -r 5\n",
    "_hyperpost(padded_inputs, padded_outputs, masks, jnp.array(0.), mean_kern, task_kern, all_inputs=all_inputs, grid=grid)[0].block_until_ready()"
   ],
   "id": "749144e478c17d62",
   "outputs": [
    {
     "name": "stdout",
     "output_type": "stream",
     "text": [
      "974 ms ± 26.5 ms per loop (mean ± std. dev. of 5 runs, 5 loops each)\n"
     ]
    }
   ],
   "execution_count": 45
  },
  {
   "metadata": {},
   "cell_type": "markdown",
   "source": [
    "---\n",
    "## Conclusion"
   ],
   "id": "40eac9ed87ce043e"
  },
  {
   "metadata": {
    "ExecuteTime": {
     "end_time": "2025-03-10T15:26:15.285040Z",
     "start_time": "2025-03-10T15:26:15.283343Z"
    }
   },
   "cell_type": "code",
   "source": "",
   "id": "e00d28413733ef9a",
   "outputs": [],
   "execution_count": null
  },
  {
   "metadata": {},
   "cell_type": "markdown",
   "source": "---",
   "id": "f18216d93ddcf3af"
  },
  {
   "metadata": {
    "ExecuteTime": {
     "end_time": "2025-03-10T15:26:15.314335Z",
     "start_time": "2025-03-10T15:26:15.312875Z"
    }
   },
   "cell_type": "code",
   "source": "",
   "id": "e8639b3337daa3f1",
   "outputs": [],
   "execution_count": null
  }
 ],
 "metadata": {
  "kernelspec": {
   "display_name": "Python 3",
   "language": "python",
   "name": "python3"
  },
  "language_info": {
   "codemirror_mode": {
    "name": "ipython",
    "version": 2
   },
   "file_extension": ".py",
   "mimetype": "text/x-python",
   "name": "python",
   "nbconvert_exporter": "python",
   "pygments_lexer": "ipython2",
   "version": "2.7.6"
  }
 },
 "nbformat": 4,
 "nbformat_minor": 5
}
