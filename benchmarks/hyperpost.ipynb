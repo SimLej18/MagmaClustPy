{
 "cells": [
  {
   "metadata": {},
   "cell_type": "markdown",
   "source": [
    "# Benchmarks - Hyper-posterior distributions\n",
    "\n",
    "**Main considerations when implementing hyper-post**\n",
    "* For now, we only focus on making the previous implementation work with our new kernels.\n",
    "* This implementation will not take the grid into account at first\n"
   ],
   "id": "f69390d194b35b0a"
  },
  {
   "metadata": {},
   "cell_type": "markdown",
   "source": [
    "---\n",
    "## Setup"
   ],
   "id": "4763c6a1086dfd7a"
  },
  {
   "metadata": {
    "ExecuteTime": {
     "end_time": "2025-03-10T14:14:43.483794Z",
     "start_time": "2025-03-10T14:14:43.480129Z"
    }
   },
   "cell_type": "code",
   "source": [
    "# Standard library\n",
    "import os\n",
    "\n",
    "os.environ['JAX_ENABLE_X64'] = \"True\""
   ],
   "id": "eb0046b46dc27950",
   "outputs": [],
   "execution_count": 1
  },
  {
   "metadata": {
    "ExecuteTime": {
     "end_time": "2025-03-10T14:14:44.088579Z",
     "start_time": "2025-03-10T14:14:43.497404Z"
    }
   },
   "cell_type": "code",
   "source": [
    "# Third party\n",
    "import jax\n",
    "from jax import jit, vmap\n",
    "from jax.tree_util import register_pytree_node_class\n",
    "from jax import numpy as jnp\n",
    "from jax.scipy.linalg import cho_factor, cho_solve\n",
    "from jax import lax\n",
    "\n",
    "import numpy as np\n",
    "import pandas as pd"
   ],
   "id": "a1fe8b76912d6f2c",
   "outputs": [],
   "execution_count": 2
  },
  {
   "metadata": {
    "ExecuteTime": {
     "end_time": "2025-03-10T14:14:44.183880Z",
     "start_time": "2025-03-10T14:14:44.177082Z"
    }
   },
   "cell_type": "code",
   "source": [
    "# Local\n",
    "from MagmaClustPy.kernels import RBFKernel\n",
    "from MagmaClustPy.utils import generate_dummy_db, preprocess_db\n",
    "from MagmaClustPy.hyperpost import hyperpost"
   ],
   "id": "4b255f340edfbe6f",
   "outputs": [],
   "execution_count": 3
  },
  {
   "metadata": {
    "ExecuteTime": {
     "end_time": "2025-03-10T14:14:44.274984Z",
     "start_time": "2025-03-10T14:14:44.188486Z"
    }
   },
   "cell_type": "code",
   "source": [
    "# Config\n",
    "key = jax.random.PRNGKey(0)\n",
    "M = 50  # Number of sequences\n",
    "MIN_N = 10  # Minimum sequence length\n",
    "MAX_N = 100  # Maximum sequence length\n",
    "grid = jnp.arange(-200., 200, 1)  # Grid to pick inputs from"
   ],
   "id": "3180afa8778f9553",
   "outputs": [],
   "execution_count": 4
  },
  {
   "metadata": {},
   "cell_type": "markdown",
   "source": [
    "---\n",
    "## Data"
   ],
   "id": "190fcef7dd61821b"
  },
  {
   "metadata": {
    "ExecuteTime": {
     "end_time": "2025-03-10T14:14:45.146984Z",
     "start_time": "2025-03-10T14:14:44.284668Z"
    }
   },
   "cell_type": "code",
   "source": [
    "db = generate_dummy_db(M, MIN_N, MAX_N, grid, key)\n",
    "db"
   ],
   "id": "b36bdb0b6080e935",
   "outputs": [
    {
     "data": {
      "text/plain": [
       "      ID  Input    Output\n",
       "0      0    8.0 -0.957674\n",
       "1      0   44.0  2.742172\n",
       "2      0  189.0 -4.571886\n",
       "3      0  -29.0  0.661192\n",
       "4      0   82.0 -2.854472\n",
       "...   ..    ...       ...\n",
       "2706  49  153.0 -1.899048\n",
       "2707  49   28.0  3.695970\n",
       "2708  49   58.0 -4.940126\n",
       "2709  49  -71.0  2.483545\n",
       "2710  49  -90.0  4.134615\n",
       "\n",
       "[2711 rows x 3 columns]"
      ],
      "text/html": [
       "<div>\n",
       "<style scoped>\n",
       "    .dataframe tbody tr th:only-of-type {\n",
       "        vertical-align: middle;\n",
       "    }\n",
       "\n",
       "    .dataframe tbody tr th {\n",
       "        vertical-align: top;\n",
       "    }\n",
       "\n",
       "    .dataframe thead th {\n",
       "        text-align: right;\n",
       "    }\n",
       "</style>\n",
       "<table border=\"1\" class=\"dataframe\">\n",
       "  <thead>\n",
       "    <tr style=\"text-align: right;\">\n",
       "      <th></th>\n",
       "      <th>ID</th>\n",
       "      <th>Input</th>\n",
       "      <th>Output</th>\n",
       "    </tr>\n",
       "  </thead>\n",
       "  <tbody>\n",
       "    <tr>\n",
       "      <th>0</th>\n",
       "      <td>0</td>\n",
       "      <td>8.0</td>\n",
       "      <td>-0.957674</td>\n",
       "    </tr>\n",
       "    <tr>\n",
       "      <th>1</th>\n",
       "      <td>0</td>\n",
       "      <td>44.0</td>\n",
       "      <td>2.742172</td>\n",
       "    </tr>\n",
       "    <tr>\n",
       "      <th>2</th>\n",
       "      <td>0</td>\n",
       "      <td>189.0</td>\n",
       "      <td>-4.571886</td>\n",
       "    </tr>\n",
       "    <tr>\n",
       "      <th>3</th>\n",
       "      <td>0</td>\n",
       "      <td>-29.0</td>\n",
       "      <td>0.661192</td>\n",
       "    </tr>\n",
       "    <tr>\n",
       "      <th>4</th>\n",
       "      <td>0</td>\n",
       "      <td>82.0</td>\n",
       "      <td>-2.854472</td>\n",
       "    </tr>\n",
       "    <tr>\n",
       "      <th>...</th>\n",
       "      <td>...</td>\n",
       "      <td>...</td>\n",
       "      <td>...</td>\n",
       "    </tr>\n",
       "    <tr>\n",
       "      <th>2706</th>\n",
       "      <td>49</td>\n",
       "      <td>153.0</td>\n",
       "      <td>-1.899048</td>\n",
       "    </tr>\n",
       "    <tr>\n",
       "      <th>2707</th>\n",
       "      <td>49</td>\n",
       "      <td>28.0</td>\n",
       "      <td>3.695970</td>\n",
       "    </tr>\n",
       "    <tr>\n",
       "      <th>2708</th>\n",
       "      <td>49</td>\n",
       "      <td>58.0</td>\n",
       "      <td>-4.940126</td>\n",
       "    </tr>\n",
       "    <tr>\n",
       "      <th>2709</th>\n",
       "      <td>49</td>\n",
       "      <td>-71.0</td>\n",
       "      <td>2.483545</td>\n",
       "    </tr>\n",
       "    <tr>\n",
       "      <th>2710</th>\n",
       "      <td>49</td>\n",
       "      <td>-90.0</td>\n",
       "      <td>4.134615</td>\n",
       "    </tr>\n",
       "  </tbody>\n",
       "</table>\n",
       "<p>2711 rows × 3 columns</p>\n",
       "</div>"
      ]
     },
     "execution_count": 5,
     "metadata": {},
     "output_type": "execute_result"
    }
   ],
   "execution_count": 5
  },
  {
   "metadata": {
    "ExecuteTime": {
     "end_time": "2025-03-10T14:14:45.171932Z",
     "start_time": "2025-03-10T14:14:45.170286Z"
    }
   },
   "cell_type": "code",
   "source": [
    "#common_input = False\n",
    "#common_hp = True\n",
    "#db = pd.read_csv(f\"./dummy_datasets/medium_{'common_input' if common_input else 'distinct_input'}_{'common_hp' if common_hp else 'distinct_hp'}.csv\")"
   ],
   "id": "42003085bee2c2be",
   "outputs": [],
   "execution_count": 6
  },
  {
   "metadata": {
    "ExecuteTime": {
     "end_time": "2025-03-10T14:14:54.555813Z",
     "start_time": "2025-03-10T14:14:45.197847Z"
    }
   },
   "cell_type": "code",
   "source": [
    "all_inputs, padded_inputs, padded_outputs, masks = preprocess_db(db)\n",
    "all_inputs.shape, padded_inputs.shape"
   ],
   "id": "c7537ad23b8f6562",
   "outputs": [
    {
     "data": {
      "text/plain": [
       "((398,), (50, 398))"
      ]
     },
     "execution_count": 7,
     "metadata": {},
     "output_type": "execute_result"
    }
   ],
   "execution_count": 7
  },
  {
   "metadata": {},
   "cell_type": "markdown",
   "source": [
    "---\n",
    "## Current implementation"
   ],
   "id": "bffd41fea2028bdb"
  },
  {
   "metadata": {
    "ExecuteTime": {
     "end_time": "2025-03-10T14:14:54.617594Z",
     "start_time": "2025-03-10T14:14:54.593004Z"
    }
   },
   "cell_type": "code",
   "source": [
    "# Jitted, specialized functions\n",
    "@jit\n",
    "def hyperpost_common_input_common_hp(outputs, prior_mean, mean_cov_L, mean_cov_inv, task_cov, inputs_to_grid=None,nugget=jnp.array(1e-10)):\n",
    "\teye = jnp.eye(task_cov.shape[-1])\n",
    "\n",
    "\t# Compute task covariance and its Cholesky factor\n",
    "\ttask_cov_L, _ = cho_factor(task_cov + eye * nugget, lower=True)\n",
    "\ttask_cov_inv = cho_solve((task_cov_L, True), eye)\n",
    "\n",
    "\tif inputs_to_grid is not None:\n",
    "\t\ttask_cov_inv = jnp.zeros_like(mean_cov_inv).at[jnp.ix_(inputs_to_grid, inputs_to_grid)].set(task_cov_inv)\n",
    "\n",
    "\t# All tasks share same inputs and hyper-parameters, so their inverse covs are the same and we can compute one and multiply rather than compute all and sum\n",
    "\tpost_cov_inv, _ = cho_factor(mean_cov_inv + len(outputs) * task_cov_inv, lower=True)\n",
    "\tpost_cov = cho_solve((post_cov_inv, True), eye)\n",
    "\n",
    "\t# Compute posterior mean\n",
    "\tweighted_prior_mean = cho_solve((mean_cov_L, True), prior_mean)\n",
    "\tweighted_tasks = cho_solve((task_cov_L, True), outputs.sum(axis=0))\n",
    "\n",
    "\tif inputs_to_grid is not None:\n",
    "\t\tweighted_tasks = jnp.zeros_like(prior_mean).at[inputs_to_grid].set(weighted_tasks)\n",
    "\n",
    "\tpost_mean = cho_solve((post_cov_inv, True), weighted_prior_mean + weighted_tasks)\n",
    "\n",
    "\treturn post_mean, post_cov\n",
    "\n",
    "@jit\n",
    "def hyperpost_common_input_distinct_hp(outputs, prior_mean, mean_cov_L, mean_cov_inv, task_covs, inputs_to_grid=None,nugget=jnp.array(1e-10)):\n",
    "\teye = jnp.eye(task_covs.shape[-1])\n",
    "\n",
    "\t# Compute task covariance and its Cholesky factor\n",
    "\ttask_covs_L = vmap(lambda x: cho_factor(x + eye * nugget, lower=True)[0])(task_covs)\n",
    "\ttask_cov_inv = vmap(lambda L: cho_solve((L, True), eye))(task_covs_L).sum(axis=0)\n",
    "\n",
    "\tif inputs_to_grid is not None:\n",
    "\t\ttask_cov_inv = jnp.zeros_like(mean_cov_inv).at[jnp.ix_(inputs_to_grid, inputs_to_grid)].set(task_cov_inv)\n",
    "\n",
    "\tpost_cov_inv, _ = cho_factor(mean_cov_inv + task_cov_inv, lower=True)\n",
    "\tpost_cov = cho_solve((post_cov_inv, True), eye)\n",
    "\n",
    "\t# Compute posterior mean\n",
    "\tweighted_prior_mean = cho_solve((mean_cov_L, True), prior_mean)\n",
    "\tweighted_tasks = vmap(lambda L, o: cho_solve((L, True), o))(task_covs_L, outputs).sum(axis=0)\n",
    "\n",
    "\tif inputs_to_grid is not None:\n",
    "\t\tweighted_tasks = jnp.zeros_like(prior_mean).at[inputs_to_grid].set(weighted_tasks)\n",
    "\n",
    "\tpost_mean = cho_solve((post_cov_inv, True), weighted_prior_mean + weighted_tasks)\n",
    "\n",
    "\treturn post_mean, post_cov\n",
    "\n",
    "@jit\n",
    "def hyperpost_distinct_input(outputs, masks, prior_mean, mean_cov_L, mean_cov_inv, task_covs, inputs_to_grid=None,nugget=jnp.array(1e-10)):\n",
    "\t\"\"\"\n",
    "\tcomputes the hyperpost on distinct inputs\n",
    "\n",
    "\ttask_covs: (M, N, N), batch of unaligned covariances\n",
    "\t\"\"\"\n",
    "\tsmall_eye = jnp.eye(task_covs.shape[-1])\n",
    "\tbig_eye = jnp.eye(mean_cov_L.shape[-1])\n",
    "\n",
    "\t# task_covs is padded with NaNs. Replace them by their corresponding identity rows/cols\n",
    "\tmasks_2D = masks[:, :, None] & masks[:, None, :]\n",
    "\ttask_covs = jnp.where(masks_2D, task_covs, small_eye)\n",
    "\n",
    "\t# Posterior covariance\n",
    "\ttask_covs_L = vmap(lambda x: cho_factor(x + small_eye * nugget)[0])(task_covs)\n",
    "\ttask_covs_inv = vmap(lambda L: cho_solve((L, False), small_eye))(task_covs_L)\n",
    "\ttask_covs_inv -= jnp.where(masks_2D, 0, small_eye)  # Correction on the diagonal\n",
    "\ttask_cov_inv = task_covs_inv.sum(axis=0)\n",
    "\n",
    "\tif inputs_to_grid is not None:\n",
    "\t\ttask_cov_inv = jnp.zeros_like(mean_cov_inv).at[jnp.ix_(inputs_to_grid, inputs_to_grid)].set(task_cov_inv)\n",
    "\n",
    "\tpost_cov_inv, _ = cho_factor(mean_cov_inv + task_cov_inv)\n",
    "\tpost_cov = cho_solve((post_cov_inv, False), big_eye)\n",
    "\n",
    "\t# Posterior mean\n",
    "\tweighted_prior_mean = cho_solve((mean_cov_L, False), prior_mean)\n",
    "\toutputs = jnp.where(masks, outputs, 0)\n",
    "\tweighted_tasks = vmap(lambda L, o: cho_solve((L, False), o))(task_covs_L, outputs).sum(axis=0)\n",
    "\n",
    "\tif inputs_to_grid is not None:\n",
    "\t\tweighted_tasks = jnp.zeros_like(prior_mean).at[inputs_to_grid].set(weighted_tasks)\n",
    "\n",
    "\tpost_mean = cho_solve((post_cov_inv, False), weighted_prior_mean + weighted_tasks)\n",
    "\n",
    "\treturn post_mean, post_cov"
   ],
   "id": "6b7e730087bbca42",
   "outputs": [],
   "execution_count": 8
  },
  {
   "metadata": {
    "ExecuteTime": {
     "end_time": "2025-03-10T14:14:54.651052Z",
     "start_time": "2025-03-10T14:14:54.646532Z"
    }
   },
   "cell_type": "code",
   "source": [
    "# General function\n",
    "def hyperpost(inputs, outputs, masks, prior_mean, mean_kernel, task_kernel, all_inputs=None, grid=None, nugget=jnp.array(1e-10)):\n",
    "\t\"\"\"\n",
    "\tCompute hyper-posterior using Cholesky decomposition for numerical stability.\n",
    "\n",
    "\tArgs:\n",
    "\t\tinputs: unique timestamps/grid points (M, N)\n",
    "\t\toutputs: observed outputs (M, N)\n",
    "\t\tprior_mean: mean prior (N)\n",
    "\t\tmean_kernel: kernel function for mean prior\n",
    "\t\ttask_kernel: kernel function for task (single function if common_hp=True, else list of M functions)\n",
    "\t\tgrid: optional grid points for predictions\n",
    "\t\tcommon_input: whether all tasks share same inputs\n",
    "\t\tcommon_hp: whether all tasks share same hyperparameters\n",
    "\t\"\"\"\n",
    "\tcommon_input = jnp.all(masks)\n",
    "\tcommon_hp = all([hp.ndim == 0 for hp in task_kernel.__dict__.values()])\n",
    "\n",
    "\t# Merge inputs and grid to create all_inputs\n",
    "\tif all_inputs is None:\n",
    "\t\tif common_input:\n",
    "\t\t\tall_inputs = inputs[0]\n",
    "\t\telse:\n",
    "\t\t\tall_inputs = jnp.sort(jnp.unique(inputs.flatten()))\n",
    "\n",
    "\tif grid is not None:\n",
    "\t\tgrid = jnp.sort(jnp.unique(jnp.concatenate([all_inputs, grid])))\n",
    "\t\tinputs_to_grid = jnp.searchsorted(grid, all_inputs)\n",
    "\t\tcommon_input = False  # We need to pad the cov matrices to compute on the full grid\n",
    "\telse:\n",
    "\t\tgrid = all_inputs\n",
    "\t\tinputs_to_grid = None\n",
    "\n",
    "\tif prior_mean.ndim == 0:\n",
    "\t\tprior_mean = jnp.broadcast_to(prior_mean, (len(grid),))\n",
    "\n",
    "\t# Numerical stability terms\n",
    "\teye = jnp.eye(grid.shape[0])\n",
    "\n",
    "\t# Compute mean covariance and its Cholesky factor\n",
    "\tmean_cov = mean_kernel(grid, grid)\n",
    "\tmean_cov_L, _ = cho_factor(mean_cov + eye * nugget, lower=True)\n",
    "\tmean_cov_inv = cho_solve((mean_cov_L, True), eye)\n",
    "\n",
    "\tif common_input:\n",
    "\t\tif common_hp:\n",
    "\t\t\ttask_cov = task_kernel(all_inputs)  # Shape: (N, N)\n",
    "\t\t\treturn hyperpost_common_input_common_hp(outputs, prior_mean, mean_cov_L, mean_cov_inv, task_cov, inputs_to_grid, nugget)\n",
    "\n",
    "\t\telse:  # distinct HPs, we have to compute every task covariance but no padding is required\n",
    "\t\t\ttask_covs = task_kernel(inputs)  # Shape: (M, N, N)\n",
    "\t\t\treturn hyperpost_common_input_distinct_hp(outputs, prior_mean, mean_cov_L, mean_cov_inv, task_covs, inputs_to_grid, nugget)\n",
    "\n",
    "\n",
    "\telse:  # No common input: we have to pad and mask\n",
    "\t\t# task_covs = task_kernel(jnp.broadcast_to(all_inputs, (len(inputs), len(all_inputs))))\n",
    "\t\ttask_covs = task_kernel(inputs)\n",
    "\t\treturn hyperpost_distinct_input(outputs, masks, prior_mean, mean_cov_L, mean_cov_inv, task_covs, inputs_to_grid, nugget)\n"
   ],
   "id": "2cd23bc11c6e357e",
   "outputs": [],
   "execution_count": 9
  },
  {
   "metadata": {
    "ExecuteTime": {
     "end_time": "2025-03-10T14:14:54.662100Z",
     "start_time": "2025-03-10T14:14:54.658840Z"
    }
   },
   "cell_type": "code",
   "source": [
    "mean_kern = RBFKernel(length_scale=jnp.array(.3), variance=jnp.array(1.))\n",
    "task_kern = RBFKernel(length_scale=jnp.array(.6), variance=jnp.array(1.))"
   ],
   "id": "894f31fbef177c80",
   "outputs": [],
   "execution_count": 10
  },
  {
   "metadata": {
    "ExecuteTime": {
     "end_time": "2025-03-10T14:14:55.696697Z",
     "start_time": "2025-03-10T14:14:54.671091Z"
    }
   },
   "cell_type": "code",
   "source": "post_mean, post_cov = hyperpost(padded_inputs, padded_outputs, masks, jnp.array(0.), mean_kern, task_kern, all_inputs=all_inputs, grid=grid)",
   "id": "d82a1220e2cb3d80",
   "outputs": [],
   "execution_count": 11
  },
  {
   "metadata": {
    "ExecuteTime": {
     "end_time": "2025-03-10T14:14:55.930654Z",
     "start_time": "2025-03-10T14:14:55.926624Z"
    }
   },
   "cell_type": "code",
   "source": "np.asarray(post_mean)",
   "id": "9e972d98240ea040",
   "outputs": [
    {
     "data": {
      "text/plain": [
       "array([ 4.76827875e-01, -3.82572914e-01,  6.71700107e-01,  6.68929179e-01,\n",
       "       -1.61778671e-01, -2.25330496e-01,  2.29367270e-01, -4.78624682e-01,\n",
       "       -2.10586507e-01, -8.02063493e-01, -3.41226362e-01,  1.15179957e+00,\n",
       "       -6.11421575e-01, -4.63581972e-01,  3.62309700e-01, -3.75224485e-01,\n",
       "        4.06570286e-01, -6.03555201e-01,  1.00086362e+00, -1.04201837e+00,\n",
       "       -6.76914216e-01, -9.07909213e-01,  2.28139532e-01,  2.05874182e+00,\n",
       "        4.62433162e-01, -1.79285822e+00,  4.49769136e-01,  1.14967660e+00,\n",
       "       -1.84373185e+00,  7.04613109e-01, -1.01280214e+00,  1.29808586e+00,\n",
       "       -7.05488283e-01, -2.46238529e-01,  6.66241288e-02, -2.32342244e-01,\n",
       "        4.89774049e-01,  8.08436488e-01, -4.02551642e-01,  3.45664909e-01,\n",
       "       -1.32317118e-01,  3.25861855e-02, -1.82340811e-01,  8.45597279e-01,\n",
       "        2.05515554e-01,  6.85896626e-01,  5.18542893e-01, -1.27527027e+00,\n",
       "       -3.00876015e-01, -2.70756101e-01, -4.32127557e-02, -3.68096901e-01,\n",
       "        4.75224489e-01,  1.58804495e+00,  4.14881159e-01,  1.74483766e+00,\n",
       "        9.51523044e-01,  5.73565199e-01,  2.27130826e+00,  9.83750800e-01,\n",
       "        8.47317389e-01, -1.72099599e+00,  2.91230798e+00, -8.42092229e-02,\n",
       "        1.78478179e-01, -1.48815782e+00, -1.18802858e+00, -1.26367837e+00,\n",
       "        2.24430423e+00, -2.44856816e-01,  9.37186670e-01, -7.66329519e-02,\n",
       "       -2.13880532e+00,  2.08538192e+00, -6.48613311e-01,  2.37022115e-01,\n",
       "        8.97562298e-01,  3.11188666e-01, -3.46920331e-01,  1.19583465e+00,\n",
       "       -2.70129444e+00,  1.22758802e+00,  1.10219555e+00, -4.78919192e-02,\n",
       "       -4.00386674e-01, -1.46780086e+00, -1.21441407e-01,  4.37928721e-01,\n",
       "       -2.86881828e-01, -4.38301105e-01, -4.47689664e-02, -1.31373688e+00,\n",
       "       -4.28473744e-01, -1.95058057e-02, -2.02531754e+00, -5.17922308e-01,\n",
       "       -1.08727087e+00,  1.33333164e+00,  9.54872057e-01, -1.32131962e+00,\n",
       "       -1.58533119e-01, -9.66039623e-02,  7.59977857e-02, -4.55161187e-01,\n",
       "       -2.55004751e-01, -1.44712791e+00, -3.95902088e-01, -3.78046795e-01,\n",
       "        2.44947076e-01, -2.46839288e-01,  3.11986300e-02, -1.49258044e+00,\n",
       "       -2.51085325e+00,  9.32508904e-01,  7.61836656e-01,  6.65012751e-01,\n",
       "       -1.17986402e+00, -7.03103355e-01, -2.66454204e-01, -2.16499139e-01,\n",
       "       -1.48727408e+00, -1.55445778e+00,  1.35958600e+00, -1.20802938e+00,\n",
       "        2.37398853e-01,  2.60849801e+00,  1.19047010e+00, -8.70877747e-03,\n",
       "        6.46940392e-01, -1.07666274e+00, -5.99192166e-02, -1.64935037e+00,\n",
       "        1.42302902e+00,  1.05189728e-01,  6.15986916e-02, -1.55338051e-01,\n",
       "        1.65551759e+00, -1.99142862e+00,  6.23069408e-01, -7.29570443e-01,\n",
       "       -7.98090308e-01, -1.51500044e+00,  9.49917881e-01, -2.51528306e+00,\n",
       "        3.01557996e-01,  8.89883127e-01,  3.53592784e-03,  2.45192615e-02,\n",
       "       -3.65775671e-01,  9.38939112e-01,  3.63858068e-01, -1.34136171e+00,\n",
       "       -2.95036228e-01, -8.56627255e-01,  9.99160799e-01, -8.43926603e-01,\n",
       "        1.27062342e+00,  7.01519637e-01,  2.99218040e-01, -1.74469738e+00,\n",
       "        9.57990354e-01,  2.93235562e-02, -3.03369030e-02, -1.37207148e+00,\n",
       "        1.23451756e+00,  1.22779029e-01,  2.38248355e+00, -3.81605894e-01,\n",
       "       -9.33446743e-01,  3.87567484e-02, -5.46872767e-01,  1.97076933e-01,\n",
       "        1.39483109e+00, -5.18721496e-01, -2.43832622e-01, -3.00060986e-01,\n",
       "        3.70277754e-01, -5.53868468e-01, -1.37643191e+00,  6.47184123e-01,\n",
       "        8.14670661e-01,  2.96270050e-01,  2.94700138e-01,  1.84416377e-03,\n",
       "       -1.61272803e+00, -2.03812923e+00, -2.19229059e-01, -5.28058677e-01,\n",
       "       -1.53196830e+00,  5.74760574e-01, -1.01365853e+00,  1.77197044e+00,\n",
       "       -9.17847386e-01,  5.59926750e-01,  8.22029082e-01,  2.58319761e-01,\n",
       "        1.54692949e+00,  1.17984955e+00, -3.95012940e-01,  6.78663108e-01,\n",
       "       -1.13862906e+00,  2.53166652e-01,  1.43669465e+00,  2.81610077e-01,\n",
       "        1.45237072e+00, -1.27863408e+00,  8.46733808e-02,  1.55174195e+00,\n",
       "        8.77739375e-01,  1.39597725e+00,  3.53728430e-01, -1.26136739e+00,\n",
       "        4.88250883e-01, -1.71694180e+00, -1.29984079e+00,  2.43512999e-01,\n",
       "        1.92780800e+00,  7.71670616e-01,  1.14896516e-01,  5.78711537e-01,\n",
       "       -2.02610240e-01, -1.98669646e+00, -9.41808146e-02,  6.06970051e-01,\n",
       "        5.34785600e-01,  1.97285441e+00, -8.43799094e-01,  9.88884820e-01,\n",
       "        5.60898828e-01, -2.12429592e+00, -1.93304462e-01,  3.51118738e-01,\n",
       "       -8.34984131e-01, -1.89760421e-01, -1.47999071e+00,  1.24955302e+00,\n",
       "        2.57892228e+00, -6.63529588e-01, -3.69377829e+00, -1.35247692e+00,\n",
       "       -2.18877531e-01,  1.97739661e+00,  2.49102466e-01, -2.86206444e-01,\n",
       "        1.05908946e-01,  8.73166867e-01,  8.51797056e-01, -5.86113305e-01,\n",
       "       -1.63487057e+00,  6.54487543e-01, -4.70074370e-02, -9.99031169e-01,\n",
       "        1.57478521e+00,  1.00950347e+00,  1.90239099e-01,  1.41499588e+00,\n",
       "        1.18742464e+00, -2.46718550e+00,  6.39886258e-01, -1.00446558e+00,\n",
       "       -1.16790750e+00,  5.01920455e-01, -4.65642403e-01, -1.04602127e+00,\n",
       "        9.44249167e-01,  6.38265636e-01,  2.48520069e-01, -1.28903310e+00,\n",
       "        2.31502656e+00, -7.27917925e-02, -1.51821834e+00,  1.54815451e+00,\n",
       "       -4.04012173e-01,  3.06651626e-01,  1.50327669e+00, -2.07495160e-02,\n",
       "       -2.56547144e+00,  3.57764138e-01, -1.51372526e+00, -6.51534025e-01,\n",
       "        1.43310410e+00, -7.58035867e-01, -1.53721776e+00,  1.10506500e-01,\n",
       "        4.04150165e-01, -1.12589251e+00, -2.14019496e-01, -1.13399272e+00,\n",
       "       -8.34684415e-01, -1.23671336e+00, -1.20283491e+00,  3.34865665e-01,\n",
       "       -1.27843313e+00, -1.09571944e+00,  7.33742749e-01, -4.03083304e-02,\n",
       "       -8.00778693e-01, -1.27058131e+00, -1.62216948e+00,  5.72574647e-01,\n",
       "       -9.85684222e-01, -8.50572488e-01, -1.37904387e+00, -2.53116645e-01,\n",
       "       -1.17467293e+00, -1.49474886e-01,  1.15720687e+00, -7.53451835e-01,\n",
       "       -5.03823252e-02,  9.69627246e-01, -8.30791263e-01, -3.80853865e-01,\n",
       "        9.41483718e-03, -1.01022878e+00,  2.33498984e-02,  1.55632518e-01,\n",
       "       -1.99393708e+00,  7.39453022e-01,  9.34474535e-01, -1.19176425e-01,\n",
       "        1.24729659e+00,  6.03473640e-03,  3.14977523e-01,  4.63248579e-01,\n",
       "        1.86429473e+00,  3.76481342e-02, -2.14184857e-01, -4.90103670e-01,\n",
       "        8.37561905e-01,  9.88024358e-01,  1.90577277e+00, -6.09206470e-01,\n",
       "       -1.63570624e-01,  7.47012576e-01,  5.55245582e-01,  5.28761382e-01,\n",
       "       -1.72209809e+00, -2.04224618e+00,  1.39042056e+00,  1.89535068e-01,\n",
       "       -1.30849677e+00,  9.72970994e-01,  7.77020666e-01,  4.90462226e-01,\n",
       "        1.23568306e+00,  8.41419736e-01, -2.19945313e-02,  2.20346884e+00,\n",
       "       -3.19216593e-01,  1.30480961e+00, -8.00316578e-01,  7.88519641e-02,\n",
       "        7.40553820e-01, -1.28403768e-01, -2.32310655e+00,  1.50867228e+00,\n",
       "        2.03632868e-02, -5.48831950e-01, -4.77694285e-01,  9.47823626e-01,\n",
       "        8.01582301e-01,  4.32422589e-01,  6.64706749e-02, -1.75092456e+00,\n",
       "        2.55547348e-01,  2.25931149e+00, -8.50156450e-01, -1.26893109e+00,\n",
       "       -3.26267511e-02, -1.71828607e+00, -7.13949719e-01,  9.37344600e-01,\n",
       "        9.51416293e-01,  1.02348382e-01, -1.74882329e-01,  5.53391042e-01,\n",
       "       -2.05091506e-01,  1.13152962e-01, -1.72306330e+00,  7.96774610e-01,\n",
       "        6.99095306e-01, -2.33735281e-01,  1.49139978e+00, -1.30756154e+00,\n",
       "       -1.09052933e+00, -1.81589196e-01, -6.87930376e-01, -6.23937191e-01,\n",
       "       -1.65922609e+00,  1.72413065e-01, -2.18539502e+00, -1.51921197e+00,\n",
       "       -8.53884316e-01,  1.05049289e+00, -3.79934161e-01,  2.79061042e-01,\n",
       "       -3.05577635e-01,  6.44347451e-01,  6.60567353e-01, -1.08615634e+00])"
      ]
     },
     "execution_count": 12,
     "metadata": {},
     "output_type": "execute_result"
    }
   ],
   "execution_count": 12
  },
  {
   "metadata": {
    "ExecuteTime": {
     "end_time": "2025-03-10T14:14:55.943077Z",
     "start_time": "2025-03-10T14:14:55.940552Z"
    }
   },
   "cell_type": "code",
   "source": "np.asarray(post_cov)",
   "id": "6e6938ee6db91b06",
   "outputs": [
    {
     "data": {
      "text/plain": [
       "array([[ 0.14169616,  0.00470982,  0.00029938, ...,  0.        ,\n",
       "         0.        ,  0.        ],\n",
       "       [ 0.00470982,  0.12329948,  0.00548576, ...,  0.        ,\n",
       "         0.        ,  0.        ],\n",
       "       [ 0.00029938,  0.00548576,  0.16508814, ...,  0.        ,\n",
       "         0.        ,  0.        ],\n",
       "       ...,\n",
       "       [ 0.        ,  0.        ,  0.        , ...,  0.12332094,\n",
       "         0.00605498, -0.00127593],\n",
       "       [ 0.        ,  0.        ,  0.        , ...,  0.00605498,\n",
       "         0.08965122,  0.00500166],\n",
       "       [ 0.        ,  0.        ,  0.        , ..., -0.00127593,\n",
       "         0.00500166,  0.19752131]])"
      ]
     },
     "execution_count": 13,
     "metadata": {},
     "output_type": "execute_result"
    }
   ],
   "execution_count": 13
  },
  {
   "metadata": {},
   "cell_type": "markdown",
   "source": [
    "---\n",
    "## Custom implementation(s)"
   ],
   "id": "c7496288f6ddf25f"
  },
  {
   "metadata": {
    "ExecuteTime": {
     "end_time": "2025-03-10T14:14:55.984434Z",
     "start_time": "2025-03-10T14:14:55.977909Z"
    }
   },
   "cell_type": "code",
   "source": [
    "# Jitted, specialized functions\n",
    "@jit\n",
    "def _hyperpost_common_input_common_hp(outputs, prior_mean, mean_cov_U, mean_cov_inv, task_cov, inputs_to_grid=None,nugget=jnp.array(1e-10)):\n",
    "\teye = jnp.eye(task_cov.shape[-1])\n",
    "\n",
    "\t# Compute task covariance and its Cholesky factor\n",
    "\ttask_cov_U, _ = cho_factor(task_cov + eye * nugget)\n",
    "\ttask_cov_inv = cho_solve((task_cov_U, False), eye)\n",
    "\n",
    "\tif inputs_to_grid is not None:\n",
    "\t\ttask_cov_inv = jnp.zeros_like(mean_cov_inv).at[jnp.ix_(inputs_to_grid, inputs_to_grid)].set(task_cov_inv)\n",
    "\n",
    "\t# All tasks share same inputs and hyper-parameters, so their inverse covs are the same and we can compute one and multiply rather than compute all and sum\n",
    "\tpost_cov_inv, _ = cho_factor(mean_cov_inv + len(outputs) * task_cov_inv,)\n",
    "\tpost_cov = cho_solve((post_cov_inv, False), eye)\n",
    "\n",
    "\t# Compute posterior mean\n",
    "\tweighted_prior_mean = cho_solve((mean_cov_U, False), prior_mean)\n",
    "\tweighted_tasks = cho_solve((task_cov_U, False), outputs.sum(axis=0))\n",
    "\n",
    "\tif inputs_to_grid is not None:\n",
    "\t\tweighted_tasks = jnp.zeros_like(prior_mean).at[inputs_to_grid].set(weighted_tasks)\n",
    "\n",
    "\tpost_mean = cho_solve((post_cov_inv, False), weighted_prior_mean + weighted_tasks)\n",
    "\n",
    "\treturn post_mean, post_cov\n",
    "\n",
    "@jit\n",
    "def _hyperpost_common_input_distinct_hp(outputs, prior_mean, mean_cov_U, mean_cov_inv, task_covs, inputs_to_grid=None,nugget=jnp.array(1e-10)):\n",
    "\teye = jnp.broadcast_to(jnp.eye(task_covs.shape[-1]), task_covs.shape)\n",
    "\n",
    "\t# Compute task covariance and its Cholesky factor\n",
    "\t#task_covs_L = vmap(lambda x: cho_factor(x + eye * nugget, lower=True)[0])(task_covs)\n",
    "\ttask_covs_U, _ = cho_factor(task_covs + eye * nugget)\n",
    "\t#task_cov_inv = vmap(lambda L: cho_solve((L, True), eye))(task_covs_L).sum(axis=0)\n",
    "\ttask_cov_inv = cho_solve((task_covs_U, False), eye)\n",
    "\n",
    "\tif inputs_to_grid is not None:\n",
    "\t\ttask_cov_inv = jnp.zeros_like(mean_cov_inv).at[jnp.ix_(inputs_to_grid, inputs_to_grid)].set(task_cov_inv)\n",
    "\n",
    "\tpost_cov_inv, _ = cho_factor(mean_cov_inv + task_cov_inv)\n",
    "\tpost_cov = cho_solve((post_cov_inv, False), eye)\n",
    "\n",
    "\t# Compute posterior mean\n",
    "\tweighted_prior_mean = cho_solve((mean_cov_U, False), prior_mean)\n",
    "\t#weighted_tasks = vmap(lambda L, o: cho_solve((L, True), o))(task_covs_L, outputs).sum(axis=0)\n",
    "\tweighted_tasks = cho_solve((task_covs_U, False), outputs).sum(axis=0)\n",
    "\n",
    "\tif inputs_to_grid is not None:\n",
    "\t\tweighted_tasks = jnp.zeros_like(prior_mean).at[inputs_to_grid].set(weighted_tasks)\n",
    "\n",
    "\tpost_mean = cho_solve((post_cov_inv, False), weighted_prior_mean + weighted_tasks)\n",
    "\n",
    "\treturn post_mean, post_cov\n",
    "\n",
    "@jit\n",
    "def _hyperpost_distinct_input(outputs, masks, prior_mean, mean_cov_U, mean_cov_inv, task_covs, inputs_to_grid=None,nugget=jnp.array(1e-10)):\n",
    "\t\"\"\"\n",
    "\tcomputes the hyperpost on distinct inputs\n",
    "\n",
    "\ttask_covs: (M, N, N), batch of unaligned covariances\n",
    "\t\"\"\"\n",
    "\tsmall_eye = jnp.broadcast_to(jnp.eye(task_covs.shape[-1]), task_covs.shape)\n",
    "\tbig_eye = jnp.eye(mean_cov_U.shape[-1])\n",
    "\n",
    "\t# task_covs is padded with NaNs. Replace them by their corresponding identity rows/cols\n",
    "\tmasks_2D = masks[:, :, None] & masks[:, None, :]\n",
    "\ttask_covs = jnp.where(masks_2D, task_covs, small_eye)\n",
    "\n",
    "\t# Posterior covariance\n",
    "\t#task_covs_L = vmap(lambda x: cho_factor(x + small_eye * nugget)[0])(task_covs)\n",
    "\ttask_covs_U, _ = cho_factor(task_covs + small_eye * nugget)\n",
    "\t#task_covs_inv = vmap(lambda L: cho_solve((L, False), small_eye))(task_covs_L)\n",
    "\ttask_covs_inv = cho_solve((task_covs_U, False), small_eye)\n",
    "\ttask_covs_inv -= jnp.where(masks_2D, 0, small_eye)  # Correction on the diagonal\n",
    "\ttask_cov_inv = task_covs_inv.sum(axis=0)\n",
    "\n",
    "\tif inputs_to_grid is not None:\n",
    "\t\ttask_cov_inv = jnp.zeros_like(mean_cov_inv).at[jnp.ix_(inputs_to_grid, inputs_to_grid)].set(task_cov_inv)\n",
    "\n",
    "\tpost_cov_inv, _ = cho_factor(mean_cov_inv + task_cov_inv)\n",
    "\tpost_cov = cho_solve((post_cov_inv, False), big_eye)\n",
    "\n",
    "\t# Posterior mean\n",
    "\tweighted_prior_mean = cho_solve((mean_cov_U, False), prior_mean)\n",
    "\toutputs = jnp.where(masks, outputs, 0)\n",
    "\t#weighted_tasks = vmap(lambda L, o: cho_solve((L, False), o))(task_covs_L, outputs).sum(axis=0)\n",
    "\tweighted_tasks = cho_solve((task_covs_U, False), outputs).sum(axis=0)\n",
    "\n",
    "\tif inputs_to_grid is not None:\n",
    "\t\tweighted_tasks = jnp.zeros_like(prior_mean).at[inputs_to_grid].set(weighted_tasks)\n",
    "\n",
    "\tpost_mean = cho_solve((post_cov_inv, False), weighted_prior_mean + weighted_tasks)\n",
    "\n",
    "\treturn post_mean, post_cov"
   ],
   "id": "b5899ad9d78c05ac",
   "outputs": [],
   "execution_count": 14
  },
  {
   "metadata": {
    "ExecuteTime": {
     "end_time": "2025-03-10T14:14:56.022899Z",
     "start_time": "2025-03-10T14:14:56.018901Z"
    }
   },
   "cell_type": "code",
   "source": [
    "# General function\n",
    "def _hyperpost(inputs, outputs, masks, prior_mean, mean_kernel, task_kernel, all_inputs=None, grid=None, nugget=jnp.array(1e-10)):\n",
    "\t\"\"\"\n",
    "\tCompute hyper-posterior using Cholesky decomposition for numerical stability.\n",
    "\n",
    "\tArgs:\n",
    "\t\tinputs: unique timestamps/grid points (M, N)\n",
    "\t\toutputs: observed outputs (M, N)\n",
    "\t\tprior_mean: mean prior (N)\n",
    "\t\tmean_kernel: kernel function for mean prior\n",
    "\t\ttask_kernel: kernel function for task (single function if common_hp=True, else list of M functions)\n",
    "\t\tgrid: optional grid points for predictions\n",
    "\t\tcommon_input: whether all tasks share same inputs\n",
    "\t\tcommon_hp: whether all tasks share same hyperparameters\n",
    "\t\"\"\"\n",
    "\tcommon_input = jnp.all(masks)\n",
    "\tcommon_hp = all([hp.ndim == 0 for hp in task_kernel.__dict__.values()])\n",
    "\n",
    "\t# Merge inputs and grid to create all_inputs\n",
    "\tif all_inputs is None:\n",
    "\t\tif common_input:\n",
    "\t\t\tall_inputs = inputs[0]\n",
    "\t\telse:\n",
    "\t\t\tall_inputs = jnp.sort(jnp.unique(inputs.flatten()))\n",
    "\n",
    "\tif grid is not None:\n",
    "\t\tgrid = jnp.sort(jnp.unique(jnp.concatenate([all_inputs, grid])))\n",
    "\t\tinputs_to_grid = jnp.searchsorted(grid, all_inputs)\n",
    "\t\tcommon_input = False  # We need to pad the cov matrices to compute on the full grid\n",
    "\telse:\n",
    "\t\tgrid = all_inputs\n",
    "\t\tinputs_to_grid = None\n",
    "\n",
    "\tif prior_mean.ndim == 0:\n",
    "\t\tprior_mean = jnp.broadcast_to(prior_mean, (len(grid),))\n",
    "\n",
    "\t# Numerical stability terms\n",
    "\teye = jnp.eye(grid.shape[0])\n",
    "\n",
    "\t# Compute mean covariance and its Cholesky factor\n",
    "\tmean_cov = mean_kernel(grid, grid)\n",
    "\tmean_cov_U, _ = cho_factor(mean_cov + eye * nugget)\n",
    "\tmean_cov_inv = cho_solve((mean_cov_U, False), eye)\n",
    "\n",
    "\tif common_input:\n",
    "\t\tif common_hp:\n",
    "\t\t\ttask_cov = task_kernel(all_inputs)  # Shape: (N, N)\n",
    "\t\t\treturn _hyperpost_common_input_common_hp(outputs, prior_mean, mean_cov_U, mean_cov_inv, task_cov, inputs_to_grid, nugget)\n",
    "\n",
    "\t\telse:  # distinct HPs, we have to compute every task covariance but no padding is required\n",
    "\t\t\ttask_covs = task_kernel(inputs)  # Shape: (M, N, N)\n",
    "\t\t\treturn _hyperpost_common_input_distinct_hp(outputs, prior_mean, mean_cov_U, mean_cov_inv, task_covs, inputs_to_grid, nugget)\n",
    "\n",
    "\n",
    "\telse:  # No common input: we have to pad and mask\n",
    "\t\t# task_covs = task_kernel(jnp.broadcast_to(all_inputs, (len(inputs), len(all_inputs))))\n",
    "\t\ttask_covs = task_kernel(inputs)\n",
    "\t\treturn _hyperpost_distinct_input(outputs, masks, prior_mean, mean_cov_U, mean_cov_inv, task_covs, inputs_to_grid, nugget)\n"
   ],
   "id": "f1519c74ca97d180",
   "outputs": [],
   "execution_count": 15
  },
  {
   "metadata": {},
   "cell_type": "markdown",
   "source": [
    "---\n",
    "## Comparison"
   ],
   "id": "88fdaed3f55aae3a"
  },
  {
   "metadata": {
    "ExecuteTime": {
     "end_time": "2025-03-10T14:14:56.668053Z",
     "start_time": "2025-03-10T14:14:56.232838Z"
    }
   },
   "cell_type": "code",
   "source": "mean_1, cov_1 = hyperpost(padded_inputs, padded_outputs, masks, jnp.array(0.), mean_kern, task_kern, all_inputs=all_inputs)",
   "id": "f1644975c5733316",
   "outputs": [],
   "execution_count": 16
  },
  {
   "metadata": {
    "ExecuteTime": {
     "end_time": "2025-03-10T14:14:57.110896Z",
     "start_time": "2025-03-10T14:14:56.916156Z"
    }
   },
   "cell_type": "code",
   "source": "mean_2, cov_2 = _hyperpost(padded_inputs, padded_outputs, masks, jnp.array(0.), mean_kern, task_kern, all_inputs=all_inputs)",
   "id": "4ff5300a64499bfa",
   "outputs": [],
   "execution_count": 17
  },
  {
   "metadata": {
    "ExecuteTime": {
     "end_time": "2025-03-10T14:14:57.121505Z",
     "start_time": "2025-03-10T14:14:57.116958Z"
    }
   },
   "cell_type": "code",
   "source": "mean_1",
   "id": "86c213d542cbdafa",
   "outputs": [
    {
     "data": {
      "text/plain": [
       "Array([ 4.76827875e-01, -3.82572914e-01,  6.71700107e-01,  6.68929179e-01,\n",
       "       -1.61778671e-01, -2.25330496e-01,  2.29367270e-01, -4.78624682e-01,\n",
       "       -2.10586507e-01, -8.02063493e-01, -3.41226362e-01,  1.15179957e+00,\n",
       "       -6.11421575e-01, -4.63581972e-01,  3.62309700e-01, -3.75224485e-01,\n",
       "        4.06570286e-01, -6.03555201e-01,  1.00086362e+00, -1.04201837e+00,\n",
       "       -6.76914216e-01, -9.07909213e-01,  2.28139532e-01,  2.05874182e+00,\n",
       "        4.62433162e-01, -1.79285822e+00,  4.49769136e-01,  1.14967660e+00,\n",
       "       -1.84373185e+00,  7.04613109e-01, -1.01280214e+00,  1.29808586e+00,\n",
       "       -7.05488283e-01, -2.46238529e-01,  6.66241288e-02, -2.32342244e-01,\n",
       "        4.89774049e-01,  8.08436488e-01, -4.02551642e-01,  3.45664909e-01,\n",
       "       -1.32317118e-01,  3.25861855e-02, -1.82340811e-01,  8.45597279e-01,\n",
       "        2.05515554e-01,  6.85896626e-01,  5.18542893e-01, -1.27527027e+00,\n",
       "       -3.00876015e-01, -2.70756101e-01, -4.32127557e-02, -3.68096901e-01,\n",
       "        4.75224489e-01,  1.58804495e+00,  4.14881159e-01,  1.74483766e+00,\n",
       "        9.51523044e-01,  5.73565199e-01,  2.27130826e+00,  9.83750800e-01,\n",
       "        8.47317389e-01, -1.72099599e+00,  2.91230798e+00, -8.42092229e-02,\n",
       "        1.78478179e-01, -1.48815782e+00, -1.18802858e+00, -1.26367837e+00,\n",
       "        2.24430423e+00, -2.44856816e-01,  9.37186670e-01, -7.66329519e-02,\n",
       "       -2.13880532e+00,  2.08538192e+00, -6.48613311e-01,  2.37022115e-01,\n",
       "        8.97562298e-01,  3.11188666e-01, -3.46920331e-01,  1.19583465e+00,\n",
       "       -2.70129444e+00,  1.22758802e+00,  1.10219555e+00, -4.78919192e-02,\n",
       "       -4.00386674e-01, -1.46780086e+00, -1.21441407e-01,  4.37928721e-01,\n",
       "       -2.86881828e-01, -4.38301105e-01, -4.47689664e-02, -1.31373688e+00,\n",
       "       -4.28473744e-01, -1.95058057e-02, -2.02531754e+00, -5.17922308e-01,\n",
       "       -1.08727087e+00,  1.33333164e+00,  9.54872057e-01, -1.32131962e+00,\n",
       "       -1.58533119e-01, -9.66039623e-02,  7.59977857e-02, -4.55161187e-01,\n",
       "       -2.55004751e-01, -1.44712791e+00, -3.95902088e-01, -3.78046795e-01,\n",
       "        2.44947076e-01, -2.46839288e-01,  3.11986300e-02, -1.49258044e+00,\n",
       "       -2.51085325e+00,  9.32508904e-01,  7.61836656e-01,  6.65012751e-01,\n",
       "       -1.17986402e+00, -7.03103355e-01, -2.66454204e-01, -2.16499139e-01,\n",
       "       -1.48727408e+00, -1.55445778e+00,  1.35958600e+00, -1.20802938e+00,\n",
       "        2.37398853e-01,  2.60849801e+00,  1.19047010e+00, -8.70877747e-03,\n",
       "        6.46940392e-01, -1.07666274e+00, -5.99192166e-02, -1.64935037e+00,\n",
       "        1.42302902e+00,  1.05189728e-01,  6.15986916e-02, -1.55338051e-01,\n",
       "        1.65551759e+00, -1.99142862e+00,  6.23069408e-01, -7.29570443e-01,\n",
       "       -7.98090308e-01, -1.51500044e+00,  9.49917881e-01, -2.51528306e+00,\n",
       "        3.01557996e-01,  8.89883127e-01,  2.45192615e-02, -3.65775671e-01,\n",
       "        9.38939112e-01,  3.63858068e-01, -1.34136171e+00, -2.95036228e-01,\n",
       "       -8.56627255e-01,  9.99160799e-01, -8.43926603e-01,  1.27062342e+00,\n",
       "        7.01519637e-01,  2.99218040e-01, -1.74469738e+00,  9.57990354e-01,\n",
       "        2.93235562e-02, -3.03369030e-02, -1.37207148e+00,  1.23451756e+00,\n",
       "        1.22779029e-01,  2.38248355e+00, -3.81605894e-01, -9.33446743e-01,\n",
       "        3.87567484e-02, -5.46872767e-01,  1.97076933e-01,  1.39483109e+00,\n",
       "       -5.18721496e-01, -2.43832622e-01, -3.00060986e-01,  3.70277754e-01,\n",
       "       -5.53868468e-01, -1.37643191e+00,  6.47184123e-01,  8.14670661e-01,\n",
       "        2.96270050e-01,  2.94700138e-01,  1.84416377e-03, -1.61272803e+00,\n",
       "       -2.03812923e+00, -2.19229059e-01, -5.28058677e-01, -1.53196830e+00,\n",
       "        5.74760574e-01, -1.01365853e+00,  1.77197044e+00, -9.17847386e-01,\n",
       "        5.59926750e-01,  8.22029082e-01,  2.58319761e-01,  1.54692949e+00,\n",
       "        1.17984955e+00, -3.95012940e-01,  6.78663108e-01, -1.13862906e+00,\n",
       "        2.53166652e-01,  1.43669465e+00,  2.81610077e-01,  1.45237072e+00,\n",
       "       -1.27863408e+00,  8.46733808e-02,  1.55174195e+00,  8.77739375e-01,\n",
       "        1.39597725e+00,  3.53728430e-01, -1.26136739e+00,  4.88250883e-01,\n",
       "       -1.71694180e+00, -1.29984079e+00,  2.43512999e-01,  1.92780800e+00,\n",
       "        7.71670616e-01,  1.14896516e-01,  5.78711537e-01, -2.02610240e-01,\n",
       "       -1.98669646e+00, -9.41808146e-02,  6.06970051e-01,  5.34785600e-01,\n",
       "        1.97285441e+00, -8.43799094e-01,  9.88884820e-01,  5.60898828e-01,\n",
       "       -2.12429592e+00, -1.93304462e-01,  3.51118738e-01, -8.34984131e-01,\n",
       "       -1.89760421e-01, -1.47999071e+00,  1.24955302e+00,  2.57892228e+00,\n",
       "       -6.63529588e-01, -3.69377829e+00, -1.35247692e+00, -2.18877531e-01,\n",
       "        1.97739661e+00,  2.49102466e-01, -2.86206444e-01,  1.05908946e-01,\n",
       "        8.73166867e-01,  8.51797056e-01, -5.86113305e-01, -1.63487057e+00,\n",
       "        6.54487543e-01, -4.70074370e-02, -9.99031169e-01,  1.57478521e+00,\n",
       "        1.00950347e+00,  1.90239099e-01,  1.41499588e+00,  1.18742464e+00,\n",
       "       -2.46718550e+00,  6.39886258e-01, -1.00446558e+00, -1.16790750e+00,\n",
       "        5.01920455e-01, -4.65642403e-01, -1.04602127e+00,  9.44249167e-01,\n",
       "        6.38265636e-01,  2.48520069e-01, -1.28903310e+00,  2.31502656e+00,\n",
       "       -7.27917925e-02, -1.51821834e+00,  1.54815451e+00, -4.04012173e-01,\n",
       "        3.06651626e-01,  1.50327669e+00, -2.07495160e-02, -2.56547144e+00,\n",
       "        3.57764138e-01, -1.51372526e+00, -6.51534025e-01,  1.43310410e+00,\n",
       "       -7.58035867e-01, -1.53721776e+00,  1.10506500e-01,  4.04150165e-01,\n",
       "       -1.12589251e+00, -2.14019496e-01, -1.13399272e+00, -8.34684415e-01,\n",
       "       -1.23671336e+00, -1.20283491e+00,  3.34865665e-01, -1.27843313e+00,\n",
       "       -1.09571944e+00,  7.33742749e-01, -4.03083304e-02, -8.00778693e-01,\n",
       "       -1.27058131e+00, -1.62216948e+00,  5.72574647e-01, -9.85684222e-01,\n",
       "       -8.50572488e-01, -1.37904387e+00, -2.53116645e-01, -1.17467293e+00,\n",
       "       -1.49474886e-01,  1.15720687e+00, -7.53451835e-01, -5.03823252e-02,\n",
       "        9.69627246e-01, -8.30791263e-01, -3.80853865e-01,  9.41483718e-03,\n",
       "       -1.01022878e+00,  2.33498984e-02,  1.55632518e-01, -1.99393708e+00,\n",
       "        7.39453022e-01,  9.34474535e-01, -1.19176425e-01,  1.24729659e+00,\n",
       "        3.14977523e-01,  4.63248579e-01,  1.86429473e+00,  3.76481342e-02,\n",
       "       -2.14184857e-01, -4.90103670e-01,  8.37561905e-01,  9.88024358e-01,\n",
       "        1.90577277e+00, -6.09206470e-01, -1.63570624e-01,  7.47012576e-01,\n",
       "        5.55245582e-01,  5.28761382e-01, -1.72209809e+00, -2.04224618e+00,\n",
       "        1.39042056e+00,  1.89535068e-01, -1.30849677e+00,  9.72970994e-01,\n",
       "        7.77020666e-01,  4.90462226e-01,  1.23568306e+00,  8.41419736e-01,\n",
       "       -2.19945313e-02,  2.20346884e+00, -3.19216593e-01,  1.30480961e+00,\n",
       "       -8.00316578e-01,  7.88519641e-02,  7.40553820e-01, -1.28403768e-01,\n",
       "       -2.32310655e+00,  1.50867228e+00,  2.03632868e-02, -5.48831950e-01,\n",
       "       -4.77694285e-01,  9.47823626e-01,  8.01582301e-01,  4.32422589e-01,\n",
       "        6.64706749e-02, -1.75092456e+00,  2.55547348e-01,  2.25931149e+00,\n",
       "       -8.50156450e-01, -1.26893109e+00, -3.26267511e-02, -1.71828607e+00,\n",
       "       -7.13949719e-01,  9.37344600e-01,  9.51416293e-01,  1.02348382e-01,\n",
       "       -1.74882329e-01,  5.53391042e-01, -2.05091506e-01,  1.13152962e-01,\n",
       "       -1.72306330e+00,  7.96774610e-01,  6.99095306e-01, -2.33735281e-01,\n",
       "        1.49139978e+00, -1.30756154e+00, -1.09052933e+00, -1.81589196e-01,\n",
       "       -6.87930376e-01, -6.23937191e-01, -1.65922609e+00,  1.72413065e-01,\n",
       "       -2.18539502e+00, -1.51921197e+00, -8.53884316e-01,  1.05049289e+00,\n",
       "       -3.79934161e-01,  2.79061042e-01, -3.05577635e-01,  6.44347451e-01,\n",
       "        6.60567353e-01, -1.08615634e+00], dtype=float64)"
      ]
     },
     "execution_count": 18,
     "metadata": {},
     "output_type": "execute_result"
    }
   ],
   "execution_count": 18
  },
  {
   "metadata": {
    "ExecuteTime": {
     "end_time": "2025-03-10T14:14:57.358275Z",
     "start_time": "2025-03-10T14:14:57.353989Z"
    }
   },
   "cell_type": "code",
   "source": "mean_2",
   "id": "ff63de456a966b34",
   "outputs": [
    {
     "data": {
      "text/plain": [
       "Array([ 4.76827875e-01, -3.82572914e-01,  6.71700107e-01,  6.68929179e-01,\n",
       "       -1.61778671e-01, -2.25330496e-01,  2.29367270e-01, -4.78624682e-01,\n",
       "       -2.10586507e-01, -8.02063493e-01, -3.41226362e-01,  1.15179957e+00,\n",
       "       -6.11421575e-01, -4.63581972e-01,  3.62309700e-01, -3.75224485e-01,\n",
       "        4.06570286e-01, -6.03555201e-01,  1.00086362e+00, -1.04201837e+00,\n",
       "       -6.76914216e-01, -9.07909213e-01,  2.28139532e-01,  2.05874182e+00,\n",
       "        4.62433162e-01, -1.79285822e+00,  4.49769136e-01,  1.14967660e+00,\n",
       "       -1.84373185e+00,  7.04613109e-01, -1.01280214e+00,  1.29808586e+00,\n",
       "       -7.05488283e-01, -2.46238529e-01,  6.66241288e-02, -2.32342244e-01,\n",
       "        4.89774049e-01,  8.08436488e-01, -4.02551642e-01,  3.45664909e-01,\n",
       "       -1.32317118e-01,  3.25861855e-02, -1.82340811e-01,  8.45597279e-01,\n",
       "        2.05515554e-01,  6.85896626e-01,  5.18542893e-01, -1.27527027e+00,\n",
       "       -3.00876015e-01, -2.70756101e-01, -4.32127557e-02, -3.68096901e-01,\n",
       "        4.75224489e-01,  1.58804495e+00,  4.14881159e-01,  1.74483766e+00,\n",
       "        9.51523044e-01,  5.73565199e-01,  2.27130826e+00,  9.83750800e-01,\n",
       "        8.47317389e-01, -1.72099599e+00,  2.91230798e+00, -8.42092229e-02,\n",
       "        1.78478179e-01, -1.48815782e+00, -1.18802858e+00, -1.26367837e+00,\n",
       "        2.24430423e+00, -2.44856816e-01,  9.37186670e-01, -7.66329519e-02,\n",
       "       -2.13880532e+00,  2.08538192e+00, -6.48613311e-01,  2.37022115e-01,\n",
       "        8.97562298e-01,  3.11188666e-01, -3.46920331e-01,  1.19583465e+00,\n",
       "       -2.70129444e+00,  1.22758802e+00,  1.10219555e+00, -4.78919192e-02,\n",
       "       -4.00386674e-01, -1.46780086e+00, -1.21441407e-01,  4.37928721e-01,\n",
       "       -2.86881828e-01, -4.38301105e-01, -4.47689664e-02, -1.31373688e+00,\n",
       "       -4.28473744e-01, -1.95058057e-02, -2.02531754e+00, -5.17922308e-01,\n",
       "       -1.08727087e+00,  1.33333164e+00,  9.54872057e-01, -1.32131962e+00,\n",
       "       -1.58533119e-01, -9.66039623e-02,  7.59977857e-02, -4.55161187e-01,\n",
       "       -2.55004751e-01, -1.44712791e+00, -3.95902088e-01, -3.78046795e-01,\n",
       "        2.44947076e-01, -2.46839288e-01,  3.11986300e-02, -1.49258044e+00,\n",
       "       -2.51085325e+00,  9.32508904e-01,  7.61836656e-01,  6.65012751e-01,\n",
       "       -1.17986402e+00, -7.03103355e-01, -2.66454204e-01, -2.16499139e-01,\n",
       "       -1.48727408e+00, -1.55445778e+00,  1.35958600e+00, -1.20802938e+00,\n",
       "        2.37398853e-01,  2.60849801e+00,  1.19047010e+00, -8.70877747e-03,\n",
       "        6.46940392e-01, -1.07666274e+00, -5.99192166e-02, -1.64935037e+00,\n",
       "        1.42302902e+00,  1.05189728e-01,  6.15986916e-02, -1.55338051e-01,\n",
       "        1.65551759e+00, -1.99142862e+00,  6.23069408e-01, -7.29570443e-01,\n",
       "       -7.98090308e-01, -1.51500044e+00,  9.49917881e-01, -2.51528306e+00,\n",
       "        3.01557996e-01,  8.89883127e-01,  2.45192615e-02, -3.65775671e-01,\n",
       "        9.38939112e-01,  3.63858068e-01, -1.34136171e+00, -2.95036228e-01,\n",
       "       -8.56627255e-01,  9.99160799e-01, -8.43926603e-01,  1.27062342e+00,\n",
       "        7.01519637e-01,  2.99218040e-01, -1.74469738e+00,  9.57990354e-01,\n",
       "        2.93235562e-02, -3.03369030e-02, -1.37207148e+00,  1.23451756e+00,\n",
       "        1.22779029e-01,  2.38248355e+00, -3.81605894e-01, -9.33446743e-01,\n",
       "        3.87567484e-02, -5.46872767e-01,  1.97076933e-01,  1.39483109e+00,\n",
       "       -5.18721496e-01, -2.43832622e-01, -3.00060986e-01,  3.70277754e-01,\n",
       "       -5.53868468e-01, -1.37643191e+00,  6.47184123e-01,  8.14670661e-01,\n",
       "        2.96270050e-01,  2.94700138e-01,  1.84416377e-03, -1.61272803e+00,\n",
       "       -2.03812923e+00, -2.19229059e-01, -5.28058677e-01, -1.53196830e+00,\n",
       "        5.74760574e-01, -1.01365853e+00,  1.77197044e+00, -9.17847386e-01,\n",
       "        5.59926750e-01,  8.22029082e-01,  2.58319761e-01,  1.54692949e+00,\n",
       "        1.17984955e+00, -3.95012940e-01,  6.78663108e-01, -1.13862906e+00,\n",
       "        2.53166652e-01,  1.43669465e+00,  2.81610077e-01,  1.45237072e+00,\n",
       "       -1.27863408e+00,  8.46733808e-02,  1.55174195e+00,  8.77739375e-01,\n",
       "        1.39597725e+00,  3.53728430e-01, -1.26136739e+00,  4.88250883e-01,\n",
       "       -1.71694180e+00, -1.29984079e+00,  2.43512999e-01,  1.92780800e+00,\n",
       "        7.71670616e-01,  1.14896516e-01,  5.78711537e-01, -2.02610240e-01,\n",
       "       -1.98669646e+00, -9.41808146e-02,  6.06970051e-01,  5.34785600e-01,\n",
       "        1.97285441e+00, -8.43799094e-01,  9.88884820e-01,  5.60898828e-01,\n",
       "       -2.12429592e+00, -1.93304462e-01,  3.51118738e-01, -8.34984131e-01,\n",
       "       -1.89760421e-01, -1.47999071e+00,  1.24955302e+00,  2.57892228e+00,\n",
       "       -6.63529588e-01, -3.69377829e+00, -1.35247692e+00, -2.18877531e-01,\n",
       "        1.97739661e+00,  2.49102466e-01, -2.86206444e-01,  1.05908946e-01,\n",
       "        8.73166867e-01,  8.51797056e-01, -5.86113305e-01, -1.63487057e+00,\n",
       "        6.54487543e-01, -4.70074370e-02, -9.99031169e-01,  1.57478521e+00,\n",
       "        1.00950347e+00,  1.90239099e-01,  1.41499588e+00,  1.18742464e+00,\n",
       "       -2.46718550e+00,  6.39886258e-01, -1.00446558e+00, -1.16790750e+00,\n",
       "        5.01920455e-01, -4.65642403e-01, -1.04602127e+00,  9.44249167e-01,\n",
       "        6.38265636e-01,  2.48520069e-01, -1.28903310e+00,  2.31502656e+00,\n",
       "       -7.27917925e-02, -1.51821834e+00,  1.54815451e+00, -4.04012173e-01,\n",
       "        3.06651626e-01,  1.50327669e+00, -2.07495160e-02, -2.56547144e+00,\n",
       "        3.57764138e-01, -1.51372526e+00, -6.51534025e-01,  1.43310410e+00,\n",
       "       -7.58035867e-01, -1.53721776e+00,  1.10506500e-01,  4.04150165e-01,\n",
       "       -1.12589251e+00, -2.14019496e-01, -1.13399272e+00, -8.34684415e-01,\n",
       "       -1.23671336e+00, -1.20283491e+00,  3.34865665e-01, -1.27843313e+00,\n",
       "       -1.09571944e+00,  7.33742749e-01, -4.03083304e-02, -8.00778693e-01,\n",
       "       -1.27058131e+00, -1.62216948e+00,  5.72574647e-01, -9.85684222e-01,\n",
       "       -8.50572488e-01, -1.37904387e+00, -2.53116645e-01, -1.17467293e+00,\n",
       "       -1.49474886e-01,  1.15720687e+00, -7.53451835e-01, -5.03823252e-02,\n",
       "        9.69627246e-01, -8.30791263e-01, -3.80853865e-01,  9.41483718e-03,\n",
       "       -1.01022878e+00,  2.33498984e-02,  1.55632518e-01, -1.99393708e+00,\n",
       "        7.39453022e-01,  9.34474535e-01, -1.19176425e-01,  1.24729659e+00,\n",
       "        3.14977523e-01,  4.63248579e-01,  1.86429473e+00,  3.76481342e-02,\n",
       "       -2.14184857e-01, -4.90103670e-01,  8.37561905e-01,  9.88024358e-01,\n",
       "        1.90577277e+00, -6.09206470e-01, -1.63570624e-01,  7.47012576e-01,\n",
       "        5.55245582e-01,  5.28761382e-01, -1.72209809e+00, -2.04224618e+00,\n",
       "        1.39042056e+00,  1.89535068e-01, -1.30849677e+00,  9.72970994e-01,\n",
       "        7.77020666e-01,  4.90462226e-01,  1.23568306e+00,  8.41419736e-01,\n",
       "       -2.19945313e-02,  2.20346884e+00, -3.19216593e-01,  1.30480961e+00,\n",
       "       -8.00316578e-01,  7.88519641e-02,  7.40553820e-01, -1.28403768e-01,\n",
       "       -2.32310655e+00,  1.50867228e+00,  2.03632868e-02, -5.48831950e-01,\n",
       "       -4.77694285e-01,  9.47823626e-01,  8.01582301e-01,  4.32422589e-01,\n",
       "        6.64706749e-02, -1.75092456e+00,  2.55547348e-01,  2.25931149e+00,\n",
       "       -8.50156450e-01, -1.26893109e+00, -3.26267511e-02, -1.71828607e+00,\n",
       "       -7.13949719e-01,  9.37344600e-01,  9.51416293e-01,  1.02348382e-01,\n",
       "       -1.74882329e-01,  5.53391042e-01, -2.05091506e-01,  1.13152962e-01,\n",
       "       -1.72306330e+00,  7.96774610e-01,  6.99095306e-01, -2.33735281e-01,\n",
       "        1.49139978e+00, -1.30756154e+00, -1.09052933e+00, -1.81589196e-01,\n",
       "       -6.87930376e-01, -6.23937191e-01, -1.65922609e+00,  1.72413065e-01,\n",
       "       -2.18539502e+00, -1.51921197e+00, -8.53884316e-01,  1.05049289e+00,\n",
       "       -3.79934161e-01,  2.79061042e-01, -3.05577635e-01,  6.44347451e-01,\n",
       "        6.60567353e-01, -1.08615634e+00], dtype=float64)"
      ]
     },
     "execution_count": 19,
     "metadata": {},
     "output_type": "execute_result"
    }
   ],
   "execution_count": 19
  },
  {
   "metadata": {
    "ExecuteTime": {
     "end_time": "2025-03-10T14:14:57.432511Z",
     "start_time": "2025-03-10T14:14:57.369769Z"
    }
   },
   "cell_type": "code",
   "source": "jnp.allclose(mean_1, mean_2), jnp.allclose(cov_1, cov_2)",
   "id": "de72f3a104005019",
   "outputs": [
    {
     "data": {
      "text/plain": [
       "(Array(True, dtype=bool), Array(True, dtype=bool))"
      ]
     },
     "execution_count": 20,
     "metadata": {},
     "output_type": "execute_result"
    }
   ],
   "execution_count": 20
  },
  {
   "metadata": {
    "ExecuteTime": {
     "end_time": "2025-03-10T14:14:57.578047Z",
     "start_time": "2025-03-10T14:14:57.444640Z"
    }
   },
   "cell_type": "code",
   "source": "jnp.mean(jnp.abs(mean_1 - mean_2)), jnp.mean(jnp.abs(cov_1 - cov_2))",
   "id": "c48fb997a4cca94e",
   "outputs": [
    {
     "data": {
      "text/plain": [
       "(Array(0., dtype=float64), Array(0., dtype=float64))"
      ]
     },
     "execution_count": 21,
     "metadata": {},
     "output_type": "execute_result"
    }
   ],
   "execution_count": 21
  },
  {
   "metadata": {
    "ExecuteTime": {
     "end_time": "2025-03-10T14:15:03.270362Z",
     "start_time": "2025-03-10T14:14:57.589515Z"
    }
   },
   "cell_type": "code",
   "source": [
    "%%timeit -n 5 -r 5\n",
    "hyperpost(padded_inputs, padded_outputs, masks, jnp.array(0.), mean_kern, task_kern, all_inputs=all_inputs)[0].block_until_ready()"
   ],
   "id": "f153af2dc52e2c9d",
   "outputs": [
    {
     "name": "stdout",
     "output_type": "stream",
     "text": [
      "227 ms ± 22.9 ms per loop (mean ± std. dev. of 5 runs, 5 loops each)\n"
     ]
    }
   ],
   "execution_count": 22
  },
  {
   "metadata": {
    "ExecuteTime": {
     "end_time": "2025-03-10T14:15:08.872726Z",
     "start_time": "2025-03-10T14:15:03.288482Z"
    }
   },
   "cell_type": "code",
   "source": [
    "%%timeit -n 5 -r 5\n",
    "_hyperpost(padded_inputs, padded_outputs, masks, jnp.array(0.), mean_kern, task_kern, all_inputs=all_inputs)[0].block_until_ready()"
   ],
   "id": "1244bff52409f0a6",
   "outputs": [
    {
     "name": "stdout",
     "output_type": "stream",
     "text": [
      "223 ms ± 10.3 ms per loop (mean ± std. dev. of 5 runs, 5 loops each)\n"
     ]
    }
   ],
   "execution_count": 23
  },
  {
   "metadata": {
    "ExecuteTime": {
     "end_time": "2025-03-10T14:15:08.886389Z",
     "start_time": "2025-03-10T14:15:08.884939Z"
    }
   },
   "cell_type": "code",
   "source": "",
   "id": "e5f2abcd97be6f1b",
   "outputs": [],
   "execution_count": null
  },
  {
   "metadata": {
    "ExecuteTime": {
     "end_time": "2025-03-10T14:15:08.921787Z",
     "start_time": "2025-03-10T14:15:08.920063Z"
    }
   },
   "cell_type": "code",
   "source": "",
   "id": "193bfeb2d482fa31",
   "outputs": [],
   "execution_count": null
  },
  {
   "metadata": {
    "ExecuteTime": {
     "end_time": "2025-03-10T14:15:08.953557Z",
     "start_time": "2025-03-10T14:15:08.951965Z"
    }
   },
   "cell_type": "code",
   "source": "",
   "id": "a23eb59e31ffc68e",
   "outputs": [],
   "execution_count": null
  },
  {
   "metadata": {
    "ExecuteTime": {
     "end_time": "2025-03-10T14:15:08.987046Z",
     "start_time": "2025-03-10T14:15:08.985368Z"
    }
   },
   "cell_type": "code",
   "source": "",
   "id": "c3111b9140380fe4",
   "outputs": [],
   "execution_count": null
  },
  {
   "metadata": {
    "ExecuteTime": {
     "end_time": "2025-03-10T14:15:09.007289Z",
     "start_time": "2025-03-10T14:15:09.005493Z"
    }
   },
   "cell_type": "code",
   "source": "",
   "id": "be8e727476b78652",
   "outputs": [],
   "execution_count": null
  },
  {
   "metadata": {
    "ExecuteTime": {
     "end_time": "2025-03-10T14:15:09.022348Z",
     "start_time": "2025-03-10T14:15:09.020739Z"
    }
   },
   "cell_type": "code",
   "source": "",
   "id": "37d6b900bc8424c6",
   "outputs": [],
   "execution_count": null
  },
  {
   "metadata": {
    "ExecuteTime": {
     "end_time": "2025-03-10T14:15:09.034359Z",
     "start_time": "2025-03-10T14:15:09.032978Z"
    }
   },
   "cell_type": "code",
   "source": "",
   "id": "d0536bde84c420b4",
   "outputs": [],
   "execution_count": null
  },
  {
   "metadata": {
    "ExecuteTime": {
     "end_time": "2025-03-10T14:15:09.053279Z",
     "start_time": "2025-03-10T14:15:09.051603Z"
    }
   },
   "cell_type": "code",
   "source": "",
   "id": "55f6f7a9e41a9a5c",
   "outputs": [],
   "execution_count": null
  },
  {
   "metadata": {},
   "cell_type": "markdown",
   "source": [
    "---\n",
    "## Conclusion"
   ],
   "id": "40eac9ed87ce043e"
  },
  {
   "metadata": {
    "ExecuteTime": {
     "end_time": "2025-03-10T14:15:09.155064Z",
     "start_time": "2025-03-10T14:15:09.153511Z"
    }
   },
   "cell_type": "code",
   "source": "",
   "id": "e00d28413733ef9a",
   "outputs": [],
   "execution_count": null
  },
  {
   "metadata": {},
   "cell_type": "markdown",
   "source": "---",
   "id": "f18216d93ddcf3af"
  }
 ],
 "metadata": {
  "kernelspec": {
   "display_name": "Python 3",
   "language": "python",
   "name": "python3"
  },
  "language_info": {
   "codemirror_mode": {
    "name": "ipython",
    "version": 2
   },
   "file_extension": ".py",
   "mimetype": "text/x-python",
   "name": "python",
   "nbconvert_exporter": "python",
   "pygments_lexer": "ipython2",
   "version": "2.7.6"
  }
 },
 "nbformat": 4,
 "nbformat_minor": 5
}
