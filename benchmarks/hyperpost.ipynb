{
 "cells": [
  {
   "metadata": {},
   "cell_type": "markdown",
   "source": [
    "# Benchmarks - Hyper-posterior distributions\n",
    "\n",
    "**Main considerations when implementing hyper-post**\n",
    "* ...\n"
   ],
   "id": "f69390d194b35b0a"
  },
  {
   "metadata": {},
   "cell_type": "markdown",
   "source": [
    "---\n",
    "## Setup"
   ],
   "id": "4763c6a1086dfd7a"
  },
  {
   "metadata": {
    "ExecuteTime": {
     "end_time": "2025-03-12T15:32:52.954096Z",
     "start_time": "2025-03-12T15:32:52.951309Z"
    }
   },
   "cell_type": "code",
   "source": [
    "# Standard library\n",
    "import os\n",
    "\n",
    "os.environ['JAX_ENABLE_X64'] = \"True\""
   ],
   "id": "eb0046b46dc27950",
   "outputs": [],
   "execution_count": 1
  },
  {
   "metadata": {
    "ExecuteTime": {
     "end_time": "2025-03-12T15:32:53.737691Z",
     "start_time": "2025-03-12T15:32:53.054351Z"
    }
   },
   "cell_type": "code",
   "source": [
    "# Third party\n",
    "import jax\n",
    "from jax import jit, vmap\n",
    "from jax.tree_util import register_pytree_node_class\n",
    "from jax import numpy as jnp\n",
    "from jax.scipy.linalg import cho_factor, cho_solve\n",
    "from jax import lax\n",
    "\n",
    "import numpy as np\n",
    "import pandas as pd"
   ],
   "id": "a1fe8b76912d6f2c",
   "outputs": [],
   "execution_count": 2
  },
  {
   "metadata": {
    "ExecuteTime": {
     "end_time": "2025-03-12T15:32:53.799573Z",
     "start_time": "2025-03-12T15:32:53.741466Z"
    }
   },
   "cell_type": "code",
   "source": [
    "# Local\n",
    "from MagmaClustPy.kernels import RBFKernel\n",
    "from MagmaClustPy.utils import generate_dummy_db, preprocess_db\n",
    "from MagmaClustPy.hyperpost import hyperpost"
   ],
   "id": "4b255f340edfbe6f",
   "outputs": [],
   "execution_count": 3
  },
  {
   "metadata": {
    "ExecuteTime": {
     "end_time": "2025-03-12T15:32:53.841262Z",
     "start_time": "2025-03-12T15:32:53.804727Z"
    }
   },
   "cell_type": "code",
   "source": [
    "# Config\n",
    "key = jax.random.PRNGKey(0)\n",
    "test_db_size = \"medium\""
   ],
   "id": "3180afa8778f9553",
   "outputs": [],
   "execution_count": 4
  },
  {
   "metadata": {},
   "cell_type": "markdown",
   "source": [
    "---\n",
    "## Data"
   ],
   "id": "190fcef7dd61821b"
  },
  {
   "metadata": {
    "ExecuteTime": {
     "end_time": "2025-03-12T15:32:53.850796Z",
     "start_time": "2025-03-12T15:32:53.849339Z"
    }
   },
   "cell_type": "code",
   "source": "",
   "id": "c6925bbc4a61e165",
   "outputs": [],
   "execution_count": null
  },
  {
   "metadata": {},
   "cell_type": "markdown",
   "source": [
    "---\n",
    "## Current implementation"
   ],
   "id": "bffd41fea2028bdb"
  },
  {
   "metadata": {
    "ExecuteTime": {
     "end_time": "2025-03-12T15:32:53.856662Z",
     "start_time": "2025-03-12T15:32:53.855120Z"
    }
   },
   "cell_type": "code",
   "source": "",
   "id": "6b7e730087bbca42",
   "outputs": [],
   "execution_count": null
  },
  {
   "metadata": {},
   "cell_type": "markdown",
   "source": [
    "---\n",
    "## Custom implementation(s)"
   ],
   "id": "c7496288f6ddf25f"
  },
  {
   "metadata": {
    "ExecuteTime": {
     "end_time": "2025-03-12T15:32:53.868045Z",
     "start_time": "2025-03-12T15:32:53.866354Z"
    }
   },
   "cell_type": "code",
   "source": "_hyperpost = hyperpost",
   "id": "b5899ad9d78c05ac",
   "outputs": [],
   "execution_count": 5
  },
  {
   "metadata": {
    "ExecuteTime": {
     "end_time": "2025-03-12T15:32:53.910113Z",
     "start_time": "2025-03-12T15:32:53.908491Z"
    }
   },
   "cell_type": "code",
   "source": "",
   "id": "f1519c74ca97d180",
   "outputs": [],
   "execution_count": null
  },
  {
   "metadata": {},
   "cell_type": "markdown",
   "source": [
    "---\n",
    "## Comparison"
   ],
   "id": "88fdaed3f55aae3a"
  },
  {
   "metadata": {},
   "cell_type": "markdown",
   "source": "### Common Input, Common HP",
   "id": "d7945be29b7e754c"
  },
  {
   "metadata": {
    "ExecuteTime": {
     "end_time": "2025-03-12T15:32:54.844656Z",
     "start_time": "2025-03-12T15:32:53.915084Z"
    }
   },
   "cell_type": "code",
   "source": [
    "db = pd.read_csv(f\"./dummy_datasets/{test_db_size}_common_input_common_hp.csv\")\n",
    "all_inputs, padded_inputs, padded_outputs, masks = preprocess_db(db)\n",
    "all_inputs.shape, padded_inputs.shape"
   ],
   "id": "5654105b1ac1a46f",
   "outputs": [
    {
     "data": {
      "text/plain": [
       "((150,), (200, 150))"
      ]
     },
     "execution_count": 6,
     "metadata": {},
     "output_type": "execute_result"
    }
   ],
   "execution_count": 6
  },
  {
   "metadata": {
    "ExecuteTime": {
     "end_time": "2025-03-12T15:32:54.855522Z",
     "start_time": "2025-03-12T15:32:54.852807Z"
    }
   },
   "cell_type": "code",
   "source": [
    "mean_kern = RBFKernel(length_scale=.3, variance=1.)\n",
    "task_kern = RBFKernel(length_scale=.6, variance=1.)"
   ],
   "id": "e172126be02ff03b",
   "outputs": [],
   "execution_count": 7
  },
  {
   "metadata": {
    "ExecuteTime": {
     "end_time": "2025-03-12T15:32:55.441817Z",
     "start_time": "2025-03-12T15:32:54.875363Z"
    }
   },
   "cell_type": "code",
   "source": "mean_1, cov_1 = hyperpost(padded_inputs, padded_outputs, masks, jnp.array(0.), mean_kern, task_kern, all_inputs=all_inputs)",
   "id": "f1644975c5733316",
   "outputs": [],
   "execution_count": 8
  },
  {
   "metadata": {
    "ExecuteTime": {
     "end_time": "2025-03-12T15:32:55.455510Z",
     "start_time": "2025-03-12T15:32:55.451925Z"
    }
   },
   "cell_type": "code",
   "source": "mean_2, cov_2 = _hyperpost(padded_inputs, padded_outputs, masks, jnp.array(0.), mean_kern, task_kern, all_inputs=all_inputs)",
   "id": "4ff5300a64499bfa",
   "outputs": [],
   "execution_count": 9
  },
  {
   "metadata": {
    "ExecuteTime": {
     "end_time": "2025-03-12T15:32:55.536956Z",
     "start_time": "2025-03-12T15:32:55.468690Z"
    }
   },
   "cell_type": "code",
   "source": "jnp.allclose(mean_1, mean_2), jnp.allclose(cov_1, cov_2)",
   "id": "de72f3a104005019",
   "outputs": [
    {
     "data": {
      "text/plain": [
       "(Array(True, dtype=bool), Array(True, dtype=bool))"
      ]
     },
     "execution_count": 10,
     "metadata": {},
     "output_type": "execute_result"
    }
   ],
   "execution_count": 10
  },
  {
   "metadata": {
    "ExecuteTime": {
     "end_time": "2025-03-12T15:32:55.685734Z",
     "start_time": "2025-03-12T15:32:55.547761Z"
    }
   },
   "cell_type": "code",
   "source": "jnp.mean(jnp.abs(mean_1 - mean_2)), jnp.mean(jnp.abs(cov_1 - cov_2))",
   "id": "c48fb997a4cca94e",
   "outputs": [
    {
     "data": {
      "text/plain": [
       "(Array(0., dtype=float64), Array(0., dtype=float64))"
      ]
     },
     "execution_count": 11,
     "metadata": {},
     "output_type": "execute_result"
    }
   ],
   "execution_count": 11
  },
  {
   "metadata": {
    "ExecuteTime": {
     "end_time": "2025-03-12T15:32:55.729943Z",
     "start_time": "2025-03-12T15:32:55.693952Z"
    }
   },
   "cell_type": "code",
   "source": [
    "%%timeit -n 5 -r 5\n",
    "hyperpost(padded_inputs, padded_outputs, masks, jnp.array(0.), mean_kern, task_kern, all_inputs=all_inputs)[0].block_until_ready()"
   ],
   "id": "f153af2dc52e2c9d",
   "outputs": [
    {
     "name": "stdout",
     "output_type": "stream",
     "text": [
      "1.31 ms ± 169 μs per loop (mean ± std. dev. of 5 runs, 5 loops each)\n"
     ]
    }
   ],
   "execution_count": 12
  },
  {
   "metadata": {
    "ExecuteTime": {
     "end_time": "2025-03-12T15:32:55.780191Z",
     "start_time": "2025-03-12T15:32:55.744251Z"
    }
   },
   "cell_type": "code",
   "source": [
    "%%timeit -n 5 -r 5\n",
    "_hyperpost(padded_inputs, padded_outputs, masks, jnp.array(0.), mean_kern, task_kern, all_inputs=all_inputs)[0].block_until_ready()"
   ],
   "id": "1244bff52409f0a6",
   "outputs": [
    {
     "name": "stdout",
     "output_type": "stream",
     "text": [
      "1.34 ms ± 196 μs per loop (mean ± std. dev. of 5 runs, 5 loops each)\n"
     ]
    }
   ],
   "execution_count": 13
  },
  {
   "metadata": {},
   "cell_type": "markdown",
   "source": "### Common Input, Distinct HP",
   "id": "5cbfcda25a2335f8"
  },
  {
   "metadata": {
    "ExecuteTime": {
     "end_time": "2025-03-12T15:32:56.117086Z",
     "start_time": "2025-03-12T15:32:55.786642Z"
    }
   },
   "cell_type": "code",
   "source": [
    "db = pd.read_csv(f\"./dummy_datasets/{test_db_size}_common_input_distinct_hp.csv\")\n",
    "all_inputs, padded_inputs, padded_outputs, masks = preprocess_db(db)\n",
    "all_inputs.shape, padded_inputs.shape"
   ],
   "id": "904838f111d40956",
   "outputs": [
    {
     "data": {
      "text/plain": [
       "((150,), (200, 150))"
      ]
     },
     "execution_count": 14,
     "metadata": {},
     "output_type": "execute_result"
    }
   ],
   "execution_count": 14
  },
  {
   "metadata": {
    "ExecuteTime": {
     "end_time": "2025-03-12T15:32:56.256393Z",
     "start_time": "2025-03-12T15:32:56.125681Z"
    }
   },
   "cell_type": "code",
   "source": [
    "mean_kern = RBFKernel(length_scale=.3, variance=1.)\n",
    "\n",
    "key, subkey = jax.random.split(key)\n",
    "distinct_length_scales = jax.random.uniform(subkey, (padded_outputs.shape[0],), jnp.float64, .1, 1)\n",
    "task_kern = RBFKernel(length_scale=distinct_length_scales, variance=1.)"
   ],
   "id": "e5f2abcd97be6f1b",
   "outputs": [],
   "execution_count": 15
  },
  {
   "metadata": {
    "ExecuteTime": {
     "end_time": "2025-03-12T15:32:56.436336Z",
     "start_time": "2025-03-12T15:32:56.265473Z"
    }
   },
   "cell_type": "code",
   "source": "mean_1, cov_1 = hyperpost(padded_inputs, padded_outputs, masks, jnp.array(0.), mean_kern, task_kern, all_inputs=all_inputs)",
   "id": "69661a7175e77eda",
   "outputs": [],
   "execution_count": 16
  },
  {
   "metadata": {
    "ExecuteTime": {
     "end_time": "2025-03-12T15:32:56.764145Z",
     "start_time": "2025-03-12T15:32:56.758053Z"
    }
   },
   "cell_type": "code",
   "source": "mean_2, cov_2 = _hyperpost(padded_inputs, padded_outputs, masks, jnp.array(0.), mean_kern, task_kern, all_inputs=all_inputs)",
   "id": "b611e987a09d9d21",
   "outputs": [],
   "execution_count": 17
  },
  {
   "metadata": {
    "ExecuteTime": {
     "end_time": "2025-03-12T15:32:57.102287Z",
     "start_time": "2025-03-12T15:32:57.098742Z"
    }
   },
   "cell_type": "code",
   "source": "jnp.allclose(mean_1, mean_2), jnp.allclose(cov_1, cov_2)",
   "id": "25504e1e1b327944",
   "outputs": [
    {
     "data": {
      "text/plain": [
       "(Array(True, dtype=bool), Array(True, dtype=bool))"
      ]
     },
     "execution_count": 18,
     "metadata": {},
     "output_type": "execute_result"
    }
   ],
   "execution_count": 18
  },
  {
   "metadata": {
    "ExecuteTime": {
     "end_time": "2025-03-12T15:32:57.117426Z",
     "start_time": "2025-03-12T15:32:57.114017Z"
    }
   },
   "cell_type": "code",
   "source": "jnp.mean(jnp.abs(mean_1 - mean_2)), jnp.mean(jnp.abs(cov_1 - cov_2))",
   "id": "66b6454a6f3d1f22",
   "outputs": [
    {
     "data": {
      "text/plain": [
       "(Array(0., dtype=float64), Array(0., dtype=float64))"
      ]
     },
     "execution_count": 19,
     "metadata": {},
     "output_type": "execute_result"
    }
   ],
   "execution_count": 19
  },
  {
   "metadata": {
    "ExecuteTime": {
     "end_time": "2025-03-12T15:33:04.259237Z",
     "start_time": "2025-03-12T15:32:57.141052Z"
    }
   },
   "cell_type": "code",
   "source": [
    "%%timeit -n 5 -r 5\n",
    "hyperpost(padded_inputs, padded_outputs, masks, jnp.array(0.), mean_kern, task_kern, all_inputs=all_inputs)[0].block_until_ready()"
   ],
   "id": "83199758add968a7",
   "outputs": [
    {
     "name": "stdout",
     "output_type": "stream",
     "text": [
      "285 ms ± 21.9 ms per loop (mean ± std. dev. of 5 runs, 5 loops each)\n"
     ]
    }
   ],
   "execution_count": 20
  },
  {
   "metadata": {
    "ExecuteTime": {
     "end_time": "2025-03-12T15:33:11.021860Z",
     "start_time": "2025-03-12T15:33:04.269365Z"
    }
   },
   "cell_type": "code",
   "source": [
    "%%timeit -n 5 -r 5\n",
    "_hyperpost(padded_inputs, padded_outputs, masks, jnp.array(0.), mean_kern, task_kern, all_inputs=all_inputs)[0].block_until_ready()"
   ],
   "id": "bfafefa8bfdd8827",
   "outputs": [
    {
     "name": "stdout",
     "output_type": "stream",
     "text": [
      "270 ms ± 10.8 ms per loop (mean ± std. dev. of 5 runs, 5 loops each)\n"
     ]
    }
   ],
   "execution_count": 21
  },
  {
   "metadata": {},
   "cell_type": "markdown",
   "source": "### Distinct Input, Common HP",
   "id": "7ff3a0247d75a333"
  },
  {
   "metadata": {
    "ExecuteTime": {
     "end_time": "2025-03-12T15:33:12.602394Z",
     "start_time": "2025-03-12T15:33:11.033584Z"
    }
   },
   "cell_type": "code",
   "source": [
    "db = pd.read_csv(f\"./dummy_datasets/{test_db_size}_distinct_input_common_hp.csv\")\n",
    "all_inputs, padded_inputs, padded_outputs, masks = preprocess_db(db)\n",
    "all_inputs.shape, padded_inputs.shape"
   ],
   "id": "a23eb59e31ffc68e",
   "outputs": [
    {
     "data": {
      "text/plain": [
       "((401,), (200, 401))"
      ]
     },
     "execution_count": 22,
     "metadata": {},
     "output_type": "execute_result"
    }
   ],
   "execution_count": 22
  },
  {
   "metadata": {
    "ExecuteTime": {
     "end_time": "2025-03-12T15:33:12.616359Z",
     "start_time": "2025-03-12T15:33:12.613336Z"
    }
   },
   "cell_type": "code",
   "source": [
    "mean_kern = RBFKernel(length_scale=.3, variance=1.)\n",
    "task_kern = RBFKernel(length_scale=.6, variance=1.)"
   ],
   "id": "1f6111c9c064ed0d",
   "outputs": [],
   "execution_count": 23
  },
  {
   "metadata": {
    "ExecuteTime": {
     "end_time": "2025-03-12T15:33:13.296909Z",
     "start_time": "2025-03-12T15:33:12.643636Z"
    }
   },
   "cell_type": "code",
   "source": "mean_1, cov_1 = hyperpost(padded_inputs, padded_outputs, masks, jnp.array(0.), mean_kern, task_kern, all_inputs=all_inputs)",
   "id": "6b2c282a2c6d03a1",
   "outputs": [],
   "execution_count": 24
  },
  {
   "metadata": {
    "ExecuteTime": {
     "end_time": "2025-03-12T15:33:14.502157Z",
     "start_time": "2025-03-12T15:33:14.494818Z"
    }
   },
   "cell_type": "code",
   "source": "mean_2, cov_2 = _hyperpost(padded_inputs, padded_outputs, masks, jnp.array(0.), mean_kern, task_kern, all_inputs=all_inputs)",
   "id": "c6e3387307bb65e8",
   "outputs": [],
   "execution_count": 25
  },
  {
   "metadata": {
    "ExecuteTime": {
     "end_time": "2025-03-12T15:33:15.570740Z",
     "start_time": "2025-03-12T15:33:15.504592Z"
    }
   },
   "cell_type": "code",
   "source": "jnp.allclose(mean_1, mean_2), jnp.allclose(cov_1, cov_2)",
   "id": "4d61e351f98e9289",
   "outputs": [
    {
     "data": {
      "text/plain": [
       "(Array(True, dtype=bool), Array(True, dtype=bool))"
      ]
     },
     "execution_count": 26,
     "metadata": {},
     "output_type": "execute_result"
    }
   ],
   "execution_count": 26
  },
  {
   "metadata": {
    "ExecuteTime": {
     "end_time": "2025-03-12T15:33:15.710966Z",
     "start_time": "2025-03-12T15:33:15.576198Z"
    }
   },
   "cell_type": "code",
   "source": "jnp.mean(jnp.abs(mean_1 - mean_2)), jnp.mean(jnp.abs(cov_1 - cov_2))",
   "id": "223e22ba9c5e2dc8",
   "outputs": [
    {
     "data": {
      "text/plain": [
       "(Array(0., dtype=float64), Array(0., dtype=float64))"
      ]
     },
     "execution_count": 27,
     "metadata": {},
     "output_type": "execute_result"
    }
   ],
   "execution_count": 27
  },
  {
   "metadata": {
    "ExecuteTime": {
     "end_time": "2025-03-12T15:33:38.730622Z",
     "start_time": "2025-03-12T15:33:15.721261Z"
    }
   },
   "cell_type": "code",
   "source": [
    "%%timeit -n 5 -r 5\n",
    "hyperpost(padded_inputs, padded_outputs, masks, jnp.array(0.), mean_kern, task_kern, all_inputs=all_inputs)[0].block_until_ready()"
   ],
   "id": "f35b54b5ad5c64ef",
   "outputs": [
    {
     "name": "stdout",
     "output_type": "stream",
     "text": [
      "920 ms ± 59.2 ms per loop (mean ± std. dev. of 5 runs, 5 loops each)\n"
     ]
    }
   ],
   "execution_count": 28
  },
  {
   "metadata": {
    "ExecuteTime": {
     "end_time": "2025-03-12T15:34:03.293234Z",
     "start_time": "2025-03-12T15:33:38.755869Z"
    }
   },
   "cell_type": "code",
   "source": [
    "%%timeit -n 5 -r 5\n",
    "_hyperpost(padded_inputs, padded_outputs, masks, jnp.array(0.), mean_kern, task_kern, all_inputs=all_inputs)[0].block_until_ready()"
   ],
   "id": "a1704d3e4ee9b446",
   "outputs": [
    {
     "name": "stdout",
     "output_type": "stream",
     "text": [
      "981 ms ± 83.3 ms per loop (mean ± std. dev. of 5 runs, 5 loops each)\n"
     ]
    }
   ],
   "execution_count": 29
  },
  {
   "metadata": {},
   "cell_type": "markdown",
   "source": "### Distinct Input, Distinct HP",
   "id": "2a2fe3eb198a9adc"
  },
  {
   "metadata": {
    "ExecuteTime": {
     "end_time": "2025-03-12T15:34:04.351980Z",
     "start_time": "2025-03-12T15:34:03.315238Z"
    }
   },
   "cell_type": "code",
   "source": [
    "db = pd.read_csv(f\"./dummy_datasets/{test_db_size}_distinct_input_distinct_hp.csv\")\n",
    "all_inputs, padded_inputs, padded_outputs, masks = preprocess_db(db)\n",
    "all_inputs.shape, padded_inputs.shape"
   ],
   "id": "9a6f9a9e8f3dd6aa",
   "outputs": [
    {
     "data": {
      "text/plain": [
       "((401,), (200, 401))"
      ]
     },
     "execution_count": 30,
     "metadata": {},
     "output_type": "execute_result"
    }
   ],
   "execution_count": 30
  },
  {
   "metadata": {
    "ExecuteTime": {
     "end_time": "2025-03-12T15:34:04.368306Z",
     "start_time": "2025-03-12T15:34:04.362734Z"
    }
   },
   "cell_type": "code",
   "source": [
    "mean_kern = RBFKernel(length_scale=.3, variance=1.)\n",
    "\n",
    "key, subkey = jax.random.split(key)\n",
    "distinct_length_scales = jax.random.uniform(subkey, (padded_outputs.shape[0],), jnp.float64, .1, 1)\n",
    "task_kern = RBFKernel(length_scale=distinct_length_scales, variance=1.)"
   ],
   "id": "770782b788ce8512",
   "outputs": [],
   "execution_count": 31
  },
  {
   "metadata": {
    "ExecuteTime": {
     "end_time": "2025-03-12T15:34:04.633023Z",
     "start_time": "2025-03-12T15:34:04.380627Z"
    }
   },
   "cell_type": "code",
   "source": "mean_1, cov_1 = hyperpost(padded_inputs, padded_outputs, masks, jnp.array(0.), mean_kern, task_kern, all_inputs=all_inputs)",
   "id": "f05e912295c6fab6",
   "outputs": [],
   "execution_count": 32
  },
  {
   "metadata": {
    "ExecuteTime": {
     "end_time": "2025-03-12T15:34:05.684196Z",
     "start_time": "2025-03-12T15:34:05.679537Z"
    }
   },
   "cell_type": "code",
   "source": "mean_2, cov_2 = _hyperpost(padded_inputs, padded_outputs, masks, jnp.array(0.), mean_kern, task_kern, all_inputs=all_inputs)",
   "id": "84981e5a6dd62665",
   "outputs": [],
   "execution_count": 33
  },
  {
   "metadata": {
    "ExecuteTime": {
     "end_time": "2025-03-12T15:34:06.689751Z",
     "start_time": "2025-03-12T15:34:06.685738Z"
    }
   },
   "cell_type": "code",
   "source": "jnp.allclose(mean_1, mean_2), jnp.allclose(cov_1, cov_2)",
   "id": "70ef40cf26603ac0",
   "outputs": [
    {
     "data": {
      "text/plain": [
       "(Array(True, dtype=bool), Array(True, dtype=bool))"
      ]
     },
     "execution_count": 34,
     "metadata": {},
     "output_type": "execute_result"
    }
   ],
   "execution_count": 34
  },
  {
   "metadata": {
    "ExecuteTime": {
     "end_time": "2025-03-12T15:34:06.707966Z",
     "start_time": "2025-03-12T15:34:06.703411Z"
    }
   },
   "cell_type": "code",
   "source": "jnp.mean(jnp.abs(mean_1 - mean_2)), jnp.mean(jnp.abs(cov_1 - cov_2))",
   "id": "673edc001a4a09f3",
   "outputs": [
    {
     "data": {
      "text/plain": [
       "(Array(0., dtype=float64), Array(0., dtype=float64))"
      ]
     },
     "execution_count": 35,
     "metadata": {},
     "output_type": "execute_result"
    }
   ],
   "execution_count": 35
  },
  {
   "metadata": {
    "ExecuteTime": {
     "end_time": "2025-03-12T15:34:31.011202Z",
     "start_time": "2025-03-12T15:34:06.712594Z"
    }
   },
   "cell_type": "code",
   "source": [
    "%%timeit -n 5 -r 5\n",
    "hyperpost(padded_inputs, padded_outputs, masks, jnp.array(0.), mean_kern, task_kern, all_inputs=all_inputs)[0].block_until_ready()"
   ],
   "id": "e58d7ba8948f2fa7",
   "outputs": [
    {
     "name": "stdout",
     "output_type": "stream",
     "text": [
      "971 ms ± 56.5 ms per loop (mean ± std. dev. of 5 runs, 5 loops each)\n"
     ]
    }
   ],
   "execution_count": 36
  },
  {
   "metadata": {
    "ExecuteTime": {
     "end_time": "2025-03-12T15:34:56.392625Z",
     "start_time": "2025-03-12T15:34:31.027755Z"
    }
   },
   "cell_type": "code",
   "source": [
    "%%timeit -n 5 -r 5\n",
    "_hyperpost(padded_inputs, padded_outputs, masks, jnp.array(0.), mean_kern, task_kern, all_inputs=all_inputs)[0].block_until_ready()"
   ],
   "id": "428e3a504d0bc715",
   "outputs": [
    {
     "name": "stdout",
     "output_type": "stream",
     "text": [
      "1.01 s ± 66.8 ms per loop (mean ± std. dev. of 5 runs, 5 loops each)\n"
     ]
    }
   ],
   "execution_count": 37
  },
  {
   "metadata": {},
   "cell_type": "markdown",
   "source": "### Using a custom grid",
   "id": "a32bdf4a27914393"
  },
  {
   "metadata": {
    "ExecuteTime": {
     "end_time": "2025-03-12T15:34:57.099236Z",
     "start_time": "2025-03-12T15:34:56.409612Z"
    }
   },
   "cell_type": "code",
   "source": [
    "db = pd.read_csv(f\"./dummy_datasets/{test_db_size}_distinct_input_common_hp.csv\")\n",
    "all_inputs, padded_inputs, padded_outputs, masks = preprocess_db(db)\n",
    "\n",
    "grid = jnp.linspace(min(all_inputs), max(all_inputs), 500)\n",
    "all_inputs.shape, padded_inputs.shape, grid.shape"
   ],
   "id": "9e826e7866c3ff74",
   "outputs": [
    {
     "data": {
      "text/plain": [
       "((401,), (200, 401), (500,))"
      ]
     },
     "execution_count": 38,
     "metadata": {},
     "output_type": "execute_result"
    }
   ],
   "execution_count": 38
  },
  {
   "metadata": {
    "ExecuteTime": {
     "end_time": "2025-03-12T15:34:57.113939Z",
     "start_time": "2025-03-12T15:34:57.111230Z"
    }
   },
   "cell_type": "code",
   "source": [
    "mean_kern = RBFKernel(length_scale=.3, variance=1.)\n",
    "task_kern = RBFKernel(length_scale=.6, variance=1.)"
   ],
   "id": "a21d79a20e721df3",
   "outputs": [],
   "execution_count": 39
  },
  {
   "metadata": {
    "ExecuteTime": {
     "end_time": "2025-03-12T15:34:57.937973Z",
     "start_time": "2025-03-12T15:34:57.126655Z"
    }
   },
   "cell_type": "code",
   "source": "mean_1, cov_1 = hyperpost(padded_inputs, padded_outputs, masks, jnp.array(0.), mean_kern, task_kern, all_inputs=all_inputs, grid=grid)",
   "id": "25b473c36234845d",
   "outputs": [],
   "execution_count": 40
  },
  {
   "metadata": {
    "ExecuteTime": {
     "end_time": "2025-03-12T15:34:59.145297Z",
     "start_time": "2025-03-12T15:34:59.135108Z"
    }
   },
   "cell_type": "code",
   "source": "mean_2, cov_2 = _hyperpost(padded_inputs, padded_outputs, masks, jnp.array(0.), mean_kern, task_kern, all_inputs=all_inputs, grid=grid)",
   "id": "3f78ac8b7eec29b5",
   "outputs": [],
   "execution_count": 41
  },
  {
   "metadata": {
    "ExecuteTime": {
     "end_time": "2025-03-12T15:35:00.705499Z",
     "start_time": "2025-03-12T15:35:00.599761Z"
    }
   },
   "cell_type": "code",
   "source": "jnp.allclose(mean_1, mean_2), jnp.allclose(cov_1, cov_2)",
   "id": "894e3e952382eb7d",
   "outputs": [
    {
     "data": {
      "text/plain": [
       "(Array(True, dtype=bool), Array(True, dtype=bool))"
      ]
     },
     "execution_count": 42,
     "metadata": {},
     "output_type": "execute_result"
    }
   ],
   "execution_count": 42
  },
  {
   "metadata": {
    "ExecuteTime": {
     "end_time": "2025-03-12T15:35:00.868578Z",
     "start_time": "2025-03-12T15:35:00.719404Z"
    }
   },
   "cell_type": "code",
   "source": "jnp.mean(jnp.abs(mean_1 - mean_2)), jnp.mean(jnp.abs(cov_1 - cov_2))",
   "id": "a8f7fbbbf2a8d992",
   "outputs": [
    {
     "data": {
      "text/plain": [
       "(Array(0., dtype=float64), Array(0., dtype=float64))"
      ]
     },
     "execution_count": 43,
     "metadata": {},
     "output_type": "execute_result"
    }
   ],
   "execution_count": 43
  },
  {
   "metadata": {
    "ExecuteTime": {
     "end_time": "2025-03-12T15:35:26.898376Z",
     "start_time": "2025-03-12T15:35:00.887249Z"
    }
   },
   "cell_type": "code",
   "source": [
    "%%timeit -n 5 -r 5\n",
    "hyperpost(padded_inputs, padded_outputs, masks, jnp.array(0.), mean_kern, task_kern, all_inputs=all_inputs, grid=grid)[0].block_until_ready()"
   ],
   "id": "c9c7eccf4ac9419c",
   "outputs": [
    {
     "name": "stdout",
     "output_type": "stream",
     "text": [
      "1.04 s ± 38 ms per loop (mean ± std. dev. of 5 runs, 5 loops each)\n"
     ]
    }
   ],
   "execution_count": 44
  },
  {
   "metadata": {
    "ExecuteTime": {
     "end_time": "2025-03-12T15:35:53.288963Z",
     "start_time": "2025-03-12T15:35:26.924952Z"
    }
   },
   "cell_type": "code",
   "source": [
    "%%timeit -n 5 -r 5\n",
    "_hyperpost(padded_inputs, padded_outputs, masks, jnp.array(0.), mean_kern, task_kern, all_inputs=all_inputs, grid=grid)[0].block_until_ready()"
   ],
   "id": "749144e478c17d62",
   "outputs": [
    {
     "name": "stdout",
     "output_type": "stream",
     "text": [
      "1.05 s ± 66.2 ms per loop (mean ± std. dev. of 5 runs, 5 loops each)\n"
     ]
    }
   ],
   "execution_count": 45
  },
  {
   "metadata": {},
   "cell_type": "markdown",
   "source": [
    "---\n",
    "## Conclusion"
   ],
   "id": "40eac9ed87ce043e"
  },
  {
   "metadata": {
    "ExecuteTime": {
     "end_time": "2025-03-12T15:35:53.311101Z",
     "start_time": "2025-03-12T15:35:53.309421Z"
    }
   },
   "cell_type": "code",
   "source": "",
   "id": "e00d28413733ef9a",
   "outputs": [],
   "execution_count": null
  },
  {
   "metadata": {},
   "cell_type": "markdown",
   "source": "---",
   "id": "f18216d93ddcf3af"
  },
  {
   "metadata": {
    "ExecuteTime": {
     "end_time": "2025-03-12T15:35:53.338643Z",
     "start_time": "2025-03-12T15:35:53.337221Z"
    }
   },
   "cell_type": "code",
   "source": "",
   "id": "e8639b3337daa3f1",
   "outputs": [],
   "execution_count": null
  }
 ],
 "metadata": {
  "kernelspec": {
   "display_name": "Python 3",
   "language": "python",
   "name": "python3"
  },
  "language_info": {
   "codemirror_mode": {
    "name": "ipython",
    "version": 2
   },
   "file_extension": ".py",
   "mimetype": "text/x-python",
   "name": "python",
   "nbconvert_exporter": "python",
   "pygments_lexer": "ipython2",
   "version": "2.7.6"
  }
 },
 "nbformat": 4,
 "nbformat_minor": 5
}
