{
 "cells": [
  {
   "metadata": {},
   "cell_type": "markdown",
   "source": "# Debug notebook",
   "id": "85aaf6e19b2cb49"
  },
  {
   "metadata": {},
   "cell_type": "markdown",
   "source": "## Imports and config",
   "id": "6fe81467e9773820"
  },
  {
   "metadata": {
    "ExecuteTime": {
     "end_time": "2025-06-13T11:35:16.477979Z",
     "start_time": "2025-06-13T11:35:16.474424Z"
    }
   },
   "cell_type": "code",
   "source": [
    "USE_JIT = False\n",
    "USE_X64 = True\n",
    "DEBUG_NANS = False"
   ],
   "id": "3e0f6be8c371356d",
   "outputs": [],
   "execution_count": 1
  },
  {
   "metadata": {
    "ExecuteTime": {
     "end_time": "2025-06-13T11:35:17.325936Z",
     "start_time": "2025-06-13T11:35:16.487496Z"
    }
   },
   "cell_type": "code",
   "source": [
    "# Standard imports\n",
    "import os\n",
    "\n",
    "if USE_X64:\n",
    "    os.environ['JAX_ENABLE_X64'] = \"True\"\n",
    "\n",
    "import time\n",
    "from typing import NamedTuple\n",
    "\n",
    "# JAX imports\n",
    "import jax\n",
    "\n",
    "jax.config.update(\"jax_disable_jit\", not USE_JIT)\n",
    "jax.config.update(\"jax_debug_nans\", DEBUG_NANS)\n",
    "from jax import vmap, jit\n",
    "from jax.lax import cond\n",
    "import jax.numpy as jnp\n",
    "import jax.scipy as jsp\n",
    "from jax.scipy.linalg import cho_solve, cho_factor\n",
    "from jax.scipy.optimize import minimize\n",
    "from jax.scipy.stats.multivariate_normal import logpdf\n",
    "from jax.tree_util import register_pytree_node_class, tree_flatten\n",
    "import chex\n",
    "import optax\n",
    "import optax.tree_utils as otu\n",
    "\n",
    "import pandas as pd\n",
    "import numpy as np\n",
    "\n",
    "from MagmaClustPy.utils import preprocess_db\n",
    "from MagmaClustPy.kernels import SEMagmaKernel, NoisySEMagmaKernel\n",
    "from MagmaClustPy.hyperpost import hyperpost"
   ],
   "id": "39d4e5a0fc8a02a9",
   "outputs": [],
   "execution_count": 2
  },
  {
   "metadata": {},
   "cell_type": "markdown",
   "source": "## Likelihood",
   "id": "ed588360594dfece"
  },
  {
   "metadata": {
    "ExecuteTime": {
     "end_time": "2025-06-13T11:35:17.418177Z",
     "start_time": "2025-06-13T11:35:17.415882Z"
    }
   },
   "cell_type": "code",
   "source": [
    "def solve_right_cholesky(A, B, nugget=jnp.array(1e-10)):\n",
    "\t\"\"\" Solves for X in X @ A = B \"\"\"\n",
    "\t# For X @ A = B, we can transpose both sides: A.T @ X.T = B.T\n",
    "\t# As A and B are symmetric, this simplifies to A @ X.T = B\n",
    "\t# Then solve for X.T and transpose the result\n",
    "\treturn cho_solve(cho_factor(A + nugget), B).T"
   ],
   "id": "3ba57e6631158e9f",
   "outputs": [],
   "execution_count": 3
  },
  {
   "metadata": {
    "ExecuteTime": {
     "end_time": "2025-06-13T14:56:22.319588Z",
     "start_time": "2025-06-13T14:56:22.299478Z"
    }
   },
   "cell_type": "code",
   "source": [
    "def magma_neg_likelihood_on_cov(covar, outputs, mean, mean_process_cov, mask=None, nugget=jnp.array(1e-10)):\n",
    "\tnugget_matrix = jnp.eye(outputs.shape[0]) * nugget\n",
    "\n",
    "\tif mask is not None:\n",
    "\t\t# Mask the covariance matrix and outputs\n",
    "\t\tmask_2D = mask[:, None] & mask[None, :]\n",
    "\t\tcovar = jnp.where(mask_2D, covar, jnp.eye(outputs.shape[0]))\n",
    "\t\toutputs = jnp.where(mask, outputs, 0)\n",
    "\t\tmean = jnp.where(mask, mean, 0)\n",
    "\t\tmean_process_cov = jnp.where(mask_2D, mean_process_cov, jnp.eye(outputs.shape[0]))\n",
    "\n",
    "\n",
    "\t# Compute log-likelihood\n",
    "\tmultiv_neg_log_lik = -logpdf(outputs, mean, covar + nugget_matrix)\n",
    "\n",
    "\t# Compute correction term\n",
    "\tcorrection = 0.5 * jnp.trace(solve_right_cholesky(covar, mean_process_cov, nugget=nugget))\n",
    "\n",
    "\tif mask is not None:\n",
    "\t\t# Correct log-likelihood for padding\n",
    "\t\t# The logpdf is computed as:\n",
    "\t\t# -0.5 * (N * log(2 * pi) + log(det(cov)) + (outputs - mean).T @ inv(cov) @ (outputs - mean))\n",
    "\t\t# det(cov) and the Mahalanobis distance are not affected by our padding\n",
    "\t\t# We only have to correct for the -0.5 * N * log(2 * pi) term, as N is bigger with padding\n",
    "\t\tnll_pad_correction = 0.5 * jnp.log(2 * jnp.pi) * jnp.sum(~mask, axis=0)\n",
    "\n",
    "\t\t# We also need to correct the correction term, as padding adds 1s to the diagonal and hence 1 to the trace\n",
    "\t\tcorr_pad_correction = 0.5 * jnp.sum(~mask, axis=0)\n",
    "\telse:\n",
    "\t\tnll_pad_correction = 0\n",
    "\t\tcorr_pad_correction = 0\n",
    "\n",
    "\treturn (multiv_neg_log_lik - nll_pad_correction) + (correction - corr_pad_correction)"
   ],
   "id": "eca3791cf63b32fd",
   "outputs": [],
   "execution_count": 26
  },
  {
   "cell_type": "code",
   "id": "initial_id",
   "metadata": {
    "collapsed": true,
    "ExecuteTime": {
     "end_time": "2025-06-13T11:35:17.471726Z",
     "start_time": "2025-06-13T11:35:17.468193Z"
    }
   },
   "source": [
    "def magma_neg_likelihood(kernel, inputs, outputs: jnp.array, mean: jnp.array, mean_process_cov: jnp.array, mask=None,\n",
    "                         nugget=jnp.array(1e-10)):\n",
    "\t\"\"\"\n",
    "\tComputes the MAGMA log-likelihood.\n",
    "\n",
    "\t:param kernel: the kernel containing HPs to optimise. This kernel is used to compute the covariance (matrix `S`)\n",
    "\t:param inputs: inputs on which to compute the covariance matrix (shape (N, ))\n",
    "\t:param mask: boolean masks indicating which inputs and outputs to consider (shape (N, ))\n",
    "\t:param outputs: the observed values (shape (N, ))\n",
    "\t:param mean: the mean over the inputs (scalar or vector of shape (N, ))\n",
    "\t:param mean_process_cov: the hypper-posterior mean process covariance (matrix K^t)\n",
    "\t:param nugget: the nugget, for numerical stability\n",
    "\n",
    "\t:return: the negative log-likelihood (scalar)\n",
    "\t\"\"\"\n",
    "\tcovar = kernel(inputs)\n",
    "\n",
    "\t# check if we need to vmap\n",
    "\tif inputs.ndim == 1:\n",
    "\t\tres = magma_neg_likelihood_on_cov(covar, outputs, mean, mean_process_cov, mask, nugget)\n",
    "\t\treturn res\n",
    "\telif inputs.ndim == 2:\n",
    "\t\tres = vmap(magma_neg_likelihood_on_cov, in_axes=(0, 0, None, None, 0, None))(covar, outputs, mean,\n",
    "\t\t                                                                              mean_process_cov, mask, nugget)\n",
    "\t\treturn res\n",
    "\telse:\n",
    "\t\traise ValueError(\"inputs must be either 1D or 2D\")"
   ],
   "outputs": [],
   "execution_count": 5
  },
  {
   "metadata": {},
   "cell_type": "markdown",
   "source": "## Data",
   "id": "370780391fc14b7f"
  },
  {
   "metadata": {
    "ExecuteTime": {
     "end_time": "2025-06-13T11:35:17.548883Z",
     "start_time": "2025-06-13T11:35:17.494419Z"
    }
   },
   "cell_type": "code",
   "source": [
    "dataset = \"small\"\n",
    "grids = {\n",
    "\t\"small\": jnp.arange(-10, 10, 0.5),\n",
    "\t\"medium\": jnp.arange(-100, 100, 0.5),\n",
    "\t\"large\": jnp.arange(-500, 500, 0.5),\n",
    "\t\"custom\": jnp.arange(-20, 20, 0.5)\n",
    "}\n",
    "grid = grids[dataset] if dataset in grids else grids[\"custom\"]\n",
    "common_input = True\n",
    "common_hp = True"
   ],
   "id": "9f6a6eeb86f51046",
   "outputs": [],
   "execution_count": 6
  },
  {
   "metadata": {
    "ExecuteTime": {
     "end_time": "2025-06-13T11:35:17.563144Z",
     "start_time": "2025-06-13T11:35:17.557429Z"
    }
   },
   "cell_type": "code",
   "source": "db = pd.read_csv(f\"../dummy_datasets/{dataset}_{'common_input' if common_input else 'distinct_input'}_{'common_hp' if common_hp else 'distinct_hp'}.csv\")",
   "id": "8a903ffcc4bfc01",
   "outputs": [],
   "execution_count": 7
  },
  {
   "metadata": {
    "ExecuteTime": {
     "end_time": "2025-06-13T11:35:19.064445Z",
     "start_time": "2025-06-13T11:35:17.585838Z"
    }
   },
   "cell_type": "code",
   "source": [
    "all_inputs, padded_inputs, padded_outputs, masks = preprocess_db(db)\n",
    "all_inputs.shape, padded_inputs.shape"
   ],
   "id": "a07dd60efe77bb13",
   "outputs": [
    {
     "data": {
      "text/plain": [
       "((15,), (20, 15))"
      ]
     },
     "execution_count": 8,
     "metadata": {},
     "output_type": "execute_result"
    }
   ],
   "execution_count": 8
  },
  {
   "metadata": {
    "ExecuteTime": {
     "end_time": "2025-06-13T11:35:19.072877Z",
     "start_time": "2025-06-13T11:35:19.070245Z"
    }
   },
   "cell_type": "code",
   "source": [
    "mean_kernel = SEMagmaKernel(length_scale=0.9, variance=1.5)\n",
    "task_kernel = NoisySEMagmaKernel(length_scale=0.3, variance=1., noise=-2.5)"
   ],
   "id": "7dfde72cc3380828",
   "outputs": [],
   "execution_count": 9
  },
  {
   "metadata": {
    "ExecuteTime": {
     "end_time": "2025-06-13T11:35:19.096840Z",
     "start_time": "2025-06-13T11:35:19.092058Z"
    }
   },
   "cell_type": "code",
   "source": "np.asarray(padded_inputs)",
   "id": "3b7affa6d73ec273",
   "outputs": [
    {
     "data": {
      "text/plain": [
       "array([[-9.5, -9. , -7. , -5. , -4.5, -3. , -2. ,  0. ,  0.5,  1. ,  4.5,\n",
       "         7. ,  7.5,  8.5,  9.5],\n",
       "       [-9.5, -9. , -7. , -5. , -4.5, -3. , -2. ,  0. ,  0.5,  1. ,  4.5,\n",
       "         7. ,  7.5,  8.5,  9.5],\n",
       "       [-9.5, -9. , -7. , -5. , -4.5, -3. , -2. ,  0. ,  0.5,  1. ,  4.5,\n",
       "         7. ,  7.5,  8.5,  9.5],\n",
       "       [-9.5, -9. , -7. , -5. , -4.5, -3. , -2. ,  0. ,  0.5,  1. ,  4.5,\n",
       "         7. ,  7.5,  8.5,  9.5],\n",
       "       [-9.5, -9. , -7. , -5. , -4.5, -3. , -2. ,  0. ,  0.5,  1. ,  4.5,\n",
       "         7. ,  7.5,  8.5,  9.5],\n",
       "       [-9.5, -9. , -7. , -5. , -4.5, -3. , -2. ,  0. ,  0.5,  1. ,  4.5,\n",
       "         7. ,  7.5,  8.5,  9.5],\n",
       "       [-9.5, -9. , -7. , -5. , -4.5, -3. , -2. ,  0. ,  0.5,  1. ,  4.5,\n",
       "         7. ,  7.5,  8.5,  9.5],\n",
       "       [-9.5, -9. , -7. , -5. , -4.5, -3. , -2. ,  0. ,  0.5,  1. ,  4.5,\n",
       "         7. ,  7.5,  8.5,  9.5],\n",
       "       [-9.5, -9. , -7. , -5. , -4.5, -3. , -2. ,  0. ,  0.5,  1. ,  4.5,\n",
       "         7. ,  7.5,  8.5,  9.5],\n",
       "       [-9.5, -9. , -7. , -5. , -4.5, -3. , -2. ,  0. ,  0.5,  1. ,  4.5,\n",
       "         7. ,  7.5,  8.5,  9.5],\n",
       "       [-9.5, -9. , -7. , -5. , -4.5, -3. , -2. ,  0. ,  0.5,  1. ,  4.5,\n",
       "         7. ,  7.5,  8.5,  9.5],\n",
       "       [-9.5, -9. , -7. , -5. , -4.5, -3. , -2. ,  0. ,  0.5,  1. ,  4.5,\n",
       "         7. ,  7.5,  8.5,  9.5],\n",
       "       [-9.5, -9. , -7. , -5. , -4.5, -3. , -2. ,  0. ,  0.5,  1. ,  4.5,\n",
       "         7. ,  7.5,  8.5,  9.5],\n",
       "       [-9.5, -9. , -7. , -5. , -4.5, -3. , -2. ,  0. ,  0.5,  1. ,  4.5,\n",
       "         7. ,  7.5,  8.5,  9.5],\n",
       "       [-9.5, -9. , -7. , -5. , -4.5, -3. , -2. ,  0. ,  0.5,  1. ,  4.5,\n",
       "         7. ,  7.5,  8.5,  9.5],\n",
       "       [-9.5, -9. , -7. , -5. , -4.5, -3. , -2. ,  0. ,  0.5,  1. ,  4.5,\n",
       "         7. ,  7.5,  8.5,  9.5],\n",
       "       [-9.5, -9. , -7. , -5. , -4.5, -3. , -2. ,  0. ,  0.5,  1. ,  4.5,\n",
       "         7. ,  7.5,  8.5,  9.5],\n",
       "       [-9.5, -9. , -7. , -5. , -4.5, -3. , -2. ,  0. ,  0.5,  1. ,  4.5,\n",
       "         7. ,  7.5,  8.5,  9.5],\n",
       "       [-9.5, -9. , -7. , -5. , -4.5, -3. , -2. ,  0. ,  0.5,  1. ,  4.5,\n",
       "         7. ,  7.5,  8.5,  9.5],\n",
       "       [-9.5, -9. , -7. , -5. , -4.5, -3. , -2. ,  0. ,  0.5,  1. ,  4.5,\n",
       "         7. ,  7.5,  8.5,  9.5]])"
      ]
     },
     "execution_count": 10,
     "metadata": {},
     "output_type": "execute_result"
    }
   ],
   "execution_count": 10
  },
  {
   "metadata": {
    "ExecuteTime": {
     "end_time": "2025-06-13T11:35:19.173279Z",
     "start_time": "2025-06-13T11:35:19.170057Z"
    }
   },
   "cell_type": "code",
   "source": "np.asarray(padded_outputs)",
   "id": "e5c99ae158e6a849",
   "outputs": [
    {
     "data": {
      "text/plain": [
       "array([[ 3.53182625e+01,  3.34515056e+01,  1.67775979e+01,\n",
       "         3.71360051e+00,  1.82028297e+00, -1.78950679e-01,\n",
       "        -1.30837658e+00, -5.92804753e-01, -3.95319763e+00,\n",
       "        -7.37933523e+00, -4.05817522e+01, -3.95456973e+01,\n",
       "        -4.13294558e+01, -4.63642047e+01, -4.45789070e+01],\n",
       "       [ 3.44942189e+01,  3.14225276e+01,  1.41650837e+01,\n",
       "         5.45369044e+00,  4.43092816e+00, -1.81285319e-01,\n",
       "        -2.76611562e+00,  1.44283520e+00, -1.45869619e+00,\n",
       "        -3.90911690e+00, -3.60206620e+01, -3.79515950e+01,\n",
       "        -4.10708799e+01, -4.84715708e+01, -4.85742134e+01],\n",
       "       [ 3.76835402e+01,  3.38058916e+01,  1.20463116e+01,\n",
       "         5.04069808e+00,  4.00728990e+00, -1.02734904e+00,\n",
       "        -5.00072108e+00, -1.39984116e+00, -6.43193977e+00,\n",
       "        -1.02935493e+01, -3.90425931e+01, -3.61386786e+01,\n",
       "        -3.81880358e+01, -4.45150539e+01, -4.62967048e+01],\n",
       "       [ 3.66460647e+01,  3.52008497e+01,  1.77202135e+01,\n",
       "         1.22521608e+01,  1.06979053e+01,  5.89386782e+00,\n",
       "         3.98877308e+00,  4.47618042e+00, -2.09380863e+00,\n",
       "        -7.67564661e+00, -3.85125059e+01, -4.08616743e+01,\n",
       "        -4.37631429e+01, -4.96782050e+01, -4.82267096e+01],\n",
       "       [ 3.58628245e+01,  3.37287568e+01,  1.51930255e+01,\n",
       "         1.04034930e+01,  8.88458498e+00,  2.08872609e+00,\n",
       "        -2.96419155e+00,  1.31019288e+00, -2.97770944e+00,\n",
       "        -5.41921000e+00, -4.38460593e+01, -3.87774974e+01,\n",
       "        -4.01928336e+01, -4.58703426e+01, -4.57665691e+01],\n",
       "       [ 3.60514343e+01,  3.30389896e+01,  1.40347533e+01,\n",
       "         8.95094418e+00,  7.71163274e+00,  1.94044374e+00,\n",
       "        -3.48361062e+00, -9.79660813e-02, -4.28598857e+00,\n",
       "        -7.11080370e+00, -4.04243101e+01, -3.74959407e+01,\n",
       "        -3.83753301e+01, -4.28708627e+01, -4.60774797e+01],\n",
       "       [ 3.65553630e+01,  3.27969924e+01,  1.52048253e+01,\n",
       "         6.42223737e+00,  7.44177181e+00,  3.86235582e+00,\n",
       "         1.56940794e+00,  6.19659340e+00, -2.39762838e-01,\n",
       "        -4.57111684e+00, -3.65938464e+01, -3.71616457e+01,\n",
       "        -4.13748003e+01, -4.87834902e+01, -4.81515191e+01],\n",
       "       [ 3.82780270e+01,  3.46359923e+01,  1.25460687e+01,\n",
       "         7.93122643e+00,  8.24244948e+00,  5.80768662e+00,\n",
       "         3.75806026e+00,  5.93231822e+00,  5.24953806e-01,\n",
       "        -3.46126445e+00, -3.48608957e+01, -4.17006185e+01,\n",
       "        -4.60873811e+01, -5.09503953e+01, -4.92560432e+01],\n",
       "       [ 3.73138463e+01,  3.53066658e+01,  1.27868133e+01,\n",
       "         7.19591893e+00,  7.79084413e+00,  1.40415350e+00,\n",
       "        -1.70356491e+00,  4.03509466e+00, -1.52155030e+00,\n",
       "        -4.44387156e+00, -4.44905859e+01, -4.16645048e+01,\n",
       "        -4.44993159e+01, -4.85447481e+01, -4.67870698e+01],\n",
       "       [ 3.81401895e+01,  3.60940636e+01,  1.62797046e+01,\n",
       "         8.85198084e+00,  9.94901840e+00,  4.17079546e+00,\n",
       "        -1.84372471e+00,  4.72972182e+00, -5.37291388e-01,\n",
       "        -4.96011074e+00, -3.93295183e+01, -3.67498177e+01,\n",
       "        -4.16031703e+01, -5.01380110e+01, -5.06809722e+01],\n",
       "       [ 3.76745232e+01,  3.62009092e+01,  1.63252177e+01,\n",
       "         5.49659747e+00,  6.77007107e+00,  3.65640677e+00,\n",
       "         7.01713205e-01, -3.80098037e-02, -6.13250639e+00,\n",
       "        -1.06520860e+01, -3.98516798e+01, -3.79840496e+01,\n",
       "        -4.12174400e+01, -5.03439254e+01, -5.01581425e+01],\n",
       "       [ 3.86546071e+01,  3.64738488e+01,  1.86129699e+01,\n",
       "         9.28227823e+00,  8.68500005e+00,  2.57872267e+00,\n",
       "        -2.29230542e+00,  2.02578377e+00, -1.01624060e+00,\n",
       "        -4.86594495e+00, -3.99041942e+01, -4.07900581e+01,\n",
       "        -4.29336720e+01, -4.92302891e+01, -4.92273270e+01],\n",
       "       [ 3.72448927e+01,  3.36414933e+01,  1.63763289e+01,\n",
       "         9.68981509e+00,  7.31806477e+00,  9.04752007e-01,\n",
       "        -2.54996993e+00, -9.60185957e-01, -4.81096903e+00,\n",
       "        -8.08469388e+00, -4.12688467e+01, -4.10889391e+01,\n",
       "        -4.34872227e+01, -4.80817699e+01, -4.84369050e+01],\n",
       "       [ 3.30334782e+01,  3.12049602e+01,  1.75384651e+01,\n",
       "         1.12976928e+01,  9.56443367e+00,  5.95723599e+00,\n",
       "         2.07905428e+00,  4.31515996e-01, -2.97943754e+00,\n",
       "        -6.51274597e+00, -3.35707850e+01, -3.42575758e+01,\n",
       "        -4.02684879e+01, -4.71734500e+01, -4.62056733e+01],\n",
       "       [ 4.06606145e+01,  3.67531035e+01,  1.44971295e+01,\n",
       "         1.01782848e+01,  8.84476177e+00,  8.31701531e-01,\n",
       "         9.41414031e-01,  5.49324252e+00, -9.58153541e-01,\n",
       "        -6.26023897e+00, -4.12351343e+01, -3.77333376e+01,\n",
       "        -3.96876759e+01, -4.36866626e+01, -4.64769199e+01],\n",
       "       [ 4.20753368e+01,  3.82380860e+01,  1.37196709e+01,\n",
       "         7.38450939e+00,  7.88759109e+00,  2.34129500e+00,\n",
       "        -1.73780369e+00,  8.42376999e-02, -5.02959652e+00,\n",
       "        -1.00985614e+01, -3.92293103e+01, -3.66379273e+01,\n",
       "        -3.99976681e+01, -4.50123331e+01, -4.25999419e+01],\n",
       "       [ 3.62871188e+01,  3.44164012e+01,  1.32217548e+01,\n",
       "         7.45211607e+00,  8.24889199e+00,  5.32588092e+00,\n",
       "         6.92748616e-01,  7.19060101e+00,  2.58759334e+00,\n",
       "        -4.40090971e+00, -4.13516370e+01, -4.12947629e+01,\n",
       "        -4.39617859e+01, -4.91140635e+01, -4.58745990e+01],\n",
       "       [ 3.85261895e+01,  3.54877429e+01,  1.88767445e+01,\n",
       "         8.30411798e+00,  7.08237085e+00,  1.53434878e+00,\n",
       "        -9.62788791e-01, -2.73073256e+00, -6.66620007e+00,\n",
       "        -8.49068596e+00, -3.35518275e+01, -3.75124840e+01,\n",
       "        -4.09434855e+01, -4.72662963e+01, -4.59488919e+01],\n",
       "       [ 4.04261630e+01,  3.76228597e+01,  1.61301593e+01,\n",
       "         7.15439823e+00,  7.39331392e+00,  3.76586688e-01,\n",
       "        -3.25915165e+00,  1.67932675e-01, -4.72527038e+00,\n",
       "        -9.71960489e+00, -3.91279056e+01, -3.76189421e+01,\n",
       "        -4.14129071e+01, -4.86798823e+01, -4.92179921e+01],\n",
       "       [ 3.63560790e+01,  3.46297455e+01,  1.64497408e+01,\n",
       "         4.43330462e+00,  4.69362946e+00,  2.58060002e+00,\n",
       "         9.37818840e-01,  6.74387273e+00,  9.13024357e-01,\n",
       "        -4.36488663e+00, -4.38971052e+01, -4.03588981e+01,\n",
       "        -4.01590385e+01, -4.19234422e+01, -4.38033946e+01]])"
      ]
     },
     "execution_count": 11,
     "metadata": {},
     "output_type": "execute_result"
    }
   ],
   "execution_count": 11
  },
  {
   "metadata": {
    "ExecuteTime": {
     "end_time": "2025-06-13T11:35:20.913453Z",
     "start_time": "2025-06-13T11:35:19.281757Z"
    }
   },
   "cell_type": "code",
   "source": "post_mean, post_cov = hyperpost(padded_inputs, padded_outputs, masks, jnp.zeros_like(all_inputs), mean_kernel, task_kernel, nugget=jnp.array(1e-10))",
   "id": "1e86abeb25960a43",
   "outputs": [],
   "execution_count": 12
  },
  {
   "metadata": {
    "ExecuteTime": {
     "end_time": "2025-06-13T11:35:20.958059Z",
     "start_time": "2025-06-13T11:35:20.955689Z"
    }
   },
   "cell_type": "code",
   "source": "np.asarray(post_mean)",
   "id": "6684d450819cc04",
   "outputs": [
    {
     "data": {
      "text/plain": [
       "array([ 36.23375514,  33.82153928,  15.12422913,   7.74338919,\n",
       "         7.28902395,   2.29461547,  -0.31348368,   1.7170999 ,\n",
       "        -2.10841717,  -6.35002582, -38.16737531, -37.92542171,\n",
       "       -40.56204432, -46.25863362, -45.83719182])"
      ]
     },
     "execution_count": 13,
     "metadata": {},
     "output_type": "execute_result"
    }
   ],
   "execution_count": 13
  },
  {
   "metadata": {
    "ExecuteTime": {
     "end_time": "2025-06-13T11:35:21.035583Z",
     "start_time": "2025-06-13T11:35:21.032369Z"
    }
   },
   "cell_type": "code",
   "source": "np.asarray(post_cov)",
   "id": "e63d6a21898ad71d",
   "outputs": [
    {
     "data": {
      "text/plain": [
       "array([[ 1.35537172e-01,  1.20316552e-01,  1.38863136e-02,\n",
       "        -1.33052605e-04,  9.83387017e-05, -6.52661025e-05,\n",
       "         8.81779850e-06, -3.94529343e-05,  1.09896439e-05,\n",
       "        -1.19928149e-07,  2.14394650e-06, -6.06641530e-07,\n",
       "         5.26806478e-07, -6.96095449e-08, -1.67101880e-07],\n",
       "       [ 1.20316552e-01,  1.34614318e-01,  3.17614293e-02,\n",
       "        -2.44037699e-04,  2.76924311e-04, -1.64586067e-04,\n",
       "         1.85384441e-05, -1.04335119e-04,  2.83539033e-05,\n",
       "        -8.45312990e-07,  5.56121318e-06, -1.57894807e-06,\n",
       "         1.36967981e-06, -1.80713318e-07, -4.34597234e-07],\n",
       "       [ 1.38863136e-02,  3.17614293e-02,  1.34537523e-01,\n",
       "         3.16641575e-02,  1.34107299e-02,  4.49815966e-04,\n",
       "         2.34558052e-05,  8.18025394e-05, -1.85414777e-05,\n",
       "         3.41116995e-06, -3.79560315e-06,  1.10613735e-06,\n",
       "        -9.51734104e-07,  1.24145946e-07,  3.02712401e-07],\n",
       "       [-1.33052605e-04, -2.44037699e-04,  3.16641575e-02,\n",
       "         1.34684671e-01,  1.20299972e-01,  3.11696139e-02,\n",
       "         4.81619859e-03,  1.11088693e-04, -2.68413121e-05,\n",
       "        -3.21031034e-06, -5.70967431e-06,  1.58757191e-06,\n",
       "        -1.38622238e-06,  1.84546963e-07,  4.38998995e-07],\n",
       "       [ 9.83387017e-05,  2.76924311e-04,  1.34107299e-02,\n",
       "         1.20299972e-01,  1.33561276e-01,  5.96192612e-02,\n",
       "         1.34077343e-02,  5.99708024e-04, -1.22142671e-04,\n",
       "         9.11634110e-06, -2.70352877e-05,  7.71436201e-06,\n",
       "        -6.68128807e-06,  8.79572001e-07,  2.12095555e-06],\n",
       "       [-6.52661025e-05, -1.64586067e-04,  4.49815966e-04,\n",
       "         3.11696139e-02,  5.96192612e-02,  1.33874541e-01,\n",
       "         9.22476048e-02,  4.35644486e-03,  1.52035638e-03,\n",
       "         3.13490168e-04,  1.70045578e-05, -5.28130983e-06,\n",
       "         4.45703189e-06, -5.65347378e-07, -1.42582191e-06],\n",
       "       [ 8.81779850e-06,  1.85384441e-05,  2.34558052e-05,\n",
       "         4.81619859e-03,  1.34077343e-02,  9.22476048e-02,\n",
       "         1.34238318e-01,  3.21095625e-02,  1.32290191e-02,\n",
       "         4.87634009e-03, -5.29311654e-05,  1.53912636e-05,\n",
       "        -1.32505259e-05,  1.72974014e-06,  4.21377517e-06],\n",
       "       [-3.94529343e-05, -1.04335119e-04,  8.18025394e-05,\n",
       "         1.11088693e-04,  5.99708024e-04,  4.35644486e-03,\n",
       "         3.21095625e-02,  1.34186111e-01,  1.20662771e-01,\n",
       "         9.19290190e-02,  6.62271189e-05,  1.07139641e-07,\n",
       "        -6.98676727e-07,  2.01516889e-07,  1.64742812e-07],\n",
       "       [ 1.09896439e-05,  2.83539033e-05, -1.85414777e-05,\n",
       "        -2.68413121e-05, -1.22142671e-04,  1.52035638e-03,\n",
       "         1.32290191e-02,  1.20662771e-01,  1.32522160e-01,\n",
       "         1.19879579e-01, -6.94325362e-05,  1.11256616e-04,\n",
       "        -9.95583375e-05,  1.36941893e-05,  3.13033529e-05],\n",
       "       [-1.19928149e-07, -8.45312990e-07,  3.41116995e-06,\n",
       "        -3.21031034e-06,  9.11634110e-06,  3.13490168e-04,\n",
       "         4.87634009e-03,  9.19290190e-02,  1.19879579e-01,\n",
       "         1.35396974e-01,  1.76204627e-03, -6.75779524e-05,\n",
       "         6.43228558e-05, -9.49052611e-06, -1.98906501e-05],\n",
       "       [ 2.14394650e-06,  5.56121318e-06, -3.79560315e-06,\n",
       "        -5.70967431e-06, -2.70352877e-05,  1.70045578e-05,\n",
       "        -5.29311654e-05,  6.62271189e-05, -6.94325362e-05,\n",
       "         1.76204627e-03,  1.35267762e-01,  1.39937147e-02,\n",
       "         4.65549051e-03,  3.37856317e-04,  1.02685770e-04],\n",
       "       [-6.06641530e-07, -1.57894807e-06,  1.10613735e-06,\n",
       "         1.58757191e-06,  7.71436201e-06, -5.28130983e-06,\n",
       "         1.53912636e-05,  1.07139641e-07,  1.11256616e-04,\n",
       "        -6.75779524e-05,  1.39937147e-02,  1.35166479e-01,\n",
       "         1.20011987e-01,  5.86825782e-02,  1.37500034e-02],\n",
       "       [ 5.26806478e-07,  1.36967981e-06, -9.51734104e-07,\n",
       "        -1.38622238e-06, -6.68128807e-06,  4.45703189e-06,\n",
       "        -1.32505259e-05, -6.98676727e-07, -9.95583375e-05,\n",
       "         6.43228558e-05,  4.65549051e-03,  1.20011987e-01,\n",
       "         1.33148009e-01,  9.24523742e-02,  3.15201102e-02],\n",
       "       [-6.96095449e-08, -1.80713318e-07,  1.24145946e-07,\n",
       "         1.84546963e-07,  8.79572001e-07, -5.65347378e-07,\n",
       "         1.72974014e-06,  2.01516889e-07,  1.36941893e-05,\n",
       "        -9.49052611e-06,  3.37856317e-04,  5.86825782e-02,\n",
       "         9.24523742e-02,  1.34086133e-01,  9.14819517e-02],\n",
       "       [-1.67101880e-07, -4.34597234e-07,  3.02712401e-07,\n",
       "         4.38998995e-07,  2.12095555e-06, -1.42582191e-06,\n",
       "         4.21377517e-06,  1.64742812e-07,  3.13033529e-05,\n",
       "        -1.98906501e-05,  1.02685770e-04,  1.37500034e-02,\n",
       "         3.15201102e-02,  9.14819517e-02,  1.35377616e-01]])"
      ]
     },
     "execution_count": 14,
     "metadata": {},
     "output_type": "execute_result"
    }
   ],
   "execution_count": 14
  },
  {
   "metadata": {},
   "cell_type": "markdown",
   "source": "## Debugging",
   "id": "4b6d6ebe66007e0"
  },
  {
   "metadata": {
    "ExecuteTime": {
     "end_time": "2025-06-13T11:35:23.060703Z",
     "start_time": "2025-06-13T11:35:21.129235Z"
    }
   },
   "cell_type": "code",
   "source": "magma_neg_likelihood(task_kernel, padded_inputs, padded_outputs, post_mean, post_cov, mask=masks, nugget=jnp.array(1e-10))",
   "id": "fc51cf404e3c2d97",
   "outputs": [
    {
     "data": {
      "text/plain": [
       "Array([26.451526  , 24.82051496, 31.05315503, 32.07589838, 32.72740246,\n",
       "       29.90736642, 32.8977099 , 36.70330398, 39.31643226, 34.44775989,\n",
       "       31.83923734, 25.25092831, 27.86794231, 38.3862114 , 36.28863916,\n",
       "       30.66437474, 33.41162565, 31.34470312, 27.30478917, 39.583976  ],      dtype=float64)"
      ]
     },
     "execution_count": 15,
     "metadata": {},
     "output_type": "execute_result"
    }
   ],
   "execution_count": 15
  },
  {
   "metadata": {
    "ExecuteTime": {
     "end_time": "2025-06-13T11:35:23.560538Z",
     "start_time": "2025-06-13T11:35:23.085187Z"
    }
   },
   "cell_type": "code",
   "source": "magma_neg_likelihood(mean_kernel, all_inputs, post_mean, jnp.zeros_like(all_inputs), post_cov, mask=None, nugget=jnp.array(1e-10))",
   "id": "8c341bc1b470716e",
   "outputs": [
    {
     "data": {
      "text/plain": [
       "Array(640.7648989, dtype=float64)"
      ]
     },
     "execution_count": 16,
     "metadata": {},
     "output_type": "execute_result"
    }
   ],
   "execution_count": 16
  },
  {
   "metadata": {
    "ExecuteTime": {
     "end_time": "2025-06-13T11:35:23.693105Z",
     "start_time": "2025-06-13T11:35:23.628450Z"
    }
   },
   "cell_type": "code",
   "source": [
    "task_covars = task_kernel(padded_inputs)\n",
    "np.asarray(task_covars[0])"
   ],
   "id": "a33022100d4bbf66",
   "outputs": [
    {
     "data": {
      "text/plain": [
       "array([[2.80036683e+00, 2.47786604e+00, 2.68459037e-01, 1.50226023e-03,\n",
       "        2.58600086e-04, 4.34189435e-07, 2.42966498e-09, 8.24291618e-15,\n",
       "        2.22654366e-16, 4.99744738e-18, 8.02480483e-32, 4.34864282e-44,\n",
       "        8.78693960e-47, 2.05828495e-52, 2.29847661e-58],\n",
       "       [2.47786604e+00, 2.80036683e+00, 6.17771617e-01, 7.25150848e-03,\n",
       "        1.50226023e-03, 4.39638488e-06, 3.56311206e-08, 2.53569629e-13,\n",
       "        8.24291618e-15, 2.22654366e-16, 1.30722600e-29, 1.78828412e-41,\n",
       "        4.34864282e-44, 1.47532679e-49, 2.38610445e-55],\n",
       "       [2.68459037e-01, 6.17771617e-01, 2.80036683e+00, 6.17771617e-01,\n",
       "        2.68459037e-01, 7.25150848e-03, 2.58600086e-04, 3.56311206e-08,\n",
       "        2.42966498e-09, 1.37667045e-10, 1.44438281e-21, 8.02480483e-32,\n",
       "        4.09340734e-34, 6.11062994e-39, 4.34864282e-44],\n",
       "       [1.50226023e-03, 7.25150848e-03, 6.17771617e-01, 2.80036683e+00,\n",
       "        2.47786604e+00, 6.17771617e-01, 9.69381635e-02, 2.58600086e-04,\n",
       "        3.69895326e-05, 4.39638488e-06, 8.24291618e-15, 1.85994190e-23,\n",
       "        1.99013770e-25, 1.30722600e-29, 4.09340734e-34],\n",
       "       [2.58600086e-04, 1.50226023e-03, 2.68459037e-01, 2.47786604e+00,\n",
       "        2.80036683e+00, 1.18125744e+00, 2.68459037e-01, 1.50226023e-03,\n",
       "        2.58600086e-04, 3.69895326e-05, 2.53569629e-13, 1.44438281e-21,\n",
       "        1.85994190e-23, 1.76943071e-27, 8.02480483e-32],\n",
       "       [4.34189435e-07, 4.39638488e-06, 7.25150848e-03, 6.17771617e-01,\n",
       "        1.18125744e+00, 2.80036683e+00, 1.87684259e+00, 9.69381635e-02,\n",
       "        2.90856137e-02, 7.25150848e-03, 2.42966498e-09, 2.22654366e-16,\n",
       "        4.99744738e-18, 1.44438281e-21, 1.99013770e-25],\n",
       "       [2.42966498e-09, 3.56311206e-08, 2.58600086e-04, 9.69381635e-02,\n",
       "        2.68459037e-01, 1.87684259e+00, 2.80036683e+00, 6.17771617e-01,\n",
       "        2.68459037e-01, 9.69381635e-02, 4.34189435e-07, 2.53569629e-13,\n",
       "        8.24291618e-15, 4.99744738e-18, 1.44438281e-21],\n",
       "       [8.24291618e-15, 2.53569629e-13, 3.56311206e-08, 2.58600086e-04,\n",
       "        1.50226023e-03, 9.69381635e-02, 6.17771617e-01, 2.80036683e+00,\n",
       "        2.47786604e+00, 1.87684259e+00, 1.50226023e-03, 3.56311206e-08,\n",
       "        2.42966498e-09, 6.48157084e-12, 8.24291618e-15],\n",
       "       [2.22654366e-16, 8.24291618e-15, 2.42966498e-09, 3.69895326e-05,\n",
       "        2.58600086e-04, 2.90856137e-02, 2.68459037e-01, 2.47786604e+00,\n",
       "        2.80036683e+00, 2.47786604e+00, 7.25150848e-03, 4.34189435e-07,\n",
       "        3.56311206e-08, 1.37667045e-10, 2.53569629e-13],\n",
       "       [4.99744738e-18, 2.22654366e-16, 1.37667045e-10, 4.39638488e-06,\n",
       "        3.69895326e-05, 7.25150848e-03, 9.69381635e-02, 1.87684259e+00,\n",
       "        2.47786604e+00, 2.80036683e+00, 2.90856137e-02, 4.39638488e-06,\n",
       "        4.34189435e-07, 2.42966498e-09, 6.48157084e-12],\n",
       "       [8.02480483e-32, 1.30722600e-29, 1.44438281e-21, 8.24291618e-15,\n",
       "        2.53569629e-13, 2.42966498e-09, 4.34189435e-07, 1.50226023e-03,\n",
       "        7.25150848e-03, 2.90856137e-02, 2.80036683e+00, 2.68459037e-01,\n",
       "        9.69381635e-02, 7.25150848e-03, 2.58600086e-04],\n",
       "       [4.34864282e-44, 1.78828412e-41, 8.02480483e-32, 1.85994190e-23,\n",
       "        1.44438281e-21, 2.22654366e-16, 2.53569629e-13, 3.56311206e-08,\n",
       "        4.34189435e-07, 4.39638488e-06, 2.68459037e-01, 2.80036683e+00,\n",
       "        2.47786604e+00, 1.18125744e+00, 2.68459037e-01],\n",
       "       [8.78693960e-47, 4.34864282e-44, 4.09340734e-34, 1.99013770e-25,\n",
       "        1.85994190e-23, 4.99744738e-18, 8.24291618e-15, 2.42966498e-09,\n",
       "        3.56311206e-08, 4.34189435e-07, 9.69381635e-02, 2.47786604e+00,\n",
       "        2.80036683e+00, 1.87684259e+00, 6.17771617e-01],\n",
       "       [2.05828495e-52, 1.47532679e-49, 6.11062994e-39, 1.30722600e-29,\n",
       "        1.76943071e-27, 1.44438281e-21, 4.99744738e-18, 6.48157084e-12,\n",
       "        1.37667045e-10, 2.42966498e-09, 7.25150848e-03, 1.18125744e+00,\n",
       "        1.87684259e+00, 2.80036683e+00, 1.87684259e+00],\n",
       "       [2.29847661e-58, 2.38610445e-55, 4.34864282e-44, 4.09340734e-34,\n",
       "        8.02480483e-32, 1.99013770e-25, 1.44438281e-21, 8.24291618e-15,\n",
       "        2.53569629e-13, 6.48157084e-12, 2.58600086e-04, 2.68459037e-01,\n",
       "        6.17771617e-01, 1.87684259e+00, 2.80036683e+00]])"
      ]
     },
     "execution_count": 17,
     "metadata": {},
     "output_type": "execute_result"
    }
   ],
   "execution_count": 17
  },
  {
   "metadata": {
    "ExecuteTime": {
     "end_time": "2025-06-13T11:35:23.931794Z",
     "start_time": "2025-06-13T11:35:23.738003Z"
    }
   },
   "cell_type": "code",
   "source": "magma_neg_likelihood(task_kernel, padded_inputs[0], padded_outputs[0], post_mean, post_cov, mask=masks[0], nugget=jnp.array(1e-10))",
   "id": "e0682d2a594243e6",
   "outputs": [
    {
     "data": {
      "text/plain": [
       "Array(26.451526, dtype=float64)"
      ]
     },
     "execution_count": 18,
     "metadata": {},
     "output_type": "execute_result"
    }
   ],
   "execution_count": 18
  },
  {
   "metadata": {
    "ExecuteTime": {
     "end_time": "2025-06-13T11:35:23.967583Z",
     "start_time": "2025-06-13T11:35:23.964855Z"
    }
   },
   "cell_type": "code",
   "source": [
    "r_optim_mean_kernel = SEMagmaKernel(length_scale=0.9944771, variance=6.209469)\n",
    "r_optim_task_kernel = NoisySEMagmaKernel(length_scale=0.6692923, variance=1.765444, noise=-1.579317)"
   ],
   "id": "d3c4c65e41d3e0a",
   "outputs": [],
   "execution_count": 19
  },
  {
   "metadata": {
    "ExecuteTime": {
     "end_time": "2025-06-13T14:56:28.688251Z",
     "start_time": "2025-06-13T14:56:28.684829Z"
    }
   },
   "cell_type": "code",
   "source": [
    "py_optim_mean_kernel = SEMagmaKernel(length_scale=0.9975587129592896, variance=6.232192516326904)\n",
    "py_optim_task_kernel = NoisySEMagmaKernel(length_scale=0.6336096525192261, variance=1.7702873945236206, noise=-1.7901536226272583)"
   ],
   "id": "4b24db66331229d6",
   "outputs": [],
   "execution_count": 27
  },
  {
   "metadata": {
    "ExecuteTime": {
     "end_time": "2025-06-13T14:56:31.853197Z",
     "start_time": "2025-06-13T14:56:31.789228Z"
    }
   },
   "cell_type": "code",
   "source": "r_post_mean, r_post_cov = hyperpost(padded_inputs, padded_outputs, masks, jnp.zeros_like(all_inputs), r_optim_mean_kernel, r_optim_task_kernel, nugget=jnp.array(1e-10))",
   "id": "a6e389c1a8e325ce",
   "outputs": [],
   "execution_count": 28
  },
  {
   "metadata": {
    "ExecuteTime": {
     "end_time": "2025-06-13T14:56:32.144744Z",
     "start_time": "2025-06-13T14:56:32.102475Z"
    }
   },
   "cell_type": "code",
   "source": "py_post_mean, py_post_cov = hyperpost(padded_inputs, padded_outputs, masks, jnp.zeros_like(all_inputs), py_optim_mean_kernel, py_optim_task_kernel, nugget=jnp.array(1e-10))",
   "id": "7e0c5e0ec8a6ec4a",
   "outputs": [],
   "execution_count": 29
  },
  {
   "metadata": {
    "ExecuteTime": {
     "end_time": "2025-06-13T14:56:36.934765Z",
     "start_time": "2025-06-13T14:56:36.883834Z"
    }
   },
   "cell_type": "code",
   "source": [
    "# mean likelihood comparison\n",
    "magma_neg_likelihood(r_optim_mean_kernel, all_inputs, r_post_mean, jnp.zeros_like(all_inputs), r_post_cov, mask=None, nugget=jnp.array(1e-10)), \\\n",
    "magma_neg_likelihood(py_optim_mean_kernel, all_inputs, py_post_mean, jnp.zeros_like(all_inputs), py_post_cov, mask=None, nugget=jnp.array(1e-10))"
   ],
   "id": "2045a4099721dd36",
   "outputs": [
    {
     "data": {
      "text/plain": [
       "(Array(54.75174095, dtype=float64), Array(54.76679924, dtype=float64))"
      ]
     },
     "execution_count": 30,
     "metadata": {},
     "output_type": "execute_result"
    }
   ],
   "execution_count": 30
  },
  {
   "metadata": {
    "ExecuteTime": {
     "end_time": "2025-06-13T15:20:31.472352Z",
     "start_time": "2025-06-13T14:56:49.920747Z"
    }
   },
   "cell_type": "code",
   "source": [
    "# task likelihood comparison\n",
    "magma_neg_likelihood(r_optim_task_kernel, padded_inputs, padded_outputs, r_post_mean, r_post_cov, mask=masks, nugget=jnp.array(1e-10)), \\\n",
    "magma_neg_likelihood(py_optim_task_kernel, padded_inputs, padded_outputs, py_post_mean, py_post_cov, mask=masks, nugget=jnp.array(1e-10))"
   ],
   "id": "7699e007c21c47f5",
   "outputs": [
    {
     "ename": "KeyboardInterrupt",
     "evalue": "",
     "output_type": "error",
     "traceback": [
      "\u001B[0;31m---------------------------------------------------------------------------\u001B[0m",
      "\u001B[0;31mKeyboardInterrupt\u001B[0m                         Traceback (most recent call last)",
      "Cell \u001B[0;32mIn[31], line 2\u001B[0m\n\u001B[1;32m      1\u001B[0m \u001B[38;5;66;03m# task likelihood comparison\u001B[39;00m\n\u001B[0;32m----> 2\u001B[0m magma_neg_likelihood(r_optim_task_kernel, padded_inputs, padded_outputs, r_post_mean, r_post_cov, mask\u001B[38;5;241m=\u001B[39mmasks, nugget\u001B[38;5;241m=\u001B[39mjnp\u001B[38;5;241m.\u001B[39marray(\u001B[38;5;241m1e-10\u001B[39m)), \\\n\u001B[1;32m      3\u001B[0m magma_neg_likelihood(py_optim_task_kernel, padded_inputs, padded_outputs, py_post_mean, py_post_cov, mask\u001B[38;5;241m=\u001B[39mmasks, nugget\u001B[38;5;241m=\u001B[39mjnp\u001B[38;5;241m.\u001B[39marray(\u001B[38;5;241m1e-10\u001B[39m))\n",
      "Cell \u001B[0;32mIn[5], line 23\u001B[0m, in \u001B[0;36mmagma_neg_likelihood\u001B[0;34m(kernel, inputs, outputs, mean, mean_process_cov, mask, nugget)\u001B[0m\n\u001B[1;32m     21\u001B[0m \t\u001B[38;5;28;01mreturn\u001B[39;00m res\n\u001B[1;32m     22\u001B[0m \u001B[38;5;28;01melif\u001B[39;00m inputs\u001B[38;5;241m.\u001B[39mndim \u001B[38;5;241m==\u001B[39m \u001B[38;5;241m2\u001B[39m:\n\u001B[0;32m---> 23\u001B[0m \tres \u001B[38;5;241m=\u001B[39m vmap(magma_neg_likelihood_on_cov, in_axes\u001B[38;5;241m=\u001B[39m(\u001B[38;5;241m0\u001B[39m, \u001B[38;5;241m0\u001B[39m, \u001B[38;5;28;01mNone\u001B[39;00m, \u001B[38;5;28;01mNone\u001B[39;00m, \u001B[38;5;241m0\u001B[39m, \u001B[38;5;28;01mNone\u001B[39;00m))(covar, outputs, mean,\n\u001B[1;32m     24\u001B[0m \t                                                                              mean_process_cov, mask, nugget)\n\u001B[1;32m     25\u001B[0m \t\u001B[38;5;28;01mreturn\u001B[39;00m res\n\u001B[1;32m     26\u001B[0m \u001B[38;5;28;01melse\u001B[39;00m:\n",
      "    \u001B[0;31m[... skipping hidden 1 frame]\u001B[0m\n",
      "File \u001B[0;32m/opt/anaconda3/envs/MagmaClustPy/lib/python3.12/site-packages/jax/_src/api.py:1017\u001B[0m, in \u001B[0;36mvmap.<locals>.vmap_f\u001B[0;34m(*args, **kwargs)\u001B[0m\n\u001B[1;32m   1014\u001B[0m \u001B[38;5;28;01mtry\u001B[39;00m:\n\u001B[1;32m   1015\u001B[0m   axis_data \u001B[38;5;241m=\u001B[39m batching\u001B[38;5;241m.\u001B[39mAxisData(axis_name, axis_size_, spmd_axis_name,\n\u001B[1;32m   1016\u001B[0m                                 explicit_mesh_axis)\n\u001B[0;32m-> 1017\u001B[0m   out_flat \u001B[38;5;241m=\u001B[39m batching\u001B[38;5;241m.\u001B[39mbatch(\n\u001B[1;32m   1018\u001B[0m       flat_fun, axis_data, in_axes_flat,\n\u001B[1;32m   1019\u001B[0m       \u001B[38;5;28;01mlambda\u001B[39;00m: flatten_axes(\u001B[38;5;124m\"\u001B[39m\u001B[38;5;124mvmap out_axes\u001B[39m\u001B[38;5;124m\"\u001B[39m, out_tree(), out_axes)\n\u001B[1;32m   1020\u001B[0m   )\u001B[38;5;241m.\u001B[39mcall_wrapped(\u001B[38;5;241m*\u001B[39margs_flat)\n\u001B[1;32m   1021\u001B[0m \u001B[38;5;28;01mexcept\u001B[39;00m batching\u001B[38;5;241m.\u001B[39mSpecMatchError \u001B[38;5;28;01mas\u001B[39;00m e:\n\u001B[1;32m   1022\u001B[0m   out_axes_flat \u001B[38;5;241m=\u001B[39m flatten_axes(\u001B[38;5;124m\"\u001B[39m\u001B[38;5;124mvmap out_axes\u001B[39m\u001B[38;5;124m\"\u001B[39m, out_tree(), out_axes)\n",
      "File \u001B[0;32m/opt/anaconda3/envs/MagmaClustPy/lib/python3.12/site-packages/jax/_src/linear_util.py:210\u001B[0m, in \u001B[0;36mWrappedFun.call_wrapped\u001B[0;34m(self, *args, **kwargs)\u001B[0m\n\u001B[1;32m    208\u001B[0m \u001B[38;5;28;01mdef\u001B[39;00m \u001B[38;5;21mcall_wrapped\u001B[39m(\u001B[38;5;28mself\u001B[39m, \u001B[38;5;241m*\u001B[39margs, \u001B[38;5;241m*\u001B[39m\u001B[38;5;241m*\u001B[39mkwargs):\n\u001B[1;32m    209\u001B[0m \u001B[38;5;250m  \u001B[39m\u001B[38;5;124;03m\"\"\"Calls the transformed function\"\"\"\u001B[39;00m\n\u001B[0;32m--> 210\u001B[0m   \u001B[38;5;28;01mreturn\u001B[39;00m \u001B[38;5;28mself\u001B[39m\u001B[38;5;241m.\u001B[39mf_transformed(\u001B[38;5;241m*\u001B[39margs, \u001B[38;5;241m*\u001B[39m\u001B[38;5;241m*\u001B[39mkwargs)\n",
      "File \u001B[0;32m/opt/anaconda3/envs/MagmaClustPy/lib/python3.12/site-packages/jax/_src/interpreters/batching.py:608\u001B[0m, in \u001B[0;36m_batch_outer\u001B[0;34m(f, axis_data, in_dims, *in_vals)\u001B[0m\n\u001B[1;32m    606\u001B[0m tag \u001B[38;5;241m=\u001B[39m TraceTag()\n\u001B[1;32m    607\u001B[0m \u001B[38;5;28;01mwith\u001B[39;00m source_info_util\u001B[38;5;241m.\u001B[39mtransform_name_stack(\u001B[38;5;124m'\u001B[39m\u001B[38;5;124mvmap\u001B[39m\u001B[38;5;124m'\u001B[39m):\n\u001B[0;32m--> 608\u001B[0m   outs, trace \u001B[38;5;241m=\u001B[39m f(tag, in_dims, \u001B[38;5;241m*\u001B[39min_vals)\n\u001B[1;32m    609\u001B[0m \u001B[38;5;28;01mwith\u001B[39;00m core\u001B[38;5;241m.\u001B[39mensure_no_leaks(trace): \u001B[38;5;28;01mdel\u001B[39;00m trace\n\u001B[1;32m    610\u001B[0m \u001B[38;5;28;01mreturn\u001B[39;00m outs\n",
      "File \u001B[0;32m/opt/anaconda3/envs/MagmaClustPy/lib/python3.12/site-packages/jax/_src/interpreters/batching.py:623\u001B[0m, in \u001B[0;36m_batch_inner\u001B[0;34m(f, axis_data, out_dim_dests, tag, in_dims, *in_vals)\u001B[0m\n\u001B[1;32m    619\u001B[0m   in_tracers \u001B[38;5;241m=\u001B[39m \u001B[38;5;28mmap\u001B[39m(partial(to_elt, trace, idx), in_vals, in_dims)\n\u001B[1;32m    620\u001B[0m   \u001B[38;5;28;01mwith\u001B[39;00m (core\u001B[38;5;241m.\u001B[39mset_current_trace(trace),\n\u001B[1;32m    621\u001B[0m         core\u001B[38;5;241m.\u001B[39mextend_axis_env_nd([(axis_data\u001B[38;5;241m.\u001B[39mname, axis_data\u001B[38;5;241m.\u001B[39msize)]),\n\u001B[1;32m    622\u001B[0m         core\u001B[38;5;241m.\u001B[39madd_spmd_axis_names(axis_data\u001B[38;5;241m.\u001B[39mspmd_name)):\n\u001B[0;32m--> 623\u001B[0m     outs \u001B[38;5;241m=\u001B[39m f(\u001B[38;5;241m*\u001B[39min_tracers)\n\u001B[1;32m    625\u001B[0m out_dim_dests \u001B[38;5;241m=\u001B[39m out_dim_dests() \u001B[38;5;28;01mif\u001B[39;00m \u001B[38;5;28mcallable\u001B[39m(out_dim_dests) \u001B[38;5;28;01melse\u001B[39;00m out_dim_dests\n\u001B[1;32m    626\u001B[0m out_vals \u001B[38;5;241m=\u001B[39m \u001B[38;5;28mmap\u001B[39m(partial(from_elt, trace, axis_data\u001B[38;5;241m.\u001B[39msize,\n\u001B[1;32m    627\u001B[0m                        axis_data\u001B[38;5;241m.\u001B[39mexplicit_mesh_axis),\n\u001B[1;32m    628\u001B[0m                \u001B[38;5;28mrange\u001B[39m(\u001B[38;5;28mlen\u001B[39m(outs)), outs, out_dim_dests)\n",
      "File \u001B[0;32m/opt/anaconda3/envs/MagmaClustPy/lib/python3.12/site-packages/jax/_src/interpreters/batching.py:342\u001B[0m, in \u001B[0;36mflatten_fun_for_vmap\u001B[0;34m(f, store, in_tree, *args_flat)\u001B[0m\n\u001B[1;32m    338\u001B[0m \u001B[38;5;129m@lu\u001B[39m\u001B[38;5;241m.\u001B[39mtransformation_with_aux2\n\u001B[1;32m    339\u001B[0m \u001B[38;5;28;01mdef\u001B[39;00m \u001B[38;5;21mflatten_fun_for_vmap\u001B[39m(f: Callable,\n\u001B[1;32m    340\u001B[0m                          store: lu\u001B[38;5;241m.\u001B[39mStore, in_tree: PyTreeDef, \u001B[38;5;241m*\u001B[39margs_flat):\n\u001B[1;32m    341\u001B[0m   py_args, py_kwargs \u001B[38;5;241m=\u001B[39m tree_unflatten(in_tree, args_flat)\n\u001B[0;32m--> 342\u001B[0m   ans \u001B[38;5;241m=\u001B[39m f(\u001B[38;5;241m*\u001B[39mpy_args, \u001B[38;5;241m*\u001B[39m\u001B[38;5;241m*\u001B[39mpy_kwargs)\n\u001B[1;32m    343\u001B[0m   ans, out_tree \u001B[38;5;241m=\u001B[39m tree_flatten(ans, is_leaf\u001B[38;5;241m=\u001B[39mis_vmappable)\n\u001B[1;32m    344\u001B[0m   store\u001B[38;5;241m.\u001B[39mstore(out_tree)\n",
      "File \u001B[0;32m/opt/anaconda3/envs/MagmaClustPy/lib/python3.12/site-packages/jax/_src/linear_util.py:388\u001B[0m, in \u001B[0;36m_get_result_paths_thunk\u001B[0;34m(_fun, _store, *args, **kwargs)\u001B[0m\n\u001B[1;32m    386\u001B[0m \u001B[38;5;129m@transformation_with_aux2\u001B[39m\n\u001B[1;32m    387\u001B[0m \u001B[38;5;28;01mdef\u001B[39;00m \u001B[38;5;21m_get_result_paths_thunk\u001B[39m(_fun: Callable, _store: Store, \u001B[38;5;241m*\u001B[39margs, \u001B[38;5;241m*\u001B[39m\u001B[38;5;241m*\u001B[39mkwargs):\n\u001B[0;32m--> 388\u001B[0m   ans \u001B[38;5;241m=\u001B[39m _fun(\u001B[38;5;241m*\u001B[39margs, \u001B[38;5;241m*\u001B[39m\u001B[38;5;241m*\u001B[39mkwargs)\n\u001B[1;32m    389\u001B[0m   result_paths \u001B[38;5;241m=\u001B[39m \u001B[38;5;28mtuple\u001B[39m(\u001B[38;5;124mf\u001B[39m\u001B[38;5;124m\"\u001B[39m\u001B[38;5;124mresult\u001B[39m\u001B[38;5;132;01m{\u001B[39;00m_clean_keystr_arg_names(path)\u001B[38;5;132;01m}\u001B[39;00m\u001B[38;5;124m\"\u001B[39m \u001B[38;5;28;01mfor\u001B[39;00m path, _ \u001B[38;5;129;01min\u001B[39;00m generate_key_paths(ans))\n\u001B[1;32m    390\u001B[0m   \u001B[38;5;28;01mif\u001B[39;00m _store:\n\u001B[1;32m    391\u001B[0m     \u001B[38;5;66;03m# In some instances a lu.WrappedFun is called multiple times, e.g.,\u001B[39;00m\n\u001B[1;32m    392\u001B[0m     \u001B[38;5;66;03m# the bwd function in a custom_vjp\u001B[39;00m\n",
      "Cell \u001B[0;32mIn[26], line 33\u001B[0m, in \u001B[0;36mmagma_neg_likelihood_on_cov\u001B[0;34m(covar, outputs, mean, mean_process_cov, mask, nugget)\u001B[0m\n\u001B[1;32m     30\u001B[0m \tnll_pad_correction \u001B[38;5;241m=\u001B[39m \u001B[38;5;241m0\u001B[39m\n\u001B[1;32m     31\u001B[0m \tcorr_pad_correction \u001B[38;5;241m=\u001B[39m \u001B[38;5;241m0\u001B[39m\n\u001B[0;32m---> 33\u001B[0m \u001B[38;5;28;01mreturn\u001B[39;00m (multiv_neg_log_lik \u001B[38;5;241m-\u001B[39m nll_pad_correction) \u001B[38;5;241m+\u001B[39m (correction \u001B[38;5;241m-\u001B[39m corr_pad_correction)\n",
      "File \u001B[0;32m_pydevd_bundle/pydevd_cython_darwin_312_64.pyx:1187\u001B[0m, in \u001B[0;36m_pydevd_bundle.pydevd_cython_darwin_312_64.SafeCallWrapper.__call__\u001B[0;34m()\u001B[0m\n",
      "File \u001B[0;32m_pydevd_bundle/pydevd_cython_darwin_312_64.pyx:627\u001B[0m, in \u001B[0;36m_pydevd_bundle.pydevd_cython_darwin_312_64.PyDBFrame.trace_dispatch\u001B[0;34m()\u001B[0m\n",
      "File \u001B[0;32m_pydevd_bundle/pydevd_cython_darwin_312_64.pyx:937\u001B[0m, in \u001B[0;36m_pydevd_bundle.pydevd_cython_darwin_312_64.PyDBFrame.trace_dispatch\u001B[0;34m()\u001B[0m\n",
      "File \u001B[0;32m_pydevd_bundle/pydevd_cython_darwin_312_64.pyx:928\u001B[0m, in \u001B[0;36m_pydevd_bundle.pydevd_cython_darwin_312_64.PyDBFrame.trace_dispatch\u001B[0;34m()\u001B[0m\n",
      "File \u001B[0;32m_pydevd_bundle/pydevd_cython_darwin_312_64.pyx:585\u001B[0m, in \u001B[0;36m_pydevd_bundle.pydevd_cython_darwin_312_64.PyDBFrame.do_wait_suspend\u001B[0;34m()\u001B[0m\n",
      "File \u001B[0;32m~/Applications/DataSpell.app/Contents/plugins/python-ce/helpers/pydev/pydevd.py:1220\u001B[0m, in \u001B[0;36mPyDB.do_wait_suspend\u001B[0;34m(self, thread, frame, event, arg, send_suspend_message, is_unhandled_exception)\u001B[0m\n\u001B[1;32m   1217\u001B[0m         from_this_thread\u001B[38;5;241m.\u001B[39mappend(frame_id)\n\u001B[1;32m   1219\u001B[0m \u001B[38;5;28;01mwith\u001B[39;00m \u001B[38;5;28mself\u001B[39m\u001B[38;5;241m.\u001B[39m_threads_suspended_single_notification\u001B[38;5;241m.\u001B[39mnotify_thread_suspended(thread_id, stop_reason):\n\u001B[0;32m-> 1220\u001B[0m     \u001B[38;5;28mself\u001B[39m\u001B[38;5;241m.\u001B[39m_do_wait_suspend(thread, frame, event, arg, suspend_type, from_this_thread)\n",
      "File \u001B[0;32m~/Applications/DataSpell.app/Contents/plugins/python-ce/helpers/pydev/pydevd.py:1235\u001B[0m, in \u001B[0;36mPyDB._do_wait_suspend\u001B[0;34m(self, thread, frame, event, arg, suspend_type, from_this_thread)\u001B[0m\n\u001B[1;32m   1232\u001B[0m             \u001B[38;5;28mself\u001B[39m\u001B[38;5;241m.\u001B[39m_call_mpl_hook()\n\u001B[1;32m   1234\u001B[0m         \u001B[38;5;28mself\u001B[39m\u001B[38;5;241m.\u001B[39mprocess_internal_commands()\n\u001B[0;32m-> 1235\u001B[0m         time\u001B[38;5;241m.\u001B[39msleep(\u001B[38;5;241m0.01\u001B[39m)\n\u001B[1;32m   1237\u001B[0m \u001B[38;5;28mself\u001B[39m\u001B[38;5;241m.\u001B[39mcancel_async_evaluation(get_current_thread_id(thread), \u001B[38;5;28mstr\u001B[39m(\u001B[38;5;28mid\u001B[39m(frame)))\n\u001B[1;32m   1239\u001B[0m \u001B[38;5;66;03m# process any stepping instructions\u001B[39;00m\n",
      "\u001B[0;31mKeyboardInterrupt\u001B[0m: "
     ]
    }
   ],
   "execution_count": 31
  },
  {
   "metadata": {
    "ExecuteTime": {
     "end_time": "2025-06-13T11:35:24.554934Z",
     "start_time": "2025-06-13T11:35:24.450264Z"
    }
   },
   "cell_type": "code",
   "source": [
    "magma_neg_likelihood(r_optim_task_kernel, padded_inputs, padded_outputs, post_mean, post_cov, mask=masks, nugget=jnp.array(1e-10)).sum(), \\\n",
    "magma_neg_likelihood(py_optim_task_kernel, padded_inputs, padded_outputs, post_mean, post_cov, mask=masks, nugget=jnp.array(1e-10)).sum()"
   ],
   "id": "e8f0152a4b269c75",
   "outputs": [
    {
     "data": {
      "text/plain": [
       "(Array(581.69145319, dtype=float64), Array(584.24812619, dtype=float64))"
      ]
     },
     "execution_count": 25,
     "metadata": {},
     "output_type": "execute_result"
    }
   ],
   "execution_count": 25
  },
  {
   "metadata": {
    "ExecuteTime": {
     "end_time": "2025-06-13T11:35:24.569880Z",
     "start_time": "2025-06-13T11:35:24.568234Z"
    }
   },
   "cell_type": "code",
   "source": "",
   "id": "6bf64aa241b507f",
   "outputs": [],
   "execution_count": null
  }
 ],
 "metadata": {
  "kernelspec": {
   "display_name": "Python 3",
   "language": "python",
   "name": "python3"
  },
  "language_info": {
   "codemirror_mode": {
    "name": "ipython",
    "version": 2
   },
   "file_extension": ".py",
   "mimetype": "text/x-python",
   "name": "python",
   "nbconvert_exporter": "python",
   "pygments_lexer": "ipython2",
   "version": "2.7.6"
  }
 },
 "nbformat": 4,
 "nbformat_minor": 5
}
