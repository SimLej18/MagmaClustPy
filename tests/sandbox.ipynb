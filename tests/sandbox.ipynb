{
 "cells": [
  {
   "metadata": {},
   "cell_type": "markdown",
   "source": "# Sandbox to run any code you want :)",
   "id": "f69390d194b35b0a"
  },
  {
   "metadata": {},
   "cell_type": "markdown",
   "source": [
    "---\n",
    "## Setup"
   ],
   "id": "4763c6a1086dfd7a"
  },
  {
   "metadata": {
    "ExecuteTime": {
     "end_time": "2025-07-11T12:45:19.988603Z",
     "start_time": "2025-07-11T12:45:19.985199Z"
    }
   },
   "cell_type": "code",
   "source": [
    "# Jax configuration\n",
    "USE_JIT = True\n",
    "USE_X64 = False\n",
    "DEBUG_NANS = False\n",
    "VERBOSE = False"
   ],
   "id": "70027bed008727cd",
   "outputs": [],
   "execution_count": 1
  },
  {
   "metadata": {
    "ExecuteTime": {
     "end_time": "2025-07-11T12:45:20.001245Z",
     "start_time": "2025-07-11T12:45:19.996581Z"
    }
   },
   "cell_type": "code",
   "source": [
    "# Standard library imports\n",
    "import os\n",
    "os.environ['JAX_ENABLE_X64'] = str(USE_X64).lower()\n",
    "\n",
    "import logging\n",
    "logging.basicConfig(level=logging.INFO, format='%(asctime)s - %(levelname)s - %(message)s')"
   ],
   "id": "eb0046b46dc27950",
   "outputs": [],
   "execution_count": 2
  },
  {
   "metadata": {
    "ExecuteTime": {
     "end_time": "2025-07-11T12:45:20.995235Z",
     "start_time": "2025-07-11T12:45:20.105565Z"
    }
   },
   "cell_type": "code",
   "source": [
    "# Third party\n",
    "import jax\n",
    "jax.config.update(\"jax_disable_jit\", not USE_JIT)\n",
    "jax.config.update(\"jax_debug_nans\", DEBUG_NANS)\n",
    "\n",
    "from jax import jit\n",
    "from jax.tree_util import register_pytree_node_class\n",
    "from jax import numpy as jnp\n",
    "from jax.lax import cond\n",
    "\n",
    "import pandas as pd\n",
    "import numpy as np"
   ],
   "id": "a1fe8b76912d6f2c",
   "outputs": [],
   "execution_count": 3
  },
  {
   "metadata": {
    "ExecuteTime": {
     "end_time": "2025-07-11T12:45:21.291285Z",
     "start_time": "2025-07-11T12:45:21.005630Z"
    }
   },
   "cell_type": "code",
   "source": [
    "# Local imports\n",
    "from Kernax import SEMagmaKernel, DiagKernel, ExpKernel\n",
    "from MagmaClustPy.hyperpost import hyperpost\n",
    "from MagmaClustPy.hp_optimisation import optimise_hyperparameters\n",
    "from MagmaClustPy.utils import preprocess_db"
   ],
   "id": "4b255f340edfbe6f",
   "outputs": [
    {
     "name": "stderr",
     "output_type": "stream",
     "text": [
      "INFO:2025-07-11 14:45:21,148:jax._src.xla_bridge:752: Unable to initialize backend 'tpu': INTERNAL: Failed to open libtpu.so: dlopen(libtpu.so, 0x0001): tried: 'libtpu.so' (no such file), '/System/Volumes/Preboot/Cryptexes/OSlibtpu.so' (no such file), '/opt/anaconda3/envs/MagmaClustPy/bin/../lib/libtpu.so' (no such file), '/usr/lib/libtpu.so' (no such file, not in dyld cache), 'libtpu.so' (no such file)\n",
      "2025-07-11 14:45:21,148 - INFO - Unable to initialize backend 'tpu': INTERNAL: Failed to open libtpu.so: dlopen(libtpu.so, 0x0001): tried: 'libtpu.so' (no such file), '/System/Volumes/Preboot/Cryptexes/OSlibtpu.so' (no such file), '/opt/anaconda3/envs/MagmaClustPy/bin/../lib/libtpu.so' (no such file), '/usr/lib/libtpu.so' (no such file, not in dyld cache), 'libtpu.so' (no such file)\n"
     ]
    }
   ],
   "execution_count": 4
  },
  {
   "metadata": {
    "ExecuteTime": {
     "end_time": "2025-07-11T12:45:21.304704Z",
     "start_time": "2025-07-11T12:45:21.302227Z"
    }
   },
   "cell_type": "code",
   "source": "# Config",
   "id": "3180afa8778f9553",
   "outputs": [],
   "execution_count": 5
  },
  {
   "metadata": {},
   "cell_type": "markdown",
   "source": [
    "---\n",
    "## Data"
   ],
   "id": "190fcef7dd61821b"
  },
  {
   "metadata": {
    "ExecuteTime": {
     "end_time": "2025-07-11T12:45:21.326021Z",
     "start_time": "2025-07-11T12:45:21.319476Z"
    }
   },
   "cell_type": "code",
   "source": "",
   "id": "b36bdb0b6080e935",
   "outputs": [],
   "execution_count": null
  },
  {
   "metadata": {},
   "cell_type": "markdown",
   "source": [
    "---\n",
    "## Sandbox"
   ],
   "id": "bffd41fea2028bdb"
  },
  {
   "metadata": {
    "ExecuteTime": {
     "end_time": "2025-07-11T12:45:21.343982Z",
     "start_time": "2025-07-11T12:45:21.341736Z"
    }
   },
   "cell_type": "code",
   "source": "",
   "id": "5de6fcef36a19d83",
   "outputs": [],
   "execution_count": null
  },
  {
   "metadata": {
    "ExecuteTime": {
     "end_time": "2025-07-11T12:45:21.361872Z",
     "start_time": "2025-07-11T12:45:21.358548Z"
    }
   },
   "cell_type": "code",
   "source": "",
   "id": "e00d28413733ef9a",
   "outputs": [],
   "execution_count": null
  },
  {
   "metadata": {},
   "cell_type": "markdown",
   "source": "---",
   "id": "f18216d93ddcf3af"
  }
 ],
 "metadata": {
  "kernelspec": {
   "display_name": "Python 3",
   "language": "python",
   "name": "python3"
  },
  "language_info": {
   "codemirror_mode": {
    "name": "ipython",
    "version": 2
   },
   "file_extension": ".py",
   "mimetype": "text/x-python",
   "name": "python",
   "nbconvert_exporter": "python",
   "pygments_lexer": "ipython2",
   "version": "2.7.6"
  }
 },
 "nbformat": 4,
 "nbformat_minor": 5
}
