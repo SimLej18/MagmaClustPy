{
 "cells": [
  {
   "metadata": {},
   "cell_type": "markdown",
   "source": [
    "# Benchmarks - [thing]\n",
    "\n",
    "**Main considerations when implementing [thing]**\n"
   ],
   "id": "f69390d194b35b0a"
  },
  {
   "metadata": {},
   "cell_type": "markdown",
   "source": [
    "---\n",
    "## Setup"
   ],
   "id": "4763c6a1086dfd7a"
  },
  {
   "metadata": {
    "ExecuteTime": {
     "end_time": "2025-05-27T09:46:35.961464Z",
     "start_time": "2025-05-27T09:46:35.937307Z"
    }
   },
   "cell_type": "code",
   "source": [
    "# Standard library\n",
    "import os\n",
    "\n",
    "os.environ['JAX_ENABLE_X64'] = \"True\""
   ],
   "id": "eb0046b46dc27950",
   "outputs": [],
   "execution_count": 26
  },
  {
   "metadata": {
    "ExecuteTime": {
     "end_time": "2025-05-27T09:46:35.988640Z",
     "start_time": "2025-05-27T09:46:35.980306Z"
    }
   },
   "cell_type": "code",
   "source": [
    "# Third party\n",
    "from jax import jit\n",
    "from jax.tree_util import register_pytree_node_class\n",
    "from jax import numpy as jnp\n",
    "from jax.lax import cond\n",
    "\n",
    "import numpy as np"
   ],
   "id": "a1fe8b76912d6f2c",
   "outputs": [],
   "execution_count": 27
  },
  {
   "metadata": {
    "ExecuteTime": {
     "end_time": "2025-05-27T09:46:36.045434Z",
     "start_time": "2025-05-27T09:46:36.031363Z"
    }
   },
   "cell_type": "code",
   "source": [
    "# Local\n",
    "from MagmaClustPy.kernels import AbstractKernel, RBFKernel, SEMagmaKernel"
   ],
   "id": "4b255f340edfbe6f",
   "outputs": [],
   "execution_count": 28
  },
  {
   "metadata": {
    "ExecuteTime": {
     "end_time": "2025-05-27T09:46:36.064751Z",
     "start_time": "2025-05-27T09:46:36.055853Z"
    }
   },
   "cell_type": "code",
   "source": "# Config",
   "id": "3180afa8778f9553",
   "outputs": [],
   "execution_count": 29
  },
  {
   "metadata": {},
   "cell_type": "markdown",
   "source": [
    "---\n",
    "## Data"
   ],
   "id": "190fcef7dd61821b"
  },
  {
   "metadata": {
    "ExecuteTime": {
     "end_time": "2025-05-27T09:46:36.105879Z",
     "start_time": "2025-05-27T09:46:36.086967Z"
    }
   },
   "cell_type": "code",
   "source": "inputs = jnp.array([0.40, 4.45, 7.60, 8.30, 3.50, 5.10, 8.85, 9.35])",
   "id": "b36bdb0b6080e935",
   "outputs": [],
   "execution_count": 30
  },
  {
   "metadata": {},
   "cell_type": "markdown",
   "source": [
    "---\n",
    "## Current implementation"
   ],
   "id": "bffd41fea2028bdb"
  },
  {
   "metadata": {
    "ExecuteTime": {
     "end_time": "2025-05-27T09:46:36.277985Z",
     "start_time": "2025-05-27T09:46:36.257068Z"
    }
   },
   "cell_type": "code",
   "source": [
    "@register_pytree_node_class\n",
    "class NoiseKernel(AbstractKernel):\n",
    "\tdef __init__(self, inner_kernel, noise=None, **kwargs):\n",
    "\t\tif noise is None:\n",
    "\t\t\tnoise = jnp.array([-1.])\n",
    "\t\tsuper().__init__(inner_kernel=inner_kernel, noise=noise, **kwargs)\n",
    "\n",
    "\t@jit\n",
    "\tdef compute_scalar(self, x1: jnp.ndarray, x2: jnp.ndarray, inner_kernel=None, noise=None) -> jnp.ndarray:\n",
    "\t\treturn cond(x1 == x2, lambda _: inner_kernel(x1, x2) + jnp.exp(noise), lambda _: inner_kernel(x1, x2), None)\n",
    "\n",
    "\tdef __str__(self):\n",
    "\t\treturn f\"Noisy{super().__class__.__name__}({', '.join([f'{key}={value}' for key, value in super().__dict__.items()])}, noise={self.noise})\""
   ],
   "id": "6b7e730087bbca42",
   "outputs": [],
   "execution_count": 31
  },
  {
   "metadata": {},
   "cell_type": "markdown",
   "source": [
    "---\n",
    "## Custom implementation(s)"
   ],
   "id": "c7496288f6ddf25f"
  },
  {
   "metadata": {
    "ExecuteTime": {
     "end_time": "2025-05-27T09:46:36.348636Z",
     "start_time": "2025-05-27T09:46:36.334676Z"
    }
   },
   "cell_type": "code",
   "source": "jnp.exp(-2.5)",
   "id": "5de6fcef36a19d83",
   "outputs": [
    {
     "data": {
      "text/plain": [
       "Array(0.082085, dtype=float64, weak_type=True)"
      ]
     },
     "execution_count": 32,
     "metadata": {},
     "output_type": "execute_result"
    }
   ],
   "execution_count": 32
  },
  {
   "metadata": {},
   "cell_type": "markdown",
   "source": [
    "---\n",
    "## Comparison"
   ],
   "id": "88fdaed3f55aae3a"
  },
  {
   "metadata": {
    "ExecuteTime": {
     "end_time": "2025-05-27T09:46:36.507356Z",
     "start_time": "2025-05-27T09:46:36.494204Z"
    }
   },
   "cell_type": "code",
   "source": "noise_kern = NoiseKernel(inner_kernel=SEMagmaKernel(length_scale=jnp.array(0.3), variance=jnp.array(1.)), noise=jnp.array(-2.5))",
   "id": "9e4541ca06271c07",
   "outputs": [],
   "execution_count": 33
  },
  {
   "metadata": {
    "ExecuteTime": {
     "end_time": "2025-05-27T09:46:36.696229Z",
     "start_time": "2025-05-27T09:46:36.534704Z"
    }
   },
   "cell_type": "code",
   "source": "np.asarray(noise_kern(inputs))",
   "id": "70bf62c40e20b339",
   "outputs": [
    {
     "data": {
      "text/plain": [
       "array([[2.80036683e+00, 6.24711556e-03, 1.24442362e-08, 2.48089245e-10,\n",
       "        7.73332286e-02, 7.59889715e-04, 8.87186129e-12, 3.53569699e-13],\n",
       "       [6.24711556e-03, 2.80036683e+00, 6.88803459e-02, 1.12162794e-02,\n",
       "        1.94586338e+00, 2.32449347e+00, 2.08889434e-03, 3.73152737e-04],\n",
       "       [1.24442362e-08, 6.88803459e-02, 2.80036683e+00, 2.26709559e+00,\n",
       "        5.37188104e-03, 2.68459037e-01, 1.52384351e+00, 8.74259619e-01],\n",
       "       [2.48089245e-10, 1.12162794e-02, 2.26709559e+00, 2.80036683e+00,\n",
       "        5.34474839e-04, 6.12378823e-02, 2.43014577e+00, 1.80692039e+00],\n",
       "       [7.73332286e-02, 1.94586338e+00, 5.37188104e-03, 5.34474839e-04,\n",
       "        2.80036683e+00, 1.05311525e+00, 6.75910648e-05, 8.49251154e-06],\n",
       "       [7.59889715e-04, 2.32449347e+00, 2.68459037e-01, 6.12378823e-02,\n",
       "        1.05311525e+00, 2.80036683e+00, 1.48630336e-02, 3.37785443e-03],\n",
       "       [8.87186129e-12, 2.08889434e-03, 1.52384351e+00, 2.43014577e+00,\n",
       "        6.75910648e-05, 1.48630336e-02, 2.80036683e+00, 2.47786604e+00],\n",
       "       [3.53569699e-13, 3.73152737e-04, 8.74259619e-01, 1.80692039e+00,\n",
       "        8.49251154e-06, 3.37785443e-03, 2.47786604e+00, 2.80036683e+00]])"
      ]
     },
     "execution_count": 34,
     "metadata": {},
     "output_type": "execute_result"
    }
   ],
   "execution_count": 34
  },
  {
   "metadata": {},
   "cell_type": "markdown",
   "source": [
    "---\n",
    "## Conclusion"
   ],
   "id": "40eac9ed87ce043e"
  },
  {
   "metadata": {
    "ExecuteTime": {
     "end_time": "2025-05-27T09:46:36.813596Z",
     "start_time": "2025-05-27T09:46:36.806558Z"
    }
   },
   "cell_type": "code",
   "source": "",
   "id": "e00d28413733ef9a",
   "outputs": [],
   "execution_count": null
  },
  {
   "metadata": {},
   "cell_type": "markdown",
   "source": "---",
   "id": "f18216d93ddcf3af"
  }
 ],
 "metadata": {
  "kernelspec": {
   "display_name": "Python 3",
   "language": "python",
   "name": "python3"
  },
  "language_info": {
   "codemirror_mode": {
    "name": "ipython",
    "version": 2
   },
   "file_extension": ".py",
   "mimetype": "text/x-python",
   "name": "python",
   "nbconvert_exporter": "python",
   "pygments_lexer": "ipython2",
   "version": "2.7.6"
  }
 },
 "nbformat": 4,
 "nbformat_minor": 5
}
